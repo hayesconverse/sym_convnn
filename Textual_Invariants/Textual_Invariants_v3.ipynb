{
  "nbformat": 4,
  "nbformat_minor": 0,
  "metadata": {
    "colab": {
      "name": "Textual Invariants v3 [Drive COPY].ipynb",
      "version": "0.3.2",
      "provenance": [],
      "collapsed_sections": [
        "Jv3U6Xs_T2el",
        "iG5Fq5GIkP6u",
        "jU7SHWilyZjc"
      ]
    },
    "kernelspec": {
      "name": "python2",
      "display_name": "Python 2"
    },
    "accelerator": "GPU"
  },
  "cells": [
    {
      "cell_type": "code",
      "metadata": {
        "id": "t-JL_MKop5Qh",
        "colab_type": "code",
        "colab": {}
      },
      "source": [
        "import math\n",
        "import io\n",
        "import os\n",
        "import time\n",
        "import datetime\n",
        "import csv\n",
        "import re\n",
        "\n",
        "import numpy as np\n",
        "import matplotlib.pyplot as plt\n",
        "import tensorflow as tf\n",
        "\n",
        "import operator\n",
        "import pandas as pd\n",
        "\n",
        "from io import open\n",
        "from collections import namedtuple\n",
        "from sklearn import tree\n",
        "from tqdm import tqdm\n",
        "\n",
        "from tensorflow.examples.tutorials.mnist import input_data\n",
        "from tensorflow.contrib import learn\n",
        "\n"
      ],
      "execution_count": 0,
      "outputs": []
    },
    {
      "cell_type": "code",
      "metadata": {
        "id": "j2jr1rcJZPdb",
        "colab_type": "code",
        "colab": {}
      },
      "source": [
        "import pandas as pd\n",
        "pd.options.display.max_rows = 500\n",
        "pd.options.display.precision = 2\n",
        "pd.options.display.max_colwidth = -1\n",
        "pd.set_option('display.expand_frame_repr', False)\n",
        "pd.set_option('display.max_colwidth', -1)"
      ],
      "execution_count": 0,
      "outputs": []
    },
    {
      "cell_type": "markdown",
      "metadata": {
        "id": "d98vYNy_TWi1",
        "colab_type": "text"
      },
      "source": [
        "## Training a Sentiment network (3 conv layers (for bigrams, trigrams and quadgrams) + 1 fully connected)\n",
        "\n"
      ]
    },
    {
      "cell_type": "code",
      "metadata": {
        "id": "ns8_eYDFReWq",
        "colab_type": "code",
        "colab": {}
      },
      "source": [
        "#Yoon Kim's Convolutional Neural Networks for Sentence Classification paper, implemented in Tensorflow by Denny Britz, mostly copied from his Github repo.\n",
        "# This uses some different settings than the paper, like learning embeddings instead of using word2vec (or using both), using another dataset, not SST (Stanford Sentiment Treebank), not having L2 regularization.\n",
        "# TODO - Add options for those settings as well, making it more faithful to the paper.\n",
        "\n",
        "#Fix for flags\n",
        "tf.app.flags.DEFINE_string('f', '', 'kernel')\n",
        "\n",
        "#Dataset info\n",
        "tf.flags.DEFINE_float(\"dev_sample_percentage\", .1, \"Percentage of the training data to use for validation\")\n",
        "tf.flags.DEFINE_string(\"positive_data_file\", \"./data/rt-polaritydata/rt-polarity.pos\", \"Data source for the positive data.\")\n",
        "tf.flags.DEFINE_string(\"negative_data_file\", \"./data/rt-polaritydata/rt-polarity.neg\", \"Data source for the negative data.\")\n",
        "\n",
        "# Model Hyperparameters\n",
        "tf.flags.DEFINE_integer(\"embedding_dim\", 128, \"Dimensionality of character embedding (default: 128)\")\n",
        "tf.flags.DEFINE_string(\"filter_sizes\", \"3,4,5\", \"Comma-separated filter sizes (default: '3,4,5')\")\n",
        "tf.flags.DEFINE_integer(\"num_filters\", 128, \"Number of filters per filter size (default: 128)\")\n",
        "tf.flags.DEFINE_float(\"dropout_keep_prob\", 0.5, \"Dropout keep probability (default: 0.5)\")\n",
        "tf.flags.DEFINE_float(\"l2_reg_lambda\", 0.0, \"L2 regularization lambda (default: 0.0)\")\n",
        "\n",
        "# Training parameters\n",
        "tf.flags.DEFINE_integer(\"batch_size\", 64, \"Batch Size (default: 64)\")\n",
        "tf.flags.DEFINE_integer(\"num_epochs\", 100, \"Number of training epochs (default: 200)\")\n",
        "tf.flags.DEFINE_integer(\"evaluate_every\", 100, \"Evaluate model on dev set after this many steps (default: 100)\")\n",
        "tf.flags.DEFINE_integer(\"checkpoint_every\", 100, \"Save model after this many steps (default: 100)\")\n",
        "tf.flags.DEFINE_integer(\"num_checkpoints\", 5, \"Number of checkpoints to store (default: 5)\")\n",
        "# Misc Parameters\n",
        "tf.flags.DEFINE_boolean(\"allow_soft_placement\", True, \"Allow device soft device placement\")\n",
        "tf.flags.DEFINE_boolean(\"log_device_placement\", False, \"Log placement of ops on devices\")\n",
        "\n",
        "FLAGS = tf.flags.FLAGS"
      ],
      "execution_count": 0,
      "outputs": []
    },
    {
      "cell_type": "code",
      "metadata": {
        "id": "5JmDNOSOPHfn",
        "colab_type": "code",
        "outputId": "c84d6009-e88a-4ffb-c0b1-600cedfb7b48",
        "colab": {
          "base_uri": "https://localhost:8080/",
          "height": 561
        }
      },
      "source": [
        "#DOWNLOADING DATASET\n",
        "\n",
        "!mkdir ./data/\n",
        "!mkdir ./data/rt-polaritydata/\n",
        "!wget https://github.com/hayesconverse/sym_convnn/raw/master/Textual_Invariants/data/rt-polaritydata/rt-polarity.pos -O ./data/rt-polaritydata/rt-polarity.pos\n",
        "!wget https://github.com/hayesconverse/sym_convnn/raw/master/Textual_Invariants/data/rt-polaritydata/rt-polarity.neg -O ./data/rt-polaritydata/rt-polarity.neg"
      ],
      "execution_count": 0,
      "outputs": [
        {
          "output_type": "stream",
          "text": [
            "--2019-05-01 06:08:05--  https://github.com/hayesconverse/sym_convnn/raw/master/Textual_Invariants/data/rt-polaritydata/rt-polarity.pos\n",
            "Resolving github.com (github.com)... 140.82.118.3, 140.82.118.4\n",
            "Connecting to github.com (github.com)|140.82.118.3|:443... connected.\n",
            "HTTP request sent, awaiting response... 302 Found\n",
            "Location: https://raw.githubusercontent.com/hayesconverse/sym_convnn/master/Textual_Invariants/data/rt-polaritydata/rt-polarity.pos [following]\n",
            "--2019-05-01 06:08:11--  https://raw.githubusercontent.com/hayesconverse/sym_convnn/master/Textual_Invariants/data/rt-polaritydata/rt-polarity.pos\n",
            "Resolving raw.githubusercontent.com (raw.githubusercontent.com)... 151.101.0.133, 151.101.64.133, 151.101.128.133, ...\n",
            "Connecting to raw.githubusercontent.com (raw.githubusercontent.com)|151.101.0.133|:443... connected.\n",
            "HTTP request sent, awaiting response... 200 OK\n",
            "Length: 626395 (612K) [text/plain]\n",
            "Saving to: ‘./data/rt-polaritydata/rt-polarity.pos’\n",
            "\n",
            "./data/rt-polarityd 100%[===================>] 611.71K  --.-KB/s    in 0.02s   \n",
            "\n",
            "2019-05-01 06:08:11 (31.2 MB/s) - ‘./data/rt-polaritydata/rt-polarity.pos’ saved [626395/626395]\n",
            "\n",
            "--2019-05-01 06:08:12--  https://github.com/hayesconverse/sym_convnn/raw/master/Textual_Invariants/data/rt-polaritydata/rt-polarity.neg\n",
            "Resolving github.com (github.com)... 140.82.118.3, 140.82.118.4\n",
            "Connecting to github.com (github.com)|140.82.118.3|:443... connected.\n",
            "HTTP request sent, awaiting response... 302 Found\n",
            "Location: https://raw.githubusercontent.com/hayesconverse/sym_convnn/master/Textual_Invariants/data/rt-polaritydata/rt-polarity.neg [following]\n",
            "--2019-05-01 06:08:13--  https://raw.githubusercontent.com/hayesconverse/sym_convnn/master/Textual_Invariants/data/rt-polaritydata/rt-polarity.neg\n",
            "Resolving raw.githubusercontent.com (raw.githubusercontent.com)... 151.101.0.133, 151.101.64.133, 151.101.128.133, ...\n",
            "Connecting to raw.githubusercontent.com (raw.githubusercontent.com)|151.101.0.133|:443... connected.\n",
            "HTTP request sent, awaiting response... 200 OK\n",
            "Length: 612506 (598K) [text/plain]\n",
            "Saving to: ‘./data/rt-polaritydata/rt-polarity.neg’\n",
            "\n",
            "./data/rt-polarityd 100%[===================>] 598.15K  --.-KB/s    in 0.02s   \n",
            "\n",
            "2019-05-01 06:08:13 (26.1 MB/s) - ‘./data/rt-polaritydata/rt-polarity.neg’ saved [612506/612506]\n",
            "\n"
          ],
          "name": "stdout"
        }
      ]
    },
    {
      "cell_type": "code",
      "metadata": {
        "id": "y3Zs1CzKSqjM",
        "colab_type": "code",
        "outputId": "cd994cda-a8ff-4908-8cee-de3103562db5",
        "colab": {
          "base_uri": "https://localhost:8080/",
          "height": 258
        }
      },
      "source": [
        "#READ AND PROCESS INPUTS\n",
        "\n",
        "def clean_str(string):\n",
        "  \"\"\"\n",
        "  Tokenization/string cleaning for all datasets except for SST.\n",
        "  Original taken from https://github.com/yoonkim/CNN_sentence/blob/master/process_data.py\n",
        "  \"\"\"\n",
        "  string = re.sub(r\"[^A-Za-z0-9(),!?\\'\\`]\", \" \", string)\n",
        "  string = re.sub(r\"\\'s\", \" \\'s\", string)\n",
        "  string = re.sub(r\"\\'ve\", \" \\'ve\", string)\n",
        "  string = re.sub(r\"n\\'t\", \" n\\'t\", string)\n",
        "  string = re.sub(r\"\\'re\", \" \\'re\", string)\n",
        "  string = re.sub(r\"\\'d\", \" \\'d\", string)\n",
        "  string = re.sub(r\"\\'ll\", \" \\'ll\", string)\n",
        "  string = re.sub(r\",\", \" , \", string)\n",
        "  string = re.sub(r\"!\", \" ! \", string)\n",
        "  string = re.sub(r\"\\(\", \" \\( \", string)\n",
        "  string = re.sub(r\"\\)\", \" \\) \", string)\n",
        "  string = re.sub(r\"\\?\", \" \\? \", string)\n",
        "  string = re.sub(r\"\\s{2,}\", \" \", string)\n",
        "  return string.strip().lower()\n",
        "\n",
        "\n",
        "def load_data_and_labels(positive_data_file, negative_data_file):\n",
        "  \"\"\"\n",
        "  Loads MR polarity data from files, splits the data into words and generates labels.\n",
        "  Returns split sentences and labels.\n",
        "  \"\"\"\n",
        "  # Load data from files\n",
        "  positive_examples = list(open(positive_data_file, \"r\", encoding='utf-8').readlines())\n",
        "  positive_examples = [s.strip() for s in positive_examples]\n",
        "  negative_examples = list(open(negative_data_file, \"r\", encoding='utf-8').readlines())\n",
        "  negative_examples = [s.strip() for s in negative_examples]\n",
        "  # Split by words\n",
        "  x_text = positive_examples + negative_examples\n",
        "  x_text = [clean_str(sent) for sent in x_text]\n",
        "  # Generate labels\n",
        "  positive_labels = [[0, 1] for _ in positive_examples]\n",
        "  negative_labels = [[1, 0] for _ in negative_examples]\n",
        "  y = np.concatenate([positive_labels, negative_labels], 0)\n",
        "  return [x_text, y]\n",
        "\n",
        "\n",
        "def batch_iter(data, batch_size, num_epochs, shuffle=True):\n",
        "  \"\"\"\n",
        "  Generates a batch iterator for a dataset.\n",
        "  \"\"\"\n",
        "  data = np.array(data)\n",
        "  data_size = len(data)\n",
        "  num_batches_per_epoch = int((len(data)-1)/batch_size) + 1\n",
        "  for epoch in range(num_epochs):\n",
        "    # Shuffle the data at each epoch\n",
        "    if shuffle:\n",
        "      shuffle_indices = np.random.permutation(np.arange(data_size))\n",
        "      shuffled_data = data[shuffle_indices]\n",
        "    else:\n",
        "      shuffled_data = data\n",
        "    for batch_num in range(num_batches_per_epoch):\n",
        "      start_index = batch_num * batch_size\n",
        "      end_index = min((batch_num + 1) * batch_size, data_size)\n",
        "      yield shuffled_data[start_index:end_index]\n",
        "\n",
        "def preprocess():\n",
        "  # Data Preparation\n",
        "  # ==================================================\n",
        "\n",
        "  # Load data\n",
        "  print(\"Loading data...\")\n",
        "  x_text, y = load_data_and_labels(FLAGS.positive_data_file, FLAGS.negative_data_file)\n",
        "  print x_text[:2]\n",
        "  # Build vocabulary\n",
        "  max_document_length = max([len(x.split(\" \")) for x in x_text])\n",
        "  vocab_processor = learn.preprocessing.VocabularyProcessor(max_document_length)\n",
        "  x = np.array(list(vocab_processor.fit_transform(x_text)))\n",
        "\n",
        "  # Randomly shuffle data\n",
        "  np.random.seed(10)\n",
        "  shuffle_indices = np.random.permutation(np.arange(len(y)))\n",
        "  x_shuffled = x[shuffle_indices]\n",
        "  y_shuffled = y[shuffle_indices]\n",
        "  x_text_shuffled = [x_text[i] for i in list(shuffle_indices)]\n",
        "  #print shuffle_indices\n",
        "\n",
        "  # Split train/test set\n",
        "  # TODO: This is very crude, should use cross-validation\n",
        "  dev_sample_index = -1 * int(FLAGS.dev_sample_percentage * float(len(y)))\n",
        "  x_train, x_dev = x_shuffled[:dev_sample_index], x_shuffled[dev_sample_index:]\n",
        "  y_train, y_dev = y_shuffled[:dev_sample_index], y_shuffled[dev_sample_index:]\n",
        "  x_text_train, x_text_dev = x_text_shuffled[:dev_sample_index], x_text_shuffled[dev_sample_index:]\n",
        "\n",
        "  del x, y, x_shuffled, y_shuffled\n",
        "\n",
        "  print(\"Vocabulary Size: {:d}\".format(len(vocab_processor.vocabulary_)))\n",
        "  print(\"Train/Dev split: {:d}/{:d}\".format(len(y_train), len(y_dev)))\n",
        "  return x_train, y_train, vocab_processor, x_dev, y_dev, x_text_train, x_text_dev\n",
        "\n",
        "x_train, y_train, vocab_processor, x_test, y_test, x_text_train, x_text_test = preprocess()"
      ],
      "execution_count": 0,
      "outputs": [
        {
          "output_type": "stream",
          "text": [
            "Loading data...\n",
            "[u\"the rock is destined to be the 21st century 's new conan and that he 's going to make a splash even greater than arnold schwarzenegger , jean claud van damme or steven segal\", u\"the gorgeously elaborate continuation of the lord of the rings trilogy is so huge that a column of words cannot adequately describe co writer director peter jackson 's expanded vision of j r r tolkien 's middle earth\"]\n",
            "WARNING:tensorflow:From <ipython-input-5-480f9ad0643a>:72: __init__ (from tensorflow.contrib.learn.python.learn.preprocessing.text) is deprecated and will be removed in a future version.\n",
            "Instructions for updating:\n",
            "Please use tensorflow/transform or tf.data.\n",
            "WARNING:tensorflow:From /usr/local/lib/python2.7/dist-packages/tensorflow/contrib/learn/python/learn/preprocessing/text.py:154: __init__ (from tensorflow.contrib.learn.python.learn.preprocessing.categorical_vocabulary) is deprecated and will be removed in a future version.\n",
            "Instructions for updating:\n",
            "Please use tensorflow/transform or tf.data.\n",
            "WARNING:tensorflow:From /usr/local/lib/python2.7/dist-packages/tensorflow/contrib/learn/python/learn/preprocessing/text.py:170: tokenizer (from tensorflow.contrib.learn.python.learn.preprocessing.text) is deprecated and will be removed in a future version.\n",
            "Instructions for updating:\n",
            "Please use tensorflow/transform or tf.data.\n",
            "Vocabulary Size: 18758\n",
            "Train/Dev split: 9596/1066\n"
          ],
          "name": "stdout"
        }
      ]
    },
    {
      "cell_type": "code",
      "metadata": {
        "id": "YPcmZF2hSfvb",
        "colab_type": "code",
        "colab": {}
      },
      "source": [
        "x_validation = x_train[int(0.85*len(x_train)):]\n",
        "x_text_validation = x_text_train[int(0.85*len(x_train)):]\n",
        "x_train = x_train[:int(0.85*len(x_train))]\n",
        "x_text_train = x_text_train[:int(0.85*len(x_train))]\n",
        "y_validation = y_train[int(0.85*len(y_train)):]\n",
        "y_train = y_train[:int(0.85*len(y_train)):]"
      ],
      "execution_count": 0,
      "outputs": []
    },
    {
      "cell_type": "code",
      "metadata": {
        "id": "39JpLmTitqdj",
        "colab_type": "code",
        "colab": {}
      },
      "source": [
        "def weight_variable(shape, name):\n",
        "  initial = tf.truncated_normal(shape, stddev=0.1)\n",
        "  return tf.Variable(initial, name=name)\n",
        "\n",
        "def bias_variable(shape, name):\n",
        "  initial = tf.constant(0.1, shape=shape)\n",
        "  return tf.Variable(initial, name=name)\n",
        "\n",
        "def conv2d(x, W):\n",
        "  return tf.nn.conv2d(x, W, strides=[1, 1, 1, 1], padding='SAME')\n",
        "\n",
        "def max_pool_2x2(x):\n",
        "  return tf.nn.max_pool(x, ksize=[1, 2, 2, 1],\n",
        "                        strides=[1, 2, 2, 1], padding='SAME')\n",
        "\n",
        "#TODO Names are from the original implementation, may need to update them\n",
        "def create_model(sequence_length, num_classes, vocab_size,\n",
        "  embedding_size, filter_sizes, num_filters):\n",
        "  \n",
        "  # Placeholders for input, output and dropout\n",
        "  input_x = tf.placeholder(tf.int32, [None, sequence_length], name=\"input_x\")\n",
        "  input_y = tf.placeholder(tf.float32, [None, num_classes], name=\"input_y\")\n",
        "  dropout_keep_prob = tf.placeholder(tf.float32, name=\"dropout_keep_prob\")\n",
        "\n",
        "  # Embedding layer\n",
        "  # tf.name_scope(\"embedding\")\n",
        "  with tf.device('/cpu:0'):\n",
        "    W = tf.Variable(\n",
        "      tf.random_uniform([vocab_size, embedding_size], -1.0, 1.0),\n",
        "      name=\"W_embed\")\n",
        "    embedded_chars = tf.nn.embedding_lookup(W, input_x)\n",
        "    embedded_chars_expanded = tf.expand_dims(embedded_chars, -1)\n",
        "\n",
        "  # Create a convolution + maxpool layer for each filter size\n",
        "  pooled_outputs = []\n",
        "  relu_layers = []\n",
        "  for i, filter_size in enumerate(filter_sizes):\n",
        "    #with tf.name_scope(\"conv-maxpool-%s\" % filter_size):\n",
        "    # Convolution Layer\n",
        "    filter_shape = [filter_size, embedding_size, 1, num_filters]\n",
        "    W = tf.Variable(tf.truncated_normal(filter_shape, stddev=0.1), name=\"W_{}\".format(filter_size))\n",
        "    b = tf.Variable(tf.constant(0.1, shape=[num_filters]), name=\"b_{}\".format(filter_size))\n",
        "    conv = tf.nn.conv2d(\n",
        "      embedded_chars_expanded,\n",
        "      W,\n",
        "      strides=[1, 1, 1, 1],\n",
        "      padding=\"VALID\",\n",
        "      name=\"conv_{}\".format(filter_size))\n",
        "    # Apply nonlinearity\n",
        "    h = tf.nn.relu(tf.nn.bias_add(conv, b), name=\"relu_{}\".format(filter_size))\n",
        "    relu_layers.append(h)\n",
        "    # Maxpooling over the outputs\n",
        "    pooled = tf.nn.max_pool(\n",
        "      h,\n",
        "      ksize=[1, sequence_length - filter_size + 1, 1, 1],\n",
        "      strides=[1, 1, 1, 1],\n",
        "      padding='VALID',\n",
        "      name=\"pool_{}\".format(filter_size))\n",
        "    pooled_outputs.append(pooled)\n",
        "\n",
        "  # Combine all the pooled features\n",
        "  num_filters_total = num_filters * len(filter_sizes)\n",
        "  h_pool = tf.concat(pooled_outputs, 3)\n",
        "  h_pool_flat = tf.reshape(h_pool, [-1, num_filters_total], 'h_pool_flat')\n",
        "\n",
        "  # Add dropout\n",
        "  with tf.name_scope(\"dropout\"):\n",
        "    h_drop = tf.nn.dropout(h_pool_flat, dropout_keep_prob)\n",
        "\n",
        "  # Final (unnormalized) scores and predictions\n",
        "  #with tf.name_scope(\"output\"):\n",
        "  W1 = tf.get_variable(\n",
        "    \"W_fc1\",\n",
        "    shape=[num_filters_total, num_filters],\n",
        "    initializer=tf.contrib.layers.xavier_initializer())\n",
        "  b1 = tf.Variable(tf.constant(0.1, shape=[num_filters]), name=\"b_fc1\")\n",
        "  t_hidden = tf.nn.relu(tf.nn.xw_plus_b(h_drop, W1, b1, name=\"hidden\"))\n",
        "  W2 = tf.get_variable(\n",
        "    \"W_fc2\",\n",
        "    shape=[num_filters, num_classes],\n",
        "    initializer=tf.contrib.layers.xavier_initializer())\n",
        "  b2 = tf.Variable(tf.constant(0.1, shape=[num_classes]), name=\"b_fc2\")\n",
        "  logits = tf.nn.xw_plus_b(t_hidden, W2, b2, name=\"logits\")\n",
        "  probs = tf.nn.softmax(logits, axis=1, name='probs')\n",
        "  predictions = tf.argmax(logits, 1, name=\"predictions\")\n",
        "\n",
        "  # Accuracy\n",
        "  with tf.name_scope(\"accuracy\"):\n",
        "    correct_predictions = tf.equal(predictions, tf.argmax(input_y, 1))\n",
        "  accuracy = tf.reduce_mean(tf.cast(correct_predictions, \"float\"), name=\"accuracy\")\n",
        "\n",
        "  # Loss  \n",
        "  cross_entropy = tf.reduce_mean(\n",
        "    tf.nn.softmax_cross_entropy_with_logits_v2(labels=input_y, logits=logits))\n",
        "  \n",
        "  return cross_entropy, accuracy, input_x, embedded_chars, dropout_keep_prob, logits, probs, input_y, relu_layers, pooled_outputs\n",
        "  "
      ],
      "execution_count": 0,
      "outputs": []
    },
    {
      "cell_type": "markdown",
      "metadata": {
        "id": "Jv3U6Xs_T2el",
        "colab_type": "text"
      },
      "source": [
        "### Train a new model"
      ]
    },
    {
      "cell_type": "code",
      "metadata": {
        "id": "Z-2x6UTcuJUK",
        "colab_type": "code",
        "outputId": "e12249b7-d977-48d1-e890-484f8c7d9e20",
        "colab": {
          "base_uri": "https://localhost:8080/",
          "height": 1015
        }
      },
      "source": [
        "EMB_DIMS = 64\n",
        "NUM_FILTERS = 64\n",
        "\n",
        "tf.reset_default_graph()\n",
        "sess = tf.InteractiveSession()\n",
        "cross_entropy, accuracy, x, x_embedded, keep_prob, y_logits, y_probs,  y_, relu_layers, pooled_outputs = create_model(sequence_length=x_train.shape[1],\n",
        "        num_classes=y_train.shape[1],\n",
        "        vocab_size=len(vocab_processor.vocabulary_),\n",
        "        embedding_size=EMB_DIMS,\n",
        "        filter_sizes=list(map(int, FLAGS.filter_sizes.split(\",\"))),\n",
        "        num_filters=NUM_FILTERS)\n",
        "train_step = tf.train.AdamOptimizer(5e-4).minimize(cross_entropy)\n",
        "saver = tf.train.Saver(write_version=tf.train.SaverDef.V2)\n",
        "sess.run(tf.global_variables_initializer())\n",
        "\n",
        "# Generate batches\n",
        "batches = batch_iter(\n",
        "  list(zip(x_train, y_train)), FLAGS.batch_size, num_epochs=50)\n",
        "for i,batch in enumerate(batches):\n",
        "  x_batch, y_batch = zip(*batch)\n",
        "  _, batch_ce = sess.run([train_step, cross_entropy], feed_dict={x: x_batch, y_: y_batch, keep_prob: FLAGS.dropout_keep_prob})\n",
        "  if i%200 == 0 and i > 0:\n",
        "    validation_accuracy = accuracy.eval(feed_dict={\n",
        "        x:x_validation, y_: y_validation, keep_prob: 1.0})\n",
        "    print(\"step %d, batch CE %g, validation accuracy %g\"%(i, batch_ce, validation_accuracy))    \n",
        "    ckpt_path_name = saver.save(sess, './checkpoints/text_invariant.ckpt', global_step=i)\n",
        "    print \"Checkpoint saved at: %s\" % ckpt_path_name"
      ],
      "execution_count": 0,
      "outputs": [
        {
          "output_type": "stream",
          "text": [
            "/usr/local/lib/python2.7/dist-packages/tensorflow/python/client/session.py:1702: UserWarning: An interactive session is already active. This can cause out-of-memory errors in some cases. You must explicitly call `InteractiveSession.close()` to release resources held by the other session(s).\n",
            "  warnings.warn('An interactive session is already active. This can '\n"
          ],
          "name": "stderr"
        },
        {
          "output_type": "stream",
          "text": [
            "step 200, batch CE 0.776882, validation accuracy 0.516667\n",
            "Checkpoint saved at: ./checkpoints/text_invariant.ckpt-200\n",
            "step 400, batch CE 0.748258, validation accuracy 0.516667\n",
            "Checkpoint saved at: ./checkpoints/text_invariant.ckpt-400\n",
            "step 600, batch CE 0.682527, validation accuracy 0.525\n",
            "Checkpoint saved at: ./checkpoints/text_invariant.ckpt-600\n",
            "step 800, batch CE 0.681422, validation accuracy 0.523611\n",
            "Checkpoint saved at: ./checkpoints/text_invariant.ckpt-800\n",
            "step 1000, batch CE 0.685394, validation accuracy 0.540278\n",
            "Checkpoint saved at: ./checkpoints/text_invariant.ckpt-1000\n",
            "step 1200, batch CE 0.689072, validation accuracy 0.559722\n",
            "Checkpoint saved at: ./checkpoints/text_invariant.ckpt-1200\n",
            "step 1400, batch CE 0.673377, validation accuracy 0.606944\n",
            "Checkpoint saved at: ./checkpoints/text_invariant.ckpt-1400\n",
            "step 1600, batch CE 0.655242, validation accuracy 0.616667\n",
            "Checkpoint saved at: ./checkpoints/text_invariant.ckpt-1600\n",
            "step 1800, batch CE 0.600713, validation accuracy 0.620833\n",
            "Checkpoint saved at: ./checkpoints/text_invariant.ckpt-1800\n",
            "step 2000, batch CE 0.567418, validation accuracy 0.656944\n",
            "Checkpoint saved at: ./checkpoints/text_invariant.ckpt-2000\n",
            "step 2200, batch CE 0.50051, validation accuracy 0.684722\n",
            "Checkpoint saved at: ./checkpoints/text_invariant.ckpt-2200\n",
            "step 2400, batch CE 0.339087, validation accuracy 0.695139\n",
            "Checkpoint saved at: ./checkpoints/text_invariant.ckpt-2400\n",
            "step 2600, batch CE 0.293271, validation accuracy 0.711806\n",
            "Checkpoint saved at: ./checkpoints/text_invariant.ckpt-2600\n",
            "step 2800, batch CE 0.244647, validation accuracy 0.716667\n",
            "Checkpoint saved at: ./checkpoints/text_invariant.ckpt-2800\n",
            "step 3000, batch CE 0.190746, validation accuracy 0.720833\n",
            "Checkpoint saved at: ./checkpoints/text_invariant.ckpt-3000\n",
            "step 3200, batch CE 0.205886, validation accuracy 0.719444\n",
            "Checkpoint saved at: ./checkpoints/text_invariant.ckpt-3200\n",
            "step 3400, batch CE 0.309723, validation accuracy 0.722222\n",
            "Checkpoint saved at: ./checkpoints/text_invariant.ckpt-3400\n"
          ],
          "name": "stdout"
        },
        {
          "output_type": "error",
          "ename": "KeyboardInterrupt",
          "evalue": "ignored",
          "traceback": [
            "\u001b[0;31m\u001b[0m",
            "\u001b[0;31mKeyboardInterrupt\u001b[0mTraceback (most recent call last)",
            "\u001b[0;32m<ipython-input-10-72a785d7f6bd>\u001b[0m in \u001b[0;36m<module>\u001b[0;34m()\u001b[0m\n\u001b[1;32m     19\u001b[0m \u001b[0;32mfor\u001b[0m \u001b[0mi\u001b[0m\u001b[0;34m,\u001b[0m\u001b[0mbatch\u001b[0m \u001b[0;32min\u001b[0m \u001b[0menumerate\u001b[0m\u001b[0;34m(\u001b[0m\u001b[0mbatches\u001b[0m\u001b[0;34m)\u001b[0m\u001b[0;34m:\u001b[0m\u001b[0;34m\u001b[0m\u001b[0m\n\u001b[1;32m     20\u001b[0m   \u001b[0mx_batch\u001b[0m\u001b[0;34m,\u001b[0m \u001b[0my_batch\u001b[0m \u001b[0;34m=\u001b[0m \u001b[0mzip\u001b[0m\u001b[0;34m(\u001b[0m\u001b[0;34m*\u001b[0m\u001b[0mbatch\u001b[0m\u001b[0;34m)\u001b[0m\u001b[0;34m\u001b[0m\u001b[0m\n\u001b[0;32m---> 21\u001b[0;31m   \u001b[0m_\u001b[0m\u001b[0;34m,\u001b[0m \u001b[0mbatch_ce\u001b[0m \u001b[0;34m=\u001b[0m \u001b[0msess\u001b[0m\u001b[0;34m.\u001b[0m\u001b[0mrun\u001b[0m\u001b[0;34m(\u001b[0m\u001b[0;34m[\u001b[0m\u001b[0mtrain_step\u001b[0m\u001b[0;34m,\u001b[0m \u001b[0mcross_entropy\u001b[0m\u001b[0;34m]\u001b[0m\u001b[0;34m,\u001b[0m \u001b[0mfeed_dict\u001b[0m\u001b[0;34m=\u001b[0m\u001b[0;34m{\u001b[0m\u001b[0mx\u001b[0m\u001b[0;34m:\u001b[0m \u001b[0mx_batch\u001b[0m\u001b[0;34m,\u001b[0m \u001b[0my_\u001b[0m\u001b[0;34m:\u001b[0m \u001b[0my_batch\u001b[0m\u001b[0;34m,\u001b[0m \u001b[0mkeep_prob\u001b[0m\u001b[0;34m:\u001b[0m \u001b[0mFLAGS\u001b[0m\u001b[0;34m.\u001b[0m\u001b[0mdropout_keep_prob\u001b[0m\u001b[0;34m}\u001b[0m\u001b[0;34m)\u001b[0m\u001b[0;34m\u001b[0m\u001b[0m\n\u001b[0m\u001b[1;32m     22\u001b[0m   \u001b[0;32mif\u001b[0m \u001b[0mi\u001b[0m\u001b[0;34m%\u001b[0m\u001b[0;36m200\u001b[0m \u001b[0;34m==\u001b[0m \u001b[0;36m0\u001b[0m \u001b[0;32mand\u001b[0m \u001b[0mi\u001b[0m \u001b[0;34m>\u001b[0m \u001b[0;36m0\u001b[0m\u001b[0;34m:\u001b[0m\u001b[0;34m\u001b[0m\u001b[0m\n\u001b[1;32m     23\u001b[0m     validation_accuracy = accuracy.eval(feed_dict={\n",
            "\u001b[0;32m/usr/local/lib/python2.7/dist-packages/tensorflow/python/client/session.pyc\u001b[0m in \u001b[0;36mrun\u001b[0;34m(self, fetches, feed_dict, options, run_metadata)\u001b[0m\n\u001b[1;32m    927\u001b[0m     \u001b[0;32mtry\u001b[0m\u001b[0;34m:\u001b[0m\u001b[0;34m\u001b[0m\u001b[0m\n\u001b[1;32m    928\u001b[0m       result = self._run(None, fetches, feed_dict, options_ptr,\n\u001b[0;32m--> 929\u001b[0;31m                          run_metadata_ptr)\n\u001b[0m\u001b[1;32m    930\u001b[0m       \u001b[0;32mif\u001b[0m \u001b[0mrun_metadata\u001b[0m\u001b[0;34m:\u001b[0m\u001b[0;34m\u001b[0m\u001b[0m\n\u001b[1;32m    931\u001b[0m         \u001b[0mproto_data\u001b[0m \u001b[0;34m=\u001b[0m \u001b[0mtf_session\u001b[0m\u001b[0;34m.\u001b[0m\u001b[0mTF_GetBuffer\u001b[0m\u001b[0;34m(\u001b[0m\u001b[0mrun_metadata_ptr\u001b[0m\u001b[0;34m)\u001b[0m\u001b[0;34m\u001b[0m\u001b[0m\n",
            "\u001b[0;32m/usr/local/lib/python2.7/dist-packages/tensorflow/python/client/session.pyc\u001b[0m in \u001b[0;36m_run\u001b[0;34m(self, handle, fetches, feed_dict, options, run_metadata)\u001b[0m\n\u001b[1;32m   1150\u001b[0m     \u001b[0;32mif\u001b[0m \u001b[0mfinal_fetches\u001b[0m \u001b[0;32mor\u001b[0m \u001b[0mfinal_targets\u001b[0m \u001b[0;32mor\u001b[0m \u001b[0;34m(\u001b[0m\u001b[0mhandle\u001b[0m \u001b[0;32mand\u001b[0m \u001b[0mfeed_dict_tensor\u001b[0m\u001b[0;34m)\u001b[0m\u001b[0;34m:\u001b[0m\u001b[0;34m\u001b[0m\u001b[0m\n\u001b[1;32m   1151\u001b[0m       results = self._do_run(handle, final_targets, final_fetches,\n\u001b[0;32m-> 1152\u001b[0;31m                              feed_dict_tensor, options, run_metadata)\n\u001b[0m\u001b[1;32m   1153\u001b[0m     \u001b[0;32melse\u001b[0m\u001b[0;34m:\u001b[0m\u001b[0;34m\u001b[0m\u001b[0m\n\u001b[1;32m   1154\u001b[0m       \u001b[0mresults\u001b[0m \u001b[0;34m=\u001b[0m \u001b[0;34m[\u001b[0m\u001b[0;34m]\u001b[0m\u001b[0;34m\u001b[0m\u001b[0m\n",
            "\u001b[0;32m/usr/local/lib/python2.7/dist-packages/tensorflow/python/client/session.pyc\u001b[0m in \u001b[0;36m_do_run\u001b[0;34m(self, handle, target_list, fetch_list, feed_dict, options, run_metadata)\u001b[0m\n\u001b[1;32m   1326\u001b[0m     \u001b[0;32mif\u001b[0m \u001b[0mhandle\u001b[0m \u001b[0;32mis\u001b[0m \u001b[0mNone\u001b[0m\u001b[0;34m:\u001b[0m\u001b[0;34m\u001b[0m\u001b[0m\n\u001b[1;32m   1327\u001b[0m       return self._do_call(_run_fn, feeds, fetches, targets, options,\n\u001b[0;32m-> 1328\u001b[0;31m                            run_metadata)\n\u001b[0m\u001b[1;32m   1329\u001b[0m     \u001b[0;32melse\u001b[0m\u001b[0;34m:\u001b[0m\u001b[0;34m\u001b[0m\u001b[0m\n\u001b[1;32m   1330\u001b[0m       \u001b[0;32mreturn\u001b[0m \u001b[0mself\u001b[0m\u001b[0;34m.\u001b[0m\u001b[0m_do_call\u001b[0m\u001b[0;34m(\u001b[0m\u001b[0m_prun_fn\u001b[0m\u001b[0;34m,\u001b[0m \u001b[0mhandle\u001b[0m\u001b[0;34m,\u001b[0m \u001b[0mfeeds\u001b[0m\u001b[0;34m,\u001b[0m \u001b[0mfetches\u001b[0m\u001b[0;34m)\u001b[0m\u001b[0;34m\u001b[0m\u001b[0m\n",
            "\u001b[0;32m/usr/local/lib/python2.7/dist-packages/tensorflow/python/client/session.pyc\u001b[0m in \u001b[0;36m_do_call\u001b[0;34m(self, fn, *args)\u001b[0m\n\u001b[1;32m   1332\u001b[0m   \u001b[0;32mdef\u001b[0m \u001b[0m_do_call\u001b[0m\u001b[0;34m(\u001b[0m\u001b[0mself\u001b[0m\u001b[0;34m,\u001b[0m \u001b[0mfn\u001b[0m\u001b[0;34m,\u001b[0m \u001b[0;34m*\u001b[0m\u001b[0margs\u001b[0m\u001b[0;34m)\u001b[0m\u001b[0;34m:\u001b[0m\u001b[0;34m\u001b[0m\u001b[0m\n\u001b[1;32m   1333\u001b[0m     \u001b[0;32mtry\u001b[0m\u001b[0;34m:\u001b[0m\u001b[0;34m\u001b[0m\u001b[0m\n\u001b[0;32m-> 1334\u001b[0;31m       \u001b[0;32mreturn\u001b[0m \u001b[0mfn\u001b[0m\u001b[0;34m(\u001b[0m\u001b[0;34m*\u001b[0m\u001b[0margs\u001b[0m\u001b[0;34m)\u001b[0m\u001b[0;34m\u001b[0m\u001b[0m\n\u001b[0m\u001b[1;32m   1335\u001b[0m     \u001b[0;32mexcept\u001b[0m \u001b[0merrors\u001b[0m\u001b[0;34m.\u001b[0m\u001b[0mOpError\u001b[0m \u001b[0;32mas\u001b[0m \u001b[0me\u001b[0m\u001b[0;34m:\u001b[0m\u001b[0;34m\u001b[0m\u001b[0m\n\u001b[1;32m   1336\u001b[0m       \u001b[0mmessage\u001b[0m \u001b[0;34m=\u001b[0m \u001b[0mcompat\u001b[0m\u001b[0;34m.\u001b[0m\u001b[0mas_text\u001b[0m\u001b[0;34m(\u001b[0m\u001b[0me\u001b[0m\u001b[0;34m.\u001b[0m\u001b[0mmessage\u001b[0m\u001b[0;34m)\u001b[0m\u001b[0;34m\u001b[0m\u001b[0m\n",
            "\u001b[0;32m/usr/local/lib/python2.7/dist-packages/tensorflow/python/client/session.pyc\u001b[0m in \u001b[0;36m_run_fn\u001b[0;34m(feed_dict, fetch_list, target_list, options, run_metadata)\u001b[0m\n\u001b[1;32m   1317\u001b[0m       \u001b[0mself\u001b[0m\u001b[0;34m.\u001b[0m\u001b[0m_extend_graph\u001b[0m\u001b[0;34m(\u001b[0m\u001b[0;34m)\u001b[0m\u001b[0;34m\u001b[0m\u001b[0m\n\u001b[1;32m   1318\u001b[0m       return self._call_tf_sessionrun(\n\u001b[0;32m-> 1319\u001b[0;31m           options, feed_dict, fetch_list, target_list, run_metadata)\n\u001b[0m\u001b[1;32m   1320\u001b[0m \u001b[0;34m\u001b[0m\u001b[0m\n\u001b[1;32m   1321\u001b[0m     \u001b[0;32mdef\u001b[0m \u001b[0m_prun_fn\u001b[0m\u001b[0;34m(\u001b[0m\u001b[0mhandle\u001b[0m\u001b[0;34m,\u001b[0m \u001b[0mfeed_dict\u001b[0m\u001b[0;34m,\u001b[0m \u001b[0mfetch_list\u001b[0m\u001b[0;34m)\u001b[0m\u001b[0;34m:\u001b[0m\u001b[0;34m\u001b[0m\u001b[0m\n",
            "\u001b[0;32m/usr/local/lib/python2.7/dist-packages/tensorflow/python/client/session.pyc\u001b[0m in \u001b[0;36m_call_tf_sessionrun\u001b[0;34m(self, options, feed_dict, fetch_list, target_list, run_metadata)\u001b[0m\n\u001b[1;32m   1405\u001b[0m     return tf_session.TF_SessionRun_wrapper(\n\u001b[1;32m   1406\u001b[0m         \u001b[0mself\u001b[0m\u001b[0;34m.\u001b[0m\u001b[0m_session\u001b[0m\u001b[0;34m,\u001b[0m \u001b[0moptions\u001b[0m\u001b[0;34m,\u001b[0m \u001b[0mfeed_dict\u001b[0m\u001b[0;34m,\u001b[0m \u001b[0mfetch_list\u001b[0m\u001b[0;34m,\u001b[0m \u001b[0mtarget_list\u001b[0m\u001b[0;34m,\u001b[0m\u001b[0;34m\u001b[0m\u001b[0m\n\u001b[0;32m-> 1407\u001b[0;31m         run_metadata)\n\u001b[0m\u001b[1;32m   1408\u001b[0m \u001b[0;34m\u001b[0m\u001b[0m\n\u001b[1;32m   1409\u001b[0m   \u001b[0;32mdef\u001b[0m \u001b[0m_call_tf_sessionprun\u001b[0m\u001b[0;34m(\u001b[0m\u001b[0mself\u001b[0m\u001b[0;34m,\u001b[0m \u001b[0mhandle\u001b[0m\u001b[0;34m,\u001b[0m \u001b[0mfeed_dict\u001b[0m\u001b[0;34m,\u001b[0m \u001b[0mfetch_list\u001b[0m\u001b[0;34m)\u001b[0m\u001b[0;34m:\u001b[0m\u001b[0;34m\u001b[0m\u001b[0m\n",
            "\u001b[0;31mKeyboardInterrupt\u001b[0m: "
          ]
        }
      ]
    },
    {
      "cell_type": "code",
      "metadata": {
        "id": "v0AZMpQsmJSF",
        "colab_type": "code",
        "outputId": "1270af39-8f30-4497-aa48-6439b4b304e2",
        "colab": {
          "base_uri": "https://localhost:8080/",
          "height": 617
        }
      },
      "source": [
        "!ls -l ./checkpoints/"
      ],
      "execution_count": 0,
      "outputs": [
        {
          "output_type": "stream",
          "text": [
            "total 163904\n",
            "-rw-r--r-- 1 root root      325 Apr 29 21:04 checkpoint\n",
            "-rw-r--r-- 1 root root 15148064 Apr 29 21:04 text_invariant.ckpt-2600.data-00000-of-00001\n",
            "-rw-r--r-- 1 root root     1221 Apr 29 21:04 text_invariant.ckpt-2600.index\n",
            "-rw-r--r-- 1 root root    98501 Apr 29 21:04 text_invariant.ckpt-2600.meta\n",
            "-rw-r--r-- 1 root root 15148064 Apr 29 21:04 text_invariant.ckpt-2800.data-00000-of-00001\n",
            "-rw-r--r-- 1 root root     1221 Apr 29 21:04 text_invariant.ckpt-2800.index\n",
            "-rw-r--r-- 1 root root    98501 Apr 29 21:04 text_invariant.ckpt-2800.meta\n",
            "-rw-r--r-- 1 root root 15148064 Apr 29 21:04 text_invariant.ckpt-3000.data-00000-of-00001\n",
            "-rw-r--r-- 1 root root     1221 Apr 29 21:04 text_invariant.ckpt-3000.index\n",
            "-rw-r--r-- 1 root root    98501 Apr 29 21:04 text_invariant.ckpt-3000.meta\n",
            "-rw-r--r-- 1 root root 15148064 Apr 29 21:04 text_invariant.ckpt-3200.data-00000-of-00001\n",
            "-rw-r--r-- 1 root root     1221 Apr 29 21:04 text_invariant.ckpt-3200.index\n",
            "-rw-r--r-- 1 root root    98501 Apr 29 21:04 text_invariant.ckpt-3200.meta\n",
            "-rw-r--r-- 1 root root 15148064 Apr 29 21:04 text_invariant.ckpt-3400.data-00000-of-00001\n",
            "-rw-r--r-- 1 root root     1221 Apr 29 21:04 text_invariant.ckpt-3400.index\n",
            "-rw-r--r-- 1 root root    98501 Apr 29 21:04 text_invariant.ckpt-3400.meta\n",
            "-rw-r--r-- 1 root root 15148064 Apr 29 21:03 text_invariant.ckpt-5400.data-00000-of-00001\n",
            "-rw-r--r-- 1 root root     1221 Apr 29 21:03 text_invariant.ckpt-5400.index\n",
            "-rw-r--r-- 1 root root    98501 Apr 29 21:03 text_invariant.ckpt-5400.meta\n",
            "-rw-r--r-- 1 root root 15148064 Apr 29 21:03 text_invariant.ckpt-5600.data-00000-of-00001\n",
            "-rw-r--r-- 1 root root     1221 Apr 29 21:03 text_invariant.ckpt-5600.index\n",
            "-rw-r--r-- 1 root root    98501 Apr 29 21:03 text_invariant.ckpt-5600.meta\n",
            "-rw-r--r-- 1 root root 15148064 Apr 29 21:03 text_invariant.ckpt-5800.data-00000-of-00001\n",
            "-rw-r--r-- 1 root root     1221 Apr 29 21:03 text_invariant.ckpt-5800.index\n",
            "-rw-r--r-- 1 root root    98501 Apr 29 21:03 text_invariant.ckpt-5800.meta\n",
            "-rw-r--r-- 1 root root 15148064 Apr 29 21:03 text_invariant.ckpt-6000.data-00000-of-00001\n",
            "-rw-r--r-- 1 root root     1221 Apr 29 21:03 text_invariant.ckpt-6000.index\n",
            "-rw-r--r-- 1 root root    98501 Apr 29 21:03 text_invariant.ckpt-6000.meta\n",
            "-rw-r--r-- 1 root root 15148064 Apr 29 21:03 text_invariant.ckpt-6200.data-00000-of-00001\n",
            "-rw-r--r-- 1 root root     1221 Apr 29 21:03 text_invariant.ckpt-6200.index\n",
            "-rw-r--r-- 1 root root    98501 Apr 29 21:03 text_invariant.ckpt-6200.meta\n",
            "-rw-r--r-- 1 root root 15148064 Apr 29 22:24 text_invariants.ckpt.data-00000-of-00001\n",
            "-rw-r--r-- 1 root root     1221 Apr 29 22:24 text_invariants.ckpt.index\n",
            "-rw-r--r-- 1 root root    98501 Apr 29 22:24 text_invariants.ckpt.meta\n"
          ],
          "name": "stdout"
        }
      ]
    },
    {
      "cell_type": "code",
      "metadata": {
        "id": "ylVCQ9lfTfWF",
        "colab_type": "code",
        "colab": {}
      },
      "source": [
        "from google.colab import files\n",
        "files.download('./checkpoints/text_invariant.ckpt-3400' + '.index')\n",
        "files.download('./checkpoints/text_invariant.ckpt-3400' + '.meta')\n",
        "files.download('./checkpoints/text_invariant.ckpt-3400' + '.data-00000-of-00001')"
      ],
      "execution_count": 0,
      "outputs": []
    },
    {
      "cell_type": "markdown",
      "metadata": {
        "id": "uy6_gvmpT4Wv",
        "colab_type": "text"
      },
      "source": [
        "\n",
        "### Restore a pretrained model"
      ]
    },
    {
      "cell_type": "code",
      "metadata": {
        "id": "BMibD_lwWdVG",
        "colab_type": "code",
        "outputId": "0a302ca8-b2dc-4e79-b4ea-fa09814b784d",
        "colab": {
          "base_uri": "https://localhost:8080/",
          "height": 853
        }
      },
      "source": [
        "!mkdir -p ./checkpoints\n",
        "!wget https://github.com/hayesconverse/sym_convnn/raw/master/Textual_Invariants/text_checkpoint/text_invariant.ckpt-V3.index -O ./checkpoints/text_invariants.ckpt.index\n",
        "!wget https://github.com/hayesconverse/sym_convnn/raw/master/Textual_Invariants/text_checkpoint/text_invariant.ckpt-V3.meta -O ./checkpoints/text_invariants.ckpt.meta\n",
        "!wget https://github.com/hayesconverse/sym_convnn/raw/master/Textual_Invariants/text_checkpoint/text_invariant.ckpt-V3.data-00000-of-00001 -O ./checkpoints/text_invariants.ckpt.data-00000-of-00001"
      ],
      "execution_count": 0,
      "outputs": [
        {
          "output_type": "stream",
          "text": [
            "--2019-05-01 06:08:29--  https://github.com/hayesconverse/sym_convnn/raw/master/Textual_Invariants/text_checkpoint/text_invariant.ckpt-V3.index\n",
            "Resolving github.com (github.com)... 140.82.118.3, 140.82.118.4\n",
            "Connecting to github.com (github.com)|140.82.118.3|:443... connected.\n",
            "HTTP request sent, awaiting response... 302 Found\n",
            "Location: https://raw.githubusercontent.com/hayesconverse/sym_convnn/master/Textual_Invariants/text_checkpoint/text_invariant.ckpt-V3.index [following]\n",
            "--2019-05-01 06:08:29--  https://raw.githubusercontent.com/hayesconverse/sym_convnn/master/Textual_Invariants/text_checkpoint/text_invariant.ckpt-V3.index\n",
            "Resolving raw.githubusercontent.com (raw.githubusercontent.com)... 151.101.0.133, 151.101.64.133, 151.101.128.133, ...\n",
            "Connecting to raw.githubusercontent.com (raw.githubusercontent.com)|151.101.0.133|:443... connected.\n",
            "HTTP request sent, awaiting response... 200 OK\n",
            "Length: 1221 (1.2K) [application/octet-stream]\n",
            "Saving to: ‘./checkpoints/text_invariants.ckpt.index’\n",
            "\n",
            "\r          ./checkpo   0%[                    ]       0  --.-KB/s               \r./checkpoints/text_ 100%[===================>]   1.19K  --.-KB/s    in 0s      \n",
            "\n",
            "2019-05-01 06:08:29 (269 MB/s) - ‘./checkpoints/text_invariants.ckpt.index’ saved [1221/1221]\n",
            "\n",
            "--2019-05-01 06:08:31--  https://github.com/hayesconverse/sym_convnn/raw/master/Textual_Invariants/text_checkpoint/text_invariant.ckpt-V3.meta\n",
            "Resolving github.com (github.com)... 140.82.118.3, 140.82.118.4\n",
            "Connecting to github.com (github.com)|140.82.118.3|:443... connected.\n",
            "HTTP request sent, awaiting response... 302 Found\n",
            "Location: https://raw.githubusercontent.com/hayesconverse/sym_convnn/master/Textual_Invariants/text_checkpoint/text_invariant.ckpt-V3.meta [following]\n",
            "--2019-05-01 06:08:31--  https://raw.githubusercontent.com/hayesconverse/sym_convnn/master/Textual_Invariants/text_checkpoint/text_invariant.ckpt-V3.meta\n",
            "Resolving raw.githubusercontent.com (raw.githubusercontent.com)... 151.101.0.133, 151.101.64.133, 151.101.128.133, ...\n",
            "Connecting to raw.githubusercontent.com (raw.githubusercontent.com)|151.101.0.133|:443... connected.\n",
            "HTTP request sent, awaiting response... 200 OK\n",
            "Length: 98501 (96K) [application/octet-stream]\n",
            "Saving to: ‘./checkpoints/text_invariants.ckpt.meta’\n",
            "\n",
            "./checkpoints/text_ 100%[===================>]  96.19K  --.-KB/s    in 0.01s   \n",
            "\n",
            "2019-05-01 06:08:31 (8.48 MB/s) - ‘./checkpoints/text_invariants.ckpt.meta’ saved [98501/98501]\n",
            "\n",
            "--2019-05-01 06:08:33--  https://github.com/hayesconverse/sym_convnn/raw/master/Textual_Invariants/text_checkpoint/text_invariant.ckpt-V3.data-00000-of-00001\n",
            "Resolving github.com (github.com)... 140.82.118.3, 140.82.118.4\n",
            "Connecting to github.com (github.com)|140.82.118.3|:443... connected.\n",
            "HTTP request sent, awaiting response... 302 Found\n",
            "Location: https://raw.githubusercontent.com/hayesconverse/sym_convnn/master/Textual_Invariants/text_checkpoint/text_invariant.ckpt-V3.data-00000-of-00001 [following]\n",
            "--2019-05-01 06:08:33--  https://raw.githubusercontent.com/hayesconverse/sym_convnn/master/Textual_Invariants/text_checkpoint/text_invariant.ckpt-V3.data-00000-of-00001\n",
            "Resolving raw.githubusercontent.com (raw.githubusercontent.com)... 151.101.0.133, 151.101.64.133, 151.101.128.133, ...\n",
            "Connecting to raw.githubusercontent.com (raw.githubusercontent.com)|151.101.0.133|:443... connected.\n",
            "HTTP request sent, awaiting response... 200 OK\n",
            "Length: 15148064 (14M) [application/octet-stream]\n",
            "Saving to: ‘./checkpoints/text_invariants.ckpt.data-00000-of-00001’\n",
            "\n",
            "./checkpoints/text_ 100%[===================>]  14.45M  --.-KB/s    in 0.06s   \n",
            "\n",
            "2019-05-01 06:08:34 (241 MB/s) - ‘./checkpoints/text_invariants.ckpt.data-00000-of-00001’ saved [15148064/15148064]\n",
            "\n"
          ],
          "name": "stdout"
        }
      ]
    },
    {
      "cell_type": "code",
      "metadata": {
        "id": "7JmFzaPPT6ql",
        "colab_type": "code",
        "outputId": "060a8014-d9ba-40a3-dd24-ca5558926289",
        "colab": {
          "base_uri": "https://localhost:8080/",
          "height": 292
        }
      },
      "source": [
        "EMB_DIMS = 64\n",
        "NUM_FILTERS = 64\n",
        "tf.reset_default_graph()\n",
        "sess = tf.InteractiveSession()\n",
        "cross_entropy, accuracy, x, x_embedded, keep_prob, y_logits, y_probs, y_, relu_layers, pooled_outputs = create_model(sequence_length=x_train.shape[1],\n",
        "        num_classes=y_train.shape[1],\n",
        "        vocab_size=len(vocab_processor.vocabulary_),\n",
        "        embedding_size=EMB_DIMS,\n",
        "        filter_sizes=list(map(int, FLAGS.filter_sizes.split(\",\"))),\n",
        "        num_filters=NUM_FILTERS)\n",
        "saver = tf.train.Saver(write_version=tf.train.SaverDef.V2)\n",
        "saver.restore(sess, './checkpoints/text_invariants.ckpt')\n",
        "\n",
        "test_accuracy = accuracy.eval(feed_dict={\n",
        "    x:x_test, y_: y_test, keep_prob: 1.0})\n",
        "print(\"Test accuracy %g\"%(test_accuracy))    \n",
        "\n",
        "validation_accuracy = accuracy.eval(feed_dict={\n",
        "    x:x_validation, y_: y_validation, keep_prob: 1.0})\n",
        "print(\"Validation accuracy %g\"%(validation_accuracy))    \n",
        "\n",
        "train_accuracy = accuracy.eval(feed_dict={\n",
        "    x:x_train, y_: y_train, keep_prob: 1.0})\n",
        "print(\"Train accuracy %g\"%(train_accuracy))  \n",
        "\n"
      ],
      "execution_count": 0,
      "outputs": [
        {
          "output_type": "stream",
          "text": [
            "WARNING:tensorflow:From /usr/local/lib/python2.7/dist-packages/tensorflow/python/framework/op_def_library.py:263: colocate_with (from tensorflow.python.framework.ops) is deprecated and will be removed in a future version.\n",
            "Instructions for updating:\n",
            "Colocations handled automatically by placer.\n",
            "WARNING:tensorflow:From <ipython-input-7-2a627585266c>:68: calling dropout (from tensorflow.python.ops.nn_ops) with keep_prob is deprecated and will be removed in a future version.\n",
            "Instructions for updating:\n",
            "Please use `rate` instead of `keep_prob`. Rate should be set to `rate = 1 - keep_prob`.\n"
          ],
          "name": "stdout"
        },
        {
          "output_type": "stream",
          "text": [
            "/usr/local/lib/python2.7/dist-packages/tensorflow/python/client/session.py:1702: UserWarning: An interactive session is already active. This can cause out-of-memory errors in some cases. You must explicitly call `InteractiveSession.close()` to release resources held by the other session(s).\n",
            "  warnings.warn('An interactive session is already active. This can '\n"
          ],
          "name": "stderr"
        },
        {
          "output_type": "stream",
          "text": [
            "WARNING:tensorflow:From /usr/local/lib/python2.7/dist-packages/tensorflow/python/training/saver.py:1266: checkpoint_exists (from tensorflow.python.training.checkpoint_management) is deprecated and will be removed in a future version.\n",
            "Instructions for updating:\n",
            "Use standard file APIs to check for files with this prefix.\n",
            "INFO:tensorflow:Restoring parameters from ./checkpoints/text_invariants.ckpt\n",
            "Test accuracy 0.738274\n",
            "Validation accuracy 0.722222\n",
            "Train accuracy 0.988107\n"
          ],
          "name": "stdout"
        }
      ]
    },
    {
      "cell_type": "markdown",
      "metadata": {
        "id": "8Nc9oYmUcsBn",
        "colab_type": "text"
      },
      "source": [
        "### Parameters of the network"
      ]
    },
    {
      "cell_type": "code",
      "metadata": {
        "id": "Uf1lzDiXcu0U",
        "colab_type": "code",
        "outputId": "90a81a14-df06-4591-a30b-6f5e2f74c423",
        "colab": {
          "base_uri": "https://localhost:8080/",
          "height": 85
        }
      },
      "source": [
        "filter_sizes=list(map(int, FLAGS.filter_sizes.split(\",\")))\n",
        "\n",
        "#w_embed = sess.run(sess.graph.get_tensor_by_name('W_embed:0'))\n",
        "#print \"Embedding, weight shape\", w_embed.shape\n",
        "\n",
        "w_convs = [None] * len(filter_sizes)\n",
        "b_convs = [None] * len(filter_sizes)\n",
        "relu_convs = [None] * len(filter_sizes)\n",
        "pool_convs = [None] * len(filter_sizes)\n",
        "h_pool_flat = sess.graph.get_tensor_by_name('h_pool_flat:0')\n",
        "for i, filter_size in enumerate(filter_sizes):\n",
        "  w_convs[i] = sess.run(sess.graph.get_tensor_by_name('W_{}:0'.format(filter_size)))\n",
        "  b_convs[i] = sess.run(sess.graph.get_tensor_by_name('W_{}:0'.format(filter_size)))\n",
        "  relu_convs[i] = sess.graph.get_tensor_by_name('relu_{}:0'.format(filter_size))\n",
        "  pool_convs[i] = sess.graph.get_tensor_by_name('pool_{}:0'.format(filter_size))\n",
        "  print \"Conv with filter size {}, weight and bias shape\".format(filter_size), w_convs[i].shape, b_convs[i].shape  \n",
        "  \n",
        "w_fc = sess.run(sess.graph.get_tensor_by_name('W_fc1:0'))\n",
        "b_fc = sess.run(sess.graph.get_tensor_by_name('b_fc1:0'))\n",
        "print \"FC, weight and bias shape\", w_fc.shape, b_fc.shape\n"
      ],
      "execution_count": 0,
      "outputs": [
        {
          "output_type": "stream",
          "text": [
            "Conv with filter size 3, weight and bias shape (3, 64, 1, 64) (3, 64, 1, 64)\n",
            "Conv with filter size 4, weight and bias shape (4, 64, 1, 64) (4, 64, 1, 64)\n",
            "Conv with filter size 5, weight and bias shape (5, 64, 1, 64) (5, 64, 1, 64)\n",
            "FC, weight and bias shape (192, 64) (64,)\n"
          ],
          "name": "stdout"
        }
      ]
    },
    {
      "cell_type": "code",
      "metadata": {
        "id": "RPvUSoGyFkdt",
        "colab_type": "code",
        "colab": {}
      },
      "source": [
        "def get_prediction(inps, tensor=y_logits, batch_size=100):\n",
        "  def get_prediction_batch(batch):\n",
        "    feed = {x: np.array(batch), keep_prob:1.0}\n",
        "    return sess.run(tensor, feed_dict=feed)\n",
        "  n = len(inps)\n",
        "  if n%batch_size == 0:\n",
        "    batches = [inps[i*batch_size:(i+1)*batch_size] for i in range(int(n/batch_size))]\n",
        "  else:\n",
        "    batches = [inps[i*batch_size:(i+1)*batch_size] for i in range(int(n/batch_size) +1)]\n",
        "  #print len(batches)\n",
        "  batch_predictions = [get_prediction_batch(b) for b in tqdm(batches)]\n",
        "  #print len(batch_predictions)\n",
        "  #print batch_predictions[0]\n",
        "  #print batch_predictions[1]\n",
        "  return np.concatenate(tuple(batch_predictions), axis=0)\n",
        "\n",
        "\n",
        "def fingerprint_suffix(inps):\n",
        "  #relu_convs[0] is the output of first convolutional filter after relu\n",
        "  # we can also use second or third filter for suffixes.\n",
        "  # Alternatively we can also use pool_convs[i] which is the output after\n",
        "  # max_pool for filter i.\n",
        "  return (get_prediction(inps, tensor=h_pool_flat, batch_size=1) > 0.0).astype('int')\n",
        "\n",
        "def fingerprint_prefix(inps):\n",
        "  return (get_prediction(inps, tensor=tf.reshape(w_convs[0], [-1, 128*128*3]), batch_size=1)>0.0).astype('int')"
      ],
      "execution_count": 0,
      "outputs": []
    },
    {
      "cell_type": "code",
      "metadata": {
        "id": "3QarR8VNHZNk",
        "colab_type": "code",
        "outputId": "18312e18-c718-4b79-8705-79f21d2458f5",
        "colab": {
          "base_uri": "https://localhost:8080/",
          "height": 85
        }
      },
      "source": [
        "# train_suffixes, train_predictions are in the same order\n",
        "# as x_train. Henceforth when we use the index i we will\n",
        "# be referring to x_train[i].\n",
        "train_suffixes = fingerprint_suffix(x_train)\n",
        "train_suffixes = train_suffixes.reshape(len(x_train),-1)\n",
        "print \"Suffixes computed for all training data\"\n",
        "train_predictions_all = get_prediction(x_train, tensor=y_probs, batch_size=10)\n",
        "train_predictions = np.argmax(train_predictions_all, axis=1)\n",
        "print \"Predictions computed for all training data\"\n"
      ],
      "execution_count": 0,
      "outputs": [
        {
          "output_type": "stream",
          "text": [
            "100%|██████████| 8156/8156 [00:08<00:00, 944.03it/s]\n",
            "  7%|▋         | 60/816 [00:00<00:01, 599.05it/s]"
          ],
          "name": "stderr"
        },
        {
          "output_type": "stream",
          "text": [
            "Suffixes computed for all training data\n"
          ],
          "name": "stdout"
        },
        {
          "output_type": "stream",
          "text": [
            "100%|██████████| 816/816 [00:01<00:00, 699.42it/s]"
          ],
          "name": "stderr"
        },
        {
          "output_type": "stream",
          "text": [
            "Predictions computed for all training data\n"
          ],
          "name": "stdout"
        },
        {
          "output_type": "stream",
          "text": [
            "\n"
          ],
          "name": "stderr"
        }
      ]
    },
    {
      "cell_type": "code",
      "metadata": {
        "id": "EJ5b2crgTiY-",
        "colab_type": "code",
        "outputId": "ed827eae-17c2-4624-ae16-d074f14ca723",
        "colab": {
          "base_uri": "https://localhost:8080/",
          "height": 85
        }
      },
      "source": [
        "# validation_suffixes, validation_predictions are in the same order\n",
        "# as x_validation. Henceforth when we use the index i we will\n",
        "# be referring to x_validation[i].\n",
        "validation_suffixes = fingerprint_suffix(x_validation)\n",
        "validation_suffixes = validation_suffixes.reshape(len(x_validation),-1)\n",
        "print \"Suffixes computed for all validation data\"\n",
        "validation_predictions_all = get_prediction(x_validation, tensor=y_probs, batch_size=10)\n",
        "validation_predictions = np.argmax(validation_predictions_all, axis=1)\n",
        "print \"Predictions computed for all validation data\""
      ],
      "execution_count": 0,
      "outputs": [
        {
          "output_type": "stream",
          "text": [
            "100%|██████████| 1440/1440 [00:01<00:00, 916.78it/s]\n",
            " 52%|█████▏    | 75/144 [00:00<00:00, 749.54it/s]"
          ],
          "name": "stderr"
        },
        {
          "output_type": "stream",
          "text": [
            "Suffixes computed for all validation data\n"
          ],
          "name": "stdout"
        },
        {
          "output_type": "stream",
          "text": [
            "\r100%|██████████| 144/144 [00:00<00:00, 725.25it/s]"
          ],
          "name": "stderr"
        },
        {
          "output_type": "stream",
          "text": [
            "Predictions computed for all validation data\n"
          ],
          "name": "stdout"
        },
        {
          "output_type": "stream",
          "text": [
            "\n"
          ],
          "name": "stderr"
        }
      ]
    },
    {
      "cell_type": "code",
      "metadata": {
        "id": "slN931B53r_t",
        "colab_type": "code",
        "outputId": "0dc3a10b-47f4-4f61-ba0a-6e645f8b42ba",
        "colab": {
          "base_uri": "https://localhost:8080/",
          "height": 85
        }
      },
      "source": [
        "# test_suffixes, test_predictions are in the same order\n",
        "# as mnist.train.images. Henceforth when we use the index i we will\n",
        "# be referring to mnist.train.images[i].\n",
        "test_suffixes = fingerprint_suffix(x_test)\n",
        "test_suffixes = test_suffixes.reshape(len(x_test),-1)\n",
        "print \"Suffixes computed for all test data\"\n",
        "test_predictions_all = get_prediction(x_test,tensor=y_probs, batch_size=10)\n",
        "test_predictions = np.argmax(test_predictions_all, axis=1)\n",
        "print \"Predictions computed for all test data\"\n"
      ],
      "execution_count": 0,
      "outputs": [
        {
          "output_type": "stream",
          "text": [
            "100%|██████████| 1066/1066 [00:01<00:00, 995.08it/s]\n",
            "100%|██████████| 107/107 [00:00<00:00, 641.37it/s]"
          ],
          "name": "stderr"
        },
        {
          "output_type": "stream",
          "text": [
            "Suffixes computed for all test data\n",
            "Predictions computed for all test data\n"
          ],
          "name": "stdout"
        },
        {
          "output_type": "stream",
          "text": [
            "\n"
          ],
          "name": "stderr"
        }
      ]
    },
    {
      "cell_type": "markdown",
      "metadata": {
        "id": "yR9bYFN9E9lg",
        "colab_type": "text"
      },
      "source": [
        "## Library for IG Attribution and Conductance"
      ]
    },
    {
      "cell_type": "code",
      "metadata": {
        "id": "L2F_QleSkgvY",
        "colab_type": "code",
        "colab": {}
      },
      "source": [
        "t_label = tf.placeholder(tf.int32)\n",
        "t_neuron_id = tf.placeholder(tf.int32)\n",
        "t_grad = tf.gradients(y_probs[:, t_label], x_embedded)[0]\n",
        "t_layer = h_pool_flat\n",
        "t_grad_layer = tf.gradients(y_probs[:, t_label], t_layer)[0]\n",
        "t_grad_conductance = tf.gradients(t_layer[:, t_neuron_id], x_embedded, grad_ys=t_grad_layer[:, t_neuron_id])[0]"
      ],
      "execution_count": 0,
      "outputs": []
    },
    {
      "cell_type": "code",
      "metadata": {
        "id": "TL92gsWskV0-",
        "colab_type": "code",
        "colab": {}
      },
      "source": [
        "import copy\n",
        "\n",
        "def conductance(inp, label, neuron_id=None, baseline=None, steps=20, verbose=True):\n",
        "  # neuron_id is the id of the neuron in layer t_layer through which conductance\n",
        "  # must be computed. If None, vanilla IG is computed.\n",
        "  if baseline is None:\n",
        "    baseline = 0*inp\n",
        "  embs = sess.run(x_embedded, {x:[inp, baseline]})  # <batch, num_tokens, emd_dims>\n",
        "  inp_emb = embs[0, :, :]\n",
        "  baseline_emb = embs[1, :, :]\n",
        "  scaled_embs = [baseline_emb + (float(i)/steps)*(inp_emb-baseline_emb) for i in range(0, steps+1)]\n",
        "  feed = {keep_prob:1.0}\n",
        "  feed[x_embedded] = scaled_embs\n",
        "  feed[t_label] = label\n",
        "  if neuron_id != None:\n",
        "    feed[t_neuron_id] = neuron_id\n",
        "    grads = sess.run(t_grad_conductance, feed_dict=feed)  # shapes: <steps+1, inp_emb.shape[1:]>\n",
        "    integrated_gradients = (inp_emb-baseline_emb)*np.average(grads[1:, :, :], axis=0)  # shape: <inp_emb.shape>\n",
        "    return integrated_gradients\n",
        "  grads, scores = sess.run([t_grad, y_probs], feed_dict=feed)  # shapes: <steps+1, inp_emb.shape>, <steps, num_labels>    \n",
        "  integrated_gradients = (inp_emb-baseline_emb)*np.average(grads[1:,:,:], axis=0)  # shape: <inp.shape>\n",
        "  if verbose:\n",
        "    print \"FINAL SCORE\", scores[-1][label]\n",
        "    print \"BASELINE SCORE\", scores[0][label]\n",
        "    print \"SUM\", np.sum(integrated_gradients), \"DIFF\", scores[-1][label] - scores[0][label]\n",
        "  return integrated_gradients\n",
        "\n",
        "def all_conductances(inp, label, baseline=None, steps=20):\n",
        "  # neuron_id is the id of the neuron in layer t_layer through which conductance\n",
        "  # must be computed. If None, vanilla IG is computed.\n",
        "  if baseline is None:\n",
        "    baseline = 0*inp\n",
        "  embs = sess.run(x_embedded, {x:[inp, baseline]})  # <batch, num_tokens, emd_dims>\n",
        "  inp_emb = embs[0, :, :]\n",
        "  baseline_emb = embs[1, :, :]\n",
        "  scaled_embs = [baseline_emb + (float(i)/steps)*(inp_emb-baseline_emb) for i in range(0, steps+1)]\n",
        "  feed = {keep_prob:1.0}\n",
        "  feed[x_embedded] = scaled_embs\n",
        "  feed[t_label] = label\n",
        "  grads, layer = sess.run([t_grad_layer,  t_layer], feed_dict=feed)  # shapes: <steps+1, t_layer.shape[1:]>\n",
        "  layer_steps = layer[1:, :] - layer[:-1, :]  # shape: <steps, t_layer.shape[1:]>\n",
        "  conductances = np.sum(grads[:-1]*layer_steps, axis=0)\n",
        "  return conductances\n"
      ],
      "execution_count": 0,
      "outputs": []
    },
    {
      "cell_type": "markdown",
      "metadata": {
        "id": "iG5Fq5GIkP6u",
        "colab_type": "text"
      },
      "source": [
        "## Library for Visualizing Images and Attributions"
      ]
    },
    {
      "cell_type": "code",
      "metadata": {
        "id": "czxZISZYkLaH",
        "colab_type": "code",
        "colab": {}
      },
      "source": [
        "import PIL.Image\n",
        "from IPython.display import clear_output, Image, display, HTML\n",
        "import numpy as np\n",
        "from cStringIO import StringIO"
      ],
      "execution_count": 0,
      "outputs": []
    },
    {
      "cell_type": "code",
      "metadata": {
        "id": "x_o25suPkTL3",
        "colab_type": "code",
        "colab": {}
      },
      "source": [
        "def get_tokens(inp):\n",
        "  \"\"\"\n",
        "  inp: List of token indices\n",
        "  \"\"\"\n",
        "  return [vocab_processor.vocabulary_.reverse(i) for i in inp]\n",
        "\n",
        "def color_code_attrs(attrs):\n",
        "  \"\"\"\n",
        "  Return a color coding for an array of attribution values\n",
        "  Args:\n",
        "  - attrs: A np.array of attributions\n",
        "  \n",
        "  Returns:\n",
        "  - colors: A np.array of colors (RGB tuples) of the same as size as attrs.\n",
        "  \"\"\"\n",
        "  def get_color(attr):\n",
        "    if attr > 0:\n",
        "      r = int(128*attr) + 127\n",
        "      g = 128 - int(64*attr)\n",
        "      b = 128 - int(64*attr) \n",
        "    else:\n",
        "      r = 128 + int(64*attr)\n",
        "      g = 128 + int(64*attr)\n",
        "      b = int(-128*attr) + 127\n",
        "    return r,g,b\n",
        "\n",
        "  # normalize attributions.\n",
        "  bound = max(abs(attrs.max()), abs(attrs.min()))\n",
        "  # Avoid dividing by zero.\n",
        "  if bound != 0.0:\n",
        "    attrs = attrs / bound\n",
        "  colors = []\n",
        "  for a in attrs:\n",
        "    colors.append(get_color(a))\n",
        "  return colors\n",
        "\n",
        "def visualize_token_colors(tokens, colors):\n",
        "  html_text = \"\"\n",
        "  for i, tok in enumerate(tokens):\n",
        "    r,g,b = colors[i]\n",
        "    html_text += \" <span style='color:rgb(%d,%d,%d)'>%s</span>\" % (r, g, b, tok)\n",
        "  return HTML(html_text)\n",
        "\n",
        "def visualize_token_attrs(tokens, attrs):\n",
        "  \"\"\"\n",
        "  Visualize attributions for given set of tokens.\n",
        "  Args:\n",
        "  - tokens: A np.array of tokens\n",
        "  - attrs: A np.array of attributions, of same size as 'tokens',\n",
        "    with attrs[i] being the attribution to tokens[i]\n",
        "  \n",
        "  Returns:\n",
        "  - visualization: An IPython.core.display.HTML object showing\n",
        "    tokens color-coded based on strength of their attribution.\n",
        "  \"\"\"\n",
        "  if len(tokens) == 0:\n",
        "    return HTML('')\n",
        "  assert len(tokens) == len(attrs)\n",
        "  colors = color_code_attrs(attrs)\n",
        "  return visualize_token_colors(tokens, colors)\n",
        "\n",
        "def get_conductances(inp, label, neuron_ids):\n",
        "  res = []\n",
        "  for nid in neuron_ids:\n",
        "    res.append(np.sum(conductance(inp, label, neuron_id=nid), axis=1))\n",
        "  return res\n",
        "\n",
        "def visualize_conductances(inp, label, neuron_ids):\n",
        "  # Visualize the conductances for the provided inp.\n",
        "  # Args:\n",
        "  # - inp: the provided input\n",
        "  # - label: prediction label w.r.t. conductance must be computed\n",
        "  # - neuron_ids: list of neurons indices from the suffix tensor for which\n",
        "  #    conductances must be computed.\n",
        "  # - only_on: If True then conductance is computed only for those neurons\n",
        "  #    that are on for the given image.\n",
        "  # Returns a list of visualizations such that visualizations[i] corresponds\n",
        "  # to conductance for neuron_ids[i]\n",
        "  tokens = get_tokens(inp)\n",
        "  visualizations = []\n",
        "  conductances = get_conductances(inp, label, neuron_ids)\n",
        "  for c in conductances:\n",
        "    visualizations.append(visualize_token_attrs(tokens, c))\n",
        "  return visualizations"
      ],
      "execution_count": 0,
      "outputs": []
    },
    {
      "cell_type": "markdown",
      "metadata": {
        "id": "8siaQSVZ3bNg",
        "colab_type": "text"
      },
      "source": [
        "## Attribution Based Similarity"
      ]
    },
    {
      "cell_type": "code",
      "metadata": {
        "id": "CuV8iZoPPzhv",
        "colab_type": "code",
        "colab": {}
      },
      "source": [
        "def get_embeddings(inputs, bow=True, attrs=None):\n",
        "  embs = sess.run(x_embedded, {x:inputs})\n",
        "  if not bow:\n",
        "    return embs\n",
        "  if attrs == None:\n",
        "    attrs = np.array([[1 if i < np.where(token_ids == 0)[0][0] else 0 for i in range(56)] for token_ids in inputs])\n",
        "  embs = np.transpose(np.transpose(embs, [2, 0, 1])*attrs, [1,2, 0])\n",
        "  embs = np.sum(embs, axis=1)\n",
        "  return embs"
      ],
      "execution_count": 0,
      "outputs": []
    },
    {
      "cell_type": "code",
      "metadata": {
        "id": "9tZtmHSSjIY3",
        "colab_type": "code",
        "colab": {}
      },
      "source": [
        "from scipy.spatial.distance import cosine\n",
        "\n",
        "def cosine_matrix(embs):\n",
        "  # embs is of shape <N, d>\n",
        "  # return matrix is of shape <N, N>\n",
        "\n",
        "  dot_products = np.matmul(embs, np.transpose(embs, [1,0]))\n",
        "  norms = np.expand_dims(np.linalg.norm(embs, axis=1), 1)\n",
        "  cosine_similarity = dot_products/np.matmul(norms, np.transpose(norms, [1,0]))\n",
        "  cosine_distances = 1 - cosine_similarity\n",
        "  return cosine_distances"
      ],
      "execution_count": 0,
      "outputs": []
    },
    {
      "cell_type": "code",
      "metadata": {
        "id": "DDyfmFOGdlIK",
        "colab_type": "code",
        "outputId": "096e7d8c-2032-494e-95bf-d13f680f010a",
        "colab": {
          "base_uri": "https://localhost:8080/",
          "height": 34
        }
      },
      "source": [
        "attrs_validation = []\n",
        "for i, token_ids in tqdm(enumerate(x_validation)):\n",
        "  prediction = validation_predictions[i]\n",
        "  attrs = conductance(token_ids, prediction, steps=50, verbose=False)\n",
        "  attrs = np.sum(attrs, axis=1)\n",
        "  attrs_validation.append(attrs)"
      ],
      "execution_count": 0,
      "outputs": [
        {
          "output_type": "stream",
          "text": [
            "1440it [00:06, 238.80it/s]\n"
          ],
          "name": "stderr"
        }
      ]
    },
    {
      "cell_type": "code",
      "metadata": {
        "id": "a0OIvFR3dWCd",
        "colab_type": "code",
        "colab": {}
      },
      "source": [
        "embs_validation = get_embeddings(x_validation, bow=True)  # Orig BOW embeddings\n",
        "embs_validation_attrs = get_embeddings(x_validation, bow=True, attrs=attrs_validation)  # Attribute scaled embeddings\n",
        "\n",
        "cosine_distances_validation = cosine_matrix(embs_validation)\n",
        "cosine_distances_validation_attrs = cosine_matrix(embs_validation_attrs)"
      ],
      "execution_count": 0,
      "outputs": []
    },
    {
      "cell_type": "code",
      "metadata": {
        "id": "IvhubMszV_-p",
        "colab_type": "code",
        "colab": {}
      },
      "source": [
        "def nearest(ind, distance_matrix, k=10):\n",
        "  distances = distance_matrix[ind, :]\n",
        "  return np.argsort(distances)[::-1][:k]"
      ],
      "execution_count": 0,
      "outputs": []
    },
    {
      "cell_type": "code",
      "metadata": {
        "id": "pB5tjS9niixj",
        "colab_type": "code",
        "outputId": "3e56aa90-0f85-4a6a-c01b-240b73288532",
        "colab": {
          "base_uri": "https://localhost:8080/",
          "height": 86
        }
      },
      "source": [
        "ref_id = 0\n",
        "sentence = x_text_validation[ref_id]\n",
        "tokens = sentence.split(\" \")\n",
        "token_ids = x_validation[ref_id]\n",
        "prediction = validation_predictions_all[ref_id]\n",
        "gt = y_validation[ref_id]\n",
        "attrs = attrs_validation[ref_id]\n",
        "print(\"Predictions\", prediction)\n",
        "print(\"GT\", gt)\n",
        "print(\"Correct\", np.argmax(gt)==np.argmax(prediction))\n",
        "visualize_token_attrs(tokens, attrs[:len(tokens)])"
      ],
      "execution_count": 0,
      "outputs": [
        {
          "output_type": "stream",
          "text": [
            "('Predictions', array([0.03953326, 0.96046674], dtype=float32))\n",
            "('GT', array([0, 1]))\n",
            "('Correct', True)\n"
          ],
          "name": "stdout"
        },
        {
          "output_type": "execute_result",
          "data": {
            "text/html": [
              " <span style='color:rgb(136,124,124)'>a</span> <span style='color:rgb(205,89,89)'>delightful</span> <span style='color:rgb(160,112,112)'>,</span> <span style='color:rgb(255,64,64)'>if</span> <span style='color:rgb(127,127,130)'>minor</span> <span style='color:rgb(132,126,126)'>,</span> <span style='color:rgb(119,119,146)'>pastry</span> <span style='color:rgb(104,104,176)'>of</span> <span style='color:rgb(128,128,127)'>a</span> <span style='color:rgb(128,128,127)'>movie</span>"
            ],
            "text/plain": [
              "<IPython.core.display.HTML object>"
            ]
          },
          "metadata": {
            "tags": []
          },
          "execution_count": 36
        }
      ]
    },
    {
      "cell_type": "code",
      "metadata": {
        "id": "VXJqtohjWpl8",
        "colab_type": "code",
        "outputId": "a22bf3e5-fbf4-48a3-cba5-3747235d39ab",
        "colab": {
          "base_uri": "https://localhost:8080/",
          "height": 5331
        }
      },
      "source": [
        "def show_example(i, with_prediction=True):\n",
        "  attrs = attrs_validation[i]\n",
        "  sentence = x_text_validation[i]\n",
        "  tokens = sentence.split(\" \")\n",
        "  token_ids = x_validation[i]\n",
        "  display(visualize_token_attrs(tokens, attrs[:len(tokens)]))\n",
        "  if with_prediction:\n",
        "    prediction = validation_predictions_all[i]\n",
        "    gt = y_validation[i]\n",
        "    print(\"Prediction\", prediction)\n",
        "    print(\"GT\", gt)\n",
        "    print(\"Correct\", np.argmax(gt)==np.argmax(prediction))\n",
        "\n",
        "for i in range(10):\n",
        "  show_example(i)\n",
        "  print(\"\")\n",
        "  print(\"Nearest based on Embedding similarity\")\n",
        "  for j in nearest(i, embs_validation, k=10):\n",
        "    show_example(j, with_prediction=False)\n",
        "  print(\"\")\n",
        "  print(\"Nearest based on Attribution similarity\")\n",
        "  for j in nearest(i, embs_validation_attrs, k=10):\n",
        "    show_example(j, with_prediction=False)\n",
        "  print(\"\")\n"
      ],
      "execution_count": 0,
      "outputs": [
        {
          "output_type": "display_data",
          "data": {
            "text/plain": [
              "<IPython.core.display.HTML object>"
            ],
            "text/html": [
              " <span style='color:rgb(136,124,124)'>a</span> <span style='color:rgb(205,89,89)'>delightful</span> <span style='color:rgb(160,112,112)'>,</span> <span style='color:rgb(255,64,64)'>if</span> <span style='color:rgb(127,127,130)'>minor</span> <span style='color:rgb(132,126,126)'>,</span> <span style='color:rgb(119,119,146)'>pastry</span> <span style='color:rgb(104,104,176)'>of</span> <span style='color:rgb(128,128,127)'>a</span> <span style='color:rgb(128,128,127)'>movie</span>"
            ]
          },
          "metadata": {
            "tags": []
          }
        },
        {
          "output_type": "stream",
          "text": [
            "('Prediction', array([0.03953326, 0.96046674], dtype=float32))\n",
            "('GT', array([0, 1]))\n",
            "('Correct', True)\n",
            "\n",
            "Nearest based on Embedding similarity\n"
          ],
          "name": "stdout"
        },
        {
          "output_type": "display_data",
          "data": {
            "text/plain": [
              "<IPython.core.display.HTML object>"
            ],
            "text/html": [
              " <span style='color:rgb(122,122,139)'>hell</span> <span style='color:rgb(126,126,132)'>is</span> <span style='color:rgb(124,124,136)'>looking</span> <span style='color:rgb(136,124,124)'>down</span> <span style='color:rgb(119,119,145)'>at</span> <span style='color:rgb(117,117,149)'>your</span> <span style='color:rgb(118,118,147)'>watch</span> <span style='color:rgb(110,110,164)'>and</span> <span style='color:rgb(128,128,127)'>realizing</span> <span style='color:rgb(148,118,118)'>serving</span> <span style='color:rgb(255,64,64)'>sara</span> <span style='color:rgb(150,117,117)'>is</span> <span style='color:rgb(158,113,113)'>n't</span> <span style='color:rgb(151,116,116)'>even</span> <span style='color:rgb(162,111,111)'>halfway</span> <span style='color:rgb(132,126,126)'>through</span>"
            ]
          },
          "metadata": {
            "tags": []
          }
        },
        {
          "output_type": "display_data",
          "data": {
            "text/plain": [
              "<IPython.core.display.HTML object>"
            ],
            "text/html": [
              " <span style='color:rgb(142,121,121)'>kapur</span> <span style='color:rgb(167,108,108)'>weighs</span> <span style='color:rgb(154,115,115)'>down</span> <span style='color:rgb(121,121,141)'>the</span> <span style='color:rgb(127,128,128)'>tale</span> <span style='color:rgb(122,122,140)'>with</span> <span style='color:rgb(255,64,64)'>bogus</span> <span style='color:rgb(153,115,115)'>profundities</span>"
            ]
          },
          "metadata": {
            "tags": []
          }
        },
        {
          "output_type": "display_data",
          "data": {
            "text/plain": [
              "<IPython.core.display.HTML object>"
            ],
            "text/html": [
              " <span style='color:rgb(157,113,113)'>writer</span> <span style='color:rgb(157,113,113)'>director</span> <span style='color:rgb(255,64,64)'>walter</span> <span style='color:rgb(226,79,79)'>hill</span> <span style='color:rgb(186,99,99)'>and</span> <span style='color:rgb(142,121,121)'>co</span> <span style='color:rgb(162,111,111)'>writer</span> <span style='color:rgb(149,117,117)'>david</span> <span style='color:rgb(83,83,218)'>giler</span> <span style='color:rgb(104,104,175)'>try</span> <span style='color:rgb(98,98,188)'>to</span> <span style='color:rgb(71,71,242)'>create</span> <span style='color:rgb(111,111,161)'>characters</span> <span style='color:rgb(100,100,184)'>out</span> <span style='color:rgb(142,121,121)'>of</span> <span style='color:rgb(125,125,133)'>the</span> <span style='color:rgb(119,119,145)'>obvious</span> <span style='color:rgb(116,116,152)'>cliches</span> <span style='color:rgb(135,124,124)'>,</span> <span style='color:rgb(143,120,120)'>but</span> <span style='color:rgb(133,125,125)'>wind</span> <span style='color:rgb(140,122,122)'>up</span> <span style='color:rgb(168,108,108)'>using</span> <span style='color:rgb(127,128,128)'>them</span> <span style='color:rgb(186,99,99)'>as</span> <span style='color:rgb(151,116,116)'>punching</span> <span style='color:rgb(128,128,127)'>bags</span>"
            ]
          },
          "metadata": {
            "tags": []
          }
        },
        {
          "output_type": "display_data",
          "data": {
            "text/plain": [
              "<IPython.core.display.HTML object>"
            ],
            "text/html": [
              " <span style='color:rgb(132,126,126)'>the</span> <span style='color:rgb(183,100,100)'>ingenuity</span> <span style='color:rgb(144,120,120)'>that</span> <span style='color:rgb(239,72,72)'>parker</span> <span style='color:rgb(164,110,110)'>displays</span> <span style='color:rgb(110,110,163)'>in</span> <span style='color:rgb(210,87,87)'>freshening</span> <span style='color:rgb(153,115,115)'>the</span> <span style='color:rgb(199,92,92)'>play</span> <span style='color:rgb(201,91,91)'>is</span> <span style='color:rgb(255,64,64)'>almost</span> <span style='color:rgb(137,123,123)'>in</span> <span style='color:rgb(116,116,151)'>a</span> <span style='color:rgb(120,120,143)'>class</span> <span style='color:rgb(70,70,244)'>with</span> <span style='color:rgb(77,77,229)'>that</span> <span style='color:rgb(114,114,155)'>of</span> <span style='color:rgb(142,121,121)'>wilde</span> <span style='color:rgb(116,116,152)'>himself</span>"
            ]
          },
          "metadata": {
            "tags": []
          }
        },
        {
          "output_type": "display_data",
          "data": {
            "text/plain": [
              "<IPython.core.display.HTML object>"
            ],
            "text/html": [
              " <span style='color:rgb(130,127,127)'>one</span> <span style='color:rgb(131,126,126)'>of</span> <span style='color:rgb(136,124,124)'>those</span> <span style='color:rgb(124,124,136)'>films</span> <span style='color:rgb(115,115,153)'>where</span> <span style='color:rgb(128,128,128)'>the</span> <span style='color:rgb(100,100,184)'>characters</span> <span style='color:rgb(96,96,191)'>inhabit</span> <span style='color:rgb(119,119,145)'>that</span> <span style='color:rgb(64,64,255)'>special</span> <span style='color:rgb(91,91,201)'>annex</span> <span style='color:rgb(137,123,123)'>of</span> <span style='color:rgb(121,121,142)'>hell</span> <span style='color:rgb(128,128,127)'>where</span> <span style='color:rgb(171,106,106)'>adults</span> <span style='color:rgb(135,124,124)'>behave</span> <span style='color:rgb(115,115,154)'>like</span> <span style='color:rgb(170,107,107)'>kids</span> <span style='color:rgb(143,120,120)'>,</span> <span style='color:rgb(124,124,136)'>children</span> <span style='color:rgb(128,128,128)'>behave</span> <span style='color:rgb(191,96,96)'>like</span> <span style='color:rgb(151,116,116)'>adults</span> <span style='color:rgb(186,99,99)'>and</span> <span style='color:rgb(182,101,101)'>everyone</span> <span style='color:rgb(186,99,99)'>screams</span> <span style='color:rgb(143,120,120)'>at</span> <span style='color:rgb(196,94,94)'>the</span> <span style='color:rgb(156,114,114)'>top</span> <span style='color:rgb(166,109,109)'>of</span> <span style='color:rgb(176,104,104)'>their</span> <span style='color:rgb(112,112,159)'>lungs</span> <span style='color:rgb(118,118,147)'>no</span> <span style='color:rgb(125,125,133)'>matter</span> <span style='color:rgb(121,121,142)'>what</span> <span style='color:rgb(98,98,187)'>the</span> <span style='color:rgb(128,128,127)'>situation</span>"
            ]
          },
          "metadata": {
            "tags": []
          }
        },
        {
          "output_type": "display_data",
          "data": {
            "text/plain": [
              "<IPython.core.display.HTML object>"
            ],
            "text/html": [
              " <span style='color:rgb(125,125,133)'>jir</span> <span style='color:rgb(119,119,146)'>hubac</span> <span style='color:rgb(128,128,128)'>'s</span> <span style='color:rgb(110,110,163)'>script</span> <span style='color:rgb(140,122,122)'>is</span> <span style='color:rgb(155,114,114)'>a</span> <span style='color:rgb(255,64,64)'>gem</span> <span style='color:rgb(128,128,128)'>his</span> <span style='color:rgb(165,109,109)'>characters</span> <span style='color:rgb(129,127,127)'>are</span> <span style='color:rgb(215,84,84)'>engaging</span> <span style='color:rgb(210,87,87)'>,</span> <span style='color:rgb(136,124,124)'>intimate</span> <span style='color:rgb(140,122,122)'>and</span> <span style='color:rgb(127,127,130)'>the</span> <span style='color:rgb(127,128,128)'>dialogue</span> <span style='color:rgb(151,116,116)'>is</span> <span style='color:rgb(148,118,118)'>realistic</span> <span style='color:rgb(150,117,117)'>and</span> <span style='color:rgb(165,109,109)'>greatly</span> <span style='color:rgb(130,127,127)'>moving</span> <span style='color:rgb(131,126,126)'>the</span> <span style='color:rgb(132,126,126)'>scope</span> <span style='color:rgb(131,126,126)'>of</span> <span style='color:rgb(133,125,125)'>the</span> <span style='color:rgb(127,128,128)'>silberstein</span> <span style='color:rgb(130,127,127)'>family</span> <span style='color:rgb(125,125,133)'>is</span> <span style='color:rgb(128,128,128)'>large</span> <span style='color:rgb(131,126,126)'>and</span> <span style='color:rgb(129,127,127)'>we</span> <span style='color:rgb(123,123,138)'>grow</span> <span style='color:rgb(127,127,130)'>attached</span> <span style='color:rgb(137,123,123)'>to</span> <span style='color:rgb(134,125,125)'>their</span> <span style='color:rgb(133,125,125)'>lives</span> <span style='color:rgb(138,123,123)'>,</span> <span style='color:rgb(172,106,106)'>full</span> <span style='color:rgb(134,125,125)'>of</span> <span style='color:rgb(128,128,128)'>strength</span> <span style='color:rgb(144,120,120)'>,</span> <span style='color:rgb(128,128,127)'>warmth</span> <span style='color:rgb(128,128,127)'>and</span> <span style='color:rgb(128,128,127)'>vitality</span>"
            ]
          },
          "metadata": {
            "tags": []
          }
        },
        {
          "output_type": "display_data",
          "data": {
            "text/plain": [
              "<IPython.core.display.HTML object>"
            ],
            "text/html": [
              " <span style='color:rgb(132,126,126)'>a</span> <span style='color:rgb(198,93,93)'>funny</span> <span style='color:rgb(146,119,119)'>and</span> <span style='color:rgb(255,64,64)'>touching</span> <span style='color:rgb(180,102,102)'>film</span> <span style='color:rgb(140,122,122)'>that</span> <span style='color:rgb(127,127,129)'>is</span> <span style='color:rgb(121,121,141)'>gorgeously</span> <span style='color:rgb(127,127,129)'>acted</span> <span style='color:rgb(121,121,142)'>by</span> <span style='color:rgb(128,128,127)'>a</span> <span style='color:rgb(125,125,133)'>british</span> <span style='color:rgb(128,128,128)'>cast</span> <span style='color:rgb(122,122,140)'>to</span> <span style='color:rgb(101,101,182)'>rival</span> <span style='color:rgb(114,114,155)'>gosford</span> <span style='color:rgb(122,122,139)'>park</span> <span style='color:rgb(127,127,130)'>'s</span>"
            ]
          },
          "metadata": {
            "tags": []
          }
        },
        {
          "output_type": "display_data",
          "data": {
            "text/plain": [
              "<IPython.core.display.HTML object>"
            ],
            "text/html": [
              " <span style='color:rgb(140,122,122)'>sen</span> <span style='color:rgb(134,125,125)'>'s</span> <span style='color:rgb(181,101,101)'>soap</span> <span style='color:rgb(180,102,102)'>opera</span> <span style='color:rgb(176,104,104)'>ish</span> <span style='color:rgb(141,121,121)'>approach</span> <span style='color:rgb(125,125,134)'>undermines</span> <span style='color:rgb(111,111,162)'>his</span> <span style='color:rgb(90,90,204)'>good</span> <span style='color:rgb(255,64,64)'>intentions</span>"
            ]
          },
          "metadata": {
            "tags": []
          }
        },
        {
          "output_type": "display_data",
          "data": {
            "text/plain": [
              "<IPython.core.display.HTML object>"
            ],
            "text/html": [
              " <span style='color:rgb(154,115,115)'>one</span> <span style='color:rgb(111,111,161)'>suspects</span> <span style='color:rgb(150,117,117)'>that</span> <span style='color:rgb(209,87,87)'>craven</span> <span style='color:rgb(158,113,113)'>endorses</span> <span style='color:rgb(93,93,197)'>they</span> <span style='color:rgb(230,77,77)'>simply</span> <span style='color:rgb(64,64,255)'>because</span> <span style='color:rgb(110,110,164)'>this</span> <span style='color:rgb(164,110,110)'>movie</span> <span style='color:rgb(121,121,142)'>makes</span> <span style='color:rgb(110,110,163)'>his</span> <span style='color:rgb(126,126,132)'>own</span> <span style='color:rgb(71,71,242)'>look</span> <span style='color:rgb(159,112,112)'>much</span> <span style='color:rgb(240,72,72)'>better</span> <span style='color:rgb(198,93,93)'>by</span> <span style='color:rgb(176,104,104)'>comparison</span>"
            ]
          },
          "metadata": {
            "tags": []
          }
        },
        {
          "output_type": "display_data",
          "data": {
            "text/plain": [
              "<IPython.core.display.HTML object>"
            ],
            "text/html": [
              " <span style='color:rgb(128,128,128)'>it</span> <span style='color:rgb(160,112,112)'>concentrates</span> <span style='color:rgb(181,101,101)'>far</span> <span style='color:rgb(255,64,64)'>too</span> <span style='color:rgb(199,92,92)'>much</span> <span style='color:rgb(177,103,103)'>on</span> <span style='color:rgb(145,119,119)'>the</span> <span style='color:rgb(220,82,82)'>awkward</span> <span style='color:rgb(189,97,97)'>interplay</span> <span style='color:rgb(110,110,163)'>and</span> <span style='color:rgb(142,121,121)'>utter</span> <span style='color:rgb(155,114,114)'>lack</span> <span style='color:rgb(124,124,135)'>of</span> <span style='color:rgb(104,104,176)'>chemistry</span> <span style='color:rgb(110,110,164)'>between</span> <span style='color:rgb(126,126,131)'>chan</span> <span style='color:rgb(107,107,170)'>and</span> <span style='color:rgb(130,127,127)'>hewitt</span>"
            ]
          },
          "metadata": {
            "tags": []
          }
        },
        {
          "output_type": "stream",
          "text": [
            "\n",
            "Nearest based on Attribution similarity\n"
          ],
          "name": "stdout"
        },
        {
          "output_type": "display_data",
          "data": {
            "text/plain": [
              "<IPython.core.display.HTML object>"
            ],
            "text/html": [
              " <span style='color:rgb(126,126,132)'>a</span> <span style='color:rgb(149,117,117)'>few</span> <span style='color:rgb(91,91,201)'>zingers</span> <span style='color:rgb(112,112,159)'>aside</span> <span style='color:rgb(114,114,156)'>,</span> <span style='color:rgb(223,80,80)'>the</span> <span style='color:rgb(128,128,128)'>writing</span> <span style='color:rgb(253,65,65)'>is</span> <span style='color:rgb(98,98,187)'>indifferent</span> <span style='color:rgb(255,64,64)'>,</span> <span style='color:rgb(138,123,123)'>and</span> <span style='color:rgb(112,112,159)'>jordan</span> <span style='color:rgb(143,120,120)'>brady</span> <span style='color:rgb(144,120,120)'>'s</span> <span style='color:rgb(150,117,117)'>direction</span> <span style='color:rgb(128,128,127)'>is</span> <span style='color:rgb(128,128,127)'>prosaic</span>"
            ]
          },
          "metadata": {
            "tags": []
          }
        },
        {
          "output_type": "display_data",
          "data": {
            "text/plain": [
              "<IPython.core.display.HTML object>"
            ],
            "text/html": [
              " <span style='color:rgb(130,127,127)'>the</span> <span style='color:rgb(137,123,123)'>journey</span> <span style='color:rgb(143,120,120)'>to</span> <span style='color:rgb(137,123,123)'>the</span> <span style='color:rgb(255,64,64)'>secret</span> <span style='color:rgb(153,115,115)'>'s</span> <span style='color:rgb(196,94,94)'>eventual</span> <span style='color:rgb(127,127,129)'>discovery</span> <span style='color:rgb(123,123,137)'>is</span> <span style='color:rgb(118,118,147)'>a</span> <span style='color:rgb(128,128,128)'>separate</span> <span style='color:rgb(104,104,175)'>adventure</span> <span style='color:rgb(102,102,180)'>,</span> <span style='color:rgb(94,94,195)'>and</span> <span style='color:rgb(118,118,148)'>thrill</span> <span style='color:rgb(128,128,127)'>enough</span>"
            ]
          },
          "metadata": {
            "tags": []
          }
        },
        {
          "output_type": "display_data",
          "data": {
            "text/plain": [
              "<IPython.core.display.HTML object>"
            ],
            "text/html": [
              " <span style='color:rgb(208,88,88)'>mostly</span> <span style='color:rgb(225,79,79)'>,</span> <span style='color:rgb(124,124,135)'>shafer</span> <span style='color:rgb(132,126,126)'>and</span> <span style='color:rgb(115,115,154)'>co</span> <span style='color:rgb(64,64,255)'>writer</span> <span style='color:rgb(122,122,139)'>gregory</span> <span style='color:rgb(236,74,74)'>hinton</span> <span style='color:rgb(106,106,171)'>lack</span> <span style='color:rgb(188,98,98)'>a</span> <span style='color:rgb(126,126,132)'>strong</span> <span style='color:rgb(185,99,99)'>minded</span> <span style='color:rgb(168,108,108)'>viewpoint</span> <span style='color:rgb(113,113,158)'>,</span> <span style='color:rgb(121,121,142)'>or</span> <span style='color:rgb(102,102,179)'>a</span> <span style='color:rgb(87,87,210)'>sense</span> <span style='color:rgb(128,128,127)'>of</span> <span style='color:rgb(128,128,127)'>humor</span>"
            ]
          },
          "metadata": {
            "tags": []
          }
        },
        {
          "output_type": "display_data",
          "data": {
            "text/plain": [
              "<IPython.core.display.HTML object>"
            ],
            "text/html": [
              " <span style='color:rgb(128,128,128)'>how</span> <span style='color:rgb(127,128,128)'>i</span> <span style='color:rgb(185,99,99)'>killed</span> <span style='color:rgb(213,85,85)'>my</span> <span style='color:rgb(176,104,104)'>father</span> <span style='color:rgb(138,123,123)'>is</span> <span style='color:rgb(142,121,121)'>one</span> <span style='color:rgb(149,117,117)'>of</span> <span style='color:rgb(149,117,117)'>those</span> <span style='color:rgb(152,116,116)'>art</span> <span style='color:rgb(120,120,143)'>house</span> <span style='color:rgb(128,128,128)'>films</span> <span style='color:rgb(127,127,129)'>that</span> <span style='color:rgb(164,110,110)'>makes</span> <span style='color:rgb(169,107,107)'>you</span> <span style='color:rgb(167,108,108)'>feel</span> <span style='color:rgb(159,112,112)'>like</span> <span style='color:rgb(138,123,123)'>you</span> <span style='color:rgb(127,127,129)'>'re</span> <span style='color:rgb(123,123,137)'>watching</span> <span style='color:rgb(126,126,131)'>an</span> <span style='color:rgb(126,126,132)'>iceberg</span> <span style='color:rgb(125,125,133)'>melt</span> <span style='color:rgb(70,70,243)'>only</span> <span style='color:rgb(117,117,149)'>it</span> <span style='color:rgb(64,64,255)'>never</span> <span style='color:rgb(119,119,145)'>melts</span>"
            ]
          },
          "metadata": {
            "tags": []
          }
        },
        {
          "output_type": "display_data",
          "data": {
            "text/plain": [
              "<IPython.core.display.HTML object>"
            ],
            "text/html": [
              " <span style='color:rgb(159,112,112)'>blade</span> <span style='color:rgb(155,114,114)'>ii</span> <span style='color:rgb(123,123,138)'>merges</span> <span style='color:rgb(149,117,117)'>bits</span> <span style='color:rgb(122,122,140)'>and</span> <span style='color:rgb(103,103,177)'>pieces</span> <span style='color:rgb(115,115,154)'>from</span> <span style='color:rgb(126,126,131)'>fighting</span> <span style='color:rgb(146,119,119)'>games</span> <span style='color:rgb(121,121,141)'>,</span> <span style='color:rgb(147,118,118)'>wire</span> <span style='color:rgb(99,99,186)'>fu</span> <span style='color:rgb(127,128,128)'>,</span> <span style='color:rgb(255,64,64)'>horror</span> <span style='color:rgb(190,97,97)'>movies</span> <span style='color:rgb(82,82,220)'>,</span> <span style='color:rgb(128,128,127)'>mystery</span> <span style='color:rgb(141,121,121)'>,</span> <span style='color:rgb(133,125,125)'>james</span> <span style='color:rgb(120,120,143)'>bond</span> <span style='color:rgb(111,111,162)'>,</span> <span style='color:rgb(114,114,155)'>wrestling</span> <span style='color:rgb(121,121,142)'>,</span> <span style='color:rgb(105,105,173)'>sci</span> <span style='color:rgb(187,98,98)'>fi</span> <span style='color:rgb(242,71,71)'>and</span> <span style='color:rgb(128,128,127)'>anime</span> <span style='color:rgb(128,128,127)'>into</span> <span style='color:rgb(128,128,127)'>one</span> <span style='color:rgb(128,128,127)'>big</span> <span style='color:rgb(128,128,127)'>bloody</span> <span style='color:rgb(128,128,127)'>stew</span>"
            ]
          },
          "metadata": {
            "tags": []
          }
        },
        {
          "output_type": "display_data",
          "data": {
            "text/plain": [
              "<IPython.core.display.HTML object>"
            ],
            "text/html": [
              " <span style='color:rgb(132,126,126)'>the</span> <span style='color:rgb(183,100,100)'>ingenuity</span> <span style='color:rgb(144,120,120)'>that</span> <span style='color:rgb(239,72,72)'>parker</span> <span style='color:rgb(164,110,110)'>displays</span> <span style='color:rgb(110,110,163)'>in</span> <span style='color:rgb(210,87,87)'>freshening</span> <span style='color:rgb(153,115,115)'>the</span> <span style='color:rgb(199,92,92)'>play</span> <span style='color:rgb(201,91,91)'>is</span> <span style='color:rgb(255,64,64)'>almost</span> <span style='color:rgb(137,123,123)'>in</span> <span style='color:rgb(116,116,151)'>a</span> <span style='color:rgb(120,120,143)'>class</span> <span style='color:rgb(70,70,244)'>with</span> <span style='color:rgb(77,77,229)'>that</span> <span style='color:rgb(114,114,155)'>of</span> <span style='color:rgb(142,121,121)'>wilde</span> <span style='color:rgb(116,116,152)'>himself</span>"
            ]
          },
          "metadata": {
            "tags": []
          }
        },
        {
          "output_type": "display_data",
          "data": {
            "text/plain": [
              "<IPython.core.display.HTML object>"
            ],
            "text/html": [
              " <span style='color:rgb(124,124,135)'>this</span> <span style='color:rgb(126,126,132)'>clever</span> <span style='color:rgb(137,123,123)'>caper</span> <span style='color:rgb(121,121,142)'>movie</span> <span style='color:rgb(138,123,123)'>has</span> <span style='color:rgb(255,64,64)'>twists</span> <span style='color:rgb(227,78,78)'>worthy</span> <span style='color:rgb(206,89,89)'>of</span> <span style='color:rgb(190,97,97)'>david</span> <span style='color:rgb(154,115,115)'>mamet</span> <span style='color:rgb(157,113,113)'>and</span> <span style='color:rgb(133,125,125)'>is</span> <span style='color:rgb(164,110,110)'>enormous</span> <span style='color:rgb(237,73,73)'>fun</span> <span style='color:rgb(169,107,107)'>for</span> <span style='color:rgb(113,113,157)'>thinking</span> <span style='color:rgb(93,93,197)'>audiences</span>"
            ]
          },
          "metadata": {
            "tags": []
          }
        },
        {
          "output_type": "display_data",
          "data": {
            "text/plain": [
              "<IPython.core.display.HTML object>"
            ],
            "text/html": [
              " <span style='color:rgb(143,120,120)'>a</span> <span style='color:rgb(217,83,83)'>quiet</span> <span style='color:rgb(255,64,64)'>family</span> <span style='color:rgb(240,72,72)'>drama</span> <span style='color:rgb(227,78,78)'>with</span> <span style='color:rgb(151,116,116)'>a</span> <span style='color:rgb(127,127,129)'>little</span> <span style='color:rgb(146,119,119)'>bit</span> <span style='color:rgb(145,119,119)'>of</span> <span style='color:rgb(112,112,159)'>romance</span> <span style='color:rgb(128,128,128)'>and</span> <span style='color:rgb(120,120,143)'>a</span> <span style='color:rgb(101,101,181)'>dose</span> <span style='color:rgb(140,122,122)'>of</span> <span style='color:rgb(138,123,123)'>darkness</span>"
            ]
          },
          "metadata": {
            "tags": []
          }
        },
        {
          "output_type": "display_data",
          "data": {
            "text/plain": [
              "<IPython.core.display.HTML object>"
            ],
            "text/html": [
              " <span style='color:rgb(125,125,134)'>for</span> <span style='color:rgb(139,122,122)'>those</span> <span style='color:rgb(123,123,138)'>who</span> <span style='color:rgb(159,112,112)'>pride</span> <span style='color:rgb(123,123,137)'>themselves</span> <span style='color:rgb(125,125,133)'>on</span> <span style='color:rgb(126,126,131)'>sophisticated</span> <span style='color:rgb(127,127,129)'>,</span> <span style='color:rgb(123,123,137)'>discerning</span> <span style='color:rgb(147,118,118)'>taste</span> <span style='color:rgb(203,90,90)'>,</span> <span style='color:rgb(161,111,111)'>this</span> <span style='color:rgb(251,66,66)'>might</span> <span style='color:rgb(196,94,94)'>not</span> <span style='color:rgb(160,112,112)'>seem</span> <span style='color:rgb(211,86,86)'>like</span> <span style='color:rgb(173,105,105)'>the</span> <span style='color:rgb(155,114,114)'>proper</span> <span style='color:rgb(127,127,129)'>cup</span> <span style='color:rgb(121,121,141)'>of</span> <span style='color:rgb(114,114,155)'>tea</span> <span style='color:rgb(126,126,132)'>,</span> <span style='color:rgb(154,115,115)'>however</span> <span style='color:rgb(125,125,134)'>it</span> <span style='color:rgb(118,118,147)'>is</span> <span style='color:rgb(122,122,140)'>almost</span> <span style='color:rgb(154,115,115)'>guaranteed</span> <span style='color:rgb(104,104,176)'>that</span> <span style='color:rgb(66,66,252)'>even</span> <span style='color:rgb(64,64,255)'>the</span> <span style='color:rgb(97,97,190)'>stuffiest</span> <span style='color:rgb(127,127,130)'>cinema</span> <span style='color:rgb(122,122,140)'>goers</span> <span style='color:rgb(142,121,121)'>will</span> <span style='color:rgb(128,128,128)'>laugh</span> <span style='color:rgb(136,124,124)'>their</span> <span style='color:rgb(135,124,124)'>off</span> <span style='color:rgb(116,116,152)'>for</span> <span style='color:rgb(140,122,122)'>an</span> <span style='color:rgb(170,107,107)'>hour</span> <span style='color:rgb(128,128,127)'>and</span> <span style='color:rgb(128,128,127)'>a</span> <span style='color:rgb(128,128,127)'>half</span>"
            ]
          },
          "metadata": {
            "tags": []
          }
        },
        {
          "output_type": "display_data",
          "data": {
            "text/plain": [
              "<IPython.core.display.HTML object>"
            ],
            "text/html": [
              " <span style='color:rgb(132,126,126)'>a</span> <span style='color:rgb(90,90,204)'>crude</span> <span style='color:rgb(110,110,163)'>teen</span> <span style='color:rgb(172,106,106)'>oriented</span> <span style='color:rgb(101,101,182)'>variation</span> <span style='color:rgb(144,120,120)'>on</span> <span style='color:rgb(190,97,97)'>a</span> <span style='color:rgb(191,96,96)'>theme</span> <span style='color:rgb(122,122,140)'>that</span> <span style='color:rgb(124,124,136)'>the</span> <span style='color:rgb(124,124,136)'>playwright</span> <span style='color:rgb(198,93,93)'>craig</span> <span style='color:rgb(125,125,134)'>lucas</span> <span style='color:rgb(64,64,255)'>explored</span> <span style='color:rgb(224,80,80)'>with</span> <span style='color:rgb(244,70,70)'>infinitely</span> <span style='color:rgb(89,89,205)'>more</span> <span style='color:rgb(138,123,123)'>grace</span> <span style='color:rgb(126,126,132)'>and</span> <span style='color:rgb(132,126,126)'>eloquence</span> <span style='color:rgb(126,126,131)'>in</span> <span style='color:rgb(152,116,116)'>his</span> <span style='color:rgb(170,107,107)'>prelude</span> <span style='color:rgb(122,122,139)'>to</span> <span style='color:rgb(119,119,145)'>a</span> <span style='color:rgb(157,113,113)'>kiss</span>"
            ]
          },
          "metadata": {
            "tags": []
          }
        },
        {
          "output_type": "stream",
          "text": [
            "\n"
          ],
          "name": "stdout"
        },
        {
          "output_type": "display_data",
          "data": {
            "text/plain": [
              "<IPython.core.display.HTML object>"
            ],
            "text/html": [
              " <span style='color:rgb(154,115,115)'>one</span> <span style='color:rgb(111,111,161)'>suspects</span> <span style='color:rgb(150,117,117)'>that</span> <span style='color:rgb(209,87,87)'>craven</span> <span style='color:rgb(158,113,113)'>endorses</span> <span style='color:rgb(93,93,197)'>they</span> <span style='color:rgb(230,77,77)'>simply</span> <span style='color:rgb(64,64,255)'>because</span> <span style='color:rgb(110,110,164)'>this</span> <span style='color:rgb(164,110,110)'>movie</span> <span style='color:rgb(121,121,142)'>makes</span> <span style='color:rgb(110,110,163)'>his</span> <span style='color:rgb(126,126,132)'>own</span> <span style='color:rgb(71,71,242)'>look</span> <span style='color:rgb(159,112,112)'>much</span> <span style='color:rgb(240,72,72)'>better</span> <span style='color:rgb(198,93,93)'>by</span> <span style='color:rgb(176,104,104)'>comparison</span>"
            ]
          },
          "metadata": {
            "tags": []
          }
        },
        {
          "output_type": "stream",
          "text": [
            "('Prediction', array([0.82916504, 0.170835  ], dtype=float32))\n",
            "('GT', array([1, 0]))\n",
            "('Correct', True)\n",
            "\n",
            "Nearest based on Embedding similarity\n"
          ],
          "name": "stdout"
        },
        {
          "output_type": "display_data",
          "data": {
            "text/plain": [
              "<IPython.core.display.HTML object>"
            ],
            "text/html": [
              " <span style='color:rgb(127,128,128)'>it</span> <span style='color:rgb(118,118,147)'>'s</span> <span style='color:rgb(145,119,119)'>stylishly</span> <span style='color:rgb(126,126,132)'>directed</span> <span style='color:rgb(255,64,64)'>with</span> <span style='color:rgb(91,91,202)'>verve</span>"
            ]
          },
          "metadata": {
            "tags": []
          }
        },
        {
          "output_type": "display_data",
          "data": {
            "text/plain": [
              "<IPython.core.display.HTML object>"
            ],
            "text/html": [
              " <span style='color:rgb(128,128,127)'>gosling</span> <span style='color:rgb(128,128,128)'>creates</span> <span style='color:rgb(128,128,128)'>a</span> <span style='color:rgb(130,127,127)'>staggeringly</span> <span style='color:rgb(122,122,140)'>compelling</span> <span style='color:rgb(135,124,124)'>character</span> <span style='color:rgb(129,127,127)'>,</span> <span style='color:rgb(97,97,189)'>a</span> <span style='color:rgb(93,93,198)'>young</span> <span style='color:rgb(117,117,149)'>man</span> <span style='color:rgb(103,103,177)'>whose</span> <span style='color:rgb(127,127,129)'>sharp</span> <span style='color:rgb(125,125,134)'>intellect</span> <span style='color:rgb(119,119,146)'>is</span> <span style='color:rgb(127,127,129)'>at</span> <span style='color:rgb(124,124,135)'>the</span> <span style='color:rgb(118,118,147)'>very</span> <span style='color:rgb(125,125,134)'>root</span> <span style='color:rgb(119,119,145)'>of</span> <span style='color:rgb(170,107,107)'>his</span> <span style='color:rgb(196,94,94)'>contradictory</span> <span style='color:rgb(255,64,64)'>,</span> <span style='color:rgb(195,94,94)'>self</span> <span style='color:rgb(135,124,124)'>hating</span> <span style='color:rgb(143,120,120)'>,</span> <span style='color:rgb(128,128,127)'>self</span> <span style='color:rgb(128,128,127)'>destructive</span> <span style='color:rgb(128,128,127)'>ways</span>"
            ]
          },
          "metadata": {
            "tags": []
          }
        },
        {
          "output_type": "display_data",
          "data": {
            "text/plain": [
              "<IPython.core.display.HTML object>"
            ],
            "text/html": [
              " <span style='color:rgb(126,126,131)'>i'm</span> <span style='color:rgb(112,112,160)'>giving</span> <span style='color:rgb(128,128,128)'>it</span> <span style='color:rgb(94,94,196)'>thumbs</span> <span style='color:rgb(91,91,201)'>down</span> <span style='color:rgb(103,103,177)'>due</span> <span style='color:rgb(131,126,126)'>to</span> <span style='color:rgb(124,124,135)'>the</span> <span style='color:rgb(128,128,127)'>endlessly</span> <span style='color:rgb(117,117,150)'>repetitive</span> <span style='color:rgb(144,120,120)'>scenes</span> <span style='color:rgb(130,127,127)'>of</span> <span style='color:rgb(119,119,145)'>embarrassment</span> <span style='color:rgb(129,127,127)'>there</span> <span style='color:rgb(127,127,130)'>'s</span> <span style='color:rgb(154,115,115)'>got</span> <span style='color:rgb(125,125,134)'>to</span> <span style='color:rgb(128,128,127)'>be</span> <span style='color:rgb(127,127,130)'>a</span> <span style='color:rgb(157,113,113)'>more</span> <span style='color:rgb(172,106,106)'>graceful</span> <span style='color:rgb(245,69,69)'>way</span> <span style='color:rgb(165,109,109)'>of</span> <span style='color:rgb(255,64,64)'>portraying</span> <span style='color:rgb(128,128,128)'>the</span> <span style='color:rgb(124,124,136)'>devastation</span> <span style='color:rgb(128,128,127)'>of</span> <span style='color:rgb(119,119,145)'>this</span> <span style='color:rgb(128,128,127)'>disease</span>"
            ]
          },
          "metadata": {
            "tags": []
          }
        },
        {
          "output_type": "display_data",
          "data": {
            "text/plain": [
              "<IPython.core.display.HTML object>"
            ],
            "text/html": [
              " <span style='color:rgb(135,124,124)'>one</span> <span style='color:rgb(133,125,125)'>of</span> <span style='color:rgb(180,102,102)'>those</span> <span style='color:rgb(170,107,107)'>movies</span> <span style='color:rgb(160,112,112)'>that</span> <span style='color:rgb(158,113,113)'>make</span> <span style='color:rgb(211,86,86)'>us</span> <span style='color:rgb(149,117,117)'>pause</span> <span style='color:rgb(156,114,114)'>and</span> <span style='color:rgb(107,107,170)'>think</span> <span style='color:rgb(129,127,127)'>of</span> <span style='color:rgb(118,118,147)'>what</span> <span style='color:rgb(114,114,155)'>we</span> <span style='color:rgb(64,64,255)'>have</span> <span style='color:rgb(98,98,188)'>given</span> <span style='color:rgb(83,83,217)'>up</span> <span style='color:rgb(111,111,162)'>to</span> <span style='color:rgb(169,107,107)'>acquire</span> <span style='color:rgb(112,112,160)'>the</span> <span style='color:rgb(219,82,82)'>fast</span> <span style='color:rgb(123,123,137)'>paced</span> <span style='color:rgb(212,86,86)'>contemporary</span> <span style='color:rgb(132,126,126)'>society</span>"
            ]
          },
          "metadata": {
            "tags": []
          }
        },
        {
          "output_type": "display_data",
          "data": {
            "text/plain": [
              "<IPython.core.display.HTML object>"
            ],
            "text/html": [
              " <span style='color:rgb(143,120,120)'>a</span> <span style='color:rgb(217,83,83)'>quiet</span> <span style='color:rgb(255,64,64)'>family</span> <span style='color:rgb(240,72,72)'>drama</span> <span style='color:rgb(227,78,78)'>with</span> <span style='color:rgb(151,116,116)'>a</span> <span style='color:rgb(127,127,129)'>little</span> <span style='color:rgb(146,119,119)'>bit</span> <span style='color:rgb(145,119,119)'>of</span> <span style='color:rgb(112,112,159)'>romance</span> <span style='color:rgb(128,128,128)'>and</span> <span style='color:rgb(120,120,143)'>a</span> <span style='color:rgb(101,101,181)'>dose</span> <span style='color:rgb(140,122,122)'>of</span> <span style='color:rgb(138,123,123)'>darkness</span>"
            ]
          },
          "metadata": {
            "tags": []
          }
        },
        {
          "output_type": "display_data",
          "data": {
            "text/plain": [
              "<IPython.core.display.HTML object>"
            ],
            "text/html": [
              " <span style='color:rgb(150,117,117)'>a</span> <span style='color:rgb(120,120,143)'>wildly</span> <span style='color:rgb(255,64,64)'>funny</span> <span style='color:rgb(175,104,104)'>prison</span> <span style='color:rgb(145,119,119)'>caper</span>"
            ]
          },
          "metadata": {
            "tags": []
          }
        },
        {
          "output_type": "display_data",
          "data": {
            "text/plain": [
              "<IPython.core.display.HTML object>"
            ],
            "text/html": [
              " <span style='color:rgb(128,128,128)'>it</span> <span style='color:rgb(160,112,112)'>concentrates</span> <span style='color:rgb(181,101,101)'>far</span> <span style='color:rgb(255,64,64)'>too</span> <span style='color:rgb(199,92,92)'>much</span> <span style='color:rgb(177,103,103)'>on</span> <span style='color:rgb(145,119,119)'>the</span> <span style='color:rgb(220,82,82)'>awkward</span> <span style='color:rgb(189,97,97)'>interplay</span> <span style='color:rgb(110,110,163)'>and</span> <span style='color:rgb(142,121,121)'>utter</span> <span style='color:rgb(155,114,114)'>lack</span> <span style='color:rgb(124,124,135)'>of</span> <span style='color:rgb(104,104,176)'>chemistry</span> <span style='color:rgb(110,110,164)'>between</span> <span style='color:rgb(126,126,131)'>chan</span> <span style='color:rgb(107,107,170)'>and</span> <span style='color:rgb(130,127,127)'>hewitt</span>"
            ]
          },
          "metadata": {
            "tags": []
          }
        },
        {
          "output_type": "display_data",
          "data": {
            "text/plain": [
              "<IPython.core.display.HTML object>"
            ],
            "text/html": [
              " <span style='color:rgb(130,127,127)'>one</span> <span style='color:rgb(131,126,126)'>of</span> <span style='color:rgb(136,124,124)'>those</span> <span style='color:rgb(124,124,136)'>films</span> <span style='color:rgb(115,115,153)'>where</span> <span style='color:rgb(128,128,128)'>the</span> <span style='color:rgb(100,100,184)'>characters</span> <span style='color:rgb(96,96,191)'>inhabit</span> <span style='color:rgb(119,119,145)'>that</span> <span style='color:rgb(64,64,255)'>special</span> <span style='color:rgb(91,91,201)'>annex</span> <span style='color:rgb(137,123,123)'>of</span> <span style='color:rgb(121,121,142)'>hell</span> <span style='color:rgb(128,128,127)'>where</span> <span style='color:rgb(171,106,106)'>adults</span> <span style='color:rgb(135,124,124)'>behave</span> <span style='color:rgb(115,115,154)'>like</span> <span style='color:rgb(170,107,107)'>kids</span> <span style='color:rgb(143,120,120)'>,</span> <span style='color:rgb(124,124,136)'>children</span> <span style='color:rgb(128,128,128)'>behave</span> <span style='color:rgb(191,96,96)'>like</span> <span style='color:rgb(151,116,116)'>adults</span> <span style='color:rgb(186,99,99)'>and</span> <span style='color:rgb(182,101,101)'>everyone</span> <span style='color:rgb(186,99,99)'>screams</span> <span style='color:rgb(143,120,120)'>at</span> <span style='color:rgb(196,94,94)'>the</span> <span style='color:rgb(156,114,114)'>top</span> <span style='color:rgb(166,109,109)'>of</span> <span style='color:rgb(176,104,104)'>their</span> <span style='color:rgb(112,112,159)'>lungs</span> <span style='color:rgb(118,118,147)'>no</span> <span style='color:rgb(125,125,133)'>matter</span> <span style='color:rgb(121,121,142)'>what</span> <span style='color:rgb(98,98,187)'>the</span> <span style='color:rgb(128,128,127)'>situation</span>"
            ]
          },
          "metadata": {
            "tags": []
          }
        },
        {
          "output_type": "display_data",
          "data": {
            "text/plain": [
              "<IPython.core.display.HTML object>"
            ],
            "text/html": [
              " <span style='color:rgb(158,113,113)'>painful</span> <span style='color:rgb(131,126,126)'>,</span> <span style='color:rgb(109,109,166)'>horrifying</span> <span style='color:rgb(116,116,152)'>and</span> <span style='color:rgb(92,92,200)'>oppressively</span> <span style='color:rgb(119,119,145)'>tragic</span> <span style='color:rgb(106,106,172)'>,</span> <span style='color:rgb(117,117,150)'>this</span> <span style='color:rgb(159,112,112)'>film</span> <span style='color:rgb(194,95,95)'>should</span> <span style='color:rgb(255,64,64)'>not</span> <span style='color:rgb(128,128,127)'>be</span> <span style='color:rgb(128,128,127)'>missed</span>"
            ]
          },
          "metadata": {
            "tags": []
          }
        },
        {
          "output_type": "display_data",
          "data": {
            "text/plain": [
              "<IPython.core.display.HTML object>"
            ],
            "text/html": [
              " <span style='color:rgb(121,121,141)'>its</span> <span style='color:rgb(123,123,138)'>story</span> <span style='color:rgb(104,104,176)'>may</span> <span style='color:rgb(123,123,138)'>be</span> <span style='color:rgb(114,114,155)'>a</span> <span style='color:rgb(78,78,228)'>thousand</span> <span style='color:rgb(64,64,255)'>years</span> <span style='color:rgb(101,101,181)'>old</span> <span style='color:rgb(123,123,137)'>,</span> <span style='color:rgb(177,103,103)'>but</span> <span style='color:rgb(158,113,113)'>why</span> <span style='color:rgb(152,116,116)'>did</span> <span style='color:rgb(241,71,71)'>it</span> <span style='color:rgb(172,106,106)'>have</span> <span style='color:rgb(225,79,79)'>to</span> <span style='color:rgb(196,94,94)'>seem</span> <span style='color:rgb(160,112,112)'>like</span> <span style='color:rgb(162,111,111)'>it</span> <span style='color:rgb(218,83,83)'>took</span> <span style='color:rgb(152,116,116)'>another</span> <span style='color:rgb(128,128,128)'>thousand</span> <span style='color:rgb(134,125,125)'>to</span> <span style='color:rgb(129,127,127)'>tell</span> <span style='color:rgb(127,127,129)'>it</span> <span style='color:rgb(117,117,149)'>to</span> <span style='color:rgb(128,128,127)'>us</span> <span style='color:rgb(128,128,127)'>\\?</span>"
            ]
          },
          "metadata": {
            "tags": []
          }
        },
        {
          "output_type": "stream",
          "text": [
            "\n",
            "Nearest based on Attribution similarity\n"
          ],
          "name": "stdout"
        },
        {
          "output_type": "display_data",
          "data": {
            "text/plain": [
              "<IPython.core.display.HTML object>"
            ],
            "text/html": [
              " <span style='color:rgb(122,122,139)'>a</span> <span style='color:rgb(101,101,182)'>sequel</span> <span style='color:rgb(123,123,137)'>that</span> <span style='color:rgb(109,109,165)'>'s</span> <span style='color:rgb(173,105,105)'>much</span> <span style='color:rgb(242,71,71)'>too</span> <span style='color:rgb(127,128,128)'>big</span> <span style='color:rgb(132,126,126)'>for</span> <span style='color:rgb(130,127,127)'>its</span> <span style='color:rgb(255,64,64)'>britches</span>"
            ]
          },
          "metadata": {
            "tags": []
          }
        },
        {
          "output_type": "display_data",
          "data": {
            "text/plain": [
              "<IPython.core.display.HTML object>"
            ],
            "text/html": [
              " <span style='color:rgb(129,127,127)'>the</span> <span style='color:rgb(156,114,114)'>movie</span> <span style='color:rgb(137,123,123)'>is</span> <span style='color:rgb(167,108,108)'>so</span> <span style='color:rgb(222,81,81)'>contrived</span> <span style='color:rgb(255,64,64)'>,</span> <span style='color:rgb(117,117,150)'>nonsensical</span> <span style='color:rgb(177,103,103)'>and</span> <span style='color:rgb(140,122,122)'>formulaic</span> <span style='color:rgb(167,108,108)'>that</span> <span style='color:rgb(144,120,120)'>,</span> <span style='color:rgb(155,114,114)'>come</span> <span style='color:rgb(125,125,133)'>to</span> <span style='color:rgb(121,121,141)'>think</span> <span style='color:rgb(124,124,135)'>of</span> <span style='color:rgb(125,125,133)'>it</span> <span style='color:rgb(123,123,137)'>,</span> <span style='color:rgb(107,107,169)'>the</span> <span style='color:rgb(147,118,118)'>day</span> <span style='color:rgb(127,127,129)'>old</span> <span style='color:rgb(135,124,124)'>shelf</span> <span style='color:rgb(119,119,145)'>would</span> <span style='color:rgb(117,117,150)'>be</span> <span style='color:rgb(98,98,188)'>a</span> <span style='color:rgb(128,128,128)'>more</span> <span style='color:rgb(140,122,122)'>appropriate</span> <span style='color:rgb(128,128,128)'>location</span> <span style='color:rgb(128,128,127)'>to</span> <span style='color:rgb(128,128,127)'>store</span> <span style='color:rgb(128,128,127)'>it</span>"
            ]
          },
          "metadata": {
            "tags": []
          }
        },
        {
          "output_type": "display_data",
          "data": {
            "text/plain": [
              "<IPython.core.display.HTML object>"
            ],
            "text/html": [
              " <span style='color:rgb(125,125,134)'>humor</span> <span style='color:rgb(123,123,138)'>in</span> <span style='color:rgb(114,114,155)'>i</span> <span style='color:rgb(139,122,122)'>spy</span> <span style='color:rgb(132,126,126)'>is</span> <span style='color:rgb(221,81,81)'>so</span> <span style='color:rgb(255,64,64)'>anemic</span>"
            ]
          },
          "metadata": {
            "tags": []
          }
        },
        {
          "output_type": "display_data",
          "data": {
            "text/plain": [
              "<IPython.core.display.HTML object>"
            ],
            "text/html": [
              " <span style='color:rgb(126,126,131)'>a</span> <span style='color:rgb(127,127,129)'>sterling</span> <span style='color:rgb(130,127,127)'>film</span> <span style='color:rgb(122,122,140)'>a</span> <span style='color:rgb(139,122,122)'>cross</span> <span style='color:rgb(198,93,93)'>between</span> <span style='color:rgb(255,64,64)'>boys</span> <span style='color:rgb(233,75,75)'>do</span> <span style='color:rgb(205,89,89)'>n't</span> <span style='color:rgb(251,66,66)'>cry</span> <span style='color:rgb(121,121,142)'>,</span> <span style='color:rgb(120,120,144)'>deliverance</span> <span style='color:rgb(112,112,160)'>,</span> <span style='color:rgb(142,121,121)'>and</span> <span style='color:rgb(159,112,112)'>ode</span> <span style='color:rgb(137,123,123)'>to</span> <span style='color:rgb(103,103,177)'>billy</span> <span style='color:rgb(144,120,120)'>joe</span> <span style='color:rgb(125,125,133)'>lies</span> <span style='color:rgb(119,119,145)'>somewhere</span> <span style='color:rgb(127,127,130)'>in</span> <span style='color:rgb(126,126,131)'>the</span> <span style='color:rgb(101,101,182)'>story</span> <span style='color:rgb(65,65,254)'>of</span> <span style='color:rgb(116,116,152)'>matthew</span> <span style='color:rgb(108,108,167)'>shepard</span> <span style='color:rgb(97,97,190)'>,</span> <span style='color:rgb(123,123,138)'>but</span> <span style='color:rgb(125,125,133)'>that</span> <span style='color:rgb(127,128,128)'>film</span> <span style='color:rgb(132,126,126)'>is</span> <span style='color:rgb(123,123,138)'>yet</span> <span style='color:rgb(128,128,127)'>to</span> <span style='color:rgb(128,128,127)'>be</span> <span style='color:rgb(128,128,127)'>made</span>"
            ]
          },
          "metadata": {
            "tags": []
          }
        },
        {
          "output_type": "display_data",
          "data": {
            "text/plain": [
              "<IPython.core.display.HTML object>"
            ],
            "text/html": [
              " <span style='color:rgb(147,118,118)'>too</span> <span style='color:rgb(143,120,120)'>much</span> <span style='color:rgb(131,126,126)'>of</span> <span style='color:rgb(135,124,124)'>this</span> <span style='color:rgb(118,118,148)'>well</span> <span style='color:rgb(114,114,156)'>acted</span> <span style='color:rgb(128,128,127)'>but</span> <span style='color:rgb(85,85,213)'>dangerously</span> <span style='color:rgb(123,123,138)'>slow</span> <span style='color:rgb(144,120,120)'>thriller</span> <span style='color:rgb(255,64,64)'>feels</span> <span style='color:rgb(172,106,106)'>like</span> <span style='color:rgb(131,126,126)'>a</span> <span style='color:rgb(131,126,126)'>preamble</span> <span style='color:rgb(128,128,128)'>to</span> <span style='color:rgb(121,121,141)'>a</span> <span style='color:rgb(126,126,131)'>bigger</span> <span style='color:rgb(118,118,148)'>,</span> <span style='color:rgb(117,117,150)'>more</span> <span style='color:rgb(111,111,161)'>complicated</span> <span style='color:rgb(107,107,170)'>story</span> <span style='color:rgb(125,125,134)'>,</span> <span style='color:rgb(143,120,120)'>one</span> <span style='color:rgb(167,108,108)'>that</span> <span style='color:rgb(128,128,127)'>never</span> <span style='color:rgb(128,128,127)'>materializes</span>"
            ]
          },
          "metadata": {
            "tags": []
          }
        },
        {
          "output_type": "display_data",
          "data": {
            "text/plain": [
              "<IPython.core.display.HTML object>"
            ],
            "text/html": [
              " <span style='color:rgb(150,117,117)'>a</span> <span style='color:rgb(120,120,143)'>wildly</span> <span style='color:rgb(255,64,64)'>funny</span> <span style='color:rgb(175,104,104)'>prison</span> <span style='color:rgb(145,119,119)'>caper</span>"
            ]
          },
          "metadata": {
            "tags": []
          }
        },
        {
          "output_type": "display_data",
          "data": {
            "text/plain": [
              "<IPython.core.display.HTML object>"
            ],
            "text/html": [
              " <span style='color:rgb(127,128,128)'>the</span> <span style='color:rgb(120,120,143)'>ensemble</span> <span style='color:rgb(117,117,149)'>cast</span> <span style='color:rgb(113,113,157)'>turns</span> <span style='color:rgb(122,122,140)'>in</span> <span style='color:rgb(126,126,131)'>a</span> <span style='color:rgb(192,96,96)'>collectively</span> <span style='color:rgb(213,85,85)'>stellar</span> <span style='color:rgb(255,64,64)'>performance</span> <span style='color:rgb(155,114,114)'>,</span> <span style='color:rgb(135,124,124)'>and</span> <span style='color:rgb(78,78,227)'>the</span> <span style='color:rgb(108,108,168)'>writing</span> <span style='color:rgb(81,81,221)'>is</span> <span style='color:rgb(160,112,112)'>tight</span> <span style='color:rgb(179,102,102)'>and</span> <span style='color:rgb(182,101,101)'>truthful</span> <span style='color:rgb(155,114,114)'>,</span> <span style='color:rgb(213,85,85)'>full</span> <span style='color:rgb(112,112,160)'>of</span> <span style='color:rgb(150,117,117)'>funny</span> <span style='color:rgb(125,125,133)'>situations</span> <span style='color:rgb(97,97,189)'>and</span> <span style='color:rgb(128,128,127)'>honest</span> <span style='color:rgb(128,128,127)'>observations</span>"
            ]
          },
          "metadata": {
            "tags": []
          }
        },
        {
          "output_type": "display_data",
          "data": {
            "text/plain": [
              "<IPython.core.display.HTML object>"
            ],
            "text/html": [
              " <span style='color:rgb(128,128,128)'>it</span> <span style='color:rgb(160,112,112)'>concentrates</span> <span style='color:rgb(181,101,101)'>far</span> <span style='color:rgb(255,64,64)'>too</span> <span style='color:rgb(199,92,92)'>much</span> <span style='color:rgb(177,103,103)'>on</span> <span style='color:rgb(145,119,119)'>the</span> <span style='color:rgb(220,82,82)'>awkward</span> <span style='color:rgb(189,97,97)'>interplay</span> <span style='color:rgb(110,110,163)'>and</span> <span style='color:rgb(142,121,121)'>utter</span> <span style='color:rgb(155,114,114)'>lack</span> <span style='color:rgb(124,124,135)'>of</span> <span style='color:rgb(104,104,176)'>chemistry</span> <span style='color:rgb(110,110,164)'>between</span> <span style='color:rgb(126,126,131)'>chan</span> <span style='color:rgb(107,107,170)'>and</span> <span style='color:rgb(130,127,127)'>hewitt</span>"
            ]
          },
          "metadata": {
            "tags": []
          }
        },
        {
          "output_type": "display_data",
          "data": {
            "text/plain": [
              "<IPython.core.display.HTML object>"
            ],
            "text/html": [
              " <span style='color:rgb(132,126,126)'>a</span> <span style='color:rgb(198,93,93)'>funny</span> <span style='color:rgb(146,119,119)'>and</span> <span style='color:rgb(255,64,64)'>touching</span> <span style='color:rgb(180,102,102)'>film</span> <span style='color:rgb(140,122,122)'>that</span> <span style='color:rgb(127,127,129)'>is</span> <span style='color:rgb(121,121,141)'>gorgeously</span> <span style='color:rgb(127,127,129)'>acted</span> <span style='color:rgb(121,121,142)'>by</span> <span style='color:rgb(128,128,127)'>a</span> <span style='color:rgb(125,125,133)'>british</span> <span style='color:rgb(128,128,128)'>cast</span> <span style='color:rgb(122,122,140)'>to</span> <span style='color:rgb(101,101,182)'>rival</span> <span style='color:rgb(114,114,155)'>gosford</span> <span style='color:rgb(122,122,139)'>park</span> <span style='color:rgb(127,127,130)'>'s</span>"
            ]
          },
          "metadata": {
            "tags": []
          }
        },
        {
          "output_type": "display_data",
          "data": {
            "text/plain": [
              "<IPython.core.display.HTML object>"
            ],
            "text/html": [
              " <span style='color:rgb(132,126,126)'>the</span> <span style='color:rgb(183,100,100)'>ingenuity</span> <span style='color:rgb(144,120,120)'>that</span> <span style='color:rgb(239,72,72)'>parker</span> <span style='color:rgb(164,110,110)'>displays</span> <span style='color:rgb(110,110,163)'>in</span> <span style='color:rgb(210,87,87)'>freshening</span> <span style='color:rgb(153,115,115)'>the</span> <span style='color:rgb(199,92,92)'>play</span> <span style='color:rgb(201,91,91)'>is</span> <span style='color:rgb(255,64,64)'>almost</span> <span style='color:rgb(137,123,123)'>in</span> <span style='color:rgb(116,116,151)'>a</span> <span style='color:rgb(120,120,143)'>class</span> <span style='color:rgb(70,70,244)'>with</span> <span style='color:rgb(77,77,229)'>that</span> <span style='color:rgb(114,114,155)'>of</span> <span style='color:rgb(142,121,121)'>wilde</span> <span style='color:rgb(116,116,152)'>himself</span>"
            ]
          },
          "metadata": {
            "tags": []
          }
        },
        {
          "output_type": "stream",
          "text": [
            "\n"
          ],
          "name": "stdout"
        },
        {
          "output_type": "display_data",
          "data": {
            "text/plain": [
              "<IPython.core.display.HTML object>"
            ],
            "text/html": [
              " <span style='color:rgb(150,117,117)'>has</span> <span style='color:rgb(112,112,160)'>lost</span> <span style='color:rgb(131,126,126)'>some</span> <span style='color:rgb(136,124,124)'>of</span> <span style='color:rgb(120,120,144)'>the</span> <span style='color:rgb(99,99,185)'>dramatic</span> <span style='color:rgb(114,114,156)'>conviction</span> <span style='color:rgb(122,122,139)'>that</span> <span style='color:rgb(102,102,180)'>underlies</span> <span style='color:rgb(135,124,124)'>the</span> <span style='color:rgb(255,64,64)'>best</span> <span style='color:rgb(172,106,106)'>of</span> <span style='color:rgb(163,110,110)'>comedies</span>"
            ]
          },
          "metadata": {
            "tags": []
          }
        },
        {
          "output_type": "stream",
          "text": [
            "('Prediction', array([0.47750208, 0.5224979 ], dtype=float32))\n",
            "('GT', array([1, 0]))\n",
            "('Correct', False)\n",
            "\n",
            "Nearest based on Embedding similarity\n"
          ],
          "name": "stdout"
        },
        {
          "output_type": "display_data",
          "data": {
            "text/plain": [
              "<IPython.core.display.HTML object>"
            ],
            "text/html": [
              " <span style='color:rgb(122,122,139)'>hell</span> <span style='color:rgb(126,126,132)'>is</span> <span style='color:rgb(124,124,136)'>looking</span> <span style='color:rgb(136,124,124)'>down</span> <span style='color:rgb(119,119,145)'>at</span> <span style='color:rgb(117,117,149)'>your</span> <span style='color:rgb(118,118,147)'>watch</span> <span style='color:rgb(110,110,164)'>and</span> <span style='color:rgb(128,128,127)'>realizing</span> <span style='color:rgb(148,118,118)'>serving</span> <span style='color:rgb(255,64,64)'>sara</span> <span style='color:rgb(150,117,117)'>is</span> <span style='color:rgb(158,113,113)'>n't</span> <span style='color:rgb(151,116,116)'>even</span> <span style='color:rgb(162,111,111)'>halfway</span> <span style='color:rgb(132,126,126)'>through</span>"
            ]
          },
          "metadata": {
            "tags": []
          }
        },
        {
          "output_type": "display_data",
          "data": {
            "text/plain": [
              "<IPython.core.display.HTML object>"
            ],
            "text/html": [
              " <span style='color:rgb(126,126,131)'>christians</span> <span style='color:rgb(132,126,126)'>sensitive</span> <span style='color:rgb(128,128,128)'>to</span> <span style='color:rgb(138,123,123)'>a</span> <span style='color:rgb(133,125,125)'>reductionist</span> <span style='color:rgb(125,125,133)'>view</span> <span style='color:rgb(114,114,156)'>of</span> <span style='color:rgb(64,64,255)'>their</span> <span style='color:rgb(65,65,253)'>lord</span> <span style='color:rgb(113,113,157)'>as</span> <span style='color:rgb(149,117,117)'>a</span> <span style='color:rgb(153,115,115)'>luv</span> <span style='color:rgb(125,125,134)'>spreading</span> <span style='color:rgb(119,119,145)'>dr</span> <span style='color:rgb(68,68,247)'>feelgood</span> <span style='color:rgb(159,112,112)'>or</span> <span style='color:rgb(101,101,181)'>omnipotent</span> <span style='color:rgb(94,94,195)'>slacker</span> <span style='color:rgb(115,115,154)'>will</span> <span style='color:rgb(120,120,143)'>feel</span> <span style='color:rgb(127,127,130)'>vastly</span> <span style='color:rgb(188,98,98)'>more</span> <span style='color:rgb(177,103,103)'>affronted</span> <span style='color:rgb(162,111,111)'>than</span> <span style='color:rgb(232,76,76)'>secularists</span> <span style='color:rgb(167,108,108)'>,</span> <span style='color:rgb(239,72,72)'>who</span> <span style='color:rgb(188,98,98)'>might</span> <span style='color:rgb(204,90,90)'>even</span> <span style='color:rgb(183,100,100)'>praise</span> <span style='color:rgb(125,125,134)'>god</span> <span style='color:rgb(80,80,224)'>for</span> <span style='color:rgb(105,105,174)'>delivering</span> <span style='color:rgb(145,119,119)'>such</span> <span style='color:rgb(192,96,96)'>an</span> <span style='color:rgb(164,110,110)'>instant</span> <span style='color:rgb(134,125,125)'>camp</span> <span style='color:rgb(128,128,127)'>classic</span>"
            ]
          },
          "metadata": {
            "tags": []
          }
        },
        {
          "output_type": "display_data",
          "data": {
            "text/plain": [
              "<IPython.core.display.HTML object>"
            ],
            "text/html": [
              " <span style='color:rgb(148,118,118)'>this</span> <span style='color:rgb(196,94,94)'>dubious</span> <span style='color:rgb(200,92,92)'>product</span> <span style='color:rgb(130,127,127)'>of</span> <span style='color:rgb(123,123,138)'>a</span> <span style='color:rgb(255,64,64)'>college</span> <span style='color:rgb(114,114,155)'>spawned</span> <span style='color:rgb(184,100,100)'>\\(</span> <span style='color:rgb(122,122,139)'>colgate</span> <span style='color:rgb(118,118,147)'>u</span> <span style='color:rgb(110,110,164)'>\\)</span> <span style='color:rgb(90,90,204)'>comedy</span> <span style='color:rgb(138,123,123)'>ensemble</span> <span style='color:rgb(121,121,141)'>known</span> <span style='color:rgb(175,104,104)'>as</span> <span style='color:rgb(193,95,95)'>broken</span> <span style='color:rgb(181,101,101)'>lizard</span> <span style='color:rgb(118,118,148)'>plays</span> <span style='color:rgb(101,101,182)'>like</span> <span style='color:rgb(123,123,138)'>a</span> <span style='color:rgb(94,94,196)'>mix</span> <span style='color:rgb(122,122,140)'>of</span> <span style='color:rgb(114,114,155)'>cheech</span> <span style='color:rgb(125,125,133)'>and</span> <span style='color:rgb(118,118,148)'>chong</span> <span style='color:rgb(128,128,127)'>and</span> <span style='color:rgb(128,128,127)'>chips</span>"
            ]
          },
          "metadata": {
            "tags": []
          }
        },
        {
          "output_type": "display_data",
          "data": {
            "text/plain": [
              "<IPython.core.display.HTML object>"
            ],
            "text/html": [
              " <span style='color:rgb(140,122,122)'>sen</span> <span style='color:rgb(134,125,125)'>'s</span> <span style='color:rgb(181,101,101)'>soap</span> <span style='color:rgb(180,102,102)'>opera</span> <span style='color:rgb(176,104,104)'>ish</span> <span style='color:rgb(141,121,121)'>approach</span> <span style='color:rgb(125,125,134)'>undermines</span> <span style='color:rgb(111,111,162)'>his</span> <span style='color:rgb(90,90,204)'>good</span> <span style='color:rgb(255,64,64)'>intentions</span>"
            ]
          },
          "metadata": {
            "tags": []
          }
        },
        {
          "output_type": "display_data",
          "data": {
            "text/plain": [
              "<IPython.core.display.HTML object>"
            ],
            "text/html": [
              " <span style='color:rgb(159,112,112)'>blade</span> <span style='color:rgb(155,114,114)'>ii</span> <span style='color:rgb(123,123,138)'>merges</span> <span style='color:rgb(149,117,117)'>bits</span> <span style='color:rgb(122,122,140)'>and</span> <span style='color:rgb(103,103,177)'>pieces</span> <span style='color:rgb(115,115,154)'>from</span> <span style='color:rgb(126,126,131)'>fighting</span> <span style='color:rgb(146,119,119)'>games</span> <span style='color:rgb(121,121,141)'>,</span> <span style='color:rgb(147,118,118)'>wire</span> <span style='color:rgb(99,99,186)'>fu</span> <span style='color:rgb(127,128,128)'>,</span> <span style='color:rgb(255,64,64)'>horror</span> <span style='color:rgb(190,97,97)'>movies</span> <span style='color:rgb(82,82,220)'>,</span> <span style='color:rgb(128,128,127)'>mystery</span> <span style='color:rgb(141,121,121)'>,</span> <span style='color:rgb(133,125,125)'>james</span> <span style='color:rgb(120,120,143)'>bond</span> <span style='color:rgb(111,111,162)'>,</span> <span style='color:rgb(114,114,155)'>wrestling</span> <span style='color:rgb(121,121,142)'>,</span> <span style='color:rgb(105,105,173)'>sci</span> <span style='color:rgb(187,98,98)'>fi</span> <span style='color:rgb(242,71,71)'>and</span> <span style='color:rgb(128,128,127)'>anime</span> <span style='color:rgb(128,128,127)'>into</span> <span style='color:rgb(128,128,127)'>one</span> <span style='color:rgb(128,128,127)'>big</span> <span style='color:rgb(128,128,127)'>bloody</span> <span style='color:rgb(128,128,127)'>stew</span>"
            ]
          },
          "metadata": {
            "tags": []
          }
        },
        {
          "output_type": "display_data",
          "data": {
            "text/plain": [
              "<IPython.core.display.HTML object>"
            ],
            "text/html": [
              " <span style='color:rgb(146,119,119)'>woo</span> <span style='color:rgb(127,128,128)'>'s</span> <span style='color:rgb(126,126,131)'>fights</span> <span style='color:rgb(128,128,128)'>have</span> <span style='color:rgb(121,121,141)'>a</span> <span style='color:rgb(120,120,143)'>distinct</span> <span style='color:rgb(128,128,128)'>flair</span> <span style='color:rgb(124,124,136)'>his</span> <span style='color:rgb(171,106,106)'>warriors</span> <span style='color:rgb(147,118,118)'>collide</span> <span style='color:rgb(132,126,126)'>in</span> <span style='color:rgb(173,105,105)'>balletic</span> <span style='color:rgb(140,122,122)'>explosion</span> <span style='color:rgb(124,124,135)'>that</span> <span style='color:rgb(78,78,227)'>implies</span> <span style='color:rgb(88,88,208)'>an</span> <span style='color:rgb(153,115,115)'>underlying</span> <span style='color:rgb(255,64,64)'>order</span> <span style='color:rgb(135,124,124)'>throughout</span> <span style='color:rgb(131,126,126)'>the</span> <span style='color:rgb(139,122,122)'>chaos</span>"
            ]
          },
          "metadata": {
            "tags": []
          }
        },
        {
          "output_type": "display_data",
          "data": {
            "text/plain": [
              "<IPython.core.display.HTML object>"
            ],
            "text/html": [
              " <span style='color:rgb(140,122,122)'>a</span> <span style='color:rgb(127,127,130)'>poignant</span> <span style='color:rgb(195,94,94)'>comedy</span> <span style='color:rgb(166,109,109)'>that</span> <span style='color:rgb(255,64,64)'>offers</span> <span style='color:rgb(68,68,248)'>food</span> <span style='color:rgb(155,114,114)'>for</span> <span style='color:rgb(192,96,96)'>thought</span>"
            ]
          },
          "metadata": {
            "tags": []
          }
        },
        {
          "output_type": "display_data",
          "data": {
            "text/plain": [
              "<IPython.core.display.HTML object>"
            ],
            "text/html": [
              " <span style='color:rgb(158,113,113)'>painful</span> <span style='color:rgb(131,126,126)'>,</span> <span style='color:rgb(109,109,166)'>horrifying</span> <span style='color:rgb(116,116,152)'>and</span> <span style='color:rgb(92,92,200)'>oppressively</span> <span style='color:rgb(119,119,145)'>tragic</span> <span style='color:rgb(106,106,172)'>,</span> <span style='color:rgb(117,117,150)'>this</span> <span style='color:rgb(159,112,112)'>film</span> <span style='color:rgb(194,95,95)'>should</span> <span style='color:rgb(255,64,64)'>not</span> <span style='color:rgb(128,128,127)'>be</span> <span style='color:rgb(128,128,127)'>missed</span>"
            ]
          },
          "metadata": {
            "tags": []
          }
        },
        {
          "output_type": "display_data",
          "data": {
            "text/plain": [
              "<IPython.core.display.HTML object>"
            ],
            "text/html": [
              " <span style='color:rgb(139,122,122)'>guillen</span> <span style='color:rgb(116,116,151)'>rarely</span> <span style='color:rgb(119,119,146)'>gets</span> <span style='color:rgb(111,111,162)'>beneath</span> <span style='color:rgb(122,122,139)'>the</span> <span style='color:rgb(111,111,162)'>surface</span> <span style='color:rgb(123,123,138)'>of</span> <span style='color:rgb(195,94,94)'>things</span> <span style='color:rgb(193,95,95)'>she</span> <span style='color:rgb(221,81,81)'>lists</span> <span style='color:rgb(255,64,64)'>ingredients</span> <span style='color:rgb(147,118,118)'>,</span> <span style='color:rgb(217,83,83)'>but</span> <span style='color:rgb(90,90,203)'>never</span> <span style='color:rgb(104,104,175)'>mixes</span> <span style='color:rgb(123,123,137)'>and</span> <span style='color:rgb(128,128,127)'>stirs</span>"
            ]
          },
          "metadata": {
            "tags": []
          }
        },
        {
          "output_type": "display_data",
          "data": {
            "text/plain": [
              "<IPython.core.display.HTML object>"
            ],
            "text/html": [
              " <span style='color:rgb(135,124,124)'>one</span> <span style='color:rgb(133,125,125)'>of</span> <span style='color:rgb(180,102,102)'>those</span> <span style='color:rgb(170,107,107)'>movies</span> <span style='color:rgb(160,112,112)'>that</span> <span style='color:rgb(158,113,113)'>make</span> <span style='color:rgb(211,86,86)'>us</span> <span style='color:rgb(149,117,117)'>pause</span> <span style='color:rgb(156,114,114)'>and</span> <span style='color:rgb(107,107,170)'>think</span> <span style='color:rgb(129,127,127)'>of</span> <span style='color:rgb(118,118,147)'>what</span> <span style='color:rgb(114,114,155)'>we</span> <span style='color:rgb(64,64,255)'>have</span> <span style='color:rgb(98,98,188)'>given</span> <span style='color:rgb(83,83,217)'>up</span> <span style='color:rgb(111,111,162)'>to</span> <span style='color:rgb(169,107,107)'>acquire</span> <span style='color:rgb(112,112,160)'>the</span> <span style='color:rgb(219,82,82)'>fast</span> <span style='color:rgb(123,123,137)'>paced</span> <span style='color:rgb(212,86,86)'>contemporary</span> <span style='color:rgb(132,126,126)'>society</span>"
            ]
          },
          "metadata": {
            "tags": []
          }
        },
        {
          "output_type": "stream",
          "text": [
            "\n",
            "Nearest based on Attribution similarity\n"
          ],
          "name": "stdout"
        },
        {
          "output_type": "display_data",
          "data": {
            "text/plain": [
              "<IPython.core.display.HTML object>"
            ],
            "text/html": [
              " <span style='color:rgb(208,88,88)'>mostly</span> <span style='color:rgb(225,79,79)'>,</span> <span style='color:rgb(124,124,135)'>shafer</span> <span style='color:rgb(132,126,126)'>and</span> <span style='color:rgb(115,115,154)'>co</span> <span style='color:rgb(64,64,255)'>writer</span> <span style='color:rgb(122,122,139)'>gregory</span> <span style='color:rgb(236,74,74)'>hinton</span> <span style='color:rgb(106,106,171)'>lack</span> <span style='color:rgb(188,98,98)'>a</span> <span style='color:rgb(126,126,132)'>strong</span> <span style='color:rgb(185,99,99)'>minded</span> <span style='color:rgb(168,108,108)'>viewpoint</span> <span style='color:rgb(113,113,158)'>,</span> <span style='color:rgb(121,121,142)'>or</span> <span style='color:rgb(102,102,179)'>a</span> <span style='color:rgb(87,87,210)'>sense</span> <span style='color:rgb(128,128,127)'>of</span> <span style='color:rgb(128,128,127)'>humor</span>"
            ]
          },
          "metadata": {
            "tags": []
          }
        },
        {
          "output_type": "display_data",
          "data": {
            "text/plain": [
              "<IPython.core.display.HTML object>"
            ],
            "text/html": [
              " <span style='color:rgb(126,126,131)'>christians</span> <span style='color:rgb(132,126,126)'>sensitive</span> <span style='color:rgb(128,128,128)'>to</span> <span style='color:rgb(138,123,123)'>a</span> <span style='color:rgb(133,125,125)'>reductionist</span> <span style='color:rgb(125,125,133)'>view</span> <span style='color:rgb(114,114,156)'>of</span> <span style='color:rgb(64,64,255)'>their</span> <span style='color:rgb(65,65,253)'>lord</span> <span style='color:rgb(113,113,157)'>as</span> <span style='color:rgb(149,117,117)'>a</span> <span style='color:rgb(153,115,115)'>luv</span> <span style='color:rgb(125,125,134)'>spreading</span> <span style='color:rgb(119,119,145)'>dr</span> <span style='color:rgb(68,68,247)'>feelgood</span> <span style='color:rgb(159,112,112)'>or</span> <span style='color:rgb(101,101,181)'>omnipotent</span> <span style='color:rgb(94,94,195)'>slacker</span> <span style='color:rgb(115,115,154)'>will</span> <span style='color:rgb(120,120,143)'>feel</span> <span style='color:rgb(127,127,130)'>vastly</span> <span style='color:rgb(188,98,98)'>more</span> <span style='color:rgb(177,103,103)'>affronted</span> <span style='color:rgb(162,111,111)'>than</span> <span style='color:rgb(232,76,76)'>secularists</span> <span style='color:rgb(167,108,108)'>,</span> <span style='color:rgb(239,72,72)'>who</span> <span style='color:rgb(188,98,98)'>might</span> <span style='color:rgb(204,90,90)'>even</span> <span style='color:rgb(183,100,100)'>praise</span> <span style='color:rgb(125,125,134)'>god</span> <span style='color:rgb(80,80,224)'>for</span> <span style='color:rgb(105,105,174)'>delivering</span> <span style='color:rgb(145,119,119)'>such</span> <span style='color:rgb(192,96,96)'>an</span> <span style='color:rgb(164,110,110)'>instant</span> <span style='color:rgb(134,125,125)'>camp</span> <span style='color:rgb(128,128,127)'>classic</span>"
            ]
          },
          "metadata": {
            "tags": []
          }
        },
        {
          "output_type": "display_data",
          "data": {
            "text/plain": [
              "<IPython.core.display.HTML object>"
            ],
            "text/html": [
              " <span style='color:rgb(117,117,150)'>like</span> <span style='color:rgb(127,127,129)'>kissing</span> <span style='color:rgb(126,126,131)'>jessica</span> <span style='color:rgb(120,120,144)'>stein</span> <span style='color:rgb(69,69,246)'>,</span> <span style='color:rgb(128,128,127)'>amy</span> <span style='color:rgb(122,122,139)'>'s</span> <span style='color:rgb(141,121,121)'>orgasm</span> <span style='color:rgb(158,113,113)'>has</span> <span style='color:rgb(187,98,98)'>a</span> <span style='color:rgb(255,64,64)'>key</span> <span style='color:rgb(166,109,109)'>strength</span> <span style='color:rgb(145,119,119)'>in</span> <span style='color:rgb(140,122,122)'>its</span> <span style='color:rgb(121,121,142)'>willingness</span> <span style='color:rgb(113,113,158)'>to</span> <span style='color:rgb(121,121,142)'>explore</span> <span style='color:rgb(118,118,147)'>its</span> <span style='color:rgb(122,122,140)'>principal</span> <span style='color:rgb(192,96,96)'>characters</span> <span style='color:rgb(169,107,107)'>with</span> <span style='color:rgb(173,105,105)'>honesty</span> <span style='color:rgb(142,121,121)'>,</span> <span style='color:rgb(145,119,119)'>insight</span> <span style='color:rgb(128,128,127)'>and</span> <span style='color:rgb(128,128,127)'>humor</span>"
            ]
          },
          "metadata": {
            "tags": []
          }
        },
        {
          "output_type": "display_data",
          "data": {
            "text/plain": [
              "<IPython.core.display.HTML object>"
            ],
            "text/html": [
              " <span style='color:rgb(127,127,130)'>a</span> <span style='color:rgb(132,126,126)'>film</span> <span style='color:rgb(127,127,129)'>that</span> <span style='color:rgb(143,120,120)'>is</span> <span style='color:rgb(138,123,123)'>a</span> <span style='color:rgb(255,64,64)'>portrait</span> <span style='color:rgb(179,102,102)'>of</span> <span style='color:rgb(140,122,122)'>grace</span> <span style='color:rgb(132,126,126)'>in</span> <span style='color:rgb(150,117,117)'>an</span> <span style='color:rgb(124,124,135)'>imperfect</span> <span style='color:rgb(147,118,118)'>world</span>"
            ]
          },
          "metadata": {
            "tags": []
          }
        },
        {
          "output_type": "display_data",
          "data": {
            "text/plain": [
              "<IPython.core.display.HTML object>"
            ],
            "text/html": [
              " <span style='color:rgb(125,125,134)'>a</span> <span style='color:rgb(96,96,191)'>great</span> <span style='color:rgb(255,64,64)'>idea</span> <span style='color:rgb(184,100,100)'>becomes</span> <span style='color:rgb(105,105,174)'>a</span> <span style='color:rgb(167,108,108)'>not</span> <span style='color:rgb(97,97,189)'>great</span> <span style='color:rgb(148,118,118)'>movie</span>"
            ]
          },
          "metadata": {
            "tags": []
          }
        },
        {
          "output_type": "display_data",
          "data": {
            "text/plain": [
              "<IPython.core.display.HTML object>"
            ],
            "text/html": [
              " <span style='color:rgb(130,127,127)'>the</span> <span style='color:rgb(137,123,123)'>journey</span> <span style='color:rgb(143,120,120)'>to</span> <span style='color:rgb(137,123,123)'>the</span> <span style='color:rgb(255,64,64)'>secret</span> <span style='color:rgb(153,115,115)'>'s</span> <span style='color:rgb(196,94,94)'>eventual</span> <span style='color:rgb(127,127,129)'>discovery</span> <span style='color:rgb(123,123,137)'>is</span> <span style='color:rgb(118,118,147)'>a</span> <span style='color:rgb(128,128,128)'>separate</span> <span style='color:rgb(104,104,175)'>adventure</span> <span style='color:rgb(102,102,180)'>,</span> <span style='color:rgb(94,94,195)'>and</span> <span style='color:rgb(118,118,148)'>thrill</span> <span style='color:rgb(128,128,127)'>enough</span>"
            ]
          },
          "metadata": {
            "tags": []
          }
        },
        {
          "output_type": "display_data",
          "data": {
            "text/plain": [
              "<IPython.core.display.HTML object>"
            ],
            "text/html": [
              " <span style='color:rgb(128,128,128)'>how</span> <span style='color:rgb(127,128,128)'>i</span> <span style='color:rgb(185,99,99)'>killed</span> <span style='color:rgb(213,85,85)'>my</span> <span style='color:rgb(176,104,104)'>father</span> <span style='color:rgb(138,123,123)'>is</span> <span style='color:rgb(142,121,121)'>one</span> <span style='color:rgb(149,117,117)'>of</span> <span style='color:rgb(149,117,117)'>those</span> <span style='color:rgb(152,116,116)'>art</span> <span style='color:rgb(120,120,143)'>house</span> <span style='color:rgb(128,128,128)'>films</span> <span style='color:rgb(127,127,129)'>that</span> <span style='color:rgb(164,110,110)'>makes</span> <span style='color:rgb(169,107,107)'>you</span> <span style='color:rgb(167,108,108)'>feel</span> <span style='color:rgb(159,112,112)'>like</span> <span style='color:rgb(138,123,123)'>you</span> <span style='color:rgb(127,127,129)'>'re</span> <span style='color:rgb(123,123,137)'>watching</span> <span style='color:rgb(126,126,131)'>an</span> <span style='color:rgb(126,126,132)'>iceberg</span> <span style='color:rgb(125,125,133)'>melt</span> <span style='color:rgb(70,70,243)'>only</span> <span style='color:rgb(117,117,149)'>it</span> <span style='color:rgb(64,64,255)'>never</span> <span style='color:rgb(119,119,145)'>melts</span>"
            ]
          },
          "metadata": {
            "tags": []
          }
        },
        {
          "output_type": "display_data",
          "data": {
            "text/plain": [
              "<IPython.core.display.HTML object>"
            ],
            "text/html": [
              " <span style='color:rgb(142,121,121)'>kapur</span> <span style='color:rgb(167,108,108)'>weighs</span> <span style='color:rgb(154,115,115)'>down</span> <span style='color:rgb(121,121,141)'>the</span> <span style='color:rgb(127,128,128)'>tale</span> <span style='color:rgb(122,122,140)'>with</span> <span style='color:rgb(255,64,64)'>bogus</span> <span style='color:rgb(153,115,115)'>profundities</span>"
            ]
          },
          "metadata": {
            "tags": []
          }
        },
        {
          "output_type": "display_data",
          "data": {
            "text/plain": [
              "<IPython.core.display.HTML object>"
            ],
            "text/html": [
              " <span style='color:rgb(122,122,139)'>hell</span> <span style='color:rgb(126,126,132)'>is</span> <span style='color:rgb(124,124,136)'>looking</span> <span style='color:rgb(136,124,124)'>down</span> <span style='color:rgb(119,119,145)'>at</span> <span style='color:rgb(117,117,149)'>your</span> <span style='color:rgb(118,118,147)'>watch</span> <span style='color:rgb(110,110,164)'>and</span> <span style='color:rgb(128,128,127)'>realizing</span> <span style='color:rgb(148,118,118)'>serving</span> <span style='color:rgb(255,64,64)'>sara</span> <span style='color:rgb(150,117,117)'>is</span> <span style='color:rgb(158,113,113)'>n't</span> <span style='color:rgb(151,116,116)'>even</span> <span style='color:rgb(162,111,111)'>halfway</span> <span style='color:rgb(132,126,126)'>through</span>"
            ]
          },
          "metadata": {
            "tags": []
          }
        },
        {
          "output_type": "display_data",
          "data": {
            "text/plain": [
              "<IPython.core.display.HTML object>"
            ],
            "text/html": [
              " <span style='color:rgb(130,127,127)'>one</span> <span style='color:rgb(131,126,126)'>of</span> <span style='color:rgb(136,124,124)'>those</span> <span style='color:rgb(124,124,136)'>films</span> <span style='color:rgb(115,115,153)'>where</span> <span style='color:rgb(128,128,128)'>the</span> <span style='color:rgb(100,100,184)'>characters</span> <span style='color:rgb(96,96,191)'>inhabit</span> <span style='color:rgb(119,119,145)'>that</span> <span style='color:rgb(64,64,255)'>special</span> <span style='color:rgb(91,91,201)'>annex</span> <span style='color:rgb(137,123,123)'>of</span> <span style='color:rgb(121,121,142)'>hell</span> <span style='color:rgb(128,128,127)'>where</span> <span style='color:rgb(171,106,106)'>adults</span> <span style='color:rgb(135,124,124)'>behave</span> <span style='color:rgb(115,115,154)'>like</span> <span style='color:rgb(170,107,107)'>kids</span> <span style='color:rgb(143,120,120)'>,</span> <span style='color:rgb(124,124,136)'>children</span> <span style='color:rgb(128,128,128)'>behave</span> <span style='color:rgb(191,96,96)'>like</span> <span style='color:rgb(151,116,116)'>adults</span> <span style='color:rgb(186,99,99)'>and</span> <span style='color:rgb(182,101,101)'>everyone</span> <span style='color:rgb(186,99,99)'>screams</span> <span style='color:rgb(143,120,120)'>at</span> <span style='color:rgb(196,94,94)'>the</span> <span style='color:rgb(156,114,114)'>top</span> <span style='color:rgb(166,109,109)'>of</span> <span style='color:rgb(176,104,104)'>their</span> <span style='color:rgb(112,112,159)'>lungs</span> <span style='color:rgb(118,118,147)'>no</span> <span style='color:rgb(125,125,133)'>matter</span> <span style='color:rgb(121,121,142)'>what</span> <span style='color:rgb(98,98,187)'>the</span> <span style='color:rgb(128,128,127)'>situation</span>"
            ]
          },
          "metadata": {
            "tags": []
          }
        },
        {
          "output_type": "stream",
          "text": [
            "\n"
          ],
          "name": "stdout"
        },
        {
          "output_type": "display_data",
          "data": {
            "text/plain": [
              "<IPython.core.display.HTML object>"
            ],
            "text/html": [
              " <span style='color:rgb(105,105,174)'>solondz</span> <span style='color:rgb(104,104,175)'>may</span> <span style='color:rgb(124,124,135)'>be</span> <span style='color:rgb(179,102,102)'>convinced</span> <span style='color:rgb(157,113,113)'>that</span> <span style='color:rgb(120,120,144)'>he</span> <span style='color:rgb(115,115,154)'>has</span> <span style='color:rgb(120,120,144)'>something</span> <span style='color:rgb(96,96,192)'>significant</span> <span style='color:rgb(153,115,115)'>to</span> <span style='color:rgb(179,102,102)'>say</span> <span style='color:rgb(151,116,116)'>,</span> <span style='color:rgb(197,93,93)'>but</span> <span style='color:rgb(172,106,106)'>he</span> <span style='color:rgb(167,108,108)'>is</span> <span style='color:rgb(198,93,93)'>n't</span> <span style='color:rgb(143,120,120)'>talking</span> <span style='color:rgb(96,96,191)'>a</span> <span style='color:rgb(103,103,177)'>talk</span> <span style='color:rgb(64,64,255)'>that</span> <span style='color:rgb(161,111,111)'>appeals</span> <span style='color:rgb(231,76,76)'>to</span> <span style='color:rgb(128,128,127)'>me</span>"
            ]
          },
          "metadata": {
            "tags": []
          }
        },
        {
          "output_type": "stream",
          "text": [
            "('Prediction', array([0.8269284, 0.1730716], dtype=float32))\n",
            "('GT', array([1, 0]))\n",
            "('Correct', True)\n",
            "\n",
            "Nearest based on Embedding similarity\n"
          ],
          "name": "stdout"
        },
        {
          "output_type": "display_data",
          "data": {
            "text/plain": [
              "<IPython.core.display.HTML object>"
            ],
            "text/html": [
              " <span style='color:rgb(142,121,121)'>kapur</span> <span style='color:rgb(167,108,108)'>weighs</span> <span style='color:rgb(154,115,115)'>down</span> <span style='color:rgb(121,121,141)'>the</span> <span style='color:rgb(127,128,128)'>tale</span> <span style='color:rgb(122,122,140)'>with</span> <span style='color:rgb(255,64,64)'>bogus</span> <span style='color:rgb(153,115,115)'>profundities</span>"
            ]
          },
          "metadata": {
            "tags": []
          }
        },
        {
          "output_type": "display_data",
          "data": {
            "text/plain": [
              "<IPython.core.display.HTML object>"
            ],
            "text/html": [
              " <span style='color:rgb(125,125,133)'>what</span> <span style='color:rgb(125,125,134)'>'s</span> <span style='color:rgb(103,103,177)'>surprising</span> <span style='color:rgb(114,114,155)'>about</span> <span style='color:rgb(178,103,103)'>this</span> <span style='color:rgb(214,85,85)'>traditional</span> <span style='color:rgb(158,113,113)'>thriller</span> <span style='color:rgb(165,109,109)'>,</span> <span style='color:rgb(255,64,64)'>moderately</span> <span style='color:rgb(187,98,98)'>successful</span> <span style='color:rgb(164,110,110)'>but</span> <span style='color:rgb(127,128,128)'>not</span> <span style='color:rgb(85,85,213)'>completely</span> <span style='color:rgb(127,127,130)'>satisfying</span> <span style='color:rgb(113,113,158)'>,</span> <span style='color:rgb(113,113,158)'>is</span> <span style='color:rgb(96,96,192)'>exactly</span> <span style='color:rgb(103,103,177)'>how</span> <span style='color:rgb(128,128,128)'>genteel</span> <span style='color:rgb(125,125,133)'>and</span> <span style='color:rgb(137,123,123)'>unsurprising</span> <span style='color:rgb(148,118,118)'>the</span> <span style='color:rgb(127,128,128)'>execution</span> <span style='color:rgb(133,125,125)'>turns</span> <span style='color:rgb(141,121,121)'>out</span> <span style='color:rgb(128,128,127)'>to</span> <span style='color:rgb(128,128,127)'>be</span>"
            ]
          },
          "metadata": {
            "tags": []
          }
        },
        {
          "output_type": "display_data",
          "data": {
            "text/plain": [
              "<IPython.core.display.HTML object>"
            ],
            "text/html": [
              " <span style='color:rgb(127,127,129)'>as</span> <span style='color:rgb(125,125,134)'>it</span> <span style='color:rgb(124,124,136)'>abruptly</span> <span style='color:rgb(111,111,161)'>crosscuts</span> <span style='color:rgb(116,116,151)'>among</span> <span style='color:rgb(124,124,135)'>the</span> <span style='color:rgb(127,127,130)'>five</span> <span style='color:rgb(123,123,138)'>friends</span> <span style='color:rgb(139,122,122)'>,</span> <span style='color:rgb(255,64,64)'>it</span> <span style='color:rgb(159,112,112)'>fails</span> <span style='color:rgb(185,99,99)'>to</span> <span style='color:rgb(139,122,122)'>lend</span> <span style='color:rgb(155,114,114)'>the</span> <span style='color:rgb(124,124,136)'>characters'</span> <span style='color:rgb(116,116,152)'>individual</span> <span style='color:rgb(123,123,138)'>stories</span> <span style='color:rgb(117,117,150)'>enough</span> <span style='color:rgb(114,114,156)'>dramatic</span> <span style='color:rgb(127,127,130)'>resonance</span> <span style='color:rgb(121,121,142)'>to</span> <span style='color:rgb(118,118,148)'>make</span> <span style='color:rgb(149,117,117)'>us</span> <span style='color:rgb(126,126,131)'>care</span> <span style='color:rgb(128,128,128)'>about</span> <span style='color:rgb(128,128,127)'>them</span>"
            ]
          },
          "metadata": {
            "tags": []
          }
        },
        {
          "output_type": "display_data",
          "data": {
            "text/plain": [
              "<IPython.core.display.HTML object>"
            ],
            "text/html": [
              " <span style='color:rgb(143,120,120)'>a</span> <span style='color:rgb(217,83,83)'>quiet</span> <span style='color:rgb(255,64,64)'>family</span> <span style='color:rgb(240,72,72)'>drama</span> <span style='color:rgb(227,78,78)'>with</span> <span style='color:rgb(151,116,116)'>a</span> <span style='color:rgb(127,127,129)'>little</span> <span style='color:rgb(146,119,119)'>bit</span> <span style='color:rgb(145,119,119)'>of</span> <span style='color:rgb(112,112,159)'>romance</span> <span style='color:rgb(128,128,128)'>and</span> <span style='color:rgb(120,120,143)'>a</span> <span style='color:rgb(101,101,181)'>dose</span> <span style='color:rgb(140,122,122)'>of</span> <span style='color:rgb(138,123,123)'>darkness</span>"
            ]
          },
          "metadata": {
            "tags": []
          }
        },
        {
          "output_type": "display_data",
          "data": {
            "text/plain": [
              "<IPython.core.display.HTML object>"
            ],
            "text/html": [
              " <span style='color:rgb(145,119,119)'>full</span> <span style='color:rgb(119,119,145)'>of</span> <span style='color:rgb(176,104,104)'>profound</span> <span style='color:rgb(130,127,127)'>,</span> <span style='color:rgb(64,64,255)'>real</span> <span style='color:rgb(89,89,205)'>life</span> <span style='color:rgb(96,96,191)'>moments</span> <span style='color:rgb(109,109,166)'>that</span> <span style='color:rgb(101,101,181)'>anyone</span> <span style='color:rgb(204,90,90)'>can</span> <span style='color:rgb(172,106,106)'>relate</span> <span style='color:rgb(141,121,121)'>to</span> <span style='color:rgb(187,98,98)'>,</span> <span style='color:rgb(179,102,102)'>it</span> <span style='color:rgb(178,103,103)'>deserves</span> <span style='color:rgb(191,96,96)'>a</span> <span style='color:rgb(128,128,127)'>wide</span> <span style='color:rgb(128,128,127)'>audience</span>"
            ]
          },
          "metadata": {
            "tags": []
          }
        },
        {
          "output_type": "display_data",
          "data": {
            "text/plain": [
              "<IPython.core.display.HTML object>"
            ],
            "text/html": [
              " <span style='color:rgb(125,125,134)'>humor</span> <span style='color:rgb(123,123,138)'>in</span> <span style='color:rgb(114,114,155)'>i</span> <span style='color:rgb(139,122,122)'>spy</span> <span style='color:rgb(132,126,126)'>is</span> <span style='color:rgb(221,81,81)'>so</span> <span style='color:rgb(255,64,64)'>anemic</span>"
            ]
          },
          "metadata": {
            "tags": []
          }
        },
        {
          "output_type": "display_data",
          "data": {
            "text/plain": [
              "<IPython.core.display.HTML object>"
            ],
            "text/html": [
              " <span style='color:rgb(146,119,119)'>woo</span> <span style='color:rgb(127,128,128)'>'s</span> <span style='color:rgb(126,126,131)'>fights</span> <span style='color:rgb(128,128,128)'>have</span> <span style='color:rgb(121,121,141)'>a</span> <span style='color:rgb(120,120,143)'>distinct</span> <span style='color:rgb(128,128,128)'>flair</span> <span style='color:rgb(124,124,136)'>his</span> <span style='color:rgb(171,106,106)'>warriors</span> <span style='color:rgb(147,118,118)'>collide</span> <span style='color:rgb(132,126,126)'>in</span> <span style='color:rgb(173,105,105)'>balletic</span> <span style='color:rgb(140,122,122)'>explosion</span> <span style='color:rgb(124,124,135)'>that</span> <span style='color:rgb(78,78,227)'>implies</span> <span style='color:rgb(88,88,208)'>an</span> <span style='color:rgb(153,115,115)'>underlying</span> <span style='color:rgb(255,64,64)'>order</span> <span style='color:rgb(135,124,124)'>throughout</span> <span style='color:rgb(131,126,126)'>the</span> <span style='color:rgb(139,122,122)'>chaos</span>"
            ]
          },
          "metadata": {
            "tags": []
          }
        },
        {
          "output_type": "display_data",
          "data": {
            "text/plain": [
              "<IPython.core.display.HTML object>"
            ],
            "text/html": [
              " <span style='color:rgb(129,127,127)'>you</span> <span style='color:rgb(135,124,124)'>will</span> <span style='color:rgb(171,106,106)'>emerge</span> <span style='color:rgb(168,108,108)'>with</span> <span style='color:rgb(129,127,127)'>a</span> <span style='color:rgb(238,73,73)'>clearer</span> <span style='color:rgb(173,105,105)'>view</span> <span style='color:rgb(148,118,118)'>of</span> <span style='color:rgb(146,119,119)'>how</span> <span style='color:rgb(121,121,141)'>the</span> <span style='color:rgb(122,122,139)'>gears</span> <span style='color:rgb(142,121,121)'>of</span> <span style='color:rgb(172,106,106)'>justice</span> <span style='color:rgb(255,64,64)'>grind</span> <span style='color:rgb(162,111,111)'>on</span> <span style='color:rgb(147,118,118)'>and</span> <span style='color:rgb(133,125,125)'>the</span> <span style='color:rgb(137,123,123)'>death</span> <span style='color:rgb(110,110,164)'>report</span> <span style='color:rgb(107,107,170)'>comes</span> <span style='color:rgb(118,118,148)'>to</span> <span style='color:rgb(127,127,130)'>share</span> <span style='color:rgb(110,110,163)'>airtime</span> <span style='color:rgb(128,128,128)'>alongside</span> <span style='color:rgb(123,123,138)'>the</span> <span style='color:rgb(94,94,196)'>farm</span> <span style='color:rgb(118,118,148)'>report</span>"
            ]
          },
          "metadata": {
            "tags": []
          }
        },
        {
          "output_type": "display_data",
          "data": {
            "text/plain": [
              "<IPython.core.display.HTML object>"
            ],
            "text/html": [
              " <span style='color:rgb(132,126,126)'>the</span> <span style='color:rgb(183,100,100)'>ingenuity</span> <span style='color:rgb(144,120,120)'>that</span> <span style='color:rgb(239,72,72)'>parker</span> <span style='color:rgb(164,110,110)'>displays</span> <span style='color:rgb(110,110,163)'>in</span> <span style='color:rgb(210,87,87)'>freshening</span> <span style='color:rgb(153,115,115)'>the</span> <span style='color:rgb(199,92,92)'>play</span> <span style='color:rgb(201,91,91)'>is</span> <span style='color:rgb(255,64,64)'>almost</span> <span style='color:rgb(137,123,123)'>in</span> <span style='color:rgb(116,116,151)'>a</span> <span style='color:rgb(120,120,143)'>class</span> <span style='color:rgb(70,70,244)'>with</span> <span style='color:rgb(77,77,229)'>that</span> <span style='color:rgb(114,114,155)'>of</span> <span style='color:rgb(142,121,121)'>wilde</span> <span style='color:rgb(116,116,152)'>himself</span>"
            ]
          },
          "metadata": {
            "tags": []
          }
        },
        {
          "output_type": "display_data",
          "data": {
            "text/plain": [
              "<IPython.core.display.HTML object>"
            ],
            "text/html": [
              " <span style='color:rgb(127,127,130)'>a</span> <span style='color:rgb(132,126,126)'>film</span> <span style='color:rgb(127,127,129)'>that</span> <span style='color:rgb(143,120,120)'>is</span> <span style='color:rgb(138,123,123)'>a</span> <span style='color:rgb(255,64,64)'>portrait</span> <span style='color:rgb(179,102,102)'>of</span> <span style='color:rgb(140,122,122)'>grace</span> <span style='color:rgb(132,126,126)'>in</span> <span style='color:rgb(150,117,117)'>an</span> <span style='color:rgb(124,124,135)'>imperfect</span> <span style='color:rgb(147,118,118)'>world</span>"
            ]
          },
          "metadata": {
            "tags": []
          }
        },
        {
          "output_type": "stream",
          "text": [
            "\n",
            "Nearest based on Attribution similarity\n"
          ],
          "name": "stdout"
        },
        {
          "output_type": "display_data",
          "data": {
            "text/plain": [
              "<IPython.core.display.HTML object>"
            ],
            "text/html": [
              " <span style='color:rgb(122,122,139)'>hell</span> <span style='color:rgb(126,126,132)'>is</span> <span style='color:rgb(124,124,136)'>looking</span> <span style='color:rgb(136,124,124)'>down</span> <span style='color:rgb(119,119,145)'>at</span> <span style='color:rgb(117,117,149)'>your</span> <span style='color:rgb(118,118,147)'>watch</span> <span style='color:rgb(110,110,164)'>and</span> <span style='color:rgb(128,128,127)'>realizing</span> <span style='color:rgb(148,118,118)'>serving</span> <span style='color:rgb(255,64,64)'>sara</span> <span style='color:rgb(150,117,117)'>is</span> <span style='color:rgb(158,113,113)'>n't</span> <span style='color:rgb(151,116,116)'>even</span> <span style='color:rgb(162,111,111)'>halfway</span> <span style='color:rgb(132,126,126)'>through</span>"
            ]
          },
          "metadata": {
            "tags": []
          }
        },
        {
          "output_type": "display_data",
          "data": {
            "text/plain": [
              "<IPython.core.display.HTML object>"
            ],
            "text/html": [
              " <span style='color:rgb(127,127,130)'>a</span> <span style='color:rgb(132,126,126)'>film</span> <span style='color:rgb(127,127,129)'>that</span> <span style='color:rgb(143,120,120)'>is</span> <span style='color:rgb(138,123,123)'>a</span> <span style='color:rgb(255,64,64)'>portrait</span> <span style='color:rgb(179,102,102)'>of</span> <span style='color:rgb(140,122,122)'>grace</span> <span style='color:rgb(132,126,126)'>in</span> <span style='color:rgb(150,117,117)'>an</span> <span style='color:rgb(124,124,135)'>imperfect</span> <span style='color:rgb(147,118,118)'>world</span>"
            ]
          },
          "metadata": {
            "tags": []
          }
        },
        {
          "output_type": "display_data",
          "data": {
            "text/plain": [
              "<IPython.core.display.HTML object>"
            ],
            "text/html": [
              " <span style='color:rgb(126,126,131)'>a</span> <span style='color:rgb(127,127,129)'>sterling</span> <span style='color:rgb(130,127,127)'>film</span> <span style='color:rgb(122,122,140)'>a</span> <span style='color:rgb(139,122,122)'>cross</span> <span style='color:rgb(198,93,93)'>between</span> <span style='color:rgb(255,64,64)'>boys</span> <span style='color:rgb(233,75,75)'>do</span> <span style='color:rgb(205,89,89)'>n't</span> <span style='color:rgb(251,66,66)'>cry</span> <span style='color:rgb(121,121,142)'>,</span> <span style='color:rgb(120,120,144)'>deliverance</span> <span style='color:rgb(112,112,160)'>,</span> <span style='color:rgb(142,121,121)'>and</span> <span style='color:rgb(159,112,112)'>ode</span> <span style='color:rgb(137,123,123)'>to</span> <span style='color:rgb(103,103,177)'>billy</span> <span style='color:rgb(144,120,120)'>joe</span> <span style='color:rgb(125,125,133)'>lies</span> <span style='color:rgb(119,119,145)'>somewhere</span> <span style='color:rgb(127,127,130)'>in</span> <span style='color:rgb(126,126,131)'>the</span> <span style='color:rgb(101,101,182)'>story</span> <span style='color:rgb(65,65,254)'>of</span> <span style='color:rgb(116,116,152)'>matthew</span> <span style='color:rgb(108,108,167)'>shepard</span> <span style='color:rgb(97,97,190)'>,</span> <span style='color:rgb(123,123,138)'>but</span> <span style='color:rgb(125,125,133)'>that</span> <span style='color:rgb(127,128,128)'>film</span> <span style='color:rgb(132,126,126)'>is</span> <span style='color:rgb(123,123,138)'>yet</span> <span style='color:rgb(128,128,127)'>to</span> <span style='color:rgb(128,128,127)'>be</span> <span style='color:rgb(128,128,127)'>made</span>"
            ]
          },
          "metadata": {
            "tags": []
          }
        },
        {
          "output_type": "display_data",
          "data": {
            "text/plain": [
              "<IPython.core.display.HTML object>"
            ],
            "text/html": [
              " <span style='color:rgb(129,127,127)'>the</span> <span style='color:rgb(156,114,114)'>movie</span> <span style='color:rgb(137,123,123)'>is</span> <span style='color:rgb(167,108,108)'>so</span> <span style='color:rgb(222,81,81)'>contrived</span> <span style='color:rgb(255,64,64)'>,</span> <span style='color:rgb(117,117,150)'>nonsensical</span> <span style='color:rgb(177,103,103)'>and</span> <span style='color:rgb(140,122,122)'>formulaic</span> <span style='color:rgb(167,108,108)'>that</span> <span style='color:rgb(144,120,120)'>,</span> <span style='color:rgb(155,114,114)'>come</span> <span style='color:rgb(125,125,133)'>to</span> <span style='color:rgb(121,121,141)'>think</span> <span style='color:rgb(124,124,135)'>of</span> <span style='color:rgb(125,125,133)'>it</span> <span style='color:rgb(123,123,137)'>,</span> <span style='color:rgb(107,107,169)'>the</span> <span style='color:rgb(147,118,118)'>day</span> <span style='color:rgb(127,127,129)'>old</span> <span style='color:rgb(135,124,124)'>shelf</span> <span style='color:rgb(119,119,145)'>would</span> <span style='color:rgb(117,117,150)'>be</span> <span style='color:rgb(98,98,188)'>a</span> <span style='color:rgb(128,128,128)'>more</span> <span style='color:rgb(140,122,122)'>appropriate</span> <span style='color:rgb(128,128,128)'>location</span> <span style='color:rgb(128,128,127)'>to</span> <span style='color:rgb(128,128,127)'>store</span> <span style='color:rgb(128,128,127)'>it</span>"
            ]
          },
          "metadata": {
            "tags": []
          }
        },
        {
          "output_type": "display_data",
          "data": {
            "text/plain": [
              "<IPython.core.display.HTML object>"
            ],
            "text/html": [
              " <span style='color:rgb(125,125,133)'>jir</span> <span style='color:rgb(119,119,146)'>hubac</span> <span style='color:rgb(128,128,128)'>'s</span> <span style='color:rgb(110,110,163)'>script</span> <span style='color:rgb(140,122,122)'>is</span> <span style='color:rgb(155,114,114)'>a</span> <span style='color:rgb(255,64,64)'>gem</span> <span style='color:rgb(128,128,128)'>his</span> <span style='color:rgb(165,109,109)'>characters</span> <span style='color:rgb(129,127,127)'>are</span> <span style='color:rgb(215,84,84)'>engaging</span> <span style='color:rgb(210,87,87)'>,</span> <span style='color:rgb(136,124,124)'>intimate</span> <span style='color:rgb(140,122,122)'>and</span> <span style='color:rgb(127,127,130)'>the</span> <span style='color:rgb(127,128,128)'>dialogue</span> <span style='color:rgb(151,116,116)'>is</span> <span style='color:rgb(148,118,118)'>realistic</span> <span style='color:rgb(150,117,117)'>and</span> <span style='color:rgb(165,109,109)'>greatly</span> <span style='color:rgb(130,127,127)'>moving</span> <span style='color:rgb(131,126,126)'>the</span> <span style='color:rgb(132,126,126)'>scope</span> <span style='color:rgb(131,126,126)'>of</span> <span style='color:rgb(133,125,125)'>the</span> <span style='color:rgb(127,128,128)'>silberstein</span> <span style='color:rgb(130,127,127)'>family</span> <span style='color:rgb(125,125,133)'>is</span> <span style='color:rgb(128,128,128)'>large</span> <span style='color:rgb(131,126,126)'>and</span> <span style='color:rgb(129,127,127)'>we</span> <span style='color:rgb(123,123,138)'>grow</span> <span style='color:rgb(127,127,130)'>attached</span> <span style='color:rgb(137,123,123)'>to</span> <span style='color:rgb(134,125,125)'>their</span> <span style='color:rgb(133,125,125)'>lives</span> <span style='color:rgb(138,123,123)'>,</span> <span style='color:rgb(172,106,106)'>full</span> <span style='color:rgb(134,125,125)'>of</span> <span style='color:rgb(128,128,128)'>strength</span> <span style='color:rgb(144,120,120)'>,</span> <span style='color:rgb(128,128,127)'>warmth</span> <span style='color:rgb(128,128,127)'>and</span> <span style='color:rgb(128,128,127)'>vitality</span>"
            ]
          },
          "metadata": {
            "tags": []
          }
        },
        {
          "output_type": "display_data",
          "data": {
            "text/plain": [
              "<IPython.core.display.HTML object>"
            ],
            "text/html": [
              " <span style='color:rgb(126,126,131)'>i'm</span> <span style='color:rgb(112,112,160)'>giving</span> <span style='color:rgb(128,128,128)'>it</span> <span style='color:rgb(94,94,196)'>thumbs</span> <span style='color:rgb(91,91,201)'>down</span> <span style='color:rgb(103,103,177)'>due</span> <span style='color:rgb(131,126,126)'>to</span> <span style='color:rgb(124,124,135)'>the</span> <span style='color:rgb(128,128,127)'>endlessly</span> <span style='color:rgb(117,117,150)'>repetitive</span> <span style='color:rgb(144,120,120)'>scenes</span> <span style='color:rgb(130,127,127)'>of</span> <span style='color:rgb(119,119,145)'>embarrassment</span> <span style='color:rgb(129,127,127)'>there</span> <span style='color:rgb(127,127,130)'>'s</span> <span style='color:rgb(154,115,115)'>got</span> <span style='color:rgb(125,125,134)'>to</span> <span style='color:rgb(128,128,127)'>be</span> <span style='color:rgb(127,127,130)'>a</span> <span style='color:rgb(157,113,113)'>more</span> <span style='color:rgb(172,106,106)'>graceful</span> <span style='color:rgb(245,69,69)'>way</span> <span style='color:rgb(165,109,109)'>of</span> <span style='color:rgb(255,64,64)'>portraying</span> <span style='color:rgb(128,128,128)'>the</span> <span style='color:rgb(124,124,136)'>devastation</span> <span style='color:rgb(128,128,127)'>of</span> <span style='color:rgb(119,119,145)'>this</span> <span style='color:rgb(128,128,127)'>disease</span>"
            ]
          },
          "metadata": {
            "tags": []
          }
        },
        {
          "output_type": "display_data",
          "data": {
            "text/plain": [
              "<IPython.core.display.HTML object>"
            ],
            "text/html": [
              " <span style='color:rgb(154,115,115)'>one</span> <span style='color:rgb(111,111,161)'>suspects</span> <span style='color:rgb(150,117,117)'>that</span> <span style='color:rgb(209,87,87)'>craven</span> <span style='color:rgb(158,113,113)'>endorses</span> <span style='color:rgb(93,93,197)'>they</span> <span style='color:rgb(230,77,77)'>simply</span> <span style='color:rgb(64,64,255)'>because</span> <span style='color:rgb(110,110,164)'>this</span> <span style='color:rgb(164,110,110)'>movie</span> <span style='color:rgb(121,121,142)'>makes</span> <span style='color:rgb(110,110,163)'>his</span> <span style='color:rgb(126,126,132)'>own</span> <span style='color:rgb(71,71,242)'>look</span> <span style='color:rgb(159,112,112)'>much</span> <span style='color:rgb(240,72,72)'>better</span> <span style='color:rgb(198,93,93)'>by</span> <span style='color:rgb(176,104,104)'>comparison</span>"
            ]
          },
          "metadata": {
            "tags": []
          }
        },
        {
          "output_type": "display_data",
          "data": {
            "text/plain": [
              "<IPython.core.display.HTML object>"
            ],
            "text/html": [
              " <span style='color:rgb(140,122,122)'>sen</span> <span style='color:rgb(134,125,125)'>'s</span> <span style='color:rgb(181,101,101)'>soap</span> <span style='color:rgb(180,102,102)'>opera</span> <span style='color:rgb(176,104,104)'>ish</span> <span style='color:rgb(141,121,121)'>approach</span> <span style='color:rgb(125,125,134)'>undermines</span> <span style='color:rgb(111,111,162)'>his</span> <span style='color:rgb(90,90,204)'>good</span> <span style='color:rgb(255,64,64)'>intentions</span>"
            ]
          },
          "metadata": {
            "tags": []
          }
        },
        {
          "output_type": "display_data",
          "data": {
            "text/plain": [
              "<IPython.core.display.HTML object>"
            ],
            "text/html": [
              " <span style='color:rgb(128,128,127)'>gosling</span> <span style='color:rgb(128,128,128)'>creates</span> <span style='color:rgb(128,128,128)'>a</span> <span style='color:rgb(130,127,127)'>staggeringly</span> <span style='color:rgb(122,122,140)'>compelling</span> <span style='color:rgb(135,124,124)'>character</span> <span style='color:rgb(129,127,127)'>,</span> <span style='color:rgb(97,97,189)'>a</span> <span style='color:rgb(93,93,198)'>young</span> <span style='color:rgb(117,117,149)'>man</span> <span style='color:rgb(103,103,177)'>whose</span> <span style='color:rgb(127,127,129)'>sharp</span> <span style='color:rgb(125,125,134)'>intellect</span> <span style='color:rgb(119,119,146)'>is</span> <span style='color:rgb(127,127,129)'>at</span> <span style='color:rgb(124,124,135)'>the</span> <span style='color:rgb(118,118,147)'>very</span> <span style='color:rgb(125,125,134)'>root</span> <span style='color:rgb(119,119,145)'>of</span> <span style='color:rgb(170,107,107)'>his</span> <span style='color:rgb(196,94,94)'>contradictory</span> <span style='color:rgb(255,64,64)'>,</span> <span style='color:rgb(195,94,94)'>self</span> <span style='color:rgb(135,124,124)'>hating</span> <span style='color:rgb(143,120,120)'>,</span> <span style='color:rgb(128,128,127)'>self</span> <span style='color:rgb(128,128,127)'>destructive</span> <span style='color:rgb(128,128,127)'>ways</span>"
            ]
          },
          "metadata": {
            "tags": []
          }
        },
        {
          "output_type": "display_data",
          "data": {
            "text/plain": [
              "<IPython.core.display.HTML object>"
            ],
            "text/html": [
              " <span style='color:rgb(130,127,127)'>one</span> <span style='color:rgb(131,126,126)'>of</span> <span style='color:rgb(136,124,124)'>those</span> <span style='color:rgb(124,124,136)'>films</span> <span style='color:rgb(115,115,153)'>where</span> <span style='color:rgb(128,128,128)'>the</span> <span style='color:rgb(100,100,184)'>characters</span> <span style='color:rgb(96,96,191)'>inhabit</span> <span style='color:rgb(119,119,145)'>that</span> <span style='color:rgb(64,64,255)'>special</span> <span style='color:rgb(91,91,201)'>annex</span> <span style='color:rgb(137,123,123)'>of</span> <span style='color:rgb(121,121,142)'>hell</span> <span style='color:rgb(128,128,127)'>where</span> <span style='color:rgb(171,106,106)'>adults</span> <span style='color:rgb(135,124,124)'>behave</span> <span style='color:rgb(115,115,154)'>like</span> <span style='color:rgb(170,107,107)'>kids</span> <span style='color:rgb(143,120,120)'>,</span> <span style='color:rgb(124,124,136)'>children</span> <span style='color:rgb(128,128,128)'>behave</span> <span style='color:rgb(191,96,96)'>like</span> <span style='color:rgb(151,116,116)'>adults</span> <span style='color:rgb(186,99,99)'>and</span> <span style='color:rgb(182,101,101)'>everyone</span> <span style='color:rgb(186,99,99)'>screams</span> <span style='color:rgb(143,120,120)'>at</span> <span style='color:rgb(196,94,94)'>the</span> <span style='color:rgb(156,114,114)'>top</span> <span style='color:rgb(166,109,109)'>of</span> <span style='color:rgb(176,104,104)'>their</span> <span style='color:rgb(112,112,159)'>lungs</span> <span style='color:rgb(118,118,147)'>no</span> <span style='color:rgb(125,125,133)'>matter</span> <span style='color:rgb(121,121,142)'>what</span> <span style='color:rgb(98,98,187)'>the</span> <span style='color:rgb(128,128,127)'>situation</span>"
            ]
          },
          "metadata": {
            "tags": []
          }
        },
        {
          "output_type": "stream",
          "text": [
            "\n"
          ],
          "name": "stdout"
        },
        {
          "output_type": "display_data",
          "data": {
            "text/plain": [
              "<IPython.core.display.HTML object>"
            ],
            "text/html": [
              " <span style='color:rgb(130,127,127)'>one</span> <span style='color:rgb(131,126,126)'>of</span> <span style='color:rgb(136,124,124)'>those</span> <span style='color:rgb(124,124,136)'>films</span> <span style='color:rgb(115,115,153)'>where</span> <span style='color:rgb(128,128,128)'>the</span> <span style='color:rgb(100,100,184)'>characters</span> <span style='color:rgb(96,96,191)'>inhabit</span> <span style='color:rgb(119,119,145)'>that</span> <span style='color:rgb(64,64,255)'>special</span> <span style='color:rgb(91,91,201)'>annex</span> <span style='color:rgb(137,123,123)'>of</span> <span style='color:rgb(121,121,142)'>hell</span> <span style='color:rgb(128,128,127)'>where</span> <span style='color:rgb(171,106,106)'>adults</span> <span style='color:rgb(135,124,124)'>behave</span> <span style='color:rgb(115,115,154)'>like</span> <span style='color:rgb(170,107,107)'>kids</span> <span style='color:rgb(143,120,120)'>,</span> <span style='color:rgb(124,124,136)'>children</span> <span style='color:rgb(128,128,128)'>behave</span> <span style='color:rgb(191,96,96)'>like</span> <span style='color:rgb(151,116,116)'>adults</span> <span style='color:rgb(186,99,99)'>and</span> <span style='color:rgb(182,101,101)'>everyone</span> <span style='color:rgb(186,99,99)'>screams</span> <span style='color:rgb(143,120,120)'>at</span> <span style='color:rgb(196,94,94)'>the</span> <span style='color:rgb(156,114,114)'>top</span> <span style='color:rgb(166,109,109)'>of</span> <span style='color:rgb(176,104,104)'>their</span> <span style='color:rgb(112,112,159)'>lungs</span> <span style='color:rgb(118,118,147)'>no</span> <span style='color:rgb(125,125,133)'>matter</span> <span style='color:rgb(121,121,142)'>what</span> <span style='color:rgb(98,98,187)'>the</span> <span style='color:rgb(128,128,127)'>situation</span>"
            ]
          },
          "metadata": {
            "tags": []
          }
        },
        {
          "output_type": "stream",
          "text": [
            "('Prediction', array([0.47285867, 0.52714133], dtype=float32))\n",
            "('GT', array([1, 0]))\n",
            "('Correct', False)\n",
            "\n",
            "Nearest based on Embedding similarity\n"
          ],
          "name": "stdout"
        },
        {
          "output_type": "display_data",
          "data": {
            "text/plain": [
              "<IPython.core.display.HTML object>"
            ],
            "text/html": [
              " <span style='color:rgb(159,112,112)'>blade</span> <span style='color:rgb(155,114,114)'>ii</span> <span style='color:rgb(123,123,138)'>merges</span> <span style='color:rgb(149,117,117)'>bits</span> <span style='color:rgb(122,122,140)'>and</span> <span style='color:rgb(103,103,177)'>pieces</span> <span style='color:rgb(115,115,154)'>from</span> <span style='color:rgb(126,126,131)'>fighting</span> <span style='color:rgb(146,119,119)'>games</span> <span style='color:rgb(121,121,141)'>,</span> <span style='color:rgb(147,118,118)'>wire</span> <span style='color:rgb(99,99,186)'>fu</span> <span style='color:rgb(127,128,128)'>,</span> <span style='color:rgb(255,64,64)'>horror</span> <span style='color:rgb(190,97,97)'>movies</span> <span style='color:rgb(82,82,220)'>,</span> <span style='color:rgb(128,128,127)'>mystery</span> <span style='color:rgb(141,121,121)'>,</span> <span style='color:rgb(133,125,125)'>james</span> <span style='color:rgb(120,120,143)'>bond</span> <span style='color:rgb(111,111,162)'>,</span> <span style='color:rgb(114,114,155)'>wrestling</span> <span style='color:rgb(121,121,142)'>,</span> <span style='color:rgb(105,105,173)'>sci</span> <span style='color:rgb(187,98,98)'>fi</span> <span style='color:rgb(242,71,71)'>and</span> <span style='color:rgb(128,128,127)'>anime</span> <span style='color:rgb(128,128,127)'>into</span> <span style='color:rgb(128,128,127)'>one</span> <span style='color:rgb(128,128,127)'>big</span> <span style='color:rgb(128,128,127)'>bloody</span> <span style='color:rgb(128,128,127)'>stew</span>"
            ]
          },
          "metadata": {
            "tags": []
          }
        },
        {
          "output_type": "display_data",
          "data": {
            "text/plain": [
              "<IPython.core.display.HTML object>"
            ],
            "text/html": [
              " <span style='color:rgb(122,122,139)'>a</span> <span style='color:rgb(101,101,182)'>sequel</span> <span style='color:rgb(123,123,137)'>that</span> <span style='color:rgb(109,109,165)'>'s</span> <span style='color:rgb(173,105,105)'>much</span> <span style='color:rgb(242,71,71)'>too</span> <span style='color:rgb(127,128,128)'>big</span> <span style='color:rgb(132,126,126)'>for</span> <span style='color:rgb(130,127,127)'>its</span> <span style='color:rgb(255,64,64)'>britches</span>"
            ]
          },
          "metadata": {
            "tags": []
          }
        },
        {
          "output_type": "display_data",
          "data": {
            "text/plain": [
              "<IPython.core.display.HTML object>"
            ],
            "text/html": [
              " <span style='color:rgb(120,120,144)'>i</span> <span style='color:rgb(232,76,76)'>admired</span> <span style='color:rgb(123,123,137)'>this</span> <span style='color:rgb(255,64,64)'>work</span> <span style='color:rgb(215,84,84)'>a</span> <span style='color:rgb(177,103,103)'>lot</span>"
            ]
          },
          "metadata": {
            "tags": []
          }
        },
        {
          "output_type": "display_data",
          "data": {
            "text/plain": [
              "<IPython.core.display.HTML object>"
            ],
            "text/html": [
              " <span style='color:rgb(142,121,121)'>kapur</span> <span style='color:rgb(167,108,108)'>weighs</span> <span style='color:rgb(154,115,115)'>down</span> <span style='color:rgb(121,121,141)'>the</span> <span style='color:rgb(127,128,128)'>tale</span> <span style='color:rgb(122,122,140)'>with</span> <span style='color:rgb(255,64,64)'>bogus</span> <span style='color:rgb(153,115,115)'>profundities</span>"
            ]
          },
          "metadata": {
            "tags": []
          }
        },
        {
          "output_type": "display_data",
          "data": {
            "text/plain": [
              "<IPython.core.display.HTML object>"
            ],
            "text/html": [
              " <span style='color:rgb(208,88,88)'>mostly</span> <span style='color:rgb(225,79,79)'>,</span> <span style='color:rgb(124,124,135)'>shafer</span> <span style='color:rgb(132,126,126)'>and</span> <span style='color:rgb(115,115,154)'>co</span> <span style='color:rgb(64,64,255)'>writer</span> <span style='color:rgb(122,122,139)'>gregory</span> <span style='color:rgb(236,74,74)'>hinton</span> <span style='color:rgb(106,106,171)'>lack</span> <span style='color:rgb(188,98,98)'>a</span> <span style='color:rgb(126,126,132)'>strong</span> <span style='color:rgb(185,99,99)'>minded</span> <span style='color:rgb(168,108,108)'>viewpoint</span> <span style='color:rgb(113,113,158)'>,</span> <span style='color:rgb(121,121,142)'>or</span> <span style='color:rgb(102,102,179)'>a</span> <span style='color:rgb(87,87,210)'>sense</span> <span style='color:rgb(128,128,127)'>of</span> <span style='color:rgb(128,128,127)'>humor</span>"
            ]
          },
          "metadata": {
            "tags": []
          }
        },
        {
          "output_type": "display_data",
          "data": {
            "text/plain": [
              "<IPython.core.display.HTML object>"
            ],
            "text/html": [
              " <span style='color:rgb(148,118,118)'>this</span> <span style='color:rgb(196,94,94)'>dubious</span> <span style='color:rgb(200,92,92)'>product</span> <span style='color:rgb(130,127,127)'>of</span> <span style='color:rgb(123,123,138)'>a</span> <span style='color:rgb(255,64,64)'>college</span> <span style='color:rgb(114,114,155)'>spawned</span> <span style='color:rgb(184,100,100)'>\\(</span> <span style='color:rgb(122,122,139)'>colgate</span> <span style='color:rgb(118,118,147)'>u</span> <span style='color:rgb(110,110,164)'>\\)</span> <span style='color:rgb(90,90,204)'>comedy</span> <span style='color:rgb(138,123,123)'>ensemble</span> <span style='color:rgb(121,121,141)'>known</span> <span style='color:rgb(175,104,104)'>as</span> <span style='color:rgb(193,95,95)'>broken</span> <span style='color:rgb(181,101,101)'>lizard</span> <span style='color:rgb(118,118,148)'>plays</span> <span style='color:rgb(101,101,182)'>like</span> <span style='color:rgb(123,123,138)'>a</span> <span style='color:rgb(94,94,196)'>mix</span> <span style='color:rgb(122,122,140)'>of</span> <span style='color:rgb(114,114,155)'>cheech</span> <span style='color:rgb(125,125,133)'>and</span> <span style='color:rgb(118,118,148)'>chong</span> <span style='color:rgb(128,128,127)'>and</span> <span style='color:rgb(128,128,127)'>chips</span>"
            ]
          },
          "metadata": {
            "tags": []
          }
        },
        {
          "output_type": "display_data",
          "data": {
            "text/plain": [
              "<IPython.core.display.HTML object>"
            ],
            "text/html": [
              " <span style='color:rgb(158,113,113)'>painful</span> <span style='color:rgb(131,126,126)'>,</span> <span style='color:rgb(109,109,166)'>horrifying</span> <span style='color:rgb(116,116,152)'>and</span> <span style='color:rgb(92,92,200)'>oppressively</span> <span style='color:rgb(119,119,145)'>tragic</span> <span style='color:rgb(106,106,172)'>,</span> <span style='color:rgb(117,117,150)'>this</span> <span style='color:rgb(159,112,112)'>film</span> <span style='color:rgb(194,95,95)'>should</span> <span style='color:rgb(255,64,64)'>not</span> <span style='color:rgb(128,128,127)'>be</span> <span style='color:rgb(128,128,127)'>missed</span>"
            ]
          },
          "metadata": {
            "tags": []
          }
        },
        {
          "output_type": "display_data",
          "data": {
            "text/plain": [
              "<IPython.core.display.HTML object>"
            ],
            "text/html": [
              " <span style='color:rgb(140,122,122)'>sen</span> <span style='color:rgb(134,125,125)'>'s</span> <span style='color:rgb(181,101,101)'>soap</span> <span style='color:rgb(180,102,102)'>opera</span> <span style='color:rgb(176,104,104)'>ish</span> <span style='color:rgb(141,121,121)'>approach</span> <span style='color:rgb(125,125,134)'>undermines</span> <span style='color:rgb(111,111,162)'>his</span> <span style='color:rgb(90,90,204)'>good</span> <span style='color:rgb(255,64,64)'>intentions</span>"
            ]
          },
          "metadata": {
            "tags": []
          }
        },
        {
          "output_type": "display_data",
          "data": {
            "text/plain": [
              "<IPython.core.display.HTML object>"
            ],
            "text/html": [
              " <span style='color:rgb(146,119,119)'>woo</span> <span style='color:rgb(127,128,128)'>'s</span> <span style='color:rgb(126,126,131)'>fights</span> <span style='color:rgb(128,128,128)'>have</span> <span style='color:rgb(121,121,141)'>a</span> <span style='color:rgb(120,120,143)'>distinct</span> <span style='color:rgb(128,128,128)'>flair</span> <span style='color:rgb(124,124,136)'>his</span> <span style='color:rgb(171,106,106)'>warriors</span> <span style='color:rgb(147,118,118)'>collide</span> <span style='color:rgb(132,126,126)'>in</span> <span style='color:rgb(173,105,105)'>balletic</span> <span style='color:rgb(140,122,122)'>explosion</span> <span style='color:rgb(124,124,135)'>that</span> <span style='color:rgb(78,78,227)'>implies</span> <span style='color:rgb(88,88,208)'>an</span> <span style='color:rgb(153,115,115)'>underlying</span> <span style='color:rgb(255,64,64)'>order</span> <span style='color:rgb(135,124,124)'>throughout</span> <span style='color:rgb(131,126,126)'>the</span> <span style='color:rgb(139,122,122)'>chaos</span>"
            ]
          },
          "metadata": {
            "tags": []
          }
        },
        {
          "output_type": "display_data",
          "data": {
            "text/plain": [
              "<IPython.core.display.HTML object>"
            ],
            "text/html": [
              " <span style='color:rgb(143,120,120)'>a</span> <span style='color:rgb(217,83,83)'>quiet</span> <span style='color:rgb(255,64,64)'>family</span> <span style='color:rgb(240,72,72)'>drama</span> <span style='color:rgb(227,78,78)'>with</span> <span style='color:rgb(151,116,116)'>a</span> <span style='color:rgb(127,127,129)'>little</span> <span style='color:rgb(146,119,119)'>bit</span> <span style='color:rgb(145,119,119)'>of</span> <span style='color:rgb(112,112,159)'>romance</span> <span style='color:rgb(128,128,128)'>and</span> <span style='color:rgb(120,120,143)'>a</span> <span style='color:rgb(101,101,181)'>dose</span> <span style='color:rgb(140,122,122)'>of</span> <span style='color:rgb(138,123,123)'>darkness</span>"
            ]
          },
          "metadata": {
            "tags": []
          }
        },
        {
          "output_type": "stream",
          "text": [
            "\n",
            "Nearest based on Attribution similarity\n"
          ],
          "name": "stdout"
        },
        {
          "output_type": "display_data",
          "data": {
            "text/plain": [
              "<IPython.core.display.HTML object>"
            ],
            "text/html": [
              " <span style='color:rgb(126,126,131)'>christians</span> <span style='color:rgb(132,126,126)'>sensitive</span> <span style='color:rgb(128,128,128)'>to</span> <span style='color:rgb(138,123,123)'>a</span> <span style='color:rgb(133,125,125)'>reductionist</span> <span style='color:rgb(125,125,133)'>view</span> <span style='color:rgb(114,114,156)'>of</span> <span style='color:rgb(64,64,255)'>their</span> <span style='color:rgb(65,65,253)'>lord</span> <span style='color:rgb(113,113,157)'>as</span> <span style='color:rgb(149,117,117)'>a</span> <span style='color:rgb(153,115,115)'>luv</span> <span style='color:rgb(125,125,134)'>spreading</span> <span style='color:rgb(119,119,145)'>dr</span> <span style='color:rgb(68,68,247)'>feelgood</span> <span style='color:rgb(159,112,112)'>or</span> <span style='color:rgb(101,101,181)'>omnipotent</span> <span style='color:rgb(94,94,195)'>slacker</span> <span style='color:rgb(115,115,154)'>will</span> <span style='color:rgb(120,120,143)'>feel</span> <span style='color:rgb(127,127,130)'>vastly</span> <span style='color:rgb(188,98,98)'>more</span> <span style='color:rgb(177,103,103)'>affronted</span> <span style='color:rgb(162,111,111)'>than</span> <span style='color:rgb(232,76,76)'>secularists</span> <span style='color:rgb(167,108,108)'>,</span> <span style='color:rgb(239,72,72)'>who</span> <span style='color:rgb(188,98,98)'>might</span> <span style='color:rgb(204,90,90)'>even</span> <span style='color:rgb(183,100,100)'>praise</span> <span style='color:rgb(125,125,134)'>god</span> <span style='color:rgb(80,80,224)'>for</span> <span style='color:rgb(105,105,174)'>delivering</span> <span style='color:rgb(145,119,119)'>such</span> <span style='color:rgb(192,96,96)'>an</span> <span style='color:rgb(164,110,110)'>instant</span> <span style='color:rgb(134,125,125)'>camp</span> <span style='color:rgb(128,128,127)'>classic</span>"
            ]
          },
          "metadata": {
            "tags": []
          }
        },
        {
          "output_type": "display_data",
          "data": {
            "text/plain": [
              "<IPython.core.display.HTML object>"
            ],
            "text/html": [
              " <span style='color:rgb(129,127,127)'>you</span> <span style='color:rgb(135,124,124)'>will</span> <span style='color:rgb(171,106,106)'>emerge</span> <span style='color:rgb(168,108,108)'>with</span> <span style='color:rgb(129,127,127)'>a</span> <span style='color:rgb(238,73,73)'>clearer</span> <span style='color:rgb(173,105,105)'>view</span> <span style='color:rgb(148,118,118)'>of</span> <span style='color:rgb(146,119,119)'>how</span> <span style='color:rgb(121,121,141)'>the</span> <span style='color:rgb(122,122,139)'>gears</span> <span style='color:rgb(142,121,121)'>of</span> <span style='color:rgb(172,106,106)'>justice</span> <span style='color:rgb(255,64,64)'>grind</span> <span style='color:rgb(162,111,111)'>on</span> <span style='color:rgb(147,118,118)'>and</span> <span style='color:rgb(133,125,125)'>the</span> <span style='color:rgb(137,123,123)'>death</span> <span style='color:rgb(110,110,164)'>report</span> <span style='color:rgb(107,107,170)'>comes</span> <span style='color:rgb(118,118,148)'>to</span> <span style='color:rgb(127,127,130)'>share</span> <span style='color:rgb(110,110,163)'>airtime</span> <span style='color:rgb(128,128,128)'>alongside</span> <span style='color:rgb(123,123,138)'>the</span> <span style='color:rgb(94,94,196)'>farm</span> <span style='color:rgb(118,118,148)'>report</span>"
            ]
          },
          "metadata": {
            "tags": []
          }
        },
        {
          "output_type": "display_data",
          "data": {
            "text/plain": [
              "<IPython.core.display.HTML object>"
            ],
            "text/html": [
              " <span style='color:rgb(105,105,174)'>solondz</span> <span style='color:rgb(104,104,175)'>may</span> <span style='color:rgb(124,124,135)'>be</span> <span style='color:rgb(179,102,102)'>convinced</span> <span style='color:rgb(157,113,113)'>that</span> <span style='color:rgb(120,120,144)'>he</span> <span style='color:rgb(115,115,154)'>has</span> <span style='color:rgb(120,120,144)'>something</span> <span style='color:rgb(96,96,192)'>significant</span> <span style='color:rgb(153,115,115)'>to</span> <span style='color:rgb(179,102,102)'>say</span> <span style='color:rgb(151,116,116)'>,</span> <span style='color:rgb(197,93,93)'>but</span> <span style='color:rgb(172,106,106)'>he</span> <span style='color:rgb(167,108,108)'>is</span> <span style='color:rgb(198,93,93)'>n't</span> <span style='color:rgb(143,120,120)'>talking</span> <span style='color:rgb(96,96,191)'>a</span> <span style='color:rgb(103,103,177)'>talk</span> <span style='color:rgb(64,64,255)'>that</span> <span style='color:rgb(161,111,111)'>appeals</span> <span style='color:rgb(231,76,76)'>to</span> <span style='color:rgb(128,128,127)'>me</span>"
            ]
          },
          "metadata": {
            "tags": []
          }
        },
        {
          "output_type": "display_data",
          "data": {
            "text/plain": [
              "<IPython.core.display.HTML object>"
            ],
            "text/html": [
              " <span style='color:rgb(142,121,121)'>kapur</span> <span style='color:rgb(167,108,108)'>weighs</span> <span style='color:rgb(154,115,115)'>down</span> <span style='color:rgb(121,121,141)'>the</span> <span style='color:rgb(127,128,128)'>tale</span> <span style='color:rgb(122,122,140)'>with</span> <span style='color:rgb(255,64,64)'>bogus</span> <span style='color:rgb(153,115,115)'>profundities</span>"
            ]
          },
          "metadata": {
            "tags": []
          }
        },
        {
          "output_type": "display_data",
          "data": {
            "text/plain": [
              "<IPython.core.display.HTML object>"
            ],
            "text/html": [
              " <span style='color:rgb(255,64,64)'>credibility</span> <span style='color:rgb(209,87,87)'>sinks</span> <span style='color:rgb(191,96,96)'>into</span> <span style='color:rgb(114,114,156)'>a</span> <span style='color:rgb(215,84,84)'>mire</span> <span style='color:rgb(103,103,177)'>of</span> <span style='color:rgb(164,110,110)'>sentiment</span>"
            ]
          },
          "metadata": {
            "tags": []
          }
        },
        {
          "output_type": "display_data",
          "data": {
            "text/plain": [
              "<IPython.core.display.HTML object>"
            ],
            "text/html": [
              " <span style='color:rgb(140,122,122)'>sen</span> <span style='color:rgb(134,125,125)'>'s</span> <span style='color:rgb(181,101,101)'>soap</span> <span style='color:rgb(180,102,102)'>opera</span> <span style='color:rgb(176,104,104)'>ish</span> <span style='color:rgb(141,121,121)'>approach</span> <span style='color:rgb(125,125,134)'>undermines</span> <span style='color:rgb(111,111,162)'>his</span> <span style='color:rgb(90,90,204)'>good</span> <span style='color:rgb(255,64,64)'>intentions</span>"
            ]
          },
          "metadata": {
            "tags": []
          }
        },
        {
          "output_type": "display_data",
          "data": {
            "text/plain": [
              "<IPython.core.display.HTML object>"
            ],
            "text/html": [
              " <span style='color:rgb(128,128,128)'>in</span> <span style='color:rgb(122,122,140)'>questioning</span> <span style='color:rgb(127,127,130)'>the</span> <span style='color:rgb(129,127,127)'>election</span> <span style='color:rgb(131,126,126)'>process</span> <span style='color:rgb(132,126,126)'>,</span> <span style='color:rgb(130,127,127)'>payami</span> <span style='color:rgb(132,126,126)'>graphically</span> <span style='color:rgb(130,127,127)'>illustrates</span> <span style='color:rgb(134,125,125)'>the</span> <span style='color:rgb(127,128,128)'>problems</span> <span style='color:rgb(128,128,128)'>of</span> <span style='color:rgb(125,125,134)'>fledgling</span> <span style='color:rgb(128,128,128)'>democracies</span> <span style='color:rgb(116,116,151)'>,</span> <span style='color:rgb(127,127,130)'>but</span> <span style='color:rgb(88,88,208)'>also</span> <span style='color:rgb(111,111,161)'>the</span> <span style='color:rgb(116,116,152)'>strength</span> <span style='color:rgb(124,124,136)'>and</span> <span style='color:rgb(85,85,214)'>sense</span> <span style='color:rgb(126,126,131)'>of</span> <span style='color:rgb(105,105,174)'>freedom</span> <span style='color:rgb(124,124,135)'>the</span> <span style='color:rgb(255,64,64)'>iranian</span> <span style='color:rgb(252,66,66)'>people</span> <span style='color:rgb(126,126,132)'>already</span> <span style='color:rgb(195,94,94)'>possess</span> <span style='color:rgb(174,105,105)'>,</span> <span style='color:rgb(138,123,123)'>with</span> <span style='color:rgb(127,128,128)'>or</span> <span style='color:rgb(128,128,128)'>without</span> <span style='color:rgb(124,124,135)'>access</span> <span style='color:rgb(119,119,145)'>to</span> <span style='color:rgb(128,128,127)'>the</span> <span style='color:rgb(128,128,127)'>ballot</span> <span style='color:rgb(128,128,127)'>box</span>"
            ]
          },
          "metadata": {
            "tags": []
          }
        },
        {
          "output_type": "display_data",
          "data": {
            "text/plain": [
              "<IPython.core.display.HTML object>"
            ],
            "text/html": [
              " <span style='color:rgb(125,125,133)'>jir</span> <span style='color:rgb(119,119,146)'>hubac</span> <span style='color:rgb(128,128,128)'>'s</span> <span style='color:rgb(110,110,163)'>script</span> <span style='color:rgb(140,122,122)'>is</span> <span style='color:rgb(155,114,114)'>a</span> <span style='color:rgb(255,64,64)'>gem</span> <span style='color:rgb(128,128,128)'>his</span> <span style='color:rgb(165,109,109)'>characters</span> <span style='color:rgb(129,127,127)'>are</span> <span style='color:rgb(215,84,84)'>engaging</span> <span style='color:rgb(210,87,87)'>,</span> <span style='color:rgb(136,124,124)'>intimate</span> <span style='color:rgb(140,122,122)'>and</span> <span style='color:rgb(127,127,130)'>the</span> <span style='color:rgb(127,128,128)'>dialogue</span> <span style='color:rgb(151,116,116)'>is</span> <span style='color:rgb(148,118,118)'>realistic</span> <span style='color:rgb(150,117,117)'>and</span> <span style='color:rgb(165,109,109)'>greatly</span> <span style='color:rgb(130,127,127)'>moving</span> <span style='color:rgb(131,126,126)'>the</span> <span style='color:rgb(132,126,126)'>scope</span> <span style='color:rgb(131,126,126)'>of</span> <span style='color:rgb(133,125,125)'>the</span> <span style='color:rgb(127,128,128)'>silberstein</span> <span style='color:rgb(130,127,127)'>family</span> <span style='color:rgb(125,125,133)'>is</span> <span style='color:rgb(128,128,128)'>large</span> <span style='color:rgb(131,126,126)'>and</span> <span style='color:rgb(129,127,127)'>we</span> <span style='color:rgb(123,123,138)'>grow</span> <span style='color:rgb(127,127,130)'>attached</span> <span style='color:rgb(137,123,123)'>to</span> <span style='color:rgb(134,125,125)'>their</span> <span style='color:rgb(133,125,125)'>lives</span> <span style='color:rgb(138,123,123)'>,</span> <span style='color:rgb(172,106,106)'>full</span> <span style='color:rgb(134,125,125)'>of</span> <span style='color:rgb(128,128,128)'>strength</span> <span style='color:rgb(144,120,120)'>,</span> <span style='color:rgb(128,128,127)'>warmth</span> <span style='color:rgb(128,128,127)'>and</span> <span style='color:rgb(128,128,127)'>vitality</span>"
            ]
          },
          "metadata": {
            "tags": []
          }
        },
        {
          "output_type": "display_data",
          "data": {
            "text/plain": [
              "<IPython.core.display.HTML object>"
            ],
            "text/html": [
              " <span style='color:rgb(127,128,128)'>the</span> <span style='color:rgb(120,120,143)'>ensemble</span> <span style='color:rgb(117,117,149)'>cast</span> <span style='color:rgb(113,113,157)'>turns</span> <span style='color:rgb(122,122,140)'>in</span> <span style='color:rgb(126,126,131)'>a</span> <span style='color:rgb(192,96,96)'>collectively</span> <span style='color:rgb(213,85,85)'>stellar</span> <span style='color:rgb(255,64,64)'>performance</span> <span style='color:rgb(155,114,114)'>,</span> <span style='color:rgb(135,124,124)'>and</span> <span style='color:rgb(78,78,227)'>the</span> <span style='color:rgb(108,108,168)'>writing</span> <span style='color:rgb(81,81,221)'>is</span> <span style='color:rgb(160,112,112)'>tight</span> <span style='color:rgb(179,102,102)'>and</span> <span style='color:rgb(182,101,101)'>truthful</span> <span style='color:rgb(155,114,114)'>,</span> <span style='color:rgb(213,85,85)'>full</span> <span style='color:rgb(112,112,160)'>of</span> <span style='color:rgb(150,117,117)'>funny</span> <span style='color:rgb(125,125,133)'>situations</span> <span style='color:rgb(97,97,189)'>and</span> <span style='color:rgb(128,128,127)'>honest</span> <span style='color:rgb(128,128,127)'>observations</span>"
            ]
          },
          "metadata": {
            "tags": []
          }
        },
        {
          "output_type": "display_data",
          "data": {
            "text/plain": [
              "<IPython.core.display.HTML object>"
            ],
            "text/html": [
              " <span style='color:rgb(127,128,128)'>the</span> <span style='color:rgb(121,121,141)'>charm</span> <span style='color:rgb(133,125,125)'>of</span> <span style='color:rgb(136,124,124)'>revolution</span> <span style='color:rgb(126,126,132)'>os</span> <span style='color:rgb(127,127,130)'>is</span> <span style='color:rgb(133,125,125)'>rather</span> <span style='color:rgb(126,126,132)'>the</span> <span style='color:rgb(159,112,112)'>way</span> <span style='color:rgb(155,114,114)'>it</span> <span style='color:rgb(255,64,64)'>introduces</span> <span style='color:rgb(174,105,105)'>you</span> <span style='color:rgb(132,126,126)'>to</span> <span style='color:rgb(143,120,120)'>new</span> <span style='color:rgb(113,113,157)'>,</span> <span style='color:rgb(126,126,132)'>fervently</span> <span style='color:rgb(148,118,118)'>held</span> <span style='color:rgb(159,112,112)'>ideas</span> <span style='color:rgb(165,109,109)'>and</span> <span style='color:rgb(118,118,147)'>fanciful</span> <span style='color:rgb(128,128,127)'>thinkers</span>"
            ]
          },
          "metadata": {
            "tags": []
          }
        },
        {
          "output_type": "stream",
          "text": [
            "\n"
          ],
          "name": "stdout"
        },
        {
          "output_type": "display_data",
          "data": {
            "text/plain": [
              "<IPython.core.display.HTML object>"
            ],
            "text/html": [
              " <span style='color:rgb(120,120,144)'>i</span> <span style='color:rgb(232,76,76)'>admired</span> <span style='color:rgb(123,123,137)'>this</span> <span style='color:rgb(255,64,64)'>work</span> <span style='color:rgb(215,84,84)'>a</span> <span style='color:rgb(177,103,103)'>lot</span>"
            ]
          },
          "metadata": {
            "tags": []
          }
        },
        {
          "output_type": "stream",
          "text": [
            "('Prediction', array([0.35344946, 0.64655054], dtype=float32))\n",
            "('GT', array([0, 1]))\n",
            "('Correct', True)\n",
            "\n",
            "Nearest based on Embedding similarity\n"
          ],
          "name": "stdout"
        },
        {
          "output_type": "display_data",
          "data": {
            "text/plain": [
              "<IPython.core.display.HTML object>"
            ],
            "text/html": [
              " <span style='color:rgb(125,125,133)'>what</span> <span style='color:rgb(125,125,134)'>'s</span> <span style='color:rgb(103,103,177)'>surprising</span> <span style='color:rgb(114,114,155)'>about</span> <span style='color:rgb(178,103,103)'>this</span> <span style='color:rgb(214,85,85)'>traditional</span> <span style='color:rgb(158,113,113)'>thriller</span> <span style='color:rgb(165,109,109)'>,</span> <span style='color:rgb(255,64,64)'>moderately</span> <span style='color:rgb(187,98,98)'>successful</span> <span style='color:rgb(164,110,110)'>but</span> <span style='color:rgb(127,128,128)'>not</span> <span style='color:rgb(85,85,213)'>completely</span> <span style='color:rgb(127,127,130)'>satisfying</span> <span style='color:rgb(113,113,158)'>,</span> <span style='color:rgb(113,113,158)'>is</span> <span style='color:rgb(96,96,192)'>exactly</span> <span style='color:rgb(103,103,177)'>how</span> <span style='color:rgb(128,128,128)'>genteel</span> <span style='color:rgb(125,125,133)'>and</span> <span style='color:rgb(137,123,123)'>unsurprising</span> <span style='color:rgb(148,118,118)'>the</span> <span style='color:rgb(127,128,128)'>execution</span> <span style='color:rgb(133,125,125)'>turns</span> <span style='color:rgb(141,121,121)'>out</span> <span style='color:rgb(128,128,127)'>to</span> <span style='color:rgb(128,128,127)'>be</span>"
            ]
          },
          "metadata": {
            "tags": []
          }
        },
        {
          "output_type": "display_data",
          "data": {
            "text/plain": [
              "<IPython.core.display.HTML object>"
            ],
            "text/html": [
              " <span style='color:rgb(125,125,134)'>humor</span> <span style='color:rgb(123,123,138)'>in</span> <span style='color:rgb(114,114,155)'>i</span> <span style='color:rgb(139,122,122)'>spy</span> <span style='color:rgb(132,126,126)'>is</span> <span style='color:rgb(221,81,81)'>so</span> <span style='color:rgb(255,64,64)'>anemic</span>"
            ]
          },
          "metadata": {
            "tags": []
          }
        },
        {
          "output_type": "display_data",
          "data": {
            "text/plain": [
              "<IPython.core.display.HTML object>"
            ],
            "text/html": [
              " <span style='color:rgb(128,128,128)'>it</span> <span style='color:rgb(160,112,112)'>concentrates</span> <span style='color:rgb(181,101,101)'>far</span> <span style='color:rgb(255,64,64)'>too</span> <span style='color:rgb(199,92,92)'>much</span> <span style='color:rgb(177,103,103)'>on</span> <span style='color:rgb(145,119,119)'>the</span> <span style='color:rgb(220,82,82)'>awkward</span> <span style='color:rgb(189,97,97)'>interplay</span> <span style='color:rgb(110,110,163)'>and</span> <span style='color:rgb(142,121,121)'>utter</span> <span style='color:rgb(155,114,114)'>lack</span> <span style='color:rgb(124,124,135)'>of</span> <span style='color:rgb(104,104,176)'>chemistry</span> <span style='color:rgb(110,110,164)'>between</span> <span style='color:rgb(126,126,131)'>chan</span> <span style='color:rgb(107,107,170)'>and</span> <span style='color:rgb(130,127,127)'>hewitt</span>"
            ]
          },
          "metadata": {
            "tags": []
          }
        },
        {
          "output_type": "display_data",
          "data": {
            "text/plain": [
              "<IPython.core.display.HTML object>"
            ],
            "text/html": [
              " <span style='color:rgb(158,113,113)'>painful</span> <span style='color:rgb(131,126,126)'>,</span> <span style='color:rgb(109,109,166)'>horrifying</span> <span style='color:rgb(116,116,152)'>and</span> <span style='color:rgb(92,92,200)'>oppressively</span> <span style='color:rgb(119,119,145)'>tragic</span> <span style='color:rgb(106,106,172)'>,</span> <span style='color:rgb(117,117,150)'>this</span> <span style='color:rgb(159,112,112)'>film</span> <span style='color:rgb(194,95,95)'>should</span> <span style='color:rgb(255,64,64)'>not</span> <span style='color:rgb(128,128,127)'>be</span> <span style='color:rgb(128,128,127)'>missed</span>"
            ]
          },
          "metadata": {
            "tags": []
          }
        },
        {
          "output_type": "display_data",
          "data": {
            "text/plain": [
              "<IPython.core.display.HTML object>"
            ],
            "text/html": [
              " <span style='color:rgb(130,127,127)'>the</span> <span style='color:rgb(137,123,123)'>journey</span> <span style='color:rgb(143,120,120)'>to</span> <span style='color:rgb(137,123,123)'>the</span> <span style='color:rgb(255,64,64)'>secret</span> <span style='color:rgb(153,115,115)'>'s</span> <span style='color:rgb(196,94,94)'>eventual</span> <span style='color:rgb(127,127,129)'>discovery</span> <span style='color:rgb(123,123,137)'>is</span> <span style='color:rgb(118,118,147)'>a</span> <span style='color:rgb(128,128,128)'>separate</span> <span style='color:rgb(104,104,175)'>adventure</span> <span style='color:rgb(102,102,180)'>,</span> <span style='color:rgb(94,94,195)'>and</span> <span style='color:rgb(118,118,148)'>thrill</span> <span style='color:rgb(128,128,127)'>enough</span>"
            ]
          },
          "metadata": {
            "tags": []
          }
        },
        {
          "output_type": "display_data",
          "data": {
            "text/plain": [
              "<IPython.core.display.HTML object>"
            ],
            "text/html": [
              " <span style='color:rgb(126,126,131)'>christians</span> <span style='color:rgb(132,126,126)'>sensitive</span> <span style='color:rgb(128,128,128)'>to</span> <span style='color:rgb(138,123,123)'>a</span> <span style='color:rgb(133,125,125)'>reductionist</span> <span style='color:rgb(125,125,133)'>view</span> <span style='color:rgb(114,114,156)'>of</span> <span style='color:rgb(64,64,255)'>their</span> <span style='color:rgb(65,65,253)'>lord</span> <span style='color:rgb(113,113,157)'>as</span> <span style='color:rgb(149,117,117)'>a</span> <span style='color:rgb(153,115,115)'>luv</span> <span style='color:rgb(125,125,134)'>spreading</span> <span style='color:rgb(119,119,145)'>dr</span> <span style='color:rgb(68,68,247)'>feelgood</span> <span style='color:rgb(159,112,112)'>or</span> <span style='color:rgb(101,101,181)'>omnipotent</span> <span style='color:rgb(94,94,195)'>slacker</span> <span style='color:rgb(115,115,154)'>will</span> <span style='color:rgb(120,120,143)'>feel</span> <span style='color:rgb(127,127,130)'>vastly</span> <span style='color:rgb(188,98,98)'>more</span> <span style='color:rgb(177,103,103)'>affronted</span> <span style='color:rgb(162,111,111)'>than</span> <span style='color:rgb(232,76,76)'>secularists</span> <span style='color:rgb(167,108,108)'>,</span> <span style='color:rgb(239,72,72)'>who</span> <span style='color:rgb(188,98,98)'>might</span> <span style='color:rgb(204,90,90)'>even</span> <span style='color:rgb(183,100,100)'>praise</span> <span style='color:rgb(125,125,134)'>god</span> <span style='color:rgb(80,80,224)'>for</span> <span style='color:rgb(105,105,174)'>delivering</span> <span style='color:rgb(145,119,119)'>such</span> <span style='color:rgb(192,96,96)'>an</span> <span style='color:rgb(164,110,110)'>instant</span> <span style='color:rgb(134,125,125)'>camp</span> <span style='color:rgb(128,128,127)'>classic</span>"
            ]
          },
          "metadata": {
            "tags": []
          }
        },
        {
          "output_type": "display_data",
          "data": {
            "text/plain": [
              "<IPython.core.display.HTML object>"
            ],
            "text/html": [
              " <span style='color:rgb(126,126,131)'>i'm</span> <span style='color:rgb(112,112,160)'>giving</span> <span style='color:rgb(128,128,128)'>it</span> <span style='color:rgb(94,94,196)'>thumbs</span> <span style='color:rgb(91,91,201)'>down</span> <span style='color:rgb(103,103,177)'>due</span> <span style='color:rgb(131,126,126)'>to</span> <span style='color:rgb(124,124,135)'>the</span> <span style='color:rgb(128,128,127)'>endlessly</span> <span style='color:rgb(117,117,150)'>repetitive</span> <span style='color:rgb(144,120,120)'>scenes</span> <span style='color:rgb(130,127,127)'>of</span> <span style='color:rgb(119,119,145)'>embarrassment</span> <span style='color:rgb(129,127,127)'>there</span> <span style='color:rgb(127,127,130)'>'s</span> <span style='color:rgb(154,115,115)'>got</span> <span style='color:rgb(125,125,134)'>to</span> <span style='color:rgb(128,128,127)'>be</span> <span style='color:rgb(127,127,130)'>a</span> <span style='color:rgb(157,113,113)'>more</span> <span style='color:rgb(172,106,106)'>graceful</span> <span style='color:rgb(245,69,69)'>way</span> <span style='color:rgb(165,109,109)'>of</span> <span style='color:rgb(255,64,64)'>portraying</span> <span style='color:rgb(128,128,128)'>the</span> <span style='color:rgb(124,124,136)'>devastation</span> <span style='color:rgb(128,128,127)'>of</span> <span style='color:rgb(119,119,145)'>this</span> <span style='color:rgb(128,128,127)'>disease</span>"
            ]
          },
          "metadata": {
            "tags": []
          }
        },
        {
          "output_type": "display_data",
          "data": {
            "text/plain": [
              "<IPython.core.display.HTML object>"
            ],
            "text/html": [
              " <span style='color:rgb(129,127,127)'>you</span> <span style='color:rgb(135,124,124)'>will</span> <span style='color:rgb(171,106,106)'>emerge</span> <span style='color:rgb(168,108,108)'>with</span> <span style='color:rgb(129,127,127)'>a</span> <span style='color:rgb(238,73,73)'>clearer</span> <span style='color:rgb(173,105,105)'>view</span> <span style='color:rgb(148,118,118)'>of</span> <span style='color:rgb(146,119,119)'>how</span> <span style='color:rgb(121,121,141)'>the</span> <span style='color:rgb(122,122,139)'>gears</span> <span style='color:rgb(142,121,121)'>of</span> <span style='color:rgb(172,106,106)'>justice</span> <span style='color:rgb(255,64,64)'>grind</span> <span style='color:rgb(162,111,111)'>on</span> <span style='color:rgb(147,118,118)'>and</span> <span style='color:rgb(133,125,125)'>the</span> <span style='color:rgb(137,123,123)'>death</span> <span style='color:rgb(110,110,164)'>report</span> <span style='color:rgb(107,107,170)'>comes</span> <span style='color:rgb(118,118,148)'>to</span> <span style='color:rgb(127,127,130)'>share</span> <span style='color:rgb(110,110,163)'>airtime</span> <span style='color:rgb(128,128,128)'>alongside</span> <span style='color:rgb(123,123,138)'>the</span> <span style='color:rgb(94,94,196)'>farm</span> <span style='color:rgb(118,118,148)'>report</span>"
            ]
          },
          "metadata": {
            "tags": []
          }
        },
        {
          "output_type": "display_data",
          "data": {
            "text/plain": [
              "<IPython.core.display.HTML object>"
            ],
            "text/html": [
              " <span style='color:rgb(242,71,71)'>muddled</span> <span style='color:rgb(235,74,74)'>,</span> <span style='color:rgb(135,124,124)'>trashy</span> <span style='color:rgb(255,64,64)'>and</span> <span style='color:rgb(128,128,127)'>incompetent</span>"
            ]
          },
          "metadata": {
            "tags": []
          }
        },
        {
          "output_type": "display_data",
          "data": {
            "text/plain": [
              "<IPython.core.display.HTML object>"
            ],
            "text/html": [
              " <span style='color:rgb(136,124,124)'>a</span> <span style='color:rgb(205,89,89)'>delightful</span> <span style='color:rgb(160,112,112)'>,</span> <span style='color:rgb(255,64,64)'>if</span> <span style='color:rgb(127,127,130)'>minor</span> <span style='color:rgb(132,126,126)'>,</span> <span style='color:rgb(119,119,146)'>pastry</span> <span style='color:rgb(104,104,176)'>of</span> <span style='color:rgb(128,128,127)'>a</span> <span style='color:rgb(128,128,127)'>movie</span>"
            ]
          },
          "metadata": {
            "tags": []
          }
        },
        {
          "output_type": "stream",
          "text": [
            "\n",
            "Nearest based on Attribution similarity\n"
          ],
          "name": "stdout"
        },
        {
          "output_type": "display_data",
          "data": {
            "text/plain": [
              "<IPython.core.display.HTML object>"
            ],
            "text/html": [
              " <span style='color:rgb(126,126,131)'>i'm</span> <span style='color:rgb(112,112,160)'>giving</span> <span style='color:rgb(128,128,128)'>it</span> <span style='color:rgb(94,94,196)'>thumbs</span> <span style='color:rgb(91,91,201)'>down</span> <span style='color:rgb(103,103,177)'>due</span> <span style='color:rgb(131,126,126)'>to</span> <span style='color:rgb(124,124,135)'>the</span> <span style='color:rgb(128,128,127)'>endlessly</span> <span style='color:rgb(117,117,150)'>repetitive</span> <span style='color:rgb(144,120,120)'>scenes</span> <span style='color:rgb(130,127,127)'>of</span> <span style='color:rgb(119,119,145)'>embarrassment</span> <span style='color:rgb(129,127,127)'>there</span> <span style='color:rgb(127,127,130)'>'s</span> <span style='color:rgb(154,115,115)'>got</span> <span style='color:rgb(125,125,134)'>to</span> <span style='color:rgb(128,128,127)'>be</span> <span style='color:rgb(127,127,130)'>a</span> <span style='color:rgb(157,113,113)'>more</span> <span style='color:rgb(172,106,106)'>graceful</span> <span style='color:rgb(245,69,69)'>way</span> <span style='color:rgb(165,109,109)'>of</span> <span style='color:rgb(255,64,64)'>portraying</span> <span style='color:rgb(128,128,128)'>the</span> <span style='color:rgb(124,124,136)'>devastation</span> <span style='color:rgb(128,128,127)'>of</span> <span style='color:rgb(119,119,145)'>this</span> <span style='color:rgb(128,128,127)'>disease</span>"
            ]
          },
          "metadata": {
            "tags": []
          }
        },
        {
          "output_type": "display_data",
          "data": {
            "text/plain": [
              "<IPython.core.display.HTML object>"
            ],
            "text/html": [
              " <span style='color:rgb(125,125,133)'>what</span> <span style='color:rgb(125,125,134)'>'s</span> <span style='color:rgb(103,103,177)'>surprising</span> <span style='color:rgb(114,114,155)'>about</span> <span style='color:rgb(178,103,103)'>this</span> <span style='color:rgb(214,85,85)'>traditional</span> <span style='color:rgb(158,113,113)'>thriller</span> <span style='color:rgb(165,109,109)'>,</span> <span style='color:rgb(255,64,64)'>moderately</span> <span style='color:rgb(187,98,98)'>successful</span> <span style='color:rgb(164,110,110)'>but</span> <span style='color:rgb(127,128,128)'>not</span> <span style='color:rgb(85,85,213)'>completely</span> <span style='color:rgb(127,127,130)'>satisfying</span> <span style='color:rgb(113,113,158)'>,</span> <span style='color:rgb(113,113,158)'>is</span> <span style='color:rgb(96,96,192)'>exactly</span> <span style='color:rgb(103,103,177)'>how</span> <span style='color:rgb(128,128,128)'>genteel</span> <span style='color:rgb(125,125,133)'>and</span> <span style='color:rgb(137,123,123)'>unsurprising</span> <span style='color:rgb(148,118,118)'>the</span> <span style='color:rgb(127,128,128)'>execution</span> <span style='color:rgb(133,125,125)'>turns</span> <span style='color:rgb(141,121,121)'>out</span> <span style='color:rgb(128,128,127)'>to</span> <span style='color:rgb(128,128,127)'>be</span>"
            ]
          },
          "metadata": {
            "tags": []
          }
        },
        {
          "output_type": "display_data",
          "data": {
            "text/plain": [
              "<IPython.core.display.HTML object>"
            ],
            "text/html": [
              " <span style='color:rgb(130,127,127)'>the</span> <span style='color:rgb(137,123,123)'>journey</span> <span style='color:rgb(143,120,120)'>to</span> <span style='color:rgb(137,123,123)'>the</span> <span style='color:rgb(255,64,64)'>secret</span> <span style='color:rgb(153,115,115)'>'s</span> <span style='color:rgb(196,94,94)'>eventual</span> <span style='color:rgb(127,127,129)'>discovery</span> <span style='color:rgb(123,123,137)'>is</span> <span style='color:rgb(118,118,147)'>a</span> <span style='color:rgb(128,128,128)'>separate</span> <span style='color:rgb(104,104,175)'>adventure</span> <span style='color:rgb(102,102,180)'>,</span> <span style='color:rgb(94,94,195)'>and</span> <span style='color:rgb(118,118,148)'>thrill</span> <span style='color:rgb(128,128,127)'>enough</span>"
            ]
          },
          "metadata": {
            "tags": []
          }
        },
        {
          "output_type": "display_data",
          "data": {
            "text/plain": [
              "<IPython.core.display.HTML object>"
            ],
            "text/html": [
              " <span style='color:rgb(128,128,128)'>it</span> <span style='color:rgb(160,112,112)'>concentrates</span> <span style='color:rgb(181,101,101)'>far</span> <span style='color:rgb(255,64,64)'>too</span> <span style='color:rgb(199,92,92)'>much</span> <span style='color:rgb(177,103,103)'>on</span> <span style='color:rgb(145,119,119)'>the</span> <span style='color:rgb(220,82,82)'>awkward</span> <span style='color:rgb(189,97,97)'>interplay</span> <span style='color:rgb(110,110,163)'>and</span> <span style='color:rgb(142,121,121)'>utter</span> <span style='color:rgb(155,114,114)'>lack</span> <span style='color:rgb(124,124,135)'>of</span> <span style='color:rgb(104,104,176)'>chemistry</span> <span style='color:rgb(110,110,164)'>between</span> <span style='color:rgb(126,126,131)'>chan</span> <span style='color:rgb(107,107,170)'>and</span> <span style='color:rgb(130,127,127)'>hewitt</span>"
            ]
          },
          "metadata": {
            "tags": []
          }
        },
        {
          "output_type": "display_data",
          "data": {
            "text/plain": [
              "<IPython.core.display.HTML object>"
            ],
            "text/html": [
              " <span style='color:rgb(125,125,134)'>humor</span> <span style='color:rgb(123,123,138)'>in</span> <span style='color:rgb(114,114,155)'>i</span> <span style='color:rgb(139,122,122)'>spy</span> <span style='color:rgb(132,126,126)'>is</span> <span style='color:rgb(221,81,81)'>so</span> <span style='color:rgb(255,64,64)'>anemic</span>"
            ]
          },
          "metadata": {
            "tags": []
          }
        },
        {
          "output_type": "display_data",
          "data": {
            "text/plain": [
              "<IPython.core.display.HTML object>"
            ],
            "text/html": [
              " <span style='color:rgb(208,88,88)'>mostly</span> <span style='color:rgb(225,79,79)'>,</span> <span style='color:rgb(124,124,135)'>shafer</span> <span style='color:rgb(132,126,126)'>and</span> <span style='color:rgb(115,115,154)'>co</span> <span style='color:rgb(64,64,255)'>writer</span> <span style='color:rgb(122,122,139)'>gregory</span> <span style='color:rgb(236,74,74)'>hinton</span> <span style='color:rgb(106,106,171)'>lack</span> <span style='color:rgb(188,98,98)'>a</span> <span style='color:rgb(126,126,132)'>strong</span> <span style='color:rgb(185,99,99)'>minded</span> <span style='color:rgb(168,108,108)'>viewpoint</span> <span style='color:rgb(113,113,158)'>,</span> <span style='color:rgb(121,121,142)'>or</span> <span style='color:rgb(102,102,179)'>a</span> <span style='color:rgb(87,87,210)'>sense</span> <span style='color:rgb(128,128,127)'>of</span> <span style='color:rgb(128,128,127)'>humor</span>"
            ]
          },
          "metadata": {
            "tags": []
          }
        },
        {
          "output_type": "display_data",
          "data": {
            "text/plain": [
              "<IPython.core.display.HTML object>"
            ],
            "text/html": [
              " <span style='color:rgb(125,125,133)'>jir</span> <span style='color:rgb(119,119,146)'>hubac</span> <span style='color:rgb(128,128,128)'>'s</span> <span style='color:rgb(110,110,163)'>script</span> <span style='color:rgb(140,122,122)'>is</span> <span style='color:rgb(155,114,114)'>a</span> <span style='color:rgb(255,64,64)'>gem</span> <span style='color:rgb(128,128,128)'>his</span> <span style='color:rgb(165,109,109)'>characters</span> <span style='color:rgb(129,127,127)'>are</span> <span style='color:rgb(215,84,84)'>engaging</span> <span style='color:rgb(210,87,87)'>,</span> <span style='color:rgb(136,124,124)'>intimate</span> <span style='color:rgb(140,122,122)'>and</span> <span style='color:rgb(127,127,130)'>the</span> <span style='color:rgb(127,128,128)'>dialogue</span> <span style='color:rgb(151,116,116)'>is</span> <span style='color:rgb(148,118,118)'>realistic</span> <span style='color:rgb(150,117,117)'>and</span> <span style='color:rgb(165,109,109)'>greatly</span> <span style='color:rgb(130,127,127)'>moving</span> <span style='color:rgb(131,126,126)'>the</span> <span style='color:rgb(132,126,126)'>scope</span> <span style='color:rgb(131,126,126)'>of</span> <span style='color:rgb(133,125,125)'>the</span> <span style='color:rgb(127,128,128)'>silberstein</span> <span style='color:rgb(130,127,127)'>family</span> <span style='color:rgb(125,125,133)'>is</span> <span style='color:rgb(128,128,128)'>large</span> <span style='color:rgb(131,126,126)'>and</span> <span style='color:rgb(129,127,127)'>we</span> <span style='color:rgb(123,123,138)'>grow</span> <span style='color:rgb(127,127,130)'>attached</span> <span style='color:rgb(137,123,123)'>to</span> <span style='color:rgb(134,125,125)'>their</span> <span style='color:rgb(133,125,125)'>lives</span> <span style='color:rgb(138,123,123)'>,</span> <span style='color:rgb(172,106,106)'>full</span> <span style='color:rgb(134,125,125)'>of</span> <span style='color:rgb(128,128,128)'>strength</span> <span style='color:rgb(144,120,120)'>,</span> <span style='color:rgb(128,128,127)'>warmth</span> <span style='color:rgb(128,128,127)'>and</span> <span style='color:rgb(128,128,127)'>vitality</span>"
            ]
          },
          "metadata": {
            "tags": []
          }
        },
        {
          "output_type": "display_data",
          "data": {
            "text/plain": [
              "<IPython.core.display.HTML object>"
            ],
            "text/html": [
              " <span style='color:rgb(140,122,122)'>something</span> <span style='color:rgb(193,95,95)'>appears</span> <span style='color:rgb(142,121,121)'>to</span> <span style='color:rgb(206,89,89)'>have</span> <span style='color:rgb(181,101,101)'>been</span> <span style='color:rgb(219,82,82)'>lost</span> <span style='color:rgb(149,117,117)'>in</span> <span style='color:rgb(127,127,129)'>the</span> <span style='color:rgb(197,93,93)'>translation</span> <span style='color:rgb(163,110,110)'>this</span> <span style='color:rgb(187,98,98)'>time</span> <span style='color:rgb(145,119,119)'>the</span> <span style='color:rgb(198,93,93)'>importance</span> <span style='color:rgb(131,126,126)'>of</span> <span style='color:rgb(118,118,148)'>being</span> <span style='color:rgb(135,124,124)'>earnest</span> <span style='color:rgb(160,112,112)'>movie</span> <span style='color:rgb(166,109,109)'>seems</span> <span style='color:rgb(128,128,128)'>to</span> <span style='color:rgb(156,114,114)'>be</span> <span style='color:rgb(169,107,107)'>missing</span> <span style='color:rgb(113,113,157)'>a</span> <span style='color:rgb(64,64,255)'>great</span> <span style='color:rgb(69,69,245)'>deal</span> <span style='color:rgb(106,106,172)'>of</span> <span style='color:rgb(120,120,143)'>the</span> <span style='color:rgb(72,72,239)'>acerbic</span> <span style='color:rgb(82,82,220)'>repartee</span> <span style='color:rgb(112,112,160)'>of</span> <span style='color:rgb(125,125,134)'>the</span> <span style='color:rgb(123,123,137)'>play</span>"
            ]
          },
          "metadata": {
            "tags": []
          }
        },
        {
          "output_type": "display_data",
          "data": {
            "text/plain": [
              "<IPython.core.display.HTML object>"
            ],
            "text/html": [
              " <span style='color:rgb(129,127,127)'>you</span> <span style='color:rgb(135,124,124)'>will</span> <span style='color:rgb(171,106,106)'>emerge</span> <span style='color:rgb(168,108,108)'>with</span> <span style='color:rgb(129,127,127)'>a</span> <span style='color:rgb(238,73,73)'>clearer</span> <span style='color:rgb(173,105,105)'>view</span> <span style='color:rgb(148,118,118)'>of</span> <span style='color:rgb(146,119,119)'>how</span> <span style='color:rgb(121,121,141)'>the</span> <span style='color:rgb(122,122,139)'>gears</span> <span style='color:rgb(142,121,121)'>of</span> <span style='color:rgb(172,106,106)'>justice</span> <span style='color:rgb(255,64,64)'>grind</span> <span style='color:rgb(162,111,111)'>on</span> <span style='color:rgb(147,118,118)'>and</span> <span style='color:rgb(133,125,125)'>the</span> <span style='color:rgb(137,123,123)'>death</span> <span style='color:rgb(110,110,164)'>report</span> <span style='color:rgb(107,107,170)'>comes</span> <span style='color:rgb(118,118,148)'>to</span> <span style='color:rgb(127,127,130)'>share</span> <span style='color:rgb(110,110,163)'>airtime</span> <span style='color:rgb(128,128,128)'>alongside</span> <span style='color:rgb(123,123,138)'>the</span> <span style='color:rgb(94,94,196)'>farm</span> <span style='color:rgb(118,118,148)'>report</span>"
            ]
          },
          "metadata": {
            "tags": []
          }
        },
        {
          "output_type": "display_data",
          "data": {
            "text/plain": [
              "<IPython.core.display.HTML object>"
            ],
            "text/html": [
              " <span style='color:rgb(127,127,129)'>as</span> <span style='color:rgb(125,125,134)'>it</span> <span style='color:rgb(124,124,136)'>abruptly</span> <span style='color:rgb(111,111,161)'>crosscuts</span> <span style='color:rgb(116,116,151)'>among</span> <span style='color:rgb(124,124,135)'>the</span> <span style='color:rgb(127,127,130)'>five</span> <span style='color:rgb(123,123,138)'>friends</span> <span style='color:rgb(139,122,122)'>,</span> <span style='color:rgb(255,64,64)'>it</span> <span style='color:rgb(159,112,112)'>fails</span> <span style='color:rgb(185,99,99)'>to</span> <span style='color:rgb(139,122,122)'>lend</span> <span style='color:rgb(155,114,114)'>the</span> <span style='color:rgb(124,124,136)'>characters'</span> <span style='color:rgb(116,116,152)'>individual</span> <span style='color:rgb(123,123,138)'>stories</span> <span style='color:rgb(117,117,150)'>enough</span> <span style='color:rgb(114,114,156)'>dramatic</span> <span style='color:rgb(127,127,130)'>resonance</span> <span style='color:rgb(121,121,142)'>to</span> <span style='color:rgb(118,118,148)'>make</span> <span style='color:rgb(149,117,117)'>us</span> <span style='color:rgb(126,126,131)'>care</span> <span style='color:rgb(128,128,128)'>about</span> <span style='color:rgb(128,128,127)'>them</span>"
            ]
          },
          "metadata": {
            "tags": []
          }
        },
        {
          "output_type": "stream",
          "text": [
            "\n"
          ],
          "name": "stdout"
        },
        {
          "output_type": "display_data",
          "data": {
            "text/plain": [
              "<IPython.core.display.HTML object>"
            ],
            "text/html": [
              " <span style='color:rgb(143,120,120)'>a</span> <span style='color:rgb(217,83,83)'>quiet</span> <span style='color:rgb(255,64,64)'>family</span> <span style='color:rgb(240,72,72)'>drama</span> <span style='color:rgb(227,78,78)'>with</span> <span style='color:rgb(151,116,116)'>a</span> <span style='color:rgb(127,127,129)'>little</span> <span style='color:rgb(146,119,119)'>bit</span> <span style='color:rgb(145,119,119)'>of</span> <span style='color:rgb(112,112,159)'>romance</span> <span style='color:rgb(128,128,128)'>and</span> <span style='color:rgb(120,120,143)'>a</span> <span style='color:rgb(101,101,181)'>dose</span> <span style='color:rgb(140,122,122)'>of</span> <span style='color:rgb(138,123,123)'>darkness</span>"
            ]
          },
          "metadata": {
            "tags": []
          }
        },
        {
          "output_type": "stream",
          "text": [
            "('Prediction', array([0.01251917, 0.9874808 ], dtype=float32))\n",
            "('GT', array([0, 1]))\n",
            "('Correct', True)\n",
            "\n",
            "Nearest based on Embedding similarity\n"
          ],
          "name": "stdout"
        },
        {
          "output_type": "display_data",
          "data": {
            "text/plain": [
              "<IPython.core.display.HTML object>"
            ],
            "text/html": [
              " <span style='color:rgb(122,122,140)'>a</span> <span style='color:rgb(147,118,118)'>movie</span> <span style='color:rgb(167,108,108)'>just</span> <span style='color:rgb(126,126,132)'>for</span> <span style='color:rgb(155,114,114)'>friday</span> <span style='color:rgb(86,86,212)'>fans</span> <span style='color:rgb(144,120,120)'>,</span> <span style='color:rgb(115,115,153)'>critics</span> <span style='color:rgb(121,121,142)'>be</span> <span style='color:rgb(124,124,136)'>damned</span> <span style='color:rgb(122,122,139)'>if</span> <span style='color:rgb(255,64,64)'>you</span> <span style='color:rgb(179,102,102)'>already</span> <span style='color:rgb(181,101,101)'>like</span> <span style='color:rgb(241,71,71)'>this</span> <span style='color:rgb(160,112,112)'>sort</span> <span style='color:rgb(178,103,103)'>of</span> <span style='color:rgb(133,125,125)'>thing</span> <span style='color:rgb(123,123,137)'>,</span> <span style='color:rgb(140,122,122)'>this</span> <span style='color:rgb(166,109,109)'>is</span> <span style='color:rgb(127,127,130)'>that</span> <span style='color:rgb(144,120,120)'>sort</span> <span style='color:rgb(173,105,105)'>of</span> <span style='color:rgb(142,121,121)'>thing</span> <span style='color:rgb(123,123,137)'>all</span> <span style='color:rgb(128,128,127)'>over</span> <span style='color:rgb(128,128,127)'>again</span>"
            ]
          },
          "metadata": {
            "tags": []
          }
        },
        {
          "output_type": "display_data",
          "data": {
            "text/plain": [
              "<IPython.core.display.HTML object>"
            ],
            "text/html": [
              " <span style='color:rgb(140,122,122)'>sen</span> <span style='color:rgb(134,125,125)'>'s</span> <span style='color:rgb(181,101,101)'>soap</span> <span style='color:rgb(180,102,102)'>opera</span> <span style='color:rgb(176,104,104)'>ish</span> <span style='color:rgb(141,121,121)'>approach</span> <span style='color:rgb(125,125,134)'>undermines</span> <span style='color:rgb(111,111,162)'>his</span> <span style='color:rgb(90,90,204)'>good</span> <span style='color:rgb(255,64,64)'>intentions</span>"
            ]
          },
          "metadata": {
            "tags": []
          }
        },
        {
          "output_type": "display_data",
          "data": {
            "text/plain": [
              "<IPython.core.display.HTML object>"
            ],
            "text/html": [
              " <span style='color:rgb(150,117,117)'>has</span> <span style='color:rgb(112,112,160)'>lost</span> <span style='color:rgb(131,126,126)'>some</span> <span style='color:rgb(136,124,124)'>of</span> <span style='color:rgb(120,120,144)'>the</span> <span style='color:rgb(99,99,185)'>dramatic</span> <span style='color:rgb(114,114,156)'>conviction</span> <span style='color:rgb(122,122,139)'>that</span> <span style='color:rgb(102,102,180)'>underlies</span> <span style='color:rgb(135,124,124)'>the</span> <span style='color:rgb(255,64,64)'>best</span> <span style='color:rgb(172,106,106)'>of</span> <span style='color:rgb(163,110,110)'>comedies</span>"
            ]
          },
          "metadata": {
            "tags": []
          }
        },
        {
          "output_type": "display_data",
          "data": {
            "text/plain": [
              "<IPython.core.display.HTML object>"
            ],
            "text/html": [
              " <span style='color:rgb(126,126,131)'>christians</span> <span style='color:rgb(132,126,126)'>sensitive</span> <span style='color:rgb(128,128,128)'>to</span> <span style='color:rgb(138,123,123)'>a</span> <span style='color:rgb(133,125,125)'>reductionist</span> <span style='color:rgb(125,125,133)'>view</span> <span style='color:rgb(114,114,156)'>of</span> <span style='color:rgb(64,64,255)'>their</span> <span style='color:rgb(65,65,253)'>lord</span> <span style='color:rgb(113,113,157)'>as</span> <span style='color:rgb(149,117,117)'>a</span> <span style='color:rgb(153,115,115)'>luv</span> <span style='color:rgb(125,125,134)'>spreading</span> <span style='color:rgb(119,119,145)'>dr</span> <span style='color:rgb(68,68,247)'>feelgood</span> <span style='color:rgb(159,112,112)'>or</span> <span style='color:rgb(101,101,181)'>omnipotent</span> <span style='color:rgb(94,94,195)'>slacker</span> <span style='color:rgb(115,115,154)'>will</span> <span style='color:rgb(120,120,143)'>feel</span> <span style='color:rgb(127,127,130)'>vastly</span> <span style='color:rgb(188,98,98)'>more</span> <span style='color:rgb(177,103,103)'>affronted</span> <span style='color:rgb(162,111,111)'>than</span> <span style='color:rgb(232,76,76)'>secularists</span> <span style='color:rgb(167,108,108)'>,</span> <span style='color:rgb(239,72,72)'>who</span> <span style='color:rgb(188,98,98)'>might</span> <span style='color:rgb(204,90,90)'>even</span> <span style='color:rgb(183,100,100)'>praise</span> <span style='color:rgb(125,125,134)'>god</span> <span style='color:rgb(80,80,224)'>for</span> <span style='color:rgb(105,105,174)'>delivering</span> <span style='color:rgb(145,119,119)'>such</span> <span style='color:rgb(192,96,96)'>an</span> <span style='color:rgb(164,110,110)'>instant</span> <span style='color:rgb(134,125,125)'>camp</span> <span style='color:rgb(128,128,127)'>classic</span>"
            ]
          },
          "metadata": {
            "tags": []
          }
        },
        {
          "output_type": "display_data",
          "data": {
            "text/plain": [
              "<IPython.core.display.HTML object>"
            ],
            "text/html": [
              " <span style='color:rgb(148,118,118)'>this</span> <span style='color:rgb(196,94,94)'>dubious</span> <span style='color:rgb(200,92,92)'>product</span> <span style='color:rgb(130,127,127)'>of</span> <span style='color:rgb(123,123,138)'>a</span> <span style='color:rgb(255,64,64)'>college</span> <span style='color:rgb(114,114,155)'>spawned</span> <span style='color:rgb(184,100,100)'>\\(</span> <span style='color:rgb(122,122,139)'>colgate</span> <span style='color:rgb(118,118,147)'>u</span> <span style='color:rgb(110,110,164)'>\\)</span> <span style='color:rgb(90,90,204)'>comedy</span> <span style='color:rgb(138,123,123)'>ensemble</span> <span style='color:rgb(121,121,141)'>known</span> <span style='color:rgb(175,104,104)'>as</span> <span style='color:rgb(193,95,95)'>broken</span> <span style='color:rgb(181,101,101)'>lizard</span> <span style='color:rgb(118,118,148)'>plays</span> <span style='color:rgb(101,101,182)'>like</span> <span style='color:rgb(123,123,138)'>a</span> <span style='color:rgb(94,94,196)'>mix</span> <span style='color:rgb(122,122,140)'>of</span> <span style='color:rgb(114,114,155)'>cheech</span> <span style='color:rgb(125,125,133)'>and</span> <span style='color:rgb(118,118,148)'>chong</span> <span style='color:rgb(128,128,127)'>and</span> <span style='color:rgb(128,128,127)'>chips</span>"
            ]
          },
          "metadata": {
            "tags": []
          }
        },
        {
          "output_type": "display_data",
          "data": {
            "text/plain": [
              "<IPython.core.display.HTML object>"
            ],
            "text/html": [
              " <span style='color:rgb(128,128,128)'>in</span> <span style='color:rgb(122,122,140)'>questioning</span> <span style='color:rgb(127,127,130)'>the</span> <span style='color:rgb(129,127,127)'>election</span> <span style='color:rgb(131,126,126)'>process</span> <span style='color:rgb(132,126,126)'>,</span> <span style='color:rgb(130,127,127)'>payami</span> <span style='color:rgb(132,126,126)'>graphically</span> <span style='color:rgb(130,127,127)'>illustrates</span> <span style='color:rgb(134,125,125)'>the</span> <span style='color:rgb(127,128,128)'>problems</span> <span style='color:rgb(128,128,128)'>of</span> <span style='color:rgb(125,125,134)'>fledgling</span> <span style='color:rgb(128,128,128)'>democracies</span> <span style='color:rgb(116,116,151)'>,</span> <span style='color:rgb(127,127,130)'>but</span> <span style='color:rgb(88,88,208)'>also</span> <span style='color:rgb(111,111,161)'>the</span> <span style='color:rgb(116,116,152)'>strength</span> <span style='color:rgb(124,124,136)'>and</span> <span style='color:rgb(85,85,214)'>sense</span> <span style='color:rgb(126,126,131)'>of</span> <span style='color:rgb(105,105,174)'>freedom</span> <span style='color:rgb(124,124,135)'>the</span> <span style='color:rgb(255,64,64)'>iranian</span> <span style='color:rgb(252,66,66)'>people</span> <span style='color:rgb(126,126,132)'>already</span> <span style='color:rgb(195,94,94)'>possess</span> <span style='color:rgb(174,105,105)'>,</span> <span style='color:rgb(138,123,123)'>with</span> <span style='color:rgb(127,128,128)'>or</span> <span style='color:rgb(128,128,128)'>without</span> <span style='color:rgb(124,124,135)'>access</span> <span style='color:rgb(119,119,145)'>to</span> <span style='color:rgb(128,128,127)'>the</span> <span style='color:rgb(128,128,127)'>ballot</span> <span style='color:rgb(128,128,127)'>box</span>"
            ]
          },
          "metadata": {
            "tags": []
          }
        },
        {
          "output_type": "display_data",
          "data": {
            "text/plain": [
              "<IPython.core.display.HTML object>"
            ],
            "text/html": [
              " <span style='color:rgb(122,122,139)'>hell</span> <span style='color:rgb(126,126,132)'>is</span> <span style='color:rgb(124,124,136)'>looking</span> <span style='color:rgb(136,124,124)'>down</span> <span style='color:rgb(119,119,145)'>at</span> <span style='color:rgb(117,117,149)'>your</span> <span style='color:rgb(118,118,147)'>watch</span> <span style='color:rgb(110,110,164)'>and</span> <span style='color:rgb(128,128,127)'>realizing</span> <span style='color:rgb(148,118,118)'>serving</span> <span style='color:rgb(255,64,64)'>sara</span> <span style='color:rgb(150,117,117)'>is</span> <span style='color:rgb(158,113,113)'>n't</span> <span style='color:rgb(151,116,116)'>even</span> <span style='color:rgb(162,111,111)'>halfway</span> <span style='color:rgb(132,126,126)'>through</span>"
            ]
          },
          "metadata": {
            "tags": []
          }
        },
        {
          "output_type": "display_data",
          "data": {
            "text/plain": [
              "<IPython.core.display.HTML object>"
            ],
            "text/html": [
              " <span style='color:rgb(146,119,119)'>woo</span> <span style='color:rgb(127,128,128)'>'s</span> <span style='color:rgb(126,126,131)'>fights</span> <span style='color:rgb(128,128,128)'>have</span> <span style='color:rgb(121,121,141)'>a</span> <span style='color:rgb(120,120,143)'>distinct</span> <span style='color:rgb(128,128,128)'>flair</span> <span style='color:rgb(124,124,136)'>his</span> <span style='color:rgb(171,106,106)'>warriors</span> <span style='color:rgb(147,118,118)'>collide</span> <span style='color:rgb(132,126,126)'>in</span> <span style='color:rgb(173,105,105)'>balletic</span> <span style='color:rgb(140,122,122)'>explosion</span> <span style='color:rgb(124,124,135)'>that</span> <span style='color:rgb(78,78,227)'>implies</span> <span style='color:rgb(88,88,208)'>an</span> <span style='color:rgb(153,115,115)'>underlying</span> <span style='color:rgb(255,64,64)'>order</span> <span style='color:rgb(135,124,124)'>throughout</span> <span style='color:rgb(131,126,126)'>the</span> <span style='color:rgb(139,122,122)'>chaos</span>"
            ]
          },
          "metadata": {
            "tags": []
          }
        },
        {
          "output_type": "display_data",
          "data": {
            "text/plain": [
              "<IPython.core.display.HTML object>"
            ],
            "text/html": [
              " <span style='color:rgb(132,126,126)'>a</span> <span style='color:rgb(90,90,204)'>crude</span> <span style='color:rgb(110,110,163)'>teen</span> <span style='color:rgb(172,106,106)'>oriented</span> <span style='color:rgb(101,101,182)'>variation</span> <span style='color:rgb(144,120,120)'>on</span> <span style='color:rgb(190,97,97)'>a</span> <span style='color:rgb(191,96,96)'>theme</span> <span style='color:rgb(122,122,140)'>that</span> <span style='color:rgb(124,124,136)'>the</span> <span style='color:rgb(124,124,136)'>playwright</span> <span style='color:rgb(198,93,93)'>craig</span> <span style='color:rgb(125,125,134)'>lucas</span> <span style='color:rgb(64,64,255)'>explored</span> <span style='color:rgb(224,80,80)'>with</span> <span style='color:rgb(244,70,70)'>infinitely</span> <span style='color:rgb(89,89,205)'>more</span> <span style='color:rgb(138,123,123)'>grace</span> <span style='color:rgb(126,126,132)'>and</span> <span style='color:rgb(132,126,126)'>eloquence</span> <span style='color:rgb(126,126,131)'>in</span> <span style='color:rgb(152,116,116)'>his</span> <span style='color:rgb(170,107,107)'>prelude</span> <span style='color:rgb(122,122,139)'>to</span> <span style='color:rgb(119,119,145)'>a</span> <span style='color:rgb(157,113,113)'>kiss</span>"
            ]
          },
          "metadata": {
            "tags": []
          }
        },
        {
          "output_type": "display_data",
          "data": {
            "text/plain": [
              "<IPython.core.display.HTML object>"
            ],
            "text/html": [
              " <span style='color:rgb(130,127,127)'>one</span> <span style='color:rgb(131,126,126)'>of</span> <span style='color:rgb(136,124,124)'>those</span> <span style='color:rgb(124,124,136)'>films</span> <span style='color:rgb(115,115,153)'>where</span> <span style='color:rgb(128,128,128)'>the</span> <span style='color:rgb(100,100,184)'>characters</span> <span style='color:rgb(96,96,191)'>inhabit</span> <span style='color:rgb(119,119,145)'>that</span> <span style='color:rgb(64,64,255)'>special</span> <span style='color:rgb(91,91,201)'>annex</span> <span style='color:rgb(137,123,123)'>of</span> <span style='color:rgb(121,121,142)'>hell</span> <span style='color:rgb(128,128,127)'>where</span> <span style='color:rgb(171,106,106)'>adults</span> <span style='color:rgb(135,124,124)'>behave</span> <span style='color:rgb(115,115,154)'>like</span> <span style='color:rgb(170,107,107)'>kids</span> <span style='color:rgb(143,120,120)'>,</span> <span style='color:rgb(124,124,136)'>children</span> <span style='color:rgb(128,128,128)'>behave</span> <span style='color:rgb(191,96,96)'>like</span> <span style='color:rgb(151,116,116)'>adults</span> <span style='color:rgb(186,99,99)'>and</span> <span style='color:rgb(182,101,101)'>everyone</span> <span style='color:rgb(186,99,99)'>screams</span> <span style='color:rgb(143,120,120)'>at</span> <span style='color:rgb(196,94,94)'>the</span> <span style='color:rgb(156,114,114)'>top</span> <span style='color:rgb(166,109,109)'>of</span> <span style='color:rgb(176,104,104)'>their</span> <span style='color:rgb(112,112,159)'>lungs</span> <span style='color:rgb(118,118,147)'>no</span> <span style='color:rgb(125,125,133)'>matter</span> <span style='color:rgb(121,121,142)'>what</span> <span style='color:rgb(98,98,187)'>the</span> <span style='color:rgb(128,128,127)'>situation</span>"
            ]
          },
          "metadata": {
            "tags": []
          }
        },
        {
          "output_type": "stream",
          "text": [
            "\n",
            "Nearest based on Attribution similarity\n"
          ],
          "name": "stdout"
        },
        {
          "output_type": "display_data",
          "data": {
            "text/plain": [
              "<IPython.core.display.HTML object>"
            ],
            "text/html": [
              " <span style='color:rgb(150,117,117)'>has</span> <span style='color:rgb(112,112,160)'>lost</span> <span style='color:rgb(131,126,126)'>some</span> <span style='color:rgb(136,124,124)'>of</span> <span style='color:rgb(120,120,144)'>the</span> <span style='color:rgb(99,99,185)'>dramatic</span> <span style='color:rgb(114,114,156)'>conviction</span> <span style='color:rgb(122,122,139)'>that</span> <span style='color:rgb(102,102,180)'>underlies</span> <span style='color:rgb(135,124,124)'>the</span> <span style='color:rgb(255,64,64)'>best</span> <span style='color:rgb(172,106,106)'>of</span> <span style='color:rgb(163,110,110)'>comedies</span>"
            ]
          },
          "metadata": {
            "tags": []
          }
        },
        {
          "output_type": "display_data",
          "data": {
            "text/plain": [
              "<IPython.core.display.HTML object>"
            ],
            "text/html": [
              " <span style='color:rgb(146,119,119)'>woo</span> <span style='color:rgb(127,128,128)'>'s</span> <span style='color:rgb(126,126,131)'>fights</span> <span style='color:rgb(128,128,128)'>have</span> <span style='color:rgb(121,121,141)'>a</span> <span style='color:rgb(120,120,143)'>distinct</span> <span style='color:rgb(128,128,128)'>flair</span> <span style='color:rgb(124,124,136)'>his</span> <span style='color:rgb(171,106,106)'>warriors</span> <span style='color:rgb(147,118,118)'>collide</span> <span style='color:rgb(132,126,126)'>in</span> <span style='color:rgb(173,105,105)'>balletic</span> <span style='color:rgb(140,122,122)'>explosion</span> <span style='color:rgb(124,124,135)'>that</span> <span style='color:rgb(78,78,227)'>implies</span> <span style='color:rgb(88,88,208)'>an</span> <span style='color:rgb(153,115,115)'>underlying</span> <span style='color:rgb(255,64,64)'>order</span> <span style='color:rgb(135,124,124)'>throughout</span> <span style='color:rgb(131,126,126)'>the</span> <span style='color:rgb(139,122,122)'>chaos</span>"
            ]
          },
          "metadata": {
            "tags": []
          }
        },
        {
          "output_type": "display_data",
          "data": {
            "text/plain": [
              "<IPython.core.display.HTML object>"
            ],
            "text/html": [
              " <span style='color:rgb(127,127,129)'>the</span> <span style='color:rgb(123,123,138)'>woodman</span> <span style='color:rgb(111,111,162)'>seems</span> <span style='color:rgb(121,121,142)'>to</span> <span style='color:rgb(107,107,169)'>have</span> <span style='color:rgb(108,108,168)'>directly</span> <span style='color:rgb(134,125,125)'>influenced</span> <span style='color:rgb(122,122,140)'>this</span> <span style='color:rgb(254,65,65)'>girl</span> <span style='color:rgb(148,118,118)'>meets</span> <span style='color:rgb(255,64,64)'>girl</span> <span style='color:rgb(156,114,114)'>love</span> <span style='color:rgb(128,128,127)'>story</span> <span style='color:rgb(129,127,127)'>,</span> <span style='color:rgb(126,126,132)'>but</span> <span style='color:rgb(137,123,123)'>even</span> <span style='color:rgb(160,112,112)'>more</span> <span style='color:rgb(137,123,123)'>reassuring</span> <span style='color:rgb(127,127,129)'>is</span> <span style='color:rgb(130,127,127)'>how</span> <span style='color:rgb(74,74,236)'>its</span> <span style='color:rgb(105,105,174)'>makers</span> <span style='color:rgb(107,107,169)'>actually</span> <span style='color:rgb(118,118,147)'>seem</span> <span style='color:rgb(128,128,127)'>to</span> <span style='color:rgb(140,122,122)'>understand</span> <span style='color:rgb(135,124,124)'>what</span> <span style='color:rgb(129,127,127)'>made</span> <span style='color:rgb(168,108,108)'>allen</span> <span style='color:rgb(150,117,117)'>'s</span> <span style='color:rgb(110,110,164)'>romantic</span> <span style='color:rgb(107,107,169)'>comedies</span> <span style='color:rgb(121,121,141)'>so</span> <span style='color:rgb(149,117,117)'>pertinent</span> <span style='color:rgb(180,102,102)'>and</span> <span style='color:rgb(128,128,127)'>enduring</span>"
            ]
          },
          "metadata": {
            "tags": []
          }
        },
        {
          "output_type": "display_data",
          "data": {
            "text/plain": [
              "<IPython.core.display.HTML object>"
            ],
            "text/html": [
              " <span style='color:rgb(128,128,128)'>in</span> <span style='color:rgb(122,122,140)'>questioning</span> <span style='color:rgb(127,127,130)'>the</span> <span style='color:rgb(129,127,127)'>election</span> <span style='color:rgb(131,126,126)'>process</span> <span style='color:rgb(132,126,126)'>,</span> <span style='color:rgb(130,127,127)'>payami</span> <span style='color:rgb(132,126,126)'>graphically</span> <span style='color:rgb(130,127,127)'>illustrates</span> <span style='color:rgb(134,125,125)'>the</span> <span style='color:rgb(127,128,128)'>problems</span> <span style='color:rgb(128,128,128)'>of</span> <span style='color:rgb(125,125,134)'>fledgling</span> <span style='color:rgb(128,128,128)'>democracies</span> <span style='color:rgb(116,116,151)'>,</span> <span style='color:rgb(127,127,130)'>but</span> <span style='color:rgb(88,88,208)'>also</span> <span style='color:rgb(111,111,161)'>the</span> <span style='color:rgb(116,116,152)'>strength</span> <span style='color:rgb(124,124,136)'>and</span> <span style='color:rgb(85,85,214)'>sense</span> <span style='color:rgb(126,126,131)'>of</span> <span style='color:rgb(105,105,174)'>freedom</span> <span style='color:rgb(124,124,135)'>the</span> <span style='color:rgb(255,64,64)'>iranian</span> <span style='color:rgb(252,66,66)'>people</span> <span style='color:rgb(126,126,132)'>already</span> <span style='color:rgb(195,94,94)'>possess</span> <span style='color:rgb(174,105,105)'>,</span> <span style='color:rgb(138,123,123)'>with</span> <span style='color:rgb(127,128,128)'>or</span> <span style='color:rgb(128,128,128)'>without</span> <span style='color:rgb(124,124,135)'>access</span> <span style='color:rgb(119,119,145)'>to</span> <span style='color:rgb(128,128,127)'>the</span> <span style='color:rgb(128,128,127)'>ballot</span> <span style='color:rgb(128,128,127)'>box</span>"
            ]
          },
          "metadata": {
            "tags": []
          }
        },
        {
          "output_type": "display_data",
          "data": {
            "text/plain": [
              "<IPython.core.display.HTML object>"
            ],
            "text/html": [
              " <span style='color:rgb(126,126,131)'>christians</span> <span style='color:rgb(132,126,126)'>sensitive</span> <span style='color:rgb(128,128,128)'>to</span> <span style='color:rgb(138,123,123)'>a</span> <span style='color:rgb(133,125,125)'>reductionist</span> <span style='color:rgb(125,125,133)'>view</span> <span style='color:rgb(114,114,156)'>of</span> <span style='color:rgb(64,64,255)'>their</span> <span style='color:rgb(65,65,253)'>lord</span> <span style='color:rgb(113,113,157)'>as</span> <span style='color:rgb(149,117,117)'>a</span> <span style='color:rgb(153,115,115)'>luv</span> <span style='color:rgb(125,125,134)'>spreading</span> <span style='color:rgb(119,119,145)'>dr</span> <span style='color:rgb(68,68,247)'>feelgood</span> <span style='color:rgb(159,112,112)'>or</span> <span style='color:rgb(101,101,181)'>omnipotent</span> <span style='color:rgb(94,94,195)'>slacker</span> <span style='color:rgb(115,115,154)'>will</span> <span style='color:rgb(120,120,143)'>feel</span> <span style='color:rgb(127,127,130)'>vastly</span> <span style='color:rgb(188,98,98)'>more</span> <span style='color:rgb(177,103,103)'>affronted</span> <span style='color:rgb(162,111,111)'>than</span> <span style='color:rgb(232,76,76)'>secularists</span> <span style='color:rgb(167,108,108)'>,</span> <span style='color:rgb(239,72,72)'>who</span> <span style='color:rgb(188,98,98)'>might</span> <span style='color:rgb(204,90,90)'>even</span> <span style='color:rgb(183,100,100)'>praise</span> <span style='color:rgb(125,125,134)'>god</span> <span style='color:rgb(80,80,224)'>for</span> <span style='color:rgb(105,105,174)'>delivering</span> <span style='color:rgb(145,119,119)'>such</span> <span style='color:rgb(192,96,96)'>an</span> <span style='color:rgb(164,110,110)'>instant</span> <span style='color:rgb(134,125,125)'>camp</span> <span style='color:rgb(128,128,127)'>classic</span>"
            ]
          },
          "metadata": {
            "tags": []
          }
        },
        {
          "output_type": "display_data",
          "data": {
            "text/plain": [
              "<IPython.core.display.HTML object>"
            ],
            "text/html": [
              " <span style='color:rgb(132,126,126)'>a</span> <span style='color:rgb(90,90,204)'>crude</span> <span style='color:rgb(110,110,163)'>teen</span> <span style='color:rgb(172,106,106)'>oriented</span> <span style='color:rgb(101,101,182)'>variation</span> <span style='color:rgb(144,120,120)'>on</span> <span style='color:rgb(190,97,97)'>a</span> <span style='color:rgb(191,96,96)'>theme</span> <span style='color:rgb(122,122,140)'>that</span> <span style='color:rgb(124,124,136)'>the</span> <span style='color:rgb(124,124,136)'>playwright</span> <span style='color:rgb(198,93,93)'>craig</span> <span style='color:rgb(125,125,134)'>lucas</span> <span style='color:rgb(64,64,255)'>explored</span> <span style='color:rgb(224,80,80)'>with</span> <span style='color:rgb(244,70,70)'>infinitely</span> <span style='color:rgb(89,89,205)'>more</span> <span style='color:rgb(138,123,123)'>grace</span> <span style='color:rgb(126,126,132)'>and</span> <span style='color:rgb(132,126,126)'>eloquence</span> <span style='color:rgb(126,126,131)'>in</span> <span style='color:rgb(152,116,116)'>his</span> <span style='color:rgb(170,107,107)'>prelude</span> <span style='color:rgb(122,122,139)'>to</span> <span style='color:rgb(119,119,145)'>a</span> <span style='color:rgb(157,113,113)'>kiss</span>"
            ]
          },
          "metadata": {
            "tags": []
          }
        },
        {
          "output_type": "display_data",
          "data": {
            "text/plain": [
              "<IPython.core.display.HTML object>"
            ],
            "text/html": [
              " <span style='color:rgb(128,128,128)'>a</span> <span style='color:rgb(175,104,104)'>series</span> <span style='color:rgb(123,123,137)'>of</span> <span style='color:rgb(122,122,140)'>tales</span> <span style='color:rgb(218,83,83)'>told</span> <span style='color:rgb(79,79,226)'>with</span> <span style='color:rgb(119,119,146)'>the</span> <span style='color:rgb(177,103,103)'>intricate</span> <span style='color:rgb(178,103,103)'>preciseness</span> <span style='color:rgb(114,114,156)'>of</span> <span style='color:rgb(116,116,152)'>the</span> <span style='color:rgb(76,76,231)'>best</span> <span style='color:rgb(127,127,130)'>short</span> <span style='color:rgb(112,112,159)'>story</span> <span style='color:rgb(255,64,64)'>writing</span>"
            ]
          },
          "metadata": {
            "tags": []
          }
        },
        {
          "output_type": "display_data",
          "data": {
            "text/plain": [
              "<IPython.core.display.HTML object>"
            ],
            "text/html": [
              " <span style='color:rgb(128,128,128)'>ok</span> <span style='color:rgb(127,128,128)'>arthouse</span> <span style='color:rgb(126,126,131)'>the</span> <span style='color:rgb(147,118,118)'>power</span> <span style='color:rgb(128,128,128)'>of</span> <span style='color:rgb(119,119,146)'>this</span> <span style='color:rgb(112,112,159)'>script</span> <span style='color:rgb(128,128,128)'>,</span> <span style='color:rgb(127,127,130)'>and</span> <span style='color:rgb(173,105,105)'>the</span> <span style='color:rgb(137,123,123)'>performances</span> <span style='color:rgb(132,126,126)'>that</span> <span style='color:rgb(163,110,110)'>come</span> <span style='color:rgb(146,119,119)'>with</span> <span style='color:rgb(133,125,125)'>it</span> <span style='color:rgb(123,123,137)'>,</span> <span style='color:rgb(124,124,136)'>is</span> <span style='color:rgb(109,109,166)'>that</span> <span style='color:rgb(83,83,218)'>the</span> <span style='color:rgb(85,85,214)'>whole</span> <span style='color:rgb(106,106,171)'>damned</span> <span style='color:rgb(111,111,161)'>thing</span> <span style='color:rgb(140,122,122)'>did</span> <span style='color:rgb(255,64,64)'>n't</span> <span style='color:rgb(222,81,81)'>get</span> <span style='color:rgb(188,98,98)'>our</span> <span style='color:rgb(158,113,113)'>moral</span> <span style='color:rgb(128,128,127)'>hackles</span> <span style='color:rgb(128,128,127)'>up</span>"
            ]
          },
          "metadata": {
            "tags": []
          }
        },
        {
          "output_type": "display_data",
          "data": {
            "text/plain": [
              "<IPython.core.display.HTML object>"
            ],
            "text/html": [
              " <span style='color:rgb(139,122,122)'>guillen</span> <span style='color:rgb(116,116,151)'>rarely</span> <span style='color:rgb(119,119,146)'>gets</span> <span style='color:rgb(111,111,162)'>beneath</span> <span style='color:rgb(122,122,139)'>the</span> <span style='color:rgb(111,111,162)'>surface</span> <span style='color:rgb(123,123,138)'>of</span> <span style='color:rgb(195,94,94)'>things</span> <span style='color:rgb(193,95,95)'>she</span> <span style='color:rgb(221,81,81)'>lists</span> <span style='color:rgb(255,64,64)'>ingredients</span> <span style='color:rgb(147,118,118)'>,</span> <span style='color:rgb(217,83,83)'>but</span> <span style='color:rgb(90,90,203)'>never</span> <span style='color:rgb(104,104,175)'>mixes</span> <span style='color:rgb(123,123,137)'>and</span> <span style='color:rgb(128,128,127)'>stirs</span>"
            ]
          },
          "metadata": {
            "tags": []
          }
        },
        {
          "output_type": "display_data",
          "data": {
            "text/plain": [
              "<IPython.core.display.HTML object>"
            ],
            "text/html": [
              " <span style='color:rgb(159,112,112)'>blade</span> <span style='color:rgb(155,114,114)'>ii</span> <span style='color:rgb(123,123,138)'>merges</span> <span style='color:rgb(149,117,117)'>bits</span> <span style='color:rgb(122,122,140)'>and</span> <span style='color:rgb(103,103,177)'>pieces</span> <span style='color:rgb(115,115,154)'>from</span> <span style='color:rgb(126,126,131)'>fighting</span> <span style='color:rgb(146,119,119)'>games</span> <span style='color:rgb(121,121,141)'>,</span> <span style='color:rgb(147,118,118)'>wire</span> <span style='color:rgb(99,99,186)'>fu</span> <span style='color:rgb(127,128,128)'>,</span> <span style='color:rgb(255,64,64)'>horror</span> <span style='color:rgb(190,97,97)'>movies</span> <span style='color:rgb(82,82,220)'>,</span> <span style='color:rgb(128,128,127)'>mystery</span> <span style='color:rgb(141,121,121)'>,</span> <span style='color:rgb(133,125,125)'>james</span> <span style='color:rgb(120,120,143)'>bond</span> <span style='color:rgb(111,111,162)'>,</span> <span style='color:rgb(114,114,155)'>wrestling</span> <span style='color:rgb(121,121,142)'>,</span> <span style='color:rgb(105,105,173)'>sci</span> <span style='color:rgb(187,98,98)'>fi</span> <span style='color:rgb(242,71,71)'>and</span> <span style='color:rgb(128,128,127)'>anime</span> <span style='color:rgb(128,128,127)'>into</span> <span style='color:rgb(128,128,127)'>one</span> <span style='color:rgb(128,128,127)'>big</span> <span style='color:rgb(128,128,127)'>bloody</span> <span style='color:rgb(128,128,127)'>stew</span>"
            ]
          },
          "metadata": {
            "tags": []
          }
        },
        {
          "output_type": "stream",
          "text": [
            "\n"
          ],
          "name": "stdout"
        },
        {
          "output_type": "display_data",
          "data": {
            "text/plain": [
              "<IPython.core.display.HTML object>"
            ],
            "text/html": [
              " <span style='color:rgb(132,126,126)'>the</span> <span style='color:rgb(193,95,95)'>title</span> <span style='color:rgb(136,124,124)'>'s</span> <span style='color:rgb(255,64,64)'>lameness</span> <span style='color:rgb(179,102,102)'>should</span> <span style='color:rgb(178,103,103)'>clue</span> <span style='color:rgb(114,114,156)'>you</span> <span style='color:rgb(126,126,132)'>in</span> <span style='color:rgb(123,123,137)'>on</span> <span style='color:rgb(141,121,121)'>how</span> <span style='color:rgb(185,99,99)'>bad</span> <span style='color:rgb(123,123,138)'>the</span> <span style='color:rgb(172,106,106)'>movie</span> <span style='color:rgb(130,127,127)'>is</span>"
            ]
          },
          "metadata": {
            "tags": []
          }
        },
        {
          "output_type": "stream",
          "text": [
            "('Prediction', array([9.999374e-01, 6.252878e-05], dtype=float32))\n",
            "('GT', array([1, 0]))\n",
            "('Correct', True)\n",
            "\n",
            "Nearest based on Embedding similarity\n"
          ],
          "name": "stdout"
        },
        {
          "output_type": "display_data",
          "data": {
            "text/plain": [
              "<IPython.core.display.HTML object>"
            ],
            "text/html": [
              " <span style='color:rgb(125,125,133)'>jir</span> <span style='color:rgb(119,119,146)'>hubac</span> <span style='color:rgb(128,128,128)'>'s</span> <span style='color:rgb(110,110,163)'>script</span> <span style='color:rgb(140,122,122)'>is</span> <span style='color:rgb(155,114,114)'>a</span> <span style='color:rgb(255,64,64)'>gem</span> <span style='color:rgb(128,128,128)'>his</span> <span style='color:rgb(165,109,109)'>characters</span> <span style='color:rgb(129,127,127)'>are</span> <span style='color:rgb(215,84,84)'>engaging</span> <span style='color:rgb(210,87,87)'>,</span> <span style='color:rgb(136,124,124)'>intimate</span> <span style='color:rgb(140,122,122)'>and</span> <span style='color:rgb(127,127,130)'>the</span> <span style='color:rgb(127,128,128)'>dialogue</span> <span style='color:rgb(151,116,116)'>is</span> <span style='color:rgb(148,118,118)'>realistic</span> <span style='color:rgb(150,117,117)'>and</span> <span style='color:rgb(165,109,109)'>greatly</span> <span style='color:rgb(130,127,127)'>moving</span> <span style='color:rgb(131,126,126)'>the</span> <span style='color:rgb(132,126,126)'>scope</span> <span style='color:rgb(131,126,126)'>of</span> <span style='color:rgb(133,125,125)'>the</span> <span style='color:rgb(127,128,128)'>silberstein</span> <span style='color:rgb(130,127,127)'>family</span> <span style='color:rgb(125,125,133)'>is</span> <span style='color:rgb(128,128,128)'>large</span> <span style='color:rgb(131,126,126)'>and</span> <span style='color:rgb(129,127,127)'>we</span> <span style='color:rgb(123,123,138)'>grow</span> <span style='color:rgb(127,127,130)'>attached</span> <span style='color:rgb(137,123,123)'>to</span> <span style='color:rgb(134,125,125)'>their</span> <span style='color:rgb(133,125,125)'>lives</span> <span style='color:rgb(138,123,123)'>,</span> <span style='color:rgb(172,106,106)'>full</span> <span style='color:rgb(134,125,125)'>of</span> <span style='color:rgb(128,128,128)'>strength</span> <span style='color:rgb(144,120,120)'>,</span> <span style='color:rgb(128,128,127)'>warmth</span> <span style='color:rgb(128,128,127)'>and</span> <span style='color:rgb(128,128,127)'>vitality</span>"
            ]
          },
          "metadata": {
            "tags": []
          }
        },
        {
          "output_type": "display_data",
          "data": {
            "text/plain": [
              "<IPython.core.display.HTML object>"
            ],
            "text/html": [
              " <span style='color:rgb(126,126,131)'>christians</span> <span style='color:rgb(132,126,126)'>sensitive</span> <span style='color:rgb(128,128,128)'>to</span> <span style='color:rgb(138,123,123)'>a</span> <span style='color:rgb(133,125,125)'>reductionist</span> <span style='color:rgb(125,125,133)'>view</span> <span style='color:rgb(114,114,156)'>of</span> <span style='color:rgb(64,64,255)'>their</span> <span style='color:rgb(65,65,253)'>lord</span> <span style='color:rgb(113,113,157)'>as</span> <span style='color:rgb(149,117,117)'>a</span> <span style='color:rgb(153,115,115)'>luv</span> <span style='color:rgb(125,125,134)'>spreading</span> <span style='color:rgb(119,119,145)'>dr</span> <span style='color:rgb(68,68,247)'>feelgood</span> <span style='color:rgb(159,112,112)'>or</span> <span style='color:rgb(101,101,181)'>omnipotent</span> <span style='color:rgb(94,94,195)'>slacker</span> <span style='color:rgb(115,115,154)'>will</span> <span style='color:rgb(120,120,143)'>feel</span> <span style='color:rgb(127,127,130)'>vastly</span> <span style='color:rgb(188,98,98)'>more</span> <span style='color:rgb(177,103,103)'>affronted</span> <span style='color:rgb(162,111,111)'>than</span> <span style='color:rgb(232,76,76)'>secularists</span> <span style='color:rgb(167,108,108)'>,</span> <span style='color:rgb(239,72,72)'>who</span> <span style='color:rgb(188,98,98)'>might</span> <span style='color:rgb(204,90,90)'>even</span> <span style='color:rgb(183,100,100)'>praise</span> <span style='color:rgb(125,125,134)'>god</span> <span style='color:rgb(80,80,224)'>for</span> <span style='color:rgb(105,105,174)'>delivering</span> <span style='color:rgb(145,119,119)'>such</span> <span style='color:rgb(192,96,96)'>an</span> <span style='color:rgb(164,110,110)'>instant</span> <span style='color:rgb(134,125,125)'>camp</span> <span style='color:rgb(128,128,127)'>classic</span>"
            ]
          },
          "metadata": {
            "tags": []
          }
        },
        {
          "output_type": "display_data",
          "data": {
            "text/plain": [
              "<IPython.core.display.HTML object>"
            ],
            "text/html": [
              " <span style='color:rgb(158,113,113)'>painful</span> <span style='color:rgb(131,126,126)'>,</span> <span style='color:rgb(109,109,166)'>horrifying</span> <span style='color:rgb(116,116,152)'>and</span> <span style='color:rgb(92,92,200)'>oppressively</span> <span style='color:rgb(119,119,145)'>tragic</span> <span style='color:rgb(106,106,172)'>,</span> <span style='color:rgb(117,117,150)'>this</span> <span style='color:rgb(159,112,112)'>film</span> <span style='color:rgb(194,95,95)'>should</span> <span style='color:rgb(255,64,64)'>not</span> <span style='color:rgb(128,128,127)'>be</span> <span style='color:rgb(128,128,127)'>missed</span>"
            ]
          },
          "metadata": {
            "tags": []
          }
        },
        {
          "output_type": "display_data",
          "data": {
            "text/plain": [
              "<IPython.core.display.HTML object>"
            ],
            "text/html": [
              " <span style='color:rgb(139,122,122)'>guillen</span> <span style='color:rgb(116,116,151)'>rarely</span> <span style='color:rgb(119,119,146)'>gets</span> <span style='color:rgb(111,111,162)'>beneath</span> <span style='color:rgb(122,122,139)'>the</span> <span style='color:rgb(111,111,162)'>surface</span> <span style='color:rgb(123,123,138)'>of</span> <span style='color:rgb(195,94,94)'>things</span> <span style='color:rgb(193,95,95)'>she</span> <span style='color:rgb(221,81,81)'>lists</span> <span style='color:rgb(255,64,64)'>ingredients</span> <span style='color:rgb(147,118,118)'>,</span> <span style='color:rgb(217,83,83)'>but</span> <span style='color:rgb(90,90,203)'>never</span> <span style='color:rgb(104,104,175)'>mixes</span> <span style='color:rgb(123,123,137)'>and</span> <span style='color:rgb(128,128,127)'>stirs</span>"
            ]
          },
          "metadata": {
            "tags": []
          }
        },
        {
          "output_type": "display_data",
          "data": {
            "text/plain": [
              "<IPython.core.display.HTML object>"
            ],
            "text/html": [
              " <span style='color:rgb(132,126,126)'>a</span> <span style='color:rgb(90,90,204)'>crude</span> <span style='color:rgb(110,110,163)'>teen</span> <span style='color:rgb(172,106,106)'>oriented</span> <span style='color:rgb(101,101,182)'>variation</span> <span style='color:rgb(144,120,120)'>on</span> <span style='color:rgb(190,97,97)'>a</span> <span style='color:rgb(191,96,96)'>theme</span> <span style='color:rgb(122,122,140)'>that</span> <span style='color:rgb(124,124,136)'>the</span> <span style='color:rgb(124,124,136)'>playwright</span> <span style='color:rgb(198,93,93)'>craig</span> <span style='color:rgb(125,125,134)'>lucas</span> <span style='color:rgb(64,64,255)'>explored</span> <span style='color:rgb(224,80,80)'>with</span> <span style='color:rgb(244,70,70)'>infinitely</span> <span style='color:rgb(89,89,205)'>more</span> <span style='color:rgb(138,123,123)'>grace</span> <span style='color:rgb(126,126,132)'>and</span> <span style='color:rgb(132,126,126)'>eloquence</span> <span style='color:rgb(126,126,131)'>in</span> <span style='color:rgb(152,116,116)'>his</span> <span style='color:rgb(170,107,107)'>prelude</span> <span style='color:rgb(122,122,139)'>to</span> <span style='color:rgb(119,119,145)'>a</span> <span style='color:rgb(157,113,113)'>kiss</span>"
            ]
          },
          "metadata": {
            "tags": []
          }
        },
        {
          "output_type": "display_data",
          "data": {
            "text/plain": [
              "<IPython.core.display.HTML object>"
            ],
            "text/html": [
              " <span style='color:rgb(152,116,116)'>the</span> <span style='color:rgb(196,94,94)'>movie</span> <span style='color:rgb(187,98,98)'>is</span> <span style='color:rgb(255,64,64)'>amateurish</span> <span style='color:rgb(137,123,123)'>,</span> <span style='color:rgb(122,122,140)'>but</span> <span style='color:rgb(99,99,186)'>it</span> <span style='color:rgb(116,116,151)'>'s</span> <span style='color:rgb(85,85,213)'>a</span> <span style='color:rgb(89,89,206)'>minor</span> <span style='color:rgb(128,128,127)'>treat</span>"
            ]
          },
          "metadata": {
            "tags": []
          }
        },
        {
          "output_type": "display_data",
          "data": {
            "text/plain": [
              "<IPython.core.display.HTML object>"
            ],
            "text/html": [
              " <span style='color:rgb(154,115,115)'>one</span> <span style='color:rgb(111,111,161)'>suspects</span> <span style='color:rgb(150,117,117)'>that</span> <span style='color:rgb(209,87,87)'>craven</span> <span style='color:rgb(158,113,113)'>endorses</span> <span style='color:rgb(93,93,197)'>they</span> <span style='color:rgb(230,77,77)'>simply</span> <span style='color:rgb(64,64,255)'>because</span> <span style='color:rgb(110,110,164)'>this</span> <span style='color:rgb(164,110,110)'>movie</span> <span style='color:rgb(121,121,142)'>makes</span> <span style='color:rgb(110,110,163)'>his</span> <span style='color:rgb(126,126,132)'>own</span> <span style='color:rgb(71,71,242)'>look</span> <span style='color:rgb(159,112,112)'>much</span> <span style='color:rgb(240,72,72)'>better</span> <span style='color:rgb(198,93,93)'>by</span> <span style='color:rgb(176,104,104)'>comparison</span>"
            ]
          },
          "metadata": {
            "tags": []
          }
        },
        {
          "output_type": "display_data",
          "data": {
            "text/plain": [
              "<IPython.core.display.HTML object>"
            ],
            "text/html": [
              " <span style='color:rgb(147,118,118)'>too</span> <span style='color:rgb(143,120,120)'>much</span> <span style='color:rgb(131,126,126)'>of</span> <span style='color:rgb(135,124,124)'>this</span> <span style='color:rgb(118,118,148)'>well</span> <span style='color:rgb(114,114,156)'>acted</span> <span style='color:rgb(128,128,127)'>but</span> <span style='color:rgb(85,85,213)'>dangerously</span> <span style='color:rgb(123,123,138)'>slow</span> <span style='color:rgb(144,120,120)'>thriller</span> <span style='color:rgb(255,64,64)'>feels</span> <span style='color:rgb(172,106,106)'>like</span> <span style='color:rgb(131,126,126)'>a</span> <span style='color:rgb(131,126,126)'>preamble</span> <span style='color:rgb(128,128,128)'>to</span> <span style='color:rgb(121,121,141)'>a</span> <span style='color:rgb(126,126,131)'>bigger</span> <span style='color:rgb(118,118,148)'>,</span> <span style='color:rgb(117,117,150)'>more</span> <span style='color:rgb(111,111,161)'>complicated</span> <span style='color:rgb(107,107,170)'>story</span> <span style='color:rgb(125,125,134)'>,</span> <span style='color:rgb(143,120,120)'>one</span> <span style='color:rgb(167,108,108)'>that</span> <span style='color:rgb(128,128,127)'>never</span> <span style='color:rgb(128,128,127)'>materializes</span>"
            ]
          },
          "metadata": {
            "tags": []
          }
        },
        {
          "output_type": "display_data",
          "data": {
            "text/plain": [
              "<IPython.core.display.HTML object>"
            ],
            "text/html": [
              " <span style='color:rgb(127,127,129)'>the</span> <span style='color:rgb(123,123,138)'>woodman</span> <span style='color:rgb(111,111,162)'>seems</span> <span style='color:rgb(121,121,142)'>to</span> <span style='color:rgb(107,107,169)'>have</span> <span style='color:rgb(108,108,168)'>directly</span> <span style='color:rgb(134,125,125)'>influenced</span> <span style='color:rgb(122,122,140)'>this</span> <span style='color:rgb(254,65,65)'>girl</span> <span style='color:rgb(148,118,118)'>meets</span> <span style='color:rgb(255,64,64)'>girl</span> <span style='color:rgb(156,114,114)'>love</span> <span style='color:rgb(128,128,127)'>story</span> <span style='color:rgb(129,127,127)'>,</span> <span style='color:rgb(126,126,132)'>but</span> <span style='color:rgb(137,123,123)'>even</span> <span style='color:rgb(160,112,112)'>more</span> <span style='color:rgb(137,123,123)'>reassuring</span> <span style='color:rgb(127,127,129)'>is</span> <span style='color:rgb(130,127,127)'>how</span> <span style='color:rgb(74,74,236)'>its</span> <span style='color:rgb(105,105,174)'>makers</span> <span style='color:rgb(107,107,169)'>actually</span> <span style='color:rgb(118,118,147)'>seem</span> <span style='color:rgb(128,128,127)'>to</span> <span style='color:rgb(140,122,122)'>understand</span> <span style='color:rgb(135,124,124)'>what</span> <span style='color:rgb(129,127,127)'>made</span> <span style='color:rgb(168,108,108)'>allen</span> <span style='color:rgb(150,117,117)'>'s</span> <span style='color:rgb(110,110,164)'>romantic</span> <span style='color:rgb(107,107,169)'>comedies</span> <span style='color:rgb(121,121,141)'>so</span> <span style='color:rgb(149,117,117)'>pertinent</span> <span style='color:rgb(180,102,102)'>and</span> <span style='color:rgb(128,128,127)'>enduring</span>"
            ]
          },
          "metadata": {
            "tags": []
          }
        },
        {
          "output_type": "display_data",
          "data": {
            "text/plain": [
              "<IPython.core.display.HTML object>"
            ],
            "text/html": [
              " <span style='color:rgb(128,128,128)'>ok</span> <span style='color:rgb(127,128,128)'>arthouse</span> <span style='color:rgb(126,126,131)'>the</span> <span style='color:rgb(147,118,118)'>power</span> <span style='color:rgb(128,128,128)'>of</span> <span style='color:rgb(119,119,146)'>this</span> <span style='color:rgb(112,112,159)'>script</span> <span style='color:rgb(128,128,128)'>,</span> <span style='color:rgb(127,127,130)'>and</span> <span style='color:rgb(173,105,105)'>the</span> <span style='color:rgb(137,123,123)'>performances</span> <span style='color:rgb(132,126,126)'>that</span> <span style='color:rgb(163,110,110)'>come</span> <span style='color:rgb(146,119,119)'>with</span> <span style='color:rgb(133,125,125)'>it</span> <span style='color:rgb(123,123,137)'>,</span> <span style='color:rgb(124,124,136)'>is</span> <span style='color:rgb(109,109,166)'>that</span> <span style='color:rgb(83,83,218)'>the</span> <span style='color:rgb(85,85,214)'>whole</span> <span style='color:rgb(106,106,171)'>damned</span> <span style='color:rgb(111,111,161)'>thing</span> <span style='color:rgb(140,122,122)'>did</span> <span style='color:rgb(255,64,64)'>n't</span> <span style='color:rgb(222,81,81)'>get</span> <span style='color:rgb(188,98,98)'>our</span> <span style='color:rgb(158,113,113)'>moral</span> <span style='color:rgb(128,128,127)'>hackles</span> <span style='color:rgb(128,128,127)'>up</span>"
            ]
          },
          "metadata": {
            "tags": []
          }
        },
        {
          "output_type": "stream",
          "text": [
            "\n",
            "Nearest based on Attribution similarity\n"
          ],
          "name": "stdout"
        },
        {
          "output_type": "display_data",
          "data": {
            "text/plain": [
              "<IPython.core.display.HTML object>"
            ],
            "text/html": [
              " <span style='color:rgb(132,126,126)'>the</span> <span style='color:rgb(193,95,95)'>title</span> <span style='color:rgb(136,124,124)'>'s</span> <span style='color:rgb(255,64,64)'>lameness</span> <span style='color:rgb(179,102,102)'>should</span> <span style='color:rgb(178,103,103)'>clue</span> <span style='color:rgb(114,114,156)'>you</span> <span style='color:rgb(126,126,132)'>in</span> <span style='color:rgb(123,123,137)'>on</span> <span style='color:rgb(141,121,121)'>how</span> <span style='color:rgb(185,99,99)'>bad</span> <span style='color:rgb(123,123,138)'>the</span> <span style='color:rgb(172,106,106)'>movie</span> <span style='color:rgb(130,127,127)'>is</span>"
            ]
          },
          "metadata": {
            "tags": []
          }
        },
        {
          "output_type": "display_data",
          "data": {
            "text/plain": [
              "<IPython.core.display.HTML object>"
            ],
            "text/html": [
              " <span style='color:rgb(125,125,134)'>humor</span> <span style='color:rgb(123,123,138)'>in</span> <span style='color:rgb(114,114,155)'>i</span> <span style='color:rgb(139,122,122)'>spy</span> <span style='color:rgb(132,126,126)'>is</span> <span style='color:rgb(221,81,81)'>so</span> <span style='color:rgb(255,64,64)'>anemic</span>"
            ]
          },
          "metadata": {
            "tags": []
          }
        },
        {
          "output_type": "display_data",
          "data": {
            "text/plain": [
              "<IPython.core.display.HTML object>"
            ],
            "text/html": [
              " <span style='color:rgb(139,122,122)'>guillen</span> <span style='color:rgb(116,116,151)'>rarely</span> <span style='color:rgb(119,119,146)'>gets</span> <span style='color:rgb(111,111,162)'>beneath</span> <span style='color:rgb(122,122,139)'>the</span> <span style='color:rgb(111,111,162)'>surface</span> <span style='color:rgb(123,123,138)'>of</span> <span style='color:rgb(195,94,94)'>things</span> <span style='color:rgb(193,95,95)'>she</span> <span style='color:rgb(221,81,81)'>lists</span> <span style='color:rgb(255,64,64)'>ingredients</span> <span style='color:rgb(147,118,118)'>,</span> <span style='color:rgb(217,83,83)'>but</span> <span style='color:rgb(90,90,203)'>never</span> <span style='color:rgb(104,104,175)'>mixes</span> <span style='color:rgb(123,123,137)'>and</span> <span style='color:rgb(128,128,127)'>stirs</span>"
            ]
          },
          "metadata": {
            "tags": []
          }
        },
        {
          "output_type": "display_data",
          "data": {
            "text/plain": [
              "<IPython.core.display.HTML object>"
            ],
            "text/html": [
              " <span style='color:rgb(128,128,128)'>ok</span> <span style='color:rgb(127,128,128)'>arthouse</span> <span style='color:rgb(126,126,131)'>the</span> <span style='color:rgb(147,118,118)'>power</span> <span style='color:rgb(128,128,128)'>of</span> <span style='color:rgb(119,119,146)'>this</span> <span style='color:rgb(112,112,159)'>script</span> <span style='color:rgb(128,128,128)'>,</span> <span style='color:rgb(127,127,130)'>and</span> <span style='color:rgb(173,105,105)'>the</span> <span style='color:rgb(137,123,123)'>performances</span> <span style='color:rgb(132,126,126)'>that</span> <span style='color:rgb(163,110,110)'>come</span> <span style='color:rgb(146,119,119)'>with</span> <span style='color:rgb(133,125,125)'>it</span> <span style='color:rgb(123,123,137)'>,</span> <span style='color:rgb(124,124,136)'>is</span> <span style='color:rgb(109,109,166)'>that</span> <span style='color:rgb(83,83,218)'>the</span> <span style='color:rgb(85,85,214)'>whole</span> <span style='color:rgb(106,106,171)'>damned</span> <span style='color:rgb(111,111,161)'>thing</span> <span style='color:rgb(140,122,122)'>did</span> <span style='color:rgb(255,64,64)'>n't</span> <span style='color:rgb(222,81,81)'>get</span> <span style='color:rgb(188,98,98)'>our</span> <span style='color:rgb(158,113,113)'>moral</span> <span style='color:rgb(128,128,127)'>hackles</span> <span style='color:rgb(128,128,127)'>up</span>"
            ]
          },
          "metadata": {
            "tags": []
          }
        },
        {
          "output_type": "display_data",
          "data": {
            "text/plain": [
              "<IPython.core.display.HTML object>"
            ],
            "text/html": [
              " <span style='color:rgb(126,126,131)'>i'm</span> <span style='color:rgb(112,112,160)'>giving</span> <span style='color:rgb(128,128,128)'>it</span> <span style='color:rgb(94,94,196)'>thumbs</span> <span style='color:rgb(91,91,201)'>down</span> <span style='color:rgb(103,103,177)'>due</span> <span style='color:rgb(131,126,126)'>to</span> <span style='color:rgb(124,124,135)'>the</span> <span style='color:rgb(128,128,127)'>endlessly</span> <span style='color:rgb(117,117,150)'>repetitive</span> <span style='color:rgb(144,120,120)'>scenes</span> <span style='color:rgb(130,127,127)'>of</span> <span style='color:rgb(119,119,145)'>embarrassment</span> <span style='color:rgb(129,127,127)'>there</span> <span style='color:rgb(127,127,130)'>'s</span> <span style='color:rgb(154,115,115)'>got</span> <span style='color:rgb(125,125,134)'>to</span> <span style='color:rgb(128,128,127)'>be</span> <span style='color:rgb(127,127,130)'>a</span> <span style='color:rgb(157,113,113)'>more</span> <span style='color:rgb(172,106,106)'>graceful</span> <span style='color:rgb(245,69,69)'>way</span> <span style='color:rgb(165,109,109)'>of</span> <span style='color:rgb(255,64,64)'>portraying</span> <span style='color:rgb(128,128,128)'>the</span> <span style='color:rgb(124,124,136)'>devastation</span> <span style='color:rgb(128,128,127)'>of</span> <span style='color:rgb(119,119,145)'>this</span> <span style='color:rgb(128,128,127)'>disease</span>"
            ]
          },
          "metadata": {
            "tags": []
          }
        },
        {
          "output_type": "display_data",
          "data": {
            "text/plain": [
              "<IPython.core.display.HTML object>"
            ],
            "text/html": [
              " <span style='color:rgb(125,125,133)'>a</span> <span style='color:rgb(110,110,163)'>journey</span> <span style='color:rgb(126,126,132)'>that</span> <span style='color:rgb(114,114,155)'>'s</span> <span style='color:rgb(255,64,64)'>too</span> <span style='color:rgb(200,92,92)'>random</span> <span style='color:rgb(122,122,140)'>and</span> <span style='color:rgb(194,95,95)'>inconclusive</span> <span style='color:rgb(154,115,115)'>to</span> <span style='color:rgb(123,123,138)'>be</span> <span style='color:rgb(117,117,149)'>compelling</span> <span style='color:rgb(142,121,121)'>,</span> <span style='color:rgb(158,113,113)'>but</span> <span style='color:rgb(132,126,126)'>which</span> <span style='color:rgb(124,124,136)'>hoffman</span> <span style='color:rgb(146,119,119)'>'s</span> <span style='color:rgb(154,115,115)'>brilliance</span> <span style='color:rgb(119,119,146)'>almost</span> <span style='color:rgb(113,113,157)'>makes</span> <span style='color:rgb(135,124,124)'>worth</span> <span style='color:rgb(128,128,127)'>taking</span>"
            ]
          },
          "metadata": {
            "tags": []
          }
        },
        {
          "output_type": "display_data",
          "data": {
            "text/plain": [
              "<IPython.core.display.HTML object>"
            ],
            "text/html": [
              " <span style='color:rgb(158,113,113)'>painful</span> <span style='color:rgb(131,126,126)'>,</span> <span style='color:rgb(109,109,166)'>horrifying</span> <span style='color:rgb(116,116,152)'>and</span> <span style='color:rgb(92,92,200)'>oppressively</span> <span style='color:rgb(119,119,145)'>tragic</span> <span style='color:rgb(106,106,172)'>,</span> <span style='color:rgb(117,117,150)'>this</span> <span style='color:rgb(159,112,112)'>film</span> <span style='color:rgb(194,95,95)'>should</span> <span style='color:rgb(255,64,64)'>not</span> <span style='color:rgb(128,128,127)'>be</span> <span style='color:rgb(128,128,127)'>missed</span>"
            ]
          },
          "metadata": {
            "tags": []
          }
        },
        {
          "output_type": "display_data",
          "data": {
            "text/plain": [
              "<IPython.core.display.HTML object>"
            ],
            "text/html": [
              " <span style='color:rgb(255,64,64)'>credibility</span> <span style='color:rgb(209,87,87)'>sinks</span> <span style='color:rgb(191,96,96)'>into</span> <span style='color:rgb(114,114,156)'>a</span> <span style='color:rgb(215,84,84)'>mire</span> <span style='color:rgb(103,103,177)'>of</span> <span style='color:rgb(164,110,110)'>sentiment</span>"
            ]
          },
          "metadata": {
            "tags": []
          }
        },
        {
          "output_type": "display_data",
          "data": {
            "text/plain": [
              "<IPython.core.display.HTML object>"
            ],
            "text/html": [
              " <span style='color:rgb(122,122,139)'>a</span> <span style='color:rgb(101,101,182)'>sequel</span> <span style='color:rgb(123,123,137)'>that</span> <span style='color:rgb(109,109,165)'>'s</span> <span style='color:rgb(173,105,105)'>much</span> <span style='color:rgb(242,71,71)'>too</span> <span style='color:rgb(127,128,128)'>big</span> <span style='color:rgb(132,126,126)'>for</span> <span style='color:rgb(130,127,127)'>its</span> <span style='color:rgb(255,64,64)'>britches</span>"
            ]
          },
          "metadata": {
            "tags": []
          }
        },
        {
          "output_type": "display_data",
          "data": {
            "text/plain": [
              "<IPython.core.display.HTML object>"
            ],
            "text/html": [
              " <span style='color:rgb(132,126,126)'>the</span> <span style='color:rgb(183,100,100)'>ingenuity</span> <span style='color:rgb(144,120,120)'>that</span> <span style='color:rgb(239,72,72)'>parker</span> <span style='color:rgb(164,110,110)'>displays</span> <span style='color:rgb(110,110,163)'>in</span> <span style='color:rgb(210,87,87)'>freshening</span> <span style='color:rgb(153,115,115)'>the</span> <span style='color:rgb(199,92,92)'>play</span> <span style='color:rgb(201,91,91)'>is</span> <span style='color:rgb(255,64,64)'>almost</span> <span style='color:rgb(137,123,123)'>in</span> <span style='color:rgb(116,116,151)'>a</span> <span style='color:rgb(120,120,143)'>class</span> <span style='color:rgb(70,70,244)'>with</span> <span style='color:rgb(77,77,229)'>that</span> <span style='color:rgb(114,114,155)'>of</span> <span style='color:rgb(142,121,121)'>wilde</span> <span style='color:rgb(116,116,152)'>himself</span>"
            ]
          },
          "metadata": {
            "tags": []
          }
        },
        {
          "output_type": "stream",
          "text": [
            "\n"
          ],
          "name": "stdout"
        },
        {
          "output_type": "display_data",
          "data": {
            "text/plain": [
              "<IPython.core.display.HTML object>"
            ],
            "text/html": [
              " <span style='color:rgb(122,122,139)'>a</span> <span style='color:rgb(101,101,182)'>sequel</span> <span style='color:rgb(123,123,137)'>that</span> <span style='color:rgb(109,109,165)'>'s</span> <span style='color:rgb(173,105,105)'>much</span> <span style='color:rgb(242,71,71)'>too</span> <span style='color:rgb(127,128,128)'>big</span> <span style='color:rgb(132,126,126)'>for</span> <span style='color:rgb(130,127,127)'>its</span> <span style='color:rgb(255,64,64)'>britches</span>"
            ]
          },
          "metadata": {
            "tags": []
          }
        },
        {
          "output_type": "stream",
          "text": [
            "('Prediction', array([0.95108354, 0.04891645], dtype=float32))\n",
            "('GT', array([1, 0]))\n",
            "('Correct', True)\n",
            "\n",
            "Nearest based on Embedding similarity\n"
          ],
          "name": "stdout"
        },
        {
          "output_type": "display_data",
          "data": {
            "text/plain": [
              "<IPython.core.display.HTML object>"
            ],
            "text/html": [
              " <span style='color:rgb(127,127,129)'>the</span> <span style='color:rgb(123,123,138)'>woodman</span> <span style='color:rgb(111,111,162)'>seems</span> <span style='color:rgb(121,121,142)'>to</span> <span style='color:rgb(107,107,169)'>have</span> <span style='color:rgb(108,108,168)'>directly</span> <span style='color:rgb(134,125,125)'>influenced</span> <span style='color:rgb(122,122,140)'>this</span> <span style='color:rgb(254,65,65)'>girl</span> <span style='color:rgb(148,118,118)'>meets</span> <span style='color:rgb(255,64,64)'>girl</span> <span style='color:rgb(156,114,114)'>love</span> <span style='color:rgb(128,128,127)'>story</span> <span style='color:rgb(129,127,127)'>,</span> <span style='color:rgb(126,126,132)'>but</span> <span style='color:rgb(137,123,123)'>even</span> <span style='color:rgb(160,112,112)'>more</span> <span style='color:rgb(137,123,123)'>reassuring</span> <span style='color:rgb(127,127,129)'>is</span> <span style='color:rgb(130,127,127)'>how</span> <span style='color:rgb(74,74,236)'>its</span> <span style='color:rgb(105,105,174)'>makers</span> <span style='color:rgb(107,107,169)'>actually</span> <span style='color:rgb(118,118,147)'>seem</span> <span style='color:rgb(128,128,127)'>to</span> <span style='color:rgb(140,122,122)'>understand</span> <span style='color:rgb(135,124,124)'>what</span> <span style='color:rgb(129,127,127)'>made</span> <span style='color:rgb(168,108,108)'>allen</span> <span style='color:rgb(150,117,117)'>'s</span> <span style='color:rgb(110,110,164)'>romantic</span> <span style='color:rgb(107,107,169)'>comedies</span> <span style='color:rgb(121,121,141)'>so</span> <span style='color:rgb(149,117,117)'>pertinent</span> <span style='color:rgb(180,102,102)'>and</span> <span style='color:rgb(128,128,127)'>enduring</span>"
            ]
          },
          "metadata": {
            "tags": []
          }
        },
        {
          "output_type": "display_data",
          "data": {
            "text/plain": [
              "<IPython.core.display.HTML object>"
            ],
            "text/html": [
              " <span style='color:rgb(127,127,129)'>as</span> <span style='color:rgb(125,125,134)'>it</span> <span style='color:rgb(124,124,136)'>abruptly</span> <span style='color:rgb(111,111,161)'>crosscuts</span> <span style='color:rgb(116,116,151)'>among</span> <span style='color:rgb(124,124,135)'>the</span> <span style='color:rgb(127,127,130)'>five</span> <span style='color:rgb(123,123,138)'>friends</span> <span style='color:rgb(139,122,122)'>,</span> <span style='color:rgb(255,64,64)'>it</span> <span style='color:rgb(159,112,112)'>fails</span> <span style='color:rgb(185,99,99)'>to</span> <span style='color:rgb(139,122,122)'>lend</span> <span style='color:rgb(155,114,114)'>the</span> <span style='color:rgb(124,124,136)'>characters'</span> <span style='color:rgb(116,116,152)'>individual</span> <span style='color:rgb(123,123,138)'>stories</span> <span style='color:rgb(117,117,150)'>enough</span> <span style='color:rgb(114,114,156)'>dramatic</span> <span style='color:rgb(127,127,130)'>resonance</span> <span style='color:rgb(121,121,142)'>to</span> <span style='color:rgb(118,118,148)'>make</span> <span style='color:rgb(149,117,117)'>us</span> <span style='color:rgb(126,126,131)'>care</span> <span style='color:rgb(128,128,128)'>about</span> <span style='color:rgb(128,128,127)'>them</span>"
            ]
          },
          "metadata": {
            "tags": []
          }
        },
        {
          "output_type": "display_data",
          "data": {
            "text/plain": [
              "<IPython.core.display.HTML object>"
            ],
            "text/html": [
              " <span style='color:rgb(128,128,128)'>it</span> <span style='color:rgb(160,112,112)'>concentrates</span> <span style='color:rgb(181,101,101)'>far</span> <span style='color:rgb(255,64,64)'>too</span> <span style='color:rgb(199,92,92)'>much</span> <span style='color:rgb(177,103,103)'>on</span> <span style='color:rgb(145,119,119)'>the</span> <span style='color:rgb(220,82,82)'>awkward</span> <span style='color:rgb(189,97,97)'>interplay</span> <span style='color:rgb(110,110,163)'>and</span> <span style='color:rgb(142,121,121)'>utter</span> <span style='color:rgb(155,114,114)'>lack</span> <span style='color:rgb(124,124,135)'>of</span> <span style='color:rgb(104,104,176)'>chemistry</span> <span style='color:rgb(110,110,164)'>between</span> <span style='color:rgb(126,126,131)'>chan</span> <span style='color:rgb(107,107,170)'>and</span> <span style='color:rgb(130,127,127)'>hewitt</span>"
            ]
          },
          "metadata": {
            "tags": []
          }
        },
        {
          "output_type": "display_data",
          "data": {
            "text/plain": [
              "<IPython.core.display.HTML object>"
            ],
            "text/html": [
              " <span style='color:rgb(140,122,122)'>a</span> <span style='color:rgb(127,127,130)'>poignant</span> <span style='color:rgb(195,94,94)'>comedy</span> <span style='color:rgb(166,109,109)'>that</span> <span style='color:rgb(255,64,64)'>offers</span> <span style='color:rgb(68,68,248)'>food</span> <span style='color:rgb(155,114,114)'>for</span> <span style='color:rgb(192,96,96)'>thought</span>"
            ]
          },
          "metadata": {
            "tags": []
          }
        },
        {
          "output_type": "display_data",
          "data": {
            "text/plain": [
              "<IPython.core.display.HTML object>"
            ],
            "text/html": [
              " <span style='color:rgb(122,122,139)'>hell</span> <span style='color:rgb(126,126,132)'>is</span> <span style='color:rgb(124,124,136)'>looking</span> <span style='color:rgb(136,124,124)'>down</span> <span style='color:rgb(119,119,145)'>at</span> <span style='color:rgb(117,117,149)'>your</span> <span style='color:rgb(118,118,147)'>watch</span> <span style='color:rgb(110,110,164)'>and</span> <span style='color:rgb(128,128,127)'>realizing</span> <span style='color:rgb(148,118,118)'>serving</span> <span style='color:rgb(255,64,64)'>sara</span> <span style='color:rgb(150,117,117)'>is</span> <span style='color:rgb(158,113,113)'>n't</span> <span style='color:rgb(151,116,116)'>even</span> <span style='color:rgb(162,111,111)'>halfway</span> <span style='color:rgb(132,126,126)'>through</span>"
            ]
          },
          "metadata": {
            "tags": []
          }
        },
        {
          "output_type": "display_data",
          "data": {
            "text/plain": [
              "<IPython.core.display.HTML object>"
            ],
            "text/html": [
              " <span style='color:rgb(132,126,126)'>a</span> <span style='color:rgb(198,93,93)'>funny</span> <span style='color:rgb(146,119,119)'>and</span> <span style='color:rgb(255,64,64)'>touching</span> <span style='color:rgb(180,102,102)'>film</span> <span style='color:rgb(140,122,122)'>that</span> <span style='color:rgb(127,127,129)'>is</span> <span style='color:rgb(121,121,141)'>gorgeously</span> <span style='color:rgb(127,127,129)'>acted</span> <span style='color:rgb(121,121,142)'>by</span> <span style='color:rgb(128,128,127)'>a</span> <span style='color:rgb(125,125,133)'>british</span> <span style='color:rgb(128,128,128)'>cast</span> <span style='color:rgb(122,122,140)'>to</span> <span style='color:rgb(101,101,182)'>rival</span> <span style='color:rgb(114,114,155)'>gosford</span> <span style='color:rgb(122,122,139)'>park</span> <span style='color:rgb(127,127,130)'>'s</span>"
            ]
          },
          "metadata": {
            "tags": []
          }
        },
        {
          "output_type": "display_data",
          "data": {
            "text/plain": [
              "<IPython.core.display.HTML object>"
            ],
            "text/html": [
              " <span style='color:rgb(142,121,121)'>kapur</span> <span style='color:rgb(167,108,108)'>weighs</span> <span style='color:rgb(154,115,115)'>down</span> <span style='color:rgb(121,121,141)'>the</span> <span style='color:rgb(127,128,128)'>tale</span> <span style='color:rgb(122,122,140)'>with</span> <span style='color:rgb(255,64,64)'>bogus</span> <span style='color:rgb(153,115,115)'>profundities</span>"
            ]
          },
          "metadata": {
            "tags": []
          }
        },
        {
          "output_type": "display_data",
          "data": {
            "text/plain": [
              "<IPython.core.display.HTML object>"
            ],
            "text/html": [
              " <span style='color:rgb(140,122,122)'>sen</span> <span style='color:rgb(134,125,125)'>'s</span> <span style='color:rgb(181,101,101)'>soap</span> <span style='color:rgb(180,102,102)'>opera</span> <span style='color:rgb(176,104,104)'>ish</span> <span style='color:rgb(141,121,121)'>approach</span> <span style='color:rgb(125,125,134)'>undermines</span> <span style='color:rgb(111,111,162)'>his</span> <span style='color:rgb(90,90,204)'>good</span> <span style='color:rgb(255,64,64)'>intentions</span>"
            ]
          },
          "metadata": {
            "tags": []
          }
        },
        {
          "output_type": "display_data",
          "data": {
            "text/plain": [
              "<IPython.core.display.HTML object>"
            ],
            "text/html": [
              " <span style='color:rgb(126,126,131)'>i'm</span> <span style='color:rgb(112,112,160)'>giving</span> <span style='color:rgb(128,128,128)'>it</span> <span style='color:rgb(94,94,196)'>thumbs</span> <span style='color:rgb(91,91,201)'>down</span> <span style='color:rgb(103,103,177)'>due</span> <span style='color:rgb(131,126,126)'>to</span> <span style='color:rgb(124,124,135)'>the</span> <span style='color:rgb(128,128,127)'>endlessly</span> <span style='color:rgb(117,117,150)'>repetitive</span> <span style='color:rgb(144,120,120)'>scenes</span> <span style='color:rgb(130,127,127)'>of</span> <span style='color:rgb(119,119,145)'>embarrassment</span> <span style='color:rgb(129,127,127)'>there</span> <span style='color:rgb(127,127,130)'>'s</span> <span style='color:rgb(154,115,115)'>got</span> <span style='color:rgb(125,125,134)'>to</span> <span style='color:rgb(128,128,127)'>be</span> <span style='color:rgb(127,127,130)'>a</span> <span style='color:rgb(157,113,113)'>more</span> <span style='color:rgb(172,106,106)'>graceful</span> <span style='color:rgb(245,69,69)'>way</span> <span style='color:rgb(165,109,109)'>of</span> <span style='color:rgb(255,64,64)'>portraying</span> <span style='color:rgb(128,128,128)'>the</span> <span style='color:rgb(124,124,136)'>devastation</span> <span style='color:rgb(128,128,127)'>of</span> <span style='color:rgb(119,119,145)'>this</span> <span style='color:rgb(128,128,127)'>disease</span>"
            ]
          },
          "metadata": {
            "tags": []
          }
        },
        {
          "output_type": "display_data",
          "data": {
            "text/plain": [
              "<IPython.core.display.HTML object>"
            ],
            "text/html": [
              " <span style='color:rgb(122,122,139)'>a</span> <span style='color:rgb(101,101,182)'>sequel</span> <span style='color:rgb(123,123,137)'>that</span> <span style='color:rgb(109,109,165)'>'s</span> <span style='color:rgb(173,105,105)'>much</span> <span style='color:rgb(242,71,71)'>too</span> <span style='color:rgb(127,128,128)'>big</span> <span style='color:rgb(132,126,126)'>for</span> <span style='color:rgb(130,127,127)'>its</span> <span style='color:rgb(255,64,64)'>britches</span>"
            ]
          },
          "metadata": {
            "tags": []
          }
        },
        {
          "output_type": "stream",
          "text": [
            "\n",
            "Nearest based on Attribution similarity\n"
          ],
          "name": "stdout"
        },
        {
          "output_type": "display_data",
          "data": {
            "text/plain": [
              "<IPython.core.display.HTML object>"
            ],
            "text/html": [
              " <span style='color:rgb(148,118,118)'>this</span> <span style='color:rgb(196,94,94)'>dubious</span> <span style='color:rgb(200,92,92)'>product</span> <span style='color:rgb(130,127,127)'>of</span> <span style='color:rgb(123,123,138)'>a</span> <span style='color:rgb(255,64,64)'>college</span> <span style='color:rgb(114,114,155)'>spawned</span> <span style='color:rgb(184,100,100)'>\\(</span> <span style='color:rgb(122,122,139)'>colgate</span> <span style='color:rgb(118,118,147)'>u</span> <span style='color:rgb(110,110,164)'>\\)</span> <span style='color:rgb(90,90,204)'>comedy</span> <span style='color:rgb(138,123,123)'>ensemble</span> <span style='color:rgb(121,121,141)'>known</span> <span style='color:rgb(175,104,104)'>as</span> <span style='color:rgb(193,95,95)'>broken</span> <span style='color:rgb(181,101,101)'>lizard</span> <span style='color:rgb(118,118,148)'>plays</span> <span style='color:rgb(101,101,182)'>like</span> <span style='color:rgb(123,123,138)'>a</span> <span style='color:rgb(94,94,196)'>mix</span> <span style='color:rgb(122,122,140)'>of</span> <span style='color:rgb(114,114,155)'>cheech</span> <span style='color:rgb(125,125,133)'>and</span> <span style='color:rgb(118,118,148)'>chong</span> <span style='color:rgb(128,128,127)'>and</span> <span style='color:rgb(128,128,127)'>chips</span>"
            ]
          },
          "metadata": {
            "tags": []
          }
        },
        {
          "output_type": "display_data",
          "data": {
            "text/plain": [
              "<IPython.core.display.HTML object>"
            ],
            "text/html": [
              " <span style='color:rgb(140,122,122)'>a</span> <span style='color:rgb(127,127,130)'>poignant</span> <span style='color:rgb(195,94,94)'>comedy</span> <span style='color:rgb(166,109,109)'>that</span> <span style='color:rgb(255,64,64)'>offers</span> <span style='color:rgb(68,68,248)'>food</span> <span style='color:rgb(155,114,114)'>for</span> <span style='color:rgb(192,96,96)'>thought</span>"
            ]
          },
          "metadata": {
            "tags": []
          }
        },
        {
          "output_type": "display_data",
          "data": {
            "text/plain": [
              "<IPython.core.display.HTML object>"
            ],
            "text/html": [
              " <span style='color:rgb(157,113,113)'>writer</span> <span style='color:rgb(157,113,113)'>director</span> <span style='color:rgb(255,64,64)'>walter</span> <span style='color:rgb(226,79,79)'>hill</span> <span style='color:rgb(186,99,99)'>and</span> <span style='color:rgb(142,121,121)'>co</span> <span style='color:rgb(162,111,111)'>writer</span> <span style='color:rgb(149,117,117)'>david</span> <span style='color:rgb(83,83,218)'>giler</span> <span style='color:rgb(104,104,175)'>try</span> <span style='color:rgb(98,98,188)'>to</span> <span style='color:rgb(71,71,242)'>create</span> <span style='color:rgb(111,111,161)'>characters</span> <span style='color:rgb(100,100,184)'>out</span> <span style='color:rgb(142,121,121)'>of</span> <span style='color:rgb(125,125,133)'>the</span> <span style='color:rgb(119,119,145)'>obvious</span> <span style='color:rgb(116,116,152)'>cliches</span> <span style='color:rgb(135,124,124)'>,</span> <span style='color:rgb(143,120,120)'>but</span> <span style='color:rgb(133,125,125)'>wind</span> <span style='color:rgb(140,122,122)'>up</span> <span style='color:rgb(168,108,108)'>using</span> <span style='color:rgb(127,128,128)'>them</span> <span style='color:rgb(186,99,99)'>as</span> <span style='color:rgb(151,116,116)'>punching</span> <span style='color:rgb(128,128,127)'>bags</span>"
            ]
          },
          "metadata": {
            "tags": []
          }
        },
        {
          "output_type": "display_data",
          "data": {
            "text/plain": [
              "<IPython.core.display.HTML object>"
            ],
            "text/html": [
              " <span style='color:rgb(127,127,129)'>as</span> <span style='color:rgb(125,125,134)'>it</span> <span style='color:rgb(124,124,136)'>abruptly</span> <span style='color:rgb(111,111,161)'>crosscuts</span> <span style='color:rgb(116,116,151)'>among</span> <span style='color:rgb(124,124,135)'>the</span> <span style='color:rgb(127,127,130)'>five</span> <span style='color:rgb(123,123,138)'>friends</span> <span style='color:rgb(139,122,122)'>,</span> <span style='color:rgb(255,64,64)'>it</span> <span style='color:rgb(159,112,112)'>fails</span> <span style='color:rgb(185,99,99)'>to</span> <span style='color:rgb(139,122,122)'>lend</span> <span style='color:rgb(155,114,114)'>the</span> <span style='color:rgb(124,124,136)'>characters'</span> <span style='color:rgb(116,116,152)'>individual</span> <span style='color:rgb(123,123,138)'>stories</span> <span style='color:rgb(117,117,150)'>enough</span> <span style='color:rgb(114,114,156)'>dramatic</span> <span style='color:rgb(127,127,130)'>resonance</span> <span style='color:rgb(121,121,142)'>to</span> <span style='color:rgb(118,118,148)'>make</span> <span style='color:rgb(149,117,117)'>us</span> <span style='color:rgb(126,126,131)'>care</span> <span style='color:rgb(128,128,128)'>about</span> <span style='color:rgb(128,128,127)'>them</span>"
            ]
          },
          "metadata": {
            "tags": []
          }
        },
        {
          "output_type": "display_data",
          "data": {
            "text/plain": [
              "<IPython.core.display.HTML object>"
            ],
            "text/html": [
              " <span style='color:rgb(242,71,71)'>muddled</span> <span style='color:rgb(235,74,74)'>,</span> <span style='color:rgb(135,124,124)'>trashy</span> <span style='color:rgb(255,64,64)'>and</span> <span style='color:rgb(128,128,127)'>incompetent</span>"
            ]
          },
          "metadata": {
            "tags": []
          }
        },
        {
          "output_type": "display_data",
          "data": {
            "text/plain": [
              "<IPython.core.display.HTML object>"
            ],
            "text/html": [
              " <span style='color:rgb(139,122,122)'>seems</span> <span style='color:rgb(141,121,121)'>even</span> <span style='color:rgb(151,116,116)'>more</span> <span style='color:rgb(192,96,96)'>uselessly</span> <span style='color:rgb(237,73,73)'>redundant</span> <span style='color:rgb(123,123,138)'>and</span> <span style='color:rgb(171,106,106)'>shamelessly</span> <span style='color:rgb(173,105,105)'>money</span> <span style='color:rgb(202,91,91)'>grubbing</span> <span style='color:rgb(138,123,123)'>than</span> <span style='color:rgb(114,114,155)'>most</span> <span style='color:rgb(109,109,165)'>third</span> <span style='color:rgb(93,93,197)'>rate</span> <span style='color:rgb(64,64,255)'>horror</span> <span style='color:rgb(106,106,171)'>sequels</span>"
            ]
          },
          "metadata": {
            "tags": []
          }
        },
        {
          "output_type": "display_data",
          "data": {
            "text/plain": [
              "<IPython.core.display.HTML object>"
            ],
            "text/html": [
              " <span style='color:rgb(132,126,126)'>the</span> <span style='color:rgb(183,100,100)'>ingenuity</span> <span style='color:rgb(144,120,120)'>that</span> <span style='color:rgb(239,72,72)'>parker</span> <span style='color:rgb(164,110,110)'>displays</span> <span style='color:rgb(110,110,163)'>in</span> <span style='color:rgb(210,87,87)'>freshening</span> <span style='color:rgb(153,115,115)'>the</span> <span style='color:rgb(199,92,92)'>play</span> <span style='color:rgb(201,91,91)'>is</span> <span style='color:rgb(255,64,64)'>almost</span> <span style='color:rgb(137,123,123)'>in</span> <span style='color:rgb(116,116,151)'>a</span> <span style='color:rgb(120,120,143)'>class</span> <span style='color:rgb(70,70,244)'>with</span> <span style='color:rgb(77,77,229)'>that</span> <span style='color:rgb(114,114,155)'>of</span> <span style='color:rgb(142,121,121)'>wilde</span> <span style='color:rgb(116,116,152)'>himself</span>"
            ]
          },
          "metadata": {
            "tags": []
          }
        },
        {
          "output_type": "display_data",
          "data": {
            "text/plain": [
              "<IPython.core.display.HTML object>"
            ],
            "text/html": [
              " <span style='color:rgb(135,124,124)'>one</span> <span style='color:rgb(133,125,125)'>of</span> <span style='color:rgb(180,102,102)'>those</span> <span style='color:rgb(170,107,107)'>movies</span> <span style='color:rgb(160,112,112)'>that</span> <span style='color:rgb(158,113,113)'>make</span> <span style='color:rgb(211,86,86)'>us</span> <span style='color:rgb(149,117,117)'>pause</span> <span style='color:rgb(156,114,114)'>and</span> <span style='color:rgb(107,107,170)'>think</span> <span style='color:rgb(129,127,127)'>of</span> <span style='color:rgb(118,118,147)'>what</span> <span style='color:rgb(114,114,155)'>we</span> <span style='color:rgb(64,64,255)'>have</span> <span style='color:rgb(98,98,188)'>given</span> <span style='color:rgb(83,83,217)'>up</span> <span style='color:rgb(111,111,162)'>to</span> <span style='color:rgb(169,107,107)'>acquire</span> <span style='color:rgb(112,112,160)'>the</span> <span style='color:rgb(219,82,82)'>fast</span> <span style='color:rgb(123,123,137)'>paced</span> <span style='color:rgb(212,86,86)'>contemporary</span> <span style='color:rgb(132,126,126)'>society</span>"
            ]
          },
          "metadata": {
            "tags": []
          }
        },
        {
          "output_type": "display_data",
          "data": {
            "text/plain": [
              "<IPython.core.display.HTML object>"
            ],
            "text/html": [
              " <span style='color:rgb(150,117,117)'>f</span> <span style='color:rgb(141,121,121)'>rom</span> <span style='color:rgb(124,124,135)'>the</span> <span style='color:rgb(101,101,182)'>performances</span> <span style='color:rgb(114,114,155)'>and</span> <span style='color:rgb(123,123,137)'>the</span> <span style='color:rgb(151,116,116)'>cinematography</span> <span style='color:rgb(148,118,118)'>to</span> <span style='color:rgb(135,124,124)'>the</span> <span style='color:rgb(177,103,103)'>outstanding</span> <span style='color:rgb(147,118,118)'>soundtrack</span> <span style='color:rgb(109,109,165)'>and</span> <span style='color:rgb(230,77,77)'>unconventional</span> <span style='color:rgb(255,64,64)'>narrative</span> <span style='color:rgb(141,121,121)'>,</span> <span style='color:rgb(115,115,153)'>the</span> <span style='color:rgb(126,126,131)'>film</span> <span style='color:rgb(96,96,192)'>is</span> <span style='color:rgb(107,107,169)'>blazingly</span> <span style='color:rgb(117,117,150)'>alive</span> <span style='color:rgb(66,66,251)'>and</span> <span style='color:rgb(121,121,142)'>admirable</span> <span style='color:rgb(126,126,131)'>on</span> <span style='color:rgb(129,127,127)'>many</span> <span style='color:rgb(128,128,127)'>levels</span>"
            ]
          },
          "metadata": {
            "tags": []
          }
        },
        {
          "output_type": "display_data",
          "data": {
            "text/plain": [
              "<IPython.core.display.HTML object>"
            ],
            "text/html": [
              " <span style='color:rgb(130,127,127)'>one</span> <span style='color:rgb(131,126,126)'>of</span> <span style='color:rgb(136,124,124)'>those</span> <span style='color:rgb(124,124,136)'>films</span> <span style='color:rgb(115,115,153)'>where</span> <span style='color:rgb(128,128,128)'>the</span> <span style='color:rgb(100,100,184)'>characters</span> <span style='color:rgb(96,96,191)'>inhabit</span> <span style='color:rgb(119,119,145)'>that</span> <span style='color:rgb(64,64,255)'>special</span> <span style='color:rgb(91,91,201)'>annex</span> <span style='color:rgb(137,123,123)'>of</span> <span style='color:rgb(121,121,142)'>hell</span> <span style='color:rgb(128,128,127)'>where</span> <span style='color:rgb(171,106,106)'>adults</span> <span style='color:rgb(135,124,124)'>behave</span> <span style='color:rgb(115,115,154)'>like</span> <span style='color:rgb(170,107,107)'>kids</span> <span style='color:rgb(143,120,120)'>,</span> <span style='color:rgb(124,124,136)'>children</span> <span style='color:rgb(128,128,128)'>behave</span> <span style='color:rgb(191,96,96)'>like</span> <span style='color:rgb(151,116,116)'>adults</span> <span style='color:rgb(186,99,99)'>and</span> <span style='color:rgb(182,101,101)'>everyone</span> <span style='color:rgb(186,99,99)'>screams</span> <span style='color:rgb(143,120,120)'>at</span> <span style='color:rgb(196,94,94)'>the</span> <span style='color:rgb(156,114,114)'>top</span> <span style='color:rgb(166,109,109)'>of</span> <span style='color:rgb(176,104,104)'>their</span> <span style='color:rgb(112,112,159)'>lungs</span> <span style='color:rgb(118,118,147)'>no</span> <span style='color:rgb(125,125,133)'>matter</span> <span style='color:rgb(121,121,142)'>what</span> <span style='color:rgb(98,98,187)'>the</span> <span style='color:rgb(128,128,127)'>situation</span>"
            ]
          },
          "metadata": {
            "tags": []
          }
        },
        {
          "output_type": "stream",
          "text": [
            "\n"
          ],
          "name": "stdout"
        },
        {
          "output_type": "display_data",
          "data": {
            "text/plain": [
              "<IPython.core.display.HTML object>"
            ],
            "text/html": [
              " <span style='color:rgb(150,117,117)'>a</span> <span style='color:rgb(120,120,143)'>wildly</span> <span style='color:rgb(255,64,64)'>funny</span> <span style='color:rgb(175,104,104)'>prison</span> <span style='color:rgb(145,119,119)'>caper</span>"
            ]
          },
          "metadata": {
            "tags": []
          }
        },
        {
          "output_type": "stream",
          "text": [
            "('Prediction', array([0.02142663, 0.9785734 ], dtype=float32))\n",
            "('GT', array([0, 1]))\n",
            "('Correct', True)\n",
            "\n",
            "Nearest based on Embedding similarity\n"
          ],
          "name": "stdout"
        },
        {
          "output_type": "display_data",
          "data": {
            "text/plain": [
              "<IPython.core.display.HTML object>"
            ],
            "text/html": [
              " <span style='color:rgb(157,113,113)'>writer</span> <span style='color:rgb(157,113,113)'>director</span> <span style='color:rgb(255,64,64)'>walter</span> <span style='color:rgb(226,79,79)'>hill</span> <span style='color:rgb(186,99,99)'>and</span> <span style='color:rgb(142,121,121)'>co</span> <span style='color:rgb(162,111,111)'>writer</span> <span style='color:rgb(149,117,117)'>david</span> <span style='color:rgb(83,83,218)'>giler</span> <span style='color:rgb(104,104,175)'>try</span> <span style='color:rgb(98,98,188)'>to</span> <span style='color:rgb(71,71,242)'>create</span> <span style='color:rgb(111,111,161)'>characters</span> <span style='color:rgb(100,100,184)'>out</span> <span style='color:rgb(142,121,121)'>of</span> <span style='color:rgb(125,125,133)'>the</span> <span style='color:rgb(119,119,145)'>obvious</span> <span style='color:rgb(116,116,152)'>cliches</span> <span style='color:rgb(135,124,124)'>,</span> <span style='color:rgb(143,120,120)'>but</span> <span style='color:rgb(133,125,125)'>wind</span> <span style='color:rgb(140,122,122)'>up</span> <span style='color:rgb(168,108,108)'>using</span> <span style='color:rgb(127,128,128)'>them</span> <span style='color:rgb(186,99,99)'>as</span> <span style='color:rgb(151,116,116)'>punching</span> <span style='color:rgb(128,128,127)'>bags</span>"
            ]
          },
          "metadata": {
            "tags": []
          }
        },
        {
          "output_type": "display_data",
          "data": {
            "text/plain": [
              "<IPython.core.display.HTML object>"
            ],
            "text/html": [
              " <span style='color:rgb(132,126,126)'>a</span> <span style='color:rgb(198,93,93)'>funny</span> <span style='color:rgb(146,119,119)'>and</span> <span style='color:rgb(255,64,64)'>touching</span> <span style='color:rgb(180,102,102)'>film</span> <span style='color:rgb(140,122,122)'>that</span> <span style='color:rgb(127,127,129)'>is</span> <span style='color:rgb(121,121,141)'>gorgeously</span> <span style='color:rgb(127,127,129)'>acted</span> <span style='color:rgb(121,121,142)'>by</span> <span style='color:rgb(128,128,127)'>a</span> <span style='color:rgb(125,125,133)'>british</span> <span style='color:rgb(128,128,128)'>cast</span> <span style='color:rgb(122,122,140)'>to</span> <span style='color:rgb(101,101,182)'>rival</span> <span style='color:rgb(114,114,155)'>gosford</span> <span style='color:rgb(122,122,139)'>park</span> <span style='color:rgb(127,127,130)'>'s</span>"
            ]
          },
          "metadata": {
            "tags": []
          }
        },
        {
          "output_type": "display_data",
          "data": {
            "text/plain": [
              "<IPython.core.display.HTML object>"
            ],
            "text/html": [
              " <span style='color:rgb(125,125,133)'>over</span> <span style='color:rgb(126,126,132)'>the</span> <span style='color:rgb(130,127,127)'>years</span> <span style='color:rgb(124,124,135)'>,</span> <span style='color:rgb(130,127,127)'>hollywood</span> <span style='color:rgb(161,111,111)'>has</span> <span style='color:rgb(154,115,115)'>crafted</span> <span style='color:rgb(255,64,64)'>a</span> <span style='color:rgb(159,112,112)'>solid</span> <span style='color:rgb(129,127,127)'>formula</span> <span style='color:rgb(131,126,126)'>for</span> <span style='color:rgb(135,124,124)'>successful</span> <span style='color:rgb(128,128,127)'>animated</span> <span style='color:rgb(133,125,125)'>movies</span> <span style='color:rgb(123,123,137)'>,</span> <span style='color:rgb(119,119,145)'>and</span> <span style='color:rgb(105,105,173)'>ice</span> <span style='color:rgb(122,122,139)'>age</span> <span style='color:rgb(121,121,141)'>only</span> <span style='color:rgb(128,128,128)'>improves</span> <span style='color:rgb(144,120,120)'>on</span> <span style='color:rgb(163,110,110)'>it</span> <span style='color:rgb(141,121,121)'>,</span> <span style='color:rgb(117,117,150)'>with</span> <span style='color:rgb(141,121,121)'>terrific</span> <span style='color:rgb(121,121,142)'>computer</span> <span style='color:rgb(122,122,139)'>graphics</span> <span style='color:rgb(129,127,127)'>,</span> <span style='color:rgb(126,126,131)'>inventive</span> <span style='color:rgb(124,124,136)'>action</span> <span style='color:rgb(127,127,130)'>sequences</span> <span style='color:rgb(127,127,129)'>and</span> <span style='color:rgb(129,127,127)'>a</span> <span style='color:rgb(128,128,127)'>droll</span> <span style='color:rgb(128,128,127)'>sense</span> <span style='color:rgb(128,128,127)'>of</span> <span style='color:rgb(128,128,127)'>humor</span>"
            ]
          },
          "metadata": {
            "tags": []
          }
        },
        {
          "output_type": "display_data",
          "data": {
            "text/plain": [
              "<IPython.core.display.HTML object>"
            ],
            "text/html": [
              " <span style='color:rgb(142,121,121)'>kapur</span> <span style='color:rgb(167,108,108)'>weighs</span> <span style='color:rgb(154,115,115)'>down</span> <span style='color:rgb(121,121,141)'>the</span> <span style='color:rgb(127,128,128)'>tale</span> <span style='color:rgb(122,122,140)'>with</span> <span style='color:rgb(255,64,64)'>bogus</span> <span style='color:rgb(153,115,115)'>profundities</span>"
            ]
          },
          "metadata": {
            "tags": []
          }
        },
        {
          "output_type": "display_data",
          "data": {
            "text/plain": [
              "<IPython.core.display.HTML object>"
            ],
            "text/html": [
              " <span style='color:rgb(128,128,128)'>how</span> <span style='color:rgb(127,128,128)'>i</span> <span style='color:rgb(185,99,99)'>killed</span> <span style='color:rgb(213,85,85)'>my</span> <span style='color:rgb(176,104,104)'>father</span> <span style='color:rgb(138,123,123)'>is</span> <span style='color:rgb(142,121,121)'>one</span> <span style='color:rgb(149,117,117)'>of</span> <span style='color:rgb(149,117,117)'>those</span> <span style='color:rgb(152,116,116)'>art</span> <span style='color:rgb(120,120,143)'>house</span> <span style='color:rgb(128,128,128)'>films</span> <span style='color:rgb(127,127,129)'>that</span> <span style='color:rgb(164,110,110)'>makes</span> <span style='color:rgb(169,107,107)'>you</span> <span style='color:rgb(167,108,108)'>feel</span> <span style='color:rgb(159,112,112)'>like</span> <span style='color:rgb(138,123,123)'>you</span> <span style='color:rgb(127,127,129)'>'re</span> <span style='color:rgb(123,123,137)'>watching</span> <span style='color:rgb(126,126,131)'>an</span> <span style='color:rgb(126,126,132)'>iceberg</span> <span style='color:rgb(125,125,133)'>melt</span> <span style='color:rgb(70,70,243)'>only</span> <span style='color:rgb(117,117,149)'>it</span> <span style='color:rgb(64,64,255)'>never</span> <span style='color:rgb(119,119,145)'>melts</span>"
            ]
          },
          "metadata": {
            "tags": []
          }
        },
        {
          "output_type": "display_data",
          "data": {
            "text/plain": [
              "<IPython.core.display.HTML object>"
            ],
            "text/html": [
              " <span style='color:rgb(122,122,139)'>hell</span> <span style='color:rgb(126,126,132)'>is</span> <span style='color:rgb(124,124,136)'>looking</span> <span style='color:rgb(136,124,124)'>down</span> <span style='color:rgb(119,119,145)'>at</span> <span style='color:rgb(117,117,149)'>your</span> <span style='color:rgb(118,118,147)'>watch</span> <span style='color:rgb(110,110,164)'>and</span> <span style='color:rgb(128,128,127)'>realizing</span> <span style='color:rgb(148,118,118)'>serving</span> <span style='color:rgb(255,64,64)'>sara</span> <span style='color:rgb(150,117,117)'>is</span> <span style='color:rgb(158,113,113)'>n't</span> <span style='color:rgb(151,116,116)'>even</span> <span style='color:rgb(162,111,111)'>halfway</span> <span style='color:rgb(132,126,126)'>through</span>"
            ]
          },
          "metadata": {
            "tags": []
          }
        },
        {
          "output_type": "display_data",
          "data": {
            "text/plain": [
              "<IPython.core.display.HTML object>"
            ],
            "text/html": [
              " <span style='color:rgb(122,122,140)'>a</span> <span style='color:rgb(147,118,118)'>movie</span> <span style='color:rgb(167,108,108)'>just</span> <span style='color:rgb(126,126,132)'>for</span> <span style='color:rgb(155,114,114)'>friday</span> <span style='color:rgb(86,86,212)'>fans</span> <span style='color:rgb(144,120,120)'>,</span> <span style='color:rgb(115,115,153)'>critics</span> <span style='color:rgb(121,121,142)'>be</span> <span style='color:rgb(124,124,136)'>damned</span> <span style='color:rgb(122,122,139)'>if</span> <span style='color:rgb(255,64,64)'>you</span> <span style='color:rgb(179,102,102)'>already</span> <span style='color:rgb(181,101,101)'>like</span> <span style='color:rgb(241,71,71)'>this</span> <span style='color:rgb(160,112,112)'>sort</span> <span style='color:rgb(178,103,103)'>of</span> <span style='color:rgb(133,125,125)'>thing</span> <span style='color:rgb(123,123,137)'>,</span> <span style='color:rgb(140,122,122)'>this</span> <span style='color:rgb(166,109,109)'>is</span> <span style='color:rgb(127,127,130)'>that</span> <span style='color:rgb(144,120,120)'>sort</span> <span style='color:rgb(173,105,105)'>of</span> <span style='color:rgb(142,121,121)'>thing</span> <span style='color:rgb(123,123,137)'>all</span> <span style='color:rgb(128,128,127)'>over</span> <span style='color:rgb(128,128,127)'>again</span>"
            ]
          },
          "metadata": {
            "tags": []
          }
        },
        {
          "output_type": "display_data",
          "data": {
            "text/plain": [
              "<IPython.core.display.HTML object>"
            ],
            "text/html": [
              " <span style='color:rgb(140,122,122)'>something</span> <span style='color:rgb(193,95,95)'>appears</span> <span style='color:rgb(142,121,121)'>to</span> <span style='color:rgb(206,89,89)'>have</span> <span style='color:rgb(181,101,101)'>been</span> <span style='color:rgb(219,82,82)'>lost</span> <span style='color:rgb(149,117,117)'>in</span> <span style='color:rgb(127,127,129)'>the</span> <span style='color:rgb(197,93,93)'>translation</span> <span style='color:rgb(163,110,110)'>this</span> <span style='color:rgb(187,98,98)'>time</span> <span style='color:rgb(145,119,119)'>the</span> <span style='color:rgb(198,93,93)'>importance</span> <span style='color:rgb(131,126,126)'>of</span> <span style='color:rgb(118,118,148)'>being</span> <span style='color:rgb(135,124,124)'>earnest</span> <span style='color:rgb(160,112,112)'>movie</span> <span style='color:rgb(166,109,109)'>seems</span> <span style='color:rgb(128,128,128)'>to</span> <span style='color:rgb(156,114,114)'>be</span> <span style='color:rgb(169,107,107)'>missing</span> <span style='color:rgb(113,113,157)'>a</span> <span style='color:rgb(64,64,255)'>great</span> <span style='color:rgb(69,69,245)'>deal</span> <span style='color:rgb(106,106,172)'>of</span> <span style='color:rgb(120,120,143)'>the</span> <span style='color:rgb(72,72,239)'>acerbic</span> <span style='color:rgb(82,82,220)'>repartee</span> <span style='color:rgb(112,112,160)'>of</span> <span style='color:rgb(125,125,134)'>the</span> <span style='color:rgb(123,123,137)'>play</span>"
            ]
          },
          "metadata": {
            "tags": []
          }
        },
        {
          "output_type": "display_data",
          "data": {
            "text/plain": [
              "<IPython.core.display.HTML object>"
            ],
            "text/html": [
              " <span style='color:rgb(208,88,88)'>mostly</span> <span style='color:rgb(225,79,79)'>,</span> <span style='color:rgb(124,124,135)'>shafer</span> <span style='color:rgb(132,126,126)'>and</span> <span style='color:rgb(115,115,154)'>co</span> <span style='color:rgb(64,64,255)'>writer</span> <span style='color:rgb(122,122,139)'>gregory</span> <span style='color:rgb(236,74,74)'>hinton</span> <span style='color:rgb(106,106,171)'>lack</span> <span style='color:rgb(188,98,98)'>a</span> <span style='color:rgb(126,126,132)'>strong</span> <span style='color:rgb(185,99,99)'>minded</span> <span style='color:rgb(168,108,108)'>viewpoint</span> <span style='color:rgb(113,113,158)'>,</span> <span style='color:rgb(121,121,142)'>or</span> <span style='color:rgb(102,102,179)'>a</span> <span style='color:rgb(87,87,210)'>sense</span> <span style='color:rgb(128,128,127)'>of</span> <span style='color:rgb(128,128,127)'>humor</span>"
            ]
          },
          "metadata": {
            "tags": []
          }
        },
        {
          "output_type": "display_data",
          "data": {
            "text/plain": [
              "<IPython.core.display.HTML object>"
            ],
            "text/html": [
              " <span style='color:rgb(105,105,174)'>solondz</span> <span style='color:rgb(104,104,175)'>may</span> <span style='color:rgb(124,124,135)'>be</span> <span style='color:rgb(179,102,102)'>convinced</span> <span style='color:rgb(157,113,113)'>that</span> <span style='color:rgb(120,120,144)'>he</span> <span style='color:rgb(115,115,154)'>has</span> <span style='color:rgb(120,120,144)'>something</span> <span style='color:rgb(96,96,192)'>significant</span> <span style='color:rgb(153,115,115)'>to</span> <span style='color:rgb(179,102,102)'>say</span> <span style='color:rgb(151,116,116)'>,</span> <span style='color:rgb(197,93,93)'>but</span> <span style='color:rgb(172,106,106)'>he</span> <span style='color:rgb(167,108,108)'>is</span> <span style='color:rgb(198,93,93)'>n't</span> <span style='color:rgb(143,120,120)'>talking</span> <span style='color:rgb(96,96,191)'>a</span> <span style='color:rgb(103,103,177)'>talk</span> <span style='color:rgb(64,64,255)'>that</span> <span style='color:rgb(161,111,111)'>appeals</span> <span style='color:rgb(231,76,76)'>to</span> <span style='color:rgb(128,128,127)'>me</span>"
            ]
          },
          "metadata": {
            "tags": []
          }
        },
        {
          "output_type": "stream",
          "text": [
            "\n",
            "Nearest based on Attribution similarity\n"
          ],
          "name": "stdout"
        },
        {
          "output_type": "display_data",
          "data": {
            "text/plain": [
              "<IPython.core.display.HTML object>"
            ],
            "text/html": [
              " <span style='color:rgb(132,126,126)'>a</span> <span style='color:rgb(198,93,93)'>funny</span> <span style='color:rgb(146,119,119)'>and</span> <span style='color:rgb(255,64,64)'>touching</span> <span style='color:rgb(180,102,102)'>film</span> <span style='color:rgb(140,122,122)'>that</span> <span style='color:rgb(127,127,129)'>is</span> <span style='color:rgb(121,121,141)'>gorgeously</span> <span style='color:rgb(127,127,129)'>acted</span> <span style='color:rgb(121,121,142)'>by</span> <span style='color:rgb(128,128,127)'>a</span> <span style='color:rgb(125,125,133)'>british</span> <span style='color:rgb(128,128,128)'>cast</span> <span style='color:rgb(122,122,140)'>to</span> <span style='color:rgb(101,101,182)'>rival</span> <span style='color:rgb(114,114,155)'>gosford</span> <span style='color:rgb(122,122,139)'>park</span> <span style='color:rgb(127,127,130)'>'s</span>"
            ]
          },
          "metadata": {
            "tags": []
          }
        },
        {
          "output_type": "display_data",
          "data": {
            "text/plain": [
              "<IPython.core.display.HTML object>"
            ],
            "text/html": [
              " <span style='color:rgb(157,113,113)'>writer</span> <span style='color:rgb(157,113,113)'>director</span> <span style='color:rgb(255,64,64)'>walter</span> <span style='color:rgb(226,79,79)'>hill</span> <span style='color:rgb(186,99,99)'>and</span> <span style='color:rgb(142,121,121)'>co</span> <span style='color:rgb(162,111,111)'>writer</span> <span style='color:rgb(149,117,117)'>david</span> <span style='color:rgb(83,83,218)'>giler</span> <span style='color:rgb(104,104,175)'>try</span> <span style='color:rgb(98,98,188)'>to</span> <span style='color:rgb(71,71,242)'>create</span> <span style='color:rgb(111,111,161)'>characters</span> <span style='color:rgb(100,100,184)'>out</span> <span style='color:rgb(142,121,121)'>of</span> <span style='color:rgb(125,125,133)'>the</span> <span style='color:rgb(119,119,145)'>obvious</span> <span style='color:rgb(116,116,152)'>cliches</span> <span style='color:rgb(135,124,124)'>,</span> <span style='color:rgb(143,120,120)'>but</span> <span style='color:rgb(133,125,125)'>wind</span> <span style='color:rgb(140,122,122)'>up</span> <span style='color:rgb(168,108,108)'>using</span> <span style='color:rgb(127,128,128)'>them</span> <span style='color:rgb(186,99,99)'>as</span> <span style='color:rgb(151,116,116)'>punching</span> <span style='color:rgb(128,128,127)'>bags</span>"
            ]
          },
          "metadata": {
            "tags": []
          }
        },
        {
          "output_type": "display_data",
          "data": {
            "text/plain": [
              "<IPython.core.display.HTML object>"
            ],
            "text/html": [
              " <span style='color:rgb(140,122,122)'>a</span> <span style='color:rgb(127,127,130)'>poignant</span> <span style='color:rgb(195,94,94)'>comedy</span> <span style='color:rgb(166,109,109)'>that</span> <span style='color:rgb(255,64,64)'>offers</span> <span style='color:rgb(68,68,248)'>food</span> <span style='color:rgb(155,114,114)'>for</span> <span style='color:rgb(192,96,96)'>thought</span>"
            ]
          },
          "metadata": {
            "tags": []
          }
        },
        {
          "output_type": "display_data",
          "data": {
            "text/plain": [
              "<IPython.core.display.HTML object>"
            ],
            "text/html": [
              " <span style='color:rgb(117,117,150)'>like</span> <span style='color:rgb(127,127,129)'>kissing</span> <span style='color:rgb(126,126,131)'>jessica</span> <span style='color:rgb(120,120,144)'>stein</span> <span style='color:rgb(69,69,246)'>,</span> <span style='color:rgb(128,128,127)'>amy</span> <span style='color:rgb(122,122,139)'>'s</span> <span style='color:rgb(141,121,121)'>orgasm</span> <span style='color:rgb(158,113,113)'>has</span> <span style='color:rgb(187,98,98)'>a</span> <span style='color:rgb(255,64,64)'>key</span> <span style='color:rgb(166,109,109)'>strength</span> <span style='color:rgb(145,119,119)'>in</span> <span style='color:rgb(140,122,122)'>its</span> <span style='color:rgb(121,121,142)'>willingness</span> <span style='color:rgb(113,113,158)'>to</span> <span style='color:rgb(121,121,142)'>explore</span> <span style='color:rgb(118,118,147)'>its</span> <span style='color:rgb(122,122,140)'>principal</span> <span style='color:rgb(192,96,96)'>characters</span> <span style='color:rgb(169,107,107)'>with</span> <span style='color:rgb(173,105,105)'>honesty</span> <span style='color:rgb(142,121,121)'>,</span> <span style='color:rgb(145,119,119)'>insight</span> <span style='color:rgb(128,128,127)'>and</span> <span style='color:rgb(128,128,127)'>humor</span>"
            ]
          },
          "metadata": {
            "tags": []
          }
        },
        {
          "output_type": "display_data",
          "data": {
            "text/plain": [
              "<IPython.core.display.HTML object>"
            ],
            "text/html": [
              " <span style='color:rgb(127,128,128)'>the</span> <span style='color:rgb(120,120,143)'>ensemble</span> <span style='color:rgb(117,117,149)'>cast</span> <span style='color:rgb(113,113,157)'>turns</span> <span style='color:rgb(122,122,140)'>in</span> <span style='color:rgb(126,126,131)'>a</span> <span style='color:rgb(192,96,96)'>collectively</span> <span style='color:rgb(213,85,85)'>stellar</span> <span style='color:rgb(255,64,64)'>performance</span> <span style='color:rgb(155,114,114)'>,</span> <span style='color:rgb(135,124,124)'>and</span> <span style='color:rgb(78,78,227)'>the</span> <span style='color:rgb(108,108,168)'>writing</span> <span style='color:rgb(81,81,221)'>is</span> <span style='color:rgb(160,112,112)'>tight</span> <span style='color:rgb(179,102,102)'>and</span> <span style='color:rgb(182,101,101)'>truthful</span> <span style='color:rgb(155,114,114)'>,</span> <span style='color:rgb(213,85,85)'>full</span> <span style='color:rgb(112,112,160)'>of</span> <span style='color:rgb(150,117,117)'>funny</span> <span style='color:rgb(125,125,133)'>situations</span> <span style='color:rgb(97,97,189)'>and</span> <span style='color:rgb(128,128,127)'>honest</span> <span style='color:rgb(128,128,127)'>observations</span>"
            ]
          },
          "metadata": {
            "tags": []
          }
        },
        {
          "output_type": "display_data",
          "data": {
            "text/plain": [
              "<IPython.core.display.HTML object>"
            ],
            "text/html": [
              " <span style='color:rgb(132,126,126)'>the</span> <span style='color:rgb(183,100,100)'>ingenuity</span> <span style='color:rgb(144,120,120)'>that</span> <span style='color:rgb(239,72,72)'>parker</span> <span style='color:rgb(164,110,110)'>displays</span> <span style='color:rgb(110,110,163)'>in</span> <span style='color:rgb(210,87,87)'>freshening</span> <span style='color:rgb(153,115,115)'>the</span> <span style='color:rgb(199,92,92)'>play</span> <span style='color:rgb(201,91,91)'>is</span> <span style='color:rgb(255,64,64)'>almost</span> <span style='color:rgb(137,123,123)'>in</span> <span style='color:rgb(116,116,151)'>a</span> <span style='color:rgb(120,120,143)'>class</span> <span style='color:rgb(70,70,244)'>with</span> <span style='color:rgb(77,77,229)'>that</span> <span style='color:rgb(114,114,155)'>of</span> <span style='color:rgb(142,121,121)'>wilde</span> <span style='color:rgb(116,116,152)'>himself</span>"
            ]
          },
          "metadata": {
            "tags": []
          }
        },
        {
          "output_type": "display_data",
          "data": {
            "text/plain": [
              "<IPython.core.display.HTML object>"
            ],
            "text/html": [
              " <span style='color:rgb(136,124,124)'>a</span> <span style='color:rgb(205,89,89)'>delightful</span> <span style='color:rgb(160,112,112)'>,</span> <span style='color:rgb(255,64,64)'>if</span> <span style='color:rgb(127,127,130)'>minor</span> <span style='color:rgb(132,126,126)'>,</span> <span style='color:rgb(119,119,146)'>pastry</span> <span style='color:rgb(104,104,176)'>of</span> <span style='color:rgb(128,128,127)'>a</span> <span style='color:rgb(128,128,127)'>movie</span>"
            ]
          },
          "metadata": {
            "tags": []
          }
        },
        {
          "output_type": "display_data",
          "data": {
            "text/plain": [
              "<IPython.core.display.HTML object>"
            ],
            "text/html": [
              " <span style='color:rgb(121,121,141)'>its</span> <span style='color:rgb(123,123,138)'>story</span> <span style='color:rgb(104,104,176)'>may</span> <span style='color:rgb(123,123,138)'>be</span> <span style='color:rgb(114,114,155)'>a</span> <span style='color:rgb(78,78,228)'>thousand</span> <span style='color:rgb(64,64,255)'>years</span> <span style='color:rgb(101,101,181)'>old</span> <span style='color:rgb(123,123,137)'>,</span> <span style='color:rgb(177,103,103)'>but</span> <span style='color:rgb(158,113,113)'>why</span> <span style='color:rgb(152,116,116)'>did</span> <span style='color:rgb(241,71,71)'>it</span> <span style='color:rgb(172,106,106)'>have</span> <span style='color:rgb(225,79,79)'>to</span> <span style='color:rgb(196,94,94)'>seem</span> <span style='color:rgb(160,112,112)'>like</span> <span style='color:rgb(162,111,111)'>it</span> <span style='color:rgb(218,83,83)'>took</span> <span style='color:rgb(152,116,116)'>another</span> <span style='color:rgb(128,128,128)'>thousand</span> <span style='color:rgb(134,125,125)'>to</span> <span style='color:rgb(129,127,127)'>tell</span> <span style='color:rgb(127,127,129)'>it</span> <span style='color:rgb(117,117,149)'>to</span> <span style='color:rgb(128,128,127)'>us</span> <span style='color:rgb(128,128,127)'>\\?</span>"
            ]
          },
          "metadata": {
            "tags": []
          }
        },
        {
          "output_type": "display_data",
          "data": {
            "text/plain": [
              "<IPython.core.display.HTML object>"
            ],
            "text/html": [
              " <span style='color:rgb(126,126,131)'>christians</span> <span style='color:rgb(132,126,126)'>sensitive</span> <span style='color:rgb(128,128,128)'>to</span> <span style='color:rgb(138,123,123)'>a</span> <span style='color:rgb(133,125,125)'>reductionist</span> <span style='color:rgb(125,125,133)'>view</span> <span style='color:rgb(114,114,156)'>of</span> <span style='color:rgb(64,64,255)'>their</span> <span style='color:rgb(65,65,253)'>lord</span> <span style='color:rgb(113,113,157)'>as</span> <span style='color:rgb(149,117,117)'>a</span> <span style='color:rgb(153,115,115)'>luv</span> <span style='color:rgb(125,125,134)'>spreading</span> <span style='color:rgb(119,119,145)'>dr</span> <span style='color:rgb(68,68,247)'>feelgood</span> <span style='color:rgb(159,112,112)'>or</span> <span style='color:rgb(101,101,181)'>omnipotent</span> <span style='color:rgb(94,94,195)'>slacker</span> <span style='color:rgb(115,115,154)'>will</span> <span style='color:rgb(120,120,143)'>feel</span> <span style='color:rgb(127,127,130)'>vastly</span> <span style='color:rgb(188,98,98)'>more</span> <span style='color:rgb(177,103,103)'>affronted</span> <span style='color:rgb(162,111,111)'>than</span> <span style='color:rgb(232,76,76)'>secularists</span> <span style='color:rgb(167,108,108)'>,</span> <span style='color:rgb(239,72,72)'>who</span> <span style='color:rgb(188,98,98)'>might</span> <span style='color:rgb(204,90,90)'>even</span> <span style='color:rgb(183,100,100)'>praise</span> <span style='color:rgb(125,125,134)'>god</span> <span style='color:rgb(80,80,224)'>for</span> <span style='color:rgb(105,105,174)'>delivering</span> <span style='color:rgb(145,119,119)'>such</span> <span style='color:rgb(192,96,96)'>an</span> <span style='color:rgb(164,110,110)'>instant</span> <span style='color:rgb(134,125,125)'>camp</span> <span style='color:rgb(128,128,127)'>classic</span>"
            ]
          },
          "metadata": {
            "tags": []
          }
        },
        {
          "output_type": "display_data",
          "data": {
            "text/plain": [
              "<IPython.core.display.HTML object>"
            ],
            "text/html": [
              " <span style='color:rgb(142,121,121)'>kapur</span> <span style='color:rgb(167,108,108)'>weighs</span> <span style='color:rgb(154,115,115)'>down</span> <span style='color:rgb(121,121,141)'>the</span> <span style='color:rgb(127,128,128)'>tale</span> <span style='color:rgb(122,122,140)'>with</span> <span style='color:rgb(255,64,64)'>bogus</span> <span style='color:rgb(153,115,115)'>profundities</span>"
            ]
          },
          "metadata": {
            "tags": []
          }
        },
        {
          "output_type": "stream",
          "text": [
            "\n"
          ],
          "name": "stdout"
        }
      ]
    },
    {
      "cell_type": "markdown",
      "metadata": {
        "colab_type": "text",
        "id": "DgJhoLbvOt8V"
      },
      "source": [
        "## Calibration"
      ]
    },
    {
      "cell_type": "code",
      "metadata": {
        "id": "7V1RxI_eCk8J",
        "colab_type": "code",
        "colab": {}
      },
      "source": [
        "def eval_forecasts(forecasts, targets, nbuckets = 10, qtiles=True):\n",
        "  non_nan = np.logical_not(np.isnan(forecasts))\n",
        "  forecasts = forecasts[non_nan]\n",
        "  targets = targets[non_nan]\n",
        "  l2_loss = np.average((forecasts - targets)*(forecasts - targets))\n",
        "  step = 1.0/nbuckets\n",
        "  nbs = []\n",
        "  fbs = []\n",
        "  tbs = []\n",
        "  calibration_err = 0.0\n",
        "  for i in range(nbuckets):\n",
        "    if qtiles:\n",
        "      lo = np.percentile(forecasts, 100.0*i*step)\n",
        "      hi = np.percentile(forecasts, 100.0*(i+1)*step)\n",
        "    else:\n",
        "      lo = i*step\n",
        "      hi = (i+1)*step\n",
        "    in_bucket = (forecasts>=lo)*(forecasts<hi)\n",
        "    forecasts_in_bucket = forecasts*in_bucket\n",
        "    targets_in_bucket = targets*in_bucket\n",
        "    n_b = np.sum(in_bucket)\n",
        "    if n_b == 0:\n",
        "      continue\n",
        "    f_b = 1.0*np.sum(forecasts_in_bucket)/n_b\n",
        "    t_b = 1.0*np.sum(targets_in_bucket)/n_b\n",
        "    nbs.append(n_b)\n",
        "    fbs.append(f_b)\n",
        "    tbs.append(t_b)\n",
        "    calibration_err += n_b*(f_b-t_b)**2\n",
        "  calibration_err /= len(forecasts)\n",
        "  return np.array(nbs), np.array(fbs), np.array(tbs), calibration_err, l2_loss\n",
        "  \n",
        "\n",
        "def plot_calibration_curve(forecasts, targets, nbuckets):\n",
        "  nbs, fbs, tbs, calibration_err, l2_loss = eval_forecasts(forecasts, targets, nbuckets, qtiles=True)\n",
        "  print(\"Total number of examples\", len(forecasts))\n",
        "  print(\"Total Calibration Error\", calibration_err)\n",
        "  print(\"Total Sharpness\", np.var(tbs))\n",
        "  print(\"Total Target variance\", np.var(targets))\n",
        "  print(\"Total L2 loss (Target variance + Calibration error - Sharpness)\", l2_loss)\n",
        "  print(\"Total Accuracy\", np.average(targets))\n",
        "  fig, ax = plt.subplots(1, 1, sharex=True, figsize=(6,6))\n",
        "  ax.set_xticks(2*np.arange(nbuckets/2))\n",
        "  ax.set_xlabel('Qtiles')\n",
        "  ax.plot(fbs, label='Avg predicted confidence')\n",
        "  ax.plot(tbs, label='Avg empirical accuracy')\n",
        "  ax.legend(loc=4)\n",
        "  ax.legend()"
      ],
      "execution_count": 0,
      "outputs": []
    },
    {
      "cell_type": "code",
      "metadata": {
        "id": "rEVkvNIeNu8N",
        "colab_type": "code",
        "outputId": "bc433a0e-9b8e-44e2-f869-5fcdd277dc65",
        "colab": {
          "base_uri": "https://localhost:8080/",
          "height": 494
        }
      },
      "source": [
        "# Train calibration plot\n",
        "plot_calibration_curve(\n",
        "  forecasts = np.max(train_predictions_all, axis=1),\n",
        "  targets = np.equal(np.argmax(train_predictions_all, axis=1), np.argmax(y_train, axis=1)),\n",
        "  nbuckets=20)\n"
      ],
      "execution_count": 0,
      "outputs": [
        {
          "output_type": "stream",
          "text": [
            "('Total number of examples', 8156)\n",
            "('Total Calibration Error', 0.0034875961304768315)\n",
            "('Total Sharpness', 0.0017741223327566325)\n",
            "('Total Target variance', 0.011751639378369948)\n",
            "('Total L2 loss (Target variance + Calibration error - Sharpness)', 0.012826339)\n",
            "('Total Accuracy', 0.9881069151544875)\n"
          ],
          "name": "stdout"
        },
        {
          "output_type": "display_data",
          "data": {
            "image/png": "[encoded data removed]",
            "text/plain": [
              "<Figure size 432x432 with 1 Axes>"
            ]
          },
          "metadata": {
            "tags": []
          }
        }
      ]
    },
    {
      "cell_type": "code",
      "metadata": {
        "id": "1LKLXkbCMsmb",
        "colab_type": "code",
        "outputId": "63ba3754-44cf-45ff-8059-f56977d1ef8a",
        "colab": {
          "base_uri": "https://localhost:8080/",
          "height": 494
        }
      },
      "source": [
        "# Validation calibration plot\n",
        "plot_calibration_curve(\n",
        "  forecasts = np.max(validation_predictions_all, axis=1),\n",
        "  targets = np.equal(np.argmax(validation_predictions_all, axis=1), np.argmax(y_validation, axis=1)),\n",
        "  nbuckets=20)\n"
      ],
      "execution_count": 0,
      "outputs": [
        {
          "output_type": "stream",
          "text": [
            "('Total number of examples', 1440)\n",
            "('Total Calibration Error', 0.028503322725782394)\n",
            "('Total Sharpness', 0.016009761143040646)\n",
            "('Total Target variance', 0.20061728395061731)\n",
            "('Total L2 loss (Target variance + Calibration error - Sharpness)', 0.21338208)\n",
            "('Total Accuracy', 0.7222222222222222)\n"
          ],
          "name": "stdout"
        },
        {
          "output_type": "display_data",
          "data": {
            "image/png": "[encoded data removed]",
            "text/plain": [
              "<Figure size 432x432 with 1 Axes>"
            ]
          },
          "metadata": {
            "tags": []
          }
        }
      ]
    },
    {
      "cell_type": "markdown",
      "metadata": {
        "id": "i_uhUyYiBlL7",
        "colab_type": "text"
      },
      "source": [
        "## Extracting Invariant Candidates"
      ]
    },
    {
      "cell_type": "markdown",
      "metadata": {
        "id": "1fcVM2dek4Qo",
        "colab_type": "text"
      },
      "source": [
        "### Build the Decision Tree"
      ]
    },
    {
      "cell_type": "code",
      "metadata": {
        "id": "MQKg3QXfZ5mj",
        "colab_type": "code",
        "colab": {}
      },
      "source": [
        "def eval_estimator(estimator, suffixes, orig_model_predictions, gt_predictions):\n",
        "  estimator_predictions = estimator.predict(suffixes)\n",
        "  acc = (estimator_predictions == gt_predictions)\n",
        "  agreement = (estimator_predictions == orig_model_predictions)\n",
        "  print \"Estimator accuracy\", 1.0*np.sum(acc)/len(suffixes)\n",
        "  print \"Estimator agreement\", 1.0*np.sum(agreement)/len(suffixes)"
      ],
      "execution_count": 0,
      "outputs": []
    },
    {
      "cell_type": "code",
      "metadata": {
        "id": "c_0fvX3aAWHN",
        "colab_type": "code",
        "outputId": "e0aa1e58-a657-41cc-f4c3-a926af3d7b86",
        "colab": {
          "base_uri": "https://localhost:8080/",
          "height": 154
        }
      },
      "source": [
        "# Basic decision tree\n",
        "print \"Num training examples\", len(x_train)\n",
        "print \"Size of each suffix\", len(train_suffixes[0])\n",
        "\n",
        "basic_estimator = tree.DecisionTreeClassifier()\n",
        "basic_estimator = basic_estimator.fit(train_suffixes, train_predictions,)\n",
        "print (\"Training evaluation\")\n",
        "eval_estimator(basic_estimator, train_suffixes, train_predictions, np.argmax(y_train, axis=1))\n",
        "print (\"Validation evaluation\")\n",
        "eval_estimator(basic_estimator, validation_suffixes, validation_predictions, np.argmax(y_validation, axis=1))"
      ],
      "execution_count": 0,
      "outputs": [
        {
          "output_type": "stream",
          "text": [
            "Num training examples 8156\n",
            "Size of each suffix 192\n",
            "Training evaluation\n",
            "Estimator accuracy 0.852623835213\n",
            "Estimator agreement 0.861329082884\n",
            "Validation evaluation\n",
            "Estimator accuracy 0.621527777778\n",
            "Estimator agreement 0.745138888889\n"
          ],
          "name": "stdout"
        }
      ]
    },
    {
      "cell_type": "code",
      "metadata": {
        "id": "rkvj66ZvX3B9",
        "colab_type": "code",
        "outputId": "36d62fe7-3627-43b1-ea5d-69e902891263",
        "colab": {
          "base_uri": "https://localhost:8080/",
          "height": 51
        }
      },
      "source": [
        "# Fine-grained predictions decision tree\n",
        "fine_grained_predictions = 10*np.argmax(y_train, axis=1) + train_predictions\n",
        "if 10 in fine_grained_predictions or 1 in fine_grained_predictions:\n",
        "  print 'Misclassified in training data' \n",
        "else:\n",
        "  print 'No misclassified in training data'\n",
        "fine_grained_estimator = tree.DecisionTreeClassifier()\n",
        "fine_grained_estimator = fine_grained_estimator.fit(train_suffixes, fine_grained_predictions)\n",
        "print fine_grained_predictions"
      ],
      "execution_count": 0,
      "outputs": [
        {
          "output_type": "stream",
          "text": [
            "No misclassified in training data\n",
            "[ 0  0  0 ... 11 11  0]\n"
          ],
          "name": "stdout"
        }
      ]
    },
    {
      "cell_type": "markdown",
      "metadata": {
        "id": "yK1Pr1agnsoi",
        "colab_type": "text"
      },
      "source": [
        "### Examine clusters/invariants"
      ]
    },
    {
      "cell_type": "code",
      "metadata": {
        "id": "ZbOQkQU0zBz6",
        "colab_type": "code",
        "colab": {}
      },
      "source": [
        "def describe_input(i, training=True):\n",
        "  #print \"Input:\", x_train[i]\n",
        "  print \"Input in words:\", x_text_train[i]\n",
        "  print \"Groundtruth:\", np.argmax(y_train,axis=1)[i]\n",
        "  print \"Prediction:\", train_predictions[i]\n",
        "  print \"Fine-grained prediction\", 10*np.argmax(y_train, axis=1)[i] + train_predictions[i]\n",
        "  #show_mnist_img(mnist.train.images[i])\n",
        "  \n",
        "def get_decision_path(estimator, inp):\n",
        "  # Extract the decision path taken by an input as an ordered list of indices\n",
        "  # of the neurons that were evaluated.\n",
        "  # See: http://scikit-learn.org/stable/auto_examples/tree/plot_unveil_tree_structure.html\n",
        "  n_nodes = estimator.tree_.node_count\n",
        "  feature = estimator.tree_.feature\n",
        "\n",
        "  # First let's retrieve the decision path of each sample. The decision_path\n",
        "  # method allows to retrieve the node indicator functions. A non zero element of\n",
        "  # indicator matrix at the position (i, j) indicates that the sample i goes\n",
        "  # through the node j.\n",
        "  X_test = [inp]\n",
        "  node_indicator = estimator.decision_path(X_test)\n",
        "  # Similarly, we can also have the leaves ids reached by each sample.\n",
        "  leaf_id = estimator.apply(X_test)\n",
        "  # Now, it's possible to get the tests that were used to predict a sample or\n",
        "  # a group of samples. First, let's make it for the sample.\n",
        "  node_index = node_indicator.indices[node_indicator.indptr[0]:\n",
        "                                      node_indicator.indptr[1]]\n",
        "  neuron_ids = []\n",
        "  for node_id in node_index:\n",
        "    if leaf_id[0] == node_id:\n",
        "        continue\n",
        "    neuron_ids.append(feature[node_id])\n",
        "  return neuron_ids\n",
        "\n",
        "def get_suffix_cluster(neuron_ids, neuron_sig):\n",
        "  # Get the cluster of inputs that such that all inputs in the cluster\n",
        "  # have provided on/off signature for the provided neurons.\n",
        "  #\n",
        "  # The returned cluster is an array of indices (into mnist.train.images).\n",
        "  return np.where((train_suffixes[:, neuron_ids] == neuron_sig).all(axis=1))[0]\n",
        "\n",
        "def is_consistent_cluster(cluster, predictions):\n",
        "  # Check if all inputs within the cluster have the same prediction.\n",
        "  # 'cluster' is an array of input ids.\n",
        "  pred = predictions[cluster[0]]\n",
        "  for i in cluster:\n",
        "    if predictions[i] != pred:\n",
        "      return False\n",
        "  return True\n",
        "\n",
        "def is_misclassified(i):\n",
        "  return train_predictions[i] != np.argmax(y_train,axis=1)[i]\n",
        "\n",
        "def get_invariant(estimator, ref_id):\n",
        "  # Returns an invariant found w.r.t. the provided reference input\n",
        "  # Args\n",
        "  #  - ref_id: Index (into mnist.train.images) of the reference input\n",
        "  # Returns:\n",
        "  #  - cluster: Indices of training inputs that satisfy the invariant\n",
        "  #  - neuron_id: A list of neurons such that all inputs that agree with\n",
        "  #    the reference input on the on/off status of these neurons have the\n",
        "  #    same prediction as the reference input.\n",
        "  ref_img = x_train[ref_id]\n",
        "  ref_suffix = train_suffixes[ref_id]\n",
        "  neuron_ids = get_decision_path(estimator, ref_suffix)\n",
        "  neuron_sig = ref_suffix[neuron_ids]\n",
        "  cluster = get_suffix_cluster(neuron_ids, neuron_sig)\n",
        "  return cluster, neuron_ids, neuron_sig\n",
        "\n",
        "def get_all_invariants(estimator):\n",
        "  # Returns a dictionary mapping each decision tree prediction class\n",
        "  # to a list of invariants. Each invariant is specified as a triple:\n",
        "  # - neuron ids\n",
        "  # - neuron signature (for the neuron ids)\n",
        "  # - number of training samples that hit it\n",
        "  # The neuron ids and neuron signature can be supplied to get_suffix_cluster\n",
        "  # to obtain the cluster of training instances that hit the invariant.\n",
        "  def is_leaf(node):\n",
        "    return estimator.tree_.children_left[node] == estimator.tree_.children_right[node]\n",
        "\n",
        "  def left_child(node):\n",
        "    return estimator.tree_.children_left[node]\n",
        "\n",
        "  def right_child(node):\n",
        "    return estimator.tree_.children_right[node]\n",
        "  \n",
        "  def get_all_paths_rec(node):\n",
        "    # Returns a list of triples corresponding to paths\n",
        "    # in the decision tree. Each triple consists of\n",
        "    # - neurons encountered along the path\n",
        "    # - signature along the path\n",
        "    # - prediction class at the leaf\n",
        "    # - number of training samples that hit the path\n",
        "    # The prediction class and number of training samples\n",
        "    # are set to -1 when the leaf is \"impure\".\n",
        "    feature = estimator.tree_.feature\n",
        "    if is_leaf(node):\n",
        "      values = estimator.tree_.value[node][0]\n",
        "      if len(np.where(values != 0)[0]) == 1:\n",
        "        cl = estimator.classes_[np.where(values != 0)[0][0]]\n",
        "        nsamples = estimator.tree_.n_node_samples[node]\n",
        "      else:\n",
        "        # impure node\n",
        "        cl = -1\n",
        "        nsamples = -1\n",
        "      return [[[], [], cl, nsamples]]\n",
        "    # If it is not a leaf both left and right childs must exist\n",
        "    paths = [[[feature[node]] + p[0], [0] + p[1], p[2], p[3]] for p in get_all_paths_rec(left_child(node))]\n",
        "    paths += [[[feature[node]] + p[0], [1] + p[1], p[2], p[3]] for p in get_all_paths_rec(right_child(node))]\n",
        "    return paths\n",
        "  paths =  get_all_paths_rec(0)\n",
        "  print \"Obtained all paths\"\n",
        "  invariants = {}\n",
        "  for p in tqdm(paths):\n",
        "    neuron_ids, neuron_sig, cl, nsamples = p\n",
        "    if cl not in invariants:\n",
        "      invariants[cl] = []\n",
        "    # cluster = get_suffix_cluster(neuron_ids, neuron_sig)\n",
        "    invariants[cl].append([neuron_ids, neuron_sig, nsamples])\n",
        "  for cl in invariants.keys():\n",
        "    invariants[cl] = sorted(invariants[cl], key=operator.itemgetter(2), reverse=True)\n",
        "  return invariants\n",
        "\n",
        "def describe_cluster(cluster, neuron_ids):\n",
        "  neuron_sig = train_suffixes[cluster[0]][neuron_ids]\n",
        "  print \"Num neurons in invariant\", len(neuron_ids)\n",
        "  print \"Neuron id and signature\", zip(neuron_ids, neuron_sig)\n",
        "  print \"Cluster size: \", len(cluster)\n",
        "  print \"Num misclassified\", len([i for i in cluster if is_misclassified(i)])\n",
        "\n",
        "def describe_all_invariants(all_invariants):\n",
        "  df = []\n",
        "  for cl, invs in all_invariants.iteritems():\n",
        "    # Note the number of invariants, and size of the largest invariant cluster\n",
        "    df.append([cl, sum([inv[2] for inv in invs]), len(invs), len([inv for inv in invs if inv[2]>=10]), invs[0][2]])\n",
        "  df = pd.DataFrame(df, columns=['Prediction Class', 'Num Instances', 'Num Invariants', 'Num Invariants with cluster size >= 10', 'Size of largest invariant cluster'])\n",
        "  return df\n",
        "\n",
        "import operator\n",
        "def get_invariants_with_confidence(estimator, suffixes, orig_model_predictions, gt_predictions):\n",
        "  # Return a map from leaf nodes to the corresponding accuracy of the inputs (from suffixes) hitting the leaf.\n",
        "  leaf_nodes = estimator.apply(suffixes)\n",
        "  estimator_predictions = estimator.predict(suffixes)\n",
        "  invs = {}\n",
        "  # We refer to each invariant by corresponding leaf node id.\n",
        "  for i, l in enumerate(leaf_nodes):\n",
        "    if l not in invs:\n",
        "      invs[l] = []\n",
        "    invs[l].append(i)\n",
        "  invs_with_confidence = {l: [len(inv), np.sum(estimator_predictions[inv] == gt_predictions[inv])] for l, inv in invs.iteritems()}\n",
        "  return invs_with_confidence\n"
      ],
      "execution_count": 0,
      "outputs": []
    },
    {
      "cell_type": "code",
      "metadata": {
        "id": "KOUniL-T5-Sa",
        "colab_type": "code",
        "outputId": "1ca997cf-db36-481f-bfc8-dcd424fc0463",
        "colab": {
          "base_uri": "https://localhost:8080/",
          "height": 188
        }
      },
      "source": [
        "# Examine cluster/invariants containing a given reference input\n",
        "# ref_id is the index of the reference input\n",
        "ref_id =  0\n",
        "print \"### Reference Sentence ###\"\n",
        "describe_input(ref_id)\n",
        "#TODO Convert reference sentence back to words\n",
        "print \"### Cluster ###\"\n",
        "cluster, neuron_ids, neuron_sig = get_invariant(basic_estimator, ref_id)\n",
        "describe_cluster(cluster, neuron_ids)\n",
        "\n"
      ],
      "execution_count": 0,
      "outputs": [
        {
          "output_type": "stream",
          "text": [
            "### Reference Sentence ###\n",
            "Input in words: demands too much of most viewers\n",
            "Groundtruth: 0\n",
            "Prediction: 0\n",
            "Fine-grained prediction 0\n",
            "### Cluster ###\n",
            "Num neurons in invariant 5\n",
            "Neuron id and signature [(160, 0), (96, 0), (114, 1), (164, 0), (32, 1)]\n",
            "Cluster size:  48\n",
            "Num misclassified 0\n"
          ],
          "name": "stdout"
        }
      ]
    },
    {
      "cell_type": "code",
      "metadata": {
        "id": "GLuhgUJfVJ1T",
        "colab_type": "code",
        "outputId": "cc3abce8-5017-4ace-f8a6-3209e7272ecd",
        "colab": {
          "base_uri": "https://localhost:8080/",
          "height": 154
        }
      },
      "source": [
        "# Get all invariants\n",
        "be_all_invariants = get_all_invariants(basic_estimator)\n",
        "#fge_all_invariants = get_all_invariants(fine_grained_estimator)\n",
        "# Print invariant stats\n",
        "df = describe_all_invariants(be_all_invariants)\n",
        "print \"Total num invariants:\", df['Num Invariants'].sum()\n",
        "print \"Total num invariants with cluster size >= 10:\", df['Num Invariants with cluster size >= 10'].sum()\n",
        "print df.to_string(index=False)\n"
      ],
      "execution_count": 0,
      "outputs": [
        {
          "output_type": "stream",
          "text": [
            "100%|██████████| 835/835 [00:00<00:00, 275745.52it/s]"
          ],
          "name": "stderr"
        },
        {
          "output_type": "stream",
          "text": [
            "Obtained all paths\n",
            "Total num invariants: 835\n",
            "Total num invariants with cluster size >= 10: 87\n",
            " Prediction Class  Num Instances  Num Invariants  Num Invariants with cluster size >= 10  Size of largest invariant cluster\n",
            " 0                 2080           352             44                                      206                              \n",
            " 1                 2515           432             43                                      444                              \n",
            "-1                -51             51              0                                      -1                                \n"
          ],
          "name": "stdout"
        },
        {
          "output_type": "stream",
          "text": [
            "\n"
          ],
          "name": "stderr"
        }
      ]
    },
    {
      "cell_type": "code",
      "metadata": {
        "id": "-9qdAPsH7m5s",
        "colab_type": "code",
        "colab": {}
      },
      "source": [
        "invs_with_confidence_validation = get_invariants_with_confidence(basic_estimator, validation_suffixes, validation_predictions, np.argmax(y_validation, axis=1))\n",
        "invs_with_confidence_train = get_invariants_with_confidence(basic_estimator, train_suffixes, train_predictions, np.argmax(y_train, axis=1))"
      ],
      "execution_count": 0,
      "outputs": []
    },
    {
      "cell_type": "markdown",
      "metadata": {
        "id": "WL7Cfau09Pgq",
        "colab_type": "text"
      },
      "source": [
        "## Confidence Analysis"
      ]
    },
    {
      "cell_type": "code",
      "metadata": {
        "id": "qrqSuBt7eQIV",
        "colab_type": "code",
        "colab": {}
      },
      "source": [
        "def get_confidence_scores(estimator, suffixes, invs_with_confidence):\n",
        "  # invs_with_confidence is a map from all nodes in the tree to the corresponding\n",
        "  # accuracy based on valiation inputs that visit the leaf node\n",
        "  leaf_nodes = estimator.apply(suffixes)\n",
        "  conf_scores = []\n",
        "  for  \n",
        "  return invs_with_confidence[leaf_nodes]"
      ],
      "execution_count": 0,
      "outputs": []
    },
    {
      "cell_type": "code",
      "metadata": {
        "id": "Uo-A9s7PZP2d",
        "colab_type": "code",
        "colab": {}
      },
      "source": [
        "def plot_bars(ax, bar_vals, bar_names, ptiles, baseline_val=None, baseline_label=None, width=0.2):\n",
        "  ax.set_ylabel(\"Accuracy\")\n",
        "  ax.set_xlabel(\"Proportion of Examples\")\n",
        "  #ax.set_ylim((min([min(b) for b in bar_vals])-0.05, 1.1))\n",
        "  # ax.set_title(title)\n",
        "  # TODO: why 'plt' below and not 'ax'?\n",
        "  ind = np.arange(len(ptiles))\n",
        "  ax.set_xticks(ind)\n",
        "  ax.set_xticklabels([\"%d%%\"%(100-ptile) for ptile in ptiles])\n",
        "  if baseline_val != None:\n",
        "    ax.axhline(y=baseline_val, color='b', linestyle='-', label=baseline_label)\n",
        "  \n",
        "  colors = ['red', 'blue', 'yellow', 'green']\n",
        "  bars = []\n",
        "  for i, b in enumerate(bar_vals):\n",
        "    assert len(b) == len(ptiles)\n",
        "    bars.append(ax.bar(ind+i*width, b, width=width, color=colors[i]))\n",
        "  ax.legend(bars, bar_names)"
      ],
      "execution_count": 0,
      "outputs": []
    },
    {
      "cell_type": "code",
      "metadata": {
        "id": "B7QN-gDjZZ8C",
        "colab_type": "code",
        "outputId": "e0054973-0743-42e9-d32a-da4ecbc4b343",
        "colab": {
          "base_uri": "https://localhost:8080/",
          "height": 319
        }
      },
      "source": [
        "import matplotlib.pyplot as plt\n",
        "\n",
        "def show_confidence_plot(conf_scores, conf_score_names, orig_model_predictions, gt_predictions, ptiles):\n",
        "  def get_acc_trend(score, ptiles):\n",
        "    acc_trend = []\n",
        "    for ptile in ptiles:\n",
        "      above_ptile = (score >= np.percentile(score, ptile))\n",
        "      acc_trend.append(1.0*np.sum(orig_correct*above_ptile)/np.sum(above_ptile))\n",
        "    return acc_trend   \n",
        "  orig_correct = (orig_model_predictions == gt_predictions)\n",
        "  acc_trends = []\n",
        "  for score in conf_scores:\n",
        "    acc_trends.append(get_acc_trend(score, ptiles))\n",
        "  fig, ax = plt.subplots(1, 1, sharey=True, figsize=(10,7))\n",
        "  plot_bars(\n",
        "      ax,\n",
        "      acc_trends,\n",
        "      conf_score_names,\n",
        "      ptiles,\n",
        "  )\n",
        "  plt.show(fig)\n",
        "\n",
        "\n",
        "conf_score = get_confidence_scores(basic_estimator, test_suffixes, invs_with_confidence_validation)\n",
        "#conf_score = get_basic_estimator_confidence(basic_estimator_flatten, validation_suffixes)\n",
        "#conf_score_dense1 = get_basic_estimator_confidence(basic_estimator_dense1, test_suffixes_dense1)\n",
        "#conf_score_dense2 = get_basic_estimator_confidence(basic_estimator_dense2, test_suffixes_dense2)\n",
        "prediction_score = test_predictions_all.max(axis=1)"
      ],
      "execution_count": 0,
      "outputs": [
        {
          "output_type": "error",
          "ename": "TypeError",
          "evalue": "ignored",
          "traceback": [
            "\u001b[0;31m\u001b[0m",
            "\u001b[0;31mTypeError\u001b[0mTraceback (most recent call last)",
            "\u001b[0;32m<ipython-input-71-a99ff8fb2187>\u001b[0m in \u001b[0;36m<module>\u001b[0;34m()\u001b[0m\n\u001b[1;32m     22\u001b[0m \u001b[0;34m\u001b[0m\u001b[0m\n\u001b[1;32m     23\u001b[0m \u001b[0;34m\u001b[0m\u001b[0m\n\u001b[0;32m---> 24\u001b[0;31m \u001b[0mconf_score\u001b[0m \u001b[0;34m=\u001b[0m \u001b[0mget_confidence_scores\u001b[0m\u001b[0;34m(\u001b[0m\u001b[0mbasic_estimator\u001b[0m\u001b[0;34m,\u001b[0m \u001b[0mtest_suffixes\u001b[0m\u001b[0;34m,\u001b[0m \u001b[0minvs_with_confidence_validation\u001b[0m\u001b[0;34m)\u001b[0m\u001b[0;34m\u001b[0m\u001b[0m\n\u001b[0m\u001b[1;32m     25\u001b[0m \u001b[0;31m#conf_score = get_basic_estimator_confidence(basic_estimator_flatten, validation_suffixes)\u001b[0m\u001b[0;34m\u001b[0m\u001b[0;34m\u001b[0m\u001b[0m\n\u001b[1;32m     26\u001b[0m \u001b[0;31m#conf_score_dense1 = get_basic_estimator_confidence(basic_estimator_dense1, test_suffixes_dense1)\u001b[0m\u001b[0;34m\u001b[0m\u001b[0;34m\u001b[0m\u001b[0m\n",
            "\u001b[0;32m<ipython-input-69-e846ecae2158>\u001b[0m in \u001b[0;36mget_confidence_scores\u001b[0;34m(estimator, suffixes, invs_with_confidence)\u001b[0m\n\u001b[1;32m      3\u001b[0m   \u001b[0;31m# accuracy based on valiation inputs that visit the leaf node\u001b[0m\u001b[0;34m\u001b[0m\u001b[0;34m\u001b[0m\u001b[0m\n\u001b[1;32m      4\u001b[0m   \u001b[0mleaf_nodes\u001b[0m \u001b[0;34m=\u001b[0m \u001b[0mestimator\u001b[0m\u001b[0;34m.\u001b[0m\u001b[0mapply\u001b[0m\u001b[0;34m(\u001b[0m\u001b[0msuffixes\u001b[0m\u001b[0;34m)\u001b[0m\u001b[0;34m\u001b[0m\u001b[0m\n\u001b[0;32m----> 5\u001b[0;31m   \u001b[0;32mreturn\u001b[0m \u001b[0minvs_with_confidence\u001b[0m\u001b[0;34m[\u001b[0m\u001b[0mleaf_nodes\u001b[0m\u001b[0;34m]\u001b[0m\u001b[0;34m\u001b[0m\u001b[0m\n\u001b[0m",
            "\u001b[0;31mTypeError\u001b[0m: unhashable type: 'numpy.ndarray'"
          ]
        }
      ]
    },
    {
      "cell_type": "code",
      "metadata": {
        "id": "Ja3jc6xUiK56",
        "colab_type": "code",
        "outputId": "ea81199b-de11-4838-e785-f4b737c0ac14",
        "colab": {
          "base_uri": "https://localhost:8080/",
          "height": 51
        }
      },
      "source": [
        "conf_scores"
      ],
      "execution_count": 0,
      "outputs": [
        {
          "output_type": "execute_result",
          "data": {
            "text/plain": [
              "array([0.92857143, 0.        , 0.5210356 , ..., 0.        , 0.        ,\n",
              "       0.        ])"
            ]
          },
          "metadata": {
            "tags": []
          },
          "execution_count": 69
        }
      ]
    },
    {
      "cell_type": "code",
      "metadata": {
        "id": "N6eQ8UXbghJg",
        "colab_type": "code",
        "outputId": "3353dc05-22c2-492e-d662-fbc829746ae8",
        "colab": {
          "base_uri": "https://localhost:8080/",
          "height": 446
        }
      },
      "source": [
        "show_confidence_plot(\n",
        "  [conf_score, prediction_score],\n",
        "  ['Confidence', 'Prediction probability'],\n",
        "  test_predictions,\n",
        "  np.argmax(y_test, axis=1),\n",
        "  10*np.arange(10))"
      ],
      "execution_count": 0,
      "outputs": [
        {
          "output_type": "display_data",
          "data": {
            "image/png": "[encoded data removed]",
            "text/plain": [
              "<Figure size 720x504 with 1 Axes>"
            ]
          },
          "metadata": {
            "tags": []
          }
        }
      ]
    },
    {
      "cell_type": "markdown",
      "metadata": {
        "id": "XKorb0vUdfw-",
        "colab_type": "text"
      },
      "source": [
        "### Examine all invariants"
      ]
    },
    {
      "cell_type": "code",
      "metadata": {
        "id": "gajxmUUgPNNv",
        "colab_type": "code",
        "outputId": "6ff6058a-0401-4f43-a4d3-9092beac46bb",
        "colab": {
          "base_uri": "https://localhost:8080/",
          "height": 123
        }
      },
      "source": [
        "neuron_ids, neuron_sig, csize = be_all_invariants[0][1]\n",
        "print csize\n",
        "print neuron_ids, neuron_sig\n",
        "cluster = get_suffix_cluster(neuron_ids, neuron_sig)\n",
        "describe_cluster(cluster, neuron_ids)\n",
        "#exp_neuron_ids = [i for i, x in enumerate(np.sum(train_suffixes[cluster], axis=0)) if x == len(cluster) or x == 0]\n",
        "#exp_neuron_sig = [1 if x == len(cluster) else 0 for i, 5x in enumerate(np.sum(train_suffixes[cluster], axis=0)) if x == len(cluster) or x == 0]\n",
        "#print exp_neuron_ids\n",
        "#print exp_neuron_sig"
      ],
      "execution_count": 0,
      "outputs": [
        {
          "output_type": "stream",
          "text": [
            "117\n",
            "[145, 128, 28, 133, 168, 97, 138, 155, 33, 51, 92] [1, 1, 1, 1, 1, 1, 0, 1, 1, 1, 1]\n",
            "Num neurons in invariant 11\n",
            "Neuron id and signature [(145, 1), (128, 1), (28, 1), (133, 1), (168, 1), (97, 1), (138, 0), (155, 1), (33, 1), (51, 1), (92, 1)]\n",
            "Cluster size:  117\n",
            "Num misclassified 1\n"
          ],
          "name": "stdout"
        }
      ]
    },
    {
      "cell_type": "code",
      "metadata": {
        "id": "FJNRJRat4wCl",
        "colab_type": "code",
        "colab": {}
      },
      "source": [
        "def get_cluster_terms(neuron_ids, neuron_sig, label):\n",
        "  cluster = get_suffix_cluster(neuron_ids, neuron_sig)\n",
        "  cluster_terms = []\n",
        "  for cid in cluster[:100]:\n",
        "    inp = x_train[cid]\n",
        "    #print x_text_train[cid]\n",
        "    inp_terms = get_tokens(inp)\n",
        "    terms = []\n",
        "    for i, nid in enumerate(neuron_ids):\n",
        "      if neuron_sig[i] == 0:\n",
        "        # Ignore off neurons\n",
        "        continue\n",
        "      attrs = np.sum(conductance(inp, label, neuron_id=nid), axis=1)\n",
        "      terms.append(inp_terms[np.argmax(np.abs(attrs))])\n",
        "    #print set(terms)\n",
        "    cluster_terms.append(set(terms)) # unique the set of important terms for one input\n",
        "  return cluster_terms\n",
        "\n",
        "def get_top_terms(cluster_terms, top_k=10):\n",
        "  cluster_terms_flat = []\n",
        "  for t in cluster_terms:\n",
        "    cluster_terms_flat += t\n",
        "  unique_terms, counts = np.unique(cluster_terms_flat, return_counts=True)\n",
        "  return sorted(zip(unique_terms, counts), key=lambda x: x[1], reverse=True)[:top_k]"
      ],
      "execution_count": 0,
      "outputs": []
    },
    {
      "cell_type": "code",
      "metadata": {
        "id": "ZdMGq2dz_csZ",
        "colab_type": "code",
        "outputId": "f4099618-54e9-444f-b815-158de70471d8",
        "colab": {
          "base_uri": "https://localhost:8080/",
          "height": 892
        }
      },
      "source": [
        "for label, invariants in be_all_invariants.iteritems():\n",
        "  if label == -1:\n",
        "    continue\n",
        "  print \"Label\", label\n",
        "  for neuron_ids, neuron_sig, csize in invariants:\n",
        "    if csize < 100:\n",
        "      continue\n",
        "    cluster = get_suffix_cluster(neuron_ids, neuron_sig)\n",
        "    print \"Cluster size\", csize\n",
        "    print np.average(train_predictions_all[cluster,:], axis=0)\n",
        "    print \"\""
      ],
      "execution_count": 0,
      "outputs": [
        {
          "output_type": "stream",
          "text": [
            "Label 0\n",
            "Cluster size 1633\n",
            "[ 51.250584 -49.115444]\n",
            "\n",
            "Cluster size 674\n",
            "[ 52.25189 -48.74094]\n",
            "\n",
            "Cluster size 202\n",
            "[ 51.993885 -47.60359 ]\n",
            "\n",
            "Cluster size 200\n",
            "[ 29.308498 -28.7283  ]\n",
            "\n",
            "Cluster size 191\n",
            "[ 33.39221  -32.888866]\n",
            "\n",
            "Cluster size 152\n",
            "[ 24.131413 -23.90809 ]\n",
            "\n",
            "Cluster size 125\n",
            "[ 55.23593  -50.367485]\n",
            "\n",
            "Cluster size 122\n",
            "[ 28.208082 -28.211946]\n",
            "\n",
            "Cluster size 113\n",
            "[ 21.779911 -21.95055 ]\n",
            "\n",
            "Cluster size 112\n",
            "[ 35.54445 -34.27198]\n",
            "\n",
            "Label 1\n",
            "Cluster size 1773\n",
            "[-40.143703  44.34813 ]\n",
            "\n",
            "Cluster size 924\n",
            "[-39.821163  45.094048]\n",
            "\n",
            "Cluster size 254\n",
            "[-35.75834   41.171795]\n",
            "\n",
            "Cluster size 215\n",
            "[-18.033909  19.225588]\n",
            "\n",
            "Cluster size 175\n",
            "[-21.267319  22.674997]\n",
            "\n",
            "Cluster size 116\n",
            "[-17.60919   19.406355]\n",
            "\n"
          ],
          "name": "stdout"
        }
      ]
    },
    {
      "cell_type": "code",
      "metadata": {
        "id": "RX4PiCEEz1zO",
        "colab_type": "code",
        "outputId": "f0c9d4ff-2f42-4913-ff7b-374b75f6434e",
        "colab": {
          "base_uri": "https://localhost:8080/",
          "height": 597
        }
      },
      "source": [
        "label = 0\n",
        "for label, invariants in be_all_invariants.iteritems():\n",
        "  if label == -1:\n",
        "    continue\n",
        "  print \"Label\", label\n",
        "  for neuron_ids, neuron_sig, csize in invariants[:5]:\n",
        "    cluster_terms = get_cluster_terms(neuron_ids, neuron_sig, label)\n",
        "    print \"Cluster size\", csize\n",
        "    print get_top_terms(cluster_terms)\n",
        "    print \"\""
      ],
      "execution_count": 0,
      "outputs": [
        {
          "output_type": "stream",
          "text": [
            "Label 0\n",
            "Cluster size 1633\n",
            "[(u'is', 4), (u'two', 4), (u'bad', 3), (u'every', 3), (u'feels', 3), (u'the', 3), (u'truly', 3), (u'clich', 2), (u'designed', 2), (u'did', 2)]\n",
            "\n",
            "Cluster size 674\n",
            "[(u'the', 9), (u'one', 7), (u'so', 4), (u'a', 3), (u'bad', 3), (u'benigni', 3), (u'flat', 3), (u'it', 3), (u'mediocre', 3), (u'movie', 3)]\n",
            "\n",
            "Cluster size 202\n",
            "[(u'of', 6), (u'the', 6), (u'it', 5), (u'a', 4), (u'an', 3), (u'dull', 3), (u'fails', 3), (u'funny', 3), (u'bad', 2), (u'bang', 2)]\n",
            "\n",
            "Cluster size 200\n",
            "[(u'bad', 5), (u'no', 5), (u'not', 4), (u'too', 4), (u'is', 3), (u'predictable', 3), (u'tedious', 3), (u'worst', 3), (u'director', 2), (u'gets', 2)]\n",
            "\n",
            "Cluster size 191\n",
            "[(u'is', 12), (u'too', 7), (u\"n't\", 6), (u'it', 5), (u'by', 4), (u'for', 4), (u'this', 4), (u'looking', 3), (u'me', 3), (u'seems', 3)]\n",
            "\n",
            "Label 1\n",
            "Cluster size 1773\n",
            "[(u'and', 9), (u'its', 5), (u'culture', 4), (u'heart', 4), (u'of', 4), (u'way', 4), (u'chilling', 3), (u'deeply', 3), (u'funny', 3), (u'life', 3)]\n",
            "\n",
            "Cluster size 924\n",
            "[(u'with', 8), (u'will', 5), (u\"'s\", 4), (u'entertaining', 4), (u'good', 4), (u'b', 3), (u'beautiful', 3), (u'film', 3), (u'is', 3), (u'powerful', 3)]\n",
            "\n",
            "Cluster size 254\n",
            "[(u'with', 9), (u'the', 6), (u'a', 4), (u'in', 4), (u'our', 4), (u'powerful', 4), (u'there', 4), (u'warm', 4), (u'an', 3), (u'cartoon', 3)]\n",
            "\n",
            "Cluster size 215\n",
            "[(u'heart', 4), (u'movie', 4), (u'documentary', 3), (u'best', 2), (u'detail', 2), (u'entertaining', 2), (u'fascinating', 2), (u'hayek', 2), (u'history', 2), (u'of', 2)]\n",
            "\n",
            "Cluster size 175\n",
            "[(u'good', 3), (u'of', 3), (u'piece', 3), (u'sweet', 3), (u'the', 3), (u'a', 2), (u'effects', 2), (u'fun', 2), (u'funny', 2), (u'psychologically', 2)]\n",
            "\n"
          ],
          "name": "stdout"
        }
      ]
    },
    {
      "cell_type": "code",
      "metadata": {
        "id": "Vdt0gnWSuTXK",
        "colab_type": "code",
        "colab": {}
      },
      "source": [
        "  df_data = [[-1, -1, visualize_token_attrs(get_tokens(x_train[id]), ig_attrs).data]]\n",
        "  vis = visualize_conductances(x_train[id], train_predictions[id], neuron_ids)\n",
        "  for i, v in enumerate(vis):\n",
        "    df_data.append([neuron_ids[i], neuron_sig[i], v.data])\n",
        "  df = pd.DataFrame(df_data, columns=['Neuron', 'Sig', 'Conductance'])\n",
        "  display(HTML(df.to_html(escape=False, max_rows=None, max_cols=None, index=False)))"
      ],
      "execution_count": 0,
      "outputs": []
    },
    {
      "cell_type": "code",
      "metadata": {
        "id": "nh-BpUz_XoNj",
        "colab_type": "code",
        "colab": {}
      },
      "source": [
        "neuron_ids, neuron_sig, csize = be_all_invariants[1][0]\n",
        "print csize\n",
        "cluster = get_suffix_cluster(neuron_ids, neuron_sig)\n",
        "cluster_predictions = get_prediction(x_train[cluster], tensor=y_conv, batch_size=10)\n",
        "describe_cluster(cluster, neuron_ids)\n",
        "# Visualize  10 inputs in the cluster\n",
        "for i, ind in enumerate(cluster[:20]):\n",
        "  print x_text_train[ind]\n",
        "  print cluster_predictions[i]\n",
        "  # describe_input(i) "
      ],
      "execution_count": 0,
      "outputs": []
    },
    {
      "cell_type": "code",
      "metadata": {
        "id": "Isr62nPPlROL",
        "colab_type": "code",
        "outputId": "348e1a91-ee9b-4623-fcb7-ac20b24f83c0",
        "colab": {
          "base_uri": "https://localhost:8080/",
          "height": 143
        }
      },
      "source": [
        "# Get all fine_grained_estimator invariants\n",
        "fge_all_invariants = get_all_invariants(fine_grained_estimator)\n",
        "# Print invariant stats\n",
        "df = describe_all_invariants(fge_all_invariants)\n",
        "print \"Total num invariants:\", df['Num Invariants'].sum()\n",
        "print \"Total num invariants with cluster size >= 10:\", df['Num Invariants with cluster size >= 10'].sum()\n",
        "print df.to_string(index=False)\n",
        "\n"
      ],
      "execution_count": 0,
      "outputs": [
        {
          "output_type": "stream",
          "text": [
            "100%|██████████| 901/901 [00:00<00:00, 218002.19it/s]"
          ],
          "name": "stderr"
        },
        {
          "output_type": "stream",
          "text": [
            "Obtained all paths\n",
            "Total num invariants: 901\n",
            "Total num invariants with cluster size >= 10: 190\n",
            "Prediction Class  Num Instances  Num Invariants  Num Invariants with cluster size >= 10  Size of largest invariant cluster\n",
            "               0           4780             449                                      95                                352\n",
            "              11           4816             452                                      95                                399\n"
          ],
          "name": "stdout"
        },
        {
          "output_type": "stream",
          "text": [
            "\n"
          ],
          "name": "stderr"
        }
      ]
    },
    {
      "cell_type": "markdown",
      "metadata": {
        "id": "jU7SHWilyZjc",
        "colab_type": "text"
      },
      "source": [
        "### Analyzing clusters of misclassified inputs"
      ]
    },
    {
      "cell_type": "code",
      "metadata": {
        "id": "6GPZ8nMyYCMj",
        "colab_type": "code",
        "outputId": "b1ebd1c9-eec3-49fb-eda8-902bfb4751b4",
        "colab": {
          "base_uri": "https://localhost:8080/",
          "height": 826
        }
      },
      "source": [
        "# Examine the cluster for a misclasification (Groundtruth: 4, Prediction: 49)\n",
        "invs = fge_all_invariants[00]\n",
        "neuron_ids, neuron_sig, _ = invs[0]\n",
        "cluster = get_suffix_cluster(neuron_ids, neuron_sig)\n",
        "describe_cluster(cluster, neuron_ids)\n",
        "\n",
        "# Visualize  10 inputs in the cluster\n",
        "for i in cluster[:10]:\n",
        "  describe_input(i)\n",
        "  # show_img(visualize_conductances(mnist.train.images[i], train_predictions[i], neuron_ids, only_on=False))"
      ],
      "execution_count": 0,
      "outputs": [
        {
          "output_type": "stream",
          "text": [
            "Num neurons in invariant 17\n",
            "Neuron id and signature [(54, 0), (389, 0), (457, 1), (1462, 0), (901, 0), (4632, 0), (49, 0), (1709, 0), (527, 0), (2639, 0), (306, 0), (1620, 0), (4285, 0), (1476, 0), (3532, 0), (219, 0), (178, 0)]\n",
            "Cluster size:  352\n",
            "Num misclassified 0\n",
            "Input in words: a rote exercise in both animation and storytelling\n",
            "Groundtruth: 0\n",
            "Prediction: 0\n",
            "Fine-grained prediction 0\n",
            "Input in words: two hours of junk\n",
            "Groundtruth: 0\n",
            "Prediction: 0\n",
            "Fine-grained prediction 0\n",
            "Input in words: in execution , this clever idea is far less funny than the original , killers from space\n",
            "Groundtruth: 0\n",
            "Prediction: 0\n",
            "Fine-grained prediction 0\n",
            "Input in words: i have to admit that i am baffled by jason x\n",
            "Groundtruth: 0\n",
            "Prediction: 0\n",
            "Fine-grained prediction 0\n",
            "Input in words: this thing is just garbage\n",
            "Groundtruth: 0\n",
            "Prediction: 0\n",
            "Fine-grained prediction 0\n",
            "Input in words: the idea is more interesting than the screenplay , which lags badly in the middle and lurches between not very funny comedy , unconvincing dramatics and some last minute action strongly reminiscent of run lola run\n",
            "Groundtruth: 0\n",
            "Prediction: 0\n",
            "Fine-grained prediction 0\n",
            "Input in words: no one but a convict guilty of some truly heinous crime should have to sit through the master of disguise\n",
            "Groundtruth: 0\n",
            "Prediction: 0\n",
            "Fine-grained prediction 0\n",
            "Input in words: what happened with pluto nash \\? how did it ever get made \\?\n",
            "Groundtruth: 0\n",
            "Prediction: 0\n",
            "Fine-grained prediction 0\n",
            "Input in words: a boring , formulaic mix of serial killers and stalk'n 'slash\n",
            "Groundtruth: 0\n",
            "Prediction: 0\n",
            "Fine-grained prediction 0\n",
            "Input in words: guilty of the worst sin of attributable to a movie like this it 's not scary in the slightest\n",
            "Groundtruth: 0\n",
            "Prediction: 0\n",
            "Fine-grained prediction 0\n"
          ],
          "name": "stdout"
        }
      ]
    },
    {
      "cell_type": "markdown",
      "metadata": {
        "id": "V-yR4qbD44Qr",
        "colab_type": "text"
      },
      "source": [
        "## Test Accuracy Improvements"
      ]
    },
    {
      "cell_type": "code",
      "metadata": {
        "id": "KBZDfuH42u42",
        "colab_type": "code",
        "colab": {}
      },
      "source": [
        "# We use the fine_grained_estimator to check if an input belongs\n",
        "# to a pure cluster (i.e., prediction id of the form 10*label + label).\n",
        "# If so, we declare the network's prediction as a \"condident prediction\".\n",
        "# We measure the accuracy of confident_predictions.\n",
        "fine_grained_estimator_test_predictions = fine_grained_estimator.predict(test_suffixes)\n",
        "fine_grained_estimator_leaf_nodes = fine_grained_estimator.apply(test_suffixes)"
      ],
      "execution_count": 0,
      "outputs": []
    },
    {
      "cell_type": "code",
      "metadata": {
        "id": "-HT-Fqrp7Kt8",
        "colab_type": "code",
        "colab": {}
      },
      "source": [
        "def test_accuracy_for_label(label):\n",
        "  def get_confidence():\n",
        "    is_confident = (fine_grained_estimator_test_predictions == 10*label + label)\n",
        "    sufficient_samples = fine_grained_estimator.tree_.n_node_samples[fine_grained_estimator_leaf_nodes] >= 5\n",
        "    is_confident *= sufficient_samples\n",
        "    return is_confident\n",
        "  # Following are boolean array. For e.g., with_label[i] is True if\n",
        "  # image i has the given label\n",
        "  with_label = (np.argmax(y_test, axis=1) == label)\n",
        "  print with_label\n",
        "  is_correct = (test_predictions == np.argmax(y_test, axis=1))\n",
        "  with_label_and_correct = with_label*is_correct\n",
        "  is_confident = get_confidence()\n",
        "  with_label_and_correct_and_confident = with_label_and_correct*is_confident\n",
        "  with_label_and_confident = with_label*is_confident\n",
        "\n",
        "  total = np.sum(with_label)\n",
        "  num_conf = np.sum(with_label_and_confident) \n",
        "  num_correct = np.sum(with_label_and_correct)\n",
        "  num_correct_conf = np.sum(with_label_and_correct_and_confident)\n",
        "  return total, num_conf, num_correct, num_correct_conf"
      ],
      "execution_count": 0,
      "outputs": []
    },
    {
      "cell_type": "code",
      "metadata": {
        "id": "f1ed8-tT82wW",
        "colab_type": "code",
        "outputId": "9691a0e6-8c76-4914-a374-2840faff44e9",
        "colab": {
          "base_uri": "https://localhost:8080/",
          "height": 356
        }
      },
      "source": [
        "df = []\n",
        "grand_total = 0\n",
        "grand_correct = 0\n",
        "grand_conf = 0\n",
        "grand_correct_conf = 0\n",
        "for i in range(10):\n",
        "  total, num_conf, num_correct, num_correct_conf = test_accuracy_for_label(i)\n",
        "  if total == 0:\n",
        "    continue\n",
        "  grand_total += total\n",
        "  grand_conf += num_conf\n",
        "  grand_correct += num_correct\n",
        "  grand_correct_conf += num_correct_conf\n",
        "  acc = 1.0*num_correct/total\n",
        "  conf_acc = 1.0*num_correct_conf/num_conf\n",
        "  df.append([i, total, num_conf, acc, conf_acc])\n",
        "df = pd.DataFrame(df, columns=['Label', 'Instances', 'ConfidentInstances',  'Acc', 'ConfidentAcc',])\n",
        "display(df)\n",
        "print \"Total Instances\", grand_total\n",
        "print \"Num Confident Instances\", grand_conf\n",
        "print \"Orig Accuracy\", 1.0*grand_correct/grand_total\n",
        "print \"Confident Accuracy\", 1.0*grand_correct_conf/grand_conf"
      ],
      "execution_count": 0,
      "outputs": [
        {
          "output_type": "stream",
          "text": [
            "[ True False  True ... False  True False]\n",
            "[False  True False ...  True False  True]\n",
            "[False False False ... False False False]\n",
            "[False False False ... False False False]\n",
            "[False False False ... False False False]\n",
            "[False False False ... False False False]\n",
            "[False False False ... False False False]\n",
            "[False False False ... False False False]\n",
            "[False False False ... False False False]\n",
            "[False False False ... False False False]\n"
          ],
          "name": "stdout"
        },
        {
          "output_type": "display_data",
          "data": {
            "text/plain": [
              "   Label  Instances  ConfidentInstances       Acc  ConfidentAcc\n",
              "0      0        551                 304  0.729583      0.924342\n",
              "1      1        515                 341  0.724272      0.882698"
            ],
            "text/html": [
              "<div>\n",
              "<style scoped>\n",
              "    .dataframe tbody tr th:only-of-type {\n",
              "        vertical-align: middle;\n",
              "    }\n",
              "\n",
              "    .dataframe tbody tr th {\n",
              "        vertical-align: top;\n",
              "    }\n",
              "\n",
              "    .dataframe thead th {\n",
              "        text-align: right;\n",
              "    }\n",
              "</style>\n",
              "<table border=\"1\" class=\"dataframe\">\n",
              "  <thead>\n",
              "    <tr style=\"text-align: right;\">\n",
              "      <th></th>\n",
              "      <th>Label</th>\n",
              "      <th>Instances</th>\n",
              "      <th>ConfidentInstances</th>\n",
              "      <th>Acc</th>\n",
              "      <th>ConfidentAcc</th>\n",
              "    </tr>\n",
              "  </thead>\n",
              "  <tbody>\n",
              "    <tr>\n",
              "      <th>0</th>\n",
              "      <td>0</td>\n",
              "      <td>551</td>\n",
              "      <td>304</td>\n",
              "      <td>0.729583</td>\n",
              "      <td>0.924342</td>\n",
              "    </tr>\n",
              "    <tr>\n",
              "      <th>1</th>\n",
              "      <td>1</td>\n",
              "      <td>515</td>\n",
              "      <td>341</td>\n",
              "      <td>0.724272</td>\n",
              "      <td>0.882698</td>\n",
              "    </tr>\n",
              "  </tbody>\n",
              "</table>\n",
              "</div>"
            ]
          },
          "metadata": {
            "tags": []
          }
        },
        {
          "output_type": "stream",
          "text": [
            "Total Instances 1066\n",
            "Num Confident Instances 645\n",
            "Orig Accuracy 0.727016885553\n",
            "Confident Accuracy 0.902325581395\n"
          ],
          "name": "stdout"
        }
      ]
    },
    {
      "cell_type": "markdown",
      "metadata": {
        "id": "QhKV-FYLv-Eb",
        "colab_type": "text"
      },
      "source": [
        "## Visualizing the Decision Tree"
      ]
    },
    {
      "cell_type": "code",
      "metadata": {
        "id": "EEZ8ZeuMo_9m",
        "colab_type": "code",
        "outputId": "fba6022b-363e-4e6f-ec5f-7e07504759f2",
        "colab": {
          "base_uri": "https://localhost:8080/",
          "height": 3227
        }
      },
      "source": [
        "!apt-get install graphviz\n",
        "!pip install graphviz\n",
        "import graphviz"
      ],
      "execution_count": 0,
      "outputs": [
        {
          "output_type": "stream",
          "text": [
            "Reading package lists... Done\n",
            "Building dependency tree       \n",
            "Reading state information... Done\n",
            "The following additional packages will be installed:\n",
            "  fontconfig libann0 libcairo2 libcdt5 libcgraph6 libdatrie1 libgd3\n",
            "  libgts-0.7-5 libgts-bin libgvc6 libgvpr2 libjbig0 liblab-gamut1 libltdl7\n",
            "  libpango-1.0-0 libpangocairo-1.0-0 libpangoft2-1.0-0 libpathplan4\n",
            "  libpixman-1-0 libthai-data libthai0 libtiff5 libwebp6 libxaw7 libxcb-render0\n",
            "  libxcb-shm0 libxmu6 libxpm4 libxt6\n",
            "Suggested packages:\n",
            "  gsfonts graphviz-doc libgd-tools\n",
            "The following NEW packages will be installed:\n",
            "  fontconfig graphviz libann0 libcairo2 libcdt5 libcgraph6 libdatrie1 libgd3\n",
            "  libgts-0.7-5 libgts-bin libgvc6 libgvpr2 libjbig0 liblab-gamut1 libltdl7\n",
            "  libpango-1.0-0 libpangocairo-1.0-0 libpangoft2-1.0-0 libpathplan4\n",
            "  libpixman-1-0 libthai-data libthai0 libtiff5 libwebp6 libxaw7 libxcb-render0\n",
            "  libxcb-shm0 libxmu6 libxpm4 libxt6\n",
            "0 upgraded, 30 newly installed, 0 to remove and 2 not upgraded.\n",
            "Need to get 4,154 kB of archives.\n",
            "After this operation, 16.1 MB of additional disk space will be used.\n",
            "Get:1 http://archive.ubuntu.com/ubuntu bionic/main amd64 fontconfig amd64 2.12.6-0ubuntu2 [169 kB]\n",
            "Get:2 http://archive.ubuntu.com/ubuntu bionic/universe amd64 libann0 amd64 1.1.2+doc-6 [24.8 kB]\n",
            "Get:3 http://archive.ubuntu.com/ubuntu bionic/universe amd64 libcdt5 amd64 2.40.1-2 [19.6 kB]\n",
            "Get:4 http://archive.ubuntu.com/ubuntu bionic/universe amd64 libcgraph6 amd64 2.40.1-2 [40.8 kB]\n",
            "Get:5 http://archive.ubuntu.com/ubuntu bionic/main amd64 libjbig0 amd64 2.1-3.1build1 [26.7 kB]\n",
            "Get:6 http://archive.ubuntu.com/ubuntu bionic/main amd64 libtiff5 amd64 4.0.9-5 [152 kB]\n",
            "Get:7 http://archive.ubuntu.com/ubuntu bionic/main amd64 libwebp6 amd64 0.6.1-2 [185 kB]\n",
            "Get:8 http://archive.ubuntu.com/ubuntu bionic/main amd64 libxpm4 amd64 1:3.5.12-1 [34.0 kB]\n",
            "Get:9 http://archive.ubuntu.com/ubuntu bionic-updates/main amd64 libgd3 amd64 2.2.5-4ubuntu0.2 [119 kB]\n",
            "Get:10 http://archive.ubuntu.com/ubuntu bionic/universe amd64 libgts-0.7-5 amd64 0.7.6+darcs121130-4 [150 kB]\n",
            "Get:11 http://archive.ubuntu.com/ubuntu bionic/main amd64 libpixman-1-0 amd64 0.34.0-2 [229 kB]\n",
            "Get:12 http://archive.ubuntu.com/ubuntu bionic/main amd64 libxcb-render0 amd64 1.13-1 [14.7 kB]\n",
            "Get:13 http://archive.ubuntu.com/ubuntu bionic/main amd64 libxcb-shm0 amd64 1.13-1 [5,572 B]\n",
            "Get:14 http://archive.ubuntu.com/ubuntu bionic/main amd64 libcairo2 amd64 1.15.10-2 [580 kB]\n",
            "Get:15 http://archive.ubuntu.com/ubuntu bionic/main amd64 libltdl7 amd64 2.4.6-2 [38.8 kB]\n",
            "Get:16 http://archive.ubuntu.com/ubuntu bionic/main amd64 libthai-data all 0.1.27-2 [133 kB]\n",
            "Get:17 http://archive.ubuntu.com/ubuntu bionic/main amd64 libdatrie1 amd64 0.2.10-7 [17.8 kB]\n",
            "Get:18 http://archive.ubuntu.com/ubuntu bionic/main amd64 libthai0 amd64 0.1.27-2 [18.0 kB]\n",
            "Get:19 http://archive.ubuntu.com/ubuntu bionic-updates/main amd64 libpango-1.0-0 amd64 1.40.14-1ubuntu0.1 [153 kB]\n",
            "Get:20 http://archive.ubuntu.com/ubuntu bionic-updates/main amd64 libpangoft2-1.0-0 amd64 1.40.14-1ubuntu0.1 [33.2 kB]\n",
            "Get:21 http://archive.ubuntu.com/ubuntu bionic-updates/main amd64 libpangocairo-1.0-0 amd64 1.40.14-1ubuntu0.1 [20.8 kB]\n",
            "Get:22 http://archive.ubuntu.com/ubuntu bionic/universe amd64 libpathplan4 amd64 2.40.1-2 [22.6 kB]\n",
            "Get:23 http://archive.ubuntu.com/ubuntu bionic/universe amd64 libgvc6 amd64 2.40.1-2 [601 kB]\n",
            "Get:24 http://archive.ubuntu.com/ubuntu bionic/universe amd64 libgvpr2 amd64 2.40.1-2 [169 kB]\n",
            "Get:25 http://archive.ubuntu.com/ubuntu bionic/universe amd64 liblab-gamut1 amd64 2.40.1-2 [178 kB]\n",
            "Get:26 http://archive.ubuntu.com/ubuntu bionic/main amd64 libxt6 amd64 1:1.1.5-1 [160 kB]\n",
            "Get:27 http://archive.ubuntu.com/ubuntu bionic/main amd64 libxmu6 amd64 2:1.1.2-2 [46.0 kB]\n",
            "Get:28 http://archive.ubuntu.com/ubuntu bionic/main amd64 libxaw7 amd64 2:1.0.13-1 [173 kB]\n",
            "Get:29 http://archive.ubuntu.com/ubuntu bionic/universe amd64 graphviz amd64 2.40.1-2 [601 kB]\n",
            "Get:30 http://archive.ubuntu.com/ubuntu bionic/universe amd64 libgts-bin amd64 0.7.6+darcs121130-4 [41.3 kB]\n",
            "Fetched 4,154 kB in 2s (2,225 kB/s)\n",
            "Selecting previously unselected package fontconfig.\n",
            "(Reading database ... 22280 files and directories currently installed.)\n",
            "Preparing to unpack .../00-fontconfig_2.12.6-0ubuntu2_amd64.deb ...\n",
            "Unpacking fontconfig (2.12.6-0ubuntu2) ...\n",
            "Selecting previously unselected package libann0.\n",
            "Preparing to unpack .../01-libann0_1.1.2+doc-6_amd64.deb ...\n",
            "Unpacking libann0 (1.1.2+doc-6) ...\n",
            "Selecting previously unselected package libcdt5.\n",
            "Preparing to unpack .../02-libcdt5_2.40.1-2_amd64.deb ...\n",
            "Unpacking libcdt5 (2.40.1-2) ...\n",
            "Selecting previously unselected package libcgraph6.\n",
            "Preparing to unpack .../03-libcgraph6_2.40.1-2_amd64.deb ...\n",
            "Unpacking libcgraph6 (2.40.1-2) ...\n",
            "Selecting previously unselected package libjbig0:amd64.\n",
            "Preparing to unpack .../04-libjbig0_2.1-3.1build1_amd64.deb ...\n",
            "Unpacking libjbig0:amd64 (2.1-3.1build1) ...\n",
            "Selecting previously unselected package libtiff5:amd64.\n",
            "Preparing to unpack .../05-libtiff5_4.0.9-5_amd64.deb ...\n",
            "Unpacking libtiff5:amd64 (4.0.9-5) ...\n",
            "Selecting previously unselected package libwebp6:amd64.\n",
            "Preparing to unpack .../06-libwebp6_0.6.1-2_amd64.deb ...\n",
            "Unpacking libwebp6:amd64 (0.6.1-2) ...\n",
            "Selecting previously unselected package libxpm4:amd64.\n",
            "Preparing to unpack .../07-libxpm4_1%3a3.5.12-1_amd64.deb ...\n",
            "Unpacking libxpm4:amd64 (1:3.5.12-1) ...\n",
            "Selecting previously unselected package libgd3:amd64.\n",
            "Preparing to unpack .../08-libgd3_2.2.5-4ubuntu0.2_amd64.deb ...\n",
            "Unpacking libgd3:amd64 (2.2.5-4ubuntu0.2) ...\n",
            "Selecting previously unselected package libgts-0.7-5:amd64.\n",
            "Preparing to unpack .../09-libgts-0.7-5_0.7.6+darcs121130-4_amd64.deb ...\n",
            "Unpacking libgts-0.7-5:amd64 (0.7.6+darcs121130-4) ...\n",
            "Selecting previously unselected package libpixman-1-0:amd64.\n",
            "Preparing to unpack .../10-libpixman-1-0_0.34.0-2_amd64.deb ...\n",
            "Unpacking libpixman-1-0:amd64 (0.34.0-2) ...\n",
            "Selecting previously unselected package libxcb-render0:amd64.\n",
            "Preparing to unpack .../11-libxcb-render0_1.13-1_amd64.deb ...\n",
            "Unpacking libxcb-render0:amd64 (1.13-1) ...\n",
            "Selecting previously unselected package libxcb-shm0:amd64.\n",
            "Preparing to unpack .../12-libxcb-shm0_1.13-1_amd64.deb ...\n",
            "Unpacking libxcb-shm0:amd64 (1.13-1) ...\n",
            "Selecting previously unselected package libcairo2:amd64.\n",
            "Preparing to unpack .../13-libcairo2_1.15.10-2_amd64.deb ...\n",
            "Unpacking libcairo2:amd64 (1.15.10-2) ...\n",
            "Selecting previously unselected package libltdl7:amd64.\n",
            "Preparing to unpack .../14-libltdl7_2.4.6-2_amd64.deb ...\n",
            "Unpacking libltdl7:amd64 (2.4.6-2) ...\n",
            "Selecting previously unselected package libthai-data.\n",
            "Preparing to unpack .../15-libthai-data_0.1.27-2_all.deb ...\n",
            "Unpacking libthai-data (0.1.27-2) ...\n",
            "Selecting previously unselected package libdatrie1:amd64.\n",
            "Preparing to unpack .../16-libdatrie1_0.2.10-7_amd64.deb ...\n",
            "Unpacking libdatrie1:amd64 (0.2.10-7) ...\n",
            "Selecting previously unselected package libthai0:amd64.\n",
            "Preparing to unpack .../17-libthai0_0.1.27-2_amd64.deb ...\n",
            "Unpacking libthai0:amd64 (0.1.27-2) ...\n",
            "Selecting previously unselected package libpango-1.0-0:amd64.\n",
            "Preparing to unpack .../18-libpango-1.0-0_1.40.14-1ubuntu0.1_amd64.deb ...\n",
            "Unpacking libpango-1.0-0:amd64 (1.40.14-1ubuntu0.1) ...\n",
            "Selecting previously unselected package libpangoft2-1.0-0:amd64.\n",
            "Preparing to unpack .../19-libpangoft2-1.0-0_1.40.14-1ubuntu0.1_amd64.deb ...\n",
            "Unpacking libpangoft2-1.0-0:amd64 (1.40.14-1ubuntu0.1) ...\n",
            "Selecting previously unselected package libpangocairo-1.0-0:amd64.\n",
            "Preparing to unpack .../20-libpangocairo-1.0-0_1.40.14-1ubuntu0.1_amd64.deb ...\n",
            "Unpacking libpangocairo-1.0-0:amd64 (1.40.14-1ubuntu0.1) ...\n",
            "Selecting previously unselected package libpathplan4.\n",
            "Preparing to unpack .../21-libpathplan4_2.40.1-2_amd64.deb ...\n",
            "Unpacking libpathplan4 (2.40.1-2) ...\n",
            "Selecting previously unselected package libgvc6.\n",
            "Preparing to unpack .../22-libgvc6_2.40.1-2_amd64.deb ...\n",
            "Unpacking libgvc6 (2.40.1-2) ...\n",
            "Selecting previously unselected package libgvpr2.\n",
            "Preparing to unpack .../23-libgvpr2_2.40.1-2_amd64.deb ...\n",
            "Unpacking libgvpr2 (2.40.1-2) ...\n",
            "Selecting previously unselected package liblab-gamut1.\n",
            "Preparing to unpack .../24-liblab-gamut1_2.40.1-2_amd64.deb ...\n",
            "Unpacking liblab-gamut1 (2.40.1-2) ...\n",
            "Selecting previously unselected package libxt6:amd64.\n",
            "Preparing to unpack .../25-libxt6_1%3a1.1.5-1_amd64.deb ...\n",
            "Unpacking libxt6:amd64 (1:1.1.5-1) ...\n",
            "Selecting previously unselected package libxmu6:amd64.\n",
            "Preparing to unpack .../26-libxmu6_2%3a1.1.2-2_amd64.deb ...\n",
            "Unpacking libxmu6:amd64 (2:1.1.2-2) ...\n",
            "Selecting previously unselected package libxaw7:amd64.\n",
            "Preparing to unpack .../27-libxaw7_2%3a1.0.13-1_amd64.deb ...\n",
            "Unpacking libxaw7:amd64 (2:1.0.13-1) ...\n",
            "Selecting previously unselected package graphviz.\n",
            "Preparing to unpack .../28-graphviz_2.40.1-2_amd64.deb ...\n",
            "Unpacking graphviz (2.40.1-2) ...\n",
            "Selecting previously unselected package libgts-bin.\n",
            "Preparing to unpack .../29-libgts-bin_0.7.6+darcs121130-4_amd64.deb ...\n",
            "Unpacking libgts-bin (0.7.6+darcs121130-4) ...\n",
            "Setting up libgts-0.7-5:amd64 (0.7.6+darcs121130-4) ...\n",
            "Setting up libpathplan4 (2.40.1-2) ...\n",
            "Setting up liblab-gamut1 (2.40.1-2) ...\n",
            "Setting up libxcb-render0:amd64 (1.13-1) ...\n",
            "Setting up libjbig0:amd64 (2.1-3.1build1) ...\n",
            "Setting up libdatrie1:amd64 (0.2.10-7) ...\n",
            "Setting up libtiff5:amd64 (4.0.9-5) ...\n",
            "Setting up libpixman-1-0:amd64 (0.34.0-2) ...\n",
            "Processing triggers for libc-bin (2.27-3ubuntu1) ...\n",
            "Setting up libltdl7:amd64 (2.4.6-2) ...\n",
            "Setting up libann0 (1.1.2+doc-6) ...\n",
            "Setting up libxcb-shm0:amd64 (1.13-1) ...\n",
            "Setting up libxpm4:amd64 (1:3.5.12-1) ...\n",
            "Setting up libxt6:amd64 (1:1.1.5-1) ...\n",
            "Setting up libgts-bin (0.7.6+darcs121130-4) ...\n",
            "Setting up libthai-data (0.1.27-2) ...\n",
            "Setting up libcdt5 (2.40.1-2) ...\n",
            "Setting up fontconfig (2.12.6-0ubuntu2) ...\n",
            "Regenerating fonts cache... done.\n",
            "Setting up libcgraph6 (2.40.1-2) ...\n",
            "Setting up libwebp6:amd64 (0.6.1-2) ...\n",
            "Setting up libcairo2:amd64 (1.15.10-2) ...\n",
            "Setting up libgvpr2 (2.40.1-2) ...\n",
            "Setting up libgd3:amd64 (2.2.5-4ubuntu0.2) ...\n",
            "Setting up libthai0:amd64 (0.1.27-2) ...\n",
            "Setting up libxmu6:amd64 (2:1.1.2-2) ...\n",
            "Setting up libpango-1.0-0:amd64 (1.40.14-1ubuntu0.1) ...\n",
            "Setting up libxaw7:amd64 (2:1.0.13-1) ...\n",
            "Setting up libpangoft2-1.0-0:amd64 (1.40.14-1ubuntu0.1) ...\n",
            "Setting up libpangocairo-1.0-0:amd64 (1.40.14-1ubuntu0.1) ...\n",
            "Setting up libgvc6 (2.40.1-2) ...\n",
            "Setting up graphviz (2.40.1-2) ...\n",
            "Processing triggers for libc-bin (2.27-3ubuntu1) ...\n",
            "Collecting graphviz\n",
            "  Downloading https://files.pythonhosted.org/packages/1f/e2/ef2581b5b86625657afd32030f90cf2717456c1d2b711ba074bf007c0f1a/graphviz-0.10.1-py2.py3-none-any.whl\n",
            "Installing collected packages: graphviz\n",
            "Successfully installed graphviz-0.10.1\n"
          ],
          "name": "stdout"
        }
      ]
    },
    {
      "cell_type": "code",
      "metadata": {
        "id": "ZaOsPspkjuOe",
        "colab_type": "code",
        "colab": {}
      },
      "source": [
        "dot_data = tree.export_graphviz(basic_estimator, out_file=None) \n",
        "graph = graphviz.Source(dot_data)  \n",
        "graph"
      ],
      "execution_count": 0,
      "outputs": []
    },
    {
      "cell_type": "code",
      "metadata": {
        "id": "zmQuqo4Nn1zY",
        "colab_type": "code",
        "colab": {}
      },
      "source": [
        "dot_data = tree.export_graphviz(fine_grained_estimator, out_file=None) \n",
        "graph = graphviz.Source(dot_data)  \n",
        "graph"
      ],
      "execution_count": 0,
      "outputs": []
    }
  ]
}