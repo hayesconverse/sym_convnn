{
  "nbformat": 4,
  "nbformat_minor": 0,
  "metadata": {
    "colab": {
      "name": "CIFAR Invariants v2 [FINAL].ipynb",
      "version": "0.3.2",
      "provenance": [],
      "collapsed_sections": [
        "_fzGgbXrjF3I",
        "rW16gvv7ifik",
        "oZA0U3oG-kgu",
        "yR9bYFN9E9lg",
        "iG5Fq5GIkP6u",
        "i_uhUyYiBlL7",
        "QhKV-FYLv-Eb"
      ]
    },
    "kernelspec": {
      "name": "python2",
      "display_name": "Python 2"
    },
    "accelerator": "GPU"
  },
  "cells": [
    {
      "cell_type": "code",
      "metadata": {
        "id": "sWtW7m9i8Q1e",
        "colab_type": "code",
        "outputId": "a27ffe20-90f0-41bb-8277-06d4315cec4c",
        "colab": {
          "base_uri": "https://localhost:8080/",
          "height": 68
        }
      },
      "source": [
        "!pip install tensorflow-datasets"
      ],
      "execution_count": 0,
      "outputs": [
        {
          "output_type": "stream",
          "text": [
            "Collecting tensorflow-datasets\n",
            "\u001b[31m  Could not find a version that satisfies the requirement tensorflow-datasets (from versions: )\u001b[0m\n",
            "\u001b[31mNo matching distribution found for tensorflow-datasets\u001b[0m\n"
          ],
          "name": "stdout"
        }
      ]
    },
    {
      "cell_type": "code",
      "metadata": {
        "id": "t-JL_MKop5Qh",
        "colab_type": "code",
        "colab": {}
      },
      "source": [
        "import math\n",
        "import io\n",
        "import os\n",
        "from collections import namedtuple\n",
        "import numpy as np\n",
        "import matplotlib.pyplot as plt\n",
        "import tensorflow as tf\n",
        "from sklearn import tree\n",
        "from tqdm import tqdm\n",
        "import operator\n",
        "import pandas as pd\n",
        "#import keras\n",
        "#import h5py\n",
        "#import cPickle"
      ],
      "execution_count": 0,
      "outputs": []
    },
    {
      "cell_type": "code",
      "metadata": {
        "id": "mEicCONRlAWG",
        "colab_type": "code",
        "colab": {}
      },
      "source": [
        "# Go back to top of filesystem\n",
        "os.chdir('/content')"
      ],
      "execution_count": 0,
      "outputs": []
    },
    {
      "cell_type": "markdown",
      "metadata": {
        "id": "y90-yo7ki7JG",
        "colab_type": "text"
      },
      "source": [
        "## Restore Keras Model (Self-contained, do not mix with Tensorflow setup)"
      ]
    },
    {
      "cell_type": "code",
      "metadata": {
        "id": "jw8twivbjC-Y",
        "colab_type": "code",
        "outputId": "138bf8bc-eeab-448b-e11d-e75f9b26e1d7",
        "colab": {
          "base_uri": "https://localhost:8080/",
          "height": 102
        }
      },
      "source": [
        "# RUN ONCE\n",
        "# Run Runtime->Reset ALL Runtimes to reset\n",
        "!git clone https://github.com/mzweilin/EvadeML-Zoo\n",
        "os.chdir('EvadeML-Zoo')"
      ],
      "execution_count": 0,
      "outputs": [
        {
          "output_type": "stream",
          "text": [
            "Cloning into 'EvadeML-Zoo'...\n",
            "remote: Enumerating objects: 952, done.\u001b[K\n",
            "remote: Total 952 (delta 0), reused 0 (delta 0), pack-reused 952\u001b[K\n",
            "Receiving objects: 100% (952/952), 27.54 MiB | 28.23 MiB/s, done.\n",
            "Resolving deltas: 100% (606/606), done.\n"
          ],
          "name": "stdout"
        }
      ]
    },
    {
      "cell_type": "code",
      "metadata": {
        "id": "fscNTMGNjQTP",
        "colab_type": "code",
        "outputId": "3fdcefae-7b61-4498-cca5-b5ef5017f396",
        "colab": {
          "base_uri": "https://localhost:8080/",
          "height": 221
        }
      },
      "source": [
        "!mkdir downloads\n",
        "!curl -sL https://github.com/mzweilin/EvadeML-Zoo/releases/download/v0.1/downloads.tar.gz | tar xzv -C downloads"
      ],
      "execution_count": 0,
      "outputs": [
        {
          "output_type": "stream",
          "text": [
            "MagNet/\n",
            "MagNet/defensive_models/\n",
            "MagNet/defensive_models/MNIST_II\n",
            "MagNet/defensive_models/MNIST_I\n",
            "MagNet/defensive_models/CIFAR\n",
            "trained_models/\n",
            "trained_models/MNIST_pgdtrained.keras_weights.h5\n",
            "trained_models/MNIST_pgdbase.keras_weights.h5\n",
            "trained_models/CIFAR-10_carlini.keras_weights.h5\n",
            "trained_models/MNIST_cleverhans.keras_weights.h5\n",
            "trained_models/MNIST_cleverhans_adv_trained.keras_weights.h5\n",
            "trained_models/MNIST_carlini.keras_weights.h5\n"
          ],
          "name": "stdout"
        }
      ]
    },
    {
      "cell_type": "code",
      "metadata": {
        "id": "rdMqHDtXjUkE",
        "colab_type": "code",
        "outputId": "b3a7d37f-6744-49f5-a12e-ad17b6948aab",
        "colab": {
          "base_uri": "https://localhost:8080/",
          "height": 34
        }
      },
      "source": [
        "# Imported from the EvadeML-Zoo project downloaded above\n",
        "from models import carlini_models\n",
        "#from models import densenet_models\n",
        "from keras.utils import np_utils\n",
        "from keras import backend as K\n",
        "\n",
        "from keras.datasets import mnist as keras_mnist\n"
      ],
      "execution_count": 0,
      "outputs": [
        {
          "output_type": "stream",
          "text": [
            "Using TensorFlow backend.\n"
          ],
          "name": "stderr"
        }
      ]
    },
    {
      "cell_type": "code",
      "metadata": {
        "id": "x2nW1f7AjXFB",
        "colab_type": "code",
        "outputId": "3404f4c2-7ac5-4d67-f42b-f249d3266884",
        "colab": {
          "base_uri": "https://localhost:8080/",
          "height": 88
        }
      },
      "source": [
        "K.clear_session()\n",
        "eml_carlini_cifar_model = carlini_models.carlini_cifar10_model(logits=False, input_range_type=1)\n",
        "eml_carlini_cifar_model.compile(loss='categorical_crossentropy', optimizer='sgd', metrics=['acc'])\n",
        "\n",
        "dataset_name = \"CIFAR-10\"\n",
        "model_name = \"carlini\"\n",
        "model_weights_fpath = \"%s_%s.keras_weights.h5\" % (dataset_name, model_name)\n",
        "model_weights_fpath = os.path.join('downloads/trained_models', model_weights_fpath)\n",
        "eml_carlini_cifar_model.load_weights(model_weights_fpath)"
      ],
      "execution_count": 0,
      "outputs": [
        {
          "output_type": "stream",
          "text": [
            "WARNING:tensorflow:From /usr/local/lib/python2.7/dist-packages/tensorflow/python/framework/op_def_library.py:263: colocate_with (from tensorflow.python.framework.ops) is deprecated and will be removed in a future version.\n",
            "Instructions for updating:\n",
            "Colocations handled automatically by placer.\n"
          ],
          "name": "stdout"
        }
      ]
    },
    {
      "cell_type": "code",
      "metadata": {
        "id": "zkKPDNx09iEQ",
        "colab_type": "code",
        "outputId": "eda5acb6-8501-44f0-ed9c-5c3384912689",
        "colab": {
          "base_uri": "https://localhost:8080/",
          "height": 782
        }
      },
      "source": [
        "eml_carlini_cifar_model.summary()"
      ],
      "execution_count": 0,
      "outputs": [
        {
          "output_type": "stream",
          "text": [
            "_________________________________________________________________\n",
            "Layer (type)                 Output Shape              Param #   \n",
            "=================================================================\n",
            "lambda_1 (Lambda)            (None, 32, 32, 3)         0         \n",
            "_________________________________________________________________\n",
            "lambda_2 (Lambda)            (None, 32, 32, 3)         0         \n",
            "_________________________________________________________________\n",
            "conv2d_1 (Conv2D)            (None, 30, 30, 64)        1792      \n",
            "_________________________________________________________________\n",
            "activation_1 (Activation)    (None, 30, 30, 64)        0         \n",
            "_________________________________________________________________\n",
            "conv2d_2 (Conv2D)            (None, 28, 28, 64)        36928     \n",
            "_________________________________________________________________\n",
            "activation_2 (Activation)    (None, 28, 28, 64)        0         \n",
            "_________________________________________________________________\n",
            "max_pooling2d_1 (MaxPooling2 (None, 14, 14, 64)        0         \n",
            "_________________________________________________________________\n",
            "conv2d_3 (Conv2D)            (None, 12, 12, 128)       73856     \n",
            "_________________________________________________________________\n",
            "activation_3 (Activation)    (None, 12, 12, 128)       0         \n",
            "_________________________________________________________________\n",
            "conv2d_4 (Conv2D)            (None, 10, 10, 128)       147584    \n",
            "_________________________________________________________________\n",
            "activation_4 (Activation)    (None, 10, 10, 128)       0         \n",
            "_________________________________________________________________\n",
            "max_pooling2d_2 (MaxPooling2 (None, 5, 5, 128)         0         \n",
            "_________________________________________________________________\n",
            "flatten_1 (Flatten)          (None, 3200)              0         \n",
            "_________________________________________________________________\n",
            "dense_1 (Dense)              (None, 256)               819456    \n",
            "_________________________________________________________________\n",
            "activation_5 (Activation)    (None, 256)               0         \n",
            "_________________________________________________________________\n",
            "dense_2 (Dense)              (None, 256)               65792     \n",
            "_________________________________________________________________\n",
            "activation_6 (Activation)    (None, 256)               0         \n",
            "_________________________________________________________________\n",
            "dense_3 (Dense)              (None, 10)                2570      \n",
            "_________________________________________________________________\n",
            "activation_7 (Activation)    (None, 10)                0         \n",
            "=================================================================\n",
            "Total params: 1,147,978\n",
            "Trainable params: 1,147,978\n",
            "Non-trainable params: 0\n",
            "_________________________________________________________________\n"
          ],
          "name": "stdout"
        }
      ]
    },
    {
      "cell_type": "code",
      "metadata": {
        "id": "oap31V_1jbBu",
        "colab_type": "code",
        "colab": {}
      },
      "source": [
        "sess = K.get_session()\n",
        "graph = sess.graph\n",
        "\n",
        "t_image = graph.get_tensor_by_name('lambda_1_input:0')\n",
        "t_prediction = graph.get_tensor_by_name('activation_7/Softmax:0')\n",
        "\n",
        "#Layer selection. Large ones crash runtime when making basic estimator.\n",
        "#t_layer = graph.get_tensor_by_name('max_pooling2d_1/MaxPool:0') \n",
        "#t_layer = tf.reshape(t_layer, [-1, 12544])\n",
        "#t_layer = graph.get_tensor_by_name('activation_3/Relu:0')\n",
        "#t_layer = tf.reshape(t_layer, [-1, 18432])\n",
        "#t_layer = graph.get_tensor_by_name('activation_4/Relu:0')\n",
        "#t_layer = tf.reshape(t_layer, [-1, 12800])\n",
        "t_layer = graph.get_tensor_by_name('max_pooling2d_1/MaxPool:0')\n",
        "t_layer = tf.reshape(t_layer, [-1, 12544])\n",
        "#t_layer = graph.get_tensor_by_name('flatten_1/Reshape:0')\n",
        "#t_layer = graph.get_tensor_by_name('activation_5/Relu:0') #Shape: 256\n",
        "#t_layer = graph.get_tensor_by_name('activation_6/Relu:0') #Shape: 256"
      ],
      "execution_count": 0,
      "outputs": []
    },
    {
      "cell_type": "code",
      "metadata": {
        "id": "DtzIpfg_903s",
        "colab_type": "code",
        "outputId": "ac25952c-79aa-448a-dd84-f1b0f9da89be",
        "colab": {
          "base_uri": "https://localhost:8080/",
          "height": 34
        }
      },
      "source": [
        "graph.get_tensor_by_name('flatten_1/Reshape:0')"
      ],
      "execution_count": 0,
      "outputs": [
        {
          "output_type": "execute_result",
          "data": {
            "text/plain": [
              "<tf.Tensor 'flatten_1/Reshape:0' shape=(?, ?) dtype=float32>"
            ]
          },
          "metadata": {
            "tags": []
          },
          "execution_count": 10
        }
      ]
    },
    {
      "cell_type": "code",
      "metadata": {
        "id": "JnVcWF1UlJGS",
        "colab_type": "code",
        "colab": {}
      },
      "source": [
        "from keras.datasets import cifar10 as keras_cifar\n",
        "from keras.utils import np_utils\n",
        "\n",
        "def get_prediction_keras(images, tensor=None, batch_size=100):\n",
        "  images = np.reshape(images, [len(images), 32, 32, 3])\n",
        "  if tensor is None:\n",
        "    return eml_carlini_cifar_model.predict(images, batch_size=100)\n",
        "  def get_prediction_batch(batch):\n",
        "    feed = {t_image: np.array(batch)}\n",
        "    return sess.run(tensor, feed_dict=feed)\n",
        "  n = len(images)\n",
        "  if n%batch_size == 0:\n",
        "    batches = [images[i*batch_size:(i+1)*batch_size] for i in range(int(n/batch_size))]\n",
        "  else:\n",
        "    batches = [images[i*batch_size:(i+1)*batch_size] for i in range(int(n/batch_size) +1)]    \n",
        "  batch_predictions = [get_prediction_batch(b) for b in tqdm(batches)]\n",
        "  return np.concatenate(tuple(batch_predictions), axis=0)\n",
        "\n",
        "def get_test_dataset():\n",
        "  (X_train, y_train), (X_test, y_test) = keras_cifar.load_data()\n",
        "  X_test = X_test.reshape(X_test.shape[0], 32, 32, 3)\n",
        "  X_test = X_test.astype('float32')\n",
        "  X_test /= 255\n",
        "  Y_test = np_utils.to_categorical(y_test, 10)\n",
        "  del X_train, y_train\n",
        "  return X_test, Y_test\n",
        "\n",
        "def get_train_dataset():\n",
        "  (X_train, y_train), (X_test, y_test) = keras_cifar.load_data()\n",
        "  X_train = X_train.reshape(X_train.shape[0], 32, 32, 3)\n",
        "  X_train = X_train.astype('float32')\n",
        "  X_train /= 255\n",
        "  Y_train = np_utils.to_categorical(y_train, 10)\n",
        "  del X_test, y_test\n",
        "  return X_train, Y_train\n",
        "\n",
        "# t_layer is defined right where the Keras model is defined\n",
        "def fingerprint_suffix_keras(images, tensor=t_layer):\n",
        "  print \"Getting fingerprint for\", tensor.name\n",
        "  return (get_prediction_keras(images, tensor=tensor)>0.0).astype('int')"
      ],
      "execution_count": 0,
      "outputs": []
    },
    {
      "cell_type": "code",
      "metadata": {
        "id": "z-meqrEGlcE2",
        "colab_type": "code",
        "outputId": "c3f0b9b6-fa39-4c21-ef66-fab2bdc7e1ea",
        "colab": {
          "base_uri": "https://localhost:8080/",
          "height": 85
        }
      },
      "source": [
        "# Evaluate model accuracy\n",
        "test_images, test_labels = get_test_dataset()\n",
        "test_labels = np.argmax(test_labels, axis=1)\n",
        "test_predictions = get_prediction_keras(test_images)\n",
        "test_predictions = np.argmax(test_predictions, axis=1)\n",
        "print \"Test accuracy\", 1.0*np.sum(test_predictions == test_labels)/len(test_labels)"
      ],
      "execution_count": 0,
      "outputs": [
        {
          "output_type": "stream",
          "text": [
            "Downloading data from https://www.cs.toronto.edu/~kriz/cifar-10-python.tar.gz\n",
            "170500096/170498071 [==============================] - 21s 0us/step\n",
            "170508288/170498071 [==============================] - 21s 0us/step\n",
            "Test accuracy 0.7796\n"
          ],
          "name": "stdout"
        }
      ]
    },
    {
      "cell_type": "code",
      "metadata": {
        "id": "dwlMAnU7qOD6",
        "colab_type": "code",
        "outputId": "99259ea0-538a-4b74-9f9d-d96e8cbbba7e",
        "colab": {
          "base_uri": "https://localhost:8080/",
          "height": 51
        }
      },
      "source": [
        "train_images, train_labels = get_train_dataset()\n",
        "train_labels = np.argmax(train_labels, axis=1)\n",
        "\n",
        "train_predictions_all = get_prediction_keras(train_images)\n",
        "train_predictions = np.argmax(train_predictions_all, axis=1)\n",
        "print \"Predictions computed for all training data\"\n",
        "test_predictions_all = get_prediction_keras(test_images)\n",
        "test_predictions = np.argmax(test_predictions_all, axis=1)\n",
        "print \"Predictions computed for all test data\""
      ],
      "execution_count": 0,
      "outputs": [
        {
          "output_type": "stream",
          "text": [
            "Predictions computed for all training data\n",
            "Predictions computed for all test data\n"
          ],
          "name": "stdout"
        }
      ]
    },
    {
      "cell_type": "code",
      "metadata": {
        "id": "ZBOKgW1gRPwD",
        "colab_type": "code",
        "colab": {}
      },
      "source": [
        "\n",
        "train_suffixes = fingerprint_suffix_keras(train_images)\n",
        "print \"Suffixes computed for all training data\"\n",
        "\n",
        "\n",
        "test_suffixes = fingerprint_suffix_keras(test_images)\n",
        "print \"Suffixes computed for all test data\"\n"
      ],
      "execution_count": 0,
      "outputs": []
    },
    {
      "cell_type": "markdown",
      "metadata": {
        "id": "_fzGgbXrjF3I",
        "colab_type": "text"
      },
      "source": [
        "## Set Up Tensorflow Model"
      ]
    },
    {
      "cell_type": "code",
      "metadata": {
        "id": "SmPpG06W_vnF",
        "colab_type": "code",
        "colab": {}
      },
      "source": [
        "# RUN ONCE\n",
        "# Run Runtime->Reset ALL Runtimes to reset\n",
        "!git clone https://github.com/tensorflow/models\n",
        "os.chdir('models/tutorials/image/cifar10/')"
      ],
      "execution_count": 0,
      "outputs": []
    },
    {
      "cell_type": "code",
      "metadata": {
        "id": "IgohW_DIIcEq",
        "colab_type": "code",
        "colab": {}
      },
      "source": [
        "#Imported from the Tensorflow deep cnn tutorial scripts, cloned above.\n",
        "import cifar10\n",
        "import cifar10_input\n",
        "# Fix for flags from Burak's Textual Invariants colab.\n",
        "tf.app.flags.DEFINE_string('f', '', 'kernel')"
      ],
      "execution_count": 0,
      "outputs": []
    },
    {
      "cell_type": "code",
      "metadata": {
        "id": "uPtumJ1vcCfm",
        "colab_type": "code",
        "colab": {}
      },
      "source": [
        "cifar10.maybe_download_and_extract()"
      ],
      "execution_count": 0,
      "outputs": []
    },
    {
      "cell_type": "code",
      "metadata": {
        "id": "fj7gi7aaUQDi",
        "colab_type": "code",
        "outputId": "121c2d35-2ca5-4664-cb16-642a9d9cdc82",
        "colab": {
          "base_uri": "https://localhost:8080/",
          "height": 496
        }
      },
      "source": [
        "# Get test and train images.\n",
        "with tf.Graph().as_default():\n",
        "  train_images_bin, train_labels_bin = cifar10_input.inputs(False, \"/tmp/cifar10_data/cifar-10-batches-bin\", 50000)\n",
        "  test_images_bin, test_labels_bin = cifar10_input.inputs(True, \"/tmp/cifar10_data/cifar-10-batches-bin\", 10000)\n",
        "  with tf.train.MonitoredSession() as sess:\n",
        "    test_images, test_labels = sess.run([test_images_bin, test_labels_bin])\n",
        "    train_images, train_labels = sess.run([train_images_bin, train_labels_bin])"
      ],
      "execution_count": 0,
      "outputs": [
        {
          "output_type": "stream",
          "text": [
            "WARNING:tensorflow:From cifar10_input.py:232: string_input_producer (from tensorflow.python.training.input) is deprecated and will be removed in a future version.\n",
            "Instructions for updating:\n",
            "Queue-based input pipelines have been replaced by `tf.data`. Use `tf.data.Dataset.from_tensor_slices(string_tensor).shuffle(tf.shape(input_tensor, out_type=tf.int64)[0]).repeat(num_epochs)`. If `shuffle=False`, omit the `.shuffle(...)`.\n",
            "WARNING:tensorflow:From /usr/local/lib/python2.7/dist-packages/tensorflow/python/training/input.py:276: input_producer (from tensorflow.python.training.input) is deprecated and will be removed in a future version.\n",
            "Instructions for updating:\n",
            "Queue-based input pipelines have been replaced by `tf.data`. Use `tf.data.Dataset.from_tensor_slices(input_tensor).shuffle(tf.shape(input_tensor, out_type=tf.int64)[0]).repeat(num_epochs)`. If `shuffle=False`, omit the `.shuffle(...)`.\n",
            "WARNING:tensorflow:From /usr/local/lib/python2.7/dist-packages/tensorflow/python/training/input.py:188: limit_epochs (from tensorflow.python.training.input) is deprecated and will be removed in a future version.\n",
            "Instructions for updating:\n",
            "Queue-based input pipelines have been replaced by `tf.data`. Use `tf.data.Dataset.from_tensors(tensor).repeat(num_epochs)`.\n",
            "WARNING:tensorflow:From /usr/local/lib/python2.7/dist-packages/tensorflow/python/training/input.py:197: __init__ (from tensorflow.python.training.queue_runner_impl) is deprecated and will be removed in a future version.\n",
            "Instructions for updating:\n",
            "To construct input pipelines, use the `tf.data` module.\n",
            "WARNING:tensorflow:From /usr/local/lib/python2.7/dist-packages/tensorflow/python/training/input.py:197: add_queue_runner (from tensorflow.python.training.queue_runner_impl) is deprecated and will be removed in a future version.\n",
            "Instructions for updating:\n",
            "To construct input pipelines, use the `tf.data` module.\n",
            "WARNING:tensorflow:From cifar10_input.py:79: __init__ (from tensorflow.python.ops.io_ops) is deprecated and will be removed in a future version.\n",
            "Instructions for updating:\n",
            "Queue-based input pipelines have been replaced by `tf.data`. Use `tf.data.FixedLengthRecordDataset`.\n",
            "WARNING:tensorflow:From cifar10_input.py:132: batch (from tensorflow.python.training.input) is deprecated and will be removed in a future version.\n",
            "Instructions for updating:\n",
            "Queue-based input pipelines have been replaced by `tf.data`. Use `tf.data.Dataset.batch(batch_size)` (or `padded_batch(...)` if `dynamic_pad=True`).\n",
            "INFO:tensorflow:Graph was finalized.\n",
            "INFO:tensorflow:Running local_init_op.\n",
            "INFO:tensorflow:Done running local_init_op.\n",
            "WARNING:tensorflow:From /usr/local/lib/python2.7/dist-packages/tensorflow/python/training/monitored_session.py:804: start_queue_runners (from tensorflow.python.training.queue_runner_impl) is deprecated and will be removed in a future version.\n",
            "Instructions for updating:\n",
            "To construct input pipelines, use the `tf.data` module.\n"
          ],
          "name": "stdout"
        }
      ]
    },
    {
      "cell_type": "code",
      "metadata": {
        "id": "A-jo6PRTQZAd",
        "colab_type": "code",
        "colab": {}
      },
      "source": [
        "BATCH_SIZE = cifar10.FLAGS.batch_size\n",
        "\n",
        "def create_model(t_images, shape=None):\n",
        "  # If t_images is None then it creates a placeholder for feeding\n",
        "  # images. The placeholder has the provided shape.\n",
        "  #\n",
        "  # Creates model with images supplied by the t_images tensor.\n",
        "  if t_images is not None:  \n",
        "    t_images_pl = tf.placeholder_with_default(t_images, shape=t_images.shape)\n",
        "  else:\n",
        "    t_images_pl = tf.placeholder(shape)\n",
        "  # Build a Graph that computes the logits predictions from the\n",
        "  # inference model.\n",
        "  t_logits = cifar10.inference(t_images_pl)\n",
        "  return t_images_pl, t_logits\n",
        "\n",
        "def get_prediction(sess, tensor, t_images_pl, images, batch_size=BATCH_SIZE):\n",
        "  \"\"\"\n",
        "  Evaluate given tensor by feeding the provided images.\n",
        "  TODO: Currently partial batches cannot be evaluated so len(images) must\n",
        "  be a multiple of batch_size.\n",
        "  \"\"\"\n",
        "  def get_prediction_batch(image_batch):\n",
        "    feed = {t_images_pl: np.array(image_batch)}\n",
        "    return sess.run(tensor, feed_dict=feed)\n",
        "  \n",
        "  def get_final_batch(images, batch_size):\n",
        "    pad_value = np.zeros(images[0].shape)\n",
        "    final_batch = images[int(len(images)/batch_size)*batch_size:]\n",
        "    pad_size = batch_size-len(final_batch)\n",
        "    pad = [pad_value for _ in range(pad_size)]\n",
        "    final_batch = np.concatenate(tuple([final_batch, pad]), axis=0)\n",
        "    return final_batch, pad_size\n",
        "  \n",
        "  n = len(images)\n",
        "  image_batches = [images[i*batch_size:(i+1)*batch_size] for i in range(int(n/batch_size))]\n",
        "  padding_size = 0\n",
        "  if (n % batch_size) != 0:\n",
        "    # Pad the remainting entries and create an additional batch\n",
        "    final_batch, pad_size = get_final_batch(images, batch_size)\n",
        "    image_batches += [final_batch]\n",
        "  batch_predictions = [get_prediction_batch(b) for b in tqdm(image_batches)]\n",
        "  # remove padding\n",
        "  batch_predictions = batch_predictions[:-1] + [batch_predictions[-1][:-pad_size]]\n",
        "  res = np.concatenate(tuple(batch_predictions), axis=0)\n",
        "  assert res.shape[0] == images.shape[0]\n",
        "  return res\n",
        "  \n",
        "def train_model(save_steps=500):\n",
        "  \"\"\"Train CIFAR-10 for a number of steps.\"\"\"\n",
        "  with tf.Graph().as_default():\n",
        "    t_global_step = tf.train.get_or_create_global_step()\n",
        "\n",
        "    # Get images and labels for CIFAR-10.\n",
        "    # Force input pipeline to CPU:0 to avoid operations sometimes ending up on\n",
        "    # GPU and resulting in a slow down.\n",
        "    with tf.device('/cpu:0'):\n",
        "      t_images, t_labels = cifar10.distorted_inputs()\n",
        "\n",
        "    # Build a Graph that computes the logits predictions from the\n",
        "    # inference model.\n",
        "    t_images_pl, t_logits = create_model(t_images)\n",
        "\n",
        "    # Calculate loss.\n",
        "    t_loss = cifar10.loss(t_logits, t_labels)\n",
        "\n",
        "    # Build a Graph that trains the model with one batch of examples and\n",
        "    # updates the model parameters.\n",
        "    t_train_op = cifar10.train(t_loss, t_global_step)\n",
        "    saver_hook = tf.train.CheckpointSaverHook(\n",
        "      checkpoint_dir='./checkpoints',\n",
        "      save_secs=None,\n",
        "      save_steps=save_steps,\n",
        "      saver=tf.train.Saver(),\n",
        "      checkpoint_basename='cifar_model.ckpt',\n",
        "      scaffold=None)\n",
        "    with tf.train.MonitoredTrainingSession(hooks=[saver_hook]) as sess:\n",
        "      while not sess.should_stop():\n",
        "        l, step, _ = sess.run([t_loss, t_global_step, t_train_op])\n",
        "        if step % save_steps == 0:\n",
        "          test_logits = get_prediction(sess, t_logits, t_images_pl, test_images)\n",
        "          test_accuracy = np.mean(np.equal(np.argmax(test_logits, axis=1), test_labels))\n",
        "          print \"Loss at step %d: %f\" % (step , l)\n",
        "          print \"Test accuracy at step %d: %f\" % (step, test_accuracy)"
      ],
      "execution_count": 0,
      "outputs": []
    },
    {
      "cell_type": "markdown",
      "metadata": {
        "id": "rW16gvv7ifik",
        "colab_type": "text"
      },
      "source": [
        "## Train a new CIFAR10 Tensorflow model, save checkpoint"
      ]
    },
    {
      "cell_type": "code",
      "metadata": {
        "id": "iqAtzqaPiiHj",
        "colab_type": "code",
        "colab": {}
      },
      "source": [
        "train_model()"
      ],
      "execution_count": 0,
      "outputs": []
    },
    {
      "cell_type": "code",
      "metadata": {
        "id": "nBZe6Hx9dHsJ",
        "colab_type": "code",
        "colab": {}
      },
      "source": [
        "ckpt_path_name = \"./checkpoints/cifar_model.ckpt-84000\"\n",
        "from google.colab import files\n",
        "files.download(ckpt_path_name + '.data-00000-of-00001')\n",
        "files.download(ckpt_path_name + '.index')\n",
        "files.download(ckpt_path_name + '.meta')"
      ],
      "execution_count": 0,
      "outputs": []
    },
    {
      "cell_type": "code",
      "metadata": {
        "colab_type": "code",
        "outputId": "48d22469-1248-4a1a-91b5-f21ec64ef775",
        "id": "UeexhNxP-kL3",
        "colab": {
          "base_uri": "https://localhost:8080/",
          "height": 816
        }
      },
      "source": [
        "!ls ./checkpoints"
      ],
      "execution_count": 0,
      "outputs": [
        {
          "output_type": "stream",
          "text": [
            "checkpoint\n",
            "cifar_model.ckpt-1.data-00000-of-00001\n",
            "cifar_model.ckpt-1.index\n",
            "cifar_model.ckpt-1.meta\n",
            "cifar_model.ckpt-400.data-00000-of-00001\n",
            "cifar_model.ckpt-400.index\n",
            "cifar_model.ckpt-400.meta\n",
            "cifar_model.ckpt-600.data-00000-of-00001\n",
            "cifar_model.ckpt-600.index\n",
            "cifar_model.ckpt-600.meta\n",
            "cifar_model.ckpt-65100.data-00000-of-00001\n",
            "cifar_model.ckpt-65100.index\n",
            "cifar_model.ckpt-65100.meta\n",
            "cifar_model.ckpt-65200.data-00000-of-00001\n",
            "cifar_model.ckpt-65200.index\n",
            "cifar_model.ckpt-65200.meta\n",
            "cifar_model.ckpt-65300.data-00000-of-00001\n",
            "cifar_model.ckpt-65300.index\n",
            "cifar_model.ckpt-65300.meta\n",
            "cifar_model.ckpt-65400.data-00000-of-00001\n",
            "cifar_model.ckpt-65400.index\n",
            "cifar_model.ckpt-65400.meta\n",
            "cifar_model.ckpt-700.data-00000-of-00001\n",
            "cifar_model.ckpt-700.index\n",
            "cifar_model.ckpt-700.meta\n",
            "cifar_model.ckpt-800.data-00000-of-00001\n",
            "cifar_model.ckpt-800.index\n",
            "cifar_model.ckpt-800.meta\n",
            "cifar_model.ckpt-83500.data-00000-of-00001\n",
            "cifar_model.ckpt-83500.index\n",
            "cifar_model.ckpt-83500.meta\n",
            "cifar_model.ckpt-84000.data-00000-of-00001\n",
            "cifar_model.ckpt-84000.index\n",
            "cifar_model.ckpt-84000.meta\n",
            "cifar_model.ckpt-84500.data-00000-of-00001\n",
            "cifar_model.ckpt-84500.index\n",
            "cifar_model.ckpt-84500.meta\n",
            "cifar_model.ckpt-85000.data-00000-of-00001\n",
            "cifar_model.ckpt-85000.index\n",
            "cifar_model.ckpt-85000.meta\n",
            "cifar_model.ckpt-85500.data-00000-of-00001\n",
            "cifar_model.ckpt-85500.index\n",
            "cifar_model.ckpt-85500.meta\n",
            "cifar_model.ckpt-900.data-00000-of-00001\n",
            "cifar_model.ckpt-900.index\n",
            "events.out.tfevents.1543620789.ed27981316da\n",
            "graph.pbtxt\n"
          ],
          "name": "stdout"
        }
      ]
    },
    {
      "cell_type": "markdown",
      "metadata": {
        "colab_type": "text",
        "id": "oZA0U3oG-kgu"
      },
      "source": [
        "## Restore Tensorflow model from checkpoint on Github"
      ]
    },
    {
      "cell_type": "code",
      "metadata": {
        "id": "ORKRKdAB_bkr",
        "colab_type": "code",
        "colab": {}
      },
      "source": [
        "!mkdir -p ./restored_checkpoints\n",
        "!wget https://github.com/hayesconverse/sym_convnn/raw/master/CIFAR10_colab_checkpoint/checkpoints_ataly_model/cifar_model.ckpt-84000.index -O ./restored_checkpoints/cifar_model.ckpt.index\n",
        "!wget https://github.com/hayesconverse/sym_convnn/raw/master/CIFAR10_colab_checkpoint/checkpoints_ataly_model/cifar_model.ckpt-84000.meta -O ./restored_checkpoints/cifar_model.ckpt.meta\n",
        "!wget https://github.com/hayesconverse/sym_convnn/raw/master/CIFAR10_colab_checkpoint/checkpoints_ataly_model/cifar_model.ckpt-84000.data-00000-of-00001 -O ./restored_checkpoints/cifar_model.ckpt.data-00000-of-00001"
      ],
      "execution_count": 0,
      "outputs": []
    },
    {
      "cell_type": "code",
      "metadata": {
        "colab_type": "code",
        "outputId": "f8b1af94-0f34-468f-fc02-9df58dba4987",
        "id": "cNPbulWH-kgo",
        "colab": {
          "base_uri": "https://localhost:8080/",
          "height": 34
        }
      },
      "source": [
        "tf.reset_default_graph()\n",
        "\n",
        "# From now on we work with the default graph.\n",
        "t_images_pl, t_logits = create_model(test_images[:BATCH_SIZE])\n",
        "sess = tf.Session()\n",
        "saver = tf.train.Saver()\n",
        "saver.restore(sess, './restored_checkpoints/cifar_model.ckpt')\n"
      ],
      "execution_count": 0,
      "outputs": [
        {
          "output_type": "stream",
          "text": [
            "INFO:tensorflow:Restoring parameters from ./restored_checkpoints/cifar_model.ckpt\n"
          ],
          "name": "stdout"
        }
      ]
    },
    {
      "cell_type": "code",
      "metadata": {
        "colab_type": "code",
        "outputId": "0e30a629-5ede-43a6-b0cd-e74af60ea025",
        "id": "Xz4RAbzq-kgj",
        "colab": {
          "base_uri": "https://localhost:8080/",
          "height": 85
        }
      },
      "source": [
        "train_predictions_all = get_prediction(sess, t_logits, t_images_pl, train_images)\n",
        "train_predictions = np.argmax(train_predictions_all, axis=1)\n",
        "test_predictions_all = get_prediction(sess, t_logits, t_images_pl, test_images)\n",
        "test_predictions = np.argmax(test_predictions_all, axis=1)\n",
        "\n",
        "# ACCURACY\n",
        "print \"\"\n",
        "print \"Accuracy\", np.mean(np.equal(test_predictions, test_labels))"
      ],
      "execution_count": 0,
      "outputs": [
        {
          "output_type": "stream",
          "text": [
            "100%|██████████| 391/391 [00:05<00:00, 74.86it/s]\n",
            "100%|██████████| 79/79 [00:00<00:00, 91.08it/s]"
          ],
          "name": "stderr"
        },
        {
          "output_type": "stream",
          "text": [
            "\n",
            "Accuracy 0.8314\n"
          ],
          "name": "stdout"
        },
        {
          "output_type": "stream",
          "text": [
            "\n"
          ],
          "name": "stderr"
        }
      ]
    },
    {
      "cell_type": "markdown",
      "metadata": {
        "id": "yR9bYFN9E9lg",
        "colab_type": "text"
      },
      "source": [
        "## Library for IG Attribution and Conductance"
      ]
    },
    {
      "cell_type": "code",
      "metadata": {
        "id": "L2F_QleSkgvY",
        "colab_type": "code",
        "outputId": "840c43f7-98fa-4dc8-c075-3b709d2756ec",
        "colab": {
          "base_uri": "https://localhost:8080/",
          "height": 102
        }
      },
      "source": [
        "t_fc1 = sess.graph.get_tensor_by_name('local4/local4:0')\n",
        "t_conv1 = sess.graph.get_tensor_by_name('conv1/conv1:0')\n",
        "t_label = tf.placeholder(tf.int32)\n",
        "t_neuron_id = tf.placeholder(tf.int32)\n",
        "t_grad = tf.gradients(t_logits[:, t_label], t_images_pl)\n",
        "print t_fc1.shape\n",
        "print t_conv1.shape\n",
        "#t_conv2 = sess.graph.get_tensor_by_name('import/h_conv2:0')\n",
        "t_grad_neuron = tf.gradients(t_logits[:, t_label], t_fc1)[0]\n",
        "t_grad_conductance = tf.gradients(t_fc1[:,t_neuron_id], t_images_pl, grad_ys=t_grad_neuron[:, t_neuron_id])"
      ],
      "execution_count": 0,
      "outputs": [
        {
          "output_type": "stream",
          "text": [
            "(128, 192)\n",
            "(128, 24, 24, 64)\n",
            "<tensorflow.python.framework.ops.Graph object at 0x7f4178da41d0>\n",
            "<tensorflow.python.framework.ops.Graph object at 0x7f4178da41d0>\n",
            "<tensorflow.python.framework.ops.Graph object at 0x7f4178da41d0>\n"
          ],
          "name": "stdout"
        }
      ]
    },
    {
      "cell_type": "code",
      "metadata": {
        "id": "TL92gsWskV0-",
        "colab_type": "code",
        "colab": {}
      },
      "source": [
        "import copy\n",
        "\n",
        "def attribute(inp, label, baseline=None, steps=50, use_top_label=False):\n",
        "  def top_label(inp):\n",
        "    return np.argmax(get_prediction(sess, t_logits, t_images_pl, [inp])[0])\n",
        "  if baseline is None:\n",
        "    baseline = 0*inp\n",
        "  scaled_inputs = [baseline + (float(i)/steps)*(inp-baseline) for i in range(0, steps)]\n",
        "  #feed_dict = {W_conv1: convWeightMatrix[0], b_conv1: convBiasMatrix[0], \n",
        "  #           W_conv2: convWeightMatrix[1], b_conv2: convBiasMatrix[1], \n",
        "  #           W_conv3: convWeightMatrix[2], b_conv3: convBiasMatrix[2], \n",
        "  #           W_conv4: convWeightMatrix[3], b_conv4: convBiasMatrix[3], \n",
        "  #           W_fc1: denseWeightMatrix[0], b_fc1: denseBiasMatrix[0], \n",
        "  #           W_fc2: denseWeightMatrix[1], b_fc2: denseBiasMatrix[1]}\n",
        "  if use_top_label:\n",
        "    feed_dict[x] = [inp]\n",
        "    logits = sess.run(t_logits, feed_dict=feed_dict)[0]\n",
        "    label = np.argmax(logits)\n",
        "  feed_dict[x] = scaled_inputs\n",
        "  feed_dict[t_label] = label\n",
        "  grads, scores = sess.run([t_grad, t_logits], feed_dict=feed_dict)  # shapes: <steps+1>, <steps+1, inp.shape>\n",
        "  integrated_gradients = (inp-baseline)*np.average(grads[0], axis=0)  # shape: <inp.shape>\n",
        "  print \"FINAL SCORE\", scores[-1][label]\n",
        "  print \"BASELINE SCORE\", scores[0][label]\n",
        "  print \"SUM\", np.sum(integrated_gradients), \"DIFF\", scores[-1][label] - scores[0][label]\n",
        "  return integrated_gradients\n",
        "\n",
        "def conductance(inp, label, neuron_id=None, baseline=None, steps=50):\n",
        "  # neuron_id is the id of the neuron in layer t_fc1 through which conductance\n",
        "  # must be computed. If None, vanilla IG is computed.\n",
        "  if baseline is None:\n",
        "    baseline = 0*inp\n",
        "  scaled_inputs = [baseline + (float(i)/steps)*(inp-baseline) for i in range(0, steps)]\n",
        "  #feed_dict = {W_conv1: convWeightMatrix[0], b_conv1: convBiasMatrix[0], \n",
        "  #           W_conv2: convWeightMatrix[1], b_conv2: convBiasMatrix[1], \n",
        "  #           W_conv3: convWeightMatrix[2], b_conv3: convBiasMatrix[2], \n",
        "  #           W_conv4: convWeightMatrix[3], b_conv4: convBiasMatrix[3], \n",
        "  #           W_fc1: denseWeightMatrix[0], b_fc1: denseBiasMatrix[0], \n",
        "  #           W_fc2: denseWeightMatrix[1], b_fc2: denseBiasMatrix[1]}\n",
        "  feed_dict[x] = scaled_inputs\n",
        "  feed_dict[t_label] = label\n",
        "  if neuron_id != None:\n",
        "    feed_dict[t_neuron_id] = neuron_id\n",
        "    grads, scores = sess.run([t_grad_conductance, t_logits], feed_dict=feed_dict)  # shapes: <steps+1>, <steps+1, inp.shape>\n",
        "    integrated_gradients = (inp-baseline)*np.average(grads[0], axis=0)  # shape: <inp.shape>\n",
        "    return integrated_gradients\n",
        "  grads, scores = sess.run([t_grad, t_logits], feed_dict=feed_dict)  # shapes: <steps+1>, <steps+1, inp.shape>    \n",
        "  integrated_gradients = (inp-baseline)*np.average(grads[0], axis=0)  # shape: <inp.shape>\n",
        "  print \"FINAL SCORE\", scores[-1][label]\n",
        "  print \"BASELINE SCORE\", scores[0][label]\n",
        "  print \"SUM\", np.sum(integrated_gradients), \"DIFF\", scores[-1][label] - scores[0][label]\n",
        "  return integrated_gradients"
      ],
      "execution_count": 0,
      "outputs": []
    },
    {
      "cell_type": "markdown",
      "metadata": {
        "id": "iG5Fq5GIkP6u",
        "colab_type": "text"
      },
      "source": [
        "## Library for Visualizing Images and Attributions"
      ]
    },
    {
      "cell_type": "code",
      "metadata": {
        "id": "czxZISZYkLaH",
        "colab_type": "code",
        "colab": {}
      },
      "source": [
        "import PIL.Image\n",
        "from IPython.display import clear_output, Image, display, HTML\n",
        "import numpy as np\n",
        "from cStringIO import StringIO"
      ],
      "execution_count": 0,
      "outputs": []
    },
    {
      "cell_type": "code",
      "metadata": {
        "id": "x_o25suPkTL3",
        "colab_type": "code",
        "colab": {}
      },
      "source": [
        "FONT_PATH='/usr/share/fonts/truetype/dejavu/DejaVuSansCondensed.ttf'\n",
        "IMAGE_SIZE=24\n",
        "\n",
        "def mnist_to_rgb(mnist_img):\n",
        "  \"\"\"\n",
        "  Transformsn an MNIST image (shape: <784>) to a grayscale\n",
        "  RGB image (shape: <28,28,3>)\n",
        "  \"\"\"\n",
        "  pixel_array = mnist_img.reshape(IMAGE_SIZE, IMAGE_SIZE)  # shape: 28,28\n",
        "  rgb_image = np.transpose([pixel_array,pixel_array,pixel_array], axes=[1,2,0])\n",
        "  return rgb_image\n",
        "\n",
        "def cifar_to_rgb(cifar_img):\n",
        "  rgb_image = cifar_img.reshape(IMAGE_SIZE, IMAGE_SIZE, 3) # shape: 32,32,3\n",
        "  return rgb_image\n",
        "\n",
        "def pil_img(a):\n",
        "  '''Returns a PIL image created from the provided RGB array.\n",
        "  '''\n",
        "  a = np.uint8(a)\n",
        "  return PIL.Image.fromarray(a)\n",
        "\n",
        "def mnist_to_pil_img(inp):\n",
        "  rgb_inp = 255*mnist_to_rgb(inp)\n",
        "  vis_inp = pil_img(rgb_inp)\n",
        "  return vis_inp  \n",
        "\n",
        "def cifar_to_pil_img(inp):\n",
        "  rgb_inp = 255*cifar_to_rgb(inp)\n",
        "  vis_inp = pil_img(rgb_inp) \n",
        "\n",
        "def pil_fig(fig):\n",
        "  # Returns a PIL image obtained from the provided PLT figure.\n",
        "  buf = io.BytesIO()\n",
        "  fig.savefig(buf, format='png')\n",
        "  plt.close(fig)\n",
        "  buf.seek(0)\n",
        "  img = PIL.Image.open(buf)\n",
        "  return img\n",
        "\n",
        "def show_img(img, fmt='jpeg'):\n",
        "  '''Displays the provided PIL image\n",
        "  '''\n",
        "  f = StringIO()\n",
        "  img.save(f, fmt)\n",
        "  display(Image(data=f.getvalue()))\n",
        " \n",
        "def show_mnist_img(mnist_img):\n",
        "  show_img(pil_img(255*mnist_to_rgb(mnist_img)))\n",
        "  \n",
        "def show_cifar_img(cifar_img):\n",
        "  show_img(pil_img(255*cifar_to_rgb(cifar_img)))\n",
        "  \n",
        "def gray_scale(img):\n",
        "  '''Converts the provided RGB image to gray scale.\n",
        "  '''\n",
        "  img = np.average(img, axis=2)\n",
        "  return np.transpose([img, img, img], axes=[1,2,0])\n",
        "\n",
        "def normalize(attrs, ptile=99):\n",
        "  '''Normalize the provided attributions so that they fall between\n",
        "     -1.0 and 1.0.\n",
        "  '''\n",
        "  h = np.percentile(attrs, ptile)\n",
        "  l = np.percentile(attrs, 100-ptile)\n",
        "  return np.clip(attrs/max(abs(h), abs(l)), -1.0, 1.0)    \n",
        "\n",
        "def pil_text(strs, shape, start_h=10, start_w=10, font_size=18, color=(0, 0, 0)):\n",
        "  # Returns a PIL image with the provided text.\n",
        "  img = pil_img(255*np.ones(shape))\n",
        "  draw = PIL.ImageDraw.Draw(img)\n",
        "  font = PIL.ImageFont.truetype(FONT_PATH, font_size)\n",
        "  h = start_h\n",
        "  for s in strs: \n",
        "    draw.text((start_w,h), s, fill=color, font=font)\n",
        "    h = h + 30\n",
        "  return img\n",
        "\n",
        "def combine(imgs, horizontal=True):\n",
        "  # Combines the provided PIL Images horizontally or veritically\n",
        "  if horizontal:\n",
        "    w = np.sum([img.size[0]+10 for img in imgs])\n",
        "    h = np.max([img.size[1] for img in imgs])\n",
        "  else:\n",
        "    w = np.max([img.size[0] for img in imgs])\n",
        "    h = np.sum([img.size[1]+10 for img in imgs])\n",
        "  final_img = PIL.Image.new('RGB', (w, h), color='white')\n",
        "  pos = 0\n",
        "  for img in imgs:\n",
        "    if horizontal:\n",
        "      final_img.paste(im=img, box=(pos,0))\n",
        "      pos = pos+img.size[0]+10\n",
        "    else:\n",
        "      final_img.paste(im=img, box=(0,pos))\n",
        "      pos = pos+img.size[1]+10\n",
        "  return final_img\n",
        "\n",
        "def visualize_attrs(img, attrs, ptile=99):\n",
        "  '''Visaualizes the provided attributions by first aggregating them\n",
        "    along the color channel to obtain per-pixel attributions and then\n",
        "    scaling the intensities of the pixels in the original image in\n",
        "    proportion to absolute value of these attributions.\n",
        "\n",
        "    The provided image and attributions must of shape (224, 224, 3).\n",
        "  '''\n",
        "  if np.sum(attrs) == 0.0:\n",
        "    # print \"Attributions are all ZERO\"\n",
        "    return pil_img(0*img)\n",
        "  attrs = gray_scale(attrs)\n",
        "  attrs = abs(attrs)\n",
        "  attrs = np.clip(attrs/np.percentile(attrs, ptile), 0,1)\n",
        "  vis = img*attrs\n",
        "  return pil_img(vis)\n",
        "  \n",
        "  \n",
        "R=np.array([255,0,0])\n",
        "G=np.array([0,255,0])\n",
        "B=np.array([0,0,255])\n",
        "def visualize_attrs2(img, attrs, pos_ch=G, neg_ch=R, ptile=99):\n",
        "  '''Visaualizes the provided attributions by first aggregating them\n",
        "     along the color channel and then overlaying the positive attributions\n",
        "     along pos_ch, and negative attributions along neg_ch.\n",
        "\n",
        "     The provided image and attributions must of shape (224, 224, 3).\n",
        "  '''\n",
        "  if np.sum(attrs) == 0.0:\n",
        "    # print \"Attributions are all ZERO\"\n",
        "    return pil_img(0*img)\n",
        "  attrs = gray_scale(attrs)\n",
        "  attrs = normalize(attrs, ptile)   \n",
        "  pos_attrs = attrs * (attrs >= 0.0)\n",
        "  neg_attrs = -1.0 * attrs * (attrs < 0.0)\n",
        "  attrs_mask = pos_attrs*pos_ch + neg_attrs*neg_ch\n",
        "  vis = 0.3*gray_scale(img) + 0.7*attrs_mask\n",
        "  return pil_img(vis)"
      ],
      "execution_count": 0,
      "outputs": []
    },
    {
      "cell_type": "markdown",
      "metadata": {
        "id": "i_uhUyYiBlL7",
        "colab_type": "text"
      },
      "source": [
        "## Extracting Invariant Candidates for Tensorflow Model"
      ]
    },
    {
      "cell_type": "code",
      "metadata": {
        "id": "MI8OPoEuA_RU",
        "colab_type": "code",
        "outputId": "54fc1f38-bead-4a89-d632-0b512a51aedb",
        "colab": {
          "base_uri": "https://localhost:8080/",
          "height": 181
        }
      },
      "source": [
        "t_fc1 = sess.graph.get_tensor_by_name('local4/local4:0')\n",
        "t_conv1 = sess.graph.get_tensor_by_name('conv1/conv1:0')"
      ],
      "execution_count": 0,
      "outputs": [
        {
          "output_type": "error",
          "ename": "AttributeError",
          "evalue": "ignored",
          "traceback": [
            "\u001b[0;31m\u001b[0m",
            "\u001b[0;31mAttributeError\u001b[0mTraceback (most recent call last)",
            "\u001b[0;32m<ipython-input-36-668a5bca85e5>\u001b[0m in \u001b[0;36m<module>\u001b[0;34m()\u001b[0m\n\u001b[0;32m----> 1\u001b[0;31m \u001b[0mt_fc1\u001b[0m \u001b[0;34m=\u001b[0m \u001b[0msess\u001b[0m\u001b[0;34m.\u001b[0m\u001b[0mgraph\u001b[0m\u001b[0;34m.\u001b[0m\u001b[0mget_tensor_by_name\u001b[0m\u001b[0;34m(\u001b[0m\u001b[0;34m'local4/local4:0'\u001b[0m\u001b[0;34m)\u001b[0m\u001b[0;34m\u001b[0m\u001b[0m\n\u001b[0m\u001b[1;32m      2\u001b[0m \u001b[0mt_conv1\u001b[0m \u001b[0;34m=\u001b[0m \u001b[0msess\u001b[0m\u001b[0;34m.\u001b[0m\u001b[0mgraph\u001b[0m\u001b[0;34m.\u001b[0m\u001b[0mget_tensor_by_name\u001b[0m\u001b[0;34m(\u001b[0m\u001b[0;34m'conv1/conv1:0'\u001b[0m\u001b[0;34m)\u001b[0m\u001b[0;34m\u001b[0m\u001b[0m\n",
            "\u001b[0;31mAttributeError\u001b[0m: 'NoneType' object has no attribute 'get_tensor_by_name'"
          ]
        }
      ]
    },
    {
      "cell_type": "code",
      "metadata": {
        "id": "RToI9ehA1zfk",
        "colab_type": "code",
        "colab": {}
      },
      "source": [
        "#Test getting suffixes and checking accuracy\n",
        "t_fc1 = sess.graph.get_tensor_by_name('local4/local4:0')\n",
        "t_conv1 = sess.graph.get_tensor_by_name('conv1/conv1:0')\n",
        "\n",
        "T_LAYER = t_fc1\n",
        "def fingerprint_suffix(images):\n",
        "  print \"Getting fingerprint for\", T_LAYER.name\n",
        "  return (get_prediction(sess, T_LAYER, t_images_pl, images)>0.0).astype('int')"
      ],
      "execution_count": 0,
      "outputs": []
    },
    {
      "cell_type": "code",
      "metadata": {
        "id": "uJmZBO7-BVhJ",
        "colab_type": "code",
        "outputId": "f8265c95-a06d-4eb4-c2e0-2911592d1491",
        "colab": {
          "base_uri": "https://localhost:8080/",
          "height": 85
        }
      },
      "source": [
        "train_suffixes = fingerprint_suffix(train_images)\n",
        "test_suffixes = fingerprint_suffix(test_images)\n"
      ],
      "execution_count": 0,
      "outputs": [
        {
          "output_type": "stream",
          "text": [
            "  2%|▏         | 6/391 [00:00<00:06, 57.18it/s]"
          ],
          "name": "stderr"
        },
        {
          "output_type": "stream",
          "text": [
            "Getting fingerprint for local4/local4:0\n"
          ],
          "name": "stdout"
        },
        {
          "output_type": "stream",
          "text": [
            "100%|██████████| 391/391 [00:04<00:00, 91.53it/s]\n",
            " 13%|█▎        | 10/79 [00:00<00:00, 98.13it/s]"
          ],
          "name": "stderr"
        },
        {
          "output_type": "stream",
          "text": [
            "Getting fingerprint for local4/local4:0\n"
          ],
          "name": "stdout"
        },
        {
          "output_type": "stream",
          "text": [
            "100%|██████████| 79/79 [00:00<00:00, 95.21it/s]\n"
          ],
          "name": "stderr"
        }
      ]
    },
    {
      "cell_type": "code",
      "metadata": {
        "id": "xxgnKvn04Q92",
        "colab_type": "code",
        "colab": {}
      },
      "source": [
        "def describe_input(i, training=True):\n",
        "  if training:\n",
        "    print \"Input\", i\n",
        "    print \"Groundtruth\", train_labels[i]\n",
        "    print \"Prediction\", train_predictions[i]\n",
        "    print \"Fine-grained prediction\", 10*train_labels[i] + train_predictions[i]\n",
        "    show_cifar_img(train_images[i])\n",
        "  else:\n",
        "    print \"Input\", i\n",
        "    print \"Groundtruth\", test_labels[i]\n",
        "    print \"Prediction\", test_predictions[i]\n",
        "    print \"Fine-grained prediction\", 10*test_labels[i] + test_predictions[i]\n",
        "    show_cifar_img(test_images[i])"
      ],
      "execution_count": 0,
      "outputs": []
    },
    {
      "cell_type": "markdown",
      "metadata": {
        "id": "1fcVM2dek4Qo",
        "colab_type": "text"
      },
      "source": [
        "## Build the Decision Tree"
      ]
    },
    {
      "cell_type": "code",
      "metadata": {
        "id": "c_0fvX3aAWHN",
        "colab_type": "code",
        "outputId": "180e2b41-1943-4337-ccec-e94eb3f5b346",
        "colab": {
          "base_uri": "https://localhost:8080/",
          "height": 52
        }
      },
      "source": [
        "# Basic decision tree\n",
        "basic_estimator = tree.DecisionTreeClassifier()\n",
        "basic_estimator.fit(train_suffixes, train_predictions)\n",
        "\n",
        "# Evaluate basic_estimator on test data\n",
        "basic_estimator_acc = (basic_estimator.predict(test_suffixes) == test_labels)\n",
        "basic_estimator_agreement = (basic_estimator.predict(test_suffixes) == test_predictions)\n",
        "print \"Estimator accuracy\", 1.0*np.sum(basic_estimator_acc)/len(test_suffixes)\n",
        "print \"Estimator agreement\", 1.0*np.sum(basic_estimator_agreement)/len(test_suffixes)"
      ],
      "execution_count": 0,
      "outputs": [
        {
          "output_type": "stream",
          "text": [
            "Estimator accuracy 0.67\n",
            "Estimator agreement 0.7238\n"
          ],
          "name": "stdout"
        }
      ]
    },
    {
      "cell_type": "code",
      "metadata": {
        "id": "rkvj66ZvX3B9",
        "colab_type": "code",
        "outputId": "f7daa30f-adab-4905-dc94-2f1cd434f1e4",
        "colab": {
          "base_uri": "https://localhost:8080/",
          "height": 119
        }
      },
      "source": [
        "# Fine-grained predictions decision tree\n",
        "fine_grained_predictions = 10*train_labels + train_predictions\n",
        "fine_grained_estimator = tree.DecisionTreeClassifier()\n",
        "fine_grained_estimator.fit(train_suffixes, fine_grained_predictions)"
      ],
      "execution_count": 0,
      "outputs": [
        {
          "output_type": "execute_result",
          "data": {
            "text/plain": [
              "DecisionTreeClassifier(class_weight=None, criterion='gini', max_depth=None,\n",
              "            max_features=None, max_leaf_nodes=None,\n",
              "            min_impurity_decrease=0.0, min_impurity_split=None,\n",
              "            min_samples_leaf=1, min_samples_split=2,\n",
              "            min_weight_fraction_leaf=0.0, presort=False, random_state=None,\n",
              "            splitter='best')"
            ]
          },
          "metadata": {
            "tags": []
          },
          "execution_count": 14
        }
      ]
    },
    {
      "cell_type": "code",
      "metadata": {
        "id": "FfwDuDQtprdh",
        "colab_type": "code",
        "colab": {}
      },
      "source": [
        "# Decision tree per label\n",
        "def get_relative_predictions(label):\n",
        "  print \"Create relative predictions for label:%d\" % label\n",
        "  res = np.zeros(train_predictions.shape)\n",
        "  for i in range(len(train_predictions)):\n",
        "    pred = train_predictions[i]\n",
        "    gt = cifar_train_labels[i]\n",
        "    if gt == label and pred == gt:\n",
        "      res[i] = 0\n",
        "    elif gt == label and pred != gt:\n",
        "      res[i] = 1\n",
        "    else:\n",
        "      res[i] = 2\n",
        "  print \"Num correct: %d\" % np.sum(res == 0)\n",
        "  print \"Num misclassified: %d\" % np.sum(res == 1)\n",
        "  print \"Num others: %d\" % np.sum(res == 2)\n",
        "  return res\n",
        "\n",
        "def get_relative_estimator(label):\n",
        "  predictions = get_relative_predictions(label)\n",
        "  print \"Creating decision tree for label:%d\" % label\n",
        "  estimator = tree.DecisionTreeClassifier()\n",
        "  estimator.fit(train_suffixes, predictions)\n",
        "  return estimator"
      ],
      "execution_count": 0,
      "outputs": []
    },
    {
      "cell_type": "code",
      "metadata": {
        "id": "dHJlFvwXzXgF",
        "colab_type": "code",
        "colab": {}
      },
      "source": [
        "# SLOW; run only if you want to build relative estimators.\n",
        "relative_estimators = [None for _ in range(10)]\n",
        "for i in range(10):\n",
        "  relative_estimators[i] = get_relative_estimator(i)"
      ],
      "execution_count": 0,
      "outputs": []
    },
    {
      "cell_type": "markdown",
      "metadata": {
        "colab_type": "text",
        "id": "xqkL17z28jI7"
      },
      "source": [
        "## Distillation Analysis for Paper (CAV 2019)"
      ]
    },
    {
      "cell_type": "code",
      "metadata": {
        "colab_type": "code",
        "id": "Ry0IsBw38jI8",
        "colab": {}
      },
      "source": [
        "# Run Restore Keras Model and Jump to this place"
      ],
      "execution_count": 0,
      "outputs": []
    },
    {
      "cell_type": "code",
      "metadata": {
        "colab_type": "code",
        "outputId": "7d480fbf-8e7a-4670-d961-528cbec55343",
        "id": "ZoIG96P98jI-",
        "colab": {
          "base_uri": "https://localhost:8080/",
          "height": 221
        }
      },
      "source": [
        "t_flatten = graph.get_tensor_by_name('flatten_1/Reshape:0') #Shape: 3200\n",
        "train_suffixes_flatten = fingerprint_suffix_keras(train_images, tensor=t_flatten)\n",
        "test_suffixes_flatten = fingerprint_suffix_keras(test_images, tensor=t_flatten)\n",
        "\n",
        "t_dense1 = graph.get_tensor_by_name('activation_5/Relu:0') #Shape: 256\n",
        "train_suffixes_dense1 = fingerprint_suffix_keras(train_images, tensor=t_dense1)\n",
        "test_suffixes_dense1 = fingerprint_suffix_keras(test_images, tensor=t_dense1)\n",
        "\n",
        "t_dense2 = graph.get_tensor_by_name('activation_6/Relu:0') #Shape: 256\n",
        "train_suffixes_dense2 = fingerprint_suffix_keras(train_images, tensor=t_dense2)\n",
        "test_suffixes_dense2 = fingerprint_suffix_keras(test_images, tensor=t_dense2)"
      ],
      "execution_count": 0,
      "outputs": [
        {
          "output_type": "stream",
          "text": [
            "  2%|▏         | 8/500 [00:00<00:06, 78.72it/s]"
          ],
          "name": "stderr"
        },
        {
          "output_type": "stream",
          "text": [
            "Getting fingerprint for flatten_1/Reshape:0\n"
          ],
          "name": "stdout"
        },
        {
          "output_type": "stream",
          "text": [
            "100%|██████████| 500/500 [00:05<00:00, 96.36it/s] \n",
            " 11%|█         | 11/100 [00:00<00:00, 104.00it/s]"
          ],
          "name": "stderr"
        },
        {
          "output_type": "stream",
          "text": [
            "Getting fingerprint for flatten_1/Reshape:0\n"
          ],
          "name": "stdout"
        },
        {
          "output_type": "stream",
          "text": [
            "100%|██████████| 100/100 [00:01<00:00, 98.49it/s]\n",
            "  2%|▏         | 8/500 [00:00<00:06, 78.64it/s]"
          ],
          "name": "stderr"
        },
        {
          "output_type": "stream",
          "text": [
            "Getting fingerprint for activation_5/Relu:0\n"
          ],
          "name": "stdout"
        },
        {
          "output_type": "stream",
          "text": [
            "100%|██████████| 500/500 [00:05<00:00, 97.12it/s]\n",
            " 10%|█         | 10/100 [00:00<00:00, 98.29it/s]"
          ],
          "name": "stderr"
        },
        {
          "output_type": "stream",
          "text": [
            "Getting fingerprint for activation_5/Relu:0\n"
          ],
          "name": "stdout"
        },
        {
          "output_type": "stream",
          "text": [
            "100%|██████████| 100/100 [00:01<00:00, 93.84it/s]\n",
            "  2%|▏         | 11/500 [00:00<00:04, 100.37it/s]"
          ],
          "name": "stderr"
        },
        {
          "output_type": "stream",
          "text": [
            "Getting fingerprint for activation_6/Relu:0\n"
          ],
          "name": "stdout"
        },
        {
          "output_type": "stream",
          "text": [
            "100%|██████████| 500/500 [00:05<00:00, 96.45it/s]\n",
            " 11%|█         | 11/100 [00:00<00:00, 101.36it/s]"
          ],
          "name": "stderr"
        },
        {
          "output_type": "stream",
          "text": [
            "Getting fingerprint for activation_6/Relu:0\n"
          ],
          "name": "stdout"
        },
        {
          "output_type": "stream",
          "text": [
            "100%|██████████| 100/100 [00:01<00:00, 92.99it/s]\n"
          ],
          "name": "stderr"
        }
      ]
    },
    {
      "cell_type": "code",
      "metadata": {
        "colab_type": "code",
        "outputId": "2675e243-bfdf-4fc4-9b08-82d4fcd4a170",
        "id": "JQWQ1DYK8jJC",
        "colab": {
          "base_uri": "https://localhost:8080/",
          "height": 170
        }
      },
      "source": [
        "def eval_basic_estimator(estimator, suffixes, orig_model_predictions, gt_predictions):\n",
        "  estimator_predictions = estimator.predict(suffixes)\n",
        "  acc = (estimator_predictions == gt_predictions)\n",
        "  agreement = (estimator_predictions == orig_model_predictions)\n",
        "  print \"Estimator accuracy\", 1.0*np.sum(acc)/len(suffixes)\n",
        "  print \"Estimator agreement\", 1.0*np.sum(agreement)/len(suffixes)\n",
        "\n",
        "print \"Flatten\"\n",
        "basic_estimator_flatten = tree.DecisionTreeClassifier()\n",
        "basic_estimator_flatten.fit(train_suffixes_flatten, train_predictions)\n",
        "# Evaluation\n",
        "eval_basic_estimator(basic_estimator_flatten, test_suffixes_flatten, test_predictions, test_labels)\n",
        "\n",
        "print \"Dense1\"\n",
        "basic_estimator_dense1 = tree.DecisionTreeClassifier()\n",
        "basic_estimator_dense1.fit(train_suffixes_dense1, train_predictions)\n",
        "# Evaluation\n",
        "eval_basic_estimator(basic_estimator_dense1, test_suffixes_dense1, test_predictions, test_labels)\n",
        "\n",
        "print \"Dense2\"\n",
        "basic_estimator_dense2 = tree.DecisionTreeClassifier()\n",
        "basic_estimator_dense2.fit(train_suffixes_dense2, train_predictions)\n",
        "# Evaluation\n",
        "eval_basic_estimator(basic_estimator_dense2, test_suffixes_dense2, test_predictions, test_labels)"
      ],
      "execution_count": 0,
      "outputs": [
        {
          "output_type": "stream",
          "text": [
            "Flatten\n",
            "Estimator accuracy 0.3795\n",
            "Estimator agreement 0.3888\n",
            "Dense1\n",
            "Estimator accuracy 0.6715\n",
            "Estimator agreement 0.7251\n",
            "Dense2\n",
            "Estimator accuracy 0.7057\n",
            "Estimator agreement 0.7872\n"
          ],
          "name": "stdout"
        }
      ]
    },
    {
      "cell_type": "code",
      "metadata": {
        "colab_type": "code",
        "id": "mkbRl6J98jJH",
        "colab": {}
      },
      "source": [
        "def get_basic_estimator_confidence(estimator, suffixes):\n",
        "  leaf_nodes = estimator.apply(suffixes)\n",
        "  conf_score = estimator.tree_.n_node_samples[leaf_nodes]\n",
        "  # check that the leaf is pure\n",
        "  is_pure = np.array([ len(np.where(v != 0)[0]) == 1 for v in estimator.tree_.value[leaf_nodes][:,0,:]])\n",
        "  print \"Num pure instances\", np.sum(is_pure)\n",
        "  conf_score *= is_pure\n",
        "  return conf_score"
      ],
      "execution_count": 0,
      "outputs": []
    },
    {
      "cell_type": "code",
      "metadata": {
        "colab_type": "code",
        "id": "ef9fQFl18jJK",
        "colab": {}
      },
      "source": [
        "def plot_bars(ax, bar_vals, bar_names, ptiles, baseline_val=None, baseline_label=None, width=0.2):\n",
        "  ax.set_ylabel(\"Agreement\")\n",
        "  ax.set_xlabel(\"Proportion of Examples\")\n",
        "  #ax.set_ylim((min([min(b) for b in bar_vals])-0.05, 1.1))\n",
        "  # ax.set_title(title)\n",
        "  # TODO: why 'plt' below and not 'ax'?\n",
        "  ind = np.arange(len(ptiles))\n",
        "  ax.set_xticks(ind)\n",
        "  ax.set_xticklabels([\"%d%%\"%(100-ptile) for ptile in ptiles])\n",
        "  if baseline_val != None:\n",
        "    ax.axhline(y=baseline_val, color='b', linestyle='-', label=baseline_label)\n",
        "  \n",
        "  colors = ['red', 'blue', 'yellow', 'green']\n",
        "  bars = []\n",
        "  for i, b in enumerate(bar_vals):\n",
        "    assert len(b) == len(ptiles)\n",
        "    bars.append(ax.bar(ind+i*width, b, width=width, color=colors[i]))\n",
        "  ax.legend(bars, bar_names)"
      ],
      "execution_count": 0,
      "outputs": []
    },
    {
      "cell_type": "code",
      "metadata": {
        "colab_type": "code",
        "outputId": "382dfbe3-d2c4-484e-e61a-fffdcf5a1a30",
        "id": "2QlTO9Lk8jJN",
        "colab": {
          "base_uri": "https://localhost:8080/",
          "height": 68
        }
      },
      "source": [
        "import matplotlib.pyplot as plt\n",
        "\n",
        "def show_confidence_plot(conf_scores, conf_score_names, all_estimator_predictions, orig_model_predictions,  gt_predictions, ptiles):\n",
        "  def get_acc_trend(score, agreement, ptiles):\n",
        "    acc_trend = []\n",
        "    for ptile in ptiles:\n",
        "      above_ptile = (score >= np.percentile(score, ptile))\n",
        "      # print np.sum(agreement*above_ptile), np.sum(above_ptile)\n",
        "      acc_trend.append(1.0*np.sum(agreement*above_ptile)/np.sum(above_ptile))\n",
        "    return acc_trend   \n",
        "  orig_correct = (orig_model_predictions == gt_predictions)\n",
        "  acc_trends = []\n",
        "  for i, score in enumerate(conf_scores):\n",
        "    estimator_predictions = all_estimator_predictions[i] \n",
        "    agreement = (orig_model_predictions == estimator_predictions)\n",
        "    acc_trends.append(get_acc_trend(score, agreement, ptiles))\n",
        "  fig, ax = plt.subplots(1, 1, sharey=True, figsize=(10,7))\n",
        "  plot_bars(\n",
        "      ax,\n",
        "      acc_trends,\n",
        "      conf_score_names,\n",
        "      ptiles,\n",
        "  )\n",
        "  plt.show(fig)\n",
        "\n",
        "basic_estimator_flatten_predictions = basic_estimator_flatten.predict(test_suffixes_flatten)\n",
        "conf_score_flatten = get_basic_estimator_confidence(basic_estimator_flatten, test_suffixes_flatten)\n",
        "basic_estimator_dense1_predictions = basic_estimator_dense1.predict(test_suffixes_dense1)\n",
        "conf_score_dense1 = get_basic_estimator_confidence(basic_estimator_dense1, test_suffixes_dense1)\n",
        "basic_estimator_dense2_predictions = basic_estimator_dense2.predict(test_suffixes_dense2)\n",
        "conf_score_dense2 = get_basic_estimator_confidence(basic_estimator_dense2, test_suffixes_dense2)\n",
        "prediction_score = test_predictions_all.max(axis=1)"
      ],
      "execution_count": 0,
      "outputs": [
        {
          "output_type": "stream",
          "text": [
            "Num pure instances 10000\n",
            "Num pure instances 10000\n",
            "Num pure instances 10000\n"
          ],
          "name": "stdout"
        }
      ]
    },
    {
      "cell_type": "code",
      "metadata": {
        "colab_type": "code",
        "outputId": "70806c0f-08fe-4fd2-f519-2644c10483f0",
        "id": "sRJ20ilG8jJR",
        "colab": {
          "base_uri": "https://localhost:8080/",
          "height": 446
        }
      },
      "source": [
        "show_confidence_plot(\n",
        "  [conf_score_flatten, conf_score_dense1, conf_score_dense2],\n",
        "  ['Conf at Layer 4', 'Conf at Layer 5', 'Conf at Layer 6'],\n",
        "  [basic_estimator_flatten_predictions, basic_estimator_dense2_predictions, basic_estimator_dense1_predictions],\n",
        "  test_predictions,\n",
        "  test_labels,\n",
        "  10*np.arange(10))"
      ],
      "execution_count": 0,
      "outputs": [
        {
          "output_type": "display_data",
          "data": {
            "image/png": "[encoded data removed]",
            "text/plain": [
              "<Figure size 720x504 with 1 Axes>"
            ]
          },
          "metadata": {
            "tags": []
          }
        }
      ]
    },
    {
      "cell_type": "markdown",
      "metadata": {
        "id": "V-yR4qbD44Qr",
        "colab_type": "text"
      },
      "source": [
        "## Confidence Modeling Results for Paper (CAV 2019)"
      ]
    },
    {
      "cell_type": "code",
      "metadata": {
        "id": "8Q6Sl2xVcAcx",
        "colab_type": "code",
        "colab": {}
      },
      "source": [
        "# Run Restore Keras Model and Jump to this place"
      ],
      "execution_count": 0,
      "outputs": []
    },
    {
      "cell_type": "code",
      "metadata": {
        "id": "Gr9e_aqFbnbi",
        "colab_type": "code",
        "outputId": "caf7a8b9-3bf4-4f67-fd7b-f3f917fc8c92",
        "colab": {
          "base_uri": "https://localhost:8080/",
          "height": 221
        }
      },
      "source": [
        "t_flatten = graph.get_tensor_by_name('flatten_1/Reshape:0') #Shape: 3200\n",
        "train_suffixes_flatten = fingerprint_suffix_keras(train_images, tensor=t_flatten)\n",
        "test_suffixes_flatten = fingerprint_suffix_keras(test_images, tensor=t_flatten)\n",
        "\n",
        "t_dense1 = graph.get_tensor_by_name('activation_5/Relu:0') #Shape: 256\n",
        "train_suffixes_dense1 = fingerprint_suffix_keras(train_images, tensor=t_dense1)\n",
        "test_suffixes_dense1 = fingerprint_suffix_keras(test_images, tensor=t_dense1)\n",
        "\n",
        "t_dense2 = graph.get_tensor_by_name('activation_6/Relu:0') #Shape: 256\n",
        "train_suffixes_dense2 = fingerprint_suffix_keras(train_images, tensor=t_dense2)\n",
        "test_suffixes_dense2 = fingerprint_suffix_keras(test_images, tensor=t_dense2)"
      ],
      "execution_count": 0,
      "outputs": [
        {
          "output_type": "stream",
          "text": [
            "  2%|▏         | 8/500 [00:00<00:06, 78.76it/s]"
          ],
          "name": "stderr"
        },
        {
          "output_type": "stream",
          "text": [
            "Getting fingerprint for flatten_1/Reshape:0\n"
          ],
          "name": "stdout"
        },
        {
          "output_type": "stream",
          "text": [
            "100%|██████████| 500/500 [00:05<00:00, 96.51it/s] \n",
            " 11%|█         | 11/100 [00:00<00:00, 104.53it/s]"
          ],
          "name": "stderr"
        },
        {
          "output_type": "stream",
          "text": [
            "Getting fingerprint for flatten_1/Reshape:0\n"
          ],
          "name": "stdout"
        },
        {
          "output_type": "stream",
          "text": [
            "100%|██████████| 100/100 [00:01<00:00, 98.27it/s]\n",
            "  2%|▏         | 10/500 [00:00<00:05, 96.41it/s]"
          ],
          "name": "stderr"
        },
        {
          "output_type": "stream",
          "text": [
            "Getting fingerprint for activation_5/Relu:0\n"
          ],
          "name": "stdout"
        },
        {
          "output_type": "stream",
          "text": [
            "100%|██████████| 500/500 [00:05<00:00, 96.51it/s]\n",
            " 11%|█         | 11/100 [00:00<00:00, 101.40it/s]"
          ],
          "name": "stderr"
        },
        {
          "output_type": "stream",
          "text": [
            "Getting fingerprint for activation_5/Relu:0\n"
          ],
          "name": "stdout"
        },
        {
          "output_type": "stream",
          "text": [
            "100%|██████████| 100/100 [00:01<00:00, 93.81it/s]\n",
            "  2%|▏         | 10/500 [00:00<00:05, 96.40it/s]"
          ],
          "name": "stderr"
        },
        {
          "output_type": "stream",
          "text": [
            "Getting fingerprint for activation_6/Relu:0\n"
          ],
          "name": "stdout"
        },
        {
          "output_type": "stream",
          "text": [
            "100%|██████████| 500/500 [00:05<00:00, 97.42it/s]\n",
            " 10%|█         | 10/100 [00:00<00:00, 95.65it/s]"
          ],
          "name": "stderr"
        },
        {
          "output_type": "stream",
          "text": [
            "Getting fingerprint for activation_6/Relu:0\n"
          ],
          "name": "stdout"
        },
        {
          "output_type": "stream",
          "text": [
            "100%|██████████| 100/100 [00:01<00:00, 93.32it/s]\n"
          ],
          "name": "stderr"
        }
      ]
    },
    {
      "cell_type": "code",
      "metadata": {
        "id": "KsYrWTmQch8K",
        "colab_type": "code",
        "outputId": "d65e3e9c-a454-4903-bd2d-4f89af8cefbe",
        "colab": {
          "base_uri": "https://localhost:8080/",
          "height": 170
        }
      },
      "source": [
        "def eval_basic_estimator(estimator, suffixes, orig_model_predictions, gt_predictions):\n",
        "  estimator_predictions = estimator.predict(suffixes)\n",
        "  acc = (estimator_predictions == gt_predictions)\n",
        "  agreement = (estimator_predictions == orig_model_predictions)\n",
        "  print \"Estimator accuracy\", 1.0*np.sum(acc)/len(suffixes)\n",
        "  print \"Estimator agreement\", 1.0*np.sum(agreement)/len(suffixes)\n",
        "\n",
        "print \"Flatten\"\n",
        "basic_estimator_flatten = tree.DecisionTreeClassifier()\n",
        "basic_estimator_flatten.fit(train_suffixes_flatten, train_predictions)\n",
        "# Evaluation\n",
        "eval_basic_estimator(basic_estimator_flatten, test_suffixes_flatten, test_predictions, test_labels)\n",
        "\n",
        "print \"Dense1\"\n",
        "basic_estimator_dense1 = tree.DecisionTreeClassifier()\n",
        "basic_estimator_dense1.fit(train_suffixes_dense1, train_predictions)\n",
        "# Evaluation\n",
        "eval_basic_estimator(basic_estimator_dense1, test_suffixes_dense1, test_predictions, test_labels)\n",
        "\n",
        "print \"Dense2\"\n",
        "basic_estimator_dense2 = tree.DecisionTreeClassifier()\n",
        "basic_estimator_dense2.fit(train_suffixes_dense2, train_predictions)\n",
        "# Evaluation\n",
        "eval_basic_estimator(basic_estimator_dense2, test_suffixes_dense2, test_predictions, test_labels)"
      ],
      "execution_count": 0,
      "outputs": [
        {
          "output_type": "stream",
          "text": [
            "Flatten\n",
            "Estimator accuracy 0.3823\n",
            "Estimator agreement 0.3918\n",
            "Dense1\n",
            "Estimator accuracy 0.6709\n",
            "Estimator agreement 0.7234\n",
            "Dense2\n",
            "Estimator accuracy 0.7051\n",
            "Estimator agreement 0.7825\n"
          ],
          "name": "stdout"
        }
      ]
    },
    {
      "cell_type": "code",
      "metadata": {
        "id": "emDaCsEcL3-i",
        "colab_type": "code",
        "colab": {}
      },
      "source": [
        "def get_basic_estimator_confidence(estimator, suffixes):\n",
        "  leaf_nodes = estimator.apply(suffixes)\n",
        "  conf_score = estimator.tree_.n_node_samples[leaf_nodes]\n",
        "  # check that the leaf is pure\n",
        "  is_pure = np.array([ len(np.where(v != 0)[0]) == 1 for v in estimator.tree_.value[leaf_nodes][:,0,:]])\n",
        "  print \"Num pure instances\", np.sum(is_pure)\n",
        "  conf_score *= is_pure\n",
        "  return conf_score"
      ],
      "execution_count": 0,
      "outputs": []
    },
    {
      "cell_type": "code",
      "metadata": {
        "id": "jDKkdr1IUn-k",
        "colab_type": "code",
        "colab": {}
      },
      "source": [
        "def plot_bars(ax, bar_vals, bar_names, ptiles, baseline_val=None, baseline_label=None, width=0.2):\n",
        "  ax.set_ylabel(\"Accuracy\")\n",
        "  ax.set_xlabel(\"Proportion of Examples\")\n",
        "  #ax.set_ylim((min([min(b) for b in bar_vals])-0.05, 1.1))\n",
        "  # ax.set_title(title)\n",
        "  # TODO: why 'plt' below and not 'ax'?\n",
        "  ind = np.arange(len(ptiles))\n",
        "  ax.set_xticks(ind)\n",
        "  ax.set_xticklabels([\"%d%%\"%(100-ptile) for ptile in ptiles])\n",
        "  if baseline_val != None:\n",
        "    ax.axhline(y=baseline_val, color='b', linestyle='-', label=baseline_label)\n",
        "  \n",
        "  colors = ['red', 'blue', 'yellow', 'green']\n",
        "  bars = []\n",
        "  for i, b in enumerate(bar_vals):\n",
        "    assert len(b) == len(ptiles)\n",
        "    bars.append(ax.bar(ind+i*width, b, width=width, color=colors[i]))\n",
        "  ax.legend(bars, bar_names)"
      ],
      "execution_count": 0,
      "outputs": []
    },
    {
      "cell_type": "code",
      "metadata": {
        "id": "gwC8TwssL5EU",
        "colab_type": "code",
        "outputId": "e04d8a24-1a0b-4c60-cc79-3593c46b6614",
        "colab": {
          "base_uri": "https://localhost:8080/",
          "height": 68
        }
      },
      "source": [
        "import matplotlib.pyplot as plt\n",
        "\n",
        "def show_confidence_plot(conf_scores, conf_score_names, orig_model_predictions, gt_predictions, ptiles):\n",
        "  def get_acc_trend(score, ptiles):\n",
        "    acc_trend = []\n",
        "    for ptile in ptiles:\n",
        "      above_ptile = (score >= np.percentile(score, ptile))\n",
        "      acc_trend.append(1.0*np.sum(orig_correct*above_ptile)/np.sum(above_ptile))\n",
        "    return acc_trend   \n",
        "  orig_correct = (orig_model_predictions == gt_predictions)\n",
        "  acc_trends = []\n",
        "  for score in conf_scores:\n",
        "    acc_trends.append(get_acc_trend(score, ptiles))\n",
        "  fig, ax = plt.subplots(1, 1, sharey=True, figsize=(10,7))\n",
        "  plot_bars(\n",
        "      ax,\n",
        "      acc_trends,\n",
        "      conf_score_names,\n",
        "      ptiles,\n",
        "  )\n",
        "  plt.show(fig)\n",
        "\n",
        "conf_score_flatten = get_basic_estimator_confidence(basic_estimator_flatten, test_suffixes_flatten)\n",
        "conf_score_dense1 = get_basic_estimator_confidence(basic_estimator_dense1, test_suffixes_dense1)\n",
        "conf_score_dense2 = get_basic_estimator_confidence(basic_estimator_dense2, test_suffixes_dense2)\n",
        "prediction_score = test_predictions_all.max(axis=1)"
      ],
      "execution_count": 0,
      "outputs": [
        {
          "output_type": "stream",
          "text": [
            "Num pure instances 10000\n",
            "Num pure instances 10000\n",
            "Num pure instances 10000\n"
          ],
          "name": "stdout"
        }
      ]
    },
    {
      "cell_type": "code",
      "metadata": {
        "id": "qd8geETFMGC1",
        "colab_type": "code",
        "outputId": "cb803698-69a8-4f9c-fbd5-77ae44aa1143",
        "colab": {
          "base_uri": "https://localhost:8080/",
          "height": 446
        }
      },
      "source": [
        "show_confidence_plot(\n",
        "  [conf_score_flatten, conf_score_dense1, conf_score_dense2, prediction_score],\n",
        "  ['Conf at Layer 4', 'Conf at Layer 5', 'Conf at Layer 6', 'Prediction probability'],\n",
        "  test_predictions,\n",
        "  test_labels,\n",
        "  10*np.arange(10))"
      ],
      "execution_count": 0,
      "outputs": [
        {
          "output_type": "display_data",
          "data": {
            "image/png": "[encoded data removed]",
            "text/plain": [
              "<Figure size 720x504 with 1 Axes>"
            ]
          },
          "metadata": {
            "tags": []
          }
        }
      ]
    },
    {
      "cell_type": "markdown",
      "metadata": {
        "id": "yK1Pr1agnsoi",
        "colab_type": "text"
      },
      "source": [
        "## Examine clusters/invariants"
      ]
    },
    {
      "cell_type": "code",
      "metadata": {
        "id": "ZbOQkQU0zBz6",
        "colab_type": "code",
        "colab": {}
      },
      "source": [
        "def get_decision_path(estimator, inp):\n",
        "  # Extract the decision path taken by an input as an ordered list of indices\n",
        "  # of the neurons that were evaluated.\n",
        "  # See: http://scikit-learn.org/stable/auto_examples/tree/plot_unveil_tree_structure.html\n",
        "  n_nodes = estimator.tree_.node_count\n",
        "  feature = estimator.tree_.feature\n",
        "\n",
        "  # First let's retrieve the decision path of each sample. The decision_path\n",
        "  # method allows to retrieve the node indicator functions. A non zero element of\n",
        "  # indicator matrix at the position (i, j) indicates that the sample i goes\n",
        "  # through the node j.\n",
        "  X_test = [inp]\n",
        "  node_indicator = estimator.decision_path(X_test)\n",
        "  # Similarly, we can also have the leaves ids reached by each sample.\n",
        "  leaf_id = estimator.apply(X_test)\n",
        "  # Now, it's possible to get the tests that were used to predict a sample or\n",
        "  # a group of samples. First, let's make it for the sample.\n",
        "  node_index = node_indicator.indices[node_indicator.indptr[0]:\n",
        "                                      node_indicator.indptr[1]]\n",
        "  neuron_ids = []\n",
        "  for node_id in node_index:\n",
        "    if leaf_id[0] == node_id:\n",
        "        continue\n",
        "    neuron_ids.append(feature[node_id])\n",
        "  return neuron_ids\n",
        "\n",
        "def get_suffix_cluster(neuron_ids, neuron_sig):\n",
        "  # Get the cluster of inputs that such that all inputs in the cluster\n",
        "  # have provided on/off signature for the provided neurons.\n",
        "  #\n",
        "  # The returned cluster is an array of indices (into cifar_train_images).\n",
        "  return np.where((train_suffixes[:, neuron_ids] == neuron_sig).all(axis=1))[0]\n",
        "\n",
        "def is_consistent_cluster(cluster, predictions):\n",
        "  # Check if all inputs within the cluster have the same prediction.\n",
        "  # 'cluster' is an array of input ids.\n",
        "  pred = predictions[cluster[0]]\n",
        "  for i in cluster:\n",
        "    if predictions[i] != pred:\n",
        "      return False\n",
        "  return True\n",
        "\n",
        "def is_misclassified(i):\n",
        "  return train_predictions[i] != train_labels[i]\n",
        "\n",
        "def visualize_conductances(img, label, neuron_ids, only_on=False):\n",
        "  # Visualize the conductances for the provided image.\n",
        "  # Args:\n",
        "  # - img: the provided cifar image\n",
        "  # - label: prediction label w.r.t. conductance must be computed\n",
        "  # - neuron_ids: list of neurons indices from the suffix tensor for which\n",
        "  #    conductances must be computed.\n",
        "  # - only_on: If True then conductance is computed only for those neurons\n",
        "  #    that are on for the given image. \n",
        "  vis = [cifar_to_pil_img(img)]\n",
        "  suffix = fingerprint_suffix([img])\n",
        "  for i, id in enumerate(neuron_ids):\n",
        "    if only_on and suffix[i] != 1:\n",
        "      continue  \n",
        "    igc = conductance(img, label, neuron_id=id)\n",
        "    # igc = conductances[id]\n",
        "    vis.append(visualize_attrs2(255*cifar_to_rgb(img), cifar_to_rgb(igc)))\n",
        "  return combine(vis)\n",
        "\n",
        "def get_invariant(estimator, ref_id):\n",
        "  # Returns an invariant found w.r.t. the provided reference input\n",
        "  # Args\n",
        "  #  - ref_id: Index (into cifar_train_images) of the reference input\n",
        "  # Returns:\n",
        "  #  - cluster: Indices of training inputs that satisfy the invariant\n",
        "  #  - neuron_id: A list of neurons such that all inputs that agree with\n",
        "  #    the reference input on the on/off status of these neurons have the\n",
        "  #    same prediction as the reference input.\n",
        "  ref_img = train_images[ref_id]\n",
        "  ref_suffix = train_suffixes[ref_id]\n",
        "  neuron_ids = get_decision_path(estimator, ref_suffix)\n",
        "  neuron_sig = ref_suffix[neuron_ids]\n",
        "  cluster = get_suffix_cluster(neuron_ids, neuron_sig)\n",
        "  return cluster, neuron_ids, neuron_sig\n",
        "\n",
        "def get_invariant_generic(estimator, images, suffixes, ref_id):\n",
        "  # Returns an invariant found w.r.t. the provided reference input\n",
        "  # Args\n",
        "  #  - estimator: estimator to use\n",
        "  #  - images: images to pull from\n",
        "  #  - suffixes: corresponding suffixes\n",
        "  #  - ref_id: Index (into data) of the reference input\n",
        "  # Returns:\n",
        "  #  - cluster: Indices of training inputs that satisfy the invariant\n",
        "  #  - neuron_id: A list of neurons such that all inputs that agree with\n",
        "  #    the reference input on the on/off status of these neurons have the\n",
        "  #    same prediction as the reference input.\n",
        "  ref_img = images[ref_id]\n",
        "  ref_suffix = suffixes[ref_id]\n",
        "  neuron_ids = get_decision_path(estimator, ref_suffix)\n",
        "  neuron_sig = ref_suffix[neuron_ids]\n",
        "  cluster = get_suffix_cluster(neuron_ids, neuron_sig)\n",
        "  return cluster, neuron_ids, neuron_sig\n",
        "\n",
        "def get_all_invariants(estimator):\n",
        "  # Returns a dictionary mapping each decision tree prediction class\n",
        "  # to a list of invariants. Each invariant is specified as a triple:\n",
        "  # - neuron ids\n",
        "  # - neuron signature (for the neuron ids)\n",
        "  # - number of training samples that hit it\n",
        "  # The neuron ids and neuron signature can be supplied to get_suffix_cluster\n",
        "  # to obtain the cluster of training instances that hit the invariant.\n",
        "  def is_leaf(node):\n",
        "    return estimator.tree_.children_left[node] == estimator.tree_.children_right[node]\n",
        "\n",
        "  def left_child(node):\n",
        "    return estimator.tree_.children_left[node]\n",
        "\n",
        "  def right_child(node):\n",
        "    return estimator.tree_.children_right[node]\n",
        "  \n",
        "  def get_all_paths_rec(node):\n",
        "    # Returns a list of triples corresponding to paths\n",
        "    # in the decision tree. Each triple consists of\n",
        "    # - neurons encountered along the path\n",
        "    # - signature along the path\n",
        "    # - prediction class at the leaf\n",
        "    # - number of training samples that hit the path\n",
        "    # The prediction class and number of training samples\n",
        "    # are set to -1 when the leaf is \"impure\".\n",
        "    feature = estimator.tree_.feature\n",
        "    if is_leaf(node):\n",
        "      values = estimator.tree_.value[node][0]\n",
        "      if len(np.where(values != 0)[0]) == 1:\n",
        "        cl = estimator.classes_[np.where(values != 0)[0][0]]\n",
        "        nsamples = estimator.tree_.n_node_samples[node]\n",
        "      else:\n",
        "        # impure node\n",
        "        cl = -1\n",
        "        nsamples = -1\n",
        "      return [[[], [], cl, nsamples]]\n",
        "    # If it is not a leaf both left and right childs must exist\n",
        "    paths = [[[feature[node]] + p[0], [0] + p[1], p[2], p[3]] for p in get_all_paths_rec(left_child(node))]\n",
        "    paths += [[[feature[node]] + p[0], [1] + p[1], p[2], p[3]] for p in get_all_paths_rec(right_child(node))]\n",
        "    return paths\n",
        "  paths =  get_all_paths_rec(0)\n",
        "  print \"Obtained all paths\"\n",
        "  invariants = {}\n",
        "  for p in tqdm(paths):\n",
        "    neuron_ids, neuron_sig, cl, nsamples = p\n",
        "    if cl not in invariants:\n",
        "      invariants[cl] = []\n",
        "    # cluster = get_suffix_cluster(neuron_ids, neuron_sig)\n",
        "    invariants[cl].append([neuron_ids, neuron_sig, nsamples])\n",
        "  for cl in invariants.keys():\n",
        "    invariants[cl] = sorted(invariants[cl], key=operator.itemgetter(2), reverse=True)\n",
        "  return invariants\n",
        "\n",
        "def describe_cluster(cluster, neuron_ids):\n",
        "  neuron_sig = train_suffixes[cluster[0]][neuron_ids]\n",
        "  print \"Num neurons in invariant\", len(neuron_ids)\n",
        "  print \"Neuron id and signature\", zip(neuron_ids, neuron_sig)\n",
        "  print \"Cluster size: \", len(cluster)\n",
        "  print \"Num misclassified\", len([i for i in cluster if is_misclassified(i)])\n",
        "\n",
        "def describe_all_invariants(all_invariants):\n",
        "  df = []\n",
        "  for cl, invs in all_invariants.iteritems():\n",
        "    # Note the number of invariants, and size of the largest invariant cluster\n",
        "    df.append([cl, sum([inv[2] for inv in invs]), len(invs), len([inv for inv in invs if inv[2]>=10]), invs[0][2]])\n",
        "  df = pd.DataFrame(df, columns=['Prediction Class', 'Num Instances', 'Num Invariants', 'Num Invariants with cluster size >= 10', 'Size of largest invariant cluster'])\n",
        "  return df"
      ],
      "execution_count": 0,
      "outputs": []
    },
    {
      "cell_type": "code",
      "metadata": {
        "id": "KOUniL-T5-Sa",
        "colab_type": "code",
        "outputId": "160d41aa-2171-4f0d-9264-949ff6ddfa57",
        "colab": {
          "base_uri": "https://localhost:8080/",
          "height": 258
        }
      },
      "source": [
        "# Examine cluster/invariants containing a given reference input\n",
        "# ref_id is the index of the reference input\n",
        "ref_id =  2\n",
        "print \"### Reference Image ###\"\n",
        "describe_input(ref_id)\n",
        "print \"### Cluster ###\"\n",
        "cluster, neuron_ids, neuron_sig = get_invariant(basic_estimator, ref_id)\n",
        "describe_cluster(cluster, neuron_ids)\n",
        "\n",
        "# Visualize  10 inputs in the cluster\n",
        "for i in cluster[:25]:\n",
        "  describe_input(i)\n",
        "  # show_img(visualize_conductances(mnist.train.images[i], train_predictions[i], neuron_ids, only_on=False))"
      ],
      "execution_count": 0,
      "outputs": [
        {
          "output_type": "stream",
          "text": [
            "### Reference Image ###\n"
          ],
          "name": "stdout"
        },
        {
          "output_type": "error",
          "ename": "NameError",
          "evalue": "ignored",
          "traceback": [
            "\u001b[0;31m\u001b[0m",
            "\u001b[0;31mNameError\u001b[0mTraceback (most recent call last)",
            "\u001b[0;32m<ipython-input-36-d0b16d709459>\u001b[0m in \u001b[0;36m<module>\u001b[0;34m()\u001b[0m\n\u001b[1;32m      1\u001b[0m \u001b[0mref_id\u001b[0m \u001b[0;34m=\u001b[0m  \u001b[0;36m2\u001b[0m\u001b[0;34m\u001b[0m\u001b[0m\n\u001b[1;32m      2\u001b[0m \u001b[0;32mprint\u001b[0m \u001b[0;34m\"### Reference Image ###\"\u001b[0m\u001b[0;34m\u001b[0m\u001b[0m\n\u001b[0;32m----> 3\u001b[0;31m \u001b[0mdescribe_input\u001b[0m\u001b[0;34m(\u001b[0m\u001b[0mref_id\u001b[0m\u001b[0;34m)\u001b[0m\u001b[0;34m\u001b[0m\u001b[0m\n\u001b[0m\u001b[1;32m      4\u001b[0m \u001b[0;32mprint\u001b[0m \u001b[0;34m\"### Cluster ###\"\u001b[0m\u001b[0;34m\u001b[0m\u001b[0m\n\u001b[1;32m      5\u001b[0m \u001b[0mcluster\u001b[0m\u001b[0;34m,\u001b[0m \u001b[0mneuron_ids\u001b[0m\u001b[0;34m,\u001b[0m \u001b[0mneuron_sig\u001b[0m \u001b[0;34m=\u001b[0m \u001b[0mget_invariant\u001b[0m\u001b[0;34m(\u001b[0m\u001b[0mbasic_estimator\u001b[0m\u001b[0;34m,\u001b[0m \u001b[0mref_id\u001b[0m\u001b[0;34m)\u001b[0m\u001b[0;34m\u001b[0m\u001b[0m\n",
            "\u001b[0;31mNameError\u001b[0m: name 'describe_input' is not defined"
          ]
        }
      ]
    },
    {
      "cell_type": "code",
      "metadata": {
        "id": "cDPikrr-zyHr",
        "colab_type": "code",
        "outputId": "ec903d6f-d9c2-498d-847a-a5a8076af053",
        "colab": {
          "base_uri": "https://localhost:8080/",
          "height": 272
        }
      },
      "source": [
        "b_all_invariants = get_all_invariants(basic_estimator)\n",
        "df = describe_all_invariants(b_all_invariants)\n",
        "print \"Total num invariants:\", df['Num Invariants'].sum()\n",
        "print \"Total num invariants with cluster size >= 10:\", df['Num Invariants with cluster size >= 10'].sum()\n",
        "print df.to_string(index=False)"
      ],
      "execution_count": 0,
      "outputs": [
        {
          "output_type": "stream",
          "text": [
            "100%|██████████| 3379/3379 [00:00<00:00, 471601.00it/s]"
          ],
          "name": "stderr"
        },
        {
          "output_type": "stream",
          "text": [
            "Obtained all paths\n",
            "Total num invariants: 3379\n",
            "Total num invariants with cluster size >= 10: 459\n",
            "Prediction Class  Num Instances  Num Invariants  Num Invariants with cluster size >= 10  Size of largest invariant cluster\n",
            "               0           5055             349                                      46                               1929\n",
            "               1           5086             232                                      27                               3558\n",
            "               2           5010             480                                      63                                873\n",
            "               3           5081             473                                      68                               1298\n",
            "               4           5032             366                                      50                               2056\n",
            "               5           4956             355                                      52                               1792\n",
            "               6           4994             282                                      42                               2205\n",
            "               7           4966             281                                      36                               2785\n",
            "               8           4928             240                                      36                               2410\n",
            "               9           4892             321                                      39                               1916\n"
          ],
          "name": "stdout"
        },
        {
          "output_type": "stream",
          "text": [
            "\n"
          ],
          "name": "stderr"
        }
      ]
    },
    {
      "cell_type": "code",
      "metadata": {
        "id": "Isr62nPPlROL",
        "colab_type": "code",
        "colab": {}
      },
      "source": [
        "# Get all fine_grained_estimator invariants\n",
        "fge_all_invariants = get_all_invariants(fine_grained_estimator)\n",
        "# Print invariant stats\n",
        "df = describe_all_invariants(fge_all_invariants)\n",
        "print \"Total num invariants:\", df['Num Invariants'].sum()\n",
        "print \"Total num invariants with cluster size >= 10:\", df['Num Invariants with cluster size >= 10'].sum()\n",
        "print df.to_string(index=False)\n",
        "\n"
      ],
      "execution_count": 0,
      "outputs": []
    },
    {
      "cell_type": "markdown",
      "metadata": {
        "id": "jU7SHWilyZjc",
        "colab_type": "text"
      },
      "source": [
        "### Analyzing clusters of misclassified inputs"
      ]
    },
    {
      "cell_type": "code",
      "metadata": {
        "id": "6GPZ8nMyYCMj",
        "colab_type": "code",
        "colab": {}
      },
      "source": [
        "# Examine the cluster for a misclasification (Groundtruth: 4, Prediction: 49)\n",
        "invs = b_all_invariants[0]\n",
        "neuron_ids, neuron_sig, _ = invs[0]\n",
        "cluster = get_suffix_cluster(neuron_ids, neuron_sig)\n",
        "describe_cluster(cluster, neuron_ids)\n",
        "\n",
        "# Visualize  10 inputs in the cluster\n",
        "for i in cluster[:10]:\n",
        "  describe_input(i)\n",
        "  # show_img(visualize_conductances(mnist.train.images[i], train_predictions[i], neuron_ids, only_on=False))"
      ],
      "execution_count": 0,
      "outputs": []
    },
    {
      "cell_type": "markdown",
      "metadata": {
        "id": "xGVZuKOqbHSS",
        "colab_type": "text"
      },
      "source": [
        "## Confidence Modeling"
      ]
    },
    {
      "cell_type": "code",
      "metadata": {
        "id": "h11oK-pcQMEi",
        "colab_type": "code",
        "outputId": "04fada6c-0876-440e-8652-f5e4f5119b13",
        "colab": {
          "base_uri": "https://localhost:8080/",
          "height": 88
        }
      },
      "source": [
        "def get_estimator_confidence(estimator, suffixes, estimator_predictions, estimator_conf_labels, min_samples):\n",
        "  estimator_leaf_nodes = estimator.apply(suffixes)\n",
        "  # check that the leaf has valid label. (For instance, for a fine grained estimator\n",
        "  # only labels 00, 11, .. are valid.)\n",
        "  estimator_conf = [p in estimator_conf_labels for p in estimator_predictions]\n",
        "  # check that the leaf has a minimum number of samples in its support\n",
        "  estimator_conf *= estimator.tree_.n_node_samples[estimator_leaf_nodes] >= min_samples\n",
        "  # check that the leaf is pure\n",
        "  estimator_pure = np.array([ len(np.where(v != 0)[0]) == 1 for v in estimator.tree_.value[estimator_leaf_nodes][:,0,:]])\n",
        "  estimator_conf *= estimator_pure\n",
        "  return estimator_conf\n",
        "\n",
        "def get_estimator_confidence_by_leaf_visits(\n",
        "    estimator, suffixes, estimator_predictions,\n",
        "    estimator_leaf_nodes, estimator_conf_labels):\n",
        "  # The confidence for each input is the number of samples that visit the same\n",
        "  # leaf as the input. The exception is inputs that reach impure leaves or leaves\n",
        "  # with labels outside estimator_conf_labels. For them the confidence is 0. \n",
        "  #\n",
        "  # Compute number of samples that visit the leaves\n",
        "  estimator_conf = estimator.tree_.n_node_samples[estimator_leaf_nodes]\n",
        "  # check that the leaf has valid label. (For instance, for a fine grained estimator\n",
        "  # only labels 00, 11, .. are valid.)\n",
        "  estimator_conf *= np.array([p in estimator_conf_labels for p in estimator_predictions])\n",
        "  # check that the leaf is pure\n",
        "  estimator_conf *= (estimator.tree_.impurity[estimator_leaf_nodes] == 0.0)\n",
        "  return estimator_conf\n",
        "\n",
        "def get_confident_accuracy(estimator, suffixes, orig_model_predictions, gt_labels, estimator_conf_labels, min_samples=10):\n",
        "  \"\"\"\n",
        "  Args:\n",
        "    estimator: the estimator used for confidence modeling\n",
        "    suffixes: the suffixes of the examples over which we evaluate. Typically this\n",
        "      would be 'test_suffixes'.\n",
        "    orig_model_predictions: predictions of the original model for these examples. \n",
        "      Typically this would be 'test_predictions'.\n",
        "    gt_labels: groundtruth labels for these examples. Typically this would be\n",
        "      mnist.test.labels.\n",
        "    estimator_conf_labels: prediction labels for the estimator which must be used\n",
        "      for confidence labels. If the estimator predicts a label outside this set then\n",
        "      the prediction on the example is not considered \"confident\". For the basic_estimator\n",
        "      all labels are fine for confidence modeling. For the fine_grained estimator\n",
        "      we would want to only use the \"pure\" labels for confident modeling. For\n",
        "      instance, 00, 11, ... , for the MNIST fine_grained_estimator.\n",
        "    min_samples: minimum number of samples for an estimator leaf for it to be\n",
        "      considered confident\n",
        "  \"\"\"\n",
        "  estimator_predictions = estimator.predict(suffixes)\n",
        "\n",
        "  # The following are all binary vectors of shape <len(suffixes)>  \n",
        "  orig_correct = (orig_model_predictions == gt_labels)\n",
        "  estimator_conf = get_estimator_confidence(estimator, suffixes, estimator_predictions, estimator_conf_labels, min_samples)\n",
        "\n",
        "  conf_frac = 1.0*np.sum(estimator_conf)/len(gt_labels)\n",
        "  overall_acc = 1.0*np.sum(orig_correct)/len(gt_labels)\n",
        "  conf_acc = 1.0*np.sum(orig_correct*estimator_conf)/np.sum(estimator_conf)\n",
        " \n",
        "  return conf_frac, overall_acc, conf_acc\n",
        "\n",
        "# BASIC_ESTIMATOR\n",
        "res = get_confident_accuracy(basic_estimator, test_suffixes, test_predictions, test_labels, np.array(range(10)), min_samples = 2500)\n",
        "conf_frac, overall_acc,  conf_acc = res\n",
        "print \"BASIC ESTIMATOR\"\n",
        "print \"Confident fraction\", conf_frac\n",
        "print \"Overall accuracy\", overall_acc\n",
        "print \"Confident accuracy\", conf_acc"
      ],
      "execution_count": 0,
      "outputs": [
        {
          "output_type": "stream",
          "text": [
            "BASIC ESTIMATOR\n",
            "Confident fraction 0.0465\n",
            "Overall accuracy 0.7796\n",
            "Confident accuracy 0.956989247312\n"
          ],
          "name": "stdout"
        }
      ]
    },
    {
      "cell_type": "code",
      "metadata": {
        "id": "LW9G5-54KlhY",
        "colab_type": "code",
        "colab": {}
      },
      "source": [
        "# FINE_GRAINED_ESTIMATOR\n",
        "res = get_confident_accuracy(fine_grained_estimator, test_suffixes, test_predictions, test_labels, 10*np.array(range(10))+np.array(range(10)) , min_samples = 250)\n",
        "conf_frac, overall_acc,  conf_acc = res\n",
        "\n",
        "print \"\"\n",
        "print \"FINE GRAINED ESTIMATOR\"\n",
        "print \"Confident fraction\", conf_frac\n",
        "print \"Overall accuracy\", overall_acc\n",
        "print \"Confident accuracy\", conf_acc"
      ],
      "execution_count": 0,
      "outputs": []
    },
    {
      "cell_type": "code",
      "metadata": {
        "id": "p0aKzL-HVvg7",
        "colab_type": "code",
        "outputId": "e5cd7d78-6807-4286-9ccb-93afcc9b4cbe",
        "colab": {
          "base_uri": "https://localhost:8080/",
          "height": 379
        }
      },
      "source": [
        "basic_conf_fracs = []\n",
        "basic_overall_accs = []\n",
        "basic_conf_accs = []\n",
        "fg_conf_fracs = []\n",
        "fg_overall_accs = []\n",
        "fg_conf_accs = []\n",
        "max_samples = 50\n",
        "for i in tqdm(range(1, max_samples)):\n",
        "  res = get_confident_accuracy(basic_estimator, test_suffixes, test_predictions, test_labels, np.array(range(10)), min_samples = i)\n",
        "  conf_frac, overall_acc, conf_acc = res\n",
        "  basic_conf_fracs.append(conf_frac)\n",
        "  basic_overall_accs.append(overall_acc)\n",
        "  basic_conf_accs.append(conf_acc)\n",
        "  res = get_confident_accuracy(fine_grained_estimator, test_suffixes, test_predictions, test_labels, 10*np.array(range(10))+np.array(range(10)), min_samples = i)\n",
        "  conf_frac, overall_acc,  conf_acc = res\n",
        "  fg_conf_fracs.append(conf_frac)\n",
        "  fg_overall_accs.append(overall_acc)\n",
        "  fg_conf_accs.append(conf_acc)\n",
        "\n",
        "fig, axs = plt.subplots(1, 2)\n",
        "axs[0].scatter([range(1, max_samples)], basic_conf_fracs, label='Conf Frac')\n",
        "#axs[1,0].scatter([range(max_samples)], basic_overall_accs)\n",
        "axs[0].scatter([range(1, max_samples)], basic_conf_accs, label='Conf Acc')\n",
        "axs[0].set_title(\"Basic Estimator\")\n",
        "axs[0].legend()\n",
        "#axs[0,0].set_title(\"Basic Confident Fractions\")\n",
        "#axs[1,0].set_title(\"Basic Overall Accuracies\")\n",
        "#axs[1,0].set_title(\"Basic Confident Accuracies\")\n",
        "\n",
        "axs[1].scatter([range(1, max_samples)], fg_conf_fracs, label='Conf Frac')\n",
        "#axs[1,1].scatter([range(max_samples)], fg_overall_accs)\n",
        "axs[1].scatter([range(1, max_samples)], fg_conf_accs, label='Conf Acc')\n",
        "axs[1].set_title(\"Fine-Grained Estimator\")\n",
        "axs[1].legend()\n",
        "#axs[0,1].set_title(\"FG Confident Fractions\")\n",
        "#axs[1,1].set_title(\"FG Overall Accuracies\")\n",
        "#axs[1,1].set_title(\"FG Confident Accuracies\")\n",
        "\n",
        "plt.subplots_adjust(hspace=0.3)\n",
        "plt.show()"
      ],
      "execution_count": 0,
      "outputs": [
        {
          "output_type": "stream",
          "text": [
            "100%|██████████| 49/49 [00:07<00:00,  6.30it/s]\n"
          ],
          "name": "stderr"
        },
        {
          "output_type": "display_data",
          "data": {
            "image/png": "[encoded data removed]",
            "text/plain": [
              "<matplotlib.figure.Figure at 0x7f3167877410>"
            ]
          },
          "metadata": {
            "tags": []
          }
        }
      ]
    },
    {
      "cell_type": "code",
      "metadata": {
        "id": "GYxjkSvZY5Tw",
        "colab_type": "code",
        "outputId": "c1f76522-0d75-4a32-d9da-faf4bda42d71",
        "colab": {
          "base_uri": "https://localhost:8080/",
          "height": 221
        }
      },
      "source": [
        "estimator_predictions = basic_estimator.predict(test_suffixes)\n",
        "estimator_leaf_nodes = basic_estimator.apply(test_suffixes)\n",
        "\n",
        "gt = test_labels\n",
        "estimator_leaf_num_samples = get_estimator_confidence_by_leaf_visits(\n",
        "    basic_estimator, test_suffixes,\n",
        "    estimator_predictions, estimator_leaf_nodes, np.array(range(10)))\n",
        "\n",
        "orig_correct = (test_predictions == gt)\n",
        "estimator_correct = (estimator_predictions == gt)\n",
        "estimator_agreement = (estimator_predictions == test_predictions)\n",
        "\n",
        "min_samples = 500\n",
        "estimator_conf = estimator_leaf_num_samples > min_samples\n",
        "\n",
        "print \"ORIGINAL MODEL under BASIC ESTIMATOR (min_samples = %d)\" % min_samples\n",
        "print \"Overall Acc\", 1.0*np.mean(orig_correct)\n",
        "print \"Confident fraction of overall\", 1.0*np.mean(estimator_conf)\n",
        "print \"Confident fraction of correct\", 1.0*np.sum(estimator_conf*orig_correct)/np.sum(orig_correct)\n",
        "print \"Confident Acc\", 1.0*np.sum(orig_correct*estimator_conf)/np.sum(estimator_conf)\n",
        "\n",
        "print \"\"\n",
        "print \"BASIC ESTIMATOR\"\n",
        "print \"Acc\", np.mean(estimator_correct)\n",
        "print \"Agreement\", np.mean(estimator_agreement)\n",
        "print \"Estimator Confident Acc\", 1.0*np.sum(estimator_correct*estimator_conf)/np.sum(estimator_conf)\n",
        "print \"Estimator Confident Agreement\", 1.0*np.sum(estimator_agreement*estimator_conf)/np.sum(estimator_conf)\n",
        "print \"Combined Acc\", 1.0*np.mean(orig_correct*(1-estimator_conf)) + 1.0*np.mean(estimator_correct*estimator_conf)"
      ],
      "execution_count": 0,
      "outputs": [
        {
          "output_type": "stream",
          "text": [
            "ORIGINAL MODEL under BASIC ESTIMATOR (min_samples = 500)\n",
            "Overall Acc 0.7796\n",
            "Confident fraction of overall 0.301\n",
            "Confident fraction of correct 0.364545920985\n",
            "Confident Acc 0.944186046512\n",
            "\n",
            "BASIC ESTIMATOR\n",
            "Acc 0.6693\n",
            "Agreement 0.7223\n",
            "Estimator Confident Acc 0.939534883721\n",
            "Estimator Confident Agreement 0.97707641196\n",
            "Combined Acc 0.7782\n"
          ],
          "name": "stdout"
        }
      ]
    },
    {
      "cell_type": "markdown",
      "metadata": {
        "id": "opfvJI1k3XOC",
        "colab_type": "text"
      },
      "source": [
        "##Download and run adversarial examples"
      ]
    },
    {
      "cell_type": "code",
      "metadata": {
        "id": "wCgnnqCt3dZ2",
        "colab_type": "code",
        "outputId": "da6f7471-ae5e-4786-c42f-6dad575dbe51",
        "colab": {
          "base_uri": "https://localhost:8080/",
          "height": 700
        }
      },
      "source": [
        "!mkdir results\n",
        "!curl -sL https://github.com/mzweilin/EvadeML-Zoo/releases/download/v0.1/results_MNIST_100_317f6_carlini.tar.gz | tar xzv -C results\n",
        "!curl -sL https://github.com/mzweilin/EvadeML-Zoo/releases/download/v0.1/results_CIFAR-10_100_de671_densenet.tar.gz | tar xzv -C results\n",
        "!curl -sL https://github.com/mzweilin/EvadeML-Zoo/releases/download/v0.1/results_ImageNet_100_a2749_mobilenet.tar.gz | tar xzv -C results"
      ],
      "execution_count": 0,
      "outputs": [
        {
          "output_type": "stream",
          "text": [
            "MNIST_100_317f6_carlini/\n",
            "MNIST_100_317f6_carlini/adv_examples/\n",
            "MNIST_100_317f6_carlini/adv_examples/MNIST_100_317f6_carlini_jsma?targeted=next.pickle\n",
            "MNIST_100_317f6_carlini/adv_examples/MNIST_100_317f6_carlini_carlinili?targeted=next&batch_size=1&max_iterations=1000&confidence=10.pickle\n",
            "MNIST_100_317f6_carlini/adv_examples/MNIST_100_317f6_carlini_bim?eps=0.3&eps_iter=0.06.pickle\n",
            "MNIST_100_317f6_carlini/adv_examples/MNIST_100_317f6_carlini_adaptive_carlini_l2?targeted=next&tf_squeezers=median_filter_2_2,binary_filter_0.5&distance_measure=l1&detector_threshold=0.002915.pickle\n",
            "MNIST_100_317f6_carlini/adv_examples/MNIST_100_317f6_carlini_carlinil0?targeted=next&batch_size=1&max_iterations=1000&confidence=10.pickle\n",
            "MNIST_100_317f6_carlini/adv_examples/MNIST_100_317f6_carlini_adaptive_carlini_l2?targeted=false&tf_squeezers=median_filter_2_2,binary_filter_0.5&distance_measure=l1&detector_threshold=0.002915.pickle\n",
            "MNIST_100_317f6_carlini/adv_examples/MNIST_100_317f6_carlini_fgsm?eps=0.3.pickle\n",
            "MNIST_100_317f6_carlini/adv_examples/MNIST_100_317f6_carlini_carlinil2?targeted=next&batch_size=100&max_iterations=1000&confidence=10.pickle\n",
            "MNIST_100_317f6_carlini/adv_examples/MNIST_100_317f6_carlini_jsma?targeted=ll.pickle\n",
            "MNIST_100_317f6_carlini/adv_examples/MNIST_100_317f6_carlini_carlinil2?targeted=ll&batch_size=100&max_iterations=1000&confidence=10.pickle\n",
            "MNIST_100_317f6_carlini/adv_examples/MNIST_100_317f6_carlini_carlinili?targeted=ll&batch_size=1&max_iterations=1000&confidence=10.pickle\n",
            "MNIST_100_317f6_carlini/adv_examples/MNIST_100_317f6_carlini_adaptive_carlini_l2?targeted=ll&tf_squeezers=median_filter_2_2,binary_filter_0.5&distance_measure=l1&detector_threshold=0.002915.pickle\n",
            "MNIST_100_317f6_carlini/adv_examples/MNIST_100_317f6_carlini_carlinil0?targeted=ll&batch_size=1&max_iterations=1000&confidence=10.pickle\n",
            "CIFAR-10_100_de671_densenet/\n",
            "CIFAR-10_100_de671_densenet/adv_examples/\n",
            "CIFAR-10_100_de671_densenet/adv_examples/CIFAR-10_100_de671_densenet_carlinili?targeted=next&confidence=5.pickle\n",
            "CIFAR-10_100_de671_densenet/adv_examples/CIFAR-10_100_de671_densenet_carlinil2?targeted=next&batch_size=100&max_iterations=1000&confidence=5.pickle\n",
            "CIFAR-10_100_de671_densenet/adv_examples/CIFAR-10_100_de671_densenet_carlinil2?targeted=ll&batch_size=100&max_iterations=1000&confidence=5.pickle\n",
            "CIFAR-10_100_de671_densenet/adv_examples/CIFAR-10_100_de671_densenet_carlinili?targeted=ll&confidence=5.pickle\n",
            "CIFAR-10_100_de671_densenet/adv_examples/CIFAR-10_100_de671_densenet_deepfool?overshoot=10.pickle\n",
            "CIFAR-10_100_de671_densenet/adv_examples/CIFAR-10_100_de671_densenet_carlinil0?targeted=ll&confidence=5.pickle\n",
            "CIFAR-10_100_de671_densenet/adv_examples/CIFAR-10_100_de671_densenet_jsma?targeted=ll.pickle\n",
            "CIFAR-10_100_de671_densenet/adv_examples/CIFAR-10_100_de671_densenet_fgsm?eps=0.0156.pickle\n",
            "CIFAR-10_100_de671_densenet/adv_examples/CIFAR-10_100_de671_densenet_bim?eps=0.008&eps_iter=0.0012.pickle\n",
            "CIFAR-10_100_de671_densenet/adv_examples/CIFAR-10_100_de671_densenet_jsma?targeted=next.pickle\n",
            "CIFAR-10_100_de671_densenet/adv_examples/CIFAR-10_100_de671_densenet_carlinil0?targeted=next&confidence=5.pickle\n",
            "ImageNet_100_a2749_mobilenet/\n",
            "ImageNet_100_a2749_mobilenet/adv_examples/\n",
            "ImageNet_100_a2749_mobilenet/adv_examples/ImageNet_100_a2749_mobilenet_bim?eps=0.0040&eps_iter=0.0020.pickle\n",
            "ImageNet_100_a2749_mobilenet/adv_examples/ImageNet_100_a2749_mobilenet_fgsm?eps=0.0078.pickle\n",
            "ImageNet_100_a2749_mobilenet/adv_examples/ImageNet_100_a2749_mobilenet_carlinil2?max_iterations=1000&batch_size=10&targeted=next&confidence=5.pickle\n",
            "ImageNet_100_a2749_mobilenet/adv_examples/ImageNet_100_a2749_mobilenet_carlinil2?max_iterations=1000&batch_size=50&targeted=ll&confidence=5.pickle\n",
            "ImageNet_100_a2749_mobilenet/adv_examples/ImageNet_100_a2749_mobilenet_carlinil0?batch_size=1&targeted=next&confidence=5.pickle\n",
            "ImageNet_100_a2749_mobilenet/adv_examples/ImageNet_100_a2749_mobilenet_carlinili?batch_size=1&targeted=ll&confidence=5.pickle\n",
            "ImageNet_100_a2749_mobilenet/adv_examples/ImageNet_100_a2749_mobilenet_carlinili?batch_size=1&targeted=next&confidence=5.pickle\n",
            "ImageNet_100_a2749_mobilenet/adv_examples/ImageNet_100_a2749_mobilenet_deepfool?overshoot=35.pickle\n",
            "ImageNet_100_a2749_mobilenet/adv_examples/ImageNet_100_a2749_mobilenet_carlinil0?batch_size=1&targeted=ll&confidence=5.pickle\n"
          ],
          "name": "stdout"
        }
      ]
    },
    {
      "cell_type": "code",
      "metadata": {
        "id": "sMmiuE6i3egJ",
        "colab_type": "code",
        "colab": {}
      },
      "source": [
        "import cPickle\n",
        "\n",
        "#Load adversarial examples\n",
        "targetNext1Pickle = cPickle.load(open(\"results/CIFAR-10_100_de671_densenet/adv_examples/CIFAR-10_100_de671_densenet_carlinili?targeted=next&confidence=5.pickle\", 'rb'))\n",
        "targetNext1Data = targetNext1Pickle[0]\n",
        "targetll1Pickle = cPickle.load(open(\"results/CIFAR-10_100_de671_densenet/adv_examples/CIFAR-10_100_de671_densenet_carlinili?targeted=ll&confidence=5.pickle\", 'rb'))\n",
        "targetll1Data = targetll1Pickle[0]\n",
        "targetNext2Pickle = cPickle.load(open(\"results/CIFAR-10_100_de671_densenet/adv_examples/CIFAR-10_100_de671_densenet_carlinil2?targeted=next&batch_size=100&max_iterations=1000&confidence=5.pickle\", 'rb'))\n",
        "targetNext2Data = targetNext2Pickle[0]\n",
        "targetll2Pickle = cPickle.load(open(\"results/CIFAR-10_100_de671_densenet/adv_examples/CIFAR-10_100_de671_densenet_carlinil2?targeted=ll&batch_size=100&max_iterations=1000&confidence=5.pickle\", 'rb'))\n",
        "targetll2Data = targetll2Pickle[0]\n",
        "targetNext0Pickle = cPickle.load(open(\"results/CIFAR-10_100_de671_densenet/adv_examples/CIFAR-10_100_de671_densenet_carlinil0?targeted=next&confidence=5.pickle\", 'rb'))\n",
        "targetNext0Data = targetNext0Pickle[0]\n",
        "targetll0Pickle = cPickle.load(open(\"results/CIFAR-10_100_de671_densenet/adv_examples/CIFAR-10_100_de671_densenet_carlinil0?targeted=ll&confidence=5.pickle\", 'rb'))\n",
        "targetll0Data = targetll0Pickle[0]\n",
        "targetNextJsmaPickle = cPickle.load(open(\"results/CIFAR-10_100_de671_densenet/adv_examples/CIFAR-10_100_de671_densenet_jsma?targeted=next.pickle\", 'rb'))\n",
        "targetNextJsmaData = targetNextJsmaPickle[0]\n",
        "targetllJsmaPickle = cPickle.load(open(\"results/CIFAR-10_100_de671_densenet/adv_examples/CIFAR-10_100_de671_densenet_jsma?targeted=ll.pickle\", 'rb'))\n",
        "targetllJsmaData = targetllJsmaPickle[0]\n",
        "fgsmPickle = cPickle.load(open(\"results/CIFAR-10_100_de671_densenet/adv_examples/CIFAR-10_100_de671_densenet_fgsm?eps=0.0156.pickle\", 'rb'))\n",
        "fgsmData = fgsmPickle[0]\n",
        "bimPickle = cPickle.load(open(\"results/CIFAR-10_100_de671_densenet/adv_examples/CIFAR-10_100_de671_densenet_bim?eps=0.008&eps_iter=0.0012.pickle\", 'rb'))\n",
        "bimData = bimPickle[0]\n",
        "deepfoolPickle = cPickle.load(open(\"results/CIFAR-10_100_de671_densenet/adv_examples/CIFAR-10_100_de671_densenet_deepfool?overshoot=10.pickle\", 'rb'))\n",
        "deepfoolData = deepfoolPickle[0]\n",
        "\n",
        "adversarialData = np.concatenate((targetNext1Data, targetll1Data, targetNext2Data, targetll2Data, targetNext0Data, targetll0Data, targetNextJsmaData, targetllJsmaData, fgsmData, bimData), axis=0)"
      ],
      "execution_count": 0,
      "outputs": []
    },
    {
      "cell_type": "code",
      "metadata": {
        "id": "08Cyx8AGHxzd",
        "colab_type": "code",
        "outputId": "591c1c05-2544-4622-8452-61f9fa7f01da",
        "colab": {
          "base_uri": "https://localhost:8080/",
          "height": 68
        }
      },
      "source": [
        "#Test attack success rate. Meant to work with Keras version of get_prediction\n",
        "all_attacks = adversarialData\n",
        "all_attacks_predictions = np.argmax(get_prediction_keras(all_attacks), axis=1)\n",
        "test_images, test_gt = get_test_dataset()\n",
        "all_attacks_gt = np.tile(np.argmax(test_gt, axis=1)[:100], 10)\n",
        "print \"Attack succcess rate\", 1.0*np.sum(all_attacks_gt != all_attacks_predictions)/len(all_attacks)\n",
        "successful_attacks = all_attacks[np.where(all_attacks_predictions != all_attacks_gt)[0]]\n",
        "\n",
        "successful_attacks_suffixes = fingerprint_suffix_keras(successful_attacks)"
      ],
      "execution_count": 0,
      "outputs": [
        {
          "output_type": "stream",
          "text": [
            "100%|██████████| 6/6 [00:00<00:00, 48.74it/s]"
          ],
          "name": "stderr"
        },
        {
          "output_type": "stream",
          "text": [
            "Attack succcess rate 0.561\n",
            "Getting fingerprint for activation_5/Relu:0\n"
          ],
          "name": "stdout"
        },
        {
          "output_type": "stream",
          "text": [
            "\n"
          ],
          "name": "stderr"
        }
      ]
    },
    {
      "cell_type": "code",
      "metadata": {
        "id": "HiUhhwQXK74H",
        "colab_type": "code",
        "colab": {}
      },
      "source": [
        "ind = np.array(range(10000))\n",
        "np.random.shuffle(ind)\n",
        "benign_suffixes = test_suffixes[ind]"
      ],
      "execution_count": 0,
      "outputs": []
    },
    {
      "cell_type": "code",
      "metadata": {
        "id": "N_sQcewdLEiG",
        "colab_type": "code",
        "colab": {}
      },
      "source": [
        "benign_be_predictions = basic_estimator.predict(benign_suffixes)\n",
        "benign_be_leaf_nodes = basic_estimator.apply(benign_suffixes)\n",
        "benign_be_conf = get_estimator_confidence_by_leaf_visits(\n",
        "    basic_estimator, benign_suffixes, benign_be_predictions, benign_be_leaf_nodes,\n",
        "    range(10)\n",
        ")\n",
        "\n",
        "benign_fge_predictions = fine_grained_estimator.predict(benign_suffixes)\n",
        "benign_fge_leaf_nodes = fine_grained_estimator.apply(benign_suffixes)\n",
        "benign_fge_conf = get_estimator_confidence_by_leaf_visits(\n",
        "    fine_grained_estimator, benign_suffixes, benign_fge_predictions, benign_fge_leaf_nodes,\n",
        "    11*np.array(range(10))\n",
        ")\n",
        "\n",
        "successful_attacks_be_predictions = basic_estimator.predict(successful_attacks_suffixes)\n",
        "successful_attacks_be_leaf_nodes = basic_estimator.apply(successful_attacks_suffixes)\n",
        "successful_attacks_be_conf = get_estimator_confidence_by_leaf_visits(\n",
        "    basic_estimator, successful_attacks_suffixes, successful_attacks_be_predictions,\n",
        "    successful_attacks_be_leaf_nodes, np.array(range(10)))\n",
        "\n",
        "successful_attacks_fge_predictions = fine_grained_estimator.predict(successful_attacks_suffixes)\n",
        "successful_attacks_fge_leaf_nodes = fine_grained_estimator.apply(successful_attacks_suffixes)\n",
        "successful_attacks_fge_conf = get_estimator_confidence_by_leaf_visits(\n",
        "    fine_grained_estimator, successful_attacks_suffixes, successful_attacks_fge_predictions,\n",
        "    successful_attacks_fge_leaf_nodes, 11*np.array(range(10)))"
      ],
      "execution_count": 0,
      "outputs": []
    },
    {
      "cell_type": "code",
      "metadata": {
        "id": "K7lIkvbtNVCZ",
        "colab_type": "code",
        "colab": {}
      },
      "source": [
        "from sklearn import metrics\n",
        "def get_detection_error_rates(\n",
        "    benign_conf, attacks_conf, min_samples):\n",
        "  benign_conf = benign_conf > min_samples\n",
        "  attacks_conf = attacks_conf > min_samples\n",
        "  fpr = np.mean(1.0 - benign_conf)\n",
        "  tpr = np.mean(1.0 - attacks_conf)\n",
        "  return fpr, tpr\n",
        "\n",
        "def get_detection_auc(\n",
        "    benign_conf, attacks_conf):\n",
        "  fprs = []\n",
        "  tprs = []\n",
        "  for min_samples in tqdm(range(1+max(benign_conf.max(), attacks_conf.max()))):\n",
        "    fpr, tpr = get_detection_error_rates(benign_conf, attacks_conf, min_samples)\n",
        "    fprs.append(fpr)\n",
        "    tprs.append(tpr)\n",
        "  return metrics.auc(fprs, tprs)"
      ],
      "execution_count": 0,
      "outputs": []
    },
    {
      "cell_type": "code",
      "metadata": {
        "id": "L3hdKsCzNhA_",
        "colab_type": "code",
        "outputId": "a4b418ae-f191-4155-8a68-945581e3f346",
        "colab": {
          "base_uri": "https://localhost:8080/",
          "height": 187
        }
      },
      "source": [
        "min_samples = 10\n",
        "fpr, tpr = get_detection_error_rates(\n",
        "  benign_be_conf, successful_attacks_be_conf, min_samples)\n",
        "print \"Basic Estimator (min_samples = %d)\" % min_samples\n",
        "print \"FPR (<num test non-confident instances>/ <num test instances>\", fpr\n",
        "print \"TPR (<num attack non-confident instances>/ <num attack instances>\", tpr\n",
        "\n",
        "auc = get_detection_auc(\n",
        "  benign_be_conf, successful_attacks_be_conf)\n",
        "print \"AUC\", auc\n",
        "\n",
        "fpr, tpr = get_detection_error_rates(\n",
        "  benign_fge_conf, successful_attacks_fge_conf, min_samples)\n",
        "print \"Fine-grained Estimator (min_samples = %d)\" % min_samples\n",
        "print \"FPR (<num test non-confident instances>/ <num test instances>\", fpr\n",
        "print \"TPR (<num attack non-confident instances>/ <num attack instances>\", tpr\n",
        "\n",
        "auc = get_detection_auc(\n",
        "  benign_fge_conf, successful_attacks_fge_conf)\n",
        "print \"AUC\", auc"
      ],
      "execution_count": 0,
      "outputs": [
        {
          "output_type": "stream",
          "text": [
            " 46%|████▌     | 1151/2512 [00:00<00:00, 11508.86it/s]"
          ],
          "name": "stderr"
        },
        {
          "output_type": "stream",
          "text": [
            "Basic Estimator (min_samples = 10)\n",
            "FPR (<num test non-confident instances>/ <num test instances> 0.283\n",
            "TPR (<num attack non-confident instances>/ <num attack instances> 0.46167557932263814\n"
          ],
          "name": "stdout"
        },
        {
          "output_type": "stream",
          "text": [
            "100%|██████████| 2512/2512 [00:00<00:00, 11432.16it/s]\n",
            " 51%|█████     | 1201/2346 [00:00<00:00, 12008.44it/s]"
          ],
          "name": "stderr"
        },
        {
          "output_type": "stream",
          "text": [
            "AUC 0.6237982174688058\n",
            "Fine-grained Estimator (min_samples = 10)\n",
            "FPR (<num test non-confident instances>/ <num test instances> 0.3202\n",
            "TPR (<num attack non-confident instances>/ <num attack instances> 0.44028520499108736\n"
          ],
          "name": "stdout"
        },
        {
          "output_type": "stream",
          "text": [
            "\r100%|██████████| 2346/2346 [00:00<00:00, 10750.43it/s]"
          ],
          "name": "stderr"
        },
        {
          "output_type": "stream",
          "text": [
            "AUC 0.5891091800356506\n"
          ],
          "name": "stdout"
        },
        {
          "output_type": "stream",
          "text": [
            "\n"
          ],
          "name": "stderr"
        }
      ]
    },
    {
      "cell_type": "code",
      "metadata": {
        "id": "tY9Hcw9Bc5sL",
        "colab_type": "code",
        "outputId": "feca7ec2-a768-4db3-c674-c7f37b345f5c",
        "colab": {
          "base_uri": "https://localhost:8080/",
          "height": 102
        }
      },
      "source": [
        "test_images1, test_labels1 = get_test_dataset()\n",
        "all_attacks_gt = np.tile(np.argmax(test_labels1, axis=1)[:100], 10)\n",
        "all_attacks = adversarialData\n",
        "adversarial_images = adversarialData\n",
        "\n",
        "all_attacks_predictions = np.argmax(get_prediction_keras(all_attacks), axis=1)\n",
        "successful_attacks = all_attacks[np.where(all_attacks_predictions != all_attacks_gt)[0]]\n",
        "unsuccessful_attacks = all_attacks[np.where(all_attacks_predictions == all_attacks_gt)[0]]\n",
        "successful_attacks_gt = all_attacks_gt[np.where(all_attacks_predictions != all_attacks_gt)[0]]\n",
        "unsuccessful_attacks_gt = all_attacks_gt[np.where(all_attacks_predictions == all_attacks_gt)[0]]\n",
        "print len(successful_attacks)\n",
        "adversarial_suffixes = fingerprint_suffix_keras(successful_attacks)\n",
        "adversarial_suffixes = (adversarial_suffixes>0).astype('int')\n",
        "\n",
        "be_adversarial_predictions = basic_estimator.predict(adversarial_suffixes)\n",
        "be_adversarial_leaf_nodes = basic_estimator.apply(adversarial_suffixes)\n",
        "fge_adversarial_predictions = fine_grained_estimator.predict(adversarial_suffixes)\n",
        "fge_adversarial_leaf_nodes = fine_grained_estimator.apply(adversarial_suffixes)\n",
        "\n",
        "be_adversarial_conf = get_estimator_confidence_by_leaf_visits(\n",
        "    basic_estimator, adversarial_suffixes, be_adversarial_predictions, be_adversarial_leaf_nodes, np.array(range(10)))\n",
        "print \"Number of confident adversarial examples from basic estimator\", np.sum((be_adversarial_conf)>1000)\n",
        "fge_adversarial_conf = get_estimator_confidence_by_leaf_visits(\n",
        "    fine_grained_estimator, adversarial_suffixes, fge_adversarial_predictions, fge_adversarial_leaf_nodes, 10*np.array(range(10))+np.array(range(10)))\n",
        "print \"Number of confident adversarial examples from fine grained estimator\", np.sum(fge_adversarial_conf)\n"
      ],
      "execution_count": 0,
      "outputs": [
        {
          "output_type": "stream",
          "text": [
            "100%|██████████| 6/6 [00:00<00:00, 52.19it/s]"
          ],
          "name": "stderr"
        },
        {
          "output_type": "stream",
          "text": [
            "561\n",
            "Getting fingerprint for activation_6/Relu:0\n",
            "Number of confident adversarial examples from basic estimator 129\n",
            "Number of confident adversarial examples from fine grained estimator 272276\n"
          ],
          "name": "stdout"
        },
        {
          "output_type": "stream",
          "text": [
            "\n"
          ],
          "name": "stderr"
        }
      ]
    },
    {
      "cell_type": "code",
      "metadata": {
        "id": "ZCqyixQXXrmO",
        "colab_type": "code",
        "outputId": "36a434df-9e5f-4095-b270-0715e40c827a",
        "colab": {
          "base_uri": "https://localhost:8080/",
          "height": 136
        }
      },
      "source": [
        "# Create and run an inference graph for the given adversarial examples, print num conf instances\n",
        "# This is meant to work with the tensorflow deep cnn stuff\n",
        "# TABLE OUT OF DATE, IGNORE \n",
        "# Fine Grained SS=1 / Fine Grained SS = 10 / Basic SS=10 / Basic SS=5\n",
        "# targetNext1Data       47 / 5  / 24 / 69\n",
        "# targetll1Data         46 / 7  / 28 / 67\n",
        "# targetNext2Data       47 / 6  / 25 / 69\n",
        "# targetll2Data         47 / 6  / 26 / 69\n",
        "# targetNext0Data       43 / 6  / 25 / 67\n",
        "# targetll0Data         43 / 1  / 18 / 65\n",
        "# targetNextJsmaData    50 / 12 / 48 / 75\n",
        "# targetllJsmaData      39 / 9  / 49 / 65\n",
        "# fgsmData              45 / 7  / 27 / 68\n",
        "# bimData               46 / 5  / 25 / 69\n",
        "# Totals                330 / 64 / 295 / 683\n",
        "\n",
        "def preprocess(images):\n",
        "  # 'images' is a list of images of shape <32, 32, 3> and scaled down to 0 to 1.\n",
        "  #\n",
        "  # First scale up to 0 to 255\n",
        "  images = 255*images \n",
        "  centered_data = tf.image.resize_image_with_crop_or_pad(images, 24, 24)\n",
        "  standardized_data = tf.map_fn(lambda image: tf.image.per_image_standardization(image), centered_data)\n",
        "  return sess.run(standardized_data)\n",
        "\n",
        "test_images, test_labels = get_test_dataset()\n",
        "test_labels = np.argmax(test_labels, axis=1)[:100]\n",
        "repeated_labels = np.tile(test_labels, 10)\n",
        "\n",
        "#Select desired data here\n",
        "adversarial_images = preprocess(adversarialData)\n",
        "# adversarial_images is what we must feed to our network\n",
        "adversarial_predictions = np.argmax(get_prediction(sess, t_logits, t_images_pl, adversarial_images), axis=1)\n",
        "successful_images = adversarial_images[np.array([adversarial_predictions[i] != repeated_labels[i] for i in range(len(adversarial_predictions))])]\n",
        "print len(successful_images), \"successful attacks\"\n",
        "unsuccessful_images = adversarial_images[np.invert(np.array([adversarial_predictions[i] != repeated_labels[i] for i in range(len(adversarial_predictions))]))]\n",
        "print len(unsuccessful_images), \"unsuccessful attacks\"\n",
        "adversarial_suffixes = fingerprint_suffix(unsuccessful_images)\n",
        "#adversarial_suffixes = fingerprint_suffix(successful_images)\n",
        "#adversarial_suffixes = fingerprint_suffix(adversarial_images)\n",
        "adversarial_suffixes = (adversarial_suffixes>0).astype('int')\n",
        "\n",
        "fge_adversarial_predictions = fine_grained_estimator.predict(adversarial_suffixes)\n",
        "be_adversarial_predictions = basic_estimator.predict(adversarial_suffixes)\n",
        "\n",
        "#Adjust confidence threshold here\n",
        "minsamps = 10\n",
        "be_adversarial_conf = get_estimator_confidence(basic_estimator, adversarial_suffixes, be_adversarial_predictions, np.array(range(10)), min_samples=minsamps)\n",
        "print \"Number of confident adversarial examples from basic estimator\", np.sum(be_adversarial_conf)\n",
        "fge_adversarial_conf = get_estimator_confidence(fine_grained_estimator, adversarial_suffixes, fge_adversarial_predictions, 10*np.array(range(10))+np.array(range(10)), min_samples=minsamps)\n",
        "print \"Number of confident adversarial examples from fine grained estimator\", np.sum(fge_adversarial_conf)\n"
      ],
      "execution_count": 0,
      "outputs": [
        {
          "output_type": "stream",
          "text": [
            "100%|██████████| 8/8 [00:00<00:00, 74.05it/s]\n",
            "100%|██████████| 4/4 [00:00<00:00, 63.14it/s]\n"
          ],
          "name": "stderr"
        },
        {
          "output_type": "stream",
          "text": [
            "586 successful attacks\n",
            "414 unsuccessful attacks\n",
            "Getting fingerprint for local4/local4:0\n",
            "Number of confident adversarial examples from basic estimator 332\n",
            "Number of confident adversarial examples from fine grained estimator 259\n"
          ],
          "name": "stdout"
        }
      ]
    },
    {
      "cell_type": "code",
      "metadata": {
        "id": "8ctr7bM4UCeH",
        "colab_type": "code",
        "outputId": "28325a1f-331e-4dbf-cd67-6f9bd54d1246",
        "colab": {
          "base_uri": "https://localhost:8080/",
          "height": 513
        }
      },
      "source": [
        "# Examine invariant clusters that contain adversarial images\n",
        "\n",
        "from collections import Counter\n",
        "\n",
        "basic_clusters = [get_invariant_generic(basic_estimator, adversarial_images, adversarial_suffixes, i)[0] for i in tqdm(range(len(adversarial_images)))]\n",
        "print \"\\nBasic Estimator:\"\n",
        "\n",
        "basic_images_per_cluster = []\n",
        "basic_considered_clusters = []\n",
        "for cluster in basic_clusters:\n",
        "  ignore = False\n",
        "  for i in basic_considered_clusters:\n",
        "    if np.array_equal(cluster, i):\n",
        "      ignore = True\n",
        "      break\n",
        "  if ignore == True:\n",
        "    continue\n",
        "  else:\n",
        "    basic_considered_clusters.append(cluster)\n",
        "  count = np.sum(np.array([np.array_equal(cluster, i) for i in basic_clusters]).astype(int))\n",
        "  basic_images_per_cluster.append(count)\n",
        "basic_cluster_sizes = [len(cluster) for cluster in basic_considered_clusters]\n",
        "print \"Number of unique clusters:\", len(basic_cluster_sizes)\n",
        "print \"Max cluster size:\", np.amax(basic_cluster_sizes)\n",
        "print \"Clusters larger than 100:\", np.sum(np.array([i > 100 for i in basic_cluster_sizes]).astype(int))\n",
        "print \"# adv images in those clusters:\"\n",
        "print np.array(basic_images_per_cluster)[np.array([i > 100 for i in basic_cluster_sizes])]\n",
        "print \"Clusters larger than 500:\", np.sum(np.array([i > 500 for i in basic_cluster_sizes]).astype(int))\n",
        "print \"# adv images in those clusters:\"\n",
        "print np.array(basic_images_per_cluster)[np.array([i > 500 for i in basic_cluster_sizes])]\n",
        "print \"max adv images per cluster:\", np.amax(basic_images_per_cluster)\n",
        "print \"Adversarial images per cluster:\"\n",
        "print basic_images_per_cluster\n",
        "\n",
        "fg_clusters = [get_invariant_generic(fine_grained_estimator, adversarial_images, adversarial_suffixes, i)[0] for i in tqdm(range(len(adversarial_images)))] \n",
        "print \"\\nFine-Grained Estimator:\"\n",
        "\n",
        "fg_images_per_cluster = []\n",
        "fg_considered_clusters = []\n",
        "for cluster in fg_clusters:\n",
        "  ignore = False\n",
        "  for i in fg_considered_clusters:\n",
        "    if np.array_equal(cluster, i):\n",
        "      ignore = True\n",
        "      break\n",
        "  if ignore == True:\n",
        "    continue\n",
        "  else:\n",
        "    fg_considered_clusters.append(cluster)\n",
        "  count = np.sum(np.array([np.array_equal(cluster, i) for i in fg_clusters]).astype(int))\n",
        "  fg_images_per_cluster.append(count)\n",
        "fg_cluster_sizes = [len(cluster) for cluster in fg_considered_clusters]\n",
        "print \"Number of unique clusters:\", len(fg_cluster_sizes)\n",
        "print \"Max cluster size:\", np.amax(fg_cluster_sizes)\n",
        "print \"Clusters larger than 100:\", np.sum(np.array([i > 100 for i in fg_cluster_sizes]).astype(int))\n",
        "print \"# adv images in those clusters:\"\n",
        "print np.array(fg_images_per_cluster)[np.array([i > 100 for i in fg_cluster_sizes])]\n",
        "print \"Clusters larger than 500:\", np.sum(np.array([i > 500 for i in fg_cluster_sizes]).astype(int))\n",
        "print \"# adv images in those clusters:\"\n",
        "print np.array(fg_images_per_cluster)[np.array([i > 500 for i in fg_cluster_sizes])]\n",
        "print \"max adv images per cluster:\", np.amax(fg_images_per_cluster)\n",
        "print \"Adversarial images per cluster:\"\n",
        "print fg_images_per_cluster"
      ],
      "execution_count": 0,
      "outputs": [
        {
          "output_type": "stream",
          "text": [
            "100%|██████████| 1000/1000 [00:20<00:00, 49.23it/s]\n",
            "  0%|          | 0/1000 [00:00<?, ?it/s]"
          ],
          "name": "stderr"
        },
        {
          "output_type": "stream",
          "text": [
            "\n",
            "Basic Estimator:\n",
            "Number of unique clusters: 93\n",
            "Max cluster size: 3627\n",
            "Clusters larger than 100: 5\n",
            "# adv images in those clusters:\n",
            "[33  6  5  3  3]\n",
            "Clusters larger than 500: 3\n",
            "# adv images in those clusters:\n",
            "[6 5 3]\n",
            "max adv images per cluster: 122\n",
            "Adversarial images per cluster:\n",
            "[88, 52, 38, 116, 26, 46, 22, 57, 39, 14, 42, 5, 33, 12, 4, 122, 10, 6, 6, 18, 7, 29, 15, 11, 8, 6, 4, 8, 7, 4, 8, 6, 3, 5, 2, 4, 1, 2, 3, 10, 5, 1, 3, 1, 1, 1, 3, 3, 1, 1, 1, 1, 1, 1, 5, 1, 1, 5, 2, 7, 1, 4, 3, 9, 4, 3, 1, 1, 3, 1, 1, 1, 2, 1, 3, 1, 1, 1, 1, 1, 1, 1, 1, 1, 1, 1, 1, 1, 1, 1, 1, 1, 1]\n"
          ],
          "name": "stdout"
        },
        {
          "output_type": "stream",
          "text": [
            "100%|██████████| 1000/1000 [00:23<00:00, 43.43it/s]\n"
          ],
          "name": "stderr"
        },
        {
          "output_type": "stream",
          "text": [
            "\n",
            "Fine-Grained Estimator:\n",
            "Number of unique clusters: 154\n",
            "Max cluster size: 2591\n",
            "Clusters larger than 100: 1\n",
            "# adv images in those clusters:\n",
            "[1]\n",
            "Clusters larger than 500: 1\n",
            "# adv images in those clusters:\n",
            "[1]\n",
            "max adv images per cluster: 81\n",
            "Adversarial images per cluster:\n",
            "[14, 11, 44, 33, 6, 81, 57, 73, 6, 15, 44, 5, 14, 37, 10, 6, 33, 21, 42, 35, 10, 6, 6, 6, 8, 53, 7, 6, 7, 7, 7, 8, 21, 6, 5, 5, 7, 6, 6, 8, 5, 7, 5, 3, 2, 1, 6, 5, 4, 3, 2, 2, 4, 3, 1, 1, 1, 1, 1, 1, 1, 1, 4, 3, 1, 3, 1, 1, 1, 1, 1, 8, 3, 2, 4, 1, 3, 1, 1, 1, 1, 4, 1, 5, 1, 2, 1, 1, 1, 1, 1, 1, 8, 1, 1, 1, 3, 9, 2, 3, 1, 4, 1, 1, 1, 1, 2, 1, 1, 1, 1, 2, 1, 4, 1, 3, 1, 1, 1, 1, 1, 2, 1, 3, 1, 1, 1, 1, 2, 1, 1, 1, 1, 1, 1, 2, 2, 1, 1, 1, 1, 1, 1, 1, 1, 1, 1, 1, 1, 1, 1, 1, 1, 1]\n"
          ],
          "name": "stdout"
        }
      ]
    },
    {
      "cell_type": "markdown",
      "metadata": {
        "id": "QhKV-FYLv-Eb",
        "colab_type": "text"
      },
      "source": [
        "### Visualizing the Decision Tree"
      ]
    },
    {
      "cell_type": "code",
      "metadata": {
        "id": "EEZ8ZeuMo_9m",
        "colab_type": "code",
        "colab": {}
      },
      "source": [
        "!apt-get install graphviz\n",
        "!pip install graphviz\n",
        "import graphviz"
      ],
      "execution_count": 0,
      "outputs": []
    },
    {
      "cell_type": "code",
      "metadata": {
        "id": "ZaOsPspkjuOe",
        "colab_type": "code",
        "colab": {}
      },
      "source": [
        "dot_data = tree.export_graphviz(basic_estimator, out_file=None) \n",
        "graph = graphviz.Source(dot_data)  \n",
        "graph "
      ],
      "execution_count": 0,
      "outputs": []
    }
  ]
}