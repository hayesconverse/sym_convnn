{
  "nbformat": 4,
  "nbformat_minor": 0,
  "metadata": {
    "colab": {
      "name": "MNIST Invariants v2 [FINAL].ipynb",
      "version": "0.3.2",
      "provenance": [],
      "collapsed_sections": [
        "d98vYNy_TWi1",
        "Jv3U6Xs_T2el",
        "iG5Fq5GIkP6u",
        "7yq9MfHv_LGX",
        "98otjoAVvMd6",
        "1fcVM2dek4Qo",
        "jU7SHWilyZjc"
      ]
    },
    "kernelspec": {
      "name": "python2",
      "display_name": "Python 2"
    }
  },
  "cells": [
    {
      "cell_type": "code",
      "metadata": {
        "id": "t-JL_MKop5Qh",
        "colab_type": "code",
        "colab": {}
      },
      "source": [
        "import math\n",
        "import io\n",
        "import os\n",
        "import operator\n",
        "from timeit import default_timer as timer\n",
        "from collections import namedtuple\n",
        "import numpy as np\n",
        "import matplotlib.pyplot as plt\n",
        "import tensorflow as tf\n",
        "from sklearn import tree\n",
        "from tqdm import tqdm\n",
        "import operator\n",
        "import pandas as pd\n",
        "\n",
        "from tensorflow.examples.tutorials.mnist import input_data\n"
      ],
      "execution_count": 0,
      "outputs": []
    },
    {
      "cell_type": "markdown",
      "metadata": {
        "id": "fNL6fB03WTSR",
        "colab_type": "text"
      },
      "source": [
        "\n",
        "\n",
        "```\n",
        "# This is formatted as code\n",
        "```\n",
        "\n",
        "## Restore Keras Model"
      ]
    },
    {
      "cell_type": "code",
      "metadata": {
        "id": "n77nshukXCwp",
        "colab_type": "code",
        "outputId": "d253bfbb-cdf4-4345-db21-7883f366889b",
        "colab": {
          "base_uri": "https://localhost:8080/",
          "height": 102
        }
      },
      "source": [
        "# RUN ONCE\n",
        "# Run Runtime->Reset ALl Runtimes to reset\n",
        "!git clone https://github.com/mzweilin/EvadeML-Zoo\n",
        "os.chdir('EvadeML-Zoo')"
      ],
      "execution_count": 0,
      "outputs": [
        {
          "output_type": "stream",
          "text": [
            "Cloning into 'EvadeML-Zoo'...\n",
            "remote: Enumerating objects: 952, done.\u001b[K\n",
            "remote: Total 952 (delta 0), reused 0 (delta 0), pack-reused 952\u001b[K\n",
            "Receiving objects: 100% (952/952), 27.54 MiB | 17.33 MiB/s, done.\n",
            "Resolving deltas: 100% (606/606), done.\n"
          ],
          "name": "stdout"
        }
      ]
    },
    {
      "cell_type": "code",
      "metadata": {
        "id": "-J9cFLr8oOlW",
        "colab_type": "code",
        "outputId": "36a7dd43-7637-416b-da4b-76c8920f817b",
        "colab": {
          "base_uri": "https://localhost:8080/",
          "height": 230
        }
      },
      "source": [
        "mkdir downloads; curl -sL https://github.com/mzweilin/EvadeML-Zoo/releases/download/v0.1/downloads.tar.gz | tar xzv -C downloads"
      ],
      "execution_count": 0,
      "outputs": [
        {
          "output_type": "stream",
          "text": [
            "MagNet/\n",
            "MagNet/defensive_models/\n",
            "MagNet/defensive_models/MNIST_II\n",
            "MagNet/defensive_models/MNIST_I\n",
            "MagNet/defensive_models/CIFAR\n",
            "trained_models/\n",
            "trained_models/MNIST_pgdtrained.keras_weights.h5\n",
            "trained_models/MNIST_pgdbase.keras_weights.h5\n",
            "trained_models/CIFAR-10_carlini.keras_weights.h5\n",
            "trained_models/MNIST_cleverhans.keras_weights.h5\n",
            "trained_models/MNIST_cleverhans_adv_trained.keras_weights.h5\n",
            "trained_models/MNIST_carlini.keras_weights.h5\n"
          ],
          "name": "stdout"
        }
      ]
    },
    {
      "cell_type": "code",
      "metadata": {
        "id": "nLFbh_A9gV3a",
        "colab_type": "code",
        "outputId": "e25bd32a-e5c5-4760-e53e-9720f139644d",
        "colab": {
          "base_uri": "https://localhost:8080/",
          "height": 35
        }
      },
      "source": [
        "from models import carlini_models\n",
        "from keras.datasets import mnist as keras_mnist\n",
        "from keras.utils import np_utils\n",
        "from keras import backend as K\n"
      ],
      "execution_count": 0,
      "outputs": [
        {
          "output_type": "stream",
          "text": [
            "Using TensorFlow backend.\n"
          ],
          "name": "stderr"
        }
      ]
    },
    {
      "cell_type": "code",
      "metadata": {
        "id": "BzqR3Nakrc_U",
        "colab_type": "code",
        "outputId": "16421ea3-11ff-41ed-ed21-ce5fc9f9669f",
        "colab": {
          "base_uri": "https://localhost:8080/",
          "height": 498
        }
      },
      "source": [
        "# Load MNIST data\n",
        "mnist = input_data.read_data_sets('MNIST_data')"
      ],
      "execution_count": 0,
      "outputs": [
        {
          "output_type": "stream",
          "text": [
            "WARNING:tensorflow:From <ipython-input-5-b8fd4c8de6c9>:1: read_data_sets (from tensorflow.contrib.learn.python.learn.datasets.mnist) is deprecated and will be removed in a future version.\n",
            "Instructions for updating:\n",
            "Please use alternatives such as official/mnist/dataset.py from tensorflow/models.\n",
            "WARNING:tensorflow:From /usr/local/lib/python2.7/dist-packages/tensorflow/contrib/learn/python/learn/datasets/mnist.py:260: maybe_download (from tensorflow.contrib.learn.python.learn.datasets.base) is deprecated and will be removed in a future version.\n",
            "Instructions for updating:\n",
            "Please write your own downloading logic.\n",
            "WARNING:tensorflow:From /usr/local/lib/python2.7/dist-packages/tensorflow/contrib/learn/python/learn/datasets/base.py:252: wrapped_fn (from tensorflow.contrib.learn.python.learn.datasets.base) is deprecated and will be removed in a future version.\n",
            "Instructions for updating:\n",
            "Please use urllib or similar directly.\n",
            "Successfully downloaded train-images-idx3-ubyte.gz 9912422 bytes.\n",
            "WARNING:tensorflow:From /usr/local/lib/python2.7/dist-packages/tensorflow/contrib/learn/python/learn/datasets/mnist.py:262: extract_images (from tensorflow.contrib.learn.python.learn.datasets.mnist) is deprecated and will be removed in a future version.\n",
            "Instructions for updating:\n",
            "Please use tf.data to implement this functionality.\n",
            "Extracting MNIST_data/train-images-idx3-ubyte.gz\n",
            "Successfully downloaded train-labels-idx1-ubyte.gz 28881 bytes.\n",
            "WARNING:tensorflow:From /usr/local/lib/python2.7/dist-packages/tensorflow/contrib/learn/python/learn/datasets/mnist.py:267: extract_labels (from tensorflow.contrib.learn.python.learn.datasets.mnist) is deprecated and will be removed in a future version.\n",
            "Instructions for updating:\n",
            "Please use tf.data to implement this functionality.\n",
            "Extracting MNIST_data/train-labels-idx1-ubyte.gz\n",
            "Successfully downloaded t10k-images-idx3-ubyte.gz 1648877 bytes.\n",
            "Extracting MNIST_data/t10k-images-idx3-ubyte.gz\n",
            "Successfully downloaded t10k-labels-idx1-ubyte.gz 4542 bytes.\n",
            "Extracting MNIST_data/t10k-labels-idx1-ubyte.gz\n",
            "WARNING:tensorflow:From /usr/local/lib/python2.7/dist-packages/tensorflow/contrib/learn/python/learn/datasets/mnist.py:290: __init__ (from tensorflow.contrib.learn.python.learn.datasets.mnist) is deprecated and will be removed in a future version.\n",
            "Instructions for updating:\n",
            "Please use alternatives such as official/mnist/dataset.py from tensorflow/models.\n"
          ],
          "name": "stdout"
        }
      ]
    },
    {
      "cell_type": "code",
      "metadata": {
        "id": "GSShvtYvnX9l",
        "colab_type": "code",
        "outputId": "7c5d9b62-8a0e-4d7d-ccaa-e02cdeb03801",
        "colab": {
          "base_uri": "https://localhost:8080/",
          "height": 90
        }
      },
      "source": [
        "K.clear_session()\n",
        "eml_carlini_mnist_model = carlini_models.carlini_mnist_model(logits=False, input_range_type=1)\n",
        "eml_carlini_mnist_model.compile(loss='categorical_crossentropy', optimizer='sgd', metrics=['acc'])\n",
        "\n",
        "dataset_name = \"MNIST\"\n",
        "model_name = \"carlini\"\n",
        "model_weights_fpath = \"%s_%s.keras_weights.h5\" % (dataset_name, model_name)\n",
        "model_weights_fpath = os.path.join('downloads/trained_models', model_weights_fpath)\n",
        "eml_carlini_mnist_model.load_weights(model_weights_fpath)"
      ],
      "execution_count": 0,
      "outputs": [
        {
          "output_type": "stream",
          "text": [
            "WARNING:tensorflow:From /usr/local/lib/python2.7/dist-packages/tensorflow/python/framework/op_def_library.py:263: colocate_with (from tensorflow.python.framework.ops) is deprecated and will be removed in a future version.\n",
            "Instructions for updating:\n",
            "Colocations handled automatically by placer.\n"
          ],
          "name": "stdout"
        }
      ]
    },
    {
      "cell_type": "code",
      "metadata": {
        "id": "vBxwCzbTOs_i",
        "colab_type": "code",
        "colab": {}
      },
      "source": [
        "sess = K.get_session()\n",
        "graph = sess.graph\n",
        "t_image = graph.get_tensor_by_name('lambda_1_input:0')\n",
        "t_prediction = graph.get_tensor_by_name('activation_7/Softmax:0')\n",
        "\n",
        "t_layer = graph.get_tensor_by_name('activation_1/Relu:0')\n",
        "t_layer = tf.nn.max_pool(t_layer, ksize=[1,2,2,1], strides=[1,2,2,1], padding='SAME')\n",
        "t_layer = tf.reshape(t_layer, [-1, 5408])\n",
        "#t_layer = tf.nn.max_pool(t_layer, ksize=[1, 2, 2, 1])\n",
        "#t_layer = graph.get_tensor_by_name('max_pooling2d_1/MaxPool:0')\n",
        "#t_layer = tf.reshape(t_layer, [-1, 4608])\n",
        "#t_layer = graph.get_tensor_by_name('activation_3/Relu:0')\n",
        "#t_layer = tf.reshape(t_layer, [-1, 6400])\n",
        "#t_layer = graph.get_tensor_by_name('activation_4/Relu:0')\n",
        "#t_layer = tf.reshape(t_layer, [-1, 4096])\n",
        "#t_layer = graph.get_tensor_by_name('flatten_1/Reshape:0')\n",
        "#t_layer = graph.get_tensor_by_name('activation_5/Relu:0')\n",
        "#t_layer = graph.get_tensor_by_name('activation_6/Relu:0')\n"
      ],
      "execution_count": 0,
      "outputs": []
    },
    {
      "cell_type": "code",
      "metadata": {
        "id": "UC1iIdfFMdkp",
        "colab_type": "code",
        "colab": {}
      },
      "source": [
        "def get_prediction(images, tensor=None, batch_size=100):\n",
        "  images = np.reshape(images, [len(images), 28, 28, 1])\n",
        "  if tensor is None:\n",
        "    return eml_carlini_mnist_model.predict(images, batch_size=100)\n",
        "  def get_prediction_batch(batch):\n",
        "    feed = {t_image: np.array(batch)}\n",
        "    return sess.run(tensor, feed_dict=feed)\n",
        "  n = len(images)\n",
        "  if n%batch_size == 0:\n",
        "    batches = [images[i*batch_size:(i+1)*batch_size] for i in range(int(n/batch_size))]\n",
        "  else:\n",
        "    batches = [images[i*batch_size:(i+1)*batch_size] for i in range(int(n/batch_size) +1)]    \n",
        "  batch_predictions = [get_prediction_batch(b) for b in tqdm(batches)]\n",
        "  return np.concatenate(tuple(batch_predictions), axis=0)\n",
        "\n",
        "def get_prediction2(t_inp, inps, t_out, batch_size=100):\n",
        "  def get_prediction_batch(batch):\n",
        "    feed = {t_inp: np.array(batch)}\n",
        "    return sess.run(t_out, feed_dict=feed)\n",
        "  n = len(inps)\n",
        "  if n%batch_size == 0:\n",
        "    batches = [inps[i*batch_size:(i+1)*batch_size] for i in range(int(n/batch_size))]\n",
        "  else:\n",
        "    batches = [inps[i*batch_size:(i+1)*batch_size] for i in range(int(n/batch_size) +1)]    \n",
        "  batch_predictions = [get_prediction_batch(b) for b in batches]\n",
        "  return np.concatenate(tuple(batch_predictions), axis=0)"
      ],
      "execution_count": 0,
      "outputs": []
    },
    {
      "cell_type": "code",
      "metadata": {
        "id": "iSKLHA_ivi7Z",
        "colab_type": "code",
        "outputId": "c761462e-4cff-48ad-f0db-dea5e88cb921",
        "colab": {
          "base_uri": "https://localhost:8080/",
          "height": 35
        }
      },
      "source": [
        "# Evaluate model accuracy\n",
        "test_predictions = get_prediction(mnist.test.images)\n",
        "test_predictions = np.argmax(test_predictions, axis=1)\n",
        "print \"Test accuracy\", 1.0*np.sum(test_predictions == mnist.test.labels)/len(mnist.test.images)"
      ],
      "execution_count": 0,
      "outputs": [
        {
          "output_type": "stream",
          "text": [
            "Test accuracy 0.9943\n"
          ],
          "name": "stdout"
        }
      ]
    },
    {
      "cell_type": "code",
      "metadata": {
        "id": "X0sZzQ1T8sES",
        "colab_type": "code",
        "outputId": "ac7a7f59-46ba-4080-debd-fb66552bf74b",
        "colab": {
          "base_uri": "https://localhost:8080/",
          "height": 52
        }
      },
      "source": [
        "train_predictions_all = get_prediction(mnist.train.images)\n",
        "train_predictions = np.argmax(train_predictions_all, axis=1)\n",
        "print \"Predictions computed for all training data\"\n",
        "\n",
        "test_predictions_all = get_prediction(mnist.test.images)\n",
        "test_predictions = np.argmax(test_predictions_all, axis=1)\n",
        "print \"Predictions computed for all test data\""
      ],
      "execution_count": 0,
      "outputs": [
        {
          "output_type": "stream",
          "text": [
            "Predictions computed for all training data\n",
            "Predictions computed for all test data\n"
          ],
          "name": "stdout"
        }
      ]
    },
    {
      "cell_type": "markdown",
      "metadata": {
        "id": "d98vYNy_TWi1",
        "colab_type": "text"
      },
      "source": [
        "## Training an MNIST network (2 conv layers + 1 fully connected)"
      ]
    },
    {
      "cell_type": "code",
      "metadata": {
        "id": "ns8_eYDFReWq",
        "colab_type": "code",
        "colab": {}
      },
      "source": [
        "BATCH_SIZE = 50\n",
        "TEST_BATCH_SIZE = 1000  \n",
        "IMAGE_SIZE = 28\n",
        "NUM_CLASSES = 10"
      ],
      "execution_count": 0,
      "outputs": []
    },
    {
      "cell_type": "code",
      "metadata": {
        "id": "y3Zs1CzKSqjM",
        "colab_type": "code",
        "colab": {}
      },
      "source": [
        "mnist = input_data.read_data_sets('MNIST_data')"
      ],
      "execution_count": 0,
      "outputs": []
    },
    {
      "cell_type": "code",
      "metadata": {
        "id": "39JpLmTitqdj",
        "colab_type": "code",
        "colab": {}
      },
      "source": [
        "def weight_variable(shape, name):\n",
        "  initial = tf.truncated_normal(shape, stddev=0.1)\n",
        "  return tf.Variable(initial, name=name)\n",
        "\n",
        "def bias_variable(shape, name):\n",
        "  initial = tf.constant(0.1, shape=shape)\n",
        "  return tf.Variable(initial, name=name)\n",
        "\n",
        "def conv2d(x, W):\n",
        "  return tf.nn.conv2d(x, W, strides=[1, 1, 1, 1], padding='SAME')\n",
        "\n",
        "def max_pool_2x2(x):\n",
        "  return tf.nn.max_pool(x, ksize=[1, 2, 2, 1],\n",
        "                        strides=[1, 2, 2, 1], padding='SAME')\n",
        "\n",
        "def create_model(fc1_dims=1024):\n",
        "  x = tf.placeholder(tf.float32, shape=[None, 784], name='input')\n",
        "  y_ = tf.placeholder(tf.float32, shape=[None, 10])\n",
        "\n",
        "  W_conv1 = weight_variable([5, 5, 1, 32], 'w_conv1')\n",
        "  b_conv1 = bias_variable([32], 'b_conv1')\n",
        "\n",
        "  x_image = tf.reshape(x, [-1,28,28,1])\n",
        "  h_conv1 = tf.nn.relu(conv2d(x_image, W_conv1) + b_conv1)\n",
        "  h_pool1 = max_pool_2x2(h_conv1)\n",
        "  h_pool1 = tf.identity(h_pool1, name=\"conv1\")\n",
        "\n",
        "  W_conv2 = weight_variable([5, 5, 32, 64], 'w_conv2')\n",
        "  b_conv2 = bias_variable([64], 'b_conv2')\n",
        "\n",
        "  h_conv2 = tf.nn.relu(conv2d(h_pool1, W_conv2) + b_conv2)\n",
        "  h_pool2 = max_pool_2x2(h_conv2)\n",
        "  h_pool2 = tf.identity(h_pool2, name=\"conv2\")\n",
        "\n",
        "  W_fc1 = weight_variable([7 * 7 * 64, fc1_dims], 'w_fc1')\n",
        "  b_fc1 = bias_variable([fc1_dims], 'b_fc1')\n",
        "\n",
        "  h_pool2_flat = tf.reshape(h_pool2, [-1, 7*7*64])\n",
        "  h_fc1 = tf.nn.relu(tf.matmul(h_pool2_flat, W_fc1) + b_fc1, name='fc1')\n",
        "\n",
        "  keep_prob = tf.placeholder(tf.float32, name='keep_prob')\n",
        "  h_fc1_drop = tf.nn.dropout(h_fc1, keep_prob)\n",
        "\n",
        "  W_fc2 = weight_variable([fc1_dims, 10], 'w_fc2')\n",
        "  b_fc2 = bias_variable([10], 'b_fc2')\n",
        "\n",
        "  y_conv = tf.add(tf.matmul(h_fc1_drop, W_fc2), b_fc2, name='prediction')\n",
        "\n",
        "  cross_entropy = tf.reduce_mean(\n",
        "      tf.nn.softmax_cross_entropy_with_logits_v2(labels=y_, logits=y_conv))\n",
        "\n",
        "  correct_prediction = tf.equal(tf.argmax(y_conv,1), tf.argmax(y_,1))\n",
        "  accuracy = tf.reduce_mean(tf.cast(correct_prediction, tf.float32))\n",
        "  return cross_entropy, accuracy, x, keep_prob, y_conv, y_\n",
        "\n",
        "\n",
        "def create_ff_model(fc1_dims=800, fc2_dims=800, fc3_dims=800):\n",
        "  x = tf.placeholder(tf.float32, shape=[None, 784], name='input')\n",
        "  y_ = tf.placeholder(tf.float32, shape=[None, 10])\n",
        "  keep_prob = tf.placeholder(tf.float32, name='keep_prob')\n",
        "\n",
        "  W_fc1 = weight_variable([784, fc1_dims], 'w_fc1')\n",
        "  b_fc1 = bias_variable([fc1_dims], 'b_fc1')\n",
        "  h_fc1 = tf.nn.relu(tf.matmul(x, W_fc1) + b_fc1, name='fc1')\n",
        "  h_fc1_drop = tf.nn.dropout(h_fc1, keep_prob)\n",
        "\n",
        "  W_fc2 = weight_variable([fc1_dims, fc2_dims], 'w_fc2')\n",
        "  b_fc2 = bias_variable([fc2_dims], 'b_fc2')\n",
        "  h_fc2 = tf.nn.relu(tf.matmul(h_fc1_drop, W_fc2) + b_fc2, name='fc2')\n",
        "  h_fc2_drop = tf.nn.dropout(h_fc2, keep_prob)\n",
        "\n",
        "  W_fc3 = weight_variable([fc2_dims, fc3_dims], 'w_fc3')\n",
        "  b_fc3 = bias_variable([fc3_dims], 'b_fc3')\n",
        "  h_fc3 = tf.nn.relu(tf.matmul(h_fc2_drop, W_fc3) + b_fc3, name='fc3')\n",
        "  h_fc3_drop = tf.nn.dropout(h_fc3, keep_prob)\n",
        "\n",
        "  W_fc4 = weight_variable([fc3_dims, 10], 'w_fc4')\n",
        "  b_fc4 = bias_variable([10], 'b_fc4')\n",
        "  y_conv = tf.add(tf.matmul(h_fc3_drop, W_fc4), b_fc4, name='prediction')\n",
        "\n",
        "  cross_entropy = tf.reduce_mean(\n",
        "      tf.nn.softmax_cross_entropy_with_logits_v2(labels=y_, logits=y_conv))\n",
        "\n",
        "  correct_prediction = tf.equal(tf.argmax(y_conv,1), tf.argmax(y_,1))\n",
        "  accuracy = tf.reduce_mean(tf.cast(correct_prediction, tf.float32))\n",
        "  return cross_entropy, accuracy, x, keep_prob, y_conv, y_"
      ],
      "execution_count": 0,
      "outputs": []
    },
    {
      "cell_type": "markdown",
      "metadata": {
        "id": "Jv3U6Xs_T2el",
        "colab_type": "text"
      },
      "source": [
        "### Train a new model"
      ]
    },
    {
      "cell_type": "code",
      "metadata": {
        "id": "Z-2x6UTcuJUK",
        "colab_type": "code",
        "colab": {}
      },
      "source": [
        "tf.reset_default_graph()\n",
        "sess = tf.InteractiveSession()\n",
        "cross_entropy, accuracy, x, keep_prob, y_conv, y_ = create_ff_model(fc1_dims=800, fc2_dims=800, fc3_dims=800)\n",
        "train_step = tf.train.AdamOptimizer(1e-4).minimize(cross_entropy)\n",
        "saver = tf.train.Saver(write_version=tf.train.SaverDef.V2)\n",
        "sess.run(tf.global_variables_initializer())\n",
        "for i in range(0, 1200):\n",
        "  batch = mnist.train.next_batch(BATCH_SIZE)\n",
        "  train_step.run(feed_dict={x: batch[0], y_: np.eye(10)[batch[1]], keep_prob: 1.0})  # CHANGED DROPOUT\n",
        "  if i%100 == 0:\n",
        "    test_accuracy = accuracy.eval(feed_dict={\n",
        "        x:mnist.test.images, y_: np.eye(10)[mnist.test.labels], keep_prob: 1.0})\n",
        "    print(\"step %d, test accuracy %g\"%(i, test_accuracy))    \n",
        "ckpt_path_name = saver.save(sess, './checkpoints/mnist_invariant.ckpt', global_step=i)\n",
        "print \"Checkpoint saved at: %s\" % ckpt_path_name"
      ],
      "execution_count": 0,
      "outputs": []
    },
    {
      "cell_type": "code",
      "metadata": {
        "id": "ylVCQ9lfTfWF",
        "colab_type": "code",
        "colab": {}
      },
      "source": [
        "from google.colab import files\n",
        "files.download(ckpt_path_name + '.data-00000-of-00001')\n",
        "files.download(ckpt_path_name + '.index')\n",
        "files.download(ckpt_path_name + '.meta')"
      ],
      "execution_count": 0,
      "outputs": []
    },
    {
      "cell_type": "markdown",
      "metadata": {
        "id": "uy6_gvmpT4Wv",
        "colab_type": "text"
      },
      "source": [
        "### Restore a pretrained model"
      ]
    },
    {
      "cell_type": "code",
      "metadata": {
        "id": "BMibD_lwWdVG",
        "colab_type": "code",
        "outputId": "6efd3935-be1a-4fcd-e658-2f1550350f11",
        "colab": {
          "base_uri": "https://localhost:8080/",
          "height": 887
        }
      },
      "source": [
        "!mkdir -p ./checkpoints\n",
        "!wget https://github.com/hayesconverse/sym_convnn/raw/master/MNIST_ITR_REL/MNIST_conv_checkpoint/mnist_invariants.ckpt.index -O ./checkpoints/mnist_invariants.ckpt.index\n",
        "!wget https://github.com/hayesconverse/sym_convnn/raw/master/MNIST_ITR_REL/MNIST_conv_checkpoint/mnist_invariants.ckpt.meta -O ./checkpoints/mnist_invariants.ckpt.meta\n",
        "!wget https://github.com/hayesconverse/sym_convnn/raw/master/MNIST_ITR_REL/MNIST_conv_checkpoint/mnist_invariants.ckpt.data-00000-of-00001 -O ./checkpoints/mnist_invariants.ckpt.data-00000-of-00001"
      ],
      "execution_count": 0,
      "outputs": [
        {
          "output_type": "stream",
          "text": [
            "--2018-12-04 20:53:13--  https://github.com/hayesconverse/sym_convnn/raw/master/MNIST_ITR_REL/MNIST_conv_checkpoint/mnist_invariants.ckpt.index\n",
            "Resolving github.com (github.com)... 192.30.253.113, 192.30.253.112\n",
            "Connecting to github.com (github.com)|192.30.253.113|:443... connected.\n",
            "HTTP request sent, awaiting response... 302 Found\n",
            "Location: https://raw.githubusercontent.com/hayesconverse/sym_convnn/master/MNIST_ITR_REL/MNIST_conv_checkpoint/mnist_invariants.ckpt.index [following]\n",
            "--2018-12-04 20:53:13--  https://raw.githubusercontent.com/hayesconverse/sym_convnn/master/MNIST_ITR_REL/MNIST_conv_checkpoint/mnist_invariants.ckpt.index\n",
            "Resolving raw.githubusercontent.com (raw.githubusercontent.com)... 151.101.0.133, 151.101.64.133, 151.101.128.133, ...\n",
            "Connecting to raw.githubusercontent.com (raw.githubusercontent.com)|151.101.0.133|:443... connected.\n",
            "HTTP request sent, awaiting response... 200 OK\n",
            "Length: 903 [application/octet-stream]\n",
            "Saving to: ‘./checkpoints/mnist_invariants.ckpt.index’\n",
            "\n",
            "\r          ./checkpo   0%[                    ]       0  --.-KB/s               \r./checkpoints/mnist 100%[===================>]     903  --.-KB/s    in 0s      \n",
            "\n",
            "2018-12-04 20:53:13 (77.2 MB/s) - ‘./checkpoints/mnist_invariants.ckpt.index’ saved [903/903]\n",
            "\n",
            "--2018-12-04 20:53:14--  https://github.com/hayesconverse/sym_convnn/raw/master/MNIST_ITR_REL/MNIST_conv_checkpoint/mnist_invariants.ckpt.meta\n",
            "Resolving github.com (github.com)... 192.30.253.113, 192.30.253.112\n",
            "Connecting to github.com (github.com)|192.30.253.113|:443... connected.\n",
            "HTTP request sent, awaiting response... 302 Found\n",
            "Location: https://raw.githubusercontent.com/hayesconverse/sym_convnn/master/MNIST_ITR_REL/MNIST_conv_checkpoint/mnist_invariants.ckpt.meta [following]\n",
            "--2018-12-04 20:53:15--  https://raw.githubusercontent.com/hayesconverse/sym_convnn/master/MNIST_ITR_REL/MNIST_conv_checkpoint/mnist_invariants.ckpt.meta\n",
            "Resolving raw.githubusercontent.com (raw.githubusercontent.com)... 151.101.0.133, 151.101.64.133, 151.101.128.133, ...\n",
            "Connecting to raw.githubusercontent.com (raw.githubusercontent.com)|151.101.0.133|:443... connected.\n",
            "HTTP request sent, awaiting response... 200 OK\n",
            "Length: 71942 (70K) [application/octet-stream]\n",
            "Saving to: ‘./checkpoints/mnist_invariants.ckpt.meta’\n",
            "\n",
            "./checkpoints/mnist 100%[===================>]  70.26K  --.-KB/s    in 0.02s   \n",
            "\n",
            "2018-12-04 20:53:15 (2.77 MB/s) - ‘./checkpoints/mnist_invariants.ckpt.meta’ saved [71942/71942]\n",
            "\n",
            "--2018-12-04 20:53:17--  https://github.com/hayesconverse/sym_convnn/raw/master/MNIST_ITR_REL/MNIST_conv_checkpoint/mnist_invariants.ckpt.data-00000-of-00001\n",
            "Resolving github.com (github.com)... 192.30.253.113, 192.30.253.112\n",
            "Connecting to github.com (github.com)|192.30.253.113|:443... connected.\n",
            "HTTP request sent, awaiting response... 302 Found\n",
            "Location: https://raw.githubusercontent.com/hayesconverse/sym_convnn/master/MNIST_ITR_REL/MNIST_conv_checkpoint/mnist_invariants.ckpt.data-00000-of-00001 [following]\n",
            "--2018-12-04 20:53:17--  https://raw.githubusercontent.com/hayesconverse/sym_convnn/master/MNIST_ITR_REL/MNIST_conv_checkpoint/mnist_invariants.ckpt.data-00000-of-00001\n",
            "Resolving raw.githubusercontent.com (raw.githubusercontent.com)... 151.101.0.133, 151.101.64.133, 151.101.128.133, ...\n",
            "Connecting to raw.githubusercontent.com (raw.githubusercontent.com)|151.101.0.133|:443... connected.\n",
            "HTTP request sent, awaiting response... 200 OK\n",
            "Length: 39295616 (37M) [application/octet-stream]\n",
            "Saving to: ‘./checkpoints/mnist_invariants.ckpt.data-00000-of-00001’\n",
            "\n",
            "./checkpoints/mnist 100%[===================>]  37.47M  36.8MB/s    in 1.0s    \n",
            "\n",
            "2018-12-04 20:53:18 (36.8 MB/s) - ‘./checkpoints/mnist_invariants.ckpt.data-00000-of-00001’ saved [39295616/39295616]\n",
            "\n"
          ],
          "name": "stdout"
        }
      ]
    },
    {
      "cell_type": "code",
      "metadata": {
        "id": "7JmFzaPPT6ql",
        "colab_type": "code",
        "outputId": "e3000aa2-2fd6-4c39-c85e-ba27dc2085cd",
        "colab": {
          "base_uri": "https://localhost:8080/",
          "height": 52
        }
      },
      "source": [
        "tf.reset_default_graph()\n",
        "sess = tf.InteractiveSession()\n",
        "cross_entropy, accuracy, x, keep_prob, y_conv, y_ = create_model()\n",
        "saver = tf.train.Saver(write_version=tf.train.SaverDef.V2)\n",
        "saver.restore(sess, './checkpoints/mnist_invariants.ckpt')\n",
        "\n",
        "test_accuracy = accuracy.eval(feed_dict={\n",
        "    x:mnist.test.images, y_: np.eye(10)[mnist.test.labels], keep_prob: 1.0})\n",
        "print(\"Test accuracy %g\"%(test_accuracy))    \n",
        "\n"
      ],
      "execution_count": 0,
      "outputs": [
        {
          "output_type": "stream",
          "text": [
            "INFO:tensorflow:Restoring parameters from ./checkpoints/mnist_invariants.ckpt\n",
            "Test accuracy 0.9668\n"
          ],
          "name": "stdout"
        }
      ]
    },
    {
      "cell_type": "markdown",
      "metadata": {
        "id": "8Nc9oYmUcsBn",
        "colab_type": "text"
      },
      "source": [
        "### Parameters of the network"
      ]
    },
    {
      "cell_type": "code",
      "metadata": {
        "id": "Uf1lzDiXcu0U",
        "colab_type": "code",
        "outputId": "ab3299c7-a5a5-462c-eab8-3b36f22f6913",
        "colab": {
          "base_uri": "https://localhost:8080/",
          "height": 88
        }
      },
      "source": [
        "w_fc1 = sess.run(sess.graph.get_tensor_by_name('w_fc1:0'))\n",
        "b_fc1 = sess.run(sess.graph.get_tensor_by_name('b_fc1:0'))\n",
        "print \"FC1, weight and bias shape\", w_fc1.shape, b_fc1.shape\n",
        "\n",
        "w_fc2 = sess.run(sess.graph.get_tensor_by_name('w_fc2:0'))\n",
        "b_fc2 = sess.run(sess.graph.get_tensor_by_name('b_fc2:0'))\n",
        "print \"FC2, weight and bias shape\", w_fc2.shape, b_fc2.shape\n",
        "\n",
        "w_conv1 = sess.run(sess.graph.get_tensor_by_name('w_conv1:0'))\n",
        "b_conv1 = sess.run(sess.graph.get_tensor_by_name('b_conv1:0'))\n",
        "print \"Conv1, weight and bias shape\", w_conv1.shape, b_conv1.shape\n",
        "\n",
        "w_conv2 = sess.run(sess.graph.get_tensor_by_name('w_conv2:0'))\n",
        "b_conv2 = sess.run(sess.graph.get_tensor_by_name('b_conv2:0'))\n",
        "print \"Conv2, weight and bias shape\", w_conv2.shape, b_conv2.shape"
      ],
      "execution_count": 0,
      "outputs": [
        {
          "output_type": "stream",
          "text": [
            "FC1, weight and bias shape (3136, 1024) (1024,)\n",
            "FC2, weight and bias shape (1024, 10) (10,)\n",
            "Conv1, weight and bias shape (5, 5, 1, 32) (32,)\n",
            "Conv2, weight and bias shape (5, 5, 32, 64) (64,)\n"
          ],
          "name": "stdout"
        }
      ]
    },
    {
      "cell_type": "markdown",
      "metadata": {
        "id": "yR9bYFN9E9lg",
        "colab_type": "text"
      },
      "source": [
        "## Library for IG Attribution and Conductance"
      ]
    },
    {
      "cell_type": "code",
      "metadata": {
        "id": "L2F_QleSkgvY",
        "colab_type": "code",
        "colab": {}
      },
      "source": [
        "y_conv = t_prediction\n",
        "t_label = tf.placeholder(tf.int32)\n",
        "t_neuron_id = tf.placeholder(tf.int32)\n",
        "t_grad = tf.gradients(y_conv[:, t_label], t_image)\n",
        "#t_fc1 = sess.graph.get_tensor_by_name('fc1:0')\n",
        "t_layer = graph.get_tensor_by_name('flatten_1/Reshape:0')\n",
        "#t_grad_neuron = tf.gradients(y_conv[:, t_label], t_fc1)[0]\n",
        "#t_grad_conductance = tf.gradients(t_fc1[:,t_neuron_id], x, grad_ys=t_grad_neuron[:, t_neuron_id])\n",
        "t_grad_layer = tf.gradients(y_conv[:, t_label], t_layer)[0]\n",
        "t_grad_conductance = tf.gradients(t_layer[:, t_neuron_id], t_image, grad_ys=t_grad_layer[:, t_neuron_id])[0]"
      ],
      "execution_count": 0,
      "outputs": []
    },
    {
      "cell_type": "code",
      "metadata": {
        "id": "TL92gsWskV0-",
        "colab_type": "code",
        "colab": {}
      },
      "source": [
        "import copy\n",
        "\n",
        "def attribute(inp, label, baseline=None, steps=50, use_top_label=False):\n",
        "  def top_label(inp):\n",
        "    return np.argmax(get_prediction([inp])[0])\n",
        "  if baseline is None:\n",
        "    baseline = 0*inp\n",
        "  scaled_inputs = [baseline + (float(i)/steps)*(inp-baseline) for i in range(0, steps)]\n",
        "  feed = {keep_prob:1.0}\n",
        "  if use_top_label:\n",
        "    feed[x] = [inp]\n",
        "    logits = sess.run(y_conv, feed_dict=feed)[0]\n",
        "    label = np.argmax(logits)\n",
        "  feed[x] = scaled_inputs\n",
        "  feed[t_label] = label\n",
        "  grads, scores = sess.run([t_grad, y_conv], feed_dict=feed)  # shapes: <steps+1>, <steps+1, inp.shape>\n",
        "  integrated_gradients = (inp-baseline)*np.average(grads[0], axis=0)  # shape: <inp.shape>\n",
        "  print \"FINAL SCORE\", scores[-1][label]\n",
        "  print \"BASELINE SCORE\", scores[0][label]\n",
        "  print \"SUM\", np.sum(integrated_gradients), \"DIFF\", scores[-1][label] - scores[0][label]\n",
        "  return integrated_gradients\n",
        "\n",
        "def conductance(inp, label, neuron_id=None, baseline=None, steps=50):\n",
        "  # neuron_id is the id of the neuron in layer t_fc1 through which conductance\n",
        "  # must be computed. If None, vanilla IG is computed.\n",
        "  if baseline is None:\n",
        "    baseline = 0*inp\n",
        "  scaled_inputs = [baseline + (float(i)/steps)*(inp-baseline) for i in range(0, steps)]\n",
        "  feed = {keep_prob:1.0}\n",
        "  feed[x] = scaled_inputs\n",
        "  feed[t_label] = label\n",
        "  if neuron_id != None:\n",
        "    feed[t_neuron_id] = neuron_id\n",
        "    grads, scores = sess.run([t_grad_conductance, y_conv], feed_dict=feed)  # shapes: <steps+1>, <steps+1, inp.shape>\n",
        "    integrated_gradients = (inp-baseline)*np.average(grads[0], axis=0)  # shape: <inp.shape>\n",
        "    return integrated_gradients\n",
        "  grads, scores = sess.run([t_grad, y_conv], feed_dict=feed)  # shapes: <steps+1>, <steps+1, inp.shape>    \n",
        "  integrated_gradients = (inp-baseline)*np.average(grads[0], axis=0)  # shape: <inp.shape>\n",
        "  print \"FINAL SCORE\", scores[-1][label]\n",
        "  print \"BASELINE SCORE\", scores[0][label]\n",
        "  print \"SUM\", np.sum(integrated_gradients), \"DIFF\", scores[-1][label] - scores[0][label]\n",
        "  return integrated_gradients\n",
        "\n",
        "\n",
        "def all_conductances(inp, label, baseline=None, steps=20):\n",
        "  # neuron_id is the id of the neuron in layer t_layer through which conductance\n",
        "  # must be computed. If None, vanilla IG is computed.\n",
        "  if baseline is None:\n",
        "    baseline = 0*inp\n",
        "  scaled_inputs = [baseline + (float(i)/steps)*(inp-baseline) for i in range(0, steps)]\n",
        "  feed = {keep_prob:1.0}\n",
        "  feed[x] = scaled_inputs\n",
        "  feed[t_label] = label\n",
        "  grads, layer = sess.run([t_grad_layer,  t_layer], feed_dict=feed)  # shapes: <steps+1, t_layer.shape[1:]>\n",
        "  layer_steps = layer[1:, :] - layer[:-1, :]  # shape: <steps, t_layer.shape[1:]>\n",
        "  conductances = np.sum(grads[:-1]*layer_steps, axis=0)\n",
        "  return conductances\n"
      ],
      "execution_count": 0,
      "outputs": []
    },
    {
      "cell_type": "markdown",
      "metadata": {
        "id": "iG5Fq5GIkP6u",
        "colab_type": "text"
      },
      "source": [
        "## Library for Visualizing Images and Attributions"
      ]
    },
    {
      "cell_type": "code",
      "metadata": {
        "id": "czxZISZYkLaH",
        "colab_type": "code",
        "colab": {}
      },
      "source": [
        "import PIL.Image\n",
        "from IPython.display import clear_output, Image, display, HTML\n",
        "import numpy as np\n",
        "from cStringIO import StringIO"
      ],
      "execution_count": 0,
      "outputs": []
    },
    {
      "cell_type": "code",
      "metadata": {
        "id": "x_o25suPkTL3",
        "colab_type": "code",
        "colab": {}
      },
      "source": [
        "FONT_PATH='/usr/share/fonts/truetype/dejavu/DejaVuSansCondensed.ttf'\n",
        "IMAGE_SIZE = 28\n",
        "\n",
        "def mnist_to_rgb(mnist_img):\n",
        "  \"\"\"\n",
        "  Transformsn an MNIST image (shape: <784>) to a grayscale\n",
        "  RGB image (shape: <28,28,3>)\n",
        "  \"\"\"\n",
        "  pixel_array = mnist_img.reshape(IMAGE_SIZE, IMAGE_SIZE)  # shape: 28,28\n",
        "  rgb_image = np.transpose([pixel_array,pixel_array,pixel_array], axes=[1,2,0])\n",
        "  return rgb_image\n",
        "\n",
        "def pil_img(a):\n",
        "  '''Returns a PIL image created from the provided RGB array.\n",
        "  '''\n",
        "  a = np.uint8(a)\n",
        "  return PIL.Image.fromarray(a)\n",
        "\n",
        "def mnist_to_pil_img(inp):\n",
        "  rgb_inp = 255*mnist_to_rgb(inp)\n",
        "  vis_inp = pil_img(rgb_inp)\n",
        "  return vis_inp  \n",
        "\n",
        "def pil_fig(fig):\n",
        "  # Returns a PIL image obtained from the provided PLT figure.\n",
        "  buf = io.BytesIO()\n",
        "  fig.savefig(buf, format='png')\n",
        "  plt.close(fig)\n",
        "  buf.seek(0)\n",
        "  img = PIL.Image.open(buf)\n",
        "  return img\n",
        "\n",
        "def show_img(img, fmt='jpeg'):\n",
        "  '''Displays the provided PIL image\n",
        "  '''\n",
        "  f = StringIO()\n",
        "  img.save(f, fmt)\n",
        "  display(Image(data=f.getvalue()))\n",
        " \n",
        "def show_mnist_img(mnist_img):\n",
        "  show_img(pil_img(255*mnist_to_rgb(mnist_img)))\n",
        "  \n",
        "def gray_scale(img):\n",
        "  '''Converts the provided RGB image to gray scale.\n",
        "  '''\n",
        "  img = np.average(img, axis=2)\n",
        "  return np.transpose([img, img, img], axes=[1,2,0])\n",
        "\n",
        "def normalize(attrs, ptile=99):\n",
        "  '''Normalize the provided attributions so that they fall between\n",
        "     -1.0 and 1.0.\n",
        "  '''\n",
        "  h = np.percentile(attrs, ptile)\n",
        "  l = np.percentile(attrs, 100-ptile)\n",
        "  return np.clip(attrs/max(abs(h), abs(l)), -1.0, 1.0)    \n",
        "\n",
        "def pil_text(strs, shape, start_h=10, start_w=10, font_size=18, color=(0, 0, 0)):\n",
        "  # Returns a PIL image with the provided text.\n",
        "  img = pil_img(255*np.ones(shape))\n",
        "  draw = PIL.ImageDraw.Draw(img)\n",
        "  font = PIL.ImageFont.truetype(FONT_PATH, font_size)\n",
        "  h = start_h\n",
        "  for s in strs: \n",
        "    draw.text((start_w,h), s, fill=color, font=font)\n",
        "    h = h + 30\n",
        "  return img\n",
        "\n",
        "def combine(imgs, horizontal=True):\n",
        "  # Combines the provided PIL Images horizontally or veritically\n",
        "  if horizontal:\n",
        "    w = np.sum([img.size[0]+10 for img in imgs])\n",
        "    h = np.max([img.size[1] for img in imgs])\n",
        "  else:\n",
        "    w = np.max([img.size[0] for img in imgs])\n",
        "    h = np.sum([img.size[1]+10 for img in imgs])\n",
        "  final_img = PIL.Image.new('RGB', (w, h), color='white')\n",
        "  pos = 0\n",
        "  for img in imgs:\n",
        "    if horizontal:\n",
        "      final_img.paste(im=img, box=(pos,0))\n",
        "      pos = pos+img.size[0]+10\n",
        "    else:\n",
        "      final_img.paste(im=img, box=(0,pos))\n",
        "      pos = pos+img.size[1]+10\n",
        "  return final_img\n",
        "\n",
        "def visualize_attrs(img, attrs, ptile=99):\n",
        "  '''Visaualizes the provided attributions by first aggregating them\n",
        "    along the color channel to obtain per-pixel attributions and then\n",
        "    scaling the intensities of the pixels in the original image in\n",
        "    proportion to absolute value of these attributions.\n",
        "\n",
        "    The provided image and attributions must of shape (224, 224, 3).\n",
        "  '''\n",
        "  if np.sum(attrs) == 0.0:\n",
        "    # print \"Attributions are all ZERO\"\n",
        "    return pil_img(0*img)\n",
        "  attrs = gray_scale(attrs)\n",
        "  attrs = abs(attrs)\n",
        "  attrs = np.clip(attrs/np.percentile(attrs, ptile), 0,1)\n",
        "  vis = img*attrs\n",
        "  return pil_img(vis)\n",
        "  \n",
        "  \n",
        "R=np.array([255,0,0])\n",
        "G=np.array([0,255,0])\n",
        "B=np.array([0,0,255])\n",
        "def visualize_attrs2(img, attrs, pos_ch=G, neg_ch=R, ptile=99):\n",
        "  '''Visaualizes the provided attributions by first aggregating them\n",
        "     along the color channel and then overlaying the positive attributions\n",
        "     along pos_ch, and negative attributions along neg_ch.\n",
        "\n",
        "     The provided image and attributions must of shape (224, 224, 3).\n",
        "  '''\n",
        "  if np.sum(attrs) == 0.0:\n",
        "    # print \"Attributions are all ZERO\"\n",
        "    return pil_img(0*img)\n",
        "  attrs = gray_scale(attrs)\n",
        "  attrs = normalize(attrs, ptile)   \n",
        "  pos_attrs = attrs * (attrs >= 0.0)\n",
        "  neg_attrs = -1.0 * attrs * (attrs < 0.0)\n",
        "  attrs_mask = pos_attrs*pos_ch + neg_attrs*neg_ch\n",
        "  vis = 0.3*gray_scale(img) + 0.7*attrs_mask\n",
        "  return pil_img(vis)"
      ],
      "execution_count": 0,
      "outputs": []
    },
    {
      "cell_type": "markdown",
      "metadata": {
        "id": "7yq9MfHv_LGX",
        "colab_type": "text"
      },
      "source": [
        "## Wiggle Room Analysis"
      ]
    },
    {
      "cell_type": "code",
      "metadata": {
        "id": "-3hFv4iP_NoC",
        "colab_type": "code",
        "colab": {}
      },
      "source": [
        "def get_wiggle_room(inp, pixel_id, n=100, max_rng=1.0, min_rng=0.0):\n",
        "  def first_index_where_prediction_changes(batch):\n",
        "    predictions = get_prediction(batch, tensor=t_fc1)\n",
        "    ref_class = predictions[0]\n",
        "    diff_indices = np.where(predictions != ref_class)[0]\n",
        "    # assume that np.where returns indices in sorted order,\n",
        "    # return the first index where the prediction class differs.\n",
        "    if len(diff_indices) > 0:\n",
        "     return diff_indices[0]\n",
        "    return -1\n",
        "  inp = copy.deepcopy(inp)\n",
        "  hi_batch = [1.0*inp for _ in range(n)]\n",
        "  for i in range(n):\n",
        "    hi_batch[i][pixel_id] = inp[pixel_id] + (max_rng - inp[pixel_id])*float(i)/n\n",
        "  hi = first_index_where_prediction_changes(hi_batch)\n",
        "  print hi\n",
        "  if hi == -1:\n",
        "    hi = 256.0\n",
        "  print hi\n",
        "  hi = hi*(max_rng - inp[pixel_id])/n\n",
        "  lo_batch = [1.0*inp for _ in range(n)]\n",
        "  for i in range(n):\n",
        "    lo_batch[i][pixel_id] = inp[pixel_id] + (min_rng - inp[pixel_id])*float(i)/n\n",
        "  lo = first_index_where_prediction_changes(lo_batch)\n",
        "  print lo\n",
        "  if lo == -1:\n",
        "    lo = 0.0\n",
        "  lo = lo*(inp[pixel_id]-min_rng)/n\n",
        "  return lo, hi, hi-lo"
      ],
      "execution_count": 0,
      "outputs": []
    },
    {
      "cell_type": "code",
      "metadata": {
        "id": "v34OuXR7nz3Z",
        "colab_type": "code",
        "outputId": "7bafcd1f-0e96-4e09-bfa1-63a8455b0d3b",
        "colab": {
          "base_uri": "https://localhost:8080/",
          "height": 87
        }
      },
      "source": [
        "inp = copy.deepcopy(mnist.train.images[0])\n",
        "get_wiggle_room(inp, pixel_id=100, n=100)"
      ],
      "execution_count": 0,
      "outputs": [
        {
          "output_type": "stream",
          "text": [
            "1\n",
            "1\n",
            "-1\n"
          ],
          "name": "stdout"
        },
        {
          "output_type": "execute_result",
          "data": {
            "text/plain": [
              "(0.0, 0.01, 0.01)"
            ]
          },
          "metadata": {
            "tags": []
          },
          "execution_count": 15
        }
      ]
    },
    {
      "cell_type": "code",
      "metadata": {
        "id": "X8YqTGXXGefL",
        "colab_type": "code",
        "colab": {}
      },
      "source": [
        "inp = copy.deepcopy(mnist.train.images[0])\n",
        "attrs = np.zeros(784)\n",
        "for i in range(784):\n",
        "  lo, hi = get_wiggle_room(inp, pixel_id=i, n=20)\n",
        "  print i, lo, hi\n",
        "  attrs[i] = 1.0/(hi - lo)\n",
        "  if i % 50 == 0:\n",
        "    print \"Done with\", i"
      ],
      "execution_count": 0,
      "outputs": []
    },
    {
      "cell_type": "markdown",
      "metadata": {
        "id": "i_uhUyYiBlL7",
        "colab_type": "text"
      },
      "source": [
        "## Extracting Invariant Candidates"
      ]
    },
    {
      "cell_type": "code",
      "metadata": {
        "id": "RPvUSoGyFkdt",
        "colab_type": "code",
        "colab": {}
      },
      "source": [
        "#t_fc1 = sess.graph.get_tensor_by_name('fc1:0')\n",
        "#t_fc2 = sess.graph.get_tensor_by_name('fc2:0')\n",
        "#t_fc3 = sess.graph.get_tensor_by_name('fc3:0')\n",
        "# t_layer = graph.get_tensor_by_name('flatten_1/Reshape:0')\n",
        "\n",
        "# t_layer is defined right where the Keras model is defined\n",
        "def fingerprint_suffix(images):\n",
        "  print \"Getting fingerprint for\", t_layer.name\n",
        "  # Below T_LAYER is the final fully connected layer of size 1024.\n",
        "  return (get_prediction(images, tensor=t_layer)>0.0).astype('int')"
      ],
      "execution_count": 0,
      "outputs": []
    },
    {
      "cell_type": "code",
      "metadata": {
        "id": "m1HK_LFED1HG",
        "colab_type": "code",
        "outputId": "265375d6-5dae-4da8-cb96-8ae931f7fab5",
        "colab": {
          "base_uri": "https://localhost:8080/",
          "height": 70
        }
      },
      "source": [
        "# train_suffixes, train_predictions are in the same order\n",
        "# as mnist.train.images. Henceforth when we use the index i we will\n",
        "# be referring to mnist.train.images[i].\n",
        "train_suffixes = fingerprint_suffix(mnist.train.images)\n",
        "print \"Suffixes computed for all training data\""
      ],
      "execution_count": 0,
      "outputs": [
        {
          "output_type": "stream",
          "text": [
            "  1%|          | 6/550 [00:00<00:09, 54.49it/s]"
          ],
          "name": "stderr"
        },
        {
          "output_type": "stream",
          "text": [
            "Getting fingerprint for Reshape_7:0\n"
          ],
          "name": "stdout"
        },
        {
          "output_type": "stream",
          "text": [
            "100%|██████████| 550/550 [00:08<00:00, 65.12it/s]\n"
          ],
          "name": "stderr"
        },
        {
          "output_type": "stream",
          "text": [
            "Suffixes computed for all training data\n"
          ],
          "name": "stdout"
        }
      ]
    },
    {
      "cell_type": "code",
      "metadata": {
        "id": "3QarR8VNHZNk",
        "colab_type": "code",
        "outputId": "eb97aeb2-58d7-4219-c4d7-796dcb505b5e",
        "colab": {
          "base_uri": "https://localhost:8080/",
          "height": 35
        }
      },
      "source": [
        "train_predictions_all = get_prediction(mnist.train.images)\n",
        "train_predictions = np.argmax(train_predictions_all, axis=1)\n",
        "print \"Predictions computed for all training data\""
      ],
      "execution_count": 0,
      "outputs": [
        {
          "output_type": "stream",
          "text": [
            "Predictions computed for all training data\n"
          ],
          "name": "stdout"
        }
      ]
    },
    {
      "cell_type": "code",
      "metadata": {
        "id": "slN931B53r_t",
        "colab_type": "code",
        "outputId": "77b1580e-9d6b-4406-e9cb-6a11b2e0da83",
        "colab": {
          "base_uri": "https://localhost:8080/",
          "height": 70
        }
      },
      "source": [
        "# test_suffixes, test_predictions are in the same order\n",
        "# as mnist.train.images. Henceforth when we use the index i we will\n",
        "# be referring to mnist.train.images[i].\n",
        "test_suffixes = fingerprint_suffix(mnist.test.images)\n",
        "print \"Suffixes computed for all test data\""
      ],
      "execution_count": 0,
      "outputs": [
        {
          "output_type": "stream",
          "text": [
            "  6%|▌         | 6/100 [00:00<00:01, 52.52it/s]"
          ],
          "name": "stderr"
        },
        {
          "output_type": "stream",
          "text": [
            "Getting fingerprint for Reshape:0\n"
          ],
          "name": "stdout"
        },
        {
          "output_type": "stream",
          "text": [
            "100%|██████████| 100/100 [00:01<00:00, 54.55it/s]\n"
          ],
          "name": "stderr"
        },
        {
          "output_type": "stream",
          "text": [
            "Suffixes computed for all test data\n"
          ],
          "name": "stdout"
        }
      ]
    },
    {
      "cell_type": "code",
      "metadata": {
        "id": "ufzmRjavD4-S",
        "colab_type": "code",
        "outputId": "30028814-dd25-498f-bc41-be48940b4e45",
        "colab": {
          "base_uri": "https://localhost:8080/",
          "height": 35
        }
      },
      "source": [
        "test_predictions_all = get_prediction(mnist.test.images)\n",
        "test_predictions = np.argmax(test_predictions_all, axis=1)\n",
        "print \"Predictions computed for all test data\""
      ],
      "execution_count": 0,
      "outputs": [
        {
          "output_type": "stream",
          "text": [
            "Predictions computed for all test data\n"
          ],
          "name": "stdout"
        }
      ]
    },
    {
      "cell_type": "code",
      "metadata": {
        "id": "xxgnKvn04Q92",
        "colab_type": "code",
        "colab": {}
      },
      "source": [
        "def describe_input(i, training=True):\n",
        "  print \"Input\", i\n",
        "  print \"Groundtruth\", mnist.train.labels[i]\n",
        "  print \"Prediction\", train_predictions[i]\n",
        "  print \"Fine-grained prediction\", 10*mnist.train.labels[i] + train_predictions[i]\n",
        "  show_mnist_img(mnist.train.images[i])"
      ],
      "execution_count": 0,
      "outputs": []
    },
    {
      "cell_type": "markdown",
      "metadata": {
        "id": "98otjoAVvMd6",
        "colab_type": "text"
      },
      "source": [
        "### Compute neuron importance"
      ]
    },
    {
      "cell_type": "code",
      "metadata": {
        "id": "SEe2o9PuvO7-",
        "colab_type": "code",
        "colab": {}
      },
      "source": [
        "# Compute all conductances at t_layer for all inputs in the training set.\n",
        "# SLOW; consider running the cell below.\n",
        "train_all_conductances = [None for _ in mnist.train.images]\n",
        "for i,inp in tqdm(enumerate(mnist.train.images)):\n",
        "  train_all_conductances[i] = all_conductances(inp, train_predictions[i])\n",
        "train_all_conductances = np.array(train_all_conductances)"
      ],
      "execution_count": 0,
      "outputs": []
    },
    {
      "cell_type": "code",
      "metadata": {
        "id": "Mv57xUO60Zx4",
        "colab_type": "code",
        "outputId": "fc38e0f3-8a76-4704-d6e7-dfb74f4038ae",
        "colab": {
          "base_uri": "https://localhost:8080/",
          "height": 34
        }
      },
      "source": [
        "# The prediction is a linear function of the layer t_fc1. Consequently the importance\n",
        "# of each neuron in t_layer can be computed using the coefficients of this linear function, i.e., w_fc2.\n",
        "# The importance of neuron i is the difference between max(w_fc2[i, :]) and min(w_fc2[i, :])\n",
        "layer_imp = np.max(w_fc2, axis=1) - np.min(w_fc2, axis=1)\n",
        "layer_imp.shape"
      ],
      "execution_count": 0,
      "outputs": [
        {
          "output_type": "execute_result",
          "data": {
            "text/plain": [
              "(1024,)"
            ]
          },
          "metadata": {
            "tags": []
          },
          "execution_count": 35
        }
      ]
    },
    {
      "cell_type": "code",
      "metadata": {
        "id": "EPjO6X2f2Tw8",
        "colab_type": "code",
        "outputId": "4a895e9f-c06b-4ec3-b33c-9f03348ed74a",
        "colab": {
          "base_uri": "https://localhost:8080/",
          "height": 365
        }
      },
      "source": [
        "plt.plot(np.sort(layer_imp))"
      ],
      "execution_count": 0,
      "outputs": [
        {
          "output_type": "execute_result",
          "data": {
            "text/plain": [
              "[<matplotlib.lines.Line2D at 0x7fb8b54fecd0>]"
            ]
          },
          "metadata": {
            "tags": []
          },
          "execution_count": 38
        },
        {
          "output_type": "display_data",
          "data": {
            "image/png": "[encoded data removed]",
            "text/plain": [
              "<matplotlib.figure.Figure at 0x7fb8b77b8350>"
            ]
          },
          "metadata": {
            "tags": []
          }
        }
      ]
    },
    {
      "cell_type": "markdown",
      "metadata": {
        "id": "1fcVM2dek4Qo",
        "colab_type": "text"
      },
      "source": [
        "## Build the Decision Tree"
      ]
    },
    {
      "cell_type": "code",
      "metadata": {
        "id": "c_0fvX3aAWHN",
        "colab_type": "code",
        "outputId": "5f2d5362-b75e-4b53-aba9-08828027af62",
        "colab": {
          "base_uri": "https://localhost:8080/",
          "height": 70
        }
      },
      "source": [
        "# Basic decision tree\n",
        "basic_estimator = tree.DecisionTreeClassifier()\n",
        "basic_estimator.fit(train_suffixes, train_predictions)\n",
        "print \"Basic Estimator trained\"\n",
        "basic_estimator_acc = (basic_estimator.predict(test_suffixes) == mnist.test.labels)\n",
        "basic_estimator_agreement = (basic_estimator.predict(test_suffixes) == test_predictions)\n",
        "print \"Estimator accuracy\", 1.0*np.sum(basic_estimator_acc)/len(test_suffixes)\n",
        "print \"Estimator agreement\", 1.0*np.sum(basic_estimator_agreement)/len(test_suffixes)"
      ],
      "execution_count": 0,
      "outputs": [
        {
          "output_type": "stream",
          "text": [
            "Basic Estimator trained\n",
            "Estimator accuracy 0.8986\n",
            "Estimator agreement 0.899\n"
          ],
          "name": "stdout"
        }
      ]
    },
    {
      "cell_type": "code",
      "metadata": {
        "id": "rkvj66ZvX3B9",
        "colab_type": "code",
        "outputId": "74876162-4357-4a48-cef5-b47869469d2a",
        "colab": {
          "base_uri": "https://localhost:8080/",
          "height": 35
        }
      },
      "source": [
        "# Fine-grained predictions decision tree\n",
        "fine_grained_predictions = 10*mnist.train.labels + train_predictions\n",
        "fine_grained_estimator = tree.DecisionTreeClassifier()\n",
        "fine_grained_estimator.fit(train_suffixes, fine_grained_predictions)\n",
        "print \"Fine-grained Estimator trained\""
      ],
      "execution_count": 0,
      "outputs": [
        {
          "output_type": "stream",
          "text": [
            "Fine-grained Estimator trained\n"
          ],
          "name": "stdout"
        }
      ]
    },
    {
      "cell_type": "code",
      "metadata": {
        "id": "FfwDuDQtprdh",
        "colab_type": "code",
        "colab": {}
      },
      "source": [
        "# Decision tree per label\n",
        "def get_relative_predictions(label):\n",
        "  print \"Create relative predictions for label:%d\" % label\n",
        "  res = np.zeros(train_predictions.shape)\n",
        "  for i in range(len(train_predictions)):\n",
        "    pred = train_predictions[i]\n",
        "    gt = mnist.train.labels[i]\n",
        "    if gt == label and pred == gt:\n",
        "      res[i] = 0\n",
        "    elif gt == label and pred != gt:\n",
        "      res[i] = 1\n",
        "    else:\n",
        "      res[i] = 2\n",
        "  print \"Num correct: %d\" % np.sum(res == 0)\n",
        "  print \"Num misclassified: %d\" % np.sum(res == 1)\n",
        "  print \"Num others: %d\" % np.sum(res == 2)\n",
        "  return res\n",
        "\n",
        "def get_relative_estimator(label):\n",
        "  predictions = get_relative_predictions(label)\n",
        "  print \"Creating decision tree for label:%d\" % label\n",
        "  estimator = tree.DecisionTreeClassifier()\n",
        "  estimator.fit(train_suffixes, predictions)\n",
        "  return estimator"
      ],
      "execution_count": 0,
      "outputs": []
    },
    {
      "cell_type": "code",
      "metadata": {
        "id": "dHJlFvwXzXgF",
        "colab_type": "code",
        "colab": {}
      },
      "source": [
        "# SLOW; run only if you want to build relative estimators.\n",
        "relative_estimators = [None for _ in range(10)]\n",
        "for i in range(10):\n",
        "  relative_estimators[i] = get_relative_estimator(i)"
      ],
      "execution_count": 0,
      "outputs": []
    },
    {
      "cell_type": "markdown",
      "metadata": {
        "id": "ObcVHyvNfV_W",
        "colab_type": "text"
      },
      "source": [
        "## Results for Paper (CAV 2019)"
      ]
    },
    {
      "cell_type": "code",
      "metadata": {
        "id": "8Q6Sl2xVcAcx",
        "colab_type": "code",
        "colab": {}
      },
      "source": [
        "# Run Restore Keras Model and Jump to this place"
      ],
      "execution_count": 0,
      "outputs": []
    },
    {
      "cell_type": "code",
      "metadata": {
        "id": "OxOhzu5XU5MP",
        "colab_type": "code",
        "outputId": "a7463da3-b6d3-4676-9a3f-3847ca794103",
        "colab": {
          "base_uri": "https://localhost:8080/",
          "height": 70
        }
      },
      "source": [
        "train_predictions_all = get_prediction(mnist.train.images)\n",
        "train_predictions = np.argmax(train_predictions_all, axis=1)\n",
        "print \"Predictions computed for all training data\"\n",
        "\n",
        "test_predictions_all = get_prediction(mnist.test.images)\n",
        "test_predictions = np.argmax(test_predictions_all, axis=1)\n",
        "print \"Predictions computed for all test data\"\n",
        "\n",
        "validation_predictions_all = get_prediction(mnist.validation.images)\n",
        "validation_predictions = np.argmax(validation_predictions_all, axis=1)\n",
        "print \"Predictions computed for all validation data\"\n"
      ],
      "execution_count": 0,
      "outputs": [
        {
          "output_type": "stream",
          "text": [
            "Predictions computed for all training data\n",
            "Predictions computed for all test data\n",
            "Predictions computed for all validation data\n"
          ],
          "name": "stdout"
        }
      ]
    },
    {
      "cell_type": "code",
      "metadata": {
        "id": "Gr9e_aqFbnbi",
        "colab_type": "code",
        "colab": {}
      },
      "source": [
        "# t_layer is defined right where the Keras model is defined\n",
        "def fingerprint_suffix(images, tensor=t_layer):\n",
        "  print \"Getting fingerprint for\", t_layer.name\n",
        "  return (get_prediction(images, tensor=tensor)>0.0).astype('int')\n",
        "\n",
        "#t_layer = graph.get_tensor_by_name('activation_3/Relu:0')\n",
        "#t_layer = tf.reshape(t_layer, [-1, 6400])\n",
        "#t_layer = graph.get_tensor_by_name('activation_4/Relu:0')\n",
        "#t_layer = tf.reshape(t_layer, [-1, 4096])\n",
        "#t_layer = graph.get_tensor_by_name('flatten_1/Reshape:0')\n",
        "\n",
        "t_maxpool1 = graph.get_tensor_by_name('max_pooling2d_1/MaxPool:0')\n",
        "t_maxpool1_rs = tf.reshape(t_maxpool1, [-1, 4608])\n",
        "train_suffixes_maxpool1 = fingerprint_suffix(mnist.train.images, tensor=t_maxpool1_rs)\n",
        "test_suffixes_maxpool1 = fingerprint_suffix(mnist.test.images, tensor=t_maxpool1_rs)\n",
        "validation_suffixes_maxpool1 = fingerprint_suffix(mnist.validation.images, tensor=t_maxpool1_rs)\n",
        "\n",
        "t_maxpool2 = graph.get_tensor_by_name('max_pooling2d_2/MaxPool:0')\n",
        "t_maxpool2_rs = tf.reshape(t_maxpool2, [-1, 1024])\n",
        "train_suffixes_maxpool2 = fingerprint_suffix(mnist.train.images, tensor=t_maxpool2_rs)\n",
        "test_suffixes_maxpool2 = fingerprint_suffix(mnist.test.images, tensor=t_maxpool2_rs)\n",
        "validation_suffixes_maxpool2 = fingerprint_suffix(mnist.validation.images, tensor=t_maxpool2_rs)\n",
        "\n",
        "#t_dense1 = graph.get_tensor_by_name('activation_5/Relu:0') #Shape: 256\n",
        "#train_suffixes_dense1 = fingerprint_suffix(mnist.train.images, tensor=t_dense1)\n",
        "#test_suffixes_dense1 = fingerprint_suffix(mnist.test.images, tensor=t_dense1)\n",
        "\n",
        "#t_dense2 = graph.get_tensor_by_name('activation_6/Relu:0') #Shape: 256\n",
        "#train_suffixes_dense2 = fingerprint_suffix(mnist.train.images, tensor=t_dense2)\n",
        "#test_suffixes_dense2 = fingerprint_suffix(mnist.test.images, tensor=t_dense2)"
      ],
      "execution_count": 0,
      "outputs": []
    },
    {
      "cell_type": "code",
      "metadata": {
        "id": "KsYrWTmQch8K",
        "colab_type": "code",
        "outputId": "a790e7b1-86f1-4596-973c-1f3b288c5e5e",
        "colab": {
          "base_uri": "https://localhost:8080/",
          "height": 123
        }
      },
      "source": [
        "def eval_estimator(estimator, suffixes, orig_model_predictions, gt_predictions):\n",
        "  estimator_predictions = estimator.predict(suffixes)\n",
        "  acc = (estimator_predictions == gt_predictions)\n",
        "  agreement = (estimator_predictions == orig_model_predictions)\n",
        "  print \"Estimator accuracy\", 1.0*np.sum(acc)/len(suffixes)\n",
        "  print \"Estimator agreement\", 1.0*np.sum(agreement)/len(suffixes)\n",
        "\n",
        "print \"MaxPool1\"\n",
        "est_maxpool1 = tree.DecisionTreeClassifier()\n",
        "est_maxpool1.fit(train_suffixes_maxpool1, train_predictions)\n",
        "# Evaluation\n",
        "eval_estimator(est_maxpool1, test_suffixes_maxpool1, test_predictions, mnist.test.labels)\n",
        "\n",
        "print \"MaxPool2\"\n",
        "est_maxpool2 = tree.DecisionTreeClassifier()\n",
        "est_maxpool2.fit(train_suffixes_maxpool2, train_predictions)\n",
        "# Evaluation\n",
        "eval_estimator(est_maxpool2, test_suffixes_maxpool2, test_predictions, mnist.test.labels)"
      ],
      "execution_count": 0,
      "outputs": [
        {
          "output_type": "stream",
          "text": [
            "MaxPool1\n",
            "Estimator accuracy 0.8989\n",
            "Estimator agreement 0.8999\n",
            "MaxPool2\n",
            "Estimator accuracy 0.938\n",
            "Estimator agreement 0.9388\n"
          ],
          "name": "stdout"
        }
      ]
    },
    {
      "cell_type": "code",
      "metadata": {
        "id": "xdPUiRRXOacA",
        "colab_type": "code",
        "colab": {}
      },
      "source": [
        "import operator\n",
        "def get_invariants_with_quality(estimator, suffixes, orig_model_predictions, min_samples=0):\n",
        "  leaf_nodes = estimator.apply(suffixes)\n",
        "  estimator_predictions = estimator.predict(suffixes)\n",
        "  invs = {}\n",
        "  # We refer to each invariant by corresponding leaf node id.\n",
        "  for i, l in enumerate(leaf_nodes):\n",
        "    if l not in invs:\n",
        "      invs[l] = []\n",
        "    invs[l].append(i)\n",
        "  invs_quality = {}\n",
        "  for l, inv in invs.iteritems():\n",
        "    supp = estimator.tree_.n_node_samples[l] \n",
        "    if supp < min_samples:\n",
        "      continue\n",
        "    inv_predictions = estimator_predictions[inv]\n",
        "    orig_predictions = orig_model_predictions[inv]\n",
        "    invs_quality[l] = np.average(inv_predictions == orig_predictions)\n",
        "  return sorted(invs_quality.items(), key=operator.itemgetter(1), reverse=True)\n",
        "\n",
        "def get_invs_above_thresh(estimator, invs, thresh):\n",
        "  invs_map = np.array([False for _ in range(len(estimator.tree_.n_node_samples))])\n",
        "  above_thresh = [l for l, q in invs if q >= thresh]\n",
        "  invs_map[above_thresh] = True\n",
        "  return invs_map\n",
        "\n",
        "def get_hybrid_accuracy(estimator, suffixes, orig_model_predictions, gt_predictions, invs_map):\n",
        "  # invs_map is an array of size <num nodes in tree> wherein all leaf nodes\n",
        "  # corresponding to the valid invariants are marked True and others False.\n",
        "  estimator_predictions = estimator.predict(suffixes)\n",
        "  estimator_correct = (estimator_predictions == gt_predictions)\n",
        "  orig_correct = (orig_model_predictions == gt_predictions)\n",
        "  leaf_nodes = estimator.apply(suffixes)\n",
        "  in_invariant = invs_map[leaf_nodes]\n",
        "  num_in_invariant = np.sum(in_invariant)\n",
        "  acc = np.average(orig_correct*(1-in_invariant) + in_invariant*estimator_correct)\n",
        "  return acc, num_in_invariant\n",
        "\n",
        "def test_hybrid_inference(estimator, images, t_layer, flattened_shape, invs_map):\n",
        "  # invs_map is an array of size <num nodes in tree> wherein all leaf nodes\n",
        "  # corresponding to the valid invariants are marked True and others False.\n",
        "  reshaped_images = np.reshape(images, [len(images), 28, 28, 1])\n",
        "  start = timer()\n",
        "  layer_predictions = get_prediction2(t_image, reshaped_images, t_layer)\n",
        "  suffixes = (np.reshape(layer_predictions, [-1, flattened_shape]) > 0.0).astype('int')\n",
        "  estimator_predictions = estimator.predict(suffixes)\n",
        "  leaf_nodes = estimator.apply(suffixes)\n",
        "  in_invariant = invs_map[leaf_nodes]\n",
        "  not_in_inv_indices = np.where(in_invariant == False)[0]\n",
        "  get_prediction2(t_layer, layer_predictions[not_in_inv_indices], t_prediction)\n",
        "  end = timer()\n",
        "  return end-start, len(not_in_inv_indices)"
      ],
      "execution_count": 0,
      "outputs": []
    },
    {
      "cell_type": "code",
      "metadata": {
        "id": "4MVp-14rsS8-",
        "colab_type": "code",
        "outputId": "5a0b6735-f8df-407f-a948-4416fa49e823",
        "colab": {
          "base_uri": "https://localhost:8080/",
          "height": 35
        }
      },
      "source": [
        "# Infernece Experiment\n",
        "from timeit import default_timer as timer\n",
        "\n",
        "test_images_ie = mnist.test.images\n",
        "test_labels_ie = mnist.test.labels\n",
        "test_predictions_ie = test_predictions\n",
        "times = []\n",
        "for _ in range(10):\n",
        "  start = timer()\n",
        "  get_prediction(test_images_ie)\n",
        "  end = timer()\n",
        "  times.append(end-start)\n",
        "print \"Original Inference time for 1000 images (average across 10 runs)\", np.average(times)"
      ],
      "execution_count": 0,
      "outputs": [
        {
          "output_type": "stream",
          "text": [
            "Original Inference time for 1000 images (average across 10 runs) 6.649348497390747\n"
          ],
          "name": "stdout"
        }
      ]
    },
    {
      "cell_type": "code",
      "metadata": {
        "id": "cqDNF0nkrFb2",
        "colab_type": "code",
        "outputId": "77d9a343-989a-4117-a931-9e77e46b9416",
        "colab": {
          "base_uri": "https://localhost:8080/",
          "height": 230
        }
      },
      "source": [
        "# Layer MaxPool1\n",
        "invs_maxpool1 =  get_invariants_with_quality(\n",
        "  est_maxpool1, validation_suffixes_maxpool1, validation_predictions, min_samples=100)\n",
        "test_suffixes_maxpool1_ie = test_suffixes_maxpool1\n",
        "\n",
        "thresholds = 1.0*np.arange(90,102)/100\n",
        "hybrid_accs_maxpool1 = []\n",
        "hybrid_times_maxpool1 = []\n",
        "for t in thresholds:\n",
        "  invs_map = get_invs_above_thresh(est_maxpool1, invs_maxpool1, t)\n",
        "  hacc, num_in_inv = get_hybrid_accuracy(\n",
        "    est_maxpool1, test_suffixes_maxpool1_ie, test_predictions_ie, test_labels_ie, invs_map)\n",
        "  hybrid_accs_maxpool1.append(hacc)\n",
        "  times = []\n",
        "  for _ in range(10):\n",
        "    latency, num_not_in_inv = test_hybrid_inference(\n",
        "      est_maxpool1, test_images_ie, t_maxpool1, 4608, invs_map)\n",
        "    assert num_not_in_inv + num_in_inv == 10000\n",
        "    times.append(latency)\n",
        "  htime = np.average(times)\n",
        "  hybrid_times_maxpool1.append(htime)\n",
        "  print \"Threshold %f: (Acc:%f, Time:%f)\" % (t, hacc, htime)"
      ],
      "execution_count": 0,
      "outputs": [
        {
          "output_type": "stream",
          "text": [
            "Threshold 0.900000: (Acc:0.987300, Time:6.093324)\n",
            "Threshold 0.910000: (Acc:0.987300, Time:6.028995)\n",
            "Threshold 0.920000: (Acc:0.987600, Time:6.121604)\n",
            "Threshold 0.930000: (Acc:0.988300, Time:6.143411)\n",
            "Threshold 0.940000: (Acc:0.988500, Time:6.116338)\n",
            "Threshold 0.950000: (Acc:0.988700, Time:6.086180)\n",
            "Threshold 0.960000: (Acc:0.988700, Time:6.121535)\n",
            "Threshold 0.970000: (Acc:0.990200, Time:6.309421)\n",
            "Threshold 0.980000: (Acc:0.990300, Time:6.197457)\n",
            "Threshold 0.990000: (Acc:0.990500, Time:6.427023)\n",
            "Threshold 1.000000: (Acc:0.991500, Time:6.951012)\n",
            "Threshold 1.010000: (Acc:0.994300, Time:7.914943)\n"
          ],
          "name": "stdout"
        }
      ]
    },
    {
      "cell_type": "code",
      "metadata": {
        "id": "Slx2r2WX73T2",
        "colab_type": "code",
        "outputId": "2b0a0c13-366e-462f-b5b2-c8f3f464387a",
        "colab": {
          "base_uri": "https://localhost:8080/",
          "height": 380
        }
      },
      "source": [
        "plt.rcParams.update({'font.size': 14})\n",
        "\n",
        "f, (ax1, ax2) = plt.subplots(2, 1, sharex=True, figsize=(12,5))\n",
        "ax1.plot(thresholds, hybrid_accs_maxpool1)\n",
        "ax1.set_xlabel('Threshold (tau)')\n",
        "ax1.set_ylabel('Overall Accuracy')\n",
        "\n",
        "ax2.plot(thresholds, hybrid_times_maxpool1)\n",
        "ax2.set_ylabel('Inference Latency (sec)')\n",
        "ax2.set_xlabel('Threshold (tau)')\n",
        "ax1.set_title('Distillation using invariants at layer MaxPool1')\n"
      ],
      "execution_count": 0,
      "outputs": [
        {
          "output_type": "execute_result",
          "data": {
            "text/plain": [
              "Text(0.5,1,'Distillation using invariants at layer MaxPool1')"
            ]
          },
          "metadata": {
            "tags": []
          },
          "execution_count": 261
        },
        {
          "output_type": "display_data",
          "data": {
            "image/png": "[encoded data removed]",
            "text/plain": [
              "<Figure size 864x360 with 2 Axes>"
            ]
          },
          "metadata": {
            "tags": []
          }
        }
      ]
    },
    {
      "cell_type": "code",
      "metadata": {
        "id": "e6TISXtPwciV",
        "colab_type": "code",
        "outputId": "8dc73d4a-6371-4a73-a446-ea6b5da27cf5",
        "colab": {
          "base_uri": "https://localhost:8080/",
          "height": 230
        }
      },
      "source": [
        "# Layer MaxPool2\n",
        "invs_maxpool2 =  get_invariants_with_quality(\n",
        "  est_maxpool2, validation_suffixes_maxpool2, validation_predictions, min_samples=100)\n",
        "test_suffixes_maxpool2_ie = test_suffixes_maxpool2\n",
        "\n",
        "thresholds = 1.0*np.arange(90,102)/100\n",
        "hybrid_accs_maxpool2 = []\n",
        "hybrid_times_maxpool2 = []\n",
        "for t in thresholds:\n",
        "  invs_map = get_invs_above_thresh(est_maxpool2, invs_maxpool2, t)\n",
        "  hacc, num_in_inv = get_hybrid_accuracy(\n",
        "    est_maxpool2, test_suffixes_maxpool2_ie, test_predictions_ie, test_labels_ie, invs_map)\n",
        "  hybrid_accs_maxpool2.append(hacc)\n",
        "  times = []\n",
        "  for _ in range(10):\n",
        "    latency, num_not_in_inv = test_hybrid_inference(\n",
        "      est_maxpool2, test_images_ie, t_maxpool2, 1024, invs_map)\n",
        "    assert num_not_in_inv + num_in_inv == 10000\n",
        "    times.append(latency)\n",
        "  htime = np.average(times)\n",
        "  hybrid_times_maxpool2.append(htime)\n",
        "  print \"Threshold %f: (Acc:%f, Time:%f)\" % (t, hacc, htime)"
      ],
      "execution_count": 0,
      "outputs": [
        {
          "output_type": "stream",
          "text": [
            "Threshold 0.900000: (Acc:0.990300, Time:6.730468)\n",
            "Threshold 0.910000: (Acc:0.990300, Time:6.801510)\n",
            "Threshold 0.920000: (Acc:0.990400, Time:6.747604)\n",
            "Threshold 0.930000: (Acc:0.990400, Time:6.720746)\n",
            "Threshold 0.940000: (Acc:0.990500, Time:6.720493)\n",
            "Threshold 0.950000: (Acc:0.991100, Time:6.720351)\n",
            "Threshold 0.960000: (Acc:0.991100, Time:6.787710)\n",
            "Threshold 0.970000: (Acc:0.991100, Time:6.717443)\n",
            "Threshold 0.980000: (Acc:0.991100, Time:6.712110)\n",
            "Threshold 0.990000: (Acc:0.991100, Time:6.728770)\n",
            "Threshold 1.000000: (Acc:0.991400, Time:6.872642)\n",
            "Threshold 1.010000: (Acc:0.994300, Time:6.822579)\n"
          ],
          "name": "stdout"
        }
      ]
    },
    {
      "cell_type": "code",
      "metadata": {
        "id": "aBX5s8ZW-A_X",
        "colab_type": "code",
        "outputId": "883dcb84-3ebd-4c0b-f32d-3c436fe9f962",
        "colab": {
          "base_uri": "https://localhost:8080/",
          "height": 379
        }
      },
      "source": [
        "plt.rcParams.update({'font.size': 14})\n",
        "\n",
        "f, (ax1, ax2) = plt.subplots(2, 1, sharex=True, figsize=(12,5))\n",
        "ax1.plot(thresholds, hybrid_accs_maxpool1)\n",
        "ax1.set_xlabel('Threshold (tau)')\n",
        "ax1.set_ylabel('Overall Accuracy')\n",
        "\n",
        "ax2.plot(thresholds, hybrid_times_maxpool2)\n",
        "ax2.set_ylabel('Inference Latency')\n",
        "ax2.set_xlabel('Threshold (tau)')\n",
        "ax1.set_title('Distillation using layer MaxPool2 at various thresholds')\n"
      ],
      "execution_count": 0,
      "outputs": [
        {
          "output_type": "execute_result",
          "data": {
            "text/plain": [
              "Text(0.5,1,'Distillation using layer MaxPool2 at various thresholds')"
            ]
          },
          "metadata": {
            "tags": []
          },
          "execution_count": 268
        },
        {
          "output_type": "display_data",
          "data": {
            "image/png": "[encoded data removed]",
            "text/plain": [
              "<Figure size 864x360 with 2 Axes>"
            ]
          },
          "metadata": {
            "tags": []
          }
        }
      ]
    },
    {
      "cell_type": "markdown",
      "metadata": {
        "id": "xemqVzlTy1iZ",
        "colab_type": "text"
      },
      "source": [
        ""
      ]
    },
    {
      "cell_type": "code",
      "metadata": {
        "id": "emDaCsEcL3-i",
        "colab_type": "code",
        "colab": {}
      },
      "source": [
        "def get_basic_estimator_confidence(estimator, suffixes):\n",
        "  leaf_nodes = estimator.apply(suffixes)\n",
        "  conf_score = estimator.tree_.n_node_samples[leaf_nodes]\n",
        "  # check that the leaf is pure\n",
        "  is_pure = np.array([ len(np.where(v != 0)[0]) == 1 for v in estimator.tree_.value[leaf_nodes][:,0,:]])\n",
        "  print \"Num pure instances\", np.sum(is_pure)\n",
        "  conf_score *= is_pure\n",
        "  return conf_score"
      ],
      "execution_count": 0,
      "outputs": []
    },
    {
      "cell_type": "code",
      "metadata": {
        "id": "jDKkdr1IUn-k",
        "colab_type": "code",
        "colab": {}
      },
      "source": [
        "def plot_bars(ax, bar_vals, bar_names, ptiles, baseline_val=None, baseline_label=None, width=0.2):\n",
        "  ax.set_ylabel(\"Hybrid accuracy\")\n",
        "  ax.set_xlabel(\"Proportion of Examples\")\n",
        "  #ax.set_ylim((min([min(b) for b in bar_vals])-0.05, 1.1))\n",
        "  # ax.set_title(title)\n",
        "  # TODO: why 'plt' below and not 'ax'?\n",
        "  ind = np.arange(len(ptiles))\n",
        "  ax.set_xticks(ind)\n",
        "  ax.set_xticklabels([\"%d%%\"%(100-ptile) for ptile in ptiles])\n",
        "  if baseline_val != None:\n",
        "    ax.axhline(y=baseline_val, color='b', linestyle='-', label=baseline_label)\n",
        "  \n",
        "  colors = ['red', 'blue', 'yellow', 'green']\n",
        "  bars = []\n",
        "  for i, b in enumerate(bar_vals):\n",
        "    assert len(b) == len(ptiles)\n",
        "    #bars.append(ax.bar(ind+i*width, b, width=width, color=colors[i]))\n",
        "    bars.append(ax.plot(b, color=colors[i]))\n",
        "  ax.legend(bars, bar_names)"
      ],
      "execution_count": 0,
      "outputs": []
    },
    {
      "cell_type": "code",
      "metadata": {
        "id": "gwC8TwssL5EU",
        "colab_type": "code",
        "colab": {}
      },
      "source": [
        "import matplotlib.pyplot as plt\n",
        "\n",
        "def show_hybrid_acc_plot(estimator, suffixes, orig_model_predictions, gt_predictions, ptiles):\n",
        "  def get_hybrid_acc_at_ptile(score, ptile):\n",
        "    above_ptile = score >= np.percentile(score, ptile)\n",
        "    return np.average(estimator_correct*above_ptile) + np.average(orig_correct*(1-above_ptile))\n",
        "  \n",
        "  estimator_predictions = estimator.predict(suffixes)\n",
        "  estimator_correct = (estimator_predictions == gt_predictions)\n",
        "  orig_correct = (orig_model_predictions == gt_predictions)\n",
        "  conf_score = get_basic_estimator_confidence(estimator, suffixes)\n",
        "  \n",
        "  hybrid_acc_by_conf = []\n",
        "  for ptile in ptiles:\n",
        "    hybrid_acc_by_conf.append(get_hybrid_acc_at_ptile(conf_score, ptile))\n",
        "  fig, ax = plt.subplots(1, 1, sharey=True, figsize=(8,5))\n",
        "  plot_bars(\n",
        "      ax,\n",
        "      [hybrid_acc_by_conf],\n",
        "      ['Hybrid accuracy'],\n",
        "      ptiles,\n",
        "  )\n",
        "  plt.show(fig)"
      ],
      "execution_count": 0,
      "outputs": []
    },
    {
      "cell_type": "code",
      "metadata": {
        "id": "qd8geETFMGC1",
        "colab_type": "code",
        "outputId": "9e6afdf1-63cf-4265-9ce9-29f8966568b3",
        "colab": {
          "base_uri": "https://localhost:8080/",
          "height": 422
        }
      },
      "source": [
        "show_hybrid_acc_plot(est_maxpool1, test_suffixes_maxpool1, test_predictions, mnist.test.labels, 10*np.arange(11))"
      ],
      "execution_count": 0,
      "outputs": [
        {
          "output_type": "stream",
          "text": [
            "Num pure instances 10000\n"
          ],
          "name": "stdout"
        },
        {
          "output_type": "stream",
          "text": [
            "/usr/local/lib/python2.7/dist-packages/matplotlib/legend.py:937: UserWarning: Legend does not support [<matplotlib.lines.Line2D object at 0x7f4af45f8dd0>] instances.\n",
            "A proxy artist may be used instead.\n",
            "See: http://matplotlib.org/users/legend_guide.html#creating-artists-specifically-for-adding-to-the-legend-aka-proxy-artists\n",
            "  \"aka-proxy-artists\".format(orig_handle)\n"
          ],
          "name": "stderr"
        },
        {
          "output_type": "display_data",
          "data": {
            "image/png": "[encoded data removed]",
            "text/plain": [
              "<Figure size 576x360 with 1 Axes>"
            ]
          },
          "metadata": {
            "tags": []
          }
        }
      ]
    },
    {
      "cell_type": "code",
      "metadata": {
        "id": "rH1SuGZMAkjp",
        "colab_type": "code",
        "outputId": "f7ed6621-e0f3-47d3-fd14-49675ec0b268",
        "colab": {
          "base_uri": "https://localhost:8080/",
          "height": 422
        }
      },
      "source": [
        "show_hybrid_acc_plot(est_maxpool2, test_suffixes_maxpool2, test_predictions, mnist.test.labels, 10*np.arange(11))"
      ],
      "execution_count": 0,
      "outputs": [
        {
          "output_type": "stream",
          "text": [
            "Num pure instances 10000\n"
          ],
          "name": "stdout"
        },
        {
          "output_type": "stream",
          "text": [
            "/usr/local/lib/python2.7/dist-packages/matplotlib/legend.py:937: UserWarning: Legend does not support [<matplotlib.lines.Line2D object at 0x7f4af690a910>] instances.\n",
            "A proxy artist may be used instead.\n",
            "See: http://matplotlib.org/users/legend_guide.html#creating-artists-specifically-for-adding-to-the-legend-aka-proxy-artists\n",
            "  \"aka-proxy-artists\".format(orig_handle)\n"
          ],
          "name": "stderr"
        },
        {
          "output_type": "display_data",
          "data": {
            "image/png": "[encoded data removed]",
            "text/plain": [
              "<Figure size 576x360 with 1 Axes>"
            ]
          },
          "metadata": {
            "tags": []
          }
        }
      ]
    },
    {
      "cell_type": "markdown",
      "metadata": {
        "id": "yK1Pr1agnsoi",
        "colab_type": "text"
      },
      "source": [
        "## Examine clusters/invariants"
      ]
    },
    {
      "cell_type": "code",
      "metadata": {
        "id": "ZbOQkQU0zBz6",
        "colab_type": "code",
        "colab": {}
      },
      "source": [
        "def get_decision_path(estimator, inp):\n",
        "  # Extract the decision path taken by an input as an ordered list of indices\n",
        "  # of the neurons that were evaluated.\n",
        "  # See: http://scikit-learn.org/stable/auto_examples/tree/plot_unveil_tree_structure.html\n",
        "  n_nodes = estimator.tree_.node_count\n",
        "  feature = estimator.tree_.feature\n",
        "\n",
        "  # First let's retrieve the decision path of each sample. The decision_path\n",
        "  # method allows to retrieve the node indicator functions. A non zero element of\n",
        "  # indicator matrix at the position (i, j) indicates that the sample i goes\n",
        "  # through the node j.\n",
        "  X_test = [inp]\n",
        "  node_indicator = estimator.decision_path(X_test)\n",
        "  # Similarly, we can also have the leaves ids reached by each sample.\n",
        "  leaf_id = estimator.apply(X_test)\n",
        "  # Now, it's possible to get the tests that were used to predict a sample or\n",
        "  # a group of samples. First, let's make it for the sample.\n",
        "  node_index = node_indicator.indices[node_indicator.indptr[0]:\n",
        "                                      node_indicator.indptr[1]]\n",
        "  neuron_ids = []\n",
        "  for node_id in node_index:\n",
        "    if leaf_id[0] == node_id:\n",
        "        continue\n",
        "    neuron_ids.append(feature[node_id])\n",
        "  return neuron_ids\n",
        "\n",
        "def get_suffix_cluster(neuron_ids, neuron_sig):\n",
        "  # Get the cluster of inputs that such that all inputs in the cluster\n",
        "  # have provided on/off signature for the provided neurons.\n",
        "  #\n",
        "  # The returned cluster is an array of indices (into mnist.train.images).\n",
        "  return np.where((train_suffixes[:, neuron_ids] == neuron_sig).all(axis=1))[0]\n",
        "\n",
        "def is_consistent_cluster(cluster, predictions):\n",
        "  # Check if all inputs within the cluster have the same prediction.\n",
        "  # 'cluster' is an array of input ids.\n",
        "  pred = predictions[cluster[0]]\n",
        "  for i in cluster:\n",
        "    if predictions[i] != pred:\n",
        "      return False\n",
        "  return True\n",
        "\n",
        "def is_misclassified(i):\n",
        "  return train_predictions[i] != mnist.train.labels[i]\n",
        "\n",
        "def visualize_conductances(img, label, neuron_ids, only_on=False):\n",
        "  # Visualize the conductances for the provided image.\n",
        "  # Args:\n",
        "  # - img: the provided mnist image\n",
        "  # - label: prediction label w.r.t. conductance must be computed\n",
        "  # - neuron_ids: list of neurons indices from the suffix tensor for which\n",
        "  #    conductances must be computed.\n",
        "  # - only_on: If True then conductance is computed only for those neurons\n",
        "  #    that are on for the given image. \n",
        "  vis = [mnist_to_pil_img(img)]\n",
        "  suffix = fingerprint_suffix([img])\n",
        "  for i, id in enumerate(neuron_ids):\n",
        "    if only_on and suffix[i] != 1:\n",
        "      continue  \n",
        "    igc = conductance(img, label, neuron_id=id)\n",
        "    # igc = conductances[id]\n",
        "    vis.append(visualize_attrs2(255*mnist_to_rgb(img), mnist_to_rgb(igc)))\n",
        "  return combine(vis)\n",
        "\n",
        "def get_invariant(estimator, ref_id):\n",
        "  # Returns an invariant found w.r.t. the provided reference input\n",
        "  # Args\n",
        "  #  - ref_id: Index (into mnist.train.images) of the reference input\n",
        "  # Returns:\n",
        "  #  - cluster: Indices of training inputs that satisfy the invariant\n",
        "  #  - neuron_id: A list of neurons such that all inputs that agree with\n",
        "  #    the reference input on the on/off status of these neurons have the\n",
        "  #    same prediction as the reference input.\n",
        "  ref_img = mnist.train.images[ref_id]\n",
        "  ref_suffix = train_suffixes[ref_id]\n",
        "  neuron_ids = get_decision_path(estimator, ref_suffix)\n",
        "  neuron_sig = ref_suffix[neuron_ids]\n",
        "  cluster = get_suffix_cluster(neuron_ids, neuron_sig)\n",
        "  return cluster, neuron_ids, neuron_sig\n",
        "\n",
        "def get_all_invariants(estimator):\n",
        "  # Returns a dictionary mapping each decision tree prediction class\n",
        "  # to a list of invariants. Each invariant is specified as a triple:\n",
        "  # - neuron ids\n",
        "  # - neuron signature (for the neuron ids)\n",
        "  # - number of training samples that hit it\n",
        "  # The neuron ids and neuron signature can be supplied to get_suffix_cluster\n",
        "  # to obtain the cluster of training instances that hit the invariant.\n",
        "  def is_leaf(node):\n",
        "    return estimator.tree_.children_left[node] == estimator.tree_.children_right[node]\n",
        "\n",
        "  def left_child(node):\n",
        "    return estimator.tree_.children_left[node]\n",
        "\n",
        "  def right_child(node):\n",
        "    return estimator.tree_.children_right[node]\n",
        "  \n",
        "  def get_all_paths_rec(node):\n",
        "    # Returns a list of triples corresponding to paths\n",
        "    # in the decision tree. Each triple consists of\n",
        "    # - neurons encountered along the path\n",
        "    # - signature along the path\n",
        "    # - prediction class at the leaf\n",
        "    # - number of training samples that hit the path\n",
        "    # The prediction class and number of training samples\n",
        "    # are set to -1 when the leaf is \"impure\".\n",
        "    feature = estimator.tree_.feature\n",
        "    if is_leaf(node):\n",
        "      values = estimator.tree_.value[node][0]\n",
        "      if len(np.where(values != 0)[0]) == 1:\n",
        "        cl = estimator.classes_[np.where(values != 0)[0][0]]\n",
        "        nsamples = estimator.tree_.n_node_samples[node]\n",
        "      else:\n",
        "        print \"Found impure leaf at node\", node\n",
        "        # impure node\n",
        "        cl = -1\n",
        "        nsamples = np.sum(values)\n",
        "      return [[[], [], cl, nsamples]]\n",
        "    # If it is not a leaf both left and right childs must exist\n",
        "    paths = [[[feature[node]] + p[0], [0] + p[1], p[2], p[3]] for p in get_all_paths_rec(left_child(node))]\n",
        "    paths += [[[feature[node]] + p[0], [1] + p[1], p[2], p[3]] for p in get_all_paths_rec(right_child(node))]\n",
        "    return paths\n",
        "  paths =  get_all_paths_rec(0)\n",
        "  print \"Obtained all paths\"\n",
        "  invariants = {}\n",
        "  for p in tqdm(paths):\n",
        "    neuron_ids, neuron_sig, cl, nsamples = p\n",
        "    if cl not in invariants:\n",
        "      invariants[cl] = []\n",
        "    # cluster = get_suffix_cluster(neuron_ids, neuron_sig)\n",
        "    invariants[cl].append([neuron_ids, neuron_sig, nsamples])\n",
        "  for cl in invariants.keys():\n",
        "    invariants[cl] = sorted(invariants[cl], key=operator.itemgetter(2), reverse=True)\n",
        "  return invariants\n",
        "\n",
        "def describe_cluster(cluster, neuron_ids, show_samples=False):\n",
        "  neuron_sig = train_suffixes[cluster[0]][neuron_ids]\n",
        "  print \"Num neurons in invariant\", len(neuron_ids)\n",
        "  print \"Neuron id and signature\", zip(neuron_ids, neuron_sig)\n",
        "  print \"Cluster size: \", len(cluster)\n",
        "  print \"Num misclassified\", len([i for i in cluster if is_misclassified(i)])\n",
        "  if show_samples:\n",
        "    for i in range(10):\n",
        "      images = []\n",
        "      for j in range(10):\n",
        "        if 10*i + j >= len(cluster):\n",
        "          break\n",
        "        images.append(mnist_to_pil_img(mnist.train.images[cluster[10*i+j]]))\n",
        "      if len(images) > 0:\n",
        "        show_img(combine(images))\n",
        "\n",
        "def describe_all_invariants(all_invariants):\n",
        "  df = []\n",
        "  for cl, invs in all_invariants.iteritems():\n",
        "    # Note the number of invariants, and size of the largest invariant cluster\n",
        "    df.append([cl, sum([inv[2] for inv in invs]), len(invs), sum([inv[2] for inv in invs if inv[2]<=10]), invs[0][2]])\n",
        "  df = pd.DataFrame(df, columns=['Prediction Class', 'Num Instances', 'Num Invariants', 'Num Instances in Invariants of size <= 10', 'Size of largest Invariant'])\n",
        "  return df"
      ],
      "execution_count": 0,
      "outputs": []
    },
    {
      "cell_type": "code",
      "metadata": {
        "id": "KOUniL-T5-Sa",
        "colab_type": "code",
        "outputId": "d59924a5-6b1b-43a0-a950-ba88640c7b01",
        "colab": {
          "base_uri": "https://localhost:8080/",
          "height": 515
        }
      },
      "source": [
        "# Examine cluster/invariants containing a given reference input\n",
        "# ref_id is the index of the reference input\n",
        "ref_id =  3\n",
        "print \"### Reference Image ###\"\n",
        "describe_input(ref_id)\n",
        "print \"### Cluster ###\"\n",
        "cluster, neuron_ids, neuron_sig = get_invariant(basic_estimator, ref_id)\n",
        "describe_cluster(cluster, neuron_ids, show_samples=True)\n",
        "\n",
        "# Visualize  10 inputs in the cluster\n",
        "# for i in cluster[:10]:\n",
        "  # show_img(visualize_conductances(mnist.train.images[i], train_predictions[i], neuron_ids, only_on=False))"
      ],
      "execution_count": 0,
      "outputs": [
        {
          "output_type": "stream",
          "text": [
            "### Reference Image ###\n",
            "Input 3\n",
            "Groundtruth 6\n",
            "Prediction 6\n",
            "Fine-grained prediction 66\n"
          ],
          "name": "stdout"
        },
        {
          "output_type": "display_data",
          "data": {
            "text/plain": [
              "<IPython.core.display.Image object>"
            ],
            "image/jpeg": "[encoded data removed]"
          },
          "metadata": {
            "tags": []
          }
        },
        {
          "output_type": "stream",
          "text": [
            "### Cluster ###\n",
            "Num neurons in invariant 21\n",
            "Neuron id and signature [(576, 0), (595, 1), (492, 0), (154, 1), (152, 0), (539, 0), (712, 1), (106, 0), (861, 0), (783, 0), (261, 0), (981, 0), (143, 0), (487, 0), (274, 0), (923, 0), (553, 1), (616, 0), (64, 0), (1001, 0), (142, 0)]\n",
            "Cluster size:  3723\n",
            "Num misclassified 0\n"
          ],
          "name": "stdout"
        },
        {
          "output_type": "display_data",
          "data": {
            "text/plain": [
              "<IPython.core.display.Image object>"
            ],
            "image/jpeg": "[encoded data removed]"
          },
          "metadata": {
            "tags": []
          }
        },
        {
          "output_type": "display_data",
          "data": {
            "text/plain": [
              "<IPython.core.display.Image object>"
            ],
            "image/jpeg": "[encoded data removed]"
          },
          "metadata": {
            "tags": []
          }
        },
        {
          "output_type": "display_data",
          "data": {
            "text/plain": [
              "<IPython.core.display.Image object>"
            ],
            "image/jpeg": "[encoded data removed]"
          },
          "metadata": {
            "tags": []
          }
        },
        {
          "output_type": "display_data",
          "data": {
            "text/plain": [
              "<IPython.core.display.Image object>"
            ],
            "image/jpeg": "[encoded data removed]"
          },
          "metadata": {
            "tags": []
          }
        },
        {
          "output_type": "display_data",
          "data": {
            "text/plain": [
              "<IPython.core.display.Image object>"
            ],
            "image/jpeg": "[encoded data removed]"
          },
          "metadata": {
            "tags": []
          }
        },
        {
          "output_type": "display_data",
          "data": {
            "text/plain": [
              "<IPython.core.display.Image object>"
            ],
            "image/jpeg": "[encoded data removed]"
          },
          "metadata": {
            "tags": []
          }
        },
        {
          "output_type": "display_data",
          "data": {
            "text/plain": [
              "<IPython.core.display.Image object>"
            ],
            "image/jpeg": "[encoded data removed]"
          },
          "metadata": {
            "tags": []
          }
        },
        {
          "output_type": "display_data",
          "data": {
            "text/plain": [
              "<IPython.core.display.Image object>"
            ],
            "image/jpeg": "[encoded data removed]"
          },
          "metadata": {
            "tags": []
          }
        },
        {
          "output_type": "display_data",
          "data": {
            "text/plain": [
              "<IPython.core.display.Image object>"
            ],
            "image/jpeg": "[encoded data removed]"
          },
          "metadata": {
            "tags": []
          }
        },
        {
          "output_type": "display_data",
          "data": {
            "text/plain": [
              "<IPython.core.display.Image object>"
            ],
            "image/jpeg": "[encoded data removed]"
          },
          "metadata": {
            "tags": []
          }
        }
      ]
    },
    {
      "cell_type": "code",
      "metadata": {
        "id": "Isr62nPPlROL",
        "colab_type": "code",
        "outputId": "2bc7221e-bde2-4d59-bcdc-8b216ceae453",
        "colab": {
          "base_uri": "https://localhost:8080/",
          "height": 265
        }
      },
      "source": [
        "# Get all fine_grained_estimator invariants\n",
        "be_all_invariants = get_all_invariants(basic_estimator)\n",
        "#fge_all_invariants = get_all_invariants(fine_grained_estimator)\n",
        "# Print invariant stats\n",
        "df = describe_all_invariants(be_all_invariants)\n",
        "print \"Total num invariants:\", df['Num Invariants'].sum()\n",
        "print df.to_string(index=False)\n",
        "\n"
      ],
      "execution_count": 0,
      "outputs": [
        {
          "output_type": "stream",
          "text": [
            "100%|██████████| 3404/3404 [00:00<00:00, 316474.06it/s]"
          ],
          "name": "stderr"
        },
        {
          "output_type": "stream",
          "text": [
            "Obtained all paths\n",
            "Total num invariants: 3404\n",
            "Prediction Class  Num Instances  Num Invariants  Num Instances in Invariants of size <= 10  Size of largest Invariant\n",
            "               0           5444             197                                        353                       4145\n",
            "               1           6180             170                                        353                       4404\n",
            "               2           5470             371                                        720                       1992\n",
            "               3           5637             476                                        935                       2025\n",
            "               4           5303             314                                        622                       2432\n",
            "               5           4986             434                                        805                       1372\n",
            "               6           5418             271                                        516                       3261\n",
            "               7           5715             303                                        581                       2111\n",
            "               8           5391             469                                        854                       1686\n",
            "               9           5456             399                                        767                       2511\n"
          ],
          "name": "stdout"
        },
        {
          "output_type": "stream",
          "text": [
            "\n"
          ],
          "name": "stderr"
        }
      ]
    },
    {
      "cell_type": "code",
      "metadata": {
        "id": "6a37mOAFTeqL",
        "colab_type": "code",
        "outputId": "ce6c5f49-0eed-4296-e2dc-1e6451fbdcd1",
        "colab": {
          "base_uri": "https://localhost:8080/",
          "height": 88
        }
      },
      "source": [
        "print graph.get_tensor_by_name('activation_2/Relu:0')\n",
        "print graph.get_tensor_by_name('max_pooling2d_1/MaxPool:0')\n",
        "print graph.get_tensor_by_name('activation_4/Relu:0')\n",
        "print graph.get_tensor_by_name('max_pooling2d_2/MaxPool:0')"
      ],
      "execution_count": 0,
      "outputs": [
        {
          "output_type": "stream",
          "text": [
            "Tensor(\"activation_2/Relu:0\", shape=(?, 24, 24, 32), dtype=float32)\n",
            "Tensor(\"max_pooling2d_1/MaxPool:0\", shape=(?, 12, 12, 32), dtype=float32)\n",
            "Tensor(\"activation_4/Relu:0\", shape=(?, 8, 8, 64), dtype=float32)\n",
            "Tensor(\"max_pooling2d_2/MaxPool:0\", shape=(?, 4, 4, 64), dtype=float32)\n"
          ],
          "name": "stdout"
        }
      ]
    },
    {
      "cell_type": "code",
      "metadata": {
        "id": "1NqKIem9Gw65",
        "colab_type": "code",
        "outputId": "a1666b95-6ccf-47ef-b2a2-17dc9170fcbb",
        "colab": {
          "base_uri": "https://localhost:8080/",
          "height": 424
        }
      },
      "source": [
        "# Get all fine_grained_estimator invariants\n",
        "fge_all_invariants = get_all_invariants(fine_grained_estimator)\n",
        "#fge_all_invariants = get_all_invariants(fine_grained_estimator)\n",
        "# Print invariant stats\n",
        "df = describe_all_invariants(fge_all_invariants)\n",
        "print \"Total num invariants:\", df['Num Invariants'].sum()\n",
        "print \"Total num invariants with cluster size >= 10:\", df['Num Invariants with cluster size >= 10'].sum()\n",
        "print df.to_string(index=False)"
      ],
      "execution_count": 0,
      "outputs": [
        {
          "output_type": "stream",
          "text": [
            "100%|██████████| 2186/2186 [00:00<00:00, 212771.48it/s]"
          ],
          "name": "stderr"
        },
        {
          "output_type": "stream",
          "text": [
            "Obtained all paths\n",
            "Total num invariants: 2186\n",
            "Total num invariants with cluster size >= 10: 329\n",
            "Prediction Class  Num Instances  Num Invariants  Num Invariants with cluster size >= 10  Size of largest invariant cluster\n",
            "               0           5444             120                                      22                               4494\n",
            "              33           5637             266                                      32                               3847\n",
            "              66           5417             161                                      28                               3723\n",
            "              99           5453             237                                      38                               3040\n",
            "              98              1               1                                       0                                  1\n",
            "              17              1               1                                       0                                  1\n",
            "              11           6178             126                                      19                               5275\n",
            "              44           5303             206                                      32                               3289\n",
            "              77           5713             227                                      30                               3734\n",
            "              47              1               1                                       0                                  1\n",
            "              48              1               1                                       0                                  1\n",
            "              49              2               2                                       0                                  1\n",
            "              56              1               1                                       0                                  1\n",
            "              22           5470             263                                      47                               2003\n",
            "              55           4986             269                                      34                               2246\n",
            "              88           5389             301                                      47                               2293\n",
            "              39              1               1                                       0                                  1\n",
            "              71              2               2                                       0                                  1\n"
          ],
          "name": "stdout"
        },
        {
          "output_type": "stream",
          "text": [
            "\n"
          ],
          "name": "stderr"
        }
      ]
    },
    {
      "cell_type": "markdown",
      "metadata": {
        "id": "jU7SHWilyZjc",
        "colab_type": "text"
      },
      "source": [
        "### Analyzing clusters of misclassified inputs"
      ]
    },
    {
      "cell_type": "code",
      "metadata": {
        "id": "6GPZ8nMyYCMj",
        "colab_type": "code",
        "outputId": "76f43214-a806-40aa-84fb-4b6617b5b944",
        "colab": {
          "base_uri": "https://localhost:8080/",
          "height": 401
        }
      },
      "source": [
        "# Examine the cluster for a misclasification (Groundtruth: 4, Prediction: 49)\n",
        "invs = fge_all_invariants[49]\n",
        "neuron_ids, neuron_sig, _ = invs[0]\n",
        "cluster = get_suffix_cluster(neuron_ids, neuron_sig)\n",
        "describe_cluster(cluster, neuron_ids)\n",
        "\n",
        "# Visualize  10 inputs in the cluster\n",
        "for i in cluster[:10]:\n",
        "  describe_input(i)\n",
        "  # show_img(visualize_conductances(mnist.train.images[i], train_predictions[i], neuron_ids, only_on=False))"
      ],
      "execution_count": 0,
      "outputs": [
        {
          "output_type": "stream",
          "text": [
            "Num neurons in invariant 16\n",
            "Neuron id and signature [(483, 0), (81, 1), (833, 1), (478, 0), (840, 1), (649, 1), (79, 1), (626, 0), (654, 1), (803, 0), (534, 1), (754, 0), (994, 1), (805, 0), (850, 1), (55, 1)]\n",
            "Cluster size:  3\n",
            "Num misclassified 3\n",
            "Input 4958\n",
            "Groundtruth 4\n",
            "Prediction 9\n",
            "Fine-grained prediction 49\n"
          ],
          "name": "stdout"
        },
        {
          "output_type": "display_data",
          "data": {
            "text/plain": [
              "<IPython.core.display.Image object>"
            ],
            "image/jpeg": "[encoded data removed]"
          },
          "metadata": {
            "tags": []
          }
        },
        {
          "output_type": "stream",
          "text": [
            "Input 14434\n",
            "Groundtruth 4\n",
            "Prediction 9\n",
            "Fine-grained prediction 49\n"
          ],
          "name": "stdout"
        },
        {
          "output_type": "display_data",
          "data": {
            "text/plain": [
              "<IPython.core.display.Image object>"
            ],
            "image/jpeg": "[encoded data removed]"
          },
          "metadata": {
            "tags": []
          }
        },
        {
          "output_type": "stream",
          "text": [
            "Input 54692\n",
            "Groundtruth 4\n",
            "Prediction 9\n",
            "Fine-grained prediction 49\n"
          ],
          "name": "stdout"
        },
        {
          "output_type": "display_data",
          "data": {
            "text/plain": [
              "<IPython.core.display.Image object>"
            ],
            "image/jpeg": "[encoded data removed]"
          },
          "metadata": {
            "tags": []
          }
        }
      ]
    },
    {
      "cell_type": "markdown",
      "metadata": {
        "id": "V-yR4qbD44Qr",
        "colab_type": "text"
      },
      "source": [
        "## Test Accuracy Improvements"
      ]
    },
    {
      "cell_type": "code",
      "metadata": {
        "id": "zeX0mt2x3K5C",
        "colab_type": "code",
        "colab": {}
      },
      "source": [
        "def get_estimator_confidence(\n",
        "    estimator, suffixes, estimator_predictions,\n",
        "    estimator_leaf_nodes, estimator_conf_labels):\n",
        "  # The confidence for each input is the number of samples that visit the same\n",
        "  # leaf as the input. The exception is inputs that reach impure leaves or leaves\n",
        "  # with labels outside estimator_conf_labels. For them the confidence is 0. \n",
        "  #\n",
        "  # Compute number of samples that visit the leaves\n",
        "  estimator_conf = estimator.tree_.n_node_samples[estimator_leaf_nodes]\n",
        "  # check that the leaf has valid label. (For instance, for a fine grained estimator\n",
        "  # only labels 00, 11, .. are valid.)\n",
        "  estimator_conf *= np.array([p in estimator_conf_labels for p in estimator_predictions])\n",
        "  # check that the leaf is pure\n",
        "  estimator_conf *= (estimator.tree_.impurity[estimator_leaf_nodes] == 0.0)\n",
        "  return estimator_conf\n",
        "\n",
        "def get_confident_accuracy(\n",
        "    estimator, suffixes, orig_model_predictions,\n",
        "    gt_labels, estimator_conf_labels, min_samples=10):\n",
        "  \"\"\"\n",
        "  Args:\n",
        "    estimator: the estimator used for confidence modeling\n",
        "    suffixes: the suffixes of the examples over which we evaluate. Typically this\n",
        "      would be 'test_suffixes'.\n",
        "    orig_model_predictions: predictions of the original model for these examples. \n",
        "      Typically this would be 'test_predictions'.\n",
        "    gt_labels: groundtruth labels for these examples. Typically this would be\n",
        "      mnist.test.labels.\n",
        "    estimator_conf_labels: prediction labels for the estimator which must be used\n",
        "      for confidence labels. If the estimator predicts a label outside this set then\n",
        "      the prediction on the example is not considered \"confident\". For the basic_estimator\n",
        "      all labels are fine for confidence modeling. For the fine_grained estimator\n",
        "      we would want to only use the \"pure\" labels for confident modeling. For\n",
        "      instance, 00, 11, ... , for the MNIST fine_grained_estimator.\n",
        "    min_samples: minimum number of samples for an estimator leaf for it to be\n",
        "      considered confident\n",
        "  \"\"\"\n",
        "  estimator_predictions = estimator.predict(suffixes)\n",
        "  estimator_leaf_nodes = estimator.apply(suffixes)\n",
        "\n",
        "  # The following are all binary vectors of shape <len(suffixes)>  \n",
        "  orig_correct = (orig_model_predictions == gt_labels)\n",
        "  estimator_conf = get_estimator_confidence(\n",
        "      estimator, suffixes, estimator_predictions, estimator_leaf_nodes,\n",
        "      estimator_conf_labels)\n",
        "  \n",
        "  estimator_conf = estimator_conf > min_samples\n",
        "  conf_frac = 1.0*np.sum(estimator_conf)/len(suffixes)\n",
        "  overall_acc = 1.0*np.sum(orig_correct)/len(suffixes)\n",
        "  conf_acc = 1.0*np.sum(orig_correct*estimator_conf)/np.sum(estimator_conf)\n",
        " \n",
        "  return conf_frac, overall_acc, conf_acc\n",
        "\n",
        "def get_confident_agreement(\n",
        "    estimator, suffixes, orig_model_predictions,\n",
        "    gt_labels, estimator_conf_labels, min_samples=10):\n",
        "  \"\"\"\n",
        "  Args:\n",
        "    estimator: the estimator used for confidence modeling\n",
        "    suffixes: the suffixes of the examples over which we evaluate. Typically this\n",
        "      would be 'test_suffixes'.\n",
        "    orig_model_predictions: predictions of the original model for these examples. \n",
        "      Typically this would be 'test_predictions'.\n",
        "    gt_labels: groundtruth labels for these examples. Typically this would be\n",
        "      mnist.test.labels.\n",
        "    estimator_conf_labels: prediction labels for the estimator which must be used\n",
        "      for confidence labels. If the estimator predicts a label outside this set then\n",
        "      the prediction on the example is not considered \"confident\". For the basic_estimator\n",
        "      all labels are fine for confidence modeling. For the fine_grained estimator\n",
        "      we would want to only use the \"pure\" labels for confident modeling. For\n",
        "      instance, 00, 11, ... , for the MNIST fine_grained_estimator.\n",
        "    min_samples: minimum number of samples for an estimator leaf for it to be\n",
        "      considered confident\n",
        "  \"\"\"\n",
        "  estimator_predictions = estimator.predict(suffixes)\n",
        "  estimator_leaf_nodes = estimator.apply(suffixes)\n",
        "\n",
        "  # The following are all binary vectors of shape <len(suffixes)>  \n",
        "  orig_correct = (orig_model_predictions == gt_labels)\n",
        "  estimator_conf = get_estimator_confidence(estimator, suffixes, estimator_predictions,\n",
        "      estimator_leaf_nodes, estimator_conf_labels)\n",
        "  estimator_conf = estimator_conf > min_samples\n",
        "\n",
        "  estimator_agreement = (estimator_predictions == orig_model_predictions)\n",
        "  conf_frac = 1.0*np.sum(estimator_conf)/len(suffixes)\n",
        "  overall_agreement = 1.0*np.sum(estimator_agreement)/len(suffixes)\n",
        "  conf_agreement = 1.0*np.sum(estimator_agreement*estimator_conf)/np.sum(estimator_conf)\n",
        " \n",
        "  return conf_frac, overall_agreement, conf_agreement"
      ],
      "execution_count": 0,
      "outputs": []
    },
    {
      "cell_type": "code",
      "metadata": {
        "id": "NFFvwJ0gmG3t",
        "colab_type": "code",
        "outputId": "40f3a066-2c4d-4b80-93e5-747aafadd978",
        "colab": {
          "base_uri": "https://localhost:8080/",
          "height": 212
        }
      },
      "source": [
        "estimator_predictions = basic_estimator.predict(test_suffixes)\n",
        "estimator_leaf_nodes = basic_estimator.apply(test_suffixes)\n",
        "\n",
        "gt = mnist.test.labels\n",
        "estimator_leaf_num_samples = get_estimator_confidence(\n",
        "    basic_estimator, test_suffixes,\n",
        "    estimator_predictions, estimator_leaf_nodes, np.array(range(10)))\n",
        "\n",
        "orig_correct = (test_predictions == gt)\n",
        "estimator_correct = (estimator_predictions == gt)\n",
        "estimator_agreement = (estimator_predictions == test_predictions)\n",
        "\n",
        "min_samples = 2000\n",
        "estimator_conf = estimator_leaf_num_samples > min_samples\n",
        "\n",
        "print \"ORIGINAL MODEL under BASIC ESTIMATOR (min_samples = %d)\" % min_samples\n",
        "print \"Overall Acc\", 1.0*np.mean(orig_correct)\n",
        "print \"Confident fraction\", 1.0*np.mean(estimator_conf)\n",
        "print \"Confident Acc\", 1.0*np.sum(orig_correct*estimator_conf)/np.sum(estimator_conf)\n",
        "\n",
        "print \"\"\n",
        "print \"BASIC ESTIMATOR\"\n",
        "print \"Acc\", np.mean(estimator_correct)\n",
        "print \"Agreement\", np.mean(estimator_agreement)\n",
        "print \"Estimator Confident Acc\", 1.0*np.sum(estimator_correct*estimator_conf)/np.sum(estimator_conf)\n",
        "print \"Estimator Confident Agreement\", 1.0*np.sum(estimator_agreement*estimator_conf)/np.sum(estimator_conf)\n",
        "print \"Combined Acc\", 1.0*np.mean(orig_correct*(1-estimator_conf)) + 1.0*np.mean(estimator_correct*estimator_conf)"
      ],
      "execution_count": 0,
      "outputs": [
        {
          "output_type": "stream",
          "text": [
            "ORIGINAL MODEL under BASIC ESTIMATOR (min_samples = 2000)\n",
            "Overall Acc 0.9943\n",
            "Confident fraction 0.3911\n",
            "Confident Acc 0.999488621836\n",
            "\n",
            "BASIC ESTIMATOR\n",
            "Acc 0.8986\n",
            "Agreement 0.899\n",
            "Estimator Confident Acc 0.994886218358\n",
            "Estimator Confident Agreement 0.994630529276\n",
            "Combined Acc 0.9925\n"
          ],
          "name": "stdout"
        }
      ]
    },
    {
      "cell_type": "markdown",
      "metadata": {
        "id": "X58gW34nAX5M",
        "colab_type": "text"
      },
      "source": [
        ""
      ]
    },
    {
      "cell_type": "code",
      "metadata": {
        "id": "f7RFCHAyqGdK",
        "colab_type": "code",
        "outputId": "13db246f-f7ce-40e9-efe5-657855af92ad",
        "colab": {
          "base_uri": "https://localhost:8080/",
          "height": 70
        }
      },
      "source": [
        "# FINE_GRAINED_ESTIMATOR\n",
        "res = get_confident_accuracy(\n",
        "    fine_grained_estimator, test_suffixes, \n",
        "    test_predictions, mnist.test.labels,\n",
        "    10*np.array(range(10))+np.array(range(10)), min_samples = 5)\n",
        "conf_frac, overall_acc,  conf_acc = res\n",
        "\n",
        "print \"ORIGINAL MODEL under FINE GRAINED ESTIMATOR\"\n",
        "print \"Confident fraction\", conf_frac\n",
        "print \"Confident accuracy\", conf_acc"
      ],
      "execution_count": 0,
      "outputs": [
        {
          "output_type": "stream",
          "text": [
            "ORIGINAL MODEL under FINE GRAINED ESTIMATOR\n",
            "Confident fraction 0.8507\n",
            "Confident accuracy 0.996355942165\n"
          ],
          "name": "stdout"
        }
      ]
    },
    {
      "cell_type": "markdown",
      "metadata": {
        "id": "MYOyiP_eAiGm",
        "colab_type": "text"
      },
      "source": [
        "## Inference Speedup Experiment"
      ]
    },
    {
      "cell_type": "code",
      "metadata": {
        "id": "8pEx5Uj8hCx-",
        "colab_type": "code",
        "outputId": "27e8420c-5536-4a64-a341-24a5ba2710de",
        "colab": {
          "base_uri": "https://localhost:8080/",
          "height": 4764
        }
      },
      "source": [
        "def test_eval_with_estimator(images):\n",
        "  t_decision_layer = graph.get_tensor_by_name('max_pooling2d_1/MaxPool:0')\n",
        "  layer_predictions = get_prediction2(t_image, images, t_decision_layer)\n",
        "  suffixes = (np.reshape(layer_predictions, [-1, 4608]) > 0.0).astype('int')\n",
        "  estimator_predictions = basic_estimator.predict(suffixes)\n",
        "  estimator_leaf_nodes = basic_estimator.apply(suffixes)\n",
        "  non_conf_indices = np.where(basic_estimator.tree_.n_node_samples[estimator_leaf_nodes] < 500)[0]\n",
        "  get_prediction2(t_decision_layer, layer_predictions[non_conf_indices], t_prediction)\n",
        "\n",
        "cProfile.run(\"test_eval_with_estimator(reshaped_test_images)\")"
      ],
      "execution_count": 0,
      "outputs": [
        {
          "output_type": "stream",
          "text": [
            "100%|██████████| 100/100 [00:04<00:00, 19.00it/s]\n",
            "100%|██████████| 45/45 [00:01<00:00, 41.97it/s]\n"
          ],
          "name": "stderr"
        },
        {
          "output_type": "stream",
          "text": [
            "         52588 function calls (52008 primitive calls) in 6.526 seconds\n",
            "\n",
            "   Ordered by: standard name\n",
            "\n",
            "   ncalls  tottime  percall  cumtime  percall filename:lineno(function)\n",
            "        2    0.008    0.004    6.100    3.050 <ipython-input-426-431e42223bfd>:16(get_prediction2)\n",
            "      145    0.002    0.000    5.907    0.041 <ipython-input-426-431e42223bfd>:17(get_prediction_batch)\n",
            "        1    0.087    0.087    6.502    6.502 <ipython-input-451-1242c22687a8>:1(test_eval_with_estimator)\n",
            "        1    0.023    0.023    6.526    6.526 <string>:1(<module>)\n",
            "      145    0.000    0.000    0.001    0.000 <string>:8(__new__)\n",
            "        2    0.000    0.000    0.000    0.000 UserDict.py:35(__getitem__)\n",
            "        2    0.000    0.000    0.000    0.000 __init__.py:29(get_config)\n",
            "        2    0.000    0.000    0.045    0.023 _methods.py:31(_sum)\n",
            "        2    0.000    0.000    0.001    0.000 _monitor.py:32(__init__)\n",
            "        2    0.000    0.000    0.015    0.007 _monitor.py:50(exit)\n",
            "        2    0.000    0.000    0.000    0.000 _monitor.py:97(report)\n",
            "       59    0.000    0.000    0.001    0.000 _tqdm.py:101(release)\n",
            "       59    0.000    0.000    0.002    0.000 _tqdm.py:105(__enter__)\n",
            "       59    0.000    0.000    0.001    0.000 _tqdm.py:108(__exit__)\n",
            "        4    0.000    0.000    0.018    0.004 _tqdm.py:1121(close)\n",
            "        4    0.000    0.000    0.001    0.000 _tqdm.py:1140(fp_write)\n",
            "      102    0.001    0.000    0.001    0.000 _tqdm.py:153(format_interval)\n",
            "       98    0.000    0.000    0.000    0.000 _tqdm.py:194(ema)\n",
            "        2    0.000    0.000    0.000    0.000 _tqdm.py:213(status_printer)\n",
            "       52    0.001    0.000    0.075    0.001 _tqdm.py:223(fp_write)\n",
            "       52    0.000    0.000    0.075    0.001 _tqdm.py:229(print_status)\n",
            "       52    0.001    0.000    0.003    0.000 _tqdm.py:236(format_meter)\n",
            "        2    0.000    0.000    0.001    0.000 _tqdm.py:443(__new__)\n",
            "        2    0.000    0.000    0.000    0.000 _tqdm.py:466(_get_free_pos)\n",
            "        2    0.000    0.000    0.000    0.000 _tqdm.py:469(<genexpr>)\n",
            "        2    0.000    0.000    0.015    0.007 _tqdm.py:473(_decr_instances)\n",
            "        2    0.000    0.000    0.004    0.002 _tqdm.py:689(__init__)\n",
            "        2    0.000    0.000    0.000    0.000 _tqdm.py:930(__del__)\n",
            "       52    0.001    0.000    0.004    0.000 _tqdm.py:933(__repr__)\n",
            "        4    0.000    0.000    0.000    0.000 _tqdm.py:942(_comparable)\n",
            "        4    0.000    0.000    0.000    0.000 _tqdm.py:946(__hash__)\n",
            "      147    0.002    0.000    0.097    0.001 _tqdm.py:949(__iter__)\n",
            "       59    0.000    0.000    0.001    0.000 _tqdm.py:97(acquire)\n",
            "        2    0.000    0.000    0.000    0.000 _utils.py:131(__eq__)\n",
            "        2    0.000    0.000    0.000    0.000 _utils.py:144(_is_utf)\n",
            "        2    0.000    0.000    0.000    0.000 _utils.py:158(_supports_unicode)\n",
            "        2    0.000    0.000    0.000    0.000 _utils.py:165(_environ_cols_wrapper)\n",
            "        2    0.000    0.000    0.000    0.000 _utils.py:217(_environ_cols_linux)\n",
            "        2    0.000    0.000    0.000    0.000 _weakrefset.py:108(remove)\n",
            "        6    0.000    0.000    0.000    0.000 _weakrefset.py:16(__init__)\n",
            "        6    0.000    0.000    0.000    0.000 _weakrefset.py:20(__enter__)\n",
            "        6    0.000    0.000    0.000    0.000 _weakrefset.py:26(__exit__)\n",
            "        6    0.000    0.000    0.000    0.000 _weakrefset.py:52(_commit_removals)\n",
            "        8    0.000    0.000    0.000    0.000 _weakrefset.py:58(__iter__)\n",
            "        2    0.000    0.000    0.000    0.000 _weakrefset.py:67(__len__)\n",
            "      290    0.001    0.000    0.001    0.000 _weakrefset.py:70(__contains__)\n",
            "        2    0.000    0.000    0.000    0.000 _weakrefset.py:83(add)\n",
            "      145    0.001    0.000    0.002    0.000 abc.py:128(__instancecheck__)\n",
            "        2    0.000    0.000    0.000    0.000 atexit.py:37(register)\n",
            "        6    0.000    0.000    0.000    0.000 base.py:1187(isspmatrix)\n",
            "        1    0.000    0.000    0.000    0.000 base.py:549(is_classifier)\n",
            "      290    0.001    0.000    0.009    0.000 c_api_util.py:174(tf_output)\n",
            "      146    0.000    0.000    0.001    0.000 compat.py:42(as_bytes)\n",
            "      145    0.001    0.000    0.002    0.000 context.py:122(push)\n",
            "      145    0.000    0.000    0.000    0.000 context.py:138(pop)\n",
            "      290    0.001    0.000    0.001    0.000 context.py:343(_mode)\n",
            "      290    0.000    0.000    0.000    0.000 context.py:606(context_switches)\n",
            "      435    0.000    0.000    0.000    0.000 context.py:628(context)\n",
            "      145    0.000    0.000    0.001    0.000 context.py:671(graph_mode)\n",
            "      435    0.000    0.000    0.000    0.000 contextlib.py:12(__init__)\n",
            "  435/145    0.001    0.000    0.008    0.000 contextlib.py:15(__enter__)\n",
            "  435/145    0.002    0.000    0.004    0.000 contextlib.py:21(__exit__)\n",
            "      435    0.001    0.000    0.002    0.000 contextlib.py:82(helper)\n",
            "      145    0.000    0.000    0.000    0.000 dtypes.py:125(as_numpy_dtype)\n",
            "        1    0.000    0.000    0.000    0.000 fromnumeric.py:163(reshape)\n",
            "        2    0.000    0.000    0.000    0.000 fromnumeric.py:50(_wrapfunc)\n",
            "        1    0.000    0.000    0.000    0.000 fromnumeric.py:943(argmax)\n",
            "      214    0.003    0.000    0.027    0.000 iostream.py:180(schedule)\n",
            "       56    0.000    0.000    0.000    0.000 iostream.py:284(_is_master_process)\n",
            "       56    0.000    0.000    0.004    0.000 iostream.py:297(_schedule_flush)\n",
            "       52    0.001    0.000    0.064    0.001 iostream.py:311(flush)\n",
            "       56    0.001    0.000    0.011    0.000 iostream.py:342(write)\n",
            "      214    0.001    0.000    0.001    0.000 iostream.py:87(_event_pipe)\n",
            "      145    0.001    0.000    0.002    0.000 lock_util.py:106(_another_group_active)\n",
            "      290    0.000    0.000    0.000    0.000 lock_util.py:108(<genexpr>)\n",
            "      435    0.000    0.000    0.000    0.000 lock_util.py:110(_validate_group_id)\n",
            "      145    0.000    0.000    0.000    0.000 lock_util.py:119(__init__)\n",
            "      145    0.000    0.000    0.003    0.000 lock_util.py:123(__enter__)\n",
            "      145    0.000    0.000    0.003    0.000 lock_util.py:126(__exit__)\n",
            "      145    0.002    0.000    0.002    0.000 lock_util.py:74(group)\n",
            "      145    0.001    0.000    0.003    0.000 lock_util.py:86(acquire)\n",
            "      145    0.001    0.000    0.003    0.000 lock_util.py:96(release)\n",
            "      145    0.002    0.000    0.004    0.000 nest.py:189(flatten_dict_items)\n",
            "      145    0.000    0.000    0.001    0.000 numeric.py:424(asarray)\n",
            "        4    0.000    0.000    0.000    0.000 numeric.py:495(asanyarray)\n",
            "      291    0.000    0.000    0.001    0.000 ops.py:137(_as_graph_element)\n",
            "      435    0.001    0.000    0.002    0.000 ops.py:1896(name)\n",
            "        1    0.000    0.000    0.000    0.000 ops.py:2102(outputs)\n",
            "      290    0.000    0.000    0.002    0.000 ops.py:2229(type)\n",
            "      290    0.000    0.000    0.000    0.000 ops.py:2234(graph)\n",
            "      145    0.001    0.000    0.004    0.000 ops.py:2953(version)\n",
            "      145    0.000    0.000    0.000    0.000 ops.py:3187(building_function)\n",
            "      870    0.000    0.000    0.000    0.000 ops.py:336(op)\n",
            "      145    0.000    0.000    0.000    0.000 ops.py:341(dtype)\n",
            "      291    0.001    0.000    0.008    0.000 ops.py:3457(as_graph_element)\n",
            "      290    0.001    0.000    0.001    0.000 ops.py:346(graph)\n",
            "      291    0.002    0.000    0.004    0.000 ops.py:3492(_as_graph_element_locked)\n",
            "      145    0.002    0.000    0.004    0.000 ops.py:351(name)\n",
            "      145    0.000    0.000    0.000    0.000 ops.py:363(shape)\n",
            "        1    0.000    0.000    0.000    0.000 ops.py:3647(get_tensor_by_name)\n",
            "      145    0.001    0.000    0.001    0.000 ops.py:3706(as_default)\n",
            "      145    0.000    0.000    0.000    0.000 ops.py:4750(is_feedable)\n",
            "      145    0.000    0.000    0.000    0.000 ops.py:4758(is_fetchable)\n",
            "      145    0.000    0.000    0.003    0.000 ops.py:4896(_session_run_lock)\n",
            "      145    0.000    0.000    0.001    0.000 ops.py:492(get_shape)\n",
            "      145    0.000    0.000    0.000    0.000 ops.py:5015(get_default)\n",
            "      290    0.001    0.000    0.001    0.000 ops.py:5032(get_controller)\n",
            "      145    0.000    0.000    0.001    0.000 ops.py:5202(get_default)\n",
            "      290    0.004    0.000    0.011    0.000 ops.py:5222(get_controller)\n",
            "      145    0.000    0.000    0.001    0.000 ops.py:5545(get_default_graph)\n",
            "      290    0.000    0.000    0.000    0.000 ops.py:563(value_index)\n",
            "      290    0.001    0.000    0.011    0.000 ops.py:602(_as_tf_output)\n",
            "     1305    0.001    0.000    0.001    0.000 ops.py:619(__hash__)\n",
            "      870    0.001    0.000    0.003    0.000 pywrap_tensorflow_internal.py:1038(<lambda>)\n",
            "      290    0.000    0.000    0.002    0.000 pywrap_tensorflow_internal.py:1040(<lambda>)\n",
            "      290    0.002    0.000    0.006    0.000 pywrap_tensorflow_internal.py:1051(__init__)\n",
            "      290    0.000    0.000    0.000    0.000 pywrap_tensorflow_internal.py:1058(<lambda>)\n",
            "      145    0.001    0.000    0.001    0.000 pywrap_tensorflow_internal.py:2072(IsSequence)\n",
            "      870    0.001    0.000    0.002    0.000 pywrap_tensorflow_internal.py:39(_swig_setattr_nondynamic)\n",
            "      870    0.001    0.000    0.003    0.000 pywrap_tensorflow_internal.py:58(_swig_setattr)\n",
            "      290    0.001    0.000    0.001    0.000 pywrap_tensorflow_internal.py:62(_swig_getattr_nondynamic)\n",
            "      290    0.001    0.000    0.002    0.000 pywrap_tensorflow_internal.py:73(_swig_getattr)\n",
            "      145    0.015    0.000    5.856    0.040 session.py:1063(_run)\n",
            "      145    0.001    0.000    0.001    0.000 session.py:1066(_feed_fn)\n",
            "      145    0.000    0.000    0.000    0.000 session.py:127(<lambda>)\n",
            "      145    0.000    0.000    0.000    0.000 session.py:128(<lambda>)\n",
            "      145    0.002    0.000    5.767    0.040 session.py:1288(_do_run)\n",
            "      290    0.000    0.000    0.008    0.000 session.py:1310(<genexpr>)\n",
            "      145    0.001    0.000    5.753    0.040 session.py:1315(_run_fn)\n",
            "      145    0.001    0.000    5.754    0.040 session.py:1332(_do_call)\n",
            "      145    0.001    0.000    0.010    0.000 session.py:1350(_extend_graph)\n",
            "      145    0.001    0.000    0.002    0.000 session.py:1377(_update_with_movers)\n",
            "      145    0.001    0.000    5.742    0.040 session.py:1403(_call_tf_sessionrun)\n",
            "      145    0.000    0.000    0.000    0.000 session.py:194(_is_attrs_instance)\n",
            "      145    0.001    0.000    0.010    0.000 session.py:242(for_fetch)\n",
            "      145    0.001    0.000    0.005    0.000 session.py:280(__init__)\n",
            "      145    0.000    0.000    0.000    0.000 session.py:313(unique_fetches)\n",
            "      145    0.001    0.000    0.001    0.000 session.py:316(build_results)\n",
            "      145    0.006    0.000    0.032    0.000 session.py:458(__init__)\n",
            "      145    0.000    0.000    0.001    0.000 session.py:494(_assert_fetchable)\n",
            "      145    0.000    0.000    0.000    0.000 session.py:499(fetches)\n",
            "      145    0.000    0.000    0.000    0.000 session.py:507(targets)\n",
            "      145    0.004    0.000    0.006    0.000 session.py:515(build_results)\n",
            "      580    0.000    0.000    0.000    0.000 session.py:746(graph)\n",
            "      145    0.002    0.000    5.857    0.040 session.py:819(run)\n",
            "      145    0.000    0.000    0.001    0.000 session_ops.py:255(_get_handle_feeder)\n",
            "      145    0.000    0.000    0.001    0.000 session_ops.py:275(_get_handle_mover)\n",
            "        2    0.000    0.000    0.000    0.000 shape_base.py:63(atleast_2d)\n",
            "      145    0.000    0.000    0.001    0.000 six.py:604(iteritems)\n",
            "      214    0.013    0.000    0.013    0.000 socket.py:333(send)\n",
            "      580    0.001    0.000    0.002    0.000 tensor_shape.py:30(__init__)\n",
            "     1160    0.001    0.000    0.003    0.000 tensor_shape.py:466(as_dimension)\n",
            "      145    0.001    0.000    0.005    0.000 tensor_shape.py:507(__init__)\n",
            "      290    0.000    0.000    0.000    0.000 tensor_shape.py:556(dims)\n",
            "      290    0.000    0.000    0.000    0.000 tensor_shape.py:566(ndims)\n",
            "      145    0.002    0.000    0.010    0.000 tensor_shape.py:788(is_compatible_with)\n",
            "      870    0.000    0.000    0.000    0.000 tensor_shape.py:83(value)\n",
            "      580    0.001    0.000    0.002    0.000 tensor_shape.py:88(is_compatible_with)\n",
            "      145    0.001    0.000    0.006    0.000 tensor_shape.py:942(as_shape)\n",
            "        2    0.000    0.000    0.000    0.000 threading.py:1015(daemon)\n",
            "        4    0.000    0.000    0.000    0.000 threading.py:1143(currentThread)\n",
            "      495    0.003    0.000    0.004    0.000 threading.py:147(acquire)\n",
            "      495    0.002    0.000    0.002    0.000 threading.py:187(release)\n",
            "      436    0.001    0.000    0.002    0.000 threading.py:215(__exit__)\n",
            "       58    0.000    0.000    0.001    0.000 threading.py:242(Condition)\n",
            "       58    0.001    0.000    0.001    0.000 threading.py:260(__init__)\n",
            "       56    0.000    0.000    0.001    0.000 threading.py:285(__enter__)\n",
            "       56    0.000    0.000    0.000    0.000 threading.py:288(__exit__)\n",
            "       54    0.000    0.000    0.000    0.000 threading.py:294(_release_save)\n",
            "       54    0.000    0.000    0.001    0.000 threading.py:297(_acquire_restore)\n",
            "      201    0.000    0.000    0.002    0.000 threading.py:300(_is_owned)\n",
            "       54    0.001    0.000    0.056    0.001 threading.py:309(wait)\n",
            "      147    0.001    0.000    0.001    0.000 threading.py:373(notify)\n",
            "      147    0.001    0.000    0.002    0.000 threading.py:400(notifyAll)\n",
            "       56    0.000    0.000    0.002    0.000 threading.py:542(Event)\n",
            "       56    0.000    0.000    0.002    0.000 threading.py:561(__init__)\n",
            "      274    0.000    0.000    0.000    0.000 threading.py:570(isSet)\n",
            "        2    0.000    0.000    0.000    0.000 threading.py:576(set)\n",
            "      116    0.000    0.000    0.000    0.000 threading.py:59(__init__)\n",
            "       54    0.001    0.000    0.043    0.001 threading.py:597(wait)\n",
            "        2    0.000    0.000    0.000    0.000 threading.py:620(_newname)\n",
            "     1197    0.000    0.000    0.000    0.000 threading.py:64(_note)\n",
            "        2    0.000    0.000    0.000    0.000 threading.py:647(__init__)\n",
            "        2    0.000    0.000    0.000    0.000 threading.py:700(_set_daemon)\n",
            "        2    0.000    0.000    0.000    0.000 threading.py:717(start)\n",
            "        2    0.000    0.000    0.015    0.007 threading.py:902(join)\n",
            "      266    0.000    0.000    0.001    0.000 threading.py:986(isAlive)\n",
            "        2    0.000    0.000    0.000    0.000 threading.py:999(daemon)\n",
            "        2    0.000    0.000    0.209    0.104 tree.py:370(_validate_X_predict)\n",
            "        1    0.000    0.000    0.114    0.114 tree.py:388(predict)\n",
            "        1    0.000    0.000    0.110    0.110 tree.py:439(apply)\n",
            "        2    0.000    0.000    0.000    0.000 validation.py:104(_num_samples)\n",
            "        2    0.000    0.000    0.000    0.000 validation.py:125(_shape_repr)\n",
            "        6    0.000    0.000    0.000    0.000 validation.py:152(<genexpr>)\n",
            "        2    0.000    0.000    0.209    0.104 validation.py:310(check_array)\n",
            "        2    0.000    0.000    0.045    0.023 validation.py:33(_assert_all_finite)\n",
            "        2    0.000    0.000    0.000    0.000 validation.py:720(check_is_fitted)\n",
            "      145    0.001    0.000    0.001    0.000 {_pywrap_tensorflow_internal.ExtendSession}\n",
            "      145    0.001    0.000    0.001    0.000 {_pywrap_tensorflow_internal.IsSequence}\n",
            "      435    0.001    0.000    0.001    0.000 {_pywrap_tensorflow_internal.TF_OperationName}\n",
            "      290    0.002    0.000    0.002    0.000 {_pywrap_tensorflow_internal.TF_OperationOpType}\n",
            "      290    0.000    0.000    0.000    0.000 {_pywrap_tensorflow_internal.TF_Output_index_set}\n",
            "      290    0.000    0.000    0.000    0.000 {_pywrap_tensorflow_internal.TF_Output_oper_set}\n",
            "      145    5.741    0.040    5.741    0.040 {_pywrap_tensorflow_internal.TF_SessionRun_wrapper}\n",
            "      290    0.000    0.000    0.000    0.000 {_pywrap_tensorflow_internal.new_TF_Output}\n",
            "        6    0.000    0.000    0.000    0.000 {abs}\n",
            "        2    0.000    0.000    0.000    0.000 {all}\n",
            "      145    0.000    0.000    0.001    0.000 {any}\n",
            "      147    0.000    0.000    0.000    0.000 {built-in method __new__ of type object at 0x5628c44559c0}\n",
            "      256    0.000    0.000    0.000    0.000 {divmod}\n",
            "        2    0.000    0.000    0.000    0.000 {fcntl.ioctl}\n",
            "      592    0.001    0.000    0.001    0.000 {getattr}\n",
            "       16    0.000    0.000    0.000    0.000 {hasattr}\n",
            "     1309    0.000    0.000    0.000    0.000 {id}\n",
            "     6162    0.003    0.000    0.005    0.000 {isinstance}\n",
            "      145    0.000    0.000    0.000    0.000 {iter}\n",
            "      942    0.000    0.000    0.000    0.000 {len}\n",
            "      106    0.000    0.000    0.000    0.000 {max}\n",
            "       56    0.001    0.000    0.001    0.000 {method '__enter__' of 'thread.lock' objects}\n",
            "       56    0.000    0.000    0.000    0.000 {method '__exit__' of 'thread.lock' objects}\n",
            "       59    0.000    0.000    0.000    0.000 {method 'acquire' of '_multiprocessing.SemLock' objects}\n",
            "     1150    0.055    0.000    0.055    0.000 {method 'acquire' of 'thread.lock' objects}\n",
            "        8    0.000    0.000    0.000    0.000 {method 'add' of 'set' objects}\n",
            "      928    0.000    0.000    0.000    0.000 {method 'append' of 'list' objects}\n",
            "        1    0.007    0.007    0.007    0.007 {method 'apply' of 'sklearn.tree._tree.Tree' objects}\n",
            "        1    0.000    0.000    0.000    0.000 {method 'argmax' of 'numpy.ndarray' objects}\n",
            "        1    0.093    0.093    0.093    0.093 {method 'astype' of 'numpy.ndarray' objects}\n",
            "        2    0.000    0.000    0.000    0.000 {method 'difference' of 'set' objects}\n",
            "        1    0.000    0.000    0.000    0.000 {method 'disable' of '_lsprof.Profiler' objects}\n",
            "      147    0.001    0.000    0.001    0.000 {method 'encode' of 'unicode' objects}\n",
            "      306    0.001    0.000    0.001    0.000 {method 'format' of 'str' objects}\n",
            "     1305    0.001    0.000    0.001    0.000 {method 'get' of 'dict' objects}\n",
            "      435    0.000    0.000    0.000    0.000 {method 'items' of 'dict' objects}\n",
            "      145    0.000    0.000    0.000    0.000 {method 'iteritems' of 'dict' objects}\n",
            "        2    0.000    0.000    0.000    0.000 {method 'join' of 'str' objects}\n",
            "      290    0.000    0.000    0.000    0.000 {method 'pop' of 'list' objects}\n",
            "        1    0.007    0.007    0.007    0.007 {method 'predict' of 'sklearn.tree._tree.Tree' objects}\n",
            "        2    0.045    0.023    0.045    0.023 {method 'reduce' of 'numpy.ufunc' objects}\n",
            "       59    0.000    0.000    0.000    0.000 {method 'release' of '_multiprocessing.SemLock' objects}\n",
            "      843    0.000    0.000    0.000    0.000 {method 'release' of 'thread.lock' objects}\n",
            "        2    0.000    0.000    0.000    0.000 {method 'remove' of 'list' objects}\n",
            "        8    0.000    0.000    0.000    0.000 {method 'remove' of 'set' objects}\n",
            "        1    0.000    0.000    0.000    0.000 {method 'reshape' of 'numpy.ndarray' objects}\n",
            "        1    0.000    0.000    0.000    0.000 {method 'split' of 'str' objects}\n",
            "        2    0.000    0.000    0.045    0.023 {method 'sum' of 'numpy.ndarray' objects}\n",
            "        1    0.000    0.000    0.000    0.000 {method 'take' of 'numpy.ndarray' objects}\n",
            "        2    0.000    0.000    0.000    0.000 {min}\n",
            "      298    0.211    0.001    0.211    0.001 {numpy.core.multiarray.array}\n",
            "        2    0.083    0.042    0.083    0.042 {numpy.core.multiarray.concatenate}\n",
            "        1    0.000    0.000    0.000    0.000 {numpy.core.multiarray.where}\n",
            "       56    0.000    0.000    0.000    0.000 {posix.getpid}\n",
            "      214    0.011    0.000    0.011    0.000 {posix.urandom}\n",
            "        4    0.000    0.000    0.000    0.000 {range}\n",
            "      112    0.000    0.000    0.000    0.000 {thread.allocate_lock}\n",
            "      994    0.000    0.000    0.000    0.000 {thread.get_ident}\n",
            "        2    0.000    0.000    0.000    0.000 {thread.start_new_thread}\n",
            "      172    0.000    0.000    0.000    0.000 {time.time}\n",
            "       91    0.000    0.000    0.000    0.000 {unichr}\n",
            "      145    0.000    0.000    0.000    0.000 {zip}\n",
            "\n",
            "\n"
          ],
          "name": "stdout"
        }
      ]
    },
    {
      "cell_type": "code",
      "metadata": {
        "id": "tR_8C8FMxZue",
        "colab_type": "code",
        "outputId": "ad265acf-59c2-4794-db8d-6b3b76be4ecf",
        "colab": {
          "base_uri": "https://localhost:8080/",
          "height": 4162
        }
      },
      "source": [
        "reshaped_test_images = np.reshape(mnist.test.images, [len(mnist.test.images), 28, 28, 1])\n",
        "cProfile.run(\"get_prediction2(t_image, reshaped_test_images, t_prediction)\")"
      ],
      "execution_count": 0,
      "outputs": [
        {
          "output_type": "stream",
          "text": [
            "100%|██████████| 100/100 [00:07<00:00, 13.78it/s]\n"
          ],
          "name": "stderr"
        },
        {
          "output_type": "stream",
          "text": [
            "         37565 function calls (37165 primitive calls) in 7.258 seconds\n",
            "\n",
            "   Ordered by: standard name\n",
            "\n",
            "   ncalls  tottime  percall  cumtime  percall filename:lineno(function)\n",
            "        1    0.004    0.004    7.258    7.258 <ipython-input-426-431e42223bfd>:16(get_prediction2)\n",
            "      100    0.001    0.000    7.123    0.071 <ipython-input-426-431e42223bfd>:17(get_prediction_batch)\n",
            "        1    0.000    0.000    7.258    7.258 <string>:1(<module>)\n",
            "      100    0.000    0.000    0.000    0.000 <string>:8(__new__)\n",
            "        1    0.000    0.000    0.000    0.000 UserDict.py:35(__getitem__)\n",
            "        1    0.000    0.000    0.007    0.007 _monitor.py:32(__init__)\n",
            "        1    0.000    0.000    0.039    0.039 _monitor.py:50(exit)\n",
            "        1    0.000    0.000    0.000    0.000 _monitor.py:97(report)\n",
            "       55    0.000    0.000    0.002    0.000 _tqdm.py:101(release)\n",
            "       55    0.000    0.000    0.002    0.000 _tqdm.py:105(__enter__)\n",
            "       55    0.000    0.000    0.002    0.000 _tqdm.py:108(__exit__)\n",
            "        2    0.000    0.000    0.040    0.020 _tqdm.py:1121(close)\n",
            "        2    0.000    0.000    0.001    0.000 _tqdm.py:1140(fp_write)\n",
            "      101    0.001    0.000    0.001    0.000 _tqdm.py:153(format_interval)\n",
            "      100    0.000    0.000    0.000    0.000 _tqdm.py:194(ema)\n",
            "        1    0.000    0.000    0.000    0.000 _tqdm.py:213(status_printer)\n",
            "       51    0.001    0.000    0.073    0.001 _tqdm.py:223(fp_write)\n",
            "       51    0.000    0.000    0.074    0.001 _tqdm.py:229(print_status)\n",
            "       51    0.001    0.000    0.003    0.000 _tqdm.py:236(format_meter)\n",
            "        1    0.000    0.000    0.007    0.007 _tqdm.py:443(__new__)\n",
            "        1    0.000    0.000    0.000    0.000 _tqdm.py:466(_get_free_pos)\n",
            "        1    0.000    0.000    0.000    0.000 _tqdm.py:469(<genexpr>)\n",
            "        1    0.000    0.000    0.039    0.039 _tqdm.py:473(_decr_instances)\n",
            "        1    0.000    0.000    0.005    0.005 _tqdm.py:689(__init__)\n",
            "        1    0.000    0.000    0.000    0.000 _tqdm.py:930(__del__)\n",
            "       51    0.001    0.000    0.004    0.000 _tqdm.py:933(__repr__)\n",
            "        2    0.000    0.000    0.000    0.000 _tqdm.py:942(_comparable)\n",
            "        2    0.000    0.000    0.000    0.000 _tqdm.py:946(__hash__)\n",
            "      101    0.002    0.000    0.118    0.001 _tqdm.py:949(__iter__)\n",
            "       55    0.001    0.000    0.002    0.000 _tqdm.py:97(acquire)\n",
            "        1    0.000    0.000    0.000    0.000 _utils.py:131(__eq__)\n",
            "        1    0.000    0.000    0.000    0.000 _utils.py:144(_is_utf)\n",
            "        1    0.000    0.000    0.000    0.000 _utils.py:158(_supports_unicode)\n",
            "        1    0.000    0.000    0.000    0.000 _utils.py:165(_environ_cols_wrapper)\n",
            "        1    0.000    0.000    0.000    0.000 _utils.py:217(_environ_cols_linux)\n",
            "        1    0.000    0.000    0.000    0.000 _weakrefset.py:108(remove)\n",
            "        3    0.000    0.000    0.000    0.000 _weakrefset.py:16(__init__)\n",
            "        3    0.000    0.000    0.000    0.000 _weakrefset.py:20(__enter__)\n",
            "        3    0.000    0.000    0.000    0.000 _weakrefset.py:26(__exit__)\n",
            "        3    0.000    0.000    0.000    0.000 _weakrefset.py:52(_commit_removals)\n",
            "        4    0.000    0.000    0.000    0.000 _weakrefset.py:58(__iter__)\n",
            "        1    0.000    0.000    0.000    0.000 _weakrefset.py:67(__len__)\n",
            "      200    0.000    0.000    0.000    0.000 _weakrefset.py:70(__contains__)\n",
            "        1    0.000    0.000    0.000    0.000 _weakrefset.py:83(add)\n",
            "      100    0.001    0.000    0.001    0.000 abc.py:128(__instancecheck__)\n",
            "        1    0.000    0.000    0.000    0.000 atexit.py:37(register)\n",
            "      200    0.001    0.000    0.006    0.000 c_api_util.py:174(tf_output)\n",
            "      100    0.000    0.000    0.001    0.000 compat.py:42(as_bytes)\n",
            "      100    0.001    0.000    0.001    0.000 context.py:122(push)\n",
            "      100    0.000    0.000    0.000    0.000 context.py:138(pop)\n",
            "      200    0.001    0.000    0.001    0.000 context.py:343(_mode)\n",
            "      200    0.000    0.000    0.000    0.000 context.py:606(context_switches)\n",
            "      300    0.000    0.000    0.000    0.000 context.py:628(context)\n",
            "      100    0.000    0.000    0.001    0.000 context.py:671(graph_mode)\n",
            "      300    0.000    0.000    0.000    0.000 contextlib.py:12(__init__)\n",
            "  300/100    0.001    0.000    0.005    0.000 contextlib.py:15(__enter__)\n",
            "  300/100    0.001    0.000    0.003    0.000 contextlib.py:21(__exit__)\n",
            "      300    0.001    0.000    0.001    0.000 contextlib.py:82(helper)\n",
            "      100    0.000    0.000    0.000    0.000 dtypes.py:125(as_numpy_dtype)\n",
            "      207    0.002    0.000    0.026    0.000 iostream.py:180(schedule)\n",
            "       53    0.000    0.000    0.000    0.000 iostream.py:284(_is_master_process)\n",
            "       53    0.000    0.000    0.004    0.000 iostream.py:297(_schedule_flush)\n",
            "       51    0.001    0.000    0.062    0.001 iostream.py:311(flush)\n",
            "       53    0.001    0.000    0.011    0.000 iostream.py:342(write)\n",
            "      207    0.001    0.000    0.001    0.000 iostream.py:87(_event_pipe)\n",
            "      100    0.001    0.000    0.001    0.000 lock_util.py:106(_another_group_active)\n",
            "      200    0.000    0.000    0.000    0.000 lock_util.py:108(<genexpr>)\n",
            "      300    0.000    0.000    0.000    0.000 lock_util.py:110(_validate_group_id)\n",
            "      100    0.000    0.000    0.000    0.000 lock_util.py:119(__init__)\n",
            "      100    0.000    0.000    0.002    0.000 lock_util.py:123(__enter__)\n",
            "      100    0.000    0.000    0.002    0.000 lock_util.py:126(__exit__)\n",
            "      100    0.000    0.000    0.001    0.000 lock_util.py:74(group)\n",
            "      100    0.001    0.000    0.002    0.000 lock_util.py:86(acquire)\n",
            "      100    0.001    0.000    0.002    0.000 lock_util.py:96(release)\n",
            "      100    0.001    0.000    0.002    0.000 nest.py:189(flatten_dict_items)\n",
            "      100    0.000    0.000    0.001    0.000 numeric.py:424(asarray)\n",
            "      200    0.000    0.000    0.001    0.000 ops.py:137(_as_graph_element)\n",
            "      300    0.000    0.000    0.001    0.000 ops.py:1896(name)\n",
            "      200    0.000    0.000    0.001    0.000 ops.py:2229(type)\n",
            "      200    0.000    0.000    0.000    0.000 ops.py:2234(graph)\n",
            "      100    0.001    0.000    0.004    0.000 ops.py:2953(version)\n",
            "      100    0.000    0.000    0.000    0.000 ops.py:3187(building_function)\n",
            "      600    0.000    0.000    0.000    0.000 ops.py:336(op)\n",
            "      100    0.000    0.000    0.000    0.000 ops.py:341(dtype)\n",
            "      200    0.001    0.000    0.006    0.000 ops.py:3457(as_graph_element)\n",
            "      200    0.000    0.000    0.001    0.000 ops.py:346(graph)\n",
            "      200    0.001    0.000    0.003    0.000 ops.py:3492(_as_graph_element_locked)\n",
            "      100    0.002    0.000    0.003    0.000 ops.py:351(name)\n",
            "      100    0.000    0.000    0.000    0.000 ops.py:363(shape)\n",
            "      100    0.000    0.000    0.001    0.000 ops.py:3706(as_default)\n",
            "      100    0.000    0.000    0.000    0.000 ops.py:4750(is_feedable)\n",
            "      100    0.000    0.000    0.000    0.000 ops.py:4758(is_fetchable)\n",
            "      100    0.000    0.000    0.001    0.000 ops.py:4896(_session_run_lock)\n",
            "      100    0.000    0.000    0.000    0.000 ops.py:492(get_shape)\n",
            "      100    0.000    0.000    0.000    0.000 ops.py:5015(get_default)\n",
            "      200    0.000    0.000    0.001    0.000 ops.py:5032(get_controller)\n",
            "      100    0.000    0.000    0.000    0.000 ops.py:5202(get_default)\n",
            "      200    0.002    0.000    0.007    0.000 ops.py:5222(get_controller)\n",
            "      100    0.000    0.000    0.001    0.000 ops.py:5545(get_default_graph)\n",
            "      200    0.000    0.000    0.000    0.000 ops.py:563(value_index)\n",
            "      200    0.001    0.000    0.007    0.000 ops.py:602(_as_tf_output)\n",
            "      900    0.001    0.000    0.001    0.000 ops.py:619(__hash__)\n",
            "      600    0.000    0.000    0.002    0.000 pywrap_tensorflow_internal.py:1038(<lambda>)\n",
            "      200    0.000    0.000    0.001    0.000 pywrap_tensorflow_internal.py:1040(<lambda>)\n",
            "      200    0.001    0.000    0.004    0.000 pywrap_tensorflow_internal.py:1051(__init__)\n",
            "      200    0.000    0.000    0.000    0.000 pywrap_tensorflow_internal.py:1058(<lambda>)\n",
            "      100    0.000    0.000    0.001    0.000 pywrap_tensorflow_internal.py:2072(IsSequence)\n",
            "      600    0.001    0.000    0.002    0.000 pywrap_tensorflow_internal.py:39(_swig_setattr_nondynamic)\n",
            "      600    0.000    0.000    0.002    0.000 pywrap_tensorflow_internal.py:58(_swig_setattr)\n",
            "      200    0.001    0.000    0.001    0.000 pywrap_tensorflow_internal.py:62(_swig_getattr_nondynamic)\n",
            "      200    0.000    0.000    0.001    0.000 pywrap_tensorflow_internal.py:73(_swig_getattr)\n",
            "      100    0.009    0.000    7.102    0.071 session.py:1063(_run)\n",
            "      100    0.001    0.000    0.001    0.000 session.py:1066(_feed_fn)\n",
            "      100    0.000    0.000    0.000    0.000 session.py:127(<lambda>)\n",
            "      100    0.000    0.000    0.000    0.000 session.py:128(<lambda>)\n",
            "      100    0.001    0.000    7.043    0.070 session.py:1288(_do_run)\n",
            "      200    0.000    0.000    0.005    0.000 session.py:1310(<genexpr>)\n",
            "      100    0.001    0.000    7.034    0.070 session.py:1315(_run_fn)\n",
            "      100    0.000    0.000    7.034    0.070 session.py:1332(_do_call)\n",
            "      100    0.001    0.000    0.006    0.000 session.py:1350(_extend_graph)\n",
            "      100    0.001    0.000    0.001    0.000 session.py:1377(_update_with_movers)\n",
            "      100    0.001    0.000    7.027    0.070 session.py:1403(_call_tf_sessionrun)\n",
            "      100    0.000    0.000    0.000    0.000 session.py:194(_is_attrs_instance)\n",
            "      100    0.001    0.000    0.007    0.000 session.py:242(for_fetch)\n",
            "      100    0.001    0.000    0.004    0.000 session.py:280(__init__)\n",
            "      100    0.000    0.000    0.000    0.000 session.py:313(unique_fetches)\n",
            "      100    0.000    0.000    0.000    0.000 session.py:316(build_results)\n",
            "      100    0.003    0.000    0.020    0.000 session.py:458(__init__)\n",
            "      100    0.000    0.000    0.000    0.000 session.py:494(_assert_fetchable)\n",
            "      100    0.000    0.000    0.000    0.000 session.py:499(fetches)\n",
            "      100    0.000    0.000    0.000    0.000 session.py:507(targets)\n",
            "      100    0.002    0.000    0.004    0.000 session.py:515(build_results)\n",
            "      400    0.000    0.000    0.000    0.000 session.py:746(graph)\n",
            "      100    0.001    0.000    7.103    0.071 session.py:819(run)\n",
            "      100    0.000    0.000    0.001    0.000 session_ops.py:255(_get_handle_feeder)\n",
            "      100    0.000    0.000    0.001    0.000 session_ops.py:275(_get_handle_mover)\n",
            "      100    0.000    0.000    0.000    0.000 six.py:604(iteritems)\n",
            "      207    0.013    0.000    0.013    0.000 socket.py:333(send)\n",
            "      400    0.001    0.000    0.001    0.000 tensor_shape.py:30(__init__)\n",
            "      800    0.001    0.000    0.002    0.000 tensor_shape.py:466(as_dimension)\n",
            "      100    0.001    0.000    0.004    0.000 tensor_shape.py:507(__init__)\n",
            "      200    0.000    0.000    0.000    0.000 tensor_shape.py:556(dims)\n",
            "      200    0.000    0.000    0.000    0.000 tensor_shape.py:566(ndims)\n",
            "      100    0.001    0.000    0.007    0.000 tensor_shape.py:788(is_compatible_with)\n",
            "      600    0.000    0.000    0.000    0.000 tensor_shape.py:83(value)\n",
            "      400    0.001    0.000    0.001    0.000 tensor_shape.py:88(is_compatible_with)\n",
            "      100    0.000    0.000    0.004    0.000 tensor_shape.py:942(as_shape)\n",
            "        1    0.000    0.000    0.000    0.000 threading.py:1015(daemon)\n",
            "        2    0.000    0.000    0.000    0.000 threading.py:1143(currentThread)\n",
            "      355    0.002    0.000    0.003    0.000 threading.py:147(acquire)\n",
            "      355    0.003    0.000    0.003    0.000 threading.py:187(release)\n",
            "      300    0.000    0.000    0.002    0.000 threading.py:215(__exit__)\n",
            "       54    0.000    0.000    0.001    0.000 threading.py:242(Condition)\n",
            "       54    0.001    0.000    0.001    0.000 threading.py:260(__init__)\n",
            "       53    0.001    0.000    0.003    0.000 threading.py:285(__enter__)\n",
            "       53    0.000    0.000    0.000    0.000 threading.py:288(__exit__)\n",
            "       52    0.000    0.000    0.000    0.000 threading.py:294(_release_save)\n",
            "       52    0.000    0.000    0.000    0.000 threading.py:297(_acquire_restore)\n",
            "      153    0.001    0.000    0.011    0.000 threading.py:300(_is_owned)\n",
            "       52    0.001    0.000    0.083    0.002 threading.py:309(wait)\n",
            "      101    0.000    0.000    0.001    0.000 threading.py:373(notify)\n",
            "      101    0.000    0.000    0.001    0.000 threading.py:400(notifyAll)\n",
            "       53    0.001    0.000    0.003    0.000 threading.py:542(Event)\n",
            "       53    0.000    0.000    0.002    0.000 threading.py:561(__init__)\n",
            "      262    0.000    0.000    0.000    0.000 threading.py:570(isSet)\n",
            "        1    0.000    0.000    0.000    0.000 threading.py:576(set)\n",
            "      108    0.000    0.000    0.000    0.000 threading.py:59(__init__)\n",
            "       52    0.002    0.000    0.049    0.001 threading.py:597(wait)\n",
            "        1    0.000    0.000    0.000    0.000 threading.py:620(_newname)\n",
            "      866    0.000    0.000    0.000    0.000 threading.py:64(_note)\n",
            "        1    0.000    0.000    0.000    0.000 threading.py:647(__init__)\n",
            "        1    0.000    0.000    0.000    0.000 threading.py:700(_set_daemon)\n",
            "        1    0.000    0.000    0.007    0.007 threading.py:717(start)\n",
            "        1    0.000    0.000    0.039    0.039 threading.py:902(join)\n",
            "      258    0.001    0.000    0.001    0.000 threading.py:986(isAlive)\n",
            "        1    0.000    0.000    0.000    0.000 threading.py:999(daemon)\n",
            "      100    0.000    0.000    0.000    0.000 {_pywrap_tensorflow_internal.ExtendSession}\n",
            "      100    0.000    0.000    0.000    0.000 {_pywrap_tensorflow_internal.IsSequence}\n",
            "      300    0.001    0.000    0.001    0.000 {_pywrap_tensorflow_internal.TF_OperationName}\n",
            "      200    0.001    0.000    0.001    0.000 {_pywrap_tensorflow_internal.TF_OperationOpType}\n",
            "      200    0.000    0.000    0.000    0.000 {_pywrap_tensorflow_internal.TF_Output_index_set}\n",
            "      200    0.000    0.000    0.000    0.000 {_pywrap_tensorflow_internal.TF_Output_oper_set}\n",
            "      100    7.026    0.070    7.026    0.070 {_pywrap_tensorflow_internal.TF_SessionRun_wrapper}\n",
            "      200    0.000    0.000    0.000    0.000 {_pywrap_tensorflow_internal.new_TF_Output}\n",
            "        3    0.000    0.000    0.000    0.000 {abs}\n",
            "      100    0.000    0.000    0.000    0.000 {any}\n",
            "      101    0.000    0.000    0.000    0.000 {built-in method __new__ of type object at 0x5628c44559c0}\n",
            "      253    0.000    0.000    0.000    0.000 {divmod}\n",
            "        1    0.000    0.000    0.000    0.000 {fcntl.ioctl}\n",
            "      403    0.001    0.000    0.001    0.000 {getattr}\n",
            "        2    0.000    0.000    0.000    0.000 {hasattr}\n",
            "      902    0.000    0.000    0.000    0.000 {id}\n",
            "     4253    0.002    0.000    0.003    0.000 {isinstance}\n",
            "      100    0.000    0.000    0.000    0.000 {iter}\n",
            "      657    0.000    0.000    0.000    0.000 {len}\n",
            "      103    0.000    0.000    0.000    0.000 {max}\n",
            "       53    0.002    0.000    0.002    0.000 {method '__enter__' of 'thread.lock' objects}\n",
            "       53    0.000    0.000    0.000    0.000 {method '__exit__' of 'thread.lock' objects}\n",
            "       55    0.000    0.000    0.000    0.000 {method 'acquire' of '_multiprocessing.SemLock' objects}\n",
            "      865    0.082    0.000    0.082    0.000 {method 'acquire' of 'thread.lock' objects}\n",
            "        4    0.000    0.000    0.000    0.000 {method 'add' of 'set' objects}\n",
            "      653    0.000    0.000    0.000    0.000 {method 'append' of 'list' objects}\n",
            "        1    0.000    0.000    0.000    0.000 {method 'difference' of 'set' objects}\n",
            "        1    0.000    0.000    0.000    0.000 {method 'disable' of '_lsprof.Profiler' objects}\n",
            "      101    0.000    0.000    0.000    0.000 {method 'encode' of 'unicode' objects}\n",
            "      303    0.001    0.000    0.001    0.000 {method 'format' of 'str' objects}\n",
            "      900    0.000    0.000    0.001    0.000 {method 'get' of 'dict' objects}\n",
            "      300    0.000    0.000    0.000    0.000 {method 'items' of 'dict' objects}\n",
            "      100    0.000    0.000    0.000    0.000 {method 'iteritems' of 'dict' objects}\n",
            "      200    0.000    0.000    0.000    0.000 {method 'pop' of 'list' objects}\n",
            "       55    0.000    0.000    0.000    0.000 {method 'release' of '_multiprocessing.SemLock' objects}\n",
            "      609    0.000    0.000    0.000    0.000 {method 'release' of 'thread.lock' objects}\n",
            "        1    0.000    0.000    0.000    0.000 {method 'remove' of 'list' objects}\n",
            "        4    0.000    0.000    0.000    0.000 {method 'remove' of 'set' objects}\n",
            "        1    0.000    0.000    0.000    0.000 {min}\n",
            "      200    0.019    0.000    0.019    0.000 {numpy.core.multiarray.array}\n",
            "        1    0.000    0.000    0.000    0.000 {numpy.core.multiarray.concatenate}\n",
            "       53    0.000    0.000    0.000    0.000 {posix.getpid}\n",
            "      207    0.010    0.000    0.010    0.000 {posix.urandom}\n",
            "        2    0.000    0.000    0.000    0.000 {range}\n",
            "      106    0.000    0.000    0.000    0.000 {thread.allocate_lock}\n",
            "      712    0.000    0.000    0.000    0.000 {thread.get_ident}\n",
            "        1    0.000    0.000    0.000    0.000 {thread.start_new_thread}\n",
            "      155    0.000    0.000    0.000    0.000 {time.time}\n",
            "       91    0.000    0.000    0.000    0.000 {unichr}\n",
            "      100    0.000    0.000    0.000    0.000 {zip}\n",
            "\n",
            "\n"
          ],
          "name": "stdout"
        }
      ]
    },
    {
      "cell_type": "markdown",
      "metadata": {
        "id": "Ae30VjENLkW2",
        "colab_type": "text"
      },
      "source": [
        "## Detecting adversarial examples"
      ]
    },
    {
      "cell_type": "code",
      "metadata": {
        "id": "Ek4K0ZFCLjS9",
        "colab_type": "code",
        "outputId": "09f2c97b-dba9-48a5-9b2d-955a3a1eedd5",
        "colab": {
          "base_uri": "https://localhost:8080/",
          "height": 303
        }
      },
      "source": [
        "# Load examples from feature squeezing paper\n",
        "!mkdir results\n",
        "!curl -sL https://github.com/mzweilin/EvadeML-Zoo/releases/download/v0.1/results_MNIST_100_317f6_carlini.tar.gz | tar xzv -C results\n"
      ],
      "execution_count": 0,
      "outputs": [
        {
          "output_type": "stream",
          "text": [
            "MNIST_100_317f6_carlini/\n",
            "MNIST_100_317f6_carlini/adv_examples/\n",
            "MNIST_100_317f6_carlini/adv_examples/MNIST_100_317f6_carlini_jsma?targeted=next.pickle\n",
            "MNIST_100_317f6_carlini/adv_examples/MNIST_100_317f6_carlini_carlinili?targeted=next&batch_size=1&max_iterations=1000&confidence=10.pickle\n",
            "MNIST_100_317f6_carlini/adv_examples/MNIST_100_317f6_carlini_bim?eps=0.3&eps_iter=0.06.pickle\n",
            "MNIST_100_317f6_carlini/adv_examples/MNIST_100_317f6_carlini_adaptive_carlini_l2?targeted=next&tf_squeezers=median_filter_2_2,binary_filter_0.5&distance_measure=l1&detector_threshold=0.002915.pickle\n",
            "MNIST_100_317f6_carlini/adv_examples/MNIST_100_317f6_carlini_carlinil0?targeted=next&batch_size=1&max_iterations=1000&confidence=10.pickle\n",
            "MNIST_100_317f6_carlini/adv_examples/MNIST_100_317f6_carlini_adaptive_carlini_l2?targeted=false&tf_squeezers=median_filter_2_2,binary_filter_0.5&distance_measure=l1&detector_threshold=0.002915.pickle\n",
            "MNIST_100_317f6_carlini/adv_examples/MNIST_100_317f6_carlini_fgsm?eps=0.3.pickle\n",
            "MNIST_100_317f6_carlini/adv_examples/MNIST_100_317f6_carlini_carlinil2?targeted=next&batch_size=100&max_iterations=1000&confidence=10.pickle\n",
            "MNIST_100_317f6_carlini/adv_examples/MNIST_100_317f6_carlini_jsma?targeted=ll.pickle\n",
            "MNIST_100_317f6_carlini/adv_examples/MNIST_100_317f6_carlini_carlinil2?targeted=ll&batch_size=100&max_iterations=1000&confidence=10.pickle\n",
            "MNIST_100_317f6_carlini/adv_examples/MNIST_100_317f6_carlini_carlinili?targeted=ll&batch_size=1&max_iterations=1000&confidence=10.pickle\n",
            "MNIST_100_317f6_carlini/adv_examples/MNIST_100_317f6_carlini_adaptive_carlini_l2?targeted=ll&tf_squeezers=median_filter_2_2,binary_filter_0.5&distance_measure=l1&detector_threshold=0.002915.pickle\n",
            "MNIST_100_317f6_carlini/adv_examples/MNIST_100_317f6_carlini_carlinil0?targeted=ll&batch_size=1&max_iterations=1000&confidence=10.pickle\n"
          ],
          "name": "stdout"
        }
      ]
    },
    {
      "cell_type": "code",
      "metadata": {
        "id": "Lv5JLyPmNI6p",
        "colab_type": "code",
        "colab": {}
      },
      "source": [
        "import h5py\n",
        "import cPickle\n",
        "\n",
        "# We discard adaptive adversaries\n",
        "attack_paths = [\n",
        "  #'MNIST_100_317f6_carlini_adaptive_carlini_l2?targeted=false&tf_squeezers=median_filter_2_2,binary_filter_0.5&distance_measure=l1&detector_threshold=0.002915.pickle',\n",
        "  #'MNIST_100_317f6_carlini_adaptive_carlini_l2?targeted=ll&tf_squeezers=median_filter_2_2,binary_filter_0.5&distance_measure=l1&detector_threshold=0.002915.pickle',\n",
        "  #'MNIST_100_317f6_carlini_adaptive_carlini_l2?targeted=next&tf_squeezers=median_filter_2_2,binary_filter_0.5&distance_measure=l1&detector_threshold=0.002915.pickle',\n",
        "  'MNIST_100_317f6_carlini_bim?eps=0.3&eps_iter=0.06.pickle',\n",
        "  'MNIST_100_317f6_carlini_carlinil0?targeted=ll&batch_size=1&max_iterations=1000&confidence=10.pickle',\n",
        "  'MNIST_100_317f6_carlini_carlinil0?targeted=next&batch_size=1&max_iterations=1000&confidence=10.pickle',\n",
        "  'MNIST_100_317f6_carlini_carlinil2?targeted=ll&batch_size=100&max_iterations=1000&confidence=10.pickle',\n",
        "  'MNIST_100_317f6_carlini_carlinil2?targeted=next&batch_size=100&max_iterations=1000&confidence=10.pickle',\n",
        "  'MNIST_100_317f6_carlini_carlinili?targeted=ll&batch_size=1&max_iterations=1000&confidence=10.pickle',\n",
        "  'MNIST_100_317f6_carlini_carlinili?targeted=next&batch_size=1&max_iterations=1000&confidence=10.pickle',\n",
        "  'MNIST_100_317f6_carlini_fgsm?eps=0.3.pickle',\n",
        "  'MNIST_100_317f6_carlini_jsma?targeted=ll.pickle',\n",
        "  'MNIST_100_317f6_carlini_jsma?targeted=next.pickle'\n",
        "]\n",
        "\n",
        "attack_dir_name = 'results/MNIST_100_317f6_carlini/adv_examples'\n",
        "attack_paths = [os.path.join(attack_dir_name, p) for p in attack_paths]\n",
        "\n",
        "all_attacks = []\n",
        "for p in attack_paths:\n",
        "  all_attacks.append(cPickle.load(open(p))[0])\n",
        "all_attacks = np.concatenate(tuple(all_attacks), axis=0)\n",
        "all_attacks = np.reshape(all_attacks, [all_attacks.shape[0], -1])"
      ],
      "execution_count": 0,
      "outputs": []
    },
    {
      "cell_type": "code",
      "metadata": {
        "id": "OIFI85g6_pTs",
        "colab_type": "code",
        "colab": {}
      },
      "source": [
        "ind = np.array(range(10000))\n",
        "np.random.shuffle(ind)"
      ],
      "execution_count": 0,
      "outputs": []
    },
    {
      "cell_type": "code",
      "metadata": {
        "id": "IqxiK4orGO7A",
        "colab_type": "code",
        "outputId": "76306f0d-b48a-40ae-b5ac-8b3c295366cf",
        "colab": {
          "base_uri": "https://localhost:8080/",
          "height": 70
        }
      },
      "source": [
        "all_attacks_predictions = np.argmax(get_prediction(all_attacks), axis=1)\n",
        "all_attacks_gt = np.concatenate(tuple([mnist.test.labels[:100] for _ in range(10)]), axis=0)\n",
        "print \"Attack succcess rate\", 1.0*np.sum(all_attacks_gt != all_attacks_predictions)/len(all_attacks)\n",
        "successful_attacks = all_attacks[np.where(all_attacks_predictions != all_attacks_gt)[0]]\n",
        "\n",
        "benign_suffixes = test_suffixes[ind]\n",
        "successful_attacks_suffixes = fingerprint_suffix(successful_attacks)"
      ],
      "execution_count": 0,
      "outputs": [
        {
          "output_type": "stream",
          "text": [
            "\r  0%|          | 0/9 [00:00<?, ?it/s]"
          ],
          "name": "stderr"
        },
        {
          "output_type": "stream",
          "text": [
            "Attack succcess rate 0.87\n",
            "Getting fingerprint for Reshape_7:0\n"
          ],
          "name": "stdout"
        },
        {
          "output_type": "stream",
          "text": [
            "100%|██████████| 9/9 [00:00<00:00, 53.71it/s]\n"
          ],
          "name": "stderr"
        }
      ]
    },
    {
      "cell_type": "code",
      "metadata": {
        "id": "ZeYtdDN5Wivj",
        "colab_type": "code",
        "outputId": "e76b90be-00c3-4689-8bea-064ec82f4044",
        "colab": {
          "base_uri": "https://localhost:8080/",
          "height": 106
        }
      },
      "source": [
        "benign_be_predictions = basic_estimator.predict(benign_suffixes)\n",
        "benign_be_leaf_nodes = basic_estimator.apply(benign_suffixes)\n",
        "benign_be_conf = get_estimator_confidence(\n",
        "    basic_estimator, benign_suffixes, benign_be_predictions, benign_be_leaf_nodes,\n",
        "    range(10)\n",
        ")\n",
        "\n",
        "benign_fge_predictions = fine_grained_estimator.predict(benign_suffixes)\n",
        "benign_fge_leaf_nodes = fine_grained_estimator.apply(benign_suffixes)\n",
        "benign_fge_conf = get_estimator_confidence(\n",
        "    fine_grained_estimator, benign_suffixes, benign_fge_predictions, benign_fge_leaf_nodes,\n",
        "    11*np.array(range(10))\n",
        ")\n",
        "\n",
        "successful_attacks_be_predictions = basic_estimator.predict(successful_attacks_suffixes)\n",
        "successful_attacks_be_leaf_nodes = basic_estimator.apply(successful_attacks_suffixes)\n",
        "successful_attacks_be_conf = get_estimator_confidence(\n",
        "    basic_estimator, successful_attacks_suffixes, successful_attacks_be_predictions,\n",
        "    successful_attacks_be_leaf_nodes, np.array(range(10)))\n",
        "\n",
        "successful_attacks_fge_predictions = fine_grained_estimator.predict(successful_attacks_suffixes)\n",
        "successful_attacks_fge_leaf_nodes = fine_grained_estimator.apply(successful_attacks_suffixes)\n",
        "successful_attacks_fge_conf = get_estimator_confidence(\n",
        "    fine_grained_estimator, successful_attacks_suffixes, successful_attacks_fge_predictions,\n",
        "    successful_attacks_fge_leaf_nodes, 11*np.array(range(10)))\n",
        "\n",
        "print \"Num successful attacks\", len(successful_attacks)\n",
        "print \"Fraction of successful attacks in low-density (size < 10) clusters\", 1.0*np.mean(successful_attacks_be_conf <10)\n",
        "print \"Fraction of benign inputs in low-density (size < 10) clusters\", 1.0*np.mean(benign_be_conf < 10)\n",
        "\n",
        "\n",
        "print \"Fraction of successful attacks in low-density (size < 100) clusters\", 1.0*np.mean(successful_attacks_be_conf < 100)\n",
        "print \"Fraction of benign inputs in low-density (size < 100) clusters\", 1.0*np.mean(benign_be_conf < 100)\n"
      ],
      "execution_count": 0,
      "outputs": [
        {
          "output_type": "stream",
          "text": [
            "Num successful attacks 870\n",
            "Fraction of successful attacks in low-density (size < 10) clusters 0.49310344827586206\n",
            "Fraction of benign inputs in low-density (size < 10) clusters 0.109\n",
            "Fraction of successful attacks in low-density (size < 100) clusters 0.8459770114942529\n",
            "Fraction of benign inputs in low-density (size < 100) clusters 0.2875\n"
          ],
          "name": "stdout"
        }
      ]
    },
    {
      "cell_type": "code",
      "metadata": {
        "id": "hdDMZTsu6uTJ",
        "colab_type": "code",
        "outputId": "15400ecf-faa8-4c3a-8057-627e074d8cf2",
        "colab": {
          "base_uri": "https://localhost:8080/",
          "height": 35
        }
      },
      "source": [
        "np.mean(successful_attacks_be_conf > 1000)"
      ],
      "execution_count": 0,
      "outputs": [
        {
          "output_type": "execute_result",
          "data": {
            "text/plain": [
              "0.03218390804597701"
            ]
          },
          "metadata": {
            "tags": []
          },
          "execution_count": 38
        }
      ]
    },
    {
      "cell_type": "code",
      "metadata": {
        "id": "8Uj9KG5E1yAV",
        "colab_type": "code",
        "outputId": "eaaf63ce-a880-468b-8351-737d3d796e6b",
        "colab": {
          "base_uri": "https://localhost:8080/",
          "height": 733
        }
      },
      "source": [
        "def get_precision_by_coverage(probs, targets, npoints=10):\n",
        "  # 'targets' is binary and probs is probability for the positive class.\n",
        "  # 'targets' and 'probs' must have the same shape (of the form <batch>)\n",
        "  precisions, recalls, thresholds = metrics.precision_recall_curve(targets, probs)\n",
        "  cutoffs = [np.where(recalls < 1.0*i/npoints)[0][0] for i in range(npoints, 0, -1)]\n",
        "  thresholds = np.concatenate((thresholds, [10000]), axis=0)\n",
        "  return precisions[cutoffs], thresholds[cutoffs]\n",
        "\n",
        "npoints = 20\n",
        "precisions, thresholds = get_precision_by_coverage(\n",
        "  (0.0-np.concatenate((benign_be_conf, successful_attacks_be_conf), axis=0)),\n",
        "  np.concatenate((np.zeros(benign_be_conf.shape), np.ones(successful_attacks_be_conf.shape))),\n",
        "  npoints\n",
        ")\n",
        "plt.bar(np.arange(npoints), precisions)\n",
        "plt.ylabel(\"Accuracy\")\n",
        "plt.xlabel(\"Coverage\")\n",
        "plt.ylim((0.0, 1.5))\n",
        "plt.xticks(ind, [100-i*int(100/npoints) for i in range(npoints)])"
      ],
      "execution_count": 0,
      "outputs": [
        {
          "output_type": "execute_result",
          "data": {
            "text/plain": [
              "([<matplotlib.axis.XTick at 0x7f6da3b4bc10>,\n",
              "  <matplotlib.axis.XTick at 0x7f6da3b4bb10>,\n",
              "  <matplotlib.axis.XTick at 0x7f6da3b1b710>,\n",
              "  <matplotlib.axis.XTick at 0x7f6da3ac83d0>,\n",
              "  <matplotlib.axis.XTick at 0x7f6da3ac8890>,\n",
              "  <matplotlib.axis.XTick at 0x7f6da3ac8dd0>,\n",
              "  <matplotlib.axis.XTick at 0x7f6da3ad1350>,\n",
              "  <matplotlib.axis.XTick at 0x7f6da3ad1890>,\n",
              "  <matplotlib.axis.XTick at 0x7f6da3ad1dd0>,\n",
              "  <matplotlib.axis.XTick at 0x7f6da3adb350>,\n",
              "  <matplotlib.axis.XTick at 0x7f6da3adb890>,\n",
              "  <matplotlib.axis.XTick at 0x7f6da3adbdd0>,\n",
              "  <matplotlib.axis.XTick at 0x7f6da3ae4350>,\n",
              "  <matplotlib.axis.XTick at 0x7f6da3ae4890>,\n",
              "  <matplotlib.axis.XTick at 0x7f6da3ae4dd0>,\n",
              "  <matplotlib.axis.XTick at 0x7f6da3aed350>,\n",
              "  <matplotlib.axis.XTick at 0x7f6da3aed890>,\n",
              "  <matplotlib.axis.XTick at 0x7f6da3aeddd0>,\n",
              "  <matplotlib.axis.XTick at 0x7f6da3af4350>,\n",
              "  <matplotlib.axis.XTick at 0x7f6da3af4890>],\n",
              " <a list of 20 Text xticklabel objects>)"
            ]
          },
          "metadata": {
            "tags": []
          },
          "execution_count": 61
        },
        {
          "output_type": "display_data",
          "data": {
            "image/png": "[encoded data removed]",
            "text/plain": [
              "<matplotlib.figure.Figure at 0x7f6da3bbb890>"
            ]
          },
          "metadata": {
            "tags": []
          }
        }
      ]
    },
    {
      "cell_type": "code",
      "metadata": {
        "id": "wpDMq6hEvkaF",
        "colab_type": "code",
        "colab": {}
      },
      "source": [
        "from sklearn import metrics\n",
        "def get_detection_error_rates(\n",
        "    benign_conf, attacks_conf, min_samples):\n",
        "  benign_conf = benign_conf > min_samples\n",
        "  attacks_conf = attacks_conf > min_samples\n",
        "  fpr = np.mean(1.0 - benign_conf)\n",
        "  tpr = np.mean(1.0 - attacks_conf)\n",
        "  return fpr, tpr\n",
        "\n",
        "def get_detection_auc(\n",
        "    benign_conf, attacks_conf):\n",
        "  fprs = []\n",
        "  tprs = []\n",
        "  for min_samples in tqdm(range(1+max(benign_conf.max(), attacks_conf.max()))):\n",
        "    fpr, tpr = get_detection_error_rates(benign_conf, attacks_conf, min_samples)\n",
        "    fprs.append(fpr)\n",
        "    tprs.append(tpr)\n",
        "  return metrics.auc(fprs, tprs)"
      ],
      "execution_count": 0,
      "outputs": []
    },
    {
      "cell_type": "code",
      "metadata": {
        "id": "MThEniuVRf0q",
        "colab_type": "code",
        "outputId": "22f6eb3d-2a9b-4b97-b709-dee7139b1d68",
        "colab": {
          "base_uri": "https://localhost:8080/",
          "height": 106
        }
      },
      "source": [
        "min_samples = 10\n",
        "fpr, tpr = get_detection_error_rates(\n",
        "  benign_be_conf, successful_attacks_be_conf, min_samples)\n",
        "print \"Basic Estimator (min_samples = %d)\" % min_samples\n",
        "print \"FPR (<num test non-confident instances>/ <num test instances>\", fpr\n",
        "print \"TPR (<num attack non-confident instances>/ <num attack instances>\", tpr\n",
        "\n",
        "auc = get_detection_auc(\n",
        "  benign_be_conf, successful_attacks_be_conf)\n",
        "print \"AUC\", auc"
      ],
      "execution_count": 0,
      "outputs": [
        {
          "output_type": "stream",
          "text": [
            "100%|██████████| 4405/4405 [00:00<00:00, 25918.62it/s]"
          ],
          "name": "stderr"
        },
        {
          "output_type": "stream",
          "text": [
            "Basic Estimator (min_samples = 10)\n",
            "FPR (<num test non-confident instances>/ <num test instances> 0.11149425287356322\n",
            "TPR (<num attack non-confident instances>/ <num attack instances> 0.4954022988505747\n",
            "AUC 0.8171488968159598\n"
          ],
          "name": "stdout"
        },
        {
          "output_type": "stream",
          "text": [
            "\n"
          ],
          "name": "stderr"
        }
      ]
    },
    {
      "cell_type": "code",
      "metadata": {
        "id": "2HShqFnut-aG",
        "colab_type": "code",
        "outputId": "4f9ef5e4-ef81-44f5-b549-82963de6dfaa",
        "colab": {
          "base_uri": "https://localhost:8080/",
          "height": 106
        }
      },
      "source": [
        "min_samples = 10\n",
        "fpr, tpr = get_detection_error_rates(\n",
        "  benign_fge_conf, successful_attacks_fge_conf, min_samples)\n",
        "print \"Fine-grained Estimator (min_samples = %d)\" % min_samples\n",
        "print \"FPR (<num test non-confident instances>/ <num test instances>\", fpr\n",
        "print \"TPR (<num attack non-confident instances>/ <num attack instances>\", tpr\n",
        "\n",
        "auc = get_detection_auc(\n",
        "  benign_fge_conf, successful_attacks_fge_conf)\n",
        "print \"AUC\", auc"
      ],
      "execution_count": 0,
      "outputs": [
        {
          "output_type": "stream",
          "text": [
            "100%|██████████| 3061/3061 [00:00<00:00, 26910.57it/s]"
          ],
          "name": "stderr"
        },
        {
          "output_type": "stream",
          "text": [
            "Fine-grained Estimator (min_samples = 10)\n",
            "FPR (<num test non-confident instances>/ <num test instances> 0.2149425287356322\n",
            "TPR (<num attack non-confident instances>/ <num attack instances> 0.7632183908045977\n",
            "AUC 0.8390335579336768\n"
          ],
          "name": "stdout"
        },
        {
          "output_type": "stream",
          "text": [
            "\n"
          ],
          "name": "stderr"
        }
      ]
    },
    {
      "cell_type": "markdown",
      "metadata": {
        "id": "QhKV-FYLv-Eb",
        "colab_type": "text"
      },
      "source": [
        "### Visualizing the Decision Tree"
      ]
    },
    {
      "cell_type": "code",
      "metadata": {
        "id": "EEZ8ZeuMo_9m",
        "colab_type": "code",
        "colab": {}
      },
      "source": [
        "!apt-get install graphviz\n",
        "!pip install graphviz\n",
        "import graphviz"
      ],
      "execution_count": 0,
      "outputs": []
    },
    {
      "cell_type": "code",
      "metadata": {
        "id": "ZaOsPspkjuOe",
        "colab_type": "code",
        "colab": {}
      },
      "source": [
        "dot_data = tree.export_graphviz(basic_estimator, out_file=None) \n",
        "graph = graphviz.Source(dot_data)  \n",
        "graph "
      ],
      "execution_count": 0,
      "outputs": []
    }
  ]
}