{
  "nbformat": 4,
  "nbformat_minor": 0,
  "metadata": {
    "colab": {
      "name": "MNIST Invariants.ipynb",
      "version": "0.3.2",
      "provenance": [],
      "collapsed_sections": []
    }
  },
  "cells": [
    {
      "metadata": {
        "id": "t-JL_MKop5Qh",
        "colab_type": "code",
        "colab": {}
      },
      "cell_type": "code",
      "source": [
        "import math\n",
        "import io\n",
        "import os\n",
        "from collections import namedtuple\n",
        "import numpy as np\n",
        "import matplotlib.pyplot as plt\n",
        "import tensorflow as tf\n",
        "from sklearn import tree\n",
        "\n",
        "from tensorflow.examples.tutorials.mnist import input_data\n"
      ],
      "execution_count": 0,
      "outputs": []
    },
    {
      "metadata": {
        "id": "d98vYNy_TWi1",
        "colab_type": "text"
      },
      "cell_type": "markdown",
      "source": [
        "## Training an MNIST network (2 conv layers + 1 fully connected)"
      ]
    },
    {
      "metadata": {
        "id": "ns8_eYDFReWq",
        "colab_type": "code",
        "colab": {}
      },
      "cell_type": "code",
      "source": [
        "BATCH_SIZE = 50\n",
        "TEST_BATCH_SIZE = 1000  \n",
        "IMAGE_SIZE = 28\n",
        "NUM_CLASSES = 10"
      ],
      "execution_count": 0,
      "outputs": []
    },
    {
      "metadata": {
        "id": "y3Zs1CzKSqjM",
        "colab_type": "code",
        "colab": {
          "base_uri": "https://localhost:8080/",
          "height": 479
        },
        "outputId": "a90701e8-e7c1-436c-9ffc-b199fa80034e"
      },
      "cell_type": "code",
      "source": [
        "mnist = input_data.read_data_sets('MNIST_data')"
      ],
      "execution_count": 7,
      "outputs": [
        {
          "output_type": "stream",
          "text": [
            "WARNING:tensorflow:From <ipython-input-7-b8fd4c8de6c9>:1: read_data_sets (from tensorflow.contrib.learn.python.learn.datasets.mnist) is deprecated and will be removed in a future version.\n",
            "Instructions for updating:\n",
            "Please use alternatives such as official/mnist/dataset.py from tensorflow/models.\n",
            "WARNING:tensorflow:From /usr/local/lib/python2.7/dist-packages/tensorflow/contrib/learn/python/learn/datasets/mnist.py:260: maybe_download (from tensorflow.contrib.learn.python.learn.datasets.base) is deprecated and will be removed in a future version.\n",
            "Instructions for updating:\n",
            "Please write your own downloading logic.\n",
            "WARNING:tensorflow:From /usr/local/lib/python2.7/dist-packages/tensorflow/contrib/learn/python/learn/datasets/base.py:252: wrapped_fn (from tensorflow.contrib.learn.python.learn.datasets.base) is deprecated and will be removed in a future version.\n",
            "Instructions for updating:\n",
            "Please use urllib or similar directly.\n",
            "Successfully downloaded train-images-idx3-ubyte.gz 9912422 bytes.\n",
            "WARNING:tensorflow:From /usr/local/lib/python2.7/dist-packages/tensorflow/contrib/learn/python/learn/datasets/mnist.py:262: extract_images (from tensorflow.contrib.learn.python.learn.datasets.mnist) is deprecated and will be removed in a future version.\n",
            "Instructions for updating:\n",
            "Please use tf.data to implement this functionality.\n",
            "Extracting MNIST_data/train-images-idx3-ubyte.gz\n",
            "Successfully downloaded train-labels-idx1-ubyte.gz 28881 bytes.\n",
            "WARNING:tensorflow:From /usr/local/lib/python2.7/dist-packages/tensorflow/contrib/learn/python/learn/datasets/mnist.py:267: extract_labels (from tensorflow.contrib.learn.python.learn.datasets.mnist) is deprecated and will be removed in a future version.\n",
            "Instructions for updating:\n",
            "Please use tf.data to implement this functionality.\n",
            "Extracting MNIST_data/train-labels-idx1-ubyte.gz\n",
            "Successfully downloaded t10k-images-idx3-ubyte.gz 1648877 bytes.\n",
            "Extracting MNIST_data/t10k-images-idx3-ubyte.gz\n",
            "Successfully downloaded t10k-labels-idx1-ubyte.gz 4542 bytes.\n",
            "Extracting MNIST_data/t10k-labels-idx1-ubyte.gz\n",
            "WARNING:tensorflow:From /usr/local/lib/python2.7/dist-packages/tensorflow/contrib/learn/python/learn/datasets/mnist.py:290: __init__ (from tensorflow.contrib.learn.python.learn.datasets.mnist) is deprecated and will be removed in a future version.\n",
            "Instructions for updating:\n",
            "Please use alternatives such as official/mnist/dataset.py from tensorflow/models.\n"
          ],
          "name": "stdout"
        }
      ]
    },
    {
      "metadata": {
        "id": "39JpLmTitqdj",
        "colab_type": "code",
        "colab": {}
      },
      "cell_type": "code",
      "source": [
        "def weight_variable(shape, name):\n",
        "  initial = tf.truncated_normal(shape, stddev=0.1)\n",
        "  return tf.Variable(initial, name=name)\n",
        "\n",
        "def bias_variable(shape, name):\n",
        "  initial = tf.constant(0.1, shape=shape)\n",
        "  return tf.Variable(initial, name=name)\n",
        "\n",
        "def conv2d(x, W):\n",
        "  return tf.nn.conv2d(x, W, strides=[1, 1, 1, 1], padding='SAME')\n",
        "\n",
        "def max_pool_2x2(x):\n",
        "  return tf.nn.max_pool(x, ksize=[1, 2, 2, 1],\n",
        "                        strides=[1, 2, 2, 1], padding='SAME')\n",
        "\n",
        "def create_model():\n",
        "  x = tf.placeholder(tf.float32, shape=[None, 784], name='input')\n",
        "  y_ = tf.placeholder(tf.float32, shape=[None, 10])\n",
        "\n",
        "  W_conv1 = weight_variable([5, 5, 1, 32], 'w_conv1')\n",
        "  b_conv1 = bias_variable([32], 'b_conv1')\n",
        "\n",
        "  x_image = tf.reshape(x, [-1,28,28,1])\n",
        "  h_conv1 = tf.nn.relu(conv2d(x_image, W_conv1) + b_conv1)\n",
        "  h_pool1 = max_pool_2x2(h_conv1)\n",
        "  h_pool1 = tf.identity(h_pool1, name=\"conv1\")\n",
        "\n",
        "  W_conv2 = weight_variable([5, 5, 32, 64], 'w_conv2')\n",
        "  b_conv2 = bias_variable([64], 'b_conv2')\n",
        "\n",
        "  h_conv2 = tf.nn.relu(conv2d(h_pool1, W_conv2) + b_conv2)\n",
        "  h_pool2 = max_pool_2x2(h_conv2)\n",
        "  h_pool2 = tf.identity(h_pool2, name=\"conv2\")\n",
        "\n",
        "  W_fc1 = weight_variable([7 * 7 * 64, 1024], 'w_fc1')\n",
        "  b_fc1 = bias_variable([1024], 'b_fc1')\n",
        "\n",
        "  h_pool2_flat = tf.reshape(h_pool2, [-1, 7*7*64])\n",
        "  h_fc1 = tf.nn.relu(tf.matmul(h_pool2_flat, W_fc1) + b_fc1, name='fc1')\n",
        "\n",
        "  keep_prob = tf.placeholder(tf.float32, name='keep_prob')\n",
        "  h_fc1_drop = tf.nn.dropout(h_fc1, keep_prob)\n",
        "\n",
        "  W_fc2 = weight_variable([1024, 10], 'w_fc2')\n",
        "  b_fc2 = bias_variable([10], 'b_fc2')\n",
        "\n",
        "  y_conv = tf.add(tf.matmul(h_fc1_drop, W_fc2), b_fc2, name='prediction')\n",
        "\n",
        "  cross_entropy = tf.reduce_mean(\n",
        "      tf.nn.softmax_cross_entropy_with_logits_v2(labels=y_, logits=y_conv))\n",
        "\n",
        "  correct_prediction = tf.equal(tf.argmax(y_conv,1), tf.argmax(y_,1))\n",
        "  accuracy = tf.reduce_mean(tf.cast(correct_prediction, tf.float32))\n",
        "  return cross_entropy, accuracy, x, keep_prob, y_conv, y_\n"
      ],
      "execution_count": 0,
      "outputs": []
    },
    {
      "metadata": {
        "id": "Jv3U6Xs_T2el",
        "colab_type": "text"
      },
      "cell_type": "markdown",
      "source": [
        "### Train a new model"
      ]
    },
    {
      "metadata": {
        "id": "Z-2x6UTcuJUK",
        "colab_type": "code",
        "colab": {
          "base_uri": "https://localhost:8080/",
          "height": 170
        },
        "outputId": "0cae0a49-e208-458c-8e49-620b6955fdb8"
      },
      "cell_type": "code",
      "source": [
        "tf.reset_default_graph()\n",
        "sess = tf.InteractiveSession()\n",
        "cross_entropy, accuracy, x, keep_prob, y_conv, y_ = create_model()\n",
        "train_step = tf.train.AdamOptimizer(1e-4).minimize(cross_entropy)\n",
        "saver = tf.train.Saver(write_version=tf.train.SaverDef.V2)\n",
        "sess.run(tf.global_variables_initializer())\n",
        "for i in range(0, 800):\n",
        "  batch = mnist.train.next_batch(BATCH_SIZE)\n",
        "  train_step.run(feed_dict={x: batch[0], y_: np.eye(10)[batch[1]], keep_prob: 0.5})\n",
        "  if i%100 == 0:\n",
        "    test_accuracy = accuracy.eval(feed_dict={\n",
        "        x:mnist.test.images, y_: np.eye(10)[mnist.test.labels], keep_prob: 1.0})\n",
        "    print(\"step %d, test accuracy %g\"%(i, test_accuracy))    \n",
        "ckpt_path_name = saver.save(sess, './checkpoints/mnist_invariant.ckpt', global_step=i)\n",
        "print \"Checkpoint saved at: %s\" % ckpt_path_name"
      ],
      "execution_count": 70,
      "outputs": [
        {
          "output_type": "stream",
          "text": [
            "step 0, test accuracy 0.1037\n",
            "step 100, test accuracy 0.8283\n",
            "step 200, test accuracy 0.9011\n",
            "step 300, test accuracy 0.9284\n",
            "step 400, test accuracy 0.9387\n",
            "step 500, test accuracy 0.949\n",
            "step 600, test accuracy 0.9525\n",
            "step 700, test accuracy 0.959\n",
            "Checkpoint saved at: ./checkpoints/mnist_invariant.ckpt-799\n"
          ],
          "name": "stdout"
        }
      ]
    },
    {
      "metadata": {
        "id": "ylVCQ9lfTfWF",
        "colab_type": "code",
        "colab": {}
      },
      "cell_type": "code",
      "source": [
        "from google.colab import files\n",
        "files.download(ckpt_path_name + '.data-00000-of-00001')\n",
        "files.download(ckpt_path_name + '.index')\n",
        "files.download(ckpt_path_name + '.meta')"
      ],
      "execution_count": 0,
      "outputs": []
    },
    {
      "metadata": {
        "id": "uy6_gvmpT4Wv",
        "colab_type": "text"
      },
      "cell_type": "markdown",
      "source": [
        "### Restore a pretrained model"
      ]
    },
    {
      "metadata": {
        "id": "BMibD_lwWdVG",
        "colab_type": "code",
        "colab": {
          "base_uri": "https://localhost:8080/",
          "height": 833
        },
        "outputId": "7b573bf9-1fc2-404e-b258-540128cd142c"
      },
      "cell_type": "code",
      "source": [
        "!wget https://github.com/hayesconverse/sym_convnn/raw/master/MNIST_ITR_REL/MNIST_conv_checkpoint/mnist_invariants.ckpt.index -O ./checkpoints/mnist_invariants.ckpt.index\n",
        "!wget https://github.com/hayesconverse/sym_convnn/raw/master/MNIST_ITR_REL/MNIST_conv_checkpoint/mnist_invariants.ckpt.meta -O ./checkpoints/mnist_invariants.ckpt.meta\n",
        "!wget https://github.com/hayesconverse/sym_convnn/raw/master/MNIST_ITR_REL/MNIST_conv_checkpoint/mnist_invariants.ckpt.data-00000-of-00001 -O ./checkpoints/mnist_invariants.ckpt.data-00000-of-00001"
      ],
      "execution_count": 73,
      "outputs": [
        {
          "output_type": "stream",
          "text": [
            "--2018-10-12 18:30:21--  https://github.com/hayesconverse/sym_convnn/raw/master/MNIST_ITR_REL/MNIST_conv_checkpoint/mnist_invariants.ckpt.index\n",
            "Resolving github.com (github.com)... 192.30.253.113, 192.30.253.112\n",
            "Connecting to github.com (github.com)|192.30.253.113|:443... connected.\n",
            "HTTP request sent, awaiting response... 302 Found\n",
            "Location: https://raw.githubusercontent.com/hayesconverse/sym_convnn/master/MNIST_ITR_REL/MNIST_conv_checkpoint/mnist_invariants.ckpt.index [following]\n",
            "--2018-10-12 18:30:21--  https://raw.githubusercontent.com/hayesconverse/sym_convnn/master/MNIST_ITR_REL/MNIST_conv_checkpoint/mnist_invariants.ckpt.index\n",
            "Resolving raw.githubusercontent.com (raw.githubusercontent.com)... 151.101.0.133, 151.101.64.133, 151.101.128.133, ...\n",
            "Connecting to raw.githubusercontent.com (raw.githubusercontent.com)|151.101.0.133|:443... connected.\n",
            "HTTP request sent, awaiting response... 200 OK\n",
            "Length: 903 [application/octet-stream]\n",
            "Saving to: ‘./checkpoints/mnist_invariants.ckpt.index’\n",
            "\n",
            "\r          ./checkpo   0%[                    ]       0  --.-KB/s               \r./checkpoints/mnist 100%[===================>]     903  --.-KB/s    in 0s      \n",
            "\n",
            "2018-10-12 18:30:21 (81.4 MB/s) - ‘./checkpoints/mnist_invariants.ckpt.index’ saved [903/903]\n",
            "\n",
            "--2018-10-12 18:30:23--  https://github.com/hayesconverse/sym_convnn/raw/master/MNIST_ITR_REL/MNIST_conv_checkpoint/mnist_invariants.ckpt.meta\n",
            "Resolving github.com (github.com)... 192.30.253.113, 192.30.253.112\n",
            "Connecting to github.com (github.com)|192.30.253.113|:443... connected.\n",
            "HTTP request sent, awaiting response... 302 Found\n",
            "Location: https://raw.githubusercontent.com/hayesconverse/sym_convnn/master/MNIST_ITR_REL/MNIST_conv_checkpoint/mnist_invariants.ckpt.meta [following]\n",
            "--2018-10-12 18:30:24--  https://raw.githubusercontent.com/hayesconverse/sym_convnn/master/MNIST_ITR_REL/MNIST_conv_checkpoint/mnist_invariants.ckpt.meta\n",
            "Resolving raw.githubusercontent.com (raw.githubusercontent.com)... 151.101.0.133, 151.101.64.133, 151.101.128.133, ...\n",
            "Connecting to raw.githubusercontent.com (raw.githubusercontent.com)|151.101.0.133|:443... connected.\n",
            "HTTP request sent, awaiting response... 200 OK\n",
            "Length: 71942 (70K) [application/octet-stream]\n",
            "Saving to: ‘./checkpoints/mnist_invariants.ckpt.meta’\n",
            "\n",
            "./checkpoints/mnist 100%[===================>]  70.26K  --.-KB/s    in 0.03s   \n",
            "\n",
            "2018-10-12 18:30:24 (2.40 MB/s) - ‘./checkpoints/mnist_invariants.ckpt.meta’ saved [71942/71942]\n",
            "\n",
            "--2018-10-12 18:30:26--  https://github.com/hayesconverse/sym_convnn/raw/master/MNIST_ITR_REL/MNIST_conv_checkpoint/mnist_invariants.ckpt.data-00000-of-00001\n",
            "Resolving github.com (github.com)... 192.30.253.113, 192.30.253.112\n",
            "Connecting to github.com (github.com)|192.30.253.113|:443... connected.\n",
            "HTTP request sent, awaiting response... 302 Found\n",
            "Location: https://raw.githubusercontent.com/hayesconverse/sym_convnn/master/MNIST_ITR_REL/MNIST_conv_checkpoint/mnist_invariants.ckpt.data-00000-of-00001 [following]\n",
            "--2018-10-12 18:30:26--  https://raw.githubusercontent.com/hayesconverse/sym_convnn/master/MNIST_ITR_REL/MNIST_conv_checkpoint/mnist_invariants.ckpt.data-00000-of-00001\n",
            "Resolving raw.githubusercontent.com (raw.githubusercontent.com)... 151.101.0.133, 151.101.64.133, 151.101.128.133, ...\n",
            "Connecting to raw.githubusercontent.com (raw.githubusercontent.com)|151.101.0.133|:443... connected.\n",
            "HTTP request sent, awaiting response... 200 OK\n",
            "Length: 39295616 (37M) [application/octet-stream]\n",
            "Saving to: ‘./checkpoints/mnist_invariants.ckpt.data-00000-of-00001’\n",
            "\n",
            "./checkpoints/mnist 100%[===================>]  37.47M  44.8MB/s    in 0.8s    \n",
            "\n",
            "2018-10-12 18:30:27 (44.8 MB/s) - ‘./checkpoints/mnist_invariants.ckpt.data-00000-of-00001’ saved [39295616/39295616]\n",
            "\n"
          ],
          "name": "stdout"
        }
      ]
    },
    {
      "metadata": {
        "id": "7JmFzaPPT6ql",
        "colab_type": "code",
        "colab": {
          "base_uri": "https://localhost:8080/",
          "height": 51
        },
        "outputId": "44b5a36f-e215-418a-9ecd-e389645c9037"
      },
      "cell_type": "code",
      "source": [
        "tf.reset_default_graph()\n",
        "sess = tf.InteractiveSession()\n",
        "cross_entropy, accuracy, x, keep_prob, y_conv, y_ = create_model()\n",
        "saver = tf.train.Saver(write_version=tf.train.SaverDef.V2)\n",
        "saver.restore(sess, './checkpoints/mnist_invariants.ckpt')\n",
        "\n",
        "test_accuracy = accuracy.eval(feed_dict={\n",
        "    x:mnist.test.images, y_: np.eye(10)[mnist.test.labels], keep_prob: 1.0})\n",
        "print(\"Test accuracy %g\"%(test_accuracy))    \n",
        "\n"
      ],
      "execution_count": 74,
      "outputs": [
        {
          "output_type": "stream",
          "text": [
            "INFO:tensorflow:Restoring parameters from ./checkpoints/mnist_invariants.ckpt\n",
            "Test accuracy 0.9605\n"
          ],
          "name": "stdout"
        }
      ]
    },
    {
      "metadata": {
        "id": "8Nc9oYmUcsBn",
        "colab_type": "text"
      },
      "cell_type": "markdown",
      "source": [
        "### Parametrs of the network"
      ]
    },
    {
      "metadata": {
        "id": "Uf1lzDiXcu0U",
        "colab_type": "code",
        "colab": {
          "base_uri": "https://localhost:8080/",
          "height": 85
        },
        "outputId": "44ff750a-2fd8-49e6-ecce-e9504dd59cb1"
      },
      "cell_type": "code",
      "source": [
        "w_fc1 = sess.run(sess.graph.get_tensor_by_name('w_fc1:0'))\n",
        "b_fc1 = sess.run(sess.graph.get_tensor_by_name('b_fc1:0'))\n",
        "print \"FC1, weight and bias shape\", w_fc1.shape, b_fc1.shape\n",
        "\n",
        "w_fc2 = sess.run(sess.graph.get_tensor_by_name('w_fc2:0'))\n",
        "b_fc2 = sess.run(sess.graph.get_tensor_by_name('b_fc2:0'))\n",
        "print \"FC2, weight and bias shape\", w_fc2.shape, b_fc2.shape\n",
        "\n",
        "w_conv1 = sess.run(sess.graph.get_tensor_by_name('w_conv1:0'))\n",
        "b_conv1 = sess.run(sess.graph.get_tensor_by_name('b_conv1:0'))\n",
        "print \"Conv1, weight and bias shape\", w_conv1.shape, b_conv1.shape\n",
        "\n",
        "w_conv2 = sess.run(sess.graph.get_tensor_by_name('w_conv2:0'))\n",
        "b_conv2 = sess.run(sess.graph.get_tensor_by_name('b_conv2:0'))\n",
        "print \"Conv2, weight and bias shape\", w_conv2.shape, b_conv2.shape"
      ],
      "execution_count": 76,
      "outputs": [
        {
          "output_type": "stream",
          "text": [
            "FC1, weight and bias shape (3136, 1024) (1024,)\n",
            "FC2, weight and bias shape (1024, 10) (10,)\n",
            "Conv1, weight and bias shape (5, 5, 1, 32) (32,)\n",
            "Conv2, weight and bias shape (5, 5, 32, 64) (64,)\n"
          ],
          "name": "stdout"
        }
      ]
    },
    {
      "metadata": {
        "id": "yR9bYFN9E9lg",
        "colab_type": "text"
      },
      "cell_type": "markdown",
      "source": [
        "## Library for IG Attribution and Conductance"
      ]
    },
    {
      "metadata": {
        "id": "L2F_QleSkgvY",
        "colab_type": "code",
        "colab": {}
      },
      "cell_type": "code",
      "source": [
        "t_label = tf.placeholder(tf.int32)\n",
        "t_neuron_id = tf.placeholder(tf.int32)\n",
        "t_grad = tf.gradients(y_conv[:, t_label], x)\n",
        "t_fc1 = sess.graph.get_tensor_by_name('fc1:0')\n",
        "t_conv1 = sess.graph.get_tensor_by_name('conv1:0')\n",
        "t_conv1 = sess.graph.get_tensor_by_name('conv2:0')\n",
        "t_grad_neuron = tf.gradients(y_conv[:, t_label], t_fc1)[0]\n",
        "t_grad_conductance = tf.gradients(t_fc1[:,t_neuron_id], x, grad_ys=t_grad_neuron[:, t_neuron_id])"
      ],
      "execution_count": 0,
      "outputs": []
    },
    {
      "metadata": {
        "id": "TL92gsWskV0-",
        "colab_type": "code",
        "colab": {}
      },
      "cell_type": "code",
      "source": [
        "import copy\n",
        "\n",
        "def get_prediction(inps, tensor=y_conv, batch_size=100):\n",
        "  def get_prediction_batch(batch):\n",
        "    feed = {x: batch, keep_prob:1.0}\n",
        "    return sess.run(tensor, feed_dict=feed)\n",
        "  n = len(inps)\n",
        "  if n%batch_size == 0:\n",
        "    batches = [inps[i*batch_size:(i+1)*batch_size] for i in range(int(n/batch_size))]\n",
        "  else:\n",
        "    batches = [inps[i*batch_size:(i+1)*batch_size] for i in range(int(n/batch_size) +1)]    \n",
        "  batch_predictions = [get_prediction_batch(b) for b in batches]\n",
        "  return np.concatenate(tuple(batch_predictions), axis=0)\n",
        "\n",
        "def attribute(inp, label, baseline=None, steps=50, use_top_label=False):\n",
        "  def top_label(inp):\n",
        "    return np.argmax(get_prediction([inp])[0])\n",
        "  if baseline is None:\n",
        "    baseline = 0*inp\n",
        "  scaled_inputs = [baseline + (float(i)/steps)*(inp-baseline) for i in range(0, steps)]\n",
        "  feed = {keep_prob:1.0}\n",
        "  if use_top_label:\n",
        "    feed[x] = [inp]\n",
        "    logits = sess.run(y_conv, feed_dict=feed)[0]\n",
        "    label = np.argmax(logits)\n",
        "  feed[x] = scaled_inputs\n",
        "  feed[t_label] = label\n",
        "  grads, scores = sess.run([t_grad, y_conv], feed_dict=feed)  # shapes: <steps+1>, <steps+1, inp.shape>\n",
        "  integrated_gradients = (inp-baseline)*np.average(grads[0], axis=0)  # shape: <inp.shape>\n",
        "  print \"FINAL SCORE\", scores[-1][label]\n",
        "  print \"BASELINE SCORE\", scores[0][label]\n",
        "  print \"SUM\", np.sum(integrated_gradients), \"DIFF\", scores[-1][label] - scores[0][label]\n",
        "  return integrated_gradients\n",
        "\n",
        "def conductance(inp, label, neuron_id=None, baseline=None, steps=50):\n",
        "  # neuron_id is the id of the neuron in layer t_fc1 through which conductance\n",
        "  # must be computed. If None, vanilla IG is computed.\n",
        "  if baseline is None:\n",
        "    baseline = 0*inp\n",
        "  scaled_inputs = [baseline + (float(i)/steps)*(inp-baseline) for i in range(0, steps)]\n",
        "  feed = {keep_prob:1.0}\n",
        "  feed[x] = scaled_inputs\n",
        "  feed[t_label] = label\n",
        "  if neuron_id != None:\n",
        "    feed[t_neuron_id] = neuron_id\n",
        "    grads, scores = sess.run([t_grad_conductance, y_conv], feed_dict=feed)  # shapes: <steps+1>, <steps+1, inp.shape>\n",
        "    integrated_gradients = (inp-baseline)*np.average(grads[0], axis=0)  # shape: <inp.shape>\n",
        "    return integrated_gradients\n",
        "  grads, scores = sess.run([t_grad, y_conv], feed_dict=feed)  # shapes: <steps+1>, <steps+1, inp.shape>    \n",
        "  integrated_gradients = (inp-baseline)*np.average(grads[0], axis=0)  # shape: <inp.shape>\n",
        "  print \"FINAL SCORE\", scores[-1][label]\n",
        "  print \"BASELINE SCORE\", scores[0][label]\n",
        "  print \"SUM\", np.sum(integrated_gradients), \"DIFF\", scores[-1][label] - scores[0][label]\n",
        "  return integrated_gradients"
      ],
      "execution_count": 0,
      "outputs": []
    },
    {
      "metadata": {
        "id": "iG5Fq5GIkP6u",
        "colab_type": "text"
      },
      "cell_type": "markdown",
      "source": [
        "## Library for Visualizing Images and Attributions"
      ]
    },
    {
      "metadata": {
        "id": "czxZISZYkLaH",
        "colab_type": "code",
        "colab": {}
      },
      "cell_type": "code",
      "source": [
        "import PIL.Image\n",
        "from IPython.display import clear_output, Image, display, HTML\n",
        "import numpy as np\n",
        "from cStringIO import StringIO"
      ],
      "execution_count": 0,
      "outputs": []
    },
    {
      "metadata": {
        "id": "x_o25suPkTL3",
        "colab_type": "code",
        "colab": {}
      },
      "cell_type": "code",
      "source": [
        "FONT_PATH='/usr/share/fonts/truetype/dejavu/DejaVuSansCondensed.ttf'\n",
        "IMAGE_SIZE = 28\n",
        "\n",
        "def mnist_to_rgb(mnist_img):\n",
        "  \"\"\"\n",
        "  Transformsn an MNIST image (shape: <784>) to a grayscale\n",
        "  RGB image (shape: <28,28,3>)\n",
        "  \"\"\"\n",
        "  pixel_array = mnist_img.reshape(IMAGE_SIZE, IMAGE_SIZE)  # shape: 28,28\n",
        "  rgb_image = np.transpose([pixel_array,pixel_array,pixel_array], axes=[1,2,0])\n",
        "  return rgb_image\n",
        "\n",
        "def pil_img(a):\n",
        "  '''Returns a PIL image created from the provided RGB array.\n",
        "  '''\n",
        "  a = np.uint8(a)\n",
        "  return PIL.Image.fromarray(a)\n",
        "\n",
        "def mnist_to_pil_img(inp):\n",
        "  rgb_inp = 255*mnist_to_rgb(inp)\n",
        "  vis_inp = pil_img(rgb_inp)\n",
        "  return vis_inp  \n",
        "\n",
        "def pil_fig(fig):\n",
        "  # Returns a PIL image obtained from the provided PLT figure.\n",
        "  buf = io.BytesIO()\n",
        "  fig.savefig(buf, format='png')\n",
        "  plt.close(fig)\n",
        "  buf.seek(0)\n",
        "  img = PIL.Image.open(buf)\n",
        "  return img\n",
        "\n",
        "def show_img(img, fmt='jpeg'):\n",
        "  '''Displays the provided PIL image\n",
        "  '''\n",
        "  f = StringIO()\n",
        "  img.save(f, fmt)\n",
        "  display(Image(data=f.getvalue()))\n",
        " \n",
        "def show_mnist_img(mnist_img):\n",
        "  show_img(pil_img(255*mnist_to_rgb(mnist_img)))\n",
        "  \n",
        "def gray_scale(img):\n",
        "  '''Converts the provided RGB image to gray scale.\n",
        "  '''\n",
        "  img = np.average(img, axis=2)\n",
        "  return np.transpose([img, img, img], axes=[1,2,0])\n",
        "\n",
        "def normalize(attrs, ptile=99):\n",
        "  '''Normalize the provided attributions so that they fall between\n",
        "     -1.0 and 1.0.\n",
        "  '''\n",
        "  h = np.percentile(attrs, ptile)\n",
        "  l = np.percentile(attrs, 100-ptile)\n",
        "  return np.clip(attrs/max(abs(h), abs(l)), -1.0, 1.0)    \n",
        "\n",
        "def pil_text(strs, shape, start_h=10, start_w=10, font_size=18, color=(0, 0, 0)):\n",
        "  # Returns a PIL image with the provided text.\n",
        "  img = pil_img(255*np.ones(shape))\n",
        "  draw = PIL.ImageDraw.Draw(img)\n",
        "  font = PIL.ImageFont.truetype(FONT_PATH, font_size)\n",
        "  h = start_h\n",
        "  for s in strs: \n",
        "    draw.text((start_w,h), s, fill=color, font=font)\n",
        "    h = h + 30\n",
        "  return img\n",
        "\n",
        "def combine(imgs, horizontal=True):\n",
        "  # Combines the provided PIL Images horizontally or veritically\n",
        "  if horizontal:\n",
        "    w = np.sum([img.size[0]+10 for img in imgs])\n",
        "    h = np.max([img.size[1] for img in imgs])\n",
        "  else:\n",
        "    w = np.max([img.size[0] for img in imgs])\n",
        "    h = np.sum([img.size[1]+10 for img in imgs])\n",
        "  final_img = PIL.Image.new('RGB', (w, h), color='white')\n",
        "  pos = 0\n",
        "  for img in imgs:\n",
        "    if horizontal:\n",
        "      final_img.paste(im=img, box=(pos,0))\n",
        "      pos = pos+img.size[0]+10\n",
        "    else:\n",
        "      final_img.paste(im=img, box=(0,pos))\n",
        "      pos = pos+img.size[1]+10\n",
        "  return final_img\n",
        "\n",
        "def visualize_attrs(img, attrs, ptile=99):\n",
        "  '''Visaualizes the provided attributions by first aggregating them\n",
        "    along the color channel to obtain per-pixel attributions and then\n",
        "    scaling the intensities of the pixels in the original image in\n",
        "    proportion to absolute value of these attributions.\n",
        "\n",
        "    The provided image and attributions must of shape (224, 224, 3).\n",
        "  '''\n",
        "  if np.sum(attrs) == 0.0:\n",
        "    # print \"Attributions are all ZERO\"\n",
        "    return pil_img(0*img)\n",
        "  attrs = gray_scale(attrs)\n",
        "  attrs = abs(attrs)\n",
        "  attrs = np.clip(attrs/np.percentile(attrs, ptile), 0,1)\n",
        "  vis = img*attrs\n",
        "  return pil_img(vis)\n",
        "  \n",
        "  \n",
        "R=np.array([255,0,0])\n",
        "G=np.array([0,255,0])\n",
        "B=np.array([0,0,255])\n",
        "def visualize_attrs2(img, attrs, pos_ch=G, neg_ch=R, ptile=99):\n",
        "  '''Visaualizes the provided attributions by first aggregating them\n",
        "     along the color channel and then overlaying the positive attributions\n",
        "     along pos_ch, and negative attributions along neg_ch.\n",
        "\n",
        "     The provided image and attributions must of shape (224, 224, 3).\n",
        "  '''\n",
        "  if np.sum(attrs) == 0.0:\n",
        "    # print \"Attributions are all ZERO\"\n",
        "    return pil_img(0*img)\n",
        "  attrs = gray_scale(attrs)\n",
        "  attrs = normalize(attrs, ptile)   \n",
        "  pos_attrs = attrs * (attrs >= 0.0)\n",
        "  neg_attrs = -1.0 * attrs * (attrs < 0.0)\n",
        "  attrs_mask = pos_attrs*pos_ch + neg_attrs*neg_ch\n",
        "  vis = 0.3*gray_scale(img) + 0.7*attrs_mask\n",
        "  return pil_img(vis)"
      ],
      "execution_count": 0,
      "outputs": []
    },
    {
      "metadata": {
        "id": "i_uhUyYiBlL7",
        "colab_type": "text"
      },
      "cell_type": "markdown",
      "source": [
        "## Extracting Invariant Candidates"
      ]
    },
    {
      "metadata": {
        "id": "RPvUSoGyFkdt",
        "colab_type": "code",
        "colab": {}
      },
      "cell_type": "code",
      "source": [
        "def fingerprint_suffix(inps):\n",
        "  # Below t_fc1 is the final fully connected layer of size 1024.\n",
        "  return (get_prediction(inps, tensor=t_fc1)>0.0).astype('int')\n",
        "\n",
        "def fingerprint_prefix(inps):\n",
        "  return (get_prediction(inps, tensor=tf.reshape(t_conv1, [-1, 14*14*32]))>0.0).astype('int')\n",
        "\n",
        "def describe_input(i):\n",
        "  print \"Groundtruth\", mnist.train.labels[i]\n",
        "  print \"Prediction\", all_predictions[i]\n",
        "  show_mnist_img(mnist.train.images[i])"
      ],
      "execution_count": 0,
      "outputs": []
    },
    {
      "metadata": {
        "id": "3QarR8VNHZNk",
        "colab_type": "code",
        "colab": {}
      },
      "cell_type": "code",
      "source": [
        "# all_suffixes, all_prefixes, all_predictions are in the same order\n",
        "# as mnist.train.images. Henceforth when we use the index i we will\n",
        "# be referring to mnist.train.images[i].\n",
        "all_suffixes = fingerprint_suffix(mnist.train.images)\n",
        "all_prefixes = fingerprint_prefix(mnist.train.images)\n",
        "all_predictions = np.argmax(get_prediction(mnist.train.images), axis=1)"
      ],
      "execution_count": 0,
      "outputs": []
    },
    {
      "metadata": {
        "id": "1fcVM2dek4Qo",
        "colab_type": "text"
      },
      "cell_type": "markdown",
      "source": [
        "### Build the Decision Tree"
      ]
    },
    {
      "metadata": {
        "id": "c_0fvX3aAWHN",
        "colab_type": "code",
        "colab": {
          "base_uri": "https://localhost:8080/",
          "height": 119
        },
        "outputId": "81cfdfff-d788-43f0-d1ce-d1828bbdcd6b"
      },
      "cell_type": "code",
      "source": [
        "estimator = tree.DecisionTreeClassifier()\n",
        "estimator.fit(all_suffixes, all_predictions)"
      ],
      "execution_count": 83,
      "outputs": [
        {
          "output_type": "execute_result",
          "data": {
            "text/plain": [
              "DecisionTreeClassifier(class_weight=None, criterion='gini', max_depth=None,\n",
              "            max_features=None, max_leaf_nodes=None,\n",
              "            min_impurity_decrease=0.0, min_impurity_split=None,\n",
              "            min_samples_leaf=1, min_samples_split=2,\n",
              "            min_weight_fraction_leaf=0.0, presort=False, random_state=None,\n",
              "            splitter='best')"
            ]
          },
          "metadata": {
            "tags": []
          },
          "execution_count": 83
        }
      ]
    },
    {
      "metadata": {
        "id": "yK1Pr1agnsoi",
        "colab_type": "text"
      },
      "cell_type": "markdown",
      "source": [
        "### Examine clusters/invariants corresponding to different inputs"
      ]
    },
    {
      "metadata": {
        "id": "ZbOQkQU0zBz6",
        "colab_type": "code",
        "colab": {}
      },
      "cell_type": "code",
      "source": [
        "def get_decision_path(estimator, inp):\n",
        "  # Extract the decision path taken by an input as an ordered list of indices\n",
        "  # of the neurons that were evaluated.\n",
        "  # See: http://scikit-learn.org/stable/auto_examples/tree/plot_unveil_tree_structure.html\n",
        "  n_nodes = estimator.tree_.node_count\n",
        "  feature = estimator.tree_.feature\n",
        "\n",
        "  # First let's retrieve the decision path of each sample. The decision_path\n",
        "  # method allows to retrieve the node indicator functions. A non zero element of\n",
        "  # indicator matrix at the position (i, j) indicates that the sample i goes\n",
        "  # through the node j.\n",
        "  X_test = [inp]\n",
        "  node_indicator = estimator.decision_path(X_test)\n",
        "  # Similarly, we can also have the leaves ids reached by each sample.\n",
        "  leaf_id = estimator.apply(X_test)\n",
        "  # Now, it's possible to get the tests that were used to predict a sample or\n",
        "  # a group of samples. First, let's make it for the sample.\n",
        "  node_index = node_indicator.indices[node_indicator.indptr[0]:\n",
        "                                      node_indicator.indptr[1]]\n",
        "  neuron_ids = []\n",
        "  for node_id in node_index:\n",
        "    if leaf_id[0] == node_id:\n",
        "        continue\n",
        "    neuron_ids.append(feature[node_id])\n",
        "  return neuron_ids\n",
        "\n",
        "def get_suffix_cluster(i, neuron_ids=range(1024)):\n",
        "  # Get the cluster of inputs that contains input at index i\n",
        "  # and such that all inputs in the cluster have the same\n",
        "  # signature for the provided neurons.\n",
        "  #\n",
        "  # When neuron_ids is set to all indices in range(1024),\n",
        "  # we are effectively asking for the cluster where all inputs\n",
        "  # have the same suffix as that of input at index i. \n",
        "  #\n",
        "  # The returned cluster is an array of indices (into mnist.train.images).\n",
        "  ref_suffix = fingerprint_suffix([mnist.train.images[i]])\n",
        "  ref_neuron_sig = ref_suffix[0, neuron_ids]\n",
        "  cluster = []\n",
        "  for i, s in enumerate(all_suffixes):\n",
        "    sig = s[neuron_ids]\n",
        "    if np.array_equal(ref_neuron_sig, sig):\n",
        "      cluster.append(i)\n",
        "  return np.array(cluster)\n",
        "\n",
        "def is_consistent_cluster(cluster):\n",
        "  # Check if all inputs within the cluster have the same prediction.\n",
        "  # 'cluster' is an array of input ids.\n",
        "  pred = all_predictions[cluster[0]]\n",
        "  for i in cluster:\n",
        "    if all_predictions[i] != pred:\n",
        "      return False\n",
        "  return True\n",
        "\n",
        "def is_misclassified(i):\n",
        "  return all_predictions[i] != mnist.train.labels[i]\n",
        "\n",
        "def visualize_conductances(img, label, neuron_ids, only_on=False):\n",
        "  # Visualize the conductances for the provided image.\n",
        "  # Args:\n",
        "  # - img: the provided mnist image\n",
        "  # - label: prediction label w.r.t. conductance must be computed\n",
        "  # - neuron_ids: list of neurons indices from the suffix tensor for which\n",
        "  #    conductances must be computed.\n",
        "  # - only_on: If True then conductance is computed only for those neurons\n",
        "  #    that are on for the given image. \n",
        "  vis = [mnist_to_pil_img(img)]\n",
        "  suffix = fingerprint_suffix([img])\n",
        "  for i, id in enumerate(neuron_ids):\n",
        "    if only_on and suffix[i] != 1:\n",
        "      continue  \n",
        "    igc = conductance(img, label, neuron_id=id)\n",
        "    # igc = conductances[id]\n",
        "    vis.append(visualize_attrs2(255*mnist_to_rgb(img), mnist_to_rgb(igc)))\n",
        "  return combine(vis)\n",
        "\n",
        "def gen_invariant(ref_id):\n",
        "  # Returns an invariant found w.r.t. the provided reference input\n",
        "  # Args\n",
        "  #  - ref_id: Index (into mnist.train.images) of the reference input\n",
        "  # Returns:\n",
        "  #  - cluster: Indices of training inputs that satisfy the invariant\n",
        "  #  - neuron_id: A list of neurons such that all inputs that agree with\n",
        "  #    the reference input on the on/off status of these neurons have the\n",
        "  #    same prediction as the reference input.\n",
        "  ref_img = mnist.train.images[ref_id]\n",
        "  ref_prediction = all_predictions[ref_id]\n",
        "  ref_suffix = all_suffixes[ref_id]\n",
        "  neuron_ids = get_decision_path(estimator, ref_suffix)\n",
        "  cluster = get_suffix_cluster(ref_id, neuron_ids)\n",
        "  return cluster, neuron_ids\n",
        "\n",
        "def describe_cluster(cluster, neuron_ids):\n",
        "  neuron_sig = all_suffixes[cluster[0]][neuron_ids]\n",
        "  print \"Num neurons in invariant\", len(neuron_ids)\n",
        "  print \"Neuron id and signature\", zip(neuron_ids, neuron_sig)\n",
        "  print \"Cluster size: \", len(cluster)\n",
        "  print \"Is Consistent cluster: \", is_consistent_cluster(cluster)\n",
        "  print \"Num misclassified\", len([i for i in cluster if is_misclassified(i)])\n"
      ],
      "execution_count": 0,
      "outputs": []
    },
    {
      "metadata": {
        "id": "KOUniL-T5-Sa",
        "colab_type": "code",
        "colab": {
          "base_uri": "https://localhost:8080/",
          "height": 498
        },
        "outputId": "7983acf4-cd58-4df0-a069-506d9a979ec5"
      },
      "cell_type": "code",
      "source": [
        "# ref_id is the index of the reference input\n",
        "ref_id = 1\n",
        "print \"### Reference Image ###\"\n",
        "describe_input(ref_id)\n",
        "print \"### Cluster ###\"\n",
        "cluster, neuron_ids = gen_invariant(ref_id)\n",
        "describe_cluster(cluster, neuron_ids)\n",
        "\n",
        "# Visualize conductances for 10 inputs in the cluster\n",
        "for i in cluster[:10]:\n",
        "  show_img(visualize_conductances(mnist.train.images[i], all_predictions[i], neuron_ids, only_on=False))"
      ],
      "execution_count": 85,
      "outputs": [
        {
          "output_type": "stream",
          "text": [
            "### Reference Image ###\n",
            "Groundtruth 4\n",
            "Prediction 4\n"
          ],
          "name": "stdout"
        },
        {
          "output_type": "display_data",
          "data": {
            "text/plain": [
              "<IPython.core.display.Image object>"
            ],
            "image/jpeg": "[encoded data removed]"
          },
          "metadata": {
            "tags": []
          }
        },
        {
          "output_type": "stream",
          "text": [
            "### Cluster ###\n",
            "Num neurons in invariant 20\n",
            "Neuron id and signature [(483, 1), (285, 1), (52, 1), (432, 0), (272, 1), (472, 0), (963, 1), (315, 0), (951, 1), (23, 0), (774, 0), (325, 0), (942, 1), (205, 0), (159, 0), (952, 0), (113, 1), (131, 0), (148, 0), (280, 1)]\n",
            "Cluster size:  440\n",
            "Is Consistent cluster:  True\n",
            "Num misclassified 6\n"
          ],
          "name": "stdout"
        },
        {
          "output_type": "display_data",
          "data": {
            "text/plain": [
              "<IPython.core.display.Image object>"
            ],
            "image/jpeg": "[encoded data removed]"
          },
          "metadata": {
            "tags": []
          }
        },
        {
          "output_type": "display_data",
          "data": {
            "text/plain": [
              "<IPython.core.display.Image object>"
            ],
            "image/jpeg": "[encoded data removed]"
          },
          "metadata": {
            "tags": []
          }
        },
        {
          "output_type": "display_data",
          "data": {
            "text/plain": [
              "<IPython.core.display.Image object>"
            ],
            "image/jpeg": "[encoded data removed]"
          },
          "metadata": {
            "tags": []
          }
        },
        {
          "output_type": "display_data",
          "data": {
            "text/plain": [
              "<IPython.core.display.Image object>"
            ],
            "image/jpeg": "[encoded data removed]"
          },
          "metadata": {
            "tags": []
          }
        },
        {
          "output_type": "display_data",
          "data": {
            "text/plain": [
              "<IPython.core.display.Image object>"
            ],
            "image/jpeg": "[encoded data removed]"
          },
          "metadata": {
            "tags": []
          }
        },
        {
          "output_type": "display_data",
          "data": {
            "text/plain": [
              "<IPython.core.display.Image object>"
            ],
            "image/jpeg": "[encoded data removed]"
          },
          "metadata": {
            "tags": []
          }
        },
        {
          "output_type": "display_data",
          "data": {
            "text/plain": [
              "<IPython.core.display.Image object>"
            ],
            "image/jpeg": "[encoded data removed]"
          },
          "metadata": {
            "tags": []
          }
        },
        {
          "output_type": "display_data",
          "data": {
            "text/plain": [
              "<IPython.core.display.Image object>"
            ],
            "image/jpeg": "[encoded data removed]"
          },
          "metadata": {
            "tags": []
          }
        },
        {
          "output_type": "display_data",
          "data": {
            "text/plain": [
              "<IPython.core.display.Image object>"
            ],
            "image/jpeg": "[encoded data removed]"
          },
          "metadata": {
            "tags": []
          }
        },
        {
          "output_type": "display_data",
          "data": {
            "text/plain": [
              "<IPython.core.display.Image object>"
            ],
            "image/jpeg": "[encoded data removed]"
          },
          "metadata": {
            "tags": []
          }
        }
      ]
    },
    {
      "metadata": {
        "id": "jU7SHWilyZjc",
        "colab_type": "text"
      },
      "cell_type": "markdown",
      "source": [
        "### Analysing clusters of misclassified inputs"
      ]
    },
    {
      "metadata": {
        "id": "_qemHYZJx0Wt",
        "colab_type": "code",
        "colab": {}
      },
      "cell_type": "code",
      "source": [
        "# mis_six contains all the misclassified sixes in the training set.\n",
        "mis_six = []\n",
        "for i in range(len(mnist.train.images)):\n",
        "  if all_predictions[i] == mnist.train.labels[i]:\n",
        "    continue\n",
        "  if mnist.train.labels[i] == 6:\n",
        "    mis_six.append(i)"
      ],
      "execution_count": 0,
      "outputs": []
    },
    {
      "metadata": {
        "id": "lYLdXYsiyKOF",
        "colab_type": "code",
        "colab": {}
      },
      "cell_type": "code",
      "source": [
        "# Let us analyze the cluster for 10 of these misclassified sixes.\n",
        "for i in mis_six[:10]:\n",
        "  print \"### Reference Image ###\"\n",
        "  describe_input(i)\n",
        "  print \"### Cluster ###\"\n",
        "  cluster, neuron_ids, neuron_sig = gen_invariant(i)\n",
        "  describe_cluster(cluster)\n",
        "  print \"\"\n",
        "  "
      ],
      "execution_count": 0,
      "outputs": []
    },
    {
      "metadata": {
        "id": "QhKV-FYLv-Eb",
        "colab_type": "text"
      },
      "cell_type": "markdown",
      "source": [
        "### Visualizing the Decision Tree"
      ]
    },
    {
      "metadata": {
        "id": "EEZ8ZeuMo_9m",
        "colab_type": "code",
        "colab": {}
      },
      "cell_type": "code",
      "source": [
        "!apt-get install graphviz\n",
        "!pip install graphviz\n",
        "import graphviz"
      ],
      "execution_count": 0,
      "outputs": []
    },
    {
      "metadata": {
        "id": "ZaOsPspkjuOe",
        "colab_type": "code",
        "colab": {}
      },
      "cell_type": "code",
      "source": [
        "dot_data = tree.export_graphviz(estimator, out_file=None) \n",
        "graph = graphviz.Source(dot_data)  \n",
        "graph "
      ],
      "execution_count": 0,
      "outputs": []
    }
  ]
}